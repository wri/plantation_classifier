{
 "cells": [
  {
   "cell_type": "markdown",
   "id": "05cdb37e-ab1b-4e49-b14f-7232173fc5f5",
   "metadata": {},
   "source": [
    "## John's code"
   ]
  },
  {
   "cell_type": "code",
   "execution_count": 26,
   "id": "6c1cba5e",
   "metadata": {},
   "outputs": [],
   "source": [
    "import tensorflow as tf\n",
    "import os\n",
    "import hickle as hkl\n",
    "import numpy as np\n",
    "import seaborn as sns\n",
    "import matplotlib.pyplot as plt\n",
    "\n",
    "import sys\n",
    "sys.path.append('../src/')\n",
    "from utils import indices\n",
    "from utils import quick_viz as viz"
   ]
  },
  {
   "cell_type": "code",
   "execution_count": 2,
   "id": "ca3964bb-bc4c-4ebc-a7d6-d5f87e9cdaa4",
   "metadata": {},
   "outputs": [
    {
     "data": {
      "text/plain": [
       "'5.0.2'"
      ]
     },
     "execution_count": 2,
     "metadata": {},
     "output_type": "execute_result"
    }
   ],
   "source": [
    "hkl.__version__"
   ]
  },
  {
   "cell_type": "code",
   "execution_count": 3,
   "id": "3cbbd35f",
   "metadata": {},
   "outputs": [],
   "source": [
    "predict_model_path = \"../models/\"\n",
    "input_path = '../data/train-ard/'\n",
    "output_path = '../data/ard-features-TEMP/'\n",
    "ARD = True"
   ]
  },
  {
   "cell_type": "code",
   "execution_count": 4,
   "id": "e8956bf2",
   "metadata": {},
   "outputs": [
    {
     "name": "stdout",
     "output_type": "stream",
     "text": [
      "Loading model from ../models/\n"
     ]
    }
   ],
   "source": [
    "## UPDATED - removed 'predict/' from all tensors bc of key error\n",
    "predict_graph_def = tf.compat.v1.GraphDef()\n",
    "if os.path.exists(predict_model_path):\n",
    "    print(f\"Loading model from {predict_model_path}\")\n",
    "    predict_file = tf.io.gfile.GFile(predict_model_path + \"predict_graph.pb\", 'rb')\n",
    "    predict_graph_def.ParseFromString(predict_file.read())\n",
    "    predict_graph = tf.import_graph_def(predict_graph_def, name='predict')\n",
    "    predict_sess = tf.compat.v1.Session(graph=predict_graph)\n",
    "    predict_logits = predict_sess.graph.get_tensor_by_name(f\"conv2d_13/Sigmoid:0\") \n",
    "    feature_extraction = predict_sess.graph.get_tensor_by_name(f\"csse_out_mul/mul:0\")  \n",
    "    feature_extraction_initial = predict_sess.graph.get_tensor_by_name(\n",
    "        \"gru_drop/drop_block2d/cond/Merge:0\")\n",
    "    predict_inp = predict_sess.graph.get_tensor_by_name(\"Placeholder:0\")\n",
    "    predict_length = predict_sess.graph.get_tensor_by_name(\"PlaceholderWithDefault:0\")\n",
    "else:\n",
    "    raise Exception(f\"The model path {predict_model_path} does not exist\")"
   ]
  },
  {
   "cell_type": "code",
   "execution_count": 5,
   "id": "e6fa4abe",
   "metadata": {},
   "outputs": [],
   "source": [
    "min_all = [0.006576638437476157, 0.0162050812542916, 0.010040436408026246, 0.013351644159609368, \n",
    "           0.01965362020294499, 0.014229037918669413, 0.015289539940489814, 0.011993591210803388, \n",
    "           0.008239871824216068, 0.006546120393682765, 0.0, 0.0, 0.0, -0.1409399364817101,\n",
    "           -0.4973397113668104, -0.09731556326714398, -0.7193834232943873]\n",
    "\n",
    "max_all = [0.2691233691920348, 0.3740291447318227, 0.5171435111009385, 0.6027466239414053, \n",
    "           0.5650263218127718, 0.5747005416952773, 0.5933928435187305, 0.6034943160143434,\n",
    "           0.7472037842374304, 0.7000076295109483, 0.509269855802243, 0.948334642387533, \n",
    "           0.6729257769285485, 0.8177635298774327, 0.35768999002433816, 0.7545951919107605, 0.7602693339366691]"
   ]
  },
  {
   "cell_type": "code",
   "execution_count": 6,
   "id": "b8d56681",
   "metadata": {},
   "outputs": [],
   "source": [
    "def convert_to_db(x: np.ndarray, min_db: int) -> np.ndarray:\n",
    "    \"\"\" Converts unitless backscatter coefficient\n",
    "        to db with a min_db lower threshold\n",
    "        \n",
    "        Parameters:\n",
    "         x (np.ndarray): unitless backscatter (T, X, Y, B) array\n",
    "         min_db (int): integer from -50 to 0\n",
    "    \n",
    "        Returns:\n",
    "         x (np.ndarray): db backscatter (T, X, Y, B) array\n",
    "    \"\"\"\n",
    "    \n",
    "    x = 10 * np.log10(x + 1/65535)\n",
    "    x[x < -min_db] = -min_db\n",
    "    x = (x + min_db) / min_db\n",
    "    return np.clip(x, 0, 1)"
   ]
  },
  {
   "cell_type": "code",
   "execution_count": 7,
   "id": "05733b57",
   "metadata": {},
   "outputs": [],
   "source": [
    "def load_sample(idx):\n",
    "    s2 = hkl.load(f\"train-s2/{str(idx)}.hkl\")\n",
    "    s2 = np.float32(s2) / 65535\n",
    "    s1 = hkl.load(f\"train-s1/{str(idx)}.hkl\")\n",
    "    slope = np.load(f\"train-slope/{str(idx)}.npy\")\n",
    "    #print(np.mean(s2), np.mean(s1), np.mean(slope))\n",
    "    return s2, s1, slope\n",
    "\n",
    "def preprocess_sample(s2, s1, slope):\n",
    "    sample = np.zeros((12, 28, 28, 17))\n",
    "\n",
    "    sample[..., :10] = s2[..., :10]\n",
    "    sample[..., 10] = slope[2:-2, 2:-2, 0]\n",
    "    sample[..., 11:13] = s1[:, 2:-2, 2:-2, :]\n",
    "\n",
    "    sample[..., 11] = convert_to_db(sample[..., 11], 22)\n",
    "    sample[..., 12] = convert_to_db(sample[..., 12], 22)\n",
    "\n",
    "    sample[..., 13] = indices.evi(sample)\n",
    "    sample[..., 14] = indices.bi(sample)\n",
    "    sample[..., 15] = indices.msavi2(sample)\n",
    "    sample[..., 16] = indices.grndvi(sample)\n",
    "\n",
    "    med = np.median(sample, axis = 0)\n",
    "    med = med[np.newaxis, :, :, :]\n",
    "    sample = np.concatenate([sample, med], axis = 0)\n",
    "    \n",
    "    for band in range(0, sample.shape[-1]):\n",
    "        mins = min_all[band]\n",
    "        maxs = max_all[band]\n",
    "        sample[..., band] = np.clip(sample[..., band], mins, maxs)\n",
    "        midrange = (maxs + mins) / 2\n",
    "        rng = maxs - mins\n",
    "        standardized = (sample[..., band] - midrange) / (rng / 2)\n",
    "        sample[..., band] = standardized\n",
    "    return sample\n",
    "\n",
    "\n",
    "def preprocess_ard_sample(ard_sample):\n",
    "\n",
    "    med = np.median(ard_sample, axis = 0)\n",
    "    med = med[np.newaxis, :, :, :]\n",
    "    ard_sample = np.concatenate([ard_sample, med], axis = 0)\n",
    "\n",
    "    # UPDATE -- added calculation of RS indices here\n",
    "    # previously not included causing shape mismatch\n",
    "    sample = np.zeros((13, 28, 28, 17))\n",
    "    sample[..., :13] = ard_sample\n",
    "    sample[..., 13] = indices.evi(ard_sample)\n",
    "    sample[..., 14] = indices.bi(ard_sample)\n",
    "    sample[..., 15] = indices.msavi2(ard_sample)\n",
    "    sample[..., 16] = indices.grndvi(ard_sample)\n",
    "    \n",
    "    for band in range(0, sample.shape[-1]):\n",
    "        mins = min_all[band]\n",
    "        maxs = max_all[band]\n",
    "        sample[..., band] = np.clip(sample[..., band], mins, maxs)\n",
    "        midrange = (maxs + mins) / 2\n",
    "        rng = maxs - mins\n",
    "        standardized = (sample[..., band] - midrange) / (rng / 2)\n",
    "        sample[..., band] = standardized\n",
    "    \n",
    "    return sample\n",
    "\n",
    "def process_single_sample(sample, sess = predict_sess):\n",
    "    \n",
    "    batch_x = sample[np.newaxis]       \n",
    "    lengths = np.full((batch_x.shape[0]), 12)\n",
    "\n",
    "    preds = predict_sess.run(predict_logits,\n",
    "                             feed_dict={predict_inp:batch_x, \n",
    "                                        predict_length:lengths})\n",
    "\n",
    "    inp_features = predict_sess.run(feature_extraction,\n",
    "                          feed_dict={predict_inp:batch_x, \n",
    "                                     predict_length:lengths})\n",
    "\n",
    "    out_features = predict_sess.run(feature_extraction_initial,\n",
    "                          feed_dict={predict_inp:batch_x, \n",
    "                                     predict_length:lengths})\n",
    "\n",
    "    all_features = np.empty((14, 14, 1+32+32))\n",
    "    all_features[..., 0] = preds.squeeze()\n",
    "    all_features[..., 1:33] = inp_features.squeeze()\n",
    "    all_features[..., 33:] = out_features.squeeze()[7:-7, 7:-7]\n",
    "    return all_features"
   ]
  },
  {
   "cell_type": "code",
   "execution_count": 8,
   "id": "59432859",
   "metadata": {},
   "outputs": [
    {
     "data": {
      "text/plain": [
       "880"
      ]
     },
     "execution_count": 8,
     "metadata": {},
     "output_type": "execute_result"
    }
   ],
   "source": [
    "# UPDATE - pad idx with leading zero here rather than waiting until output is saved\n",
    "samps = [int(x[:-4]) for x in os.listdir(f\"{input_path}/\") if '.npy' in x]\n",
    "samps = [str(x).zfill(5) if len(str(x)) < 5 else str(x) for x in samps]\n",
    "len(samps)"
   ]
  },
  {
   "cell_type": "code",
   "execution_count": 9,
   "id": "d1ad28bd",
   "metadata": {},
   "outputs": [
    {
     "name": "stderr",
     "output_type": "stream",
     "text": [
      "2024-01-11 13:36:59.022430: I tensorflow/compiler/mlir/mlir_graph_optimization_pass.cc:388] MLIR V1 optimization pass is not enabled\n"
     ]
    }
   ],
   "source": [
    "for idx in samps:\n",
    "    #if not os.path.isfile(f\"{output_path}/{idx}.hkl\"):\n",
    "    if not ARD:\n",
    "        s2, s1, slope = load_sample(idx)\n",
    "        sample = preprocess_sample(s2, s1, slope)\n",
    "    else:\n",
    "        s2 = np.load(f\"{input_path}/\" + idx + \".npy\")\n",
    "        sample = preprocess_ard_sample(s2)\n",
    "    \n",
    "    if np.prod(sample.shape[:3]) == 13 * 28 * 28:\n",
    "        all_features = process_single_sample(sample)\n",
    "        hkl.dump(all_features, \n",
    "                 f\"{output_path}/{str(idx).zfill(5)}.hkl\", \n",
    "                 mode='w', \n",
    "                 compression='gzip'\n",
    "                )\n",
    "        #print(f\"{idx} Complete\") #{np.mean(preds)"
   ]
  },
  {
   "cell_type": "code",
   "execution_count": 10,
   "id": "9ec5d856-84df-48d4-9187-2d65bc880274",
   "metadata": {},
   "outputs": [
    {
     "data": {
      "text/plain": [
       "(881, 880)"
      ]
     },
     "execution_count": 10,
     "metadata": {},
     "output_type": "execute_result"
    }
   ],
   "source": [
    "# confirm all processed\n",
    "new = os.listdir(output_path)\n",
    "old = os.listdir('../data/train-features-ard/')\n",
    "len(old), len(new)"
   ]
  },
  {
   "cell_type": "code",
   "execution_count": 11,
   "id": "db4dd1f4-ee07-43bb-9905-b99bd8aea1c5",
   "metadata": {},
   "outputs": [
    {
     "data": {
      "text/plain": [
       "['.DS_Store']"
      ]
     },
     "execution_count": 11,
     "metadata": {},
     "output_type": "execute_result"
    }
   ],
   "source": [
    "diff = [i for i in old if i not in new]\n",
    "diff"
   ]
  },
  {
   "cell_type": "code",
   "execution_count": 32,
   "id": "2761b528-b94b-4878-a540-5ade59798e87",
   "metadata": {},
   "outputs": [
    {
     "data": {
      "text/plain": [
       "((14, 14, 65), (14, 14, 65))"
      ]
     },
     "execution_count": 32,
     "metadata": {},
     "output_type": "execute_result"
    }
   ],
   "source": [
    "# visual comparison of feats for plots\n",
    "plot_id = '08026'\n",
    "new = hkl.load(f'../data/ard-features-TEMP/{plot_id}.hkl')\n",
    "old = hkl.load(f'../data/ard-features-TEMP/{plot_id}.hkl')\n",
    "new.shape, old.shape"
   ]
  },
  {
   "cell_type": "code",
   "execution_count": 37,
   "id": "0a4500d9-e473-41ca-ab96-791ccdea8177",
   "metadata": {},
   "outputs": [],
   "source": [
    "# viz.heat_compare_arrays(new[...,1], old[...,1],'new','old')\n",
    "# viz.heat_compare_arrays(new[...,2], old[...,2],'new','old')\n",
    "# viz.heat_compare_arrays(new[...,3], old[...,3],'new','old')\n",
    "# viz.heat_compare_arrays(new[...,4], old[...,4],'new','old')\n",
    "# viz.heat_compare_arrays(new[...,15], old[...,15],'new','old')\n",
    "# viz.heat_compare_arrays(new[...,17], old[...,17],'new','old')\n",
    "# viz.heat_compare_arrays(new[...,60], old[...,60],'new','old')\n"
   ]
  },
  {
   "cell_type": "markdown",
   "id": "5ab20ad7",
   "metadata": {},
   "source": [
    "# Visualizing features"
   ]
  },
  {
   "cell_type": "code",
   "execution_count": 15,
   "id": "53707b37",
   "metadata": {},
   "outputs": [],
   "source": [
    "def multiplot(matrices, nrows = 8, ncols = 4):\n",
    "    '''Docstring\n",
    "    \n",
    "         Parameters:\n",
    "          matrices (list):\n",
    "          nrows (int):\n",
    "          \n",
    "         Returns:\n",
    "          None\n",
    "    '''\n",
    "    fig, axs = plt.subplots(ncols=4, nrows = nrows)\n",
    "    fig.set_size_inches(18, 4*nrows)\n",
    "    to_iter = [[x for x in range(i, i + ncols + 1)] for i in range(0, nrows*ncols, ncols)]\n",
    "    counter = 0\n",
    "    for r in range(1, nrows + 1):\n",
    "        min_i = min(to_iter[r-1])\n",
    "        max_i = max(to_iter[r-1])\n",
    "        for i in range(ncols):\n",
    "            sns.heatmap(data = matrices[0, ..., counter], ax = axs[r - 1, i], cbar = False,\n",
    "                       cmap = sns.color_palette(\"viridis\", as_cmap=True))\n",
    "            axs[r - 1, i].set_xlabel(\"\")\n",
    "            axs[r - 1, i].set_ylabel(\"\")\n",
    "            axs[r - 1, i].set_yticks([])\n",
    "            axs[r - 1, i].set_xticks([])\n",
    "            counter += 1\n",
    "    plt.show"
   ]
  },
  {
   "cell_type": "code",
   "execution_count": 25,
   "id": "bada7f01",
   "metadata": {},
   "outputs": [],
   "source": [
    "batch_x = sample[np.newaxis]\n",
    "lengths = np.full((batch_x.shape[0]), 12)\n",
    "preds = predict_sess.run(predict_logits,\n",
    "                      feed_dict={predict_inp:batch_x, \n",
    "                                 predict_length:lengths})\n"
   ]
  },
  {
   "cell_type": "code",
   "execution_count": 26,
   "id": "70e45498",
   "metadata": {},
   "outputs": [
    {
     "data": {
      "text/plain": [
       "<matplotlib.axes._subplots.AxesSubplot at 0x7fa0eedbe490>"
      ]
     },
     "execution_count": 26,
     "metadata": {},
     "output_type": "execute_result"
    },
    {
     "data": {
      "image/png": "[encoded data removed]",
      "text/plain": [
       "<Figure size 432x288 with 2 Axes>"
      ]
     },
     "metadata": {
      "needs_background": "light"
     },
     "output_type": "display_data"
    }
   ],
   "source": [
    "import seaborn as sns\n",
    "import matplotlib.pyplot as plt\n",
    "%matplotlib inline\n",
    "sns.heatmap(preds.squeeze(), cmap = sns.color_palette(\"viridis\", as_cmap=True))"
   ]
  },
  {
   "cell_type": "code",
   "execution_count": 27,
   "id": "e1e726d7",
   "metadata": {},
   "outputs": [
    {
     "data": {
      "text/plain": [
       "<matplotlib.axes._subplots.AxesSubplot at 0x7fa0efb479d0>"
      ]
     },
     "execution_count": 27,
     "metadata": {},
     "output_type": "execute_result"
    },
    {
     "data": {
      "image/png": "[encoded data removed]",
      "text/plain": [
       "<Figure size 432x288 with 2 Axes>"
      ]
     },
     "metadata": {
      "needs_background": "light"
     },
     "output_type": "display_data"
    }
   ],
   "source": [
    "import seaborn as sns\n",
    "import matplotlib.pyplot as plt\n",
    "%matplotlib inline\n",
    "sns.heatmap(preds.squeeze(), cmap = sns.color_palette(\"viridis\", as_cmap=True))"
   ]
  },
  {
   "cell_type": "code",
   "execution_count": 28,
   "id": "7ce56d2c",
   "metadata": {},
   "outputs": [],
   "source": [
    "batch_x = sample[np.newaxis]\n",
    "lengths = np.full((batch_x.shape[0]), 12)\n",
    "preds = predict_sess.run(feature_extraction,\n",
    "                      feed_dict={predict_inp:batch_x, \n",
    "                                 predict_length:lengths})"
   ]
  },
  {
   "cell_type": "code",
   "execution_count": 34,
   "id": "795d9f71",
   "metadata": {},
   "outputs": [],
   "source": [
    "#multiplot(preds)"
   ]
  },
  {
   "cell_type": "code",
   "execution_count": 30,
   "id": "a6c2d31c",
   "metadata": {},
   "outputs": [],
   "source": [
    "batch_x = sample[np.newaxis]\n",
    "lengths = np.full((batch_x.shape[0]), 12)\n",
    "preds = predict_sess.run(feature_extraction_initial,\n",
    "                      feed_dict={predict_inp:batch_x, \n",
    "                                 predict_length:lengths})\n"
   ]
  },
  {
   "cell_type": "code",
   "execution_count": 35,
   "id": "b16a7613",
   "metadata": {},
   "outputs": [],
   "source": [
    "#multiplot(preds[:, 1:-1, 1:-1,])"
   ]
  },
  {
   "cell_type": "code",
   "execution_count": 36,
   "id": "5d1ef7a7",
   "metadata": {
    "scrolled": true
   },
   "outputs": [],
   "source": [
    "#multiplot(preds[:, 1:-1, 1:-1,])"
   ]
  },
  {
   "cell_type": "code",
   "execution_count": null,
   "id": "1a23abb7-e9e9-4ff7-b960-c23c09e4ee93",
   "metadata": {},
   "outputs": [],
   "source": []
  }
 ],
 "metadata": {
  "kernelspec": {
   "display_name": "tf2-hkl",
   "language": "python",
   "name": "tf2-hkl"
  },
  "language_info": {
   "codemirror_mode": {
    "name": "ipython",
    "version": 3
   },
   "file_extension": ".py",
   "mimetype": "text/x-python",
   "name": "python",
   "nbconvert_exporter": "python",
   "pygments_lexer": "ipython3",
   "version": "3.10.13"
  },
  "toc": {
   "base_numbering": 1,
   "nav_menu": {},
   "number_sections": true,
   "sideBar": true,
   "skip_h1_title": false,
   "title_cell": "Table of Contents",
   "title_sidebar": "Contents",
   "toc_cell": false,
   "toc_position": {},
   "toc_section_display": true,
   "toc_window_display": false
  },
  "varInspector": {
   "cols": {
    "lenName": 16,
    "lenType": 16,
    "lenVar": 40
   },
   "kernels_config": {
    "python": {
     "delete_cmd_postfix": "",
     "delete_cmd_prefix": "del ",
     "library": "var_list.py",
     "varRefreshCmd": "print(var_dic_list())"
    },
    "r": {
     "delete_cmd_postfix": ") ",
     "delete_cmd_prefix": "rm(",
     "library": "var_list.r",
     "varRefreshCmd": "cat(var_dic_list()) "
    }
   },
   "types_to_exclude": [
    "module",
    "function",
    "builtin_function_or_method",
    "instance",
    "_Feature"
   ],
   "window_display": false
  }
 },
 "nbformat": 4,
 "nbformat_minor": 5
}
