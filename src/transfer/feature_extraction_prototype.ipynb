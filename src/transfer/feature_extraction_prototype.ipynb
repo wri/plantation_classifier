{
 "cells": [
  {
   "cell_type": "markdown",
   "id": "95268796-cff7-4001-bffa-86d81971c81c",
   "metadata": {},
   "source": [
    "## Prepare training data\n",
    "\n",
    "- download ceo sample csv\n",
    "- rename plot ids\n",
    "- make_label_arrays\n",
    "- update plot ids in ceo plot csv\n",
    "- move to s3\n",
    "- plantations_ard.sh to generate ARD training data\n",
    "- sync ARD to laptop\n",
    "- feature_extraction.ipynb to generate features"
   ]
  },
  {
   "cell_type": "code",
   "execution_count": 2,
   "id": "682e5568-82df-4bf7-a1a4-2c95f387196b",
   "metadata": {},
   "outputs": [],
   "source": [
    "import tensorflow as tf\n",
    "import os\n",
    "import hickle as hkl\n",
    "import numpy as np\n",
    "import seaborn as sns\n",
    "import matplotlib.pyplot as plt\n",
    "import re \n",
    "import sys\n",
    "sys.path.append('../../src/')\n",
    "from utils import indices\n",
    "from utils import quick_viz as viz\n",
    "#from pyproj import Proj, transform\n",
    "import pandas as pd\n",
    "import rasterio as rs\n",
    "import numpy as np\n",
    "pd.options.mode.copy_on_write = False "
   ]
  },
  {
   "cell_type": "markdown",
   "id": "745e407b-68cb-478c-8f99-0b0778786ac9",
   "metadata": {},
   "source": [
    "## 1. Make point data in QGIS\n",
    "Using QGIS, create point data by dropping points inside polygons representing target land uses (monoculture, agroforestry, natural, not tree). Export as csv. Required columns include lat, lon, plot_id, as illustrated below."
   ]
  },
  {
   "cell_type": "code",
   "execution_count": 85,
   "id": "84fab185-8d0d-4fc4-bb76-d125ed672fd0",
   "metadata": {},
   "outputs": [
    {
     "data": {
      "text/html": [
       "<div>\n",
       "<style scoped>\n",
       "    .dataframe tbody tr th:only-of-type {\n",
       "        vertical-align: middle;\n",
       "    }\n",
       "\n",
       "    .dataframe tbody tr th {\n",
       "        vertical-align: top;\n",
       "    }\n",
       "\n",
       "    .dataframe thead th {\n",
       "        text-align: right;\n",
       "    }\n",
       "</style>\n",
       "<table border=\"1\" class=\"dataframe\">\n",
       "  <thead>\n",
       "    <tr style=\"text-align: right;\">\n",
       "      <th></th>\n",
       "      <th>LON</th>\n",
       "      <th>LAT</th>\n",
       "      <th>PLOTID</th>\n",
       "    </tr>\n",
       "  </thead>\n",
       "  <tbody>\n",
       "    <tr>\n",
       "      <th>0</th>\n",
       "      <td>-0.894265</td>\n",
       "      <td>6.116738</td>\n",
       "      <td>0</td>\n",
       "    </tr>\n",
       "    <tr>\n",
       "      <th>1</th>\n",
       "      <td>-0.873014</td>\n",
       "      <td>6.119955</td>\n",
       "      <td>1</td>\n",
       "    </tr>\n",
       "    <tr>\n",
       "      <th>2</th>\n",
       "      <td>-0.889195</td>\n",
       "      <td>6.098315</td>\n",
       "      <td>2</td>\n",
       "    </tr>\n",
       "    <tr>\n",
       "      <th>3</th>\n",
       "      <td>-1.337592</td>\n",
       "      <td>5.862637</td>\n",
       "      <td>3</td>\n",
       "    </tr>\n",
       "    <tr>\n",
       "      <th>4</th>\n",
       "      <td>-1.597585</td>\n",
       "      <td>5.791188</td>\n",
       "      <td>4</td>\n",
       "    </tr>\n",
       "  </tbody>\n",
       "</table>\n",
       "</div>"
      ],
      "text/plain": [
       "        LON       LAT  PLOTID\n",
       "0 -0.894265  6.116738       0\n",
       "1 -0.873014  6.119955       1\n",
       "2 -0.889195  6.098315       2\n",
       "3 -1.337592  5.862637       3\n",
       "4 -1.597585  5.791188       4"
      ]
     },
     "execution_count": 85,
     "metadata": {},
     "output_type": "execute_result"
    }
   ],
   "source": [
    "input = pd.read_csv('../../data/train_v20_raw.csv')\n",
    "input.head()"
   ]
  },
  {
   "cell_type": "markdown",
   "id": "373e025f-adbd-4323-b7e5-937d709a0dc9",
   "metadata": {},
   "source": [
    "## 2. Reference ARD\n",
    "Reference available ARD. This step checks to see where ARD is not available for a given point by cross referencing TTC tiles. **Note**: This step cannot be run without local access to TTC tifs. This step drops all points where ARD is not available, in order to save time during photointerpretation. "
   ]
  },
  {
   "cell_type": "code",
   "execution_count": 7,
   "id": "40fef558-b444-42ae-ac72-db6e0066ab42",
   "metadata": {},
   "outputs": [],
   "source": [
    "# docker container for generating ARD requires plot level survey\n",
    "\n",
    "\n",
    "def image_latlon_pxpy(local_folder, X, Y, latitude, longitude):\n",
    "    X = str(X)\n",
    "    Y = str(Y)\n",
    "    fname = f\"{local_folder}/{X}/{Y}/{X}X{Y}Y_FINAL.tif\"\n",
    "    dataset = rs.open(fname)\n",
    "    px = longitude\n",
    "    py = latitude\n",
    "    px_pc = (px - dataset.bounds.left) / (dataset.bounds.right - dataset.bounds.left)\n",
    "    py_pc = (dataset.bounds.top - py) / (dataset.bounds.top - dataset.bounds.bottom)\n",
    "    return (np.floor(px_pc*dataset.width), np.floor(py_pc*dataset.height)), dataset.height, dataset.width\n",
    "\n",
    "def check_ard_availability(local_folder, train_df, deploy_df output_df, pixel_dist=16):\n",
    "    '''\n",
    "    Given a plot level CEO csv (one row per plot), identifies where ARD is not available.\n",
    "    Identifies available data by calculating whether plot centroids are \n",
    "    >16 pixels away from a TTC tile edge.\n",
    "    Requires TTC final tifs to be stored locally for image_latlon_pxpy()\n",
    "    The output csv contains new columns X_tile and Y_tile which indicate\n",
    "    the TTC tile id. Where the row contains 0 are areas where ARD is not\n",
    "    available. \n",
    "    '''\n",
    "    train_df = pd.read_csv(train_df)\n",
    "    deploy_df = pd.read_csv(deploy_df) \n",
    "    \n",
    "    train_df['X_tile'] = 0\n",
    "    train_df['Y_tile'] = 0\n",
    "    train_df['X_px'] = 0\n",
    "    train_df['Y_px'] = 0\n",
    "    train_df['X'] = 0.\n",
    "    train_df['Y'] = 0.\n",
    "    \n",
    "    deploy_lons = deploy_df.X\n",
    "    deploy_lats = deploy_df.Y\n",
    "    \n",
    "    for i, val in train_df.iterrows():\n",
    "        try:\n",
    "            lon = val.lon\n",
    "            lat = val.lat\n",
    "            x_tile = np.argmin(abs(lon - deploy_lons))\n",
    "            lon_tile = deploy_df.X[x_tile]\n",
    "            x_tile = deploy_df.X_tile[x_tile]\n",
    "            \n",
    "            y_tile = np.argmin(abs(lat - deploy_lats))\n",
    "            lat_tile = deploy_df.Y[y_tile]\n",
    "            y_tile = deploy_df.Y_tile[y_tile]\n",
    "            \n",
    "            l, w, h = image_latlon_pxpy(local_folder, x_tile, y_tile, lat, lon)\n",
    "            \n",
    "            if l[0] > pixel_dist and l[1] > pixel_dist:\n",
    "                if l[0] < (w - pixel_dist) and l[1] < (h - pixel_dist): \n",
    "                    train_df.iloc[i, train_df.columns.get_loc('X_tile')] = x_tile\n",
    "                    train_df.iloc[i, train_df.columns.get_loc('Y_tile')] = y_tile\n",
    "    \n",
    "                    train_df.iloc[i, train_df.columns.get_loc('X')] = lon_tile\n",
    "                    train_df.iloc[i, train_df.columns.get_loc('Y')] = lat_tile\n",
    "    \n",
    "                    train_df.iloc[i, train_df.columns.get_loc('X_px')] = l[0]\n",
    "                    train_df.iloc[i, train_df.columns.get_loc('Y_px')] = l[1]\n",
    "        except:\n",
    "            continue\n",
    "            \n",
    "    # drop rows where ARD is not available\n",
    "    train_df = train_df[(train_df.X_tile != 0) & (train_df.Y_tile != 0)]\n",
    "    train_df.to_csv(output_df, index = False)\n",
    "    \n",
    "    return None"
   ]
  },
  {
   "cell_type": "code",
   "execution_count": 12,
   "id": "4bb8e21b-45e5-4d45-b2fc-07941ce16864",
   "metadata": {},
   "outputs": [
    {
     "data": {
      "text/html": [
       "<div>\n",
       "<style scoped>\n",
       "    .dataframe tbody tr th:only-of-type {\n",
       "        vertical-align: middle;\n",
       "    }\n",
       "\n",
       "    .dataframe tbody tr th {\n",
       "        vertical-align: top;\n",
       "    }\n",
       "\n",
       "    .dataframe thead th {\n",
       "        text-align: right;\n",
       "    }\n",
       "</style>\n",
       "<table border=\"1\" class=\"dataframe\">\n",
       "  <thead>\n",
       "    <tr style=\"text-align: right;\">\n",
       "      <th></th>\n",
       "      <th>plot_id</th>\n",
       "      <th>plot_fname</th>\n",
       "      <th>long</th>\n",
       "      <th>lat</th>\n",
       "      <th>X_tile</th>\n",
       "      <th>Y_tile</th>\n",
       "      <th>X_px</th>\n",
       "      <th>Y_px</th>\n",
       "      <th>X</th>\n",
       "      <th>Y</th>\n",
       "      <th>country</th>\n",
       "    </tr>\n",
       "  </thead>\n",
       "  <tbody>\n",
       "    <tr>\n",
       "      <th>0</th>\n",
       "      <td>0</td>\n",
       "      <td>21000</td>\n",
       "      <td>-0.296287</td>\n",
       "      <td>11.047547</td>\n",
       "      <td>1680</td>\n",
       "      <td>1162</td>\n",
       "      <td>404</td>\n",
       "      <td>89</td>\n",
       "      <td>-0.3056</td>\n",
       "      <td>11.0278</td>\n",
       "      <td>Ghana</td>\n",
       "    </tr>\n",
       "    <tr>\n",
       "      <th>1</th>\n",
       "      <td>1</td>\n",
       "      <td>21001</td>\n",
       "      <td>-0.296397</td>\n",
       "      <td>11.043931</td>\n",
       "      <td>1680</td>\n",
       "      <td>1162</td>\n",
       "      <td>403</td>\n",
       "      <td>129</td>\n",
       "      <td>-0.3056</td>\n",
       "      <td>11.0278</td>\n",
       "      <td>Ghana</td>\n",
       "    </tr>\n",
       "    <tr>\n",
       "      <th>2</th>\n",
       "      <td>2</td>\n",
       "      <td>21002</td>\n",
       "      <td>-0.063961</td>\n",
       "      <td>11.037859</td>\n",
       "      <td>1684</td>\n",
       "      <td>1162</td>\n",
       "      <td>513</td>\n",
       "      <td>197</td>\n",
       "      <td>-0.0833</td>\n",
       "      <td>11.0278</td>\n",
       "      <td>Ghana</td>\n",
       "    </tr>\n",
       "    <tr>\n",
       "      <th>3</th>\n",
       "      <td>3</td>\n",
       "      <td>21003</td>\n",
       "      <td>-0.072542</td>\n",
       "      <td>11.038813</td>\n",
       "      <td>1684</td>\n",
       "      <td>1162</td>\n",
       "      <td>420</td>\n",
       "      <td>186</td>\n",
       "      <td>-0.0833</td>\n",
       "      <td>11.0278</td>\n",
       "      <td>Ghana</td>\n",
       "    </tr>\n",
       "    <tr>\n",
       "      <th>4</th>\n",
       "      <td>4</td>\n",
       "      <td>21004</td>\n",
       "      <td>-0.198590</td>\n",
       "      <td>11.015392</td>\n",
       "      <td>1682</td>\n",
       "      <td>1162</td>\n",
       "      <td>257</td>\n",
       "      <td>447</td>\n",
       "      <td>-0.1944</td>\n",
       "      <td>11.0278</td>\n",
       "      <td>Ghana</td>\n",
       "    </tr>\n",
       "    <tr>\n",
       "      <th>5</th>\n",
       "      <td>5</td>\n",
       "      <td>21005</td>\n",
       "      <td>-0.195594</td>\n",
       "      <td>11.015228</td>\n",
       "      <td>1682</td>\n",
       "      <td>1162</td>\n",
       "      <td>289</td>\n",
       "      <td>448</td>\n",
       "      <td>-0.1944</td>\n",
       "      <td>11.0278</td>\n",
       "      <td>Ghana</td>\n",
       "    </tr>\n",
       "    <tr>\n",
       "      <th>6</th>\n",
       "      <td>6</td>\n",
       "      <td>21006</td>\n",
       "      <td>-0.300874</td>\n",
       "      <td>11.017021</td>\n",
       "      <td>1680</td>\n",
       "      <td>1162</td>\n",
       "      <td>354</td>\n",
       "      <td>428</td>\n",
       "      <td>-0.3056</td>\n",
       "      <td>11.0278</td>\n",
       "      <td>Ghana</td>\n",
       "    </tr>\n",
       "    <tr>\n",
       "      <th>7</th>\n",
       "      <td>7</td>\n",
       "      <td>21007</td>\n",
       "      <td>-0.294151</td>\n",
       "      <td>11.003914</td>\n",
       "      <td>1680</td>\n",
       "      <td>1162</td>\n",
       "      <td>427</td>\n",
       "      <td>574</td>\n",
       "      <td>-0.3056</td>\n",
       "      <td>11.0278</td>\n",
       "      <td>Ghana</td>\n",
       "    </tr>\n",
       "    <tr>\n",
       "      <th>8</th>\n",
       "      <td>8</td>\n",
       "      <td>21008</td>\n",
       "      <td>-0.292840</td>\n",
       "      <td>10.996686</td>\n",
       "      <td>1680</td>\n",
       "      <td>1161</td>\n",
       "      <td>441</td>\n",
       "      <td>36</td>\n",
       "      <td>-0.3056</td>\n",
       "      <td>10.9722</td>\n",
       "      <td>Ghana</td>\n",
       "    </tr>\n",
       "    <tr>\n",
       "      <th>9</th>\n",
       "      <td>9</td>\n",
       "      <td>21009</td>\n",
       "      <td>-1.475804</td>\n",
       "      <td>10.838375</td>\n",
       "      <td>1659</td>\n",
       "      <td>1159</td>\n",
       "      <td>263</td>\n",
       "      <td>561</td>\n",
       "      <td>-1.4722</td>\n",
       "      <td>10.8611</td>\n",
       "      <td>Ghana</td>\n",
       "    </tr>\n",
       "  </tbody>\n",
       "</table>\n",
       "</div>"
      ],
      "text/plain": [
       "   plot_id  plot_fname      long        lat  X_tile  Y_tile  X_px  Y_px  \\\n",
       "0        0       21000 -0.296287  11.047547    1680    1162   404    89   \n",
       "1        1       21001 -0.296397  11.043931    1680    1162   403   129   \n",
       "2        2       21002 -0.063961  11.037859    1684    1162   513   197   \n",
       "3        3       21003 -0.072542  11.038813    1684    1162   420   186   \n",
       "4        4       21004 -0.198590  11.015392    1682    1162   257   447   \n",
       "5        5       21005 -0.195594  11.015228    1682    1162   289   448   \n",
       "6        6       21006 -0.300874  11.017021    1680    1162   354   428   \n",
       "7        7       21007 -0.294151  11.003914    1680    1162   427   574   \n",
       "8        8       21008 -0.292840  10.996686    1680    1161   441    36   \n",
       "9        9       21009 -1.475804  10.838375    1659    1159   263   561   \n",
       "\n",
       "        X        Y country  \n",
       "0 -0.3056  11.0278   Ghana  \n",
       "1 -0.3056  11.0278   Ghana  \n",
       "2 -0.0833  11.0278   Ghana  \n",
       "3 -0.0833  11.0278   Ghana  \n",
       "4 -0.1944  11.0278   Ghana  \n",
       "5 -0.1944  11.0278   Ghana  \n",
       "6 -0.3056  11.0278   Ghana  \n",
       "7 -0.3056  11.0278   Ghana  \n",
       "8 -0.3056  10.9722   Ghana  \n",
       "9 -1.4722  10.8611   Ghana  "
      ]
     },
     "execution_count": 12,
     "metadata": {},
     "output_type": "execute_result"
    }
   ],
   "source": [
    "# cannot run bc ttc tiles not stored locally\n",
    "ceo_version = 21\n",
    "check_ard_availability(local_folder = \"local folder storing ttc tiles\",\n",
    "                        train_df = \"plot csv from collect earth\",\n",
    "                        deploy_df = \"local folder / america-africa-europe.csv\",  # TTC tile grid \n",
    "                        output_df = f'../../data/ceo-plantations-train-v{ceo_version}-sample-data.csv',\n",
    "                        pixel_dist=16\n",
    "                        )\n",
    "\n",
    "# the output of step 2. Reference ARD\n",
    "df = pd.read_csv('../../data/ceo-plantations-train-v21_ard.csv')\n",
    "df.head(10)"
   ]
  },
  {
   "cell_type": "markdown",
   "id": "d170dbcb-1dcf-41cd-8a3c-e6a6cc3ca0a3",
   "metadata": {},
   "source": [
    "## 3. Complete CEO survey\n",
    "Create CEO survey with plot csv. Complete photointerpretation and download the sample csv."
   ]
  },
  {
   "cell_type": "code",
   "execution_count": 88,
   "id": "a75e5030-66f8-4e91-8d7d-f72c906b98c7",
   "metadata": {},
   "outputs": [
    {
     "data": {
      "text/html": [
       "<div>\n",
       "<style scoped>\n",
       "    .dataframe tbody tr th:only-of-type {\n",
       "        vertical-align: middle;\n",
       "    }\n",
       "\n",
       "    .dataframe tbody tr th {\n",
       "        vertical-align: top;\n",
       "    }\n",
       "\n",
       "    .dataframe thead th {\n",
       "        text-align: right;\n",
       "    }\n",
       "</style>\n",
       "<table border=\"1\" class=\"dataframe\">\n",
       "  <thead>\n",
       "    <tr style=\"text-align: right;\">\n",
       "      <th></th>\n",
       "      <th>plotid</th>\n",
       "      <th>sampleid</th>\n",
       "      <th>lon</th>\n",
       "      <th>lat</th>\n",
       "      <th>email</th>\n",
       "      <th>flagged</th>\n",
       "      <th>collection_time</th>\n",
       "      <th>analysis_duration</th>\n",
       "      <th>imagery_title</th>\n",
       "      <th>imagery_attributions</th>\n",
       "      <th>sample_geom</th>\n",
       "      <th>pl_area</th>\n",
       "      <th>pl_perimeter</th>\n",
       "      <th>pl_reserve_na</th>\n",
       "      <th>System</th>\n",
       "    </tr>\n",
       "  </thead>\n",
       "  <tbody>\n",
       "    <tr>\n",
       "      <th>0</th>\n",
       "      <td>0</td>\n",
       "      <td>-195</td>\n",
       "      <td>-0.296882</td>\n",
       "      <td>11.046963</td>\n",
       "      <td>jessica.ertel@wri.org</td>\n",
       "      <td>False</td>\n",
       "      <td>2024-01-25 16:05</td>\n",
       "      <td>5.4 secs</td>\n",
       "      <td>Mapbox Satellite</td>\n",
       "      <td>NaN</td>\n",
       "      <td>POINT(-0.296882249875727 11.046962764482586)</td>\n",
       "      <td>2366270.0</td>\n",
       "      <td>2366270.0</td>\n",
       "      <td>Zawsi</td>\n",
       "      <td>Not plantation</td>\n",
       "    </tr>\n",
       "    <tr>\n",
       "      <th>1</th>\n",
       "      <td>0</td>\n",
       "      <td>-194</td>\n",
       "      <td>-0.296882</td>\n",
       "      <td>11.047053</td>\n",
       "      <td>jessica.ertel@wri.org</td>\n",
       "      <td>False</td>\n",
       "      <td>2024-01-25 16:05</td>\n",
       "      <td>5.4 secs</td>\n",
       "      <td>Mapbox Satellite</td>\n",
       "      <td>NaN</td>\n",
       "      <td>POINT(-0.296882249875727 11.047052596176258)</td>\n",
       "      <td>2366270.0</td>\n",
       "      <td>2366270.0</td>\n",
       "      <td>Zawsi</td>\n",
       "      <td>Not plantation</td>\n",
       "    </tr>\n",
       "    <tr>\n",
       "      <th>2</th>\n",
       "      <td>0</td>\n",
       "      <td>-193</td>\n",
       "      <td>-0.296882</td>\n",
       "      <td>11.047142</td>\n",
       "      <td>jessica.ertel@wri.org</td>\n",
       "      <td>False</td>\n",
       "      <td>2024-01-25 16:05</td>\n",
       "      <td>5.4 secs</td>\n",
       "      <td>Mapbox Satellite</td>\n",
       "      <td>NaN</td>\n",
       "      <td>POINT(-0.296882249875727 11.047142427842445)</td>\n",
       "      <td>2366270.0</td>\n",
       "      <td>2366270.0</td>\n",
       "      <td>Zawsi</td>\n",
       "      <td>Not plantation</td>\n",
       "    </tr>\n",
       "    <tr>\n",
       "      <th>3</th>\n",
       "      <td>0</td>\n",
       "      <td>-192</td>\n",
       "      <td>-0.296882</td>\n",
       "      <td>11.047232</td>\n",
       "      <td>jessica.ertel@wri.org</td>\n",
       "      <td>False</td>\n",
       "      <td>2024-01-25 16:05</td>\n",
       "      <td>5.4 secs</td>\n",
       "      <td>Mapbox Satellite</td>\n",
       "      <td>NaN</td>\n",
       "      <td>POINT(-0.296882249875727 11.047232259481163)</td>\n",
       "      <td>2366270.0</td>\n",
       "      <td>2366270.0</td>\n",
       "      <td>Zawsi</td>\n",
       "      <td>Not plantation</td>\n",
       "    </tr>\n",
       "    <tr>\n",
       "      <th>4</th>\n",
       "      <td>0</td>\n",
       "      <td>-191</td>\n",
       "      <td>-0.296882</td>\n",
       "      <td>11.047322</td>\n",
       "      <td>jessica.ertel@wri.org</td>\n",
       "      <td>False</td>\n",
       "      <td>2024-01-25 16:05</td>\n",
       "      <td>5.4 secs</td>\n",
       "      <td>Mapbox Satellite</td>\n",
       "      <td>NaN</td>\n",
       "      <td>POINT(-0.296882249875727 11.047322091092326)</td>\n",
       "      <td>2366270.0</td>\n",
       "      <td>2366270.0</td>\n",
       "      <td>Zawsi</td>\n",
       "      <td>Not plantation</td>\n",
       "    </tr>\n",
       "  </tbody>\n",
       "</table>\n",
       "</div>"
      ],
      "text/plain": [
       "   plotid  sampleid       lon        lat                  email  flagged  \\\n",
       "0       0      -195 -0.296882  11.046963  jessica.ertel@wri.org    False   \n",
       "1       0      -194 -0.296882  11.047053  jessica.ertel@wri.org    False   \n",
       "2       0      -193 -0.296882  11.047142  jessica.ertel@wri.org    False   \n",
       "3       0      -192 -0.296882  11.047232  jessica.ertel@wri.org    False   \n",
       "4       0      -191 -0.296882  11.047322  jessica.ertel@wri.org    False   \n",
       "\n",
       "    collection_time analysis_duration     imagery_title  imagery_attributions  \\\n",
       "0  2024-01-25 16:05          5.4 secs  Mapbox Satellite                   NaN   \n",
       "1  2024-01-25 16:05          5.4 secs  Mapbox Satellite                   NaN   \n",
       "2  2024-01-25 16:05          5.4 secs  Mapbox Satellite                   NaN   \n",
       "3  2024-01-25 16:05          5.4 secs  Mapbox Satellite                   NaN   \n",
       "4  2024-01-25 16:05          5.4 secs  Mapbox Satellite                   NaN   \n",
       "\n",
       "                                    sample_geom    pl_area  pl_perimeter  \\\n",
       "0  POINT(-0.296882249875727 11.046962764482586)  2366270.0     2366270.0   \n",
       "1  POINT(-0.296882249875727 11.047052596176258)  2366270.0     2366270.0   \n",
       "2  POINT(-0.296882249875727 11.047142427842445)  2366270.0     2366270.0   \n",
       "3  POINT(-0.296882249875727 11.047232259481163)  2366270.0     2366270.0   \n",
       "4  POINT(-0.296882249875727 11.047322091092326)  2366270.0     2366270.0   \n",
       "\n",
       "  pl_reserve_na          System  \n",
       "0         Zawsi  Not plantation  \n",
       "1         Zawsi  Not plantation  \n",
       "2         Zawsi  Not plantation  \n",
       "3         Zawsi  Not plantation  \n",
       "4         Zawsi  Not plantation  "
      ]
     },
     "execution_count": 88,
     "metadata": {},
     "output_type": "execute_result"
    }
   ],
   "source": [
    "ceo_output = pd.read_csv('../../data/ceo-plantations-train-v21-sample-data.csv')\n",
    "ceo_output.head()"
   ]
  },
  {
   "cell_type": "markdown",
   "id": "add7439d-d9f9-45d7-97ac-0983449494fe",
   "metadata": {},
   "source": [
    "## 4. Create unique plot ids\n",
    "Cleans up any potential inconsistencies from the last step with respect to column names. Adds numerical label column as well as column for unique plot id naming convention."
   ]
  },
  {
   "cell_type": "code",
   "execution_count": 41,
   "id": "7c049ca9-d23c-410e-8b97-bf0dcf9315a2",
   "metadata": {},
   "outputs": [],
   "source": [
    "def create_unique_plotids(ceo_version):\n",
    "    '''\n",
    "    Perform simple clean up of columns\n",
    "    and creates a unique plot fname using the\n",
    "    ceo version ex: 08001, 08002\n",
    "\n",
    "    This requires the labeled sample csv from collect earth\n",
    "    '''\n",
    "    csv_path = (f'../../data/ceo-plantations-train-v{ceo_version}-sample-data.csv')\n",
    "    out_path = (f'../../data/ceo-plantations-train-v{ceo_version}.csv')\n",
    "    df = pd.read_csv(csv_path, encoding = \"ISO-8859-1\")\n",
    "    df.columns = [re.sub(r'\\W+', '', x) for x in df.columns]\n",
    "    df.rename(columns={'ïplotid':'plotid'}, inplace=True)\n",
    "    df.columns = [x.upper() for x in df.columns]\n",
    "    df.columns = ['PLOT_ID' if x == 'PLOTID' else x for x in df.columns]\n",
    "    df.columns = ['SAMPLE_ID' if x == 'SAMPLEID' else x for x in df.columns]\n",
    "    \n",
    "    # create a col for plot fname and plantation labels\n",
    "    df['PLOT_FNAME'] = '0' \n",
    "    df['PLANTATION'] = df.SYSTEM.map({'Not plantation': 0, \n",
    "                                    'Monoculture': 1,\n",
    "                                    'Agroforestry': 2,\n",
    "                                    'Unknown': 255})\n",
    "    if len(df) > 0:\n",
    "        plot_ids = []\n",
    "        counter = 0\n",
    "        for index, row in df.iterrows():\n",
    "            if row['PLOT_ID'] not in plot_ids:\n",
    "                plot_ids.append(row['PLOT_ID'])\n",
    "                counter += 1\n",
    "            df['PLOT_FNAME'][index] = f\"{str(ceo_version).zfill(2)}{str(counter).zfill(3)}\"\n",
    "\n",
    "    # drop unecessary rows and columns\n",
    "    keep_columns = ['PLOT_ID', 'SAMPLE_ID', 'LON', 'LAT', 'PLANTATION', 'PLOT_FNAME'] \n",
    "    for column in df.columns:\n",
    "        if column not in keep_columns:\n",
    "            df = df.drop(column, axis = 1)\n",
    "    df = df.dropna(axis = 0)\n",
    "    print(\"WRITING CSV...\")\n",
    "    df.to_csv(out_path, index = False)\n",
    "    \n",
    "    return df\n",
    "    \n",
    "def reconstruct_images(df, plot):\n",
    "    '''\n",
    "    Reconstructs an image for a specified plot ID from a pandas \n",
    "    DataFrame. Filters the df by plot id then organizes the plantation\n",
    "    label into a 2D array based on unique lat/lon values, \n",
    "    maintaining the order of latitudes in descending order and longitudes\n",
    "    in ascending order within each latitude.\n",
    "\n",
    "    Returns:\n",
    "        rows (list of lists): A 2D list where each sublist represents \n",
    "        plantation data for a specific latitude, organized in ascending \n",
    "        order of longitude. If 'PLANTATION' column is present, it returns the \n",
    "        plantation labels; otherwise, the list will be empty.\n",
    "    '''\n",
    "    \n",
    "    subs = df[df['PLOT_ID'] == plot]\n",
    "    rows = []\n",
    "\n",
    "    # reversed() computes the reverse of a given sequence \n",
    "    # object and returns it in the form of a list.\n",
    "    lats = reversed(sorted(subs['LAT'].unique()))\n",
    "\n",
    "    for i, val in enumerate(lats):\n",
    "\n",
    "        # filter to row\n",
    "        subs_lat = subs[subs['LAT'] == val]\n",
    "        subs_lat = subs_lat.sort_values('LON', axis = 0)\n",
    "        if 'PLANTATION' in df.columns:\n",
    "            rows.append(list(subs_lat['PLANTATION']))\n",
    "        else:\n",
    "            print(df.columns)\n",
    "\n",
    "    return rows\n",
    "\n",
    "def create_label_arrays(ceo_version, output_folder='../../data/train-labels/'):\n",
    "    '''\n",
    "    Cleans the dataframe for the given CEO\n",
    "    survey, then creates a label array for each \n",
    "    plot in the survey\n",
    "    '''\n",
    "    df = create_unique_plotids(ceo_version)\n",
    "    plot_ids = sorted(df['PLOT_ID'].unique())\n",
    "    plot_fname = sorted(df['PLOT_FNAME'].unique())\n",
    "    print(f'Creating label arrays for v{ceo_version}.')\n",
    "    for i, x in zip(plot_ids, plot_fname):\n",
    "        plot = reconstruct_images(df, i)\n",
    "        plot = np.array(plot)\n",
    "        np.save(f\"{output_folder}{str(x).zfill(5)}.npy\", plot)\n",
    "\n",
    "    return None"
   ]
  },
  {
   "cell_type": "code",
   "execution_count": 40,
   "id": "930efdf2-6411-4c14-8f15-65c203e33608",
   "metadata": {},
   "outputs": [
    {
     "name": "stderr",
     "output_type": "stream",
     "text": [
      "/var/folders/1v/8qs7l7157sddx1_9z9wqldrc0000gp/T/ipykernel_31128/2993261352.py:33: SettingWithCopyWarning: \n",
      "A value is trying to be set on a copy of a slice from a DataFrame\n",
      "\n",
      "See the caveats in the documentation: https://pandas.pydata.org/pandas-docs/stable/user_guide/indexing.html#returning-a-view-versus-a-copy\n",
      "  df['PLOT_FNAME'][index] = f\"{str(ceo_version).zfill(2)}{str(counter).zfill(3)}\"\n"
     ]
    },
    {
     "name": "stdout",
     "output_type": "stream",
     "text": [
      "WRITING CSV...\n"
     ]
    }
   ],
   "source": [
    "create_label_arrays(22)"
   ]
  },
  {
   "cell_type": "code",
   "execution_count": 44,
   "id": "42e0d3fb-ffe3-4807-a53f-038b743e5aff",
   "metadata": {},
   "outputs": [
    {
     "data": {
      "text/plain": [
       "<AxesSubplot: >"
      ]
     },
     "execution_count": 44,
     "metadata": {},
     "output_type": "execute_result"
    },
    {
     "data": {
      "image/png": "[encoded data removed]",
      "text/plain": [
       "<Figure size 640x480 with 2 Axes>"
      ]
     },
     "metadata": {},
     "output_type": "display_data"
    }
   ],
   "source": [
    "import seaborn as sns\n",
    "import matplotlib.pyplot as plt\n",
    "%matplotlib inline\n",
    "img = np.load('../../data/train-labels/22244.npy')\n",
    "sns.heatmap(img, cmap = sns.color_palette(\"viridis\", as_cmap=True)) "
   ]
  },
  {
   "cell_type": "code",
   "execution_count": null,
   "id": "ca79c13e-e10f-46a6-86ad-29e53fb1c87d",
   "metadata": {},
   "outputs": [],
   "source": [
    "# sync label arrays and ceo csv to s3\n",
    "# s3://restoration-monitoring/plantation-mapping/data/train/train-csv/"
   ]
  },
  {
   "cell_type": "code",
   "execution_count": null,
   "id": "07e0d8bb-3a17-45a5-9664-7817aa05453c",
   "metadata": {},
   "outputs": [],
   "source": [
    "# generate ARD training data\n",
    "# bash plantations_train_job.sh where the arguments are passed\n",
    "# bash plantations_train_job.sh 0 250 Ghana 2020 'csv_path.csv' "
   ]
  },
  {
   "cell_type": "code",
   "execution_count": null,
   "id": "992be7ae-43c7-4069-b015-3a9d77e6f879",
   "metadata": {},
   "outputs": [],
   "source": [
    "# create features"
   ]
  },
  {
   "cell_type": "code",
   "execution_count": 64,
   "id": "52f2a16d-ca53-4e14-a3d2-f34f43016ea5",
   "metadata": {},
   "outputs": [],
   "source": [
    "def preprocess_ard_sample(ard_sample):\n",
    "    '''\n",
    "    Calculates 4 remote sensing indices from ARD sample\n",
    "    and performs scaling. Mins and maxs are provided.\n",
    "    input ard should have shape (12, 28, 28, 13) \n",
    "    in median calculation, a new axis is added\n",
    "    which is why the output sample has shape (13, 28, 28, 17)\n",
    "    '''\n",
    "    min_all = [0.006576638437476157, 0.0162050812542916, 0.010040436408026246, 0.013351644159609368, \n",
    "           0.01965362020294499, 0.014229037918669413, 0.015289539940489814, 0.011993591210803388, \n",
    "           0.008239871824216068, 0.006546120393682765, 0.0, 0.0, 0.0, -0.1409399364817101,\n",
    "           -0.4973397113668104, -0.09731556326714398, -0.7193834232943873]\n",
    "\n",
    "    max_all = [0.2691233691920348, 0.3740291447318227, 0.5171435111009385, 0.6027466239414053, \n",
    "           0.5650263218127718, 0.5747005416952773, 0.5933928435187305, 0.6034943160143434,\n",
    "           0.7472037842374304, 0.7000076295109483, 0.509269855802243, 0.948334642387533, \n",
    "           0.6729257769285485, 0.8177635298774327, 0.35768999002433816, 0.7545951919107605, 0.7602693339366691]\n",
    "\n",
    "    med = np.median(ard_sample, axis = 0)\n",
    "    med = med[np.newaxis, :, :, :]\n",
    "    ard_sample = np.concatenate([ard_sample, med], axis = 0)     \n",
    "\n",
    "    # UPDATE -- added calculation of RS indices here\n",
    "    # previously not included causing shape mismatch\n",
    "    sample = np.zeros((13, 28, 28, 17))\n",
    "    sample[..., :13] = ard_sample\n",
    "    sample[..., 13] = indices.evi(ard_sample)\n",
    "    sample[..., 14] = indices.bi(ard_sample)\n",
    "    sample[..., 15] = indices.msavi2(ard_sample)\n",
    "    sample[..., 16] = indices.grndvi(ard_sample) \n",
    "    \n",
    "    for band in range(0, sample.shape[-1]):\n",
    "        mins = min_all[band]\n",
    "        maxs = max_all[band]\n",
    "        sample[..., band] = np.clip(sample[..., band], mins, maxs)\n",
    "        midrange = (maxs + mins) / 2\n",
    "        rng = maxs - mins\n",
    "        standardized = (sample[..., band] - midrange) / (rng / 2)\n",
    "        sample[..., band] = standardized\n",
    "    \n",
    "    return sample\n",
    "\n",
    "def extract_feats(sample, predict_sess):\n",
    "    '''\n",
    "    performs feature extraction for a given sample\n",
    "    and creates a new array of ttc features with shape\n",
    "    (14, 14, 65)\n",
    "    '''\n",
    "    \n",
    "    batch_x = sample[np.newaxis]       \n",
    "    lengths = np.full((batch_x.shape[0]), 12)\n",
    "\n",
    "    preds = predict_sess.run(predict_logits,\n",
    "                             feed_dict={predict_inp:batch_x, \n",
    "                                        predict_length:lengths})\n",
    "\n",
    "    inp_features = predict_sess.run(feature_extraction,\n",
    "                          feed_dict={predict_inp:batch_x, \n",
    "                                     predict_length:lengths})\n",
    "\n",
    "    out_features = predict_sess.run(feature_extraction_initial,\n",
    "                          feed_dict={predict_inp:batch_x, \n",
    "                                     predict_length:lengths})\n",
    "\n",
    "    all_features = np.empty((14, 14, 1+32+32))\n",
    "    all_features[..., 0] = preds.squeeze()\n",
    "    all_features[..., 1:33] = inp_features.squeeze()\n",
    "    all_features[..., 33:] = out_features.squeeze()[7:-7, 7:-7]\n",
    "    return all_features \n",
    "    \n",
    "def generate_ttc_features(predict_model_path, input_path, output_path = '../../data/ard-features/'):\n",
    "    '''\n",
    "    Uses the imported model to extract TTC features for \n",
    "    '''\n",
    "\n",
    "    ## UPDATED - removed 'predict/' from all tensors bc of key error\n",
    "    predict_graph_def = tf.compat.v1.GraphDef()\n",
    "    if os.path.exists(predict_model_path):\n",
    "        print(f\"Loading model at {predict_model_path}\")\n",
    "        predict_file = tf.io.gfile.GFile(predict_model_path, 'rb')\n",
    "        predict_graph_def.ParseFromString(predict_file.read())\n",
    "        predict_graph = tf.import_graph_def(predict_graph_def, name='predict')\n",
    "        predict_sess = tf.compat.v1.Session(graph=predict_graph)\n",
    "        predict_logits = predict_sess.graph.get_tensor_by_name(f\"conv2d_13/Sigmoid:0\") \n",
    "        feature_extraction = predict_sess.graph.get_tensor_by_name(f\"csse_out_mul/mul:0\")  \n",
    "        feature_extraction_initial = predict_sess.graph.get_tensor_by_name(\n",
    "            \"gru_drop/drop_block2d/cond/Merge:0\")\n",
    "        predict_inp = predict_sess.graph.get_tensor_by_name(\"Placeholder:0\")\n",
    "        predict_length = predict_sess.graph.get_tensor_by_name(\"PlaceholderWithDefault:0\")\n",
    "    else:\n",
    "        raise Exception(f\"The model path {predict_model_path} does not exist\")\n",
    "    \n",
    "    # UPDATE - pad idx with leading zero here rather than waiting until output is saved\n",
    "    samps = [int(x[:-4]) for x in os.listdir(f\"{input_path}/\") if '.hkl' in x]\n",
    "    samps = [i for i in samps if i >= 21000 and i < 23000] # REMOVE ME\n",
    "    samps = [str(x).zfill(5) if len(str(x)) < 5 else str(x) for x in samps]\n",
    "\n",
    "    # manually removing tiles that have errors\n",
    "    samps.remove('22181')\n",
    "    samps.remove('22193')\n",
    "    samps.remove('22130')\n",
    "    print(f\"Extracting features for {len(samps)} samples\")\n",
    "    \n",
    "    for idx in samps:\n",
    "        print(f\"Processing {idx}\")\n",
    "\n",
    "        # load ard and if it has rs indices incorporated\n",
    "        # drop them so shape aligns with other training batches\n",
    "        ard = hkl.load(f\"{input_path}\" + idx + \".hkl\")\n",
    "        assert ard.shape == (12,28,28,13)\n",
    "        if ard.shape[-1] == 17:\n",
    "            ard = ard[:, :, :, :-4]\n",
    "            assert ard.shape[-1] == 13\n",
    "            hkl.dump(ard, \n",
    "                     f\"{input_path}\" + idx + \".hkl\", \n",
    "                     mode='w', \n",
    "                     compression='gzip')\n",
    "            print(f\"Saved updated ard for {idx}.hkl\")\n",
    "        \n",
    "        # preprocess the modified ard sample\n",
    "        sample = preprocess_ard_sample(ard)\n",
    "\n",
    "        # extract features for that sample\n",
    "        if np.prod(sample.shape[:3]) == 13 * 28 * 28:\n",
    "            batch_x = sample[np.newaxis]       \n",
    "            lengths = np.full((batch_x.shape[0]), 12)\n",
    "        \n",
    "            preds = predict_sess.run(predict_logits,\n",
    "                                     feed_dict={predict_inp:batch_x, \n",
    "                                                predict_length:lengths})\n",
    "        \n",
    "            inp_features = predict_sess.run(feature_extraction,\n",
    "                                  feed_dict={predict_inp:batch_x, \n",
    "                                             predict_length:lengths})\n",
    "        \n",
    "            out_features = predict_sess.run(feature_extraction_initial,\n",
    "                                  feed_dict={predict_inp:batch_x, \n",
    "                                             predict_length:lengths})\n",
    "        \n",
    "            all_features = np.empty((14, 14, 1+32+32))\n",
    "            all_features[..., 0] = preds.squeeze()\n",
    "            all_features[..., 1:33] = inp_features.squeeze()\n",
    "            all_features[..., 33:] = out_features.squeeze()[7:-7, 7:-7]\n",
    "            \n",
    "            \n",
    "            hkl.dump(all_features, \n",
    "                     f\"{output_path}/{str(idx).zfill(5)}.hkl\", \n",
    "                     mode='w', \n",
    "                     compression='gzip'\n",
    "                    )\n",
    "            print(f\"{idx} Complete\")\n",
    "            \n",
    "    return None"
   ]
  },
  {
   "cell_type": "code",
   "execution_count": 65,
   "id": "1fe507b0-6836-4c89-8ed6-75f084002f73",
   "metadata": {},
   "outputs": [
    {
     "name": "stdout",
     "output_type": "stream",
     "text": [
      "Loading model at ../../models/predict_graph.pb\n",
      "Extracting features for 498 samples\n",
      "Processing 22157\n"
     ]
    },
    {
     "ename": "ValueError",
     "evalue": "could not broadcast input array from shape (13,28,28,13) into shape (12,28,28,13)",
     "output_type": "error",
     "traceback": [
      "\u001b[0;31m---------------------------------------------------------------------------\u001b[0m",
      "\u001b[0;31mValueError\u001b[0m                                Traceback (most recent call last)",
      "Cell \u001b[0;32mIn[65], line 1\u001b[0m\n\u001b[0;32m----> 1\u001b[0m \u001b[43mgenerate_ttc_features\u001b[49m\u001b[43m(\u001b[49m\u001b[43mpredict_model_path\u001b[49m\u001b[43m \u001b[49m\u001b[38;5;241;43m=\u001b[39;49m\u001b[43m \u001b[49m\u001b[38;5;124;43m\"\u001b[39;49m\u001b[38;5;124;43m../../models/predict_graph.pb\u001b[39;49m\u001b[38;5;124;43m\"\u001b[39;49m\u001b[43m,\u001b[49m\n\u001b[1;32m      2\u001b[0m \u001b[43m                          \u001b[49m\u001b[43minput_path\u001b[49m\u001b[43m \u001b[49m\u001b[38;5;241;43m=\u001b[39;49m\u001b[43m \u001b[49m\u001b[38;5;124;43m'\u001b[39;49m\u001b[38;5;124;43m../../data/train-ard/\u001b[39;49m\u001b[38;5;124;43m'\u001b[39;49m\u001b[43m,\u001b[49m\n\u001b[1;32m      3\u001b[0m \u001b[43m                          \u001b[49m\u001b[43moutput_path\u001b[49m\u001b[43m \u001b[49m\u001b[38;5;241;43m=\u001b[39;49m\u001b[43m \u001b[49m\u001b[38;5;124;43m'\u001b[39;49m\u001b[38;5;124;43m../../data/train-features-ard/\u001b[39;49m\u001b[38;5;124;43m'\u001b[39;49m\u001b[43m)\u001b[49m\n",
      "Cell \u001b[0;32mIn[64], line 119\u001b[0m, in \u001b[0;36mgenerate_ttc_features\u001b[0;34m(predict_model_path, input_path, output_path)\u001b[0m\n\u001b[1;32m    108\u001b[0m \u001b[38;5;28;01massert\u001b[39;00m ard\u001b[38;5;241m.\u001b[39mshape \u001b[38;5;241m==\u001b[39m (\u001b[38;5;241m12\u001b[39m,\u001b[38;5;241m28\u001b[39m,\u001b[38;5;241m28\u001b[39m,\u001b[38;5;241m13\u001b[39m)\n\u001b[1;32m    109\u001b[0m \u001b[38;5;66;03m# if ard.shape[-1] == 17:\u001b[39;00m\n\u001b[1;32m    110\u001b[0m \u001b[38;5;66;03m#     ard = ard[:, :, :, :-4]\u001b[39;00m\n\u001b[1;32m    111\u001b[0m \u001b[38;5;66;03m#     assert ard.shape[-1] == 13\u001b[39;00m\n\u001b[0;32m   (...)\u001b[0m\n\u001b[1;32m    117\u001b[0m \n\u001b[1;32m    118\u001b[0m \u001b[38;5;66;03m# preprocess the modified ard sample\u001b[39;00m\n\u001b[0;32m--> 119\u001b[0m sample \u001b[38;5;241m=\u001b[39m \u001b[43mpreprocess_ard_sample\u001b[49m\u001b[43m(\u001b[49m\u001b[43mard\u001b[49m\u001b[43m)\u001b[49m\n\u001b[1;32m    121\u001b[0m \u001b[38;5;66;03m# extract features for that sample\u001b[39;00m\n\u001b[1;32m    122\u001b[0m \u001b[38;5;28;01mif\u001b[39;00m np\u001b[38;5;241m.\u001b[39mprod(sample\u001b[38;5;241m.\u001b[39mshape[:\u001b[38;5;241m3\u001b[39m]) \u001b[38;5;241m==\u001b[39m \u001b[38;5;241m13\u001b[39m \u001b[38;5;241m*\u001b[39m \u001b[38;5;241m28\u001b[39m \u001b[38;5;241m*\u001b[39m \u001b[38;5;241m28\u001b[39m:\n",
      "Cell \u001b[0;32mIn[64], line 24\u001b[0m, in \u001b[0;36mpreprocess_ard_sample\u001b[0;34m(ard_sample)\u001b[0m\n\u001b[1;32m     21\u001b[0m \u001b[38;5;66;03m# UPDATE -- added calculation of RS indices here\u001b[39;00m\n\u001b[1;32m     22\u001b[0m \u001b[38;5;66;03m# previously not included causing shape mismatch\u001b[39;00m\n\u001b[1;32m     23\u001b[0m sample \u001b[38;5;241m=\u001b[39m np\u001b[38;5;241m.\u001b[39mzeros((\u001b[38;5;241m12\u001b[39m, \u001b[38;5;241m28\u001b[39m, \u001b[38;5;241m28\u001b[39m, \u001b[38;5;241m17\u001b[39m))\n\u001b[0;32m---> 24\u001b[0m \u001b[43msample\u001b[49m\u001b[43m[\u001b[49m\u001b[38;5;241;43m.\u001b[39;49m\u001b[38;5;241;43m.\u001b[39;49m\u001b[38;5;241;43m.\u001b[39;49m\u001b[43m,\u001b[49m\u001b[43m \u001b[49m\u001b[43m:\u001b[49m\u001b[38;5;241;43m13\u001b[39;49m\u001b[43m]\u001b[49m \u001b[38;5;241m=\u001b[39m ard_sample\n\u001b[1;32m     25\u001b[0m sample[\u001b[38;5;241m.\u001b[39m\u001b[38;5;241m.\u001b[39m\u001b[38;5;241m.\u001b[39m, \u001b[38;5;241m13\u001b[39m] \u001b[38;5;241m=\u001b[39m indices\u001b[38;5;241m.\u001b[39mevi(ard_sample)\n\u001b[1;32m     26\u001b[0m sample[\u001b[38;5;241m.\u001b[39m\u001b[38;5;241m.\u001b[39m\u001b[38;5;241m.\u001b[39m, \u001b[38;5;241m14\u001b[39m] \u001b[38;5;241m=\u001b[39m indices\u001b[38;5;241m.\u001b[39mbi(ard_sample)\n",
      "\u001b[0;31mValueError\u001b[0m: could not broadcast input array from shape (13,28,28,13) into shape (12,28,28,13)"
     ]
    }
   ],
   "source": [
    "generate_ttc_features(predict_model_path = \"../../models/predict_graph.pb\",\n",
    "                          input_path = '../../data/train-ard/',\n",
    "                          output_path = '../../data/train-features-ard/')"
   ]
  },
  {
   "cell_type": "code",
   "execution_count": 50,
   "id": "09c2ab80-171b-459d-bae4-6ae269e9c721",
   "metadata": {},
   "outputs": [
    {
     "data": {
      "text/plain": [
       "((12, 28, 28, 13), (12, 28, 28, 13))"
      ]
     },
     "execution_count": 50,
     "metadata": {},
     "output_type": "execute_result"
    }
   ],
   "source": [
    "ard_v20 = hkl.load('../../data/train-ard/20001.hkl')\n",
    "ard_v21 = hkl.load('../../data/train-ard/22152.hkl')\n",
    "ard_v20.shape, ard_v21.shape"
   ]
  },
  {
   "cell_type": "code",
   "execution_count": 55,
   "id": "e989ad86-2679-418c-b4e6-c7083303f0d8",
   "metadata": {},
   "outputs": [
    {
     "data": {
      "text/plain": [
       "<Axes: >"
      ]
     },
     "execution_count": 55,
     "metadata": {},
     "output_type": "execute_result"
    },
    {
     "data": {
      "image/png": "[encoded data removed]",
      "text/plain": [
       "<Figure size 640x480 with 2 Axes>"
      ]
     },
     "metadata": {},
     "output_type": "display_data"
    }
   ],
   "source": [
    "# check the labels for these tiles\n",
    "# samps.remove('22181') # this will be dropped\n",
    "# samps.remove('22193')\n",
    "# samps.remove('22130') # this will be dropped\n",
    "img = np.load('../../data/train-labels/22130.npy')\n",
    "sns.heatmap(img, cmap = sns.color_palette(\"viridis\", as_cmap=True)) "
   ]
  },
  {
   "cell_type": "code",
   "execution_count": 56,
   "id": "d23efd57-2a13-4129-bf3e-1a756b31dc70",
   "metadata": {},
   "outputs": [
    {
     "data": {
      "text/plain": [
       "array([255])"
      ]
     },
     "execution_count": 56,
     "metadata": {},
     "output_type": "execute_result"
    }
   ],
   "source": [
    "np.unique(img)"
   ]
  },
  {
   "cell_type": "code",
   "execution_count": 39,
   "id": "e43ef39c-3563-42bc-a70c-a83650edbafc",
   "metadata": {},
   "outputs": [
    {
     "data": {
      "text/plain": [
       "1378"
      ]
     },
     "execution_count": 39,
     "metadata": {},
     "output_type": "execute_result"
    }
   ],
   "source": [
    "len(os.listdir('../../data/train-features-ard/'))"
   ]
  },
  {
   "cell_type": "code",
   "execution_count": 41,
   "id": "fdef200e-64f1-40ac-b696-4b5070903781",
   "metadata": {},
   "outputs": [
    {
     "data": {
      "text/plain": [
       "1384"
      ]
     },
     "execution_count": 41,
     "metadata": {},
     "output_type": "execute_result"
    }
   ],
   "source": [
    "len(os.listdir('../../data/train-ard/'))"
   ]
  },
  {
   "cell_type": "code",
   "execution_count": 17,
   "id": "b56042f9-d998-40fe-8af6-f068bb09236d",
   "metadata": {},
   "outputs": [
    {
     "data": {
      "text/plain": [
       "503"
      ]
     },
     "execution_count": 17,
     "metadata": {},
     "output_type": "execute_result"
    }
   ],
   "source": [
    "1384-881"
   ]
  },
  {
   "cell_type": "code",
   "execution_count": 63,
   "id": "1c0d5020-c8e3-4ce0-a139-a849b3c7933b",
   "metadata": {},
   "outputs": [
    {
     "data": {
      "text/plain": [
       "(12, 28, 28, 13)"
      ]
     },
     "execution_count": 63,
     "metadata": {},
     "output_type": "execute_result"
    }
   ],
   "source": [
    "ard = hkl.load('../../data/train-ard/22157.hkl')\n",
    "ard.shape"
   ]
  },
  {
   "cell_type": "code",
   "execution_count": 70,
   "id": "f25632fe-cc04-41f3-9632-58adfcbe8ec4",
   "metadata": {},
   "outputs": [
    {
     "data": {
      "text/plain": [
       "(14, 14, 65)"
      ]
     },
     "execution_count": 70,
     "metadata": {},
     "output_type": "execute_result"
    }
   ],
   "source": [
    "ttc = hkl.load('../../data/train-features-ard/22134.hkl')\n",
    "ttc.shape"
   ]
  },
  {
   "cell_type": "code",
   "execution_count": 83,
   "id": "7c334fa2-2c8c-4f12-8772-01a9ac629059",
   "metadata": {},
   "outputs": [
    {
     "data": {
      "text/plain": [
       "(14, 14, 65)"
      ]
     },
     "execution_count": 83,
     "metadata": {},
     "output_type": "execute_result"
    }
   ],
   "source": [
    "ttc = hkl.load('../../data/train-features-ard/21175.hkl')\n",
    "ttc.shape"
   ]
  },
  {
   "cell_type": "code",
   "execution_count": 84,
   "id": "1cf8b11f-8b05-4754-a2fc-80fc9c6397fc",
   "metadata": {},
   "outputs": [
    {
     "data": {
      "text/plain": [
       "<Axes: >"
      ]
     },
     "execution_count": 84,
     "metadata": {},
     "output_type": "execute_result"
    },
    {
     "data": {
      "image/png": "[encoded data removed]",
      "text/plain": [
       "<Figure size 640x480 with 2 Axes>"
      ]
     },
     "metadata": {},
     "output_type": "display_data"
    }
   ],
   "source": [
    "ttc = ttc[..., 0]\n",
    "sns.heatmap(ttc, cmap = sns.color_palette(\"viridis\", as_cmap=True)) "
   ]
  },
  {
   "cell_type": "code",
   "execution_count": null,
   "id": "8174919a-a0c4-4728-bf2f-17a2a9d4f869",
   "metadata": {},
   "outputs": [],
   "source": []
  }
 ],
 "metadata": {
  "kernelspec": {
   "display_name": "tf2-hkl",
   "language": "python",
   "name": "tf2-hkl"
  },
  "language_info": {
   "codemirror_mode": {
    "name": "ipython",
    "version": 3
   },
   "file_extension": ".py",
   "mimetype": "text/x-python",
   "name": "python",
   "nbconvert_exporter": "python",
   "pygments_lexer": "ipython3",
   "version": "3.10.13"
  }
 },
 "nbformat": 4,
 "nbformat_minor": 5
}
