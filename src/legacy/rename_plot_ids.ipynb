{
 "cells": [
  {
   "cell_type": "code",
   "execution_count": 1,
   "id": "7273a45b",
   "metadata": {},
   "outputs": [],
   "source": [
    "import re \n",
    "import pandas as pd\n",
    "import os"
   ]
  },
  {
   "cell_type": "code",
   "execution_count": 3,
   "id": "25b2f52b",
   "metadata": {},
   "outputs": [
    {
     "data": {
      "text/html": [
       "<div>\n",
       "<style scoped>\n",
       "    .dataframe tbody tr th:only-of-type {\n",
       "        vertical-align: middle;\n",
       "    }\n",
       "\n",
       "    .dataframe tbody tr th {\n",
       "        vertical-align: top;\n",
       "    }\n",
       "\n",
       "    .dataframe thead th {\n",
       "        text-align: right;\n",
       "    }\n",
       "</style>\n",
       "<table border=\"1\" class=\"dataframe\">\n",
       "  <thead>\n",
       "    <tr style=\"text-align: right;\">\n",
       "      <th></th>\n",
       "      <th>X</th>\n",
       "      <th>Y</th>\n",
       "      <th>Y_tile</th>\n",
       "      <th>X_tile</th>\n",
       "      <th>country</th>\n",
       "    </tr>\n",
       "  </thead>\n",
       "  <tbody>\n",
       "    <tr>\n",
       "      <th>0</th>\n",
       "      <td>-0.4167</td>\n",
       "      <td>11.0833</td>\n",
       "      <td>1163</td>\n",
       "      <td>1678</td>\n",
       "      <td>Ghana</td>\n",
       "    </tr>\n",
       "    <tr>\n",
       "      <th>1</th>\n",
       "      <td>-0.3611</td>\n",
       "      <td>11.0833</td>\n",
       "      <td>1163</td>\n",
       "      <td>1679</td>\n",
       "      <td>Ghana</td>\n",
       "    </tr>\n",
       "    <tr>\n",
       "      <th>2</th>\n",
       "      <td>-0.5278</td>\n",
       "      <td>11.0278</td>\n",
       "      <td>1162</td>\n",
       "      <td>1676</td>\n",
       "      <td>Ghana</td>\n",
       "    </tr>\n",
       "    <tr>\n",
       "      <th>3</th>\n",
       "      <td>-0.4722</td>\n",
       "      <td>11.0278</td>\n",
       "      <td>1162</td>\n",
       "      <td>1677</td>\n",
       "      <td>Ghana</td>\n",
       "    </tr>\n",
       "    <tr>\n",
       "      <th>4</th>\n",
       "      <td>-0.4167</td>\n",
       "      <td>11.0278</td>\n",
       "      <td>1162</td>\n",
       "      <td>1678</td>\n",
       "      <td>Ghana</td>\n",
       "    </tr>\n",
       "  </tbody>\n",
       "</table>\n",
       "</div>"
      ],
      "text/plain": [
       "        X        Y  Y_tile  X_tile country\n",
       "0 -0.4167  11.0833    1163    1678   Ghana\n",
       "1 -0.3611  11.0833    1163    1679   Ghana\n",
       "2 -0.5278  11.0278    1162    1676   Ghana\n",
       "3 -0.4722  11.0278    1162    1677   Ghana\n",
       "4 -0.4167  11.0278    1162    1678   Ghana"
      ]
     },
     "execution_count": 3,
     "metadata": {},
     "output_type": "execute_result"
    }
   ],
   "source": [
    "# create csv of random ghana tiles\n",
    "df = pd.read_csv('../../data/ghana.csv')\n",
    "df.head()"
   ]
  },
  {
   "cell_type": "code",
   "execution_count": 4,
   "id": "8b210f4c",
   "metadata": {},
   "outputs": [
    {
     "data": {
      "text/plain": [
       "6342"
      ]
     },
     "execution_count": 4,
     "metadata": {},
     "output_type": "execute_result"
    }
   ],
   "source": [
    "len(df)"
   ]
  },
  {
   "cell_type": "code",
   "execution_count": 5,
   "id": "559be620",
   "metadata": {},
   "outputs": [
    {
     "data": {
      "text/plain": [
       "array([5956, 1434, 1047, 5113, 3258, 5950, 4380, 1490, 1099, 3949, 2474,\n",
       "        201, 1500, 2475, 3299, 1057, 1564,  960, 2692, 5161, 4103, 5479,\n",
       "       1916, 2405, 4651])"
      ]
     },
     "execution_count": 5,
     "metadata": {},
     "output_type": "execute_result"
    }
   ],
   "source": [
    "indices = np.random.randint(0, len(df), 25)\n",
    "indices"
   ]
  },
  {
   "cell_type": "code",
   "execution_count": 6,
   "id": "221434e0",
   "metadata": {},
   "outputs": [],
   "source": [
    "random_df = df[df.index.isin(indices)]"
   ]
  },
  {
   "cell_type": "code",
   "execution_count": 8,
   "id": "61a63307",
   "metadata": {},
   "outputs": [],
   "source": [
    "random_df.to_csv('../../data/random.csv', index=True)"
   ]
  },
  {
   "cell_type": "code",
   "execution_count": 8,
   "id": "7ad11b68",
   "metadata": {},
   "outputs": [
    {
     "name": "stdout",
     "output_type": "stream",
     "text": [
      "['ceo-plantations-train-v15.csv']\n",
      "15\n"
     ]
    },
    {
     "name": "stderr",
     "output_type": "stream",
     "text": [
      "<ipython-input-8-7886bc710ac3>:37: SettingWithCopyWarning: \n",
      "A value is trying to be set on a copy of a slice from a DataFrame\n",
      "\n",
      "See the caveats in the documentation: https://pandas.pydata.org/pandas-docs/stable/user_guide/indexing.html#returning-a-view-versus-a-copy\n",
      "  df['PLOT_FNAME'][index] = f\"{str(i[-6:-4]).zfill(2)}{str(counter).zfill(3)}\"\n"
     ]
    },
    {
     "name": "stdout",
     "output_type": "stream",
     "text": [
      "WRITING CSV\n"
     ]
    }
   ],
   "source": [
    "csv_path = 'train-csv/'\n",
    "cols_to_keep = ['PLOT_ID', 'SAMPLE_ID', 'LON', 'LAT', 'FLAGGED', 'ANALYSES', 'USER_ID',\n",
    "       'COLLECTION_TIME', 'ANALYSIS_DURATION', 'TREE', 'plotid', 'sampleid']\n",
    "csvs = [x for x in sorted(os.listdir(csv_path)) if \"15\" in x]\n",
    "csvs = [x for x in csvs if \".csv\" in x]\n",
    "\n",
    "\n",
    "print(csvs)\n",
    "\n",
    "dfs = []\n",
    "for i in csvs:\n",
    "    df = pd.read_csv(csv_path + i, encoding = \"ISO-8859-1\")\n",
    "    #print(i, len(df) / 196)\n",
    "    df.columns = [re.sub(r'\\W+', '', x) for x in df.columns]\n",
    "    df.rename(columns={'ïplotid':'plotid'}, inplace=True)\n",
    "    df.columns = [x.upper() for x in df.columns]\n",
    "    df.columns = ['PLOT_ID' if x == 'PLOTID' else x for x in df.columns]\n",
    "    df.columns = ['SAMPLE_ID' if x == 'SAMPLEID' else x for x in df.columns]\n",
    "    df = df.rename(columns={df.columns[0]: 'PLOT_ID'})\n",
    "    df = df.reset_index()\n",
    "    df['PLOT_FNAME'] = '0'\n",
    "    #print(i, df['PLOT_ID'][0])\n",
    "    #print(i, len(df) / 196)\n",
    "    print(f\"{str(i[-6:-4]).zfill(2)}\")\n",
    "    \n",
    "    if len(df) > 0:\n",
    "        counter = 0\n",
    "        plot_ids = []\n",
    "        for index, row in df.iterrows():\n",
    "            if row['PLOT_ID'] not in plot_ids:\n",
    "                plot_ids.append(row['PLOT_ID'])\n",
    "                counter += 1\n",
    "            df['PLOT_FNAME'][index] = f\"{str(i[-6:-4]).zfill(2)}{str(counter).zfill(3)}\"\n",
    "        print(\"WRITING CSV\")\n",
    "        df.to_csv(csv_path + i, index = False)\n",
    "    \n",
    "    # If there are no unique IDs already, go ahead and assign them\n",
    "        #if abs(df['PLOT_ID'][0]) == 1:\n",
    "            #print(df['PLOT_ID'][0])\n",
    "            #print(f\"No unique ID for {i}\")\n",
    "            #for index, row in df.iterrows():\n",
    "                #row['PLOT_ID'] = abs(row['PLOT_ID'])\n",
    "                #df['PLOT_ID'][index] = str(i[-6:-4]).zfill(2) + '00' + str(row['PLOT_ID'])"
   ]
  },
  {
   "cell_type": "code",
   "execution_count": null,
   "id": "6e83b229",
   "metadata": {},
   "outputs": [],
   "source": []
  }
 ],
 "metadata": {
  "kernelspec": {
   "display_name": "plantations5",
   "language": "python",
   "name": "plantations5"
  },
  "language_info": {
   "codemirror_mode": {
    "name": "ipython",
    "version": 3
   },
   "file_extension": ".py",
   "mimetype": "text/x-python",
   "name": "python",
   "nbconvert_exporter": "python",
   "pygments_lexer": "ipython3",
   "version": "3.10.13"
  },
  "toc": {
   "base_numbering": 1,
   "nav_menu": {},
   "number_sections": true,
   "sideBar": true,
   "skip_h1_title": false,
   "title_cell": "Table of Contents",
   "title_sidebar": "Contents",
   "toc_cell": false,
   "toc_position": {},
   "toc_section_display": true,
   "toc_window_display": false
  },
  "varInspector": {
   "cols": {
    "lenName": 16,
    "lenType": 16,
    "lenVar": 40
   },
   "kernels_config": {
    "python": {
     "delete_cmd_postfix": "",
     "delete_cmd_prefix": "del ",
     "library": "var_list.py",
     "varRefreshCmd": "print(var_dic_list())"
    },
    "r": {
     "delete_cmd_postfix": ") ",
     "delete_cmd_prefix": "rm(",
     "library": "var_list.r",
     "varRefreshCmd": "cat(var_dic_list()) "
    }
   },
   "types_to_exclude": [
    "module",
    "function",
    "builtin_function_or_method",
    "instance",
    "_Feature"
   ],
   "window_display": false
  }
 },
 "nbformat": 4,
 "nbformat_minor": 5
}
