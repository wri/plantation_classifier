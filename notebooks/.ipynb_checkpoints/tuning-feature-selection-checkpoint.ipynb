{
 "cells": [
  {
   "cell_type": "markdown",
   "id": "16fc12a5",
   "metadata": {},
   "source": [
    "# Model Tuning\n",
    "\n",
    "This notebook includes a hyperparameter tuning and feature selection exercise for the top performing MVP model. The objective is to narrow down which TML features and hyperparameters will be used in the next phase of scaling to jurisdictional scale maps."
   ]
  },
  {
   "cell_type": "code",
   "execution_count": 2,
   "id": "ce100d5f",
   "metadata": {},
   "outputs": [
    {
     "name": "stdout",
     "output_type": "stream",
     "text": [
      "The autoreload extension is already loaded. To reload it, use:\n",
      "  %reload_ext autoreload\n"
     ]
    }
   ],
   "source": [
    "import matplotlib.pyplot as plt\n",
    "import sys\n",
    "sys.path.append('../src/')\n",
    "import prepare_data as pp\n",
    "import run_preds as rp\n",
    "import score_classifier as score\n",
    "import pandas as pd\n",
    "import pickle\n",
    "from catboost import CatBoostClassifier\n",
    "from sklearn.model_selection import cross_val_score, GridSearchCV, RandomizedSearchCV\n",
    "from sklearn.metrics import roc_curve, roc_auc_score, precision_recall_curve, f1_score, precision_score, recall_score, confusion_matrix, ConfusionMatrixDisplay\n",
    "\n",
    "%load_ext autoreload\n",
    "%autoreload 2"
   ]
  },
  {
   "cell_type": "markdown",
   "id": "c7df8f91",
   "metadata": {},
   "source": [
    "## Feature Selection\n",
    "Evaluate feature importance for the top performing MVP model (Catboost). This will help to reduce overfitting and training time, while improving accuracy by removing misleading data and noise. Narrow down the 78 features to the top 10-15.  \n",
    "\n",
    "  \n",
    "Index 0: slope  \n",
    "Index 1-3: s1  \n",
    "Index 3-13: s2  \n",
    "Index 13-78: TML features (78 is TML tree probability)"
   ]
  },
  {
   "cell_type": "code",
   "execution_count": 32,
   "id": "14061f37",
   "metadata": {},
   "outputs": [
    {
     "data": {
      "text/html": [
       "<div>\n",
       "<style scoped>\n",
       "    .dataframe tbody tr th:only-of-type {\n",
       "        vertical-align: middle;\n",
       "    }\n",
       "\n",
       "    .dataframe tbody tr th {\n",
       "        vertical-align: top;\n",
       "    }\n",
       "\n",
       "    .dataframe thead th {\n",
       "        text-align: right;\n",
       "    }\n",
       "</style>\n",
       "<table border=\"1\" class=\"dataframe\">\n",
       "  <thead>\n",
       "    <tr style=\"text-align: right;\">\n",
       "      <th></th>\n",
       "      <th>model</th>\n",
       "      <th>cv</th>\n",
       "      <th>train_score</th>\n",
       "      <th>test_score</th>\n",
       "      <th>roc_auc</th>\n",
       "      <th>precision</th>\n",
       "      <th>recall</th>\n",
       "      <th>f1</th>\n",
       "    </tr>\n",
       "  </thead>\n",
       "  <tbody>\n",
       "    <tr>\n",
       "      <th>29</th>\n",
       "      <td>cat_model_v10</td>\n",
       "      <td>0.8884</td>\n",
       "      <td>0.9972</td>\n",
       "      <td>0.8523</td>\n",
       "      <td>0.9291</td>\n",
       "      <td>0.9239</td>\n",
       "      <td>0.7847</td>\n",
       "      <td>0.8487</td>\n",
       "    </tr>\n",
       "    <tr>\n",
       "      <th>16</th>\n",
       "      <td>cat_model_v10_np</td>\n",
       "      <td>0.8908</td>\n",
       "      <td>0.9969</td>\n",
       "      <td>0.8518</td>\n",
       "      <td>0.9302</td>\n",
       "      <td>0.9210</td>\n",
       "      <td>0.7865</td>\n",
       "      <td>0.8485</td>\n",
       "    </tr>\n",
       "    <tr>\n",
       "      <th>27</th>\n",
       "      <td>lgbm_model_v10</td>\n",
       "      <td>0.8846</td>\n",
       "      <td>0.9892</td>\n",
       "      <td>0.8500</td>\n",
       "      <td>0.9297</td>\n",
       "      <td>0.9232</td>\n",
       "      <td>0.7806</td>\n",
       "      <td>0.8459</td>\n",
       "    </tr>\n",
       "    <tr>\n",
       "      <th>28</th>\n",
       "      <td>xgb_model_v10</td>\n",
       "      <td>0.8858</td>\n",
       "      <td>0.9999</td>\n",
       "      <td>0.8490</td>\n",
       "      <td>0.9259</td>\n",
       "      <td>0.9168</td>\n",
       "      <td>0.7850</td>\n",
       "      <td>0.8458</td>\n",
       "    </tr>\n",
       "    <tr>\n",
       "      <th>25</th>\n",
       "      <td>rfc_model_v10</td>\n",
       "      <td>0.8815</td>\n",
       "      <td>1.0000</td>\n",
       "      <td>0.8487</td>\n",
       "      <td>0.9216</td>\n",
       "      <td>0.9322</td>\n",
       "      <td>0.7693</td>\n",
       "      <td>0.8429</td>\n",
       "    </tr>\n",
       "  </tbody>\n",
       "</table>\n",
       "</div>"
      ],
      "text/plain": [
       "               model      cv  train_score  test_score  roc_auc  precision  \\\n",
       "29     cat_model_v10  0.8884       0.9972      0.8523   0.9291     0.9239   \n",
       "16  cat_model_v10_np  0.8908       0.9969      0.8518   0.9302     0.9210   \n",
       "27    lgbm_model_v10  0.8846       0.9892      0.8500   0.9297     0.9232   \n",
       "28     xgb_model_v10  0.8858       0.9999      0.8490   0.9259     0.9168   \n",
       "25     rfc_model_v10  0.8815       1.0000      0.8487   0.9216     0.9322   \n",
       "\n",
       "    recall      f1  \n",
       "29  0.7847  0.8487  \n",
       "16  0.7865  0.8485  \n",
       "27  0.7806  0.8459  \n",
       "28  0.7850  0.8458  \n",
       "25  0.7693  0.8429  "
      ]
     },
     "execution_count": 32,
     "metadata": {},
     "output_type": "execute_result"
    }
   ],
   "source": [
    "# identify top performing model\n",
    "df = pd.read_csv('../models/mvp_scores.csv')\n",
    "df.sort_values(by=['test_score','roc_auc'], ascending=False)[:5]"
   ]
  },
  {
   "cell_type": "code",
   "execution_count": 35,
   "id": "4bf43c27",
   "metadata": {},
   "outputs": [
    {
     "data": {
      "text/plain": [
       "array([ 7, 67,  9, 12,  5, 11,  3,  0, 15, 10, 34, 18,  6, 61,  4])"
      ]
     },
     "execution_count": 35,
     "metadata": {},
     "output_type": "execute_result"
    }
   ],
   "source": [
    "# load best model\n",
    "model_name, v_train_data = 'cat', 'v10'\n",
    "filename = f'../models/{model_name}_model_{v_train_data}.pkl'\n",
    "with open(filename, 'rb') as file:\n",
    "    model = pickle.load(file)\n",
    "\n",
    "# get initial read of feature importance\n",
    "feats = model.get_feature_importance()\n",
    "\n",
    "# get indices of most important features (sorted by importance)\n",
    "feats_ordered = np.argsort(feats)[::-1]\n",
    "feats_ordered\n",
    "\n",
    "top15 = feats_ordered[:15]\n",
    "top15"
   ]
  },
  {
   "cell_type": "code",
   "execution_count": 4,
   "id": "7711a3a2",
   "metadata": {},
   "outputs": [
    {
     "name": "stdout",
     "output_type": "stream",
     "text": [
      "Training data includes 265 plot ids.\n",
      "Baseline: 0.491\n"
     ]
    }
   ],
   "source": [
    "# quick test to see if we can get better performance using only top 15 feats\n",
    "X, y = pp.create_xy((14, 14), ['v3', 'v4', 'v10'], drop_prob=False, drop_feats=False, verbose=False)\n",
    "X_train_ss, X_test_ss, y_train, y_test = pp.reshape_and_scale(X, y)"
   ]
  },
  {
   "cell_type": "code",
   "execution_count": 5,
   "id": "af384ede",
   "metadata": {},
   "outputs": [],
   "source": [
    "# filter to selected features\n",
    "X_train_selected = X_train_ss[:, top15]\n",
    "X_test_selected = X_test_ss[:, top15]\n",
    "X_train_selected.shape, X_test_selected.shape, y_train.shape, y_test.shape"
   ]
  },
  {
   "cell_type": "code",
   "execution_count": 10,
   "id": "f1d05b44",
   "metadata": {},
   "outputs": [
    {
     "name": "stdout",
     "output_type": "stream",
     "text": [
      "cv: 0.8926\n",
      "train: 0.9916\n",
      "test: 0.8354\n",
      "roc_auc: 0.9234\n",
      "precision: 0.9135\n",
      "recall: 0.76\n",
      "f1: 0.8297\n"
     ]
    }
   ],
   "source": [
    "cat_15feats = CatBoostClassifier(verbose=False, random_state=22)\n",
    "cat_15feats.fit(X_train_selected, y_train)\n",
    "\n",
    "# score new model\n",
    "score.print_scores(cat_15feats, X_train_selected, y_train, X_test_selected, y_test)"
   ]
  },
  {
   "cell_type": "code",
   "execution_count": 38,
   "id": "7f323e0b",
   "metadata": {},
   "outputs": [
    {
     "name": "stdout",
     "output_type": "stream",
     "text": [
      "Training data includes 265 plot ids.\n",
      "Baseline: 0.491\n",
      "cv: 0.8936\n",
      "train: 0.996\n",
      "test: 0.8526\n",
      "roc_auc: 0.9299\n",
      "precision: 0.9229\n",
      "recall: 0.7863\n",
      "f1: 0.8491\n"
     ]
    }
   ],
   "source": [
    "# better performance using top 30 feats?\n",
    "X, y = pp.create_xy((14, 14), ['v3', 'v4', 'v10'], drop_prob=False, drop_feats=False, verbose=False)\n",
    "X_train_ss, X_test_ss, y_train, y_test = pp.reshape_and_scale(X, y)\n",
    "\n",
    "# filter to top 30 features\n",
    "top30 = feats_ordered[:30]\n",
    "X_train_selected = X_train_ss[:, top30]\n",
    "X_test_selected = X_test_ss[:, top30]\n",
    "\n",
    "cat_30feats = CatBoostClassifier(verbose=False, random_state=22)\n",
    "cat_30feats.fit(X_train_selected, y_train)\n",
    "score.print_scores(cat_30feats, X_train_selected, X_test_selected, y_train, y_test)"
   ]
  },
  {
   "cell_type": "code",
   "execution_count": 52,
   "id": "99ae172d",
   "metadata": {},
   "outputs": [
    {
     "data": {
      "text/html": [
       "<div>\n",
       "<style scoped>\n",
       "    .dataframe tbody tr th:only-of-type {\n",
       "        vertical-align: middle;\n",
       "    }\n",
       "\n",
       "    .dataframe tbody tr th {\n",
       "        vertical-align: top;\n",
       "    }\n",
       "\n",
       "    .dataframe thead th {\n",
       "        text-align: right;\n",
       "    }\n",
       "</style>\n",
       "<table border=\"1\" class=\"dataframe\">\n",
       "  <thead>\n",
       "    <tr style=\"text-align: right;\">\n",
       "      <th></th>\n",
       "      <th>model</th>\n",
       "      <th>cv</th>\n",
       "      <th>train_score</th>\n",
       "      <th>test_score</th>\n",
       "      <th>roc_auc</th>\n",
       "      <th>precision</th>\n",
       "      <th>recall</th>\n",
       "      <th>f1</th>\n",
       "    </tr>\n",
       "  </thead>\n",
       "  <tbody>\n",
       "    <tr>\n",
       "      <th>29</th>\n",
       "      <td>cat_model_v10</td>\n",
       "      <td>0.8884</td>\n",
       "      <td>0.9972</td>\n",
       "      <td>0.8523</td>\n",
       "      <td>0.9291</td>\n",
       "      <td>0.9239</td>\n",
       "      <td>0.7847</td>\n",
       "      <td>0.8487</td>\n",
       "    </tr>\n",
       "  </tbody>\n",
       "</table>\n",
       "</div>"
      ],
      "text/plain": [
       "            model      cv  train_score  test_score  roc_auc  precision  \\\n",
       "29  cat_model_v10  0.8884       0.9972      0.8523   0.9291     0.9239   \n",
       "\n",
       "    recall      f1  \n",
       "29  0.7847  0.8487  "
      ]
     },
     "execution_count": 52,
     "metadata": {},
     "output_type": "execute_result"
    }
   ],
   "source": [
    "df.sort_values(by=['test_score','roc_auc'], ascending=False)[:1]"
   ]
  },
  {
   "cell_type": "markdown",
   "id": "61ad2581",
   "metadata": {},
   "source": [
    "### Check consistency across regions"
   ]
  },
  {
   "cell_type": "code",
   "execution_count": 33,
   "id": "acac4cf5",
   "metadata": {},
   "outputs": [
    {
     "data": {
      "text/plain": [
       "array([ 7,  3,  5, 67,  9,  4, 11, 12, 18,  8, 10, 44, 37,  6, 63, 32, 66,\n",
       "       20, 61, 40, 51, 26, 55,  0, 43, 33, 13, 31, 21, 39, 23, 19, 38, 46,\n",
       "       34, 17, 16,  2, 73, 41, 45, 59, 47, 29, 35, 64, 42, 54, 14, 30, 24,\n",
       "       65, 22, 27, 57, 36, 60, 25, 49, 58, 53, 69, 56, 15, 28, 77, 68, 50,\n",
       "       76, 72, 70, 48, 62, 71, 75, 74, 52,  1])"
      ]
     },
     "execution_count": 33,
     "metadata": {},
     "output_type": "execute_result"
    }
   ],
   "source": [
    "# are the same features important for this model in west africa (v8)?\n",
    "model_name, v_train_data = 'cat', 'v8'\n",
    "with open(filename, 'rb') as file:\n",
    "    model = pickle.load(file)\n",
    "\n",
    "# get initial read of feature importance\n",
    "feats = model.get_feature_importance()\n",
    "feats_ordered = np.argsort(feats)[::-1]\n",
    "feats_ordered"
   ]
  },
  {
   "cell_type": "code",
   "execution_count": 34,
   "id": "fe98405a",
   "metadata": {
    "scrolled": true
   },
   "outputs": [
    {
     "data": {
      "text/plain": [
       "array([ 5, 12, 11,  4, 10,  3,  0,  7, 67, 73, 61, 63, 18,  6, 69,  8, 51,\n",
       "       46, 55, 66, 44, 20, 64,  9, 19, 36, 13, 37, 40, 39, 26, 38, 65, 56,\n",
       "       59, 35, 43, 34, 54, 17, 60, 45, 31, 21, 57, 42, 32, 33, 24, 30, 23,\n",
       "       29, 28, 14, 25, 27, 41, 49, 77, 58, 15, 53, 16, 72, 22, 47, 48, 50,\n",
       "       70, 71, 52, 62, 68, 76, 75, 74,  2,  1])"
      ]
     },
     "execution_count": 34,
     "metadata": {},
     "output_type": "execute_result"
    }
   ],
   "source": [
    "# how about south america? (v9)\n",
    "model_name, v_train_data = 'cat', 'v9'\n",
    "with open(filename, 'rb') as file:\n",
    "    model = pickle.load(file)\n",
    "\n",
    "# get initial read of feature importance\n",
    "feats = model.get_feature_importance()\n",
    "feats_ordered = np.argsort(feats)[::-1]\n",
    "feats_ordered"
   ]
  },
  {
   "cell_type": "markdown",
   "id": "ae4a70ea",
   "metadata": {},
   "source": [
    "## Hyperparameter Tuning"
   ]
  },
  {
   "cell_type": "code",
   "execution_count": 24,
   "id": "942960e6",
   "metadata": {},
   "outputs": [
    {
     "name": "stdout",
     "output_type": "stream",
     "text": [
      "Training data includes 265 plot ids.\n",
      "Baseline: 0.491\n"
     ]
    }
   ],
   "source": [
    "# use central america training data\n",
    "X, y = pp.create_xy((14, 14), ['v3', 'v4', 'v10'], drop_prob=False, drop_feats=False, verbose=False)\n",
    "X_train_ss, X_test_ss, y_train, y_test = pp.reshape_and_scale(X, y)"
   ]
  },
  {
   "cell_type": "code",
   "execution_count": 25,
   "id": "6246edb5",
   "metadata": {},
   "outputs": [],
   "source": [
    "iterations = [int(x) for x in np.linspace(200, 1100, 10)]            # equiv to n_estimators\n",
    "depth = [int(x) for x in np.linspace(4, 10, 4)]                     # equiv to max_depth (must be <= 16)\n",
    "l2_reg = [int(x) for x in np.linspace(2, 30, 4)]\n",
    "learning_rate = [.01, .02, .03]                                      # decrease learning rate if overfitting \n",
    "\n",
    "param_dist = {'iterations': iterations,\n",
    "               'depth': depth,\n",
    "               'l2_leaf_reg': l2_reg,\n",
    "               'learning_rate': learning_rate}"
   ]
  },
  {
   "cell_type": "code",
   "execution_count": 26,
   "id": "fc607208",
   "metadata": {},
   "outputs": [
    {
     "name": "stdout",
     "output_type": "stream",
     "text": [
      "The best parameters are {'learning_rate': 0.03, 'l2_leaf_reg': 2, 'iterations': 1000, 'depth': 6} with a score of 0.891560013836043\n"
     ]
    }
   ],
   "source": [
    "cat = CatBoostClassifier(random_seed=42, verbose=False)\n",
    "\n",
    "rds = RandomizedSearchCV(estimator=cat,\n",
    "                        param_distributions=param_dist, \n",
    "                        n_iter=30,\n",
    "                        cv=3)\n",
    "# Achieves 0.892\n",
    "rds.fit(X_train_ss, y_train)\n",
    "rds_best = rds.best_params_\n",
    "print(f\"The best parameters are {rds.best_params_} with a score of {rds.best_score_}\")"
   ]
  },
  {
   "cell_type": "code",
   "execution_count": 30,
   "id": "d5d8e3a1",
   "metadata": {},
   "outputs": [
    {
     "name": "stdout",
     "output_type": "stream",
     "text": [
      "cv: 0.8916\n",
      "train: 0.9918\n",
      "test: 0.8524\n",
      "roc_auc: 0.9305\n",
      "precision: 0.9236\n",
      "recall: 0.7852\n",
      "f1: 0.8488\n"
     ]
    }
   ],
   "source": [
    "# now fit classifier with best params and get all scores\n",
    "cat_best_params = CatBoostClassifier(random_seed=42,\n",
    "                                     learning_rate=0.03,\n",
    "                                     l2_leaf_reg=2,\n",
    "                                     iterations=1000,\n",
    "                                     depth=6,\n",
    "                                     verbose=False)\n",
    "\n",
    "cat_best_params.fit(X_train_ss, y_train)   \n",
    "score.print_scores(cat_best_params, X_train_ss, X_test_ss, y_train, y_test)"
   ]
  },
  {
   "cell_type": "code",
   "execution_count": 3,
   "id": "0aa74095",
   "metadata": {},
   "outputs": [
    {
     "data": {
      "text/html": [
       "<div>\n",
       "<style scoped>\n",
       "    .dataframe tbody tr th:only-of-type {\n",
       "        vertical-align: middle;\n",
       "    }\n",
       "\n",
       "    .dataframe tbody tr th {\n",
       "        vertical-align: top;\n",
       "    }\n",
       "\n",
       "    .dataframe thead th {\n",
       "        text-align: right;\n",
       "    }\n",
       "</style>\n",
       "<table border=\"1\" class=\"dataframe\">\n",
       "  <thead>\n",
       "    <tr style=\"text-align: right;\">\n",
       "      <th></th>\n",
       "      <th>model</th>\n",
       "      <th>cv</th>\n",
       "      <th>train_score</th>\n",
       "      <th>test_score</th>\n",
       "      <th>roc_auc</th>\n",
       "      <th>precision</th>\n",
       "      <th>recall</th>\n",
       "      <th>f1</th>\n",
       "    </tr>\n",
       "  </thead>\n",
       "  <tbody>\n",
       "    <tr>\n",
       "      <th>29</th>\n",
       "      <td>cat_model_v10</td>\n",
       "      <td>0.8884</td>\n",
       "      <td>0.9972</td>\n",
       "      <td>0.8523</td>\n",
       "      <td>0.9291</td>\n",
       "      <td>0.9239</td>\n",
       "      <td>0.7847</td>\n",
       "      <td>0.8487</td>\n",
       "    </tr>\n",
       "  </tbody>\n",
       "</table>\n",
       "</div>"
      ],
      "text/plain": [
       "            model      cv  train_score  test_score  roc_auc  precision  \\\n",
       "29  cat_model_v10  0.8884       0.9972      0.8523   0.9291     0.9239   \n",
       "\n",
       "    recall      f1  \n",
       "29  0.7847  0.8487  "
      ]
     },
     "execution_count": 3,
     "metadata": {},
     "output_type": "execute_result"
    }
   ],
   "source": [
    "scores = pd.read_csv('../models/mvp_scores.csv')\n",
    "scores[scores.model == 'cat_model_v10']"
   ]
  },
  {
   "cell_type": "markdown",
   "id": "ac6aabcc",
   "metadata": {},
   "source": [
    "**Conclusions**  \n",
    "- The feature selection exercise revealed that different features are important for different regions.\n",
    "- Index 7 (s2) and 67 (TML feat) ranked highly across all three regions.\n",
    "- Index 77 (TML tree probability) had surprisingly low importance.\n",
    "- Fitting the CatboostClassifier with only the top 15 features had a negative impact on performance. Fitting with the top 30 features was better and more aligned with baseline.\n",
    "- Hyperparameter tuning was informed by [Catboost Documentation](https://catboost.ai/en/docs/concepts/parameter-tuning#iterations). \n",
    "- Generally speaking, Catboost's default parameters will provide a strong result, but some adjustments showed minor improvements."
   ]
  }
 ],
 "metadata": {
  "kernelspec": {
   "display_name": "plantmap",
   "language": "python",
   "name": "plantmap"
  },
  "language_info": {
   "codemirror_mode": {
    "name": "ipython",
    "version": 3
   },
   "file_extension": ".py",
   "mimetype": "text/x-python",
   "name": "python",
   "nbconvert_exporter": "python",
   "pygments_lexer": "ipython3",
   "version": "3.7.12"
  },
  "toc": {
   "base_numbering": 1,
   "nav_menu": {},
   "number_sections": true,
   "sideBar": true,
   "skip_h1_title": false,
   "title_cell": "Table of Contents",
   "title_sidebar": "Contents",
   "toc_cell": false,
   "toc_position": {},
   "toc_section_display": true,
   "toc_window_display": false
  },
  "varInspector": {
   "cols": {
    "lenName": 16,
    "lenType": 16,
    "lenVar": 40
   },
   "kernels_config": {
    "python": {
     "delete_cmd_postfix": "",
     "delete_cmd_prefix": "del ",
     "library": "var_list.py",
     "varRefreshCmd": "print(var_dic_list())"
    },
    "r": {
     "delete_cmd_postfix": ") ",
     "delete_cmd_prefix": "rm(",
     "library": "var_list.r",
     "varRefreshCmd": "cat(var_dic_list()) "
    }
   },
   "types_to_exclude": [
    "module",
    "function",
    "builtin_function_or_method",
    "instance",
    "_Feature"
   ],
   "window_display": false
  }
 },
 "nbformat": 4,
 "nbformat_minor": 5
}
