{
 "cells": [
  {
   "cell_type": "markdown",
   "id": "d16196f8-db97-41f1-8397-2e9ac6f89783",
   "metadata": {},
   "source": [
    "# EDA: Forestry Commission (RMSC) training data \n",
    "\n",
    "Training data is organized by Ghana's basin, including 5 basins:\n",
    "1. Black Volta\n",
    "2. Pra\n",
    "3. Sene\n",
    "4. Tano\n",
    "5. White Volta\n",
    "\n",
    "\n",
    "## Top Questions\n",
    "- How many training data points in total for the region?\n",
    "- What are the different crop categories? How many points per category?\n",
    "- When was the data gathered?"
   ]
  },
  {
   "cell_type": "code",
   "execution_count": 162,
   "id": "523e24f7-daaf-4a1b-8c8c-061c23f0ee1d",
   "metadata": {},
   "outputs": [
    {
     "name": "stdout",
     "output_type": "stream",
     "text": [
      "The autoreload extension is already loaded. To reload it, use:\n",
      "  %reload_ext autoreload\n"
     ]
    }
   ],
   "source": [
    "import pandas as pd\n",
    "import matplotlib.pyplot as plt\n",
    "import sys\n",
    "sys.path.append('../src/')\n",
    "import ptype_prepare_data as pp\n",
    "import ptype_visualize as viz\n",
    "\n",
    "%load_ext autoreload\n",
    "%autoreload 2"
   ]
  },
  {
   "cell_type": "code",
   "execution_count": 25,
   "id": "f2c533d5-ee34-4e36-bf77-9250496eb25a",
   "metadata": {},
   "outputs": [],
   "source": [
    "folder = '../data/rmsc_train/'"
   ]
  },
  {
   "cell_type": "code",
   "execution_count": 176,
   "id": "380c00b1-7566-44cf-a3f4-aa969276fdf4",
   "metadata": {},
   "outputs": [],
   "source": [
    "sene = pd.read_csv(folder + 'sene/sene_comb_raw.csv')\n",
    "pra = pd.read_csv(folder + 'pra/pra_comb_raw.csv')\n",
    "tano = pd.read_csv(folder + 'tano/tano_comb_raw.csv')\n",
    "white = pd.read_csv(folder + 'white_volta/white_volta_comb_raw.csv')\n",
    "black = pd.read_csv(folder + 'black_volta/black_volta_comb_raw.csv')"
   ]
  },
  {
   "cell_type": "code",
   "execution_count": 177,
   "id": "c9983b1c-338d-4387-b494-31e803121272",
   "metadata": {},
   "outputs": [
    {
     "data": {
      "text/html": [
       "<div>\n",
       "<style scoped>\n",
       "    .dataframe tbody tr th:only-of-type {\n",
       "        vertical-align: middle;\n",
       "    }\n",
       "\n",
       "    .dataframe tbody tr th {\n",
       "        vertical-align: top;\n",
       "    }\n",
       "\n",
       "    .dataframe thead th {\n",
       "        text-align: right;\n",
       "    }\n",
       "</style>\n",
       "<table border=\"1\" class=\"dataframe\">\n",
       "  <thead>\n",
       "    <tr style=\"text-align: right;\">\n",
       "      <th></th>\n",
       "      <th>time</th>\n",
       "      <th>lat</th>\n",
       "      <th>lon</th>\n",
       "      <th>land use</th>\n",
       "      <th>dominant</th>\n",
       "      <th>district</th>\n",
       "      <th>remarks</th>\n",
       "    </tr>\n",
       "  </thead>\n",
       "  <tbody>\n",
       "    <tr>\n",
       "      <th>0</th>\n",
       "      <td>2022-07-24T07:47:59Z</td>\n",
       "      <td>6.648703</td>\n",
       "      <td>-0.743282</td>\n",
       "      <td>NaN</td>\n",
       "      <td>Open Forest</td>\n",
       "      <td>kuahu east</td>\n",
       "      <td>NaN</td>\n",
       "    </tr>\n",
       "    <tr>\n",
       "      <th>1</th>\n",
       "      <td>2022-07-24T07:47:59Z</td>\n",
       "      <td>6.696985</td>\n",
       "      <td>-0.745465</td>\n",
       "      <td>NaN</td>\n",
       "      <td>Teak Plantation</td>\n",
       "      <td>kuahu east</td>\n",
       "      <td>NaN</td>\n",
       "    </tr>\n",
       "    <tr>\n",
       "      <th>2</th>\n",
       "      <td>2022-07-24T07:47:59Z</td>\n",
       "      <td>6.706291</td>\n",
       "      <td>-0.725214</td>\n",
       "      <td>NaN</td>\n",
       "      <td>Annuals</td>\n",
       "      <td>kuahu east</td>\n",
       "      <td>NaN</td>\n",
       "    </tr>\n",
       "    <tr>\n",
       "      <th>3</th>\n",
       "      <td>2022-07-24T07:47:59Z</td>\n",
       "      <td>6.722182</td>\n",
       "      <td>-0.731192</td>\n",
       "      <td>NaN</td>\n",
       "      <td>Grassland</td>\n",
       "      <td>kuahu east</td>\n",
       "      <td>NaN</td>\n",
       "    </tr>\n",
       "    <tr>\n",
       "      <th>4</th>\n",
       "      <td>2022-07-24T07:47:59Z</td>\n",
       "      <td>6.685867</td>\n",
       "      <td>-0.768746</td>\n",
       "      <td>NaN</td>\n",
       "      <td>Open Forest</td>\n",
       "      <td>kuahu east</td>\n",
       "      <td>NaN</td>\n",
       "    </tr>\n",
       "  </tbody>\n",
       "</table>\n",
       "</div>"
      ],
      "text/plain": [
       "                   time       lat       lon land use         dominant  \\\n",
       "0  2022-07-24T07:47:59Z  6.648703 -0.743282      NaN      Open Forest   \n",
       "1  2022-07-24T07:47:59Z  6.696985 -0.745465      NaN  Teak Plantation   \n",
       "2  2022-07-24T07:47:59Z  6.706291 -0.725214      NaN          Annuals   \n",
       "3  2022-07-24T07:47:59Z  6.722182 -0.731192      NaN        Grassland   \n",
       "4  2022-07-24T07:47:59Z  6.685867 -0.768746      NaN      Open Forest   \n",
       "\n",
       "     district remarks  \n",
       "0  kuahu east     NaN  \n",
       "1  kuahu east     NaN  \n",
       "2  kuahu east     NaN  \n",
       "3  kuahu east     NaN  \n",
       "4  kuahu east     NaN  "
      ]
     },
     "execution_count": 177,
     "metadata": {},
     "output_type": "execute_result"
    }
   ],
   "source": [
    "frames = [sene, pra, tano, white, black]\n",
    "df = pd.concat(frames)\n",
    "df.head()"
   ]
  },
  {
   "cell_type": "code",
   "execution_count": 178,
   "id": "6d254e73-5545-4f75-bc6c-847a1b322cd3",
   "metadata": {},
   "outputs": [],
   "source": [
    "# turn time category to datetime\n",
    "df['time'] = pd.to_datetime(df['time']).dt.normalize()\n",
    "\n",
    "# make all categories lower\n",
    "df['land use'] = df['land use'].str.lower()\n",
    "df['dominant'] = df['dominant'].str.lower()\n",
    "\n",
    "# fix specific wording\n",
    "df['dominant'] = df['dominant'].replace({'teak plantation':'teak', \n",
    "                                         'fallow land': 'fallow',\n",
    "                                         'maiz': 'maize',\n",
    "                                          'maze': 'maize',\n",
    "                                         'shrubs':'shrub',\n",
    "                                         'shaded': 'shaded cocoa',\n",
    "                                         'urban': 'settlement',\n",
    "                                         'grass': 'grassland',\n",
    "                                         'bare surface': 'bare',\n",
    "                                         'annual': 'annuals',\n",
    "                                         'soya beans': 'soyabean',\n",
    "                                         'soyabbean': 'soyabean',\n",
    "                                         'palm and rice':'rice and palm',\n",
    "                                         'shea tree': 'shea',\n",
    "                                         'gcorn': 'guinea corn', \n",
    "                                         'cidrella':'cidrela',\n",
    "                                         'citrus orange':'citrus'})"
   ]
  },
  {
   "cell_type": "code",
   "execution_count": 179,
   "id": "3817fc37-6cb6-4df9-be18-aa87dd17a90f",
   "metadata": {},
   "outputs": [
    {
     "name": "stdout",
     "output_type": "stream",
     "text": [
      "<class 'pandas.core.frame.DataFrame'>\n",
      "Int64Index: 1937 entries, 0 to 242\n",
      "Data columns (total 7 columns):\n",
      " #   Column    Non-Null Count  Dtype              \n",
      "---  ------    --------------  -----              \n",
      " 0   time      374 non-null    datetime64[ns, UTC]\n",
      " 1   lat       1937 non-null   float64            \n",
      " 2   lon       1937 non-null   float64            \n",
      " 3   land use  1530 non-null   object             \n",
      " 4   dominant  1937 non-null   object             \n",
      " 5   district  1936 non-null   object             \n",
      " 6   remarks   1254 non-null   object             \n",
      "dtypes: datetime64[ns, UTC](1), float64(2), object(4)\n",
      "memory usage: 121.1+ KB\n"
     ]
    }
   ],
   "source": [
    "df.info()"
   ]
  },
  {
   "cell_type": "code",
   "execution_count": 183,
   "id": "007fd393-a011-45f3-8165-99fed22e5575",
   "metadata": {},
   "outputs": [],
   "source": [
    "top_25 = df.dominant.value_counts()[:25]"
   ]
  },
  {
   "cell_type": "code",
   "execution_count": 185,
   "id": "f8084121-f8dd-40e6-bea5-efa681f33d0a",
   "metadata": {},
   "outputs": [
    {
     "data": {
      "text/html": [
       "<div>\n",
       "<style scoped>\n",
       "    .dataframe tbody tr th:only-of-type {\n",
       "        vertical-align: middle;\n",
       "    }\n",
       "\n",
       "    .dataframe tbody tr th {\n",
       "        vertical-align: top;\n",
       "    }\n",
       "\n",
       "    .dataframe thead th {\n",
       "        text-align: right;\n",
       "    }\n",
       "</style>\n",
       "<table border=\"1\" class=\"dataframe\">\n",
       "  <thead>\n",
       "    <tr style=\"text-align: right;\">\n",
       "      <th></th>\n",
       "      <th>time</th>\n",
       "      <th>lat</th>\n",
       "      <th>lon</th>\n",
       "      <th>land use</th>\n",
       "      <th>dominant</th>\n",
       "      <th>district</th>\n",
       "      <th>remarks</th>\n",
       "    </tr>\n",
       "  </thead>\n",
       "  <tbody>\n",
       "    <tr>\n",
       "      <th>0</th>\n",
       "      <td>2022-07-24 00:00:00+00:00</td>\n",
       "      <td>6.648703</td>\n",
       "      <td>-0.743282</td>\n",
       "      <td>NaN</td>\n",
       "      <td>open forest</td>\n",
       "      <td>kuahu east</td>\n",
       "      <td>NaN</td>\n",
       "    </tr>\n",
       "    <tr>\n",
       "      <th>1</th>\n",
       "      <td>2022-07-24 00:00:00+00:00</td>\n",
       "      <td>6.696985</td>\n",
       "      <td>-0.745465</td>\n",
       "      <td>NaN</td>\n",
       "      <td>teak</td>\n",
       "      <td>kuahu east</td>\n",
       "      <td>NaN</td>\n",
       "    </tr>\n",
       "    <tr>\n",
       "      <th>4</th>\n",
       "      <td>2022-07-24 00:00:00+00:00</td>\n",
       "      <td>6.685867</td>\n",
       "      <td>-0.768746</td>\n",
       "      <td>NaN</td>\n",
       "      <td>open forest</td>\n",
       "      <td>kuahu east</td>\n",
       "      <td>NaN</td>\n",
       "    </tr>\n",
       "    <tr>\n",
       "      <th>18</th>\n",
       "      <td>2022-07-24 00:00:00+00:00</td>\n",
       "      <td>6.556199</td>\n",
       "      <td>-0.726153</td>\n",
       "      <td>NaN</td>\n",
       "      <td>teak</td>\n",
       "      <td>kuahu east</td>\n",
       "      <td>NaN</td>\n",
       "    </tr>\n",
       "    <tr>\n",
       "      <th>21</th>\n",
       "      <td>2022-07-23 00:00:00+00:00</td>\n",
       "      <td>6.588588</td>\n",
       "      <td>-0.695538</td>\n",
       "      <td>NaN</td>\n",
       "      <td>open forest</td>\n",
       "      <td>kwahu south</td>\n",
       "      <td>NaN</td>\n",
       "    </tr>\n",
       "  </tbody>\n",
       "</table>\n",
       "</div>"
      ],
      "text/plain": [
       "                        time       lat       lon land use     dominant  \\\n",
       "0  2022-07-24 00:00:00+00:00  6.648703 -0.743282      NaN  open forest   \n",
       "1  2022-07-24 00:00:00+00:00  6.696985 -0.745465      NaN         teak   \n",
       "4  2022-07-24 00:00:00+00:00  6.685867 -0.768746      NaN  open forest   \n",
       "18 2022-07-24 00:00:00+00:00  6.556199 -0.726153      NaN         teak   \n",
       "21 2022-07-23 00:00:00+00:00  6.588588 -0.695538      NaN  open forest   \n",
       "\n",
       "       district remarks  \n",
       "0    kuahu east     NaN  \n",
       "1    kuahu east     NaN  \n",
       "4    kuahu east     NaN  \n",
       "18   kuahu east     NaN  \n",
       "21  kwahu south     NaN  "
      ]
     },
     "execution_count": 185,
     "metadata": {},
     "output_type": "execute_result"
    }
   ],
   "source": [
    "## useful categories\n",
    "categories_to_use = ['annuals and cocoa',\n",
    " 'annuals with cocoa',\n",
    " 'cashew',\n",
    " 'cassava adj cocoa',\n",
    " 'cidrela',\n",
    " 'citrus',\n",
    " 'citrus and palm',\n",
    " 'cocoa',\n",
    " 'cocoa and annual',\n",
    " 'cocoa and banana',\n",
    " 'cocoa and ginger',\n",
    " 'cocoa and rubber',\n",
    " 'coconut',\n",
    " 'eucalyptus',\n",
    " 'forest',\n",
    " 'forest and cocoa',\n",
    " 'mahogany',\n",
    " 'mango',\n",
    " 'melina',\n",
    " 'oil palm',\n",
    " 'oil palm and cocoa',\n",
    " 'open forest',\n",
    " 'palm',\n",
    " 'palm and cocoa',\n",
    " 'pawpaw',\n",
    " 'rice and cocoa',\n",
    " 'rice and cocoa,palm',\n",
    " 'rice and oil palm',\n",
    " 'rice and palm',\n",
    " 'riverine forest',\n",
    " 'rubber',\n",
    " 'rubber and cocoa, rice',\n",
    " 'shaded cocoa',\n",
    " 'shea',\n",
    " 'shea and maize',\n",
    " 'shea dawadawa',\n",
    " 'teak',\n",
    " 'teak and cidrela']\n",
    "\n",
    "priority = df[df.dominant.isin(categories_to_use)]\n",
    "priority.head()"
   ]
  },
  {
   "cell_type": "code",
   "execution_count": 189,
   "id": "a6378a88-8d4b-4b9c-9ebc-869bcbd2c641",
   "metadata": {},
   "outputs": [
    {
     "name": "stdout",
     "output_type": "stream",
     "text": [
      "Total points: 1937\n",
      "Total crop categories: 124\n",
      "The highest number of points are collected for \n",
      "cocoa           227\n",
      "maize           201\n",
      "shea            196\n",
      "rice            166\n",
      "grassland       128\n",
      "millet           81\n",
      "palm             55\n",
      "shaded cocoa     53\n",
      "soyabean         52\n",
      "teak             51\n",
      "Name: dominant, dtype: int64\n",
      "---\n",
      "Total priority points: 845\n",
      "Total priority categories: 38\n",
      "---\n",
      "Data was collected between 2022-05-12 00:00:00+00:00 and 2022-07-24 00:00:00+00:00\n"
     ]
    }
   ],
   "source": [
    "print(f'Total points: {len(df)}')\n",
    "print(f'Total crop categories: {len(df.dominant.value_counts())}')\n",
    "print(f'The highest number of points are collected for \\n{top_25[:10]}')\n",
    "print('---')\n",
    "print(f'Total priority points: {len(priority)}')\n",
    "print(f'Total priority categories: {len(categories_to_use)}')\n",
    "print('---')\n",
    "print(f'Data was collected between {df.time.min()} and {df.time.max()}')\n"
   ]
  },
  {
   "cell_type": "code",
   "execution_count": 154,
   "id": "4c9f5ff9-f154-4c8b-b317-24748acd8657",
   "metadata": {},
   "outputs": [],
   "source": [
    "df.to_csv(folder + 'rmsc_clean.csv')"
   ]
  },
  {
   "cell_type": "code",
   "execution_count": 190,
   "id": "47aed78d-4ebc-4b5d-9408-c3729ec8396b",
   "metadata": {},
   "outputs": [],
   "source": [
    "priority.to_csv(folder + 'rmsc_priority.csv', index=False)"
   ]
  },
  {
   "cell_type": "markdown",
   "id": "8331354b-f5da-49bf-9cd8-634313ce0411",
   "metadata": {},
   "source": [
    "## Other questions / explorations"
   ]
  },
  {
   "cell_type": "code",
   "execution_count": 112,
   "id": "275a77d7-18ac-4b62-99d4-cc24410a3be5",
   "metadata": {},
   "outputs": [
    {
     "data": {
      "text/plain": [
       "cropland                  889\n",
       "woodland                  237\n",
       "grassland                 125\n",
       "wetland                    50\n",
       "otc                        46\n",
       "forest                     43\n",
       "shaded cocoa               38\n",
       "plantation                 26\n",
       "woodland with grass        18\n",
       "natural tree species       13\n",
       "settlement/baresurface      7\n",
       "bare surface                6\n",
       "settlement                  6\n",
       "woodland                    6\n",
       "mono cocoa                  3\n",
       "forest reserve              3\n",
       "cropland                    2\n",
       "riverine forest             2\n",
       "savannah woodland           2\n",
       "wetland (settlement)        1\n",
       "mountains                   1\n",
       "                            1\n",
       "grassland                   1\n",
       "maize                       1\n",
       "plantain                    1\n",
       "shrub                       1\n",
       "annuals                     1\n",
       "Name: land use, dtype: int64"
      ]
     },
     "execution_count": 112,
     "metadata": {},
     "output_type": "execute_result"
    }
   ],
   "source": [
    "# whats the distribution of land use categories?\n",
    "# probably better to use the dominant category rather than land use\n",
    "df['land use'].value_counts()"
   ]
  },
  {
   "cell_type": "code",
   "execution_count": 114,
   "id": "e85538a8-92d5-4154-a0c4-c7402575c0ff",
   "metadata": {},
   "outputs": [
    {
     "data": {
      "text/plain": [
       "teak          21\n",
       "melina         1\n",
       "borassus       1\n",
       "eucalyptus     1\n",
       "cassier        1\n",
       "mahogany       1\n",
       "Name: dominant, dtype: int64"
      ]
     },
     "execution_count": 114,
     "metadata": {},
     "output_type": "execute_result"
    }
   ],
   "source": [
    "# plantation category looks like forest plantations\n",
    "df[df['land use'] == 'plantation']['dominant'].value_counts()"
   ]
  },
  {
   "cell_type": "code",
   "execution_count": 116,
   "id": "833b54b4-0ddd-4bb5-9ea8-bc2d30fa954d",
   "metadata": {},
   "outputs": [
    {
     "data": {
      "text/plain": [
       "rubber      16\n",
       "coconut     11\n",
       "palm         9\n",
       "oil palm     4\n",
       "cashew       4\n",
       "citrus       2\n",
       "Name: dominant, dtype: int64"
      ]
     },
     "execution_count": 116,
     "metadata": {},
     "output_type": "execute_result"
    }
   ],
   "source": [
    "# otc land use looks like other tree crops\n",
    "df[df['land use'] == 'otc']['dominant'].value_counts()"
   ]
  },
  {
   "cell_type": "code",
   "execution_count": 117,
   "id": "4be127a8-c100-48df-b5d2-eb866edcf42e",
   "metadata": {},
   "outputs": [
    {
     "data": {
      "text/plain": [
       "cocoa    3\n",
       "Name: dominant, dtype: int64"
      ]
     },
     "execution_count": 117,
     "metadata": {},
     "output_type": "execute_result"
    }
   ],
   "source": [
    "# cocoa is represented in a few places\n",
    "df[df['land use'] == 'mono cocoa']['dominant'].value_counts()"
   ]
  },
  {
   "cell_type": "code",
   "execution_count": 118,
   "id": "9d2614ca-775c-4bc1-92f2-9a38c1ca976e",
   "metadata": {},
   "outputs": [
    {
     "data": {
      "text/plain": [
       "cocoa    38\n",
       "Name: dominant, dtype: int64"
      ]
     },
     "execution_count": 118,
     "metadata": {},
     "output_type": "execute_result"
    }
   ],
   "source": [
    "df[df['land use'] == 'shaded cocoa']['dominant'].value_counts()"
   ]
  },
  {
   "cell_type": "code",
   "execution_count": 121,
   "id": "506102ac-4fcd-4906-9c84-3ba59eb16360",
   "metadata": {},
   "outputs": [
    {
     "data": {
      "text/plain": [
       "maize          172\n",
       "rice           150\n",
       "cocoa           91\n",
       "millet          80\n",
       "soyabean        46\n",
       "yam             44\n",
       "cashew          38\n",
       "guinea corn     27\n",
       "fallow          21\n",
       "mango           19\n",
       "Name: dominant, dtype: int64"
      ]
     },
     "execution_count": 121,
     "metadata": {},
     "output_type": "execute_result"
    }
   ],
   "source": [
    "df[df['land use'] == 'cropland']['dominant'].value_counts()[:10]"
   ]
  },
  {
   "cell_type": "code",
   "execution_count": 167,
   "id": "91fb2582-1f41-464e-b86e-733ba69e8745",
   "metadata": {},
   "outputs": [
    {
     "data": {
      "text/html": [
       "<div>\n",
       "<style scoped>\n",
       "    .dataframe tbody tr th:only-of-type {\n",
       "        vertical-align: middle;\n",
       "    }\n",
       "\n",
       "    .dataframe tbody tr th {\n",
       "        vertical-align: top;\n",
       "    }\n",
       "\n",
       "    .dataframe thead th {\n",
       "        text-align: right;\n",
       "    }\n",
       "</style>\n",
       "<table border=\"1\" class=\"dataframe\">\n",
       "  <thead>\n",
       "    <tr style=\"text-align: right;\">\n",
       "      <th></th>\n",
       "      <th>time</th>\n",
       "      <th>lat</th>\n",
       "      <th>lon</th>\n",
       "      <th>land use</th>\n",
       "      <th>dominant</th>\n",
       "      <th>district</th>\n",
       "      <th>remarks</th>\n",
       "    </tr>\n",
       "  </thead>\n",
       "  <tbody>\n",
       "    <tr>\n",
       "      <th>96</th>\n",
       "      <td>NaT</td>\n",
       "      <td>6.871911</td>\n",
       "      <td>-0.295790</td>\n",
       "      <td>cropland</td>\n",
       "      <td>mango</td>\n",
       "      <td>afram plains north south</td>\n",
       "      <td>NaN</td>\n",
       "    </tr>\n",
       "    <tr>\n",
       "      <th>100</th>\n",
       "      <td>NaT</td>\n",
       "      <td>6.943461</td>\n",
       "      <td>-0.232487</td>\n",
       "      <td>cropland</td>\n",
       "      <td>mango</td>\n",
       "      <td>afram plains north south</td>\n",
       "      <td>NaN</td>\n",
       "    </tr>\n",
       "    <tr>\n",
       "      <th>189</th>\n",
       "      <td>NaT</td>\n",
       "      <td>7.014287</td>\n",
       "      <td>-0.144192</td>\n",
       "      <td>cropland</td>\n",
       "      <td>mango</td>\n",
       "      <td>afram plains north south</td>\n",
       "      <td>NaN</td>\n",
       "    </tr>\n",
       "    <tr>\n",
       "      <th>196</th>\n",
       "      <td>NaT</td>\n",
       "      <td>7.111356</td>\n",
       "      <td>-0.212417</td>\n",
       "      <td>cropland</td>\n",
       "      <td>mango</td>\n",
       "      <td>afram plains north south</td>\n",
       "      <td>NaN</td>\n",
       "    </tr>\n",
       "    <tr>\n",
       "      <th>221</th>\n",
       "      <td>NaT</td>\n",
       "      <td>7.678434</td>\n",
       "      <td>-0.668814</td>\n",
       "      <td>cropland</td>\n",
       "      <td>mango</td>\n",
       "      <td>sene west</td>\n",
       "      <td>NaN</td>\n",
       "    </tr>\n",
       "    <tr>\n",
       "      <th>223</th>\n",
       "      <td>NaT</td>\n",
       "      <td>7.770024</td>\n",
       "      <td>-0.575882</td>\n",
       "      <td>cropland</td>\n",
       "      <td>mango</td>\n",
       "      <td>sene west</td>\n",
       "      <td>NaN</td>\n",
       "    </tr>\n",
       "    <tr>\n",
       "      <th>21</th>\n",
       "      <td>NaT</td>\n",
       "      <td>7.456335</td>\n",
       "      <td>-1.962908</td>\n",
       "      <td>cropland</td>\n",
       "      <td>mango</td>\n",
       "      <td>Techiman Municipal</td>\n",
       "      <td>Adjoined to Cropland</td>\n",
       "    </tr>\n",
       "    <tr>\n",
       "      <th>46</th>\n",
       "      <td>NaT</td>\n",
       "      <td>7.282855</td>\n",
       "      <td>-2.146400</td>\n",
       "      <td>cropland</td>\n",
       "      <td>mango</td>\n",
       "      <td>Tano North</td>\n",
       "      <td>Adjoined to Fallow Land</td>\n",
       "    </tr>\n",
       "    <tr>\n",
       "      <th>161</th>\n",
       "      <td>NaT</td>\n",
       "      <td>7.223139</td>\n",
       "      <td>-1.919775</td>\n",
       "      <td>cropland</td>\n",
       "      <td>mango</td>\n",
       "      <td>Ahafo-Ano</td>\n",
       "      <td>Adjoined to Sacred grove</td>\n",
       "    </tr>\n",
       "    <tr>\n",
       "      <th>164</th>\n",
       "      <td>NaT</td>\n",
       "      <td>7.228311</td>\n",
       "      <td>-1.892540</td>\n",
       "      <td>cropland</td>\n",
       "      <td>mango</td>\n",
       "      <td>Ahafo-Ano</td>\n",
       "      <td>Adjoined to Cropland</td>\n",
       "    </tr>\n",
       "    <tr>\n",
       "      <th>167</th>\n",
       "      <td>NaT</td>\n",
       "      <td>7.238608</td>\n",
       "      <td>-1.859764</td>\n",
       "      <td>cropland</td>\n",
       "      <td>mango</td>\n",
       "      <td>Ahafo-Ano</td>\n",
       "      <td>Adjoined to Cropland</td>\n",
       "    </tr>\n",
       "    <tr>\n",
       "      <th>171</th>\n",
       "      <td>NaT</td>\n",
       "      <td>7.258463</td>\n",
       "      <td>-1.837036</td>\n",
       "      <td>cropland</td>\n",
       "      <td>mango</td>\n",
       "      <td>Ahafo-Ano South</td>\n",
       "      <td>Adjoined to Cropland</td>\n",
       "    </tr>\n",
       "    <tr>\n",
       "      <th>198</th>\n",
       "      <td>NaT</td>\n",
       "      <td>7.061202</td>\n",
       "      <td>-2.385013</td>\n",
       "      <td>cropland</td>\n",
       "      <td>mango</td>\n",
       "      <td>AsutifI-North</td>\n",
       "      <td>Adjoined to Cropland</td>\n",
       "    </tr>\n",
       "    <tr>\n",
       "      <th>15</th>\n",
       "      <td>NaT</td>\n",
       "      <td>10.369374</td>\n",
       "      <td>-2.281754</td>\n",
       "      <td>cropland</td>\n",
       "      <td>mango</td>\n",
       "      <td>Daffiama Boussie</td>\n",
       "      <td>NaN</td>\n",
       "    </tr>\n",
       "    <tr>\n",
       "      <th>134</th>\n",
       "      <td>NaT</td>\n",
       "      <td>9.806398</td>\n",
       "      <td>-0.911146</td>\n",
       "      <td>cropland</td>\n",
       "      <td>mango</td>\n",
       "      <td>Savelugu</td>\n",
       "      <td>adjoined to woodland</td>\n",
       "    </tr>\n",
       "    <tr>\n",
       "      <th>137</th>\n",
       "      <td>NaT</td>\n",
       "      <td>9.768621</td>\n",
       "      <td>-0.836790</td>\n",
       "      <td>cropland</td>\n",
       "      <td>mango</td>\n",
       "      <td>Savelugu</td>\n",
       "      <td>adjoined to woodland</td>\n",
       "    </tr>\n",
       "    <tr>\n",
       "      <th>144</th>\n",
       "      <td>NaT</td>\n",
       "      <td>9.756628</td>\n",
       "      <td>-0.732480</td>\n",
       "      <td>cropland</td>\n",
       "      <td>mango</td>\n",
       "      <td>Kumbumgu</td>\n",
       "      <td>adjacent to pepper and rice farm</td>\n",
       "    </tr>\n",
       "    <tr>\n",
       "      <th>480</th>\n",
       "      <td>NaT</td>\n",
       "      <td>9.544065</td>\n",
       "      <td>-0.936711</td>\n",
       "      <td>cropland</td>\n",
       "      <td>mango</td>\n",
       "      <td>Kumbungu</td>\n",
       "      <td>Adjoined to settlement</td>\n",
       "    </tr>\n",
       "    <tr>\n",
       "      <th>15</th>\n",
       "      <td>NaT</td>\n",
       "      <td>10.369374</td>\n",
       "      <td>-2.281754</td>\n",
       "      <td>cropland</td>\n",
       "      <td>mango</td>\n",
       "      <td>Daffiama Boussie</td>\n",
       "      <td></td>\n",
       "    </tr>\n",
       "  </tbody>\n",
       "</table>\n",
       "</div>"
      ],
      "text/plain": [
       "    time        lat       lon  land use dominant                  district  \\\n",
       "96   NaT   6.871911 -0.295790  cropland    mango  afram plains north south   \n",
       "100  NaT   6.943461 -0.232487  cropland    mango  afram plains north south   \n",
       "189  NaT   7.014287 -0.144192  cropland    mango  afram plains north south   \n",
       "196  NaT   7.111356 -0.212417  cropland    mango  afram plains north south   \n",
       "221  NaT   7.678434 -0.668814  cropland    mango                 sene west   \n",
       "223  NaT   7.770024 -0.575882  cropland    mango                 sene west   \n",
       "21   NaT   7.456335 -1.962908  cropland    mango        Techiman Municipal   \n",
       "46   NaT   7.282855 -2.146400  cropland    mango                Tano North   \n",
       "161  NaT   7.223139 -1.919775  cropland    mango                 Ahafo-Ano   \n",
       "164  NaT   7.228311 -1.892540  cropland    mango                 Ahafo-Ano   \n",
       "167  NaT   7.238608 -1.859764  cropland    mango                 Ahafo-Ano   \n",
       "171  NaT   7.258463 -1.837036  cropland    mango           Ahafo-Ano South   \n",
       "198  NaT   7.061202 -2.385013  cropland    mango             AsutifI-North   \n",
       "15   NaT  10.369374 -2.281754  cropland    mango          Daffiama Boussie   \n",
       "134  NaT   9.806398 -0.911146  cropland    mango                  Savelugu   \n",
       "137  NaT   9.768621 -0.836790  cropland    mango                  Savelugu   \n",
       "144  NaT   9.756628 -0.732480  cropland    mango                  Kumbumgu   \n",
       "480  NaT   9.544065 -0.936711  cropland    mango                  Kumbungu   \n",
       "15   NaT  10.369374 -2.281754  cropland    mango          Daffiama Boussie   \n",
       "\n",
       "                              remarks  \n",
       "96                                NaN  \n",
       "100                               NaN  \n",
       "189                               NaN  \n",
       "196                               NaN  \n",
       "221                               NaN  \n",
       "223                               NaN  \n",
       "21               Adjoined to Cropland  \n",
       "46            Adjoined to Fallow Land  \n",
       "161          Adjoined to Sacred grove  \n",
       "164              Adjoined to Cropland  \n",
       "167              Adjoined to Cropland  \n",
       "171              Adjoined to Cropland  \n",
       "198              Adjoined to Cropland  \n",
       "15                                NaN  \n",
       "134              adjoined to woodland  \n",
       "137              adjoined to woodland  \n",
       "144  adjacent to pepper and rice farm  \n",
       "480            Adjoined to settlement  \n",
       "15                                     "
      ]
     },
     "execution_count": 167,
     "metadata": {},
     "output_type": "execute_result"
    }
   ],
   "source": [
    "df[df.dominant == 'mango']"
   ]
  },
  {
   "cell_type": "code",
   "execution_count": 166,
   "id": "82552fbc-3cee-4aab-af7c-b56bac09272a",
   "metadata": {},
   "outputs": [
    {
     "data": {
      "text/plain": [
       "158564"
      ]
     },
     "execution_count": 166,
     "metadata": {},
     "output_type": "execute_result"
    }
   ],
   "source": [
    "# v20 has 809 plots, doesnt that mean 158,564 samples?\n",
    "809*(14*14)"
   ]
  }
 ],
 "metadata": {
  "kernelspec": {
   "display_name": "plantations5",
   "language": "python",
   "name": "plantations5"
  },
  "language_info": {
   "codemirror_mode": {
    "name": "ipython",
    "version": 3
   },
   "file_extension": ".py",
   "mimetype": "text/x-python",
   "name": "python",
   "nbconvert_exporter": "python",
   "pygments_lexer": "ipython3",
   "version": "3.10.13"
  }
 },
 "nbformat": 4,
 "nbformat_minor": 5
}
