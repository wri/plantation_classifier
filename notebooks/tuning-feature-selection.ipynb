{
 "cells": [
  {
   "cell_type": "markdown",
   "id": "16fc12a5",
   "metadata": {},
   "source": [
    "# Model Tuning\n",
    "\n",
    "This notebook includes a hyperparameter tuning and feature selection exercise for the top performing classifier. The objective is to narrow down which TML features and hyperparameters will be used in the next phase of scaling to jurisdictional scale maps."
   ]
  },
  {
   "cell_type": "code",
   "execution_count": 1,
   "id": "ce100d5f",
   "metadata": {},
   "outputs": [],
   "source": [
    "import matplotlib.pyplot as plt\n",
    "import sys\n",
    "sys.path.append('../src/prototype')\n",
    "import prepare_data as pp\n",
    "import run_preds as rp\n",
    "import score_classifier as score\n",
    "import pandas as pd\n",
    "import pickle\n",
    "from catboost import CatBoostClassifier\n",
    "from sklearn.model_selection import cross_val_score, GridSearchCV, RandomizedSearchCV\n",
    "from sklearn.metrics import roc_curve, roc_auc_score, precision_recall_curve, f1_score, precision_score, recall_score, confusion_matrix, ConfusionMatrixDisplay\n",
    "\n",
    "%load_ext autoreload\n",
    "%autoreload 2"
   ]
  },
  {
   "cell_type": "markdown",
   "id": "c7df8f91",
   "metadata": {},
   "source": [
    "## Feature Selection\n",
    "Evaluate feature importance for the top performing MVP model (Catboost). Training with only the most important features will help to reduce overfitting and training time, while improving accuracy by removing misleading data and noise. Narrow down the 65 TML features to 10-15.  \n",
    "  \n",
    "Index 0: slope  \n",
    "Index 1-3: s1  \n",
    "Index 3-13: s2  \n",
    "Index 13-78: TML features (78 is TML tree probability)"
   ]
  },
  {
   "cell_type": "code",
   "execution_count": 40,
   "id": "c7cb2cbc",
   "metadata": {},
   "outputs": [
    {
     "data": {
      "text/plain": [
       "46"
      ]
     },
     "execution_count": 40,
     "metadata": {},
     "output_type": "execute_result"
    }
   ],
   "source": [
    "df = pd.read_csv('../models/mvp_scores.csv')\n",
    "len(df)"
   ]
  },
  {
   "cell_type": "code",
   "execution_count": 41,
   "id": "4a63354e",
   "metadata": {},
   "outputs": [
    {
     "data": {
      "text/html": [
       "<div>\n",
       "<style scoped>\n",
       "    .dataframe tbody tr th:only-of-type {\n",
       "        vertical-align: middle;\n",
       "    }\n",
       "\n",
       "    .dataframe tbody tr th {\n",
       "        vertical-align: top;\n",
       "    }\n",
       "\n",
       "    .dataframe thead th {\n",
       "        text-align: right;\n",
       "    }\n",
       "</style>\n",
       "<table border=\"1\" class=\"dataframe\">\n",
       "  <thead>\n",
       "    <tr style=\"text-align: right;\">\n",
       "      <th></th>\n",
       "      <th>model</th>\n",
       "      <th>cv</th>\n",
       "      <th>train_score</th>\n",
       "      <th>test_score</th>\n",
       "      <th>roc_auc</th>\n",
       "      <th>precision</th>\n",
       "      <th>recall</th>\n",
       "      <th>f1</th>\n",
       "    </tr>\n",
       "  </thead>\n",
       "  <tbody>\n",
       "    <tr>\n",
       "      <th>16</th>\n",
       "      <td>cat_model_v10_np</td>\n",
       "      <td>0.8908</td>\n",
       "      <td>0.9969</td>\n",
       "      <td>0.8518</td>\n",
       "      <td>0.9302</td>\n",
       "      <td>0.9210</td>\n",
       "      <td>0.7865</td>\n",
       "      <td>0.8485</td>\n",
       "    </tr>\n",
       "    <tr>\n",
       "      <th>21</th>\n",
       "      <td>cat_model_v10_nf</td>\n",
       "      <td>0.8957</td>\n",
       "      <td>0.9850</td>\n",
       "      <td>0.8262</td>\n",
       "      <td>0.9101</td>\n",
       "      <td>0.9053</td>\n",
       "      <td>0.7489</td>\n",
       "      <td>0.8197</td>\n",
       "    </tr>\n",
       "    <tr>\n",
       "      <th>29</th>\n",
       "      <td>cat_model_v10</td>\n",
       "      <td>0.8884</td>\n",
       "      <td>0.9972</td>\n",
       "      <td>0.8523</td>\n",
       "      <td>0.9291</td>\n",
       "      <td>0.9239</td>\n",
       "      <td>0.7847</td>\n",
       "      <td>0.8487</td>\n",
       "    </tr>\n",
       "    <tr>\n",
       "      <th>44</th>\n",
       "      <td>cat_model_v10</td>\n",
       "      <td>0.9073</td>\n",
       "      <td>0.9982</td>\n",
       "      <td>0.8269</td>\n",
       "      <td>0.9126</td>\n",
       "      <td>0.8695</td>\n",
       "      <td>0.7876</td>\n",
       "      <td>0.8265</td>\n",
       "    </tr>\n",
       "    <tr>\n",
       "      <th>45</th>\n",
       "      <td>cat_model_v10_nf</td>\n",
       "      <td>0.8950</td>\n",
       "      <td>0.9854</td>\n",
       "      <td>0.8293</td>\n",
       "      <td>0.9098</td>\n",
       "      <td>0.8685</td>\n",
       "      <td>0.7942</td>\n",
       "      <td>0.8297</td>\n",
       "    </tr>\n",
       "  </tbody>\n",
       "</table>\n",
       "</div>"
      ],
      "text/plain": [
       "               model      cv  train_score  test_score  roc_auc  precision  \\\n",
       "16  cat_model_v10_np  0.8908       0.9969      0.8518   0.9302     0.9210   \n",
       "21  cat_model_v10_nf  0.8957       0.9850      0.8262   0.9101     0.9053   \n",
       "29     cat_model_v10  0.8884       0.9972      0.8523   0.9291     0.9239   \n",
       "44     cat_model_v10  0.9073       0.9982      0.8269   0.9126     0.8695   \n",
       "45  cat_model_v10_nf  0.8950       0.9854      0.8293   0.9098     0.8685   \n",
       "\n",
       "    recall      f1  \n",
       "16  0.7865  0.8485  \n",
       "21  0.7489  0.8197  \n",
       "29  0.7847  0.8487  \n",
       "44  0.7876  0.8265  \n",
       "45  0.7942  0.8297  "
      ]
     },
     "execution_count": 41,
     "metadata": {},
     "output_type": "execute_result"
    }
   ],
   "source": [
    "df[df['model'].str.contains('^cat_model_v10.*') == True]"
   ]
  },
  {
   "cell_type": "code",
   "execution_count": 42,
   "id": "9aa1e8ee",
   "metadata": {},
   "outputs": [
    {
     "data": {
      "text/html": [
       "<div>\n",
       "<style scoped>\n",
       "    .dataframe tbody tr th:only-of-type {\n",
       "        vertical-align: middle;\n",
       "    }\n",
       "\n",
       "    .dataframe tbody tr th {\n",
       "        vertical-align: top;\n",
       "    }\n",
       "\n",
       "    .dataframe thead th {\n",
       "        text-align: right;\n",
       "    }\n",
       "</style>\n",
       "<table border=\"1\" class=\"dataframe\">\n",
       "  <thead>\n",
       "    <tr style=\"text-align: right;\">\n",
       "      <th></th>\n",
       "      <th>model</th>\n",
       "      <th>cv</th>\n",
       "      <th>train_score</th>\n",
       "      <th>test_score</th>\n",
       "      <th>roc_auc</th>\n",
       "      <th>precision</th>\n",
       "      <th>recall</th>\n",
       "      <th>f1</th>\n",
       "    </tr>\n",
       "  </thead>\n",
       "  <tbody>\n",
       "    <tr>\n",
       "      <th>44</th>\n",
       "      <td>cat_model_v10</td>\n",
       "      <td>0.9073</td>\n",
       "      <td>0.9982</td>\n",
       "      <td>0.8269</td>\n",
       "      <td>0.9126</td>\n",
       "      <td>0.8695</td>\n",
       "      <td>0.7876</td>\n",
       "      <td>0.8265</td>\n",
       "    </tr>\n",
       "  </tbody>\n",
       "</table>\n",
       "</div>"
      ],
      "text/plain": [
       "            model      cv  train_score  test_score  roc_auc  precision  \\\n",
       "44  cat_model_v10  0.9073       0.9982      0.8269   0.9126     0.8695   \n",
       "\n",
       "    recall      f1  \n",
       "44  0.7876  0.8265  "
      ]
     },
     "execution_count": 42,
     "metadata": {},
     "output_type": "execute_result"
    }
   ],
   "source": [
    "original_model = df[44:45]\n",
    "original_model"
   ]
  },
  {
   "cell_type": "code",
   "execution_count": 43,
   "id": "4bf43c27",
   "metadata": {},
   "outputs": [
    {
     "data": {
      "text/plain": [
       "[62, 71, 74, 32, 64, 54, 33, 38, 46, 16, 77, 36, 60, 19, 13]"
      ]
     },
     "execution_count": 43,
     "metadata": {},
     "output_type": "execute_result"
    }
   ],
   "source": [
    "# load original model\n",
    "filename = f'../models/cat_model_v10.pkl'\n",
    "with open(filename, 'rb') as file:\n",
    "    model = pickle.load(file)\n",
    "\n",
    "# calculate the feature importance for the TML features \n",
    "most_important = model.get_feature_importance()\n",
    "tml_feats = most_important[13:]\n",
    "\n",
    "# get indices of 15 most important TML features (sorted by importance)\n",
    "tml_feats = np.argsort(tml_feats)[::-1][:15]\n",
    "\n",
    "# get original indices by adding 13\n",
    "top15 = [index + 13 for index in tml_feats]\n",
    "v10 = top15"
   ]
  },
  {
   "cell_type": "code",
   "execution_count": 45,
   "id": "7711a3a2",
   "metadata": {},
   "outputs": [
    {
     "name": "stdout",
     "output_type": "stream",
     "text": [
      "Plot id 04003 has no cloud free imagery and will be removed.\n",
      "Plot id 04005 has no cloud free imagery and will be removed.\n",
      "Plot id 04007 has no cloud free imagery and will be removed.\n",
      "Plot id 04009 has no cloud free imagery and will be removed.\n",
      "Plot id 10043 has no cloud free imagery and will be removed.\n",
      "Plot id 10067 has no cloud free imagery and will be removed.\n",
      "Baseline: 0.483\n",
      "The data has been scaled to -1.0000000000000002, 1.0000000000000002\n"
     ]
    }
   ],
   "source": [
    "# quick test to see if we can get better performance using only top 15 feats\n",
    "X, y = pp.create_xy((14, 14), ['v03', 'v04', 'v10'], drop_prob=False, drop_feats=False, verbose=False)\n",
    "X_train_ss, X_test_ss, y_train, y_test = pp.reshape_and_scale_manual(X, y)"
   ]
  },
  {
   "cell_type": "code",
   "execution_count": 46,
   "id": "c0e7c72a",
   "metadata": {},
   "outputs": [
    {
     "data": {
      "text/plain": [
       "(33908, 28)"
      ]
     },
     "execution_count": 46,
     "metadata": {},
     "output_type": "execute_result"
    }
   ],
   "source": [
    "# filter X (all 13 regular features + 15 TML top features)\n",
    "\n",
    "feats = X_train_ss[:, :13]\n",
    "tml_feats = X_train_ss[:, top15]\n",
    "\n",
    "empty = np.empty((X_train_ss.shape[0], 28))\n",
    "empty[:,:13] = feats\n",
    "empty[:,13:] = tml_feats\n",
    "\n",
    "# create new x_train\n",
    "X_train_selected = empty\n",
    "X_train_selected.shape"
   ]
  },
  {
   "cell_type": "code",
   "execution_count": 47,
   "id": "5acd2908",
   "metadata": {},
   "outputs": [
    {
     "data": {
      "text/plain": [
       "(16856, 28)"
      ]
     },
     "execution_count": 47,
     "metadata": {},
     "output_type": "execute_result"
    }
   ],
   "source": [
    "# same for test\n",
    "feats = X_test_ss[:, :13]\n",
    "tml_feats = X_test_ss[:, top15]\n",
    "\n",
    "empty = np.empty((X_test_ss.shape[0], 28))\n",
    "empty[:,:13] = feats\n",
    "empty[:,13:] = tml_feats\n",
    "\n",
    "# create new x_test\n",
    "X_test_selected = empty\n",
    "X_test_selected.shape"
   ]
  },
  {
   "cell_type": "code",
   "execution_count": 48,
   "id": "c3a4198b",
   "metadata": {},
   "outputs": [
    {
     "data": {
      "text/plain": [
       "((33908, 28), (16856, 28), (33908,), (16856,))"
      ]
     },
     "execution_count": 48,
     "metadata": {},
     "output_type": "execute_result"
    }
   ],
   "source": [
    "# check shapes\n",
    "X_train_selected.shape, X_test_selected.shape, y_train.shape, y_test.shape"
   ]
  },
  {
   "cell_type": "code",
   "execution_count": 49,
   "id": "e47337da",
   "metadata": {},
   "outputs": [
    {
     "name": "stdout",
     "output_type": "stream",
     "text": [
      "cv: 0.9072\n",
      "train: 0.9966\n",
      "test: 0.834\n",
      "roc_auc: 0.9138\n",
      "precision: 0.8762\n",
      "recall: 0.7954\n",
      "f1: 0.8338\n"
     ]
    }
   ],
   "source": [
    "# fit and score new model \n",
    "cat_15feats = CatBoostClassifier(verbose=False, random_state=22)\n",
    "cat_15feats.fit(X_train_selected, y_train)\n",
    "score.print_scores(cat_15feats, X_train_selected, X_test_selected, y_train, y_test)"
   ]
  },
  {
   "cell_type": "code",
   "execution_count": 39,
   "id": "2b5df3db",
   "metadata": {},
   "outputs": [
    {
     "data": {
      "text/html": [
       "<div>\n",
       "<style scoped>\n",
       "    .dataframe tbody tr th:only-of-type {\n",
       "        vertical-align: middle;\n",
       "    }\n",
       "\n",
       "    .dataframe tbody tr th {\n",
       "        vertical-align: top;\n",
       "    }\n",
       "\n",
       "    .dataframe thead th {\n",
       "        text-align: right;\n",
       "    }\n",
       "</style>\n",
       "<table border=\"1\" class=\"dataframe\">\n",
       "  <thead>\n",
       "    <tr style=\"text-align: right;\">\n",
       "      <th></th>\n",
       "      <th>model</th>\n",
       "      <th>cv</th>\n",
       "      <th>train_score</th>\n",
       "      <th>test_score</th>\n",
       "      <th>roc_auc</th>\n",
       "      <th>precision</th>\n",
       "      <th>recall</th>\n",
       "      <th>f1</th>\n",
       "    </tr>\n",
       "  </thead>\n",
       "  <tbody>\n",
       "    <tr>\n",
       "      <th>44</th>\n",
       "      <td>cat_model_v10</td>\n",
       "      <td>0.9073</td>\n",
       "      <td>0.9982</td>\n",
       "      <td>0.8269</td>\n",
       "      <td>0.9126</td>\n",
       "      <td>0.8695</td>\n",
       "      <td>0.7876</td>\n",
       "      <td>0.8265</td>\n",
       "    </tr>\n",
       "  </tbody>\n",
       "</table>\n",
       "</div>"
      ],
      "text/plain": [
       "            model      cv  train_score  test_score  roc_auc  precision  \\\n",
       "44  cat_model_v10  0.9073       0.9982      0.8269   0.9126     0.8695   \n",
       "\n",
       "    recall      f1  \n",
       "44  0.7876  0.8265  "
      ]
     },
     "execution_count": 39,
     "metadata": {},
     "output_type": "execute_result"
    }
   ],
   "source": [
    "original_model"
   ]
  },
  {
   "cell_type": "markdown",
   "id": "61ad2581",
   "metadata": {},
   "source": [
    "### Check consistency across regions"
   ]
  },
  {
   "cell_type": "code",
   "execution_count": 36,
   "id": "acac4cf5",
   "metadata": {},
   "outputs": [],
   "source": [
    "# are the same features important for catboost in west africa?\n",
    "model_name, v_train_data = 'cat', 'v11'\n",
    "filename = f'../models/{model_name}_model_{v_train_data}.pkl'\n",
    "\n",
    "with open(filename, 'rb') as file:\n",
    "    model = pickle.load(file)\n",
    "\n",
    "# get initial read of feature importance\n",
    "feats = model.get_feature_importance()\n",
    "feats_ordered = np.argsort(feats)[::-1]\n",
    "\n",
    "# get original indices by adding 13\n",
    "top15 = [index + 13 for index in feats_ordered][:15]\n",
    "v11 = top15"
   ]
  },
  {
   "cell_type": "code",
   "execution_count": 37,
   "id": "fe98405a",
   "metadata": {
    "scrolled": true
   },
   "outputs": [],
   "source": [
    "# how about south america? (v9)\n",
    "model_name, v_train_data = 'cat', 'v09'\n",
    "filename = f'../models/{model_name}_model_{v_train_data}.pkl'\n",
    "\n",
    "with open(filename, 'rb') as file:\n",
    "    model = pickle.load(file)\n",
    "\n",
    "# get initial read of feature importance\n",
    "feats = model.get_feature_importance()\n",
    "feats_ordered = np.argsort(feats)[::-1]\n",
    "\n",
    "# get original indices by adding 13\n",
    "top15 = [index + 13 for index in feats_ordered][:15]\n",
    "v09 = top15"
   ]
  },
  {
   "cell_type": "code",
   "execution_count": 40,
   "id": "23b1f69b",
   "metadata": {},
   "outputs": [
    {
     "data": {
      "text/plain": [
       "[18, 17, 29, 24, 46, 13, 16, 25, 23, 64, 75, 26, 85, 37, 19]"
      ]
     },
     "execution_count": 40,
     "metadata": {},
     "output_type": "execute_result"
    }
   ],
   "source": [
    "# what are the common best features across three regions\n",
    "v09"
   ]
  },
  {
   "cell_type": "code",
   "execution_count": 41,
   "id": "3e090032",
   "metadata": {},
   "outputs": [
    {
     "data": {
      "text/plain": [
       "[62, 71, 74, 32, 64, 54, 33, 38, 46, 16, 77, 36, 60, 19, 13]"
      ]
     },
     "execution_count": 41,
     "metadata": {},
     "output_type": "execute_result"
    }
   ],
   "source": [
    "v10"
   ]
  },
  {
   "cell_type": "code",
   "execution_count": 42,
   "id": "4ff8035f",
   "metadata": {},
   "outputs": [
    {
     "data": {
      "text/plain": [
       "[16, 84, 20, 29, 25, 24, 67, 77, 89, 18, 75, 88, 85, 87, 26]"
      ]
     },
     "execution_count": 42,
     "metadata": {},
     "output_type": "execute_result"
    }
   ],
   "source": [
    "v11"
   ]
  },
  {
   "cell_type": "code",
   "execution_count": 46,
   "id": "d7e7d197",
   "metadata": {},
   "outputs": [
    {
     "data": {
      "text/plain": [
       "({13, 16, 19, 46, 64}, {16})"
      ]
     },
     "execution_count": 46,
     "metadata": {},
     "output_type": "execute_result"
    }
   ],
   "source": [
    "# check latin america, then africa\n",
    "first_set = set(v09).intersection(set(v10))    \n",
    "result_set = first_set.intersection(set(v11))\n",
    "first_set, result_set"
   ]
  },
  {
   "cell_type": "markdown",
   "id": "ae4a70ea",
   "metadata": {},
   "source": [
    "## Hyperparameter Tuning\n",
    "Hyperparameter tuning was informed by [Catboost Documentation](https://catboost.ai/en/docs/concepts/parameter-tuning#iterations). Generally speaking, Catboost's default parameters will provide a strong result, but the tuning adjustments can bring minor improvements."
   ]
  },
  {
   "cell_type": "code",
   "execution_count": 51,
   "id": "942960e6",
   "metadata": {},
   "outputs": [
    {
     "name": "stdout",
     "output_type": "stream",
     "text": [
      "Plot id 04003 has no cloud free imagery and will be removed.\n",
      "Plot id 04005 has no cloud free imagery and will be removed.\n",
      "Plot id 04007 has no cloud free imagery and will be removed.\n",
      "Plot id 04009 has no cloud free imagery and will be removed.\n",
      "Plot id 10043 has no cloud free imagery and will be removed.\n",
      "Plot id 10067 has no cloud free imagery and will be removed.\n",
      "Baseline: 0.483\n",
      "The data has been scaled to -1.0000000000000002, 1.0000000000000002\n"
     ]
    }
   ],
   "source": [
    "# use central america training data\n",
    "X, y = pp.create_xy((14, 14), ['v03', 'v04', 'v10'], drop_prob=False, drop_feats=False, verbose=False)\n",
    "X_train_ss, X_test_ss, y_train, y_test = pp.reshape_and_scale_manual(X, y)"
   ]
  },
  {
   "cell_type": "code",
   "execution_count": 52,
   "id": "6246edb5",
   "metadata": {},
   "outputs": [],
   "source": [
    "iterations = [int(x) for x in np.linspace(200, 1100, 10)]            # equiv to n_estimators\n",
    "depth = [int(x) for x in np.linspace(4, 10, 4)]                      # equiv to max_depth (must be <= 16)\n",
    "l2_reg = [int(x) for x in np.linspace(2, 30, 4)]\n",
    "learning_rate = [.01, .02, .03]                                      # decrease learning rate if overfitting \n",
    "\n",
    "param_dist = {'iterations': iterations,\n",
    "              'depth': depth,\n",
    "              'l2_leaf_reg': l2_reg,\n",
    "              'learning_rate': learning_rate}"
   ]
  },
  {
   "cell_type": "code",
   "execution_count": 57,
   "id": "6054f45e",
   "metadata": {},
   "outputs": [],
   "source": [
    "# perform the random search\n",
    "cat = CatBoostClassifier(random_seed=22, verbose=False)\n",
    "\n",
    "rds = RandomizedSearchCV(estimator=cat,\n",
    "                        param_distributions=param_dist, \n",
    "                        n_iter=30,\n",
    "                        cv=3)"
   ]
  },
  {
   "cell_type": "code",
   "execution_count": 58,
   "id": "4be2ed96",
   "metadata": {},
   "outputs": [
    {
     "name": "stdout",
     "output_type": "stream",
     "text": [
      "The best parameters are {'learning_rate': 0.03, 'l2_leaf_reg': 20, 'iterations': 1100, 'depth': 4} with a score of 0.9076614979982308\n"
     ]
    }
   ],
   "source": [
    "# Achieves 0.907\n",
    "rds.fit(X_train_ss, y_train)\n",
    "rds_best = rds.best_params_\n",
    "print(f\"The best parameters are {rds.best_params_} with a score of {rds.best_score_}\")"
   ]
  },
  {
   "cell_type": "code",
   "execution_count": 60,
   "id": "d5d8e3a1",
   "metadata": {},
   "outputs": [
    {
     "name": "stdout",
     "output_type": "stream",
     "text": [
      "cv: 0.9077\n",
      "train: 0.9788\n",
      "test: 0.8293\n",
      "roc_auc: 0.9138\n",
      "precision: 0.8726\n",
      "recall: 0.7893\n",
      "f1: 0.8288\n"
     ]
    }
   ],
   "source": [
    "# now fit classifier with best params and get all scores\n",
    "cat_best_params = CatBoostClassifier(random_seed=22,\n",
    "                                     learning_rate=0.03,\n",
    "                                     l2_leaf_reg=20,\n",
    "                                     iterations=1100,\n",
    "                                     depth=4,\n",
    "                                     verbose=False)\n",
    "\n",
    "cat_best_params.fit(X_train_ss, y_train) \n",
    "\n",
    "# save trained model\n",
    "filename = f'../models/cat_model_10tuned.pkl'\n",
    "with open(filename, 'wb') as file:\n",
    "    pickle.dump(model, file)\n",
    "\n",
    "score.print_scores(cat_best_params, X_train_ss, X_test_ss, y_train, y_test)"
   ]
  },
  {
   "cell_type": "code",
   "execution_count": 3,
   "id": "0aa74095",
   "metadata": {
    "scrolled": true
   },
   "outputs": [
    {
     "data": {
      "text/html": [
       "<div>\n",
       "<style scoped>\n",
       "    .dataframe tbody tr th:only-of-type {\n",
       "        vertical-align: middle;\n",
       "    }\n",
       "\n",
       "    .dataframe tbody tr th {\n",
       "        vertical-align: top;\n",
       "    }\n",
       "\n",
       "    .dataframe thead th {\n",
       "        text-align: right;\n",
       "    }\n",
       "</style>\n",
       "<table border=\"1\" class=\"dataframe\">\n",
       "  <thead>\n",
       "    <tr style=\"text-align: right;\">\n",
       "      <th></th>\n",
       "      <th>model</th>\n",
       "      <th>cv</th>\n",
       "      <th>train_score</th>\n",
       "      <th>test_score</th>\n",
       "      <th>roc_auc</th>\n",
       "      <th>precision</th>\n",
       "      <th>recall</th>\n",
       "      <th>f1</th>\n",
       "    </tr>\n",
       "  </thead>\n",
       "  <tbody>\n",
       "    <tr>\n",
       "      <th>29</th>\n",
       "      <td>cat_model_v10</td>\n",
       "      <td>0.8884</td>\n",
       "      <td>0.9972</td>\n",
       "      <td>0.8523</td>\n",
       "      <td>0.9291</td>\n",
       "      <td>0.9239</td>\n",
       "      <td>0.7847</td>\n",
       "      <td>0.8487</td>\n",
       "    </tr>\n",
       "  </tbody>\n",
       "</table>\n",
       "</div>"
      ],
      "text/plain": [
       "            model      cv  train_score  test_score  roc_auc  precision  \\\n",
       "29  cat_model_v10  0.8884       0.9972      0.8523   0.9291     0.9239   \n",
       "\n",
       "    recall      f1  \n",
       "29  0.7847  0.8487  "
      ]
     },
     "execution_count": 3,
     "metadata": {},
     "output_type": "execute_result"
    }
   ],
   "source": [
    "original_model"
   ]
  },
  {
   "cell_type": "markdown",
   "id": "ac6aabcc",
   "metadata": {},
   "source": [
    "**Conclusions** \n",
    "#### Round 2\n",
    "- Fitting with the top TML features show minor improvements in accuracy and reduced overfititng.\n",
    "- There are commonalities across regions. In Latin America (Cental + South) there were 5 important features in common {13, 16, 19, 46, 64}. Across all three regions feature {16} made the top 15. All are TML features.\n",
    "- Hyperparameter tuning indicated the best parameters are {'learning_rate': 0.03, 'l2_leaf_reg': 20, 'iterations': 1100, 'depth': 4}\n",
    "\n",
    "#### Round 1\n",
    "- Fitting the CatboostClassifier with the top 15 TML features rather than all 65 only brought minor improvements in accuracy.\n",
    "- The feature selection exercise revealed that different features are important for different regions.\n",
    "- Index 7 (s2) and 67 (TML feat) ranked highly across all three regions.\n",
    "- Index 77 (TML tree probability) had surprisingly low importance.\n",
    "- Fitting CatboostClassifier with the best features and best parameters resulted in improvements between .01 - .1% across accuracy metrics."
   ]
  }
 ],
 "metadata": {
  "kernelspec": {
   "display_name": "plantmap",
   "language": "python",
   "name": "plantmap"
  },
  "language_info": {
   "codemirror_mode": {
    "name": "ipython",
    "version": 3
   },
   "file_extension": ".py",
   "mimetype": "text/x-python",
   "name": "python",
   "nbconvert_exporter": "python",
   "pygments_lexer": "ipython3",
   "version": "3.7.12"
  },
  "toc": {
   "base_numbering": 1,
   "nav_menu": {},
   "number_sections": true,
   "sideBar": true,
   "skip_h1_title": false,
   "title_cell": "Table of Contents",
   "title_sidebar": "Contents",
   "toc_cell": false,
   "toc_position": {
    "height": "calc(100% - 180px)",
    "left": "10px",
    "top": "150px",
    "width": "283px"
   },
   "toc_section_display": true,
   "toc_window_display": true
  },
  "varInspector": {
   "cols": {
    "lenName": 16,
    "lenType": 16,
    "lenVar": 40
   },
   "kernels_config": {
    "python": {
     "delete_cmd_postfix": "",
     "delete_cmd_prefix": "del ",
     "library": "var_list.py",
     "varRefreshCmd": "print(var_dic_list())"
    },
    "r": {
     "delete_cmd_postfix": ") ",
     "delete_cmd_prefix": "rm(",
     "library": "var_list.r",
     "varRefreshCmd": "cat(var_dic_list()) "
    }
   },
   "types_to_exclude": [
    "module",
    "function",
    "builtin_function_or_method",
    "instance",
    "_Feature"
   ],
   "window_display": false
  }
 },
 "nbformat": 4,
 "nbformat_minor": 5
}
