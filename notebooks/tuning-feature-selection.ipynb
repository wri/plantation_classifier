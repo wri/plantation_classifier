{
 "cells": [
  {
   "cell_type": "markdown",
   "id": "16fc12a5",
   "metadata": {},
   "source": [
    "# Model Tuning\n",
    "\n",
    "This notebook includes a hyperparameter tuning and feature selection exercise for the top performing classifier. The objective is to narrow down which TML features and hyperparameters will be used in the next phase of scaling to jurisdictional scale maps."
   ]
  },
  {
   "cell_type": "code",
   "execution_count": 1,
   "id": "ce100d5f",
   "metadata": {},
   "outputs": [],
   "source": [
    "import matplotlib.pyplot as plt\n",
    "import seaborn as sns\n",
    "import sys\n",
    "sys.path.append('../src/prototype')\n",
    "import prepare_data as pp\n",
    "import run_preds as rp\n",
    "import score_classifier as score\n",
    "import pandas as pd\n",
    "import pickle\n",
    "from catboost import CatBoostClassifier\n",
    "from sklearn.model_selection import cross_val_score, GridSearchCV, RandomizedSearchCV\n",
    "from sklearn.metrics import roc_curve, roc_auc_score, precision_recall_curve, f1_score, precision_score, recall_score, confusion_matrix, ConfusionMatrixDisplay\n",
    "\n",
    "%load_ext autoreload\n",
    "%autoreload 2"
   ]
  },
  {
   "cell_type": "markdown",
   "id": "c7df8f91",
   "metadata": {},
   "source": [
    "# Feature Selection\n",
    "Evaluate feature importance for the top performing MVP model (Catboost). Training with only the most important features will help to reduce overfitting and training time, while improving accuracy by removing misleading data and noise. I want to narrow down the 65 TML features to 15 with the highest feature importance. Feature importance values are normalized so that the sum of importances of all features is equal to 100.  \n",
    "  \n",
    "Index `0`: slope  \n",
    "Index `1:3`: s1  \n",
    "Index `3:13`: s2  \n",
    "Index `13:77`: TML features (`78` is TML tree probability)"
   ]
  },
  {
   "cell_type": "code",
   "execution_count": 61,
   "id": "c7cb2cbc",
   "metadata": {},
   "outputs": [
    {
     "data": {
      "text/html": [
       "<div>\n",
       "<style scoped>\n",
       "    .dataframe tbody tr th:only-of-type {\n",
       "        vertical-align: middle;\n",
       "    }\n",
       "\n",
       "    .dataframe tbody tr th {\n",
       "        vertical-align: top;\n",
       "    }\n",
       "\n",
       "    .dataframe thead th {\n",
       "        text-align: right;\n",
       "    }\n",
       "</style>\n",
       "<table border=\"1\" class=\"dataframe\">\n",
       "  <thead>\n",
       "    <tr style=\"text-align: right;\">\n",
       "      <th></th>\n",
       "      <th>model</th>\n",
       "      <th>cv</th>\n",
       "      <th>train_score</th>\n",
       "      <th>test_score</th>\n",
       "      <th>roc_auc</th>\n",
       "      <th>precision</th>\n",
       "      <th>recall</th>\n",
       "      <th>f1</th>\n",
       "      <th>date</th>\n",
       "    </tr>\n",
       "  </thead>\n",
       "  <tbody>\n",
       "    <tr>\n",
       "      <th>14</th>\n",
       "      <td>cat_model_v10_np</td>\n",
       "      <td>0.8908</td>\n",
       "      <td>0.9969</td>\n",
       "      <td>0.8518</td>\n",
       "      <td>0.9302</td>\n",
       "      <td>0.9210</td>\n",
       "      <td>0.7865</td>\n",
       "      <td>0.8485</td>\n",
       "      <td>NaN</td>\n",
       "    </tr>\n",
       "    <tr>\n",
       "      <th>19</th>\n",
       "      <td>cat_model_v10_nf</td>\n",
       "      <td>0.8957</td>\n",
       "      <td>0.9850</td>\n",
       "      <td>0.8262</td>\n",
       "      <td>0.9101</td>\n",
       "      <td>0.9053</td>\n",
       "      <td>0.7489</td>\n",
       "      <td>0.8197</td>\n",
       "      <td>NaN</td>\n",
       "    </tr>\n",
       "    <tr>\n",
       "      <th>27</th>\n",
       "      <td>cat_model_v10</td>\n",
       "      <td>0.8884</td>\n",
       "      <td>0.9972</td>\n",
       "      <td>0.8523</td>\n",
       "      <td>0.9291</td>\n",
       "      <td>0.9239</td>\n",
       "      <td>0.7847</td>\n",
       "      <td>0.8487</td>\n",
       "      <td>NaN</td>\n",
       "    </tr>\n",
       "    <tr>\n",
       "      <th>40</th>\n",
       "      <td>cat_model_v10</td>\n",
       "      <td>0.9073</td>\n",
       "      <td>0.9982</td>\n",
       "      <td>0.8269</td>\n",
       "      <td>0.9126</td>\n",
       "      <td>0.8695</td>\n",
       "      <td>0.7876</td>\n",
       "      <td>0.8265</td>\n",
       "      <td>11/7/22</td>\n",
       "    </tr>\n",
       "    <tr>\n",
       "      <th>41</th>\n",
       "      <td>cat_model_v10_nf</td>\n",
       "      <td>0.8950</td>\n",
       "      <td>0.9854</td>\n",
       "      <td>0.8293</td>\n",
       "      <td>0.9098</td>\n",
       "      <td>0.8685</td>\n",
       "      <td>0.7942</td>\n",
       "      <td>0.8297</td>\n",
       "      <td>11/7/22</td>\n",
       "    </tr>\n",
       "  </tbody>\n",
       "</table>\n",
       "</div>"
      ],
      "text/plain": [
       "               model      cv  train_score  test_score  roc_auc  precision  \\\n",
       "14  cat_model_v10_np  0.8908       0.9969      0.8518   0.9302     0.9210   \n",
       "19  cat_model_v10_nf  0.8957       0.9850      0.8262   0.9101     0.9053   \n",
       "27     cat_model_v10  0.8884       0.9972      0.8523   0.9291     0.9239   \n",
       "40     cat_model_v10  0.9073       0.9982      0.8269   0.9126     0.8695   \n",
       "41  cat_model_v10_nf  0.8950       0.9854      0.8293   0.9098     0.8685   \n",
       "\n",
       "    recall      f1     date  \n",
       "14  0.7865  0.8485      NaN  \n",
       "19  0.7489  0.8197      NaN  \n",
       "27  0.7847  0.8487      NaN  \n",
       "40  0.7876  0.8265  11/7/22  \n",
       "41  0.7942  0.8297  11/7/22  "
      ]
     },
     "execution_count": 61,
     "metadata": {},
     "output_type": "execute_result"
    }
   ],
   "source": [
    "df = pd.read_csv('../models/mvp_scores.csv')\n",
    "df[df['model'].str.contains('^cat_model_v10.*') == True]"
   ]
  },
  {
   "cell_type": "code",
   "execution_count": 62,
   "id": "9aa1e8ee",
   "metadata": {},
   "outputs": [
    {
     "data": {
      "text/html": [
       "<div>\n",
       "<style scoped>\n",
       "    .dataframe tbody tr th:only-of-type {\n",
       "        vertical-align: middle;\n",
       "    }\n",
       "\n",
       "    .dataframe tbody tr th {\n",
       "        vertical-align: top;\n",
       "    }\n",
       "\n",
       "    .dataframe thead th {\n",
       "        text-align: right;\n",
       "    }\n",
       "</style>\n",
       "<table border=\"1\" class=\"dataframe\">\n",
       "  <thead>\n",
       "    <tr style=\"text-align: right;\">\n",
       "      <th></th>\n",
       "      <th>model</th>\n",
       "      <th>cv</th>\n",
       "      <th>train_score</th>\n",
       "      <th>test_score</th>\n",
       "      <th>roc_auc</th>\n",
       "      <th>precision</th>\n",
       "      <th>recall</th>\n",
       "      <th>f1</th>\n",
       "      <th>date</th>\n",
       "    </tr>\n",
       "  </thead>\n",
       "  <tbody>\n",
       "    <tr>\n",
       "      <th>40</th>\n",
       "      <td>cat_model_v10</td>\n",
       "      <td>0.9073</td>\n",
       "      <td>0.9982</td>\n",
       "      <td>0.8269</td>\n",
       "      <td>0.9126</td>\n",
       "      <td>0.8695</td>\n",
       "      <td>0.7876</td>\n",
       "      <td>0.8265</td>\n",
       "      <td>11/7/22</td>\n",
       "    </tr>\n",
       "  </tbody>\n",
       "</table>\n",
       "</div>"
      ],
      "text/plain": [
       "            model      cv  train_score  test_score  roc_auc  precision  \\\n",
       "40  cat_model_v10  0.9073       0.9982      0.8269   0.9126     0.8695   \n",
       "\n",
       "    recall      f1     date  \n",
       "40  0.7876  0.8265  11/7/22  "
      ]
     },
     "execution_count": 62,
     "metadata": {},
     "output_type": "execute_result"
    }
   ],
   "source": [
    "# use the central america model w/feats\n",
    "starter_model = df[40:41]\n",
    "starter_model"
   ]
  },
  {
   "cell_type": "code",
   "execution_count": 10,
   "id": "4bf43c27",
   "metadata": {},
   "outputs": [
    {
     "data": {
      "text/html": [
       "<div>\n",
       "<style scoped>\n",
       "    .dataframe tbody tr th:only-of-type {\n",
       "        vertical-align: middle;\n",
       "    }\n",
       "\n",
       "    .dataframe tbody tr th {\n",
       "        vertical-align: top;\n",
       "    }\n",
       "\n",
       "    .dataframe thead th {\n",
       "        text-align: right;\n",
       "    }\n",
       "</style>\n",
       "<table border=\"1\" class=\"dataframe\">\n",
       "  <thead>\n",
       "    <tr style=\"text-align: right;\">\n",
       "      <th></th>\n",
       "      <th>Feature Id</th>\n",
       "      <th>Importances</th>\n",
       "    </tr>\n",
       "  </thead>\n",
       "  <tbody>\n",
       "    <tr>\n",
       "      <th>3</th>\n",
       "      <td>62</td>\n",
       "      <td>4.371062</td>\n",
       "    </tr>\n",
       "    <tr>\n",
       "      <th>4</th>\n",
       "      <td>71</td>\n",
       "      <td>4.046422</td>\n",
       "    </tr>\n",
       "    <tr>\n",
       "      <th>5</th>\n",
       "      <td>74</td>\n",
       "      <td>2.854333</td>\n",
       "    </tr>\n",
       "    <tr>\n",
       "      <th>9</th>\n",
       "      <td>32</td>\n",
       "      <td>2.102720</td>\n",
       "    </tr>\n",
       "    <tr>\n",
       "      <th>10</th>\n",
       "      <td>64</td>\n",
       "      <td>2.041282</td>\n",
       "    </tr>\n",
       "    <tr>\n",
       "      <th>11</th>\n",
       "      <td>54</td>\n",
       "      <td>2.014191</td>\n",
       "    </tr>\n",
       "    <tr>\n",
       "      <th>12</th>\n",
       "      <td>33</td>\n",
       "      <td>2.013350</td>\n",
       "    </tr>\n",
       "    <tr>\n",
       "      <th>13</th>\n",
       "      <td>38</td>\n",
       "      <td>1.983828</td>\n",
       "    </tr>\n",
       "    <tr>\n",
       "      <th>14</th>\n",
       "      <td>46</td>\n",
       "      <td>1.969877</td>\n",
       "    </tr>\n",
       "    <tr>\n",
       "      <th>16</th>\n",
       "      <td>16</td>\n",
       "      <td>1.717267</td>\n",
       "    </tr>\n",
       "    <tr>\n",
       "      <th>17</th>\n",
       "      <td>77</td>\n",
       "      <td>1.333650</td>\n",
       "    </tr>\n",
       "    <tr>\n",
       "      <th>19</th>\n",
       "      <td>36</td>\n",
       "      <td>1.260588</td>\n",
       "    </tr>\n",
       "    <tr>\n",
       "      <th>21</th>\n",
       "      <td>60</td>\n",
       "      <td>1.195912</td>\n",
       "    </tr>\n",
       "    <tr>\n",
       "      <th>22</th>\n",
       "      <td>19</td>\n",
       "      <td>1.146078</td>\n",
       "    </tr>\n",
       "    <tr>\n",
       "      <th>23</th>\n",
       "      <td>13</td>\n",
       "      <td>1.143613</td>\n",
       "    </tr>\n",
       "  </tbody>\n",
       "</table>\n",
       "</div>"
      ],
      "text/plain": [
       "    Feature Id  Importances\n",
       "3           62     4.371062\n",
       "4           71     4.046422\n",
       "5           74     2.854333\n",
       "9           32     2.102720\n",
       "10          64     2.041282\n",
       "11          54     2.014191\n",
       "12          33     2.013350\n",
       "13          38     1.983828\n",
       "14          46     1.969877\n",
       "16          16     1.717267\n",
       "17          77     1.333650\n",
       "19          36     1.260588\n",
       "21          60     1.195912\n",
       "22          19     1.146078\n",
       "23          13     1.143613"
      ]
     },
     "execution_count": 10,
     "metadata": {},
     "output_type": "execute_result"
    }
   ],
   "source": [
    "# load original model\n",
    "filename = f'../models/cat_model_v10.pkl'\n",
    "with open(filename, 'rb') as file:\n",
    "    model = pickle.load(file)\n",
    "\n",
    "# calculate the feature importance \n",
    "most_important = model.get_feature_importance(prettified=True)\n",
    "most_important = most_important.astype({'Feature Id': int})\n",
    "\n",
    "# filter to only TML feats (anything after index 13)\n",
    "tml_feats = most_important[most_important['Feature Id'] >= 13]\n",
    "\n",
    "# get the top 15 most important\n",
    "v10 = tml_feats.sort_values(by='Importances', ascending=False)[:15]\n",
    "v10"
   ]
  },
  {
   "cell_type": "code",
   "execution_count": 13,
   "id": "b0b647b5",
   "metadata": {},
   "outputs": [
    {
     "data": {
      "text/plain": [
       "57.88012723402579"
      ]
     },
     "execution_count": 13,
     "metadata": {},
     "output_type": "execute_result"
    }
   ],
   "source": [
    "# TML feats alone describe <60% of importance\n",
    "tml_feats.Importances.sum()"
   ]
  },
  {
   "cell_type": "markdown",
   "id": "c1059e77",
   "metadata": {},
   "source": [
    "## Visualize Feature Importance\n",
    "\n",
    "The first visualization illustrates the feature importance scores for all features used in the v10 (Central America) model. The second visualizations illustrates the feature importance scores for the features that explain 80-90% of the importance for the same model."
   ]
  },
  {
   "cell_type": "code",
   "execution_count": 3,
   "id": "30a0922e",
   "metadata": {},
   "outputs": [
    {
     "data": {
      "image/png": "[encoded data removed]",
      "text/plain": [
       "<Figure size 504x1080 with 1 Axes>"
      ]
     },
     "metadata": {
      "needs_background": "light"
     },
     "output_type": "display_data"
    }
   ],
   "source": [
    "# view feature importance for all feats\n",
    "plt.figure(figsize = (7,15))\n",
    "\n",
    "sns.barplot(y='Feature Id', x='Importances', data=most_important, orient='h', palette=\"Greens_d\")\n",
    "plt.title('Feature Importance (Catboost - Central America (v10))')\n",
    "plt.xlabel('Feature Importance')\n",
    "plt.ylabel('Feature');"
   ]
  },
  {
   "cell_type": "code",
   "execution_count": 22,
   "id": "180dd66f",
   "metadata": {},
   "outputs": [
    {
     "data": {
      "text/plain": [
       "89.95459880885535"
      ]
     },
     "execution_count": 22,
     "metadata": {},
     "output_type": "execute_result"
    }
   ],
   "source": [
    "# which features describe 80-90% of the importance?\n",
    "\n",
    "# grab all feats and sort by importance\n",
    "tops = most_important.sort_values(by='Importances', ascending=False)[0:50]\n",
    "tops.Importances.sum()"
   ]
  },
  {
   "cell_type": "code",
   "execution_count": 23,
   "id": "ad07781b",
   "metadata": {},
   "outputs": [
    {
     "data": {
      "image/png": "[encoded data removed]",
      "text/plain": [
       "<Figure size 504x1080 with 1 Axes>"
      ]
     },
     "metadata": {
      "needs_background": "light"
     },
     "output_type": "display_data"
    }
   ],
   "source": [
    "plt.figure(figsize = (7,15))\n",
    "sns.barplot(y='Feature Id', x='Importances', data=tops, orient='h', palette=\"Greens_d\")\n",
    "plt.title('Most Important Feats Full (Catboost - Central America (v10))')\n",
    "plt.xlabel('Feature Importance')\n",
    "plt.ylabel('Feature');"
   ]
  },
  {
   "cell_type": "markdown",
   "id": "61ad2581",
   "metadata": {},
   "source": [
    "## Check consistency across regions\n",
    "Are the same features important for the catboost model in West Africa and South America? This section compares the top 15 most important features across regions."
   ]
  },
  {
   "cell_type": "code",
   "execution_count": 4,
   "id": "acac4cf5",
   "metadata": {},
   "outputs": [
    {
     "data": {
      "text/html": [
       "<div>\n",
       "<style scoped>\n",
       "    .dataframe tbody tr th:only-of-type {\n",
       "        vertical-align: middle;\n",
       "    }\n",
       "\n",
       "    .dataframe tbody tr th {\n",
       "        vertical-align: top;\n",
       "    }\n",
       "\n",
       "    .dataframe thead th {\n",
       "        text-align: right;\n",
       "    }\n",
       "</style>\n",
       "<table border=\"1\" class=\"dataframe\">\n",
       "  <thead>\n",
       "    <tr style=\"text-align: right;\">\n",
       "      <th></th>\n",
       "      <th>Feature Id</th>\n",
       "      <th>Importances</th>\n",
       "    </tr>\n",
       "  </thead>\n",
       "  <tbody>\n",
       "    <tr>\n",
       "      <th>1</th>\n",
       "      <td>71</td>\n",
       "      <td>7.007700</td>\n",
       "    </tr>\n",
       "    <tr>\n",
       "      <th>3</th>\n",
       "      <td>16</td>\n",
       "      <td>5.586165</td>\n",
       "    </tr>\n",
       "    <tr>\n",
       "      <th>6</th>\n",
       "      <td>54</td>\n",
       "      <td>3.646442</td>\n",
       "    </tr>\n",
       "    <tr>\n",
       "      <th>7</th>\n",
       "      <td>64</td>\n",
       "      <td>3.270772</td>\n",
       "    </tr>\n",
       "    <tr>\n",
       "      <th>8</th>\n",
       "      <td>76</td>\n",
       "      <td>3.261219</td>\n",
       "    </tr>\n",
       "    <tr>\n",
       "      <th>10</th>\n",
       "      <td>62</td>\n",
       "      <td>3.126678</td>\n",
       "    </tr>\n",
       "    <tr>\n",
       "      <th>11</th>\n",
       "      <td>75</td>\n",
       "      <td>2.760612</td>\n",
       "    </tr>\n",
       "    <tr>\n",
       "      <th>12</th>\n",
       "      <td>72</td>\n",
       "      <td>2.658921</td>\n",
       "    </tr>\n",
       "    <tr>\n",
       "      <th>13</th>\n",
       "      <td>74</td>\n",
       "      <td>2.524666</td>\n",
       "    </tr>\n",
       "    <tr>\n",
       "      <th>14</th>\n",
       "      <td>13</td>\n",
       "      <td>2.363818</td>\n",
       "    </tr>\n",
       "    <tr>\n",
       "      <th>15</th>\n",
       "      <td>32</td>\n",
       "      <td>2.300606</td>\n",
       "    </tr>\n",
       "    <tr>\n",
       "      <th>16</th>\n",
       "      <td>77</td>\n",
       "      <td>1.736156</td>\n",
       "    </tr>\n",
       "    <tr>\n",
       "      <th>17</th>\n",
       "      <td>20</td>\n",
       "      <td>1.692248</td>\n",
       "    </tr>\n",
       "    <tr>\n",
       "      <th>20</th>\n",
       "      <td>25</td>\n",
       "      <td>1.179787</td>\n",
       "    </tr>\n",
       "    <tr>\n",
       "      <th>23</th>\n",
       "      <td>47</td>\n",
       "      <td>1.101969</td>\n",
       "    </tr>\n",
       "  </tbody>\n",
       "</table>\n",
       "</div>"
      ],
      "text/plain": [
       "    Feature Id  Importances\n",
       "1           71     7.007700\n",
       "3           16     5.586165\n",
       "6           54     3.646442\n",
       "7           64     3.270772\n",
       "8           76     3.261219\n",
       "10          62     3.126678\n",
       "11          75     2.760612\n",
       "12          72     2.658921\n",
       "13          74     2.524666\n",
       "14          13     2.363818\n",
       "15          32     2.300606\n",
       "16          77     1.736156\n",
       "17          20     1.692248\n",
       "20          25     1.179787\n",
       "23          47     1.101969"
      ]
     },
     "execution_count": 4,
     "metadata": {},
     "output_type": "execute_result"
    }
   ],
   "source": [
    "# are the same features important for catboost in west africa?\n",
    "\n",
    "filename = f'../models/cat_model_v11.pkl'\n",
    "with open(filename, 'rb') as file:\n",
    "    model = pickle.load(file)\n",
    "\n",
    "# calculate the feature importance \n",
    "most_important = model.get_feature_importance(prettified=True)\n",
    "most_important = most_important.astype({'Feature Id': int})\n",
    "\n",
    "# filter to only TML feats\n",
    "tml_feats = most_important[most_important['Feature Id'] >= 13]\n",
    "\n",
    "# get the top 15 most important\n",
    "v11 = tml_feats.sort_values(by='Importances', ascending=False)[:15]\n",
    "v11"
   ]
  },
  {
   "cell_type": "code",
   "execution_count": 5,
   "id": "fe98405a",
   "metadata": {
    "scrolled": true
   },
   "outputs": [
    {
     "data": {
      "text/html": [
       "<div>\n",
       "<style scoped>\n",
       "    .dataframe tbody tr th:only-of-type {\n",
       "        vertical-align: middle;\n",
       "    }\n",
       "\n",
       "    .dataframe tbody tr th {\n",
       "        vertical-align: top;\n",
       "    }\n",
       "\n",
       "    .dataframe thead th {\n",
       "        text-align: right;\n",
       "    }\n",
       "</style>\n",
       "<table border=\"1\" class=\"dataframe\">\n",
       "  <thead>\n",
       "    <tr style=\"text-align: right;\">\n",
       "      <th></th>\n",
       "      <th>Feature Id</th>\n",
       "      <th>Importances</th>\n",
       "    </tr>\n",
       "  </thead>\n",
       "  <tbody>\n",
       "    <tr>\n",
       "      <th>2</th>\n",
       "      <td>16</td>\n",
       "      <td>5.736892</td>\n",
       "    </tr>\n",
       "    <tr>\n",
       "      <th>4</th>\n",
       "      <td>33</td>\n",
       "      <td>3.903781</td>\n",
       "    </tr>\n",
       "    <tr>\n",
       "      <th>9</th>\n",
       "      <td>51</td>\n",
       "      <td>2.772934</td>\n",
       "    </tr>\n",
       "    <tr>\n",
       "      <th>10</th>\n",
       "      <td>62</td>\n",
       "      <td>2.696718</td>\n",
       "    </tr>\n",
       "    <tr>\n",
       "      <th>11</th>\n",
       "      <td>13</td>\n",
       "      <td>2.542589</td>\n",
       "    </tr>\n",
       "    <tr>\n",
       "      <th>12</th>\n",
       "      <td>72</td>\n",
       "      <td>2.429293</td>\n",
       "    </tr>\n",
       "    <tr>\n",
       "      <th>13</th>\n",
       "      <td>24</td>\n",
       "      <td>2.274026</td>\n",
       "    </tr>\n",
       "    <tr>\n",
       "      <th>17</th>\n",
       "      <td>71</td>\n",
       "      <td>1.643682</td>\n",
       "    </tr>\n",
       "    <tr>\n",
       "      <th>18</th>\n",
       "      <td>20</td>\n",
       "      <td>1.578809</td>\n",
       "    </tr>\n",
       "    <tr>\n",
       "      <th>19</th>\n",
       "      <td>47</td>\n",
       "      <td>1.521576</td>\n",
       "    </tr>\n",
       "    <tr>\n",
       "      <th>20</th>\n",
       "      <td>77</td>\n",
       "      <td>1.480200</td>\n",
       "    </tr>\n",
       "    <tr>\n",
       "      <th>21</th>\n",
       "      <td>75</td>\n",
       "      <td>1.435575</td>\n",
       "    </tr>\n",
       "    <tr>\n",
       "      <th>22</th>\n",
       "      <td>68</td>\n",
       "      <td>1.306945</td>\n",
       "    </tr>\n",
       "    <tr>\n",
       "      <th>23</th>\n",
       "      <td>25</td>\n",
       "      <td>1.284786</td>\n",
       "    </tr>\n",
       "    <tr>\n",
       "      <th>25</th>\n",
       "      <td>38</td>\n",
       "      <td>1.209190</td>\n",
       "    </tr>\n",
       "  </tbody>\n",
       "</table>\n",
       "</div>"
      ],
      "text/plain": [
       "    Feature Id  Importances\n",
       "2           16     5.736892\n",
       "4           33     3.903781\n",
       "9           51     2.772934\n",
       "10          62     2.696718\n",
       "11          13     2.542589\n",
       "12          72     2.429293\n",
       "13          24     2.274026\n",
       "17          71     1.643682\n",
       "18          20     1.578809\n",
       "19          47     1.521576\n",
       "20          77     1.480200\n",
       "21          75     1.435575\n",
       "22          68     1.306945\n",
       "23          25     1.284786\n",
       "25          38     1.209190"
      ]
     },
     "execution_count": 5,
     "metadata": {},
     "output_type": "execute_result"
    }
   ],
   "source": [
    "# how about south america? (v9)\n",
    "filename = f'../models/cat_model_v09.pkl'\n",
    "with open(filename, 'rb') as file:\n",
    "    model = pickle.load(file)\n",
    "\n",
    "# calculate the feature importance \n",
    "most_important = model.get_feature_importance(prettified=True)\n",
    "most_important = most_important.astype({'Feature Id': int})\n",
    "\n",
    "# filter to only TML feats \n",
    "tml_feats = most_important[most_important['Feature Id'] >= 13]\n",
    "\n",
    "# get the top 15 most important\n",
    "v09 = tml_feats.sort_values(by='Importances', ascending=False)[:15]\n",
    "v09"
   ]
  },
  {
   "cell_type": "code",
   "execution_count": 6,
   "id": "23b1f69b",
   "metadata": {},
   "outputs": [
    {
     "data": {
      "text/plain": [
       "[16, 33, 51, 62, 13, 72, 24, 71, 20, 47, 77, 75, 68, 25, 38]"
      ]
     },
     "execution_count": 6,
     "metadata": {},
     "output_type": "execute_result"
    }
   ],
   "source": [
    "# what are the common best features across three regions\n",
    "list(v09['Feature Id'])"
   ]
  },
  {
   "cell_type": "code",
   "execution_count": 7,
   "id": "3e090032",
   "metadata": {},
   "outputs": [
    {
     "data": {
      "text/plain": [
       "[62, 71, 74, 32, 64, 54, 33, 38, 46, 16, 77, 36, 60, 19, 13]"
      ]
     },
     "execution_count": 7,
     "metadata": {},
     "output_type": "execute_result"
    }
   ],
   "source": [
    "list(v10['Feature Id'])"
   ]
  },
  {
   "cell_type": "code",
   "execution_count": 8,
   "id": "4ff8035f",
   "metadata": {},
   "outputs": [
    {
     "data": {
      "text/plain": [
       "[71, 16, 54, 64, 76, 62, 75, 72, 74, 13, 32, 77, 20, 25, 47]"
      ]
     },
     "execution_count": 8,
     "metadata": {},
     "output_type": "execute_result"
    }
   ],
   "source": [
    "list(v11['Feature Id'])"
   ]
  },
  {
   "cell_type": "code",
   "execution_count": 9,
   "id": "d7e7d197",
   "metadata": {},
   "outputs": [
    {
     "name": "stdout",
     "output_type": "stream",
     "text": [
      "common feats in central/south america: {33, 38, 71, 13, 77, 16, 62}\n",
      "common feats in all pilots: {71, 77, 13, 16, 62}\n"
     ]
    }
   ],
   "source": [
    "# check latin america similarities, then including africa\n",
    "first_set = set(list(v09['Feature Id'])).intersection(set(list(v10['Feature Id'])))    \n",
    "result_set = first_set.intersection(set(list(v11['Feature Id'])))\n",
    "print(f'common feats in central/south america: {first_set}')\n",
    "print(f'common feats in all pilots: {result_set}')"
   ]
  },
  {
   "cell_type": "markdown",
   "id": "ae4a70ea",
   "metadata": {},
   "source": [
    "# Hyperparameter Tuning\n",
    "Hyperparameter tuning was informed by [Catboost Documentation](https://catboost.ai/en/docs/concepts/parameter-tuning#iterations). Generally speaking, Catboost's default parameters will provide a strong result, but the tuning adjustments can bring minor improvements."
   ]
  },
  {
   "cell_type": "markdown",
   "id": "b7a6e0d1",
   "metadata": {},
   "source": [
    "## Central America"
   ]
  },
  {
   "cell_type": "code",
   "execution_count": 136,
   "id": "942960e6",
   "metadata": {},
   "outputs": [
    {
     "name": "stdout",
     "output_type": "stream",
     "text": [
      "Plot id 04003 has no cloud free imagery and will be removed.\n",
      "Plot id 04005 has no cloud free imagery and will be removed.\n",
      "Plot id 04007 has no cloud free imagery and will be removed.\n",
      "Plot id 04009 has no cloud free imagery and will be removed.\n",
      "Plot id 10043 has no cloud free imagery and will be removed.\n",
      "Plot id 10067 has no cloud free imagery and will be removed.\n",
      "Baseline: 0.483\n",
      "The data has been scaled to -1.0000000000000002, 1.0000000000000002\n"
     ]
    }
   ],
   "source": [
    "# use central america training data\n",
    "X, y = pp.create_xy((14, 14), ['v03', 'v04', 'v10'], drop_prob=False, drop_feats=False, verbose=False)\n",
    "X_train_ss, X_test_ss, y_train, y_test = pp.reshape_and_scale_manual(X, y)"
   ]
  },
  {
   "cell_type": "code",
   "execution_count": 138,
   "id": "6246edb5",
   "metadata": {},
   "outputs": [
    {
     "name": "stdout",
     "output_type": "stream",
     "text": [
      "The best parameters are {'learning_rate': 0.03, 'l2_leaf_reg': 30, 'iterations': 1100, 'depth': 4} with a score of 0.9084283317567475\n"
     ]
    }
   ],
   "source": [
    "iterations = [int(x) for x in np.linspace(200, 1100, 10)]            # equiv to n_estimators\n",
    "depth = [int(x) for x in np.linspace(4, 10, 4)]                      # equiv to max_depth (must be <= 16)\n",
    "l2_reg = [int(x) for x in np.linspace(2, 30, 4)]\n",
    "learning_rate = [.01, .02, .03]                                      # decrease learning rate if overfitting \n",
    "\n",
    "param_dist = {'iterations': iterations,\n",
    "              'depth': depth,\n",
    "              'l2_leaf_reg': l2_reg,\n",
    "              'learning_rate': learning_rate}\n",
    "\n",
    "# instantiate the classifier and perform random search\n",
    "cat = CatBoostClassifier(random_seed=22, verbose=False)\n",
    "\n",
    "rds = RandomizedSearchCV(estimator=cat,\n",
    "                        param_distributions=param_dist, \n",
    "                        n_iter=30,\n",
    "                        cv=3,\n",
    "                        random_state=22)\n",
    "\n",
    "# Achieves 0.908\n",
    "rds.fit(X_train_ss, y_train)\n",
    "rds_best = rds.best_params_\n",
    "print(f\"The best parameters are {rds.best_params_} with a score of {rds.best_score_}\")"
   ]
  },
  {
   "cell_type": "code",
   "execution_count": 139,
   "id": "d5d8e3a1",
   "metadata": {},
   "outputs": [
    {
     "name": "stdout",
     "output_type": "stream",
     "text": [
      "cv: 0.9084\n",
      "train: 0.9783\n",
      "test: 0.8278\n",
      "roc_auc: 0.9134\n",
      "precision: 0.8702\n",
      "recall: 0.7888\n",
      "f1: 0.8275\n"
     ]
    }
   ],
   "source": [
    "# now fit classifier with best params and get all scores\n",
    "cat_best_params = CatBoostClassifier(random_seed=22,\n",
    "                                     learning_rate=0.03,\n",
    "                                     l2_leaf_reg=30,\n",
    "                                     iterations=1100,\n",
    "                                     depth=4,\n",
    "                                     verbose=False)\n",
    "\n",
    "cat_best_params.fit(X_train_ss, y_train) \n",
    "\n",
    "# save trained model\n",
    "filename = f'../models/cat_model_v10tuned.pkl'\n",
    "with open(filename, 'wb') as file:\n",
    "    pickle.dump(model, file)\n",
    "\n",
    "score.print_scores(cat_best_params, X_train_ss, X_test_ss, y_train, y_test)"
   ]
  },
  {
   "cell_type": "code",
   "execution_count": 3,
   "id": "0aa74095",
   "metadata": {
    "scrolled": false
   },
   "outputs": [
    {
     "data": {
      "text/html": [
       "<div>\n",
       "<style scoped>\n",
       "    .dataframe tbody tr th:only-of-type {\n",
       "        vertical-align: middle;\n",
       "    }\n",
       "\n",
       "    .dataframe tbody tr th {\n",
       "        vertical-align: top;\n",
       "    }\n",
       "\n",
       "    .dataframe thead th {\n",
       "        text-align: right;\n",
       "    }\n",
       "</style>\n",
       "<table border=\"1\" class=\"dataframe\">\n",
       "  <thead>\n",
       "    <tr style=\"text-align: right;\">\n",
       "      <th></th>\n",
       "      <th>model</th>\n",
       "      <th>cv</th>\n",
       "      <th>train_score</th>\n",
       "      <th>test_score</th>\n",
       "      <th>roc_auc</th>\n",
       "      <th>precision</th>\n",
       "      <th>recall</th>\n",
       "      <th>f1</th>\n",
       "    </tr>\n",
       "  </thead>\n",
       "  <tbody>\n",
       "    <tr>\n",
       "      <th>29</th>\n",
       "      <td>cat_model_v10</td>\n",
       "      <td>0.8884</td>\n",
       "      <td>0.9972</td>\n",
       "      <td>0.8523</td>\n",
       "      <td>0.9291</td>\n",
       "      <td>0.9239</td>\n",
       "      <td>0.7847</td>\n",
       "      <td>0.8487</td>\n",
       "    </tr>\n",
       "  </tbody>\n",
       "</table>\n",
       "</div>"
      ],
      "text/plain": [
       "            model      cv  train_score  test_score  roc_auc  precision  \\\n",
       "29  cat_model_v10  0.8884       0.9972      0.8523   0.9291     0.9239   \n",
       "\n",
       "    recall      f1  \n",
       "29  0.7847  0.8487  "
      ]
     },
     "execution_count": 3,
     "metadata": {},
     "output_type": "execute_result"
    }
   ],
   "source": [
    "original_model"
   ]
  },
  {
   "cell_type": "markdown",
   "id": "eab9b4f9",
   "metadata": {},
   "source": [
    "## West Africa\n",
    "Use the best params from the previous model to train a model for West Africa"
   ]
  },
  {
   "cell_type": "code",
   "execution_count": 26,
   "id": "1145c150",
   "metadata": {},
   "outputs": [
    {
     "name": "stdout",
     "output_type": "stream",
     "text": [
      "Plot id 08012 has no cloud free imagery and will be removed.\n",
      "Plot id 08023 has no cloud free imagery and will be removed.\n",
      "Plot id 08039 has no cloud free imagery and will be removed.\n",
      "Plot id 08114 has no cloud free imagery and will be removed.\n",
      "Plot id 08124 has no cloud free imagery and will be removed.\n",
      "Plot id 08170 has no cloud free imagery and will be removed.\n",
      "Plot id 08181 has no cloud free imagery and will be removed.\n",
      "Plot id 08204 has no cloud free imagery and will be removed.\n",
      "Plot id 08214 has no cloud free imagery and will be removed.\n",
      "Plot id 08216 has no cloud free imagery and will be removed.\n",
      "Plot id 08223 has no cloud free imagery and will be removed.\n",
      "Baseline: 0.409\n"
     ]
    }
   ],
   "source": [
    "# use central america training data\n",
    "X, y = pp.create_xy((14, 14), ['v08', 'v11'], drop_prob=False, drop_feats=False, verbose=False)\n",
    "X_train_ss, X_test_ss, y_train, y_test = pp.reshape_and_scale_manual(X, y, 'v11')"
   ]
  },
  {
   "cell_type": "code",
   "execution_count": 27,
   "id": "c6c7e81d",
   "metadata": {},
   "outputs": [
    {
     "name": "stdout",
     "output_type": "stream",
     "text": [
      "cv: 0.7833\n",
      "train: 0.9188\n",
      "test: 0.828\n",
      "roc_auc: 0.8991\n",
      "precision: 0.8442\n",
      "recall: 0.8671\n",
      "f1: 0.8555\n"
     ]
    }
   ],
   "source": [
    "# now fit classifier with best params and get all scores\n",
    "cat_best_params = CatBoostClassifier(random_seed=22,\n",
    "                                     learning_rate=0.03,\n",
    "                                     l2_leaf_reg=30,\n",
    "                                     iterations=1100,\n",
    "                                     depth=4,\n",
    "                                     verbose=False)\n",
    "\n",
    "cat_best_params.fit(X_train_ss, y_train) \n",
    "\n",
    "# save trained model\n",
    "filename = f'../models/cat_model_v11tuned.pkl'\n",
    "with open(filename, 'wb') as file:\n",
    "    pickle.dump(model, file)\n",
    "\n",
    "score.print_scores(cat_best_params, X_train_ss, X_test_ss, y_train, y_test)"
   ]
  },
  {
   "cell_type": "code",
   "execution_count": 29,
   "id": "b04cd4f6",
   "metadata": {},
   "outputs": [
    {
     "data": {
      "text/html": [
       "<div>\n",
       "<style scoped>\n",
       "    .dataframe tbody tr th:only-of-type {\n",
       "        vertical-align: middle;\n",
       "    }\n",
       "\n",
       "    .dataframe tbody tr th {\n",
       "        vertical-align: top;\n",
       "    }\n",
       "\n",
       "    .dataframe thead th {\n",
       "        text-align: right;\n",
       "    }\n",
       "</style>\n",
       "<table border=\"1\" class=\"dataframe\">\n",
       "  <thead>\n",
       "    <tr style=\"text-align: right;\">\n",
       "      <th></th>\n",
       "      <th>model</th>\n",
       "      <th>cv</th>\n",
       "      <th>train_score</th>\n",
       "      <th>test_score</th>\n",
       "      <th>roc_auc</th>\n",
       "      <th>precision</th>\n",
       "      <th>recall</th>\n",
       "      <th>f1</th>\n",
       "      <th>date</th>\n",
       "    </tr>\n",
       "  </thead>\n",
       "  <tbody>\n",
       "    <tr>\n",
       "      <th>38</th>\n",
       "      <td>cat_model_v11</td>\n",
       "      <td>0.7824</td>\n",
       "      <td>0.9831</td>\n",
       "      <td>0.8246</td>\n",
       "      <td>0.8920</td>\n",
       "      <td>0.8416</td>\n",
       "      <td>0.8638</td>\n",
       "      <td>0.8525</td>\n",
       "      <td>11/7/22</td>\n",
       "    </tr>\n",
       "    <tr>\n",
       "      <th>39</th>\n",
       "      <td>cat_model_v11_nf</td>\n",
       "      <td>0.7783</td>\n",
       "      <td>0.9289</td>\n",
       "      <td>0.7823</td>\n",
       "      <td>0.8604</td>\n",
       "      <td>0.8135</td>\n",
       "      <td>0.8164</td>\n",
       "      <td>0.8149</td>\n",
       "      <td>11/7/22</td>\n",
       "    </tr>\n",
       "  </tbody>\n",
       "</table>\n",
       "</div>"
      ],
      "text/plain": [
       "               model      cv  train_score  test_score  roc_auc  precision  \\\n",
       "38     cat_model_v11  0.7824       0.9831      0.8246   0.8920     0.8416   \n",
       "39  cat_model_v11_nf  0.7783       0.9289      0.7823   0.8604     0.8135   \n",
       "\n",
       "    recall      f1     date  \n",
       "38  0.8638  0.8525  11/7/22  \n",
       "39  0.8164  0.8149  11/7/22  "
      ]
     },
     "execution_count": 29,
     "metadata": {},
     "output_type": "execute_result"
    }
   ],
   "source": [
    "df = pd.read_csv('../models/mvp_scores.csv')\n",
    "df[df['model'].str.contains('^cat_model_v11.*') == True]"
   ]
  },
  {
   "cell_type": "markdown",
   "id": "ac6aabcc",
   "metadata": {},
   "source": [
    "## Conclusions\n",
    "### Round 2\n",
    "- There are commonalities across regions. In Latin America (Cental + South) there are 7 common features in the top 15 most important TML features `{13, 16, 33, 38, 62, 71, 77}`. All three regions share 5 of the most important features `{13, 16, 62, 71, 77}`. \n",
    "- For Central America, slope and s2 were also important predictors.\n",
    "- Hyperparameter tuning indicated the best parameters are `{'learning_rate': 0.03, 'l2_leaf_reg': 30, 'iterations': 1100, 'depth': 4}`\n",
    "- Fitting a CatBoost Classifier with selected hyperparameters did reduce overfitting.\n",
    "\n",
    "### Round 1\n",
    "- Fitting the CatboostClassifier with the top 15 TML features rather than all 65 only brought minor improvements in accuracy.\n",
    "- The feature selection exercise revealed that different features are important for different regions.\n",
    "- Index 7 (s2) and 67 (TML feat) ranked highly across all three regions.\n",
    "- Index 77 (TML tree probability) had low importance, which is expected considering it is derived from the other features. \n",
    "- Fitting CatboostClassifier with the best features and best parameters resulted in improvements between .01 - .1% across accuracy metrics."
   ]
  }
 ],
 "metadata": {
  "kernelspec": {
   "display_name": "plantmap",
   "language": "python",
   "name": "plantmap"
  },
  "language_info": {
   "codemirror_mode": {
    "name": "ipython",
    "version": 3
   },
   "file_extension": ".py",
   "mimetype": "text/x-python",
   "name": "python",
   "nbconvert_exporter": "python",
   "pygments_lexer": "ipython3",
   "version": "3.7.12"
  },
  "toc": {
   "base_numbering": 1,
   "nav_menu": {},
   "number_sections": true,
   "sideBar": true,
   "skip_h1_title": false,
   "title_cell": "Table of Contents",
   "title_sidebar": "Contents",
   "toc_cell": false,
   "toc_position": {
    "height": "calc(100% - 180px)",
    "left": "10px",
    "top": "150px",
    "width": "283px"
   },
   "toc_section_display": true,
   "toc_window_display": true
  },
  "varInspector": {
   "cols": {
    "lenName": 16,
    "lenType": 16,
    "lenVar": 40
   },
   "kernels_config": {
    "python": {
     "delete_cmd_postfix": "",
     "delete_cmd_prefix": "del ",
     "library": "var_list.py",
     "varRefreshCmd": "print(var_dic_list())"
    },
    "r": {
     "delete_cmd_postfix": ") ",
     "delete_cmd_prefix": "rm(",
     "library": "var_list.r",
     "varRefreshCmd": "cat(var_dic_list()) "
    }
   },
   "types_to_exclude": [
    "module",
    "function",
    "builtin_function_or_method",
    "instance",
    "_Feature"
   ],
   "window_display": false
  }
 },
 "nbformat": 4,
 "nbformat_minor": 5
}
