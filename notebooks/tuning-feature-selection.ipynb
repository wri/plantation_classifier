{
 "cells": [
  {
   "cell_type": "markdown",
   "id": "16fc12a5",
   "metadata": {},
   "source": [
    "# Model Tuning\n",
    "\n",
    "This notebook includes a hyperparameter tuning and feature selection exercise for the top performing classifier. The objective is to narrow down which TML features and hyperparameters will be used in the next phase of scaling to jurisdictional scale maps."
   ]
  },
  {
   "cell_type": "code",
   "execution_count": 48,
   "id": "ce100d5f",
   "metadata": {},
   "outputs": [
    {
     "name": "stdout",
     "output_type": "stream",
     "text": [
      "The autoreload extension is already loaded. To reload it, use:\n",
      "  %reload_ext autoreload\n"
     ]
    }
   ],
   "source": [
    "import matplotlib.pyplot as plt\n",
    "import seaborn as sns\n",
    "import sys\n",
    "sys.path.append('../src/prototype')\n",
    "import prepare_data as pp\n",
    "import run_preds as rp\n",
    "import score_classifier as score\n",
    "import visualize as viz\n",
    "import pandas as pd\n",
    "import pickle\n",
    "from datetime import datetime\n",
    "from catboost import CatBoostClassifier\n",
    "from sklearn.model_selection import cross_val_score, GridSearchCV, RandomizedSearchCV\n",
    "from sklearn.metrics import roc_curve, roc_auc_score, precision_recall_curve, f1_score, precision_score, recall_score, confusion_matrix, ConfusionMatrixDisplay\n",
    "\n",
    "%load_ext autoreload\n",
    "%autoreload 2"
   ]
  },
  {
   "cell_type": "markdown",
   "id": "c7df8f91",
   "metadata": {},
   "source": [
    "# Feature Analysis\n",
    "Evaluate feature importance for the top performing MVP model (Catboost). Training with only the most important features will help to reduce overfitting and training time, while improving accuracy by removing misleading data and noise. I want to narrow down the 65 TML features to 15 with the highest feature importance. Feature importance values are normalized so that the sum of importances of all features is equal to 100.  \n",
    "  \n",
    "Index `0`: slope  \n",
    "Index `1:3`: s1  \n",
    "Index `3:13`: s2  \n",
    "Index `13:77`: TML features (`77` is TML tree probability)"
   ]
  },
  {
   "cell_type": "code",
   "execution_count": 2,
   "id": "70a83287",
   "metadata": {},
   "outputs": [],
   "source": [
    "def feature_selection(model, feat_count):\n",
    "    \n",
    "    filename = f'../models/{model}.pkl'\n",
    "    with open(filename, 'rb') as file:\n",
    "        model = pickle.load(file)\n",
    "\n",
    "    # calculate the feature importance \n",
    "    feat_import = model.get_feature_importance(prettified=True)\n",
    "    feat_import = feat_import.astype({'Feature Id': int})\n",
    "\n",
    "    # filter to only TML feats (anything after index 13)\n",
    "    tml_feat_import = feat_import[feat_import['Feature Id'] >= 13]\n",
    "\n",
    "    # get the n most important feats\n",
    "    top_tml = tml_feat_import.sort_values(by='Importances', ascending=False)[:feat_count]\n",
    "    \n",
    "#     # which features describe 80-90% of the importance?\n",
    "#     count = 40\n",
    "#     tops = most_important.sort_values(by='Importances', ascending=False)[0:count]\n",
    "#     percentage = tops.Importances.sum()\n",
    "    \n",
    "    return feat_import, top_tml\n",
    "\n",
    "\n",
    "def visualize_importance(model, feature_importance, figsize):\n",
    "    \n",
    "    plt.figure(figsize=figsize) \n",
    "\n",
    "    sns.barplot(y='Feature Id', \n",
    "                x='Importances', \n",
    "                data=feature_importance,\n",
    "                orient='h', \n",
    "                palette=\"Greens_d\")\n",
    "    \n",
    "    plt.title(f'Feature Importance for {model}')\n",
    "    plt.xlabel('Feature Importance')\n",
    "    plt.ylabel('Feature');\n",
    "#     plt.xticks(rotation=80, ha='right');\n",
    "    \n",
    "    return None\n",
    "    \n",
    "    "
   ]
  },
  {
   "cell_type": "markdown",
   "id": "c1059e77",
   "metadata": {},
   "source": [
    "## Visualize Feature Importance\n",
    "\n",
    "The first visualization illustrates the feature importance scores for all features used in the selected model. The second visualizations illustrates the feature importance scores for the features that explain 80-90% of the importance for the same model OR the top 15 ranked features."
   ]
  },
  {
   "cell_type": "markdown",
   "id": "37fbebe6",
   "metadata": {},
   "source": [
    "## West Africa\n"
   ]
  },
  {
   "cell_type": "code",
   "execution_count": 3,
   "id": "f9fd53e5",
   "metadata": {},
   "outputs": [
    {
     "data": {
      "text/html": [
       "<div>\n",
       "<style scoped>\n",
       "    .dataframe tbody tr th:only-of-type {\n",
       "        vertical-align: middle;\n",
       "    }\n",
       "\n",
       "    .dataframe tbody tr th {\n",
       "        vertical-align: top;\n",
       "    }\n",
       "\n",
       "    .dataframe thead th {\n",
       "        text-align: right;\n",
       "    }\n",
       "</style>\n",
       "<table border=\"1\" class=\"dataframe\">\n",
       "  <thead>\n",
       "    <tr style=\"text-align: right;\">\n",
       "      <th></th>\n",
       "      <th>model</th>\n",
       "      <th>class</th>\n",
       "      <th>cv</th>\n",
       "      <th>train_score</th>\n",
       "      <th>test_score</th>\n",
       "      <th>roc_auc</th>\n",
       "      <th>precision</th>\n",
       "      <th>recall</th>\n",
       "      <th>f1</th>\n",
       "      <th>date</th>\n",
       "    </tr>\n",
       "  </thead>\n",
       "  <tbody>\n",
       "    <tr>\n",
       "      <th>65</th>\n",
       "      <td>cat_v15_2</td>\n",
       "      <td>binary</td>\n",
       "      <td>0.804</td>\n",
       "      <td>0.9553</td>\n",
       "      <td>0.8548</td>\n",
       "      <td>0.8907</td>\n",
       "      <td>0.8631</td>\n",
       "      <td>0.9471</td>\n",
       "      <td>0.9031</td>\n",
       "      <td>2/1/23</td>\n",
       "    </tr>\n",
       "  </tbody>\n",
       "</table>\n",
       "</div>"
      ],
      "text/plain": [
       "        model   class     cv  train_score  test_score  roc_auc  precision  \\\n",
       "65  cat_v15_2  binary  0.804       0.9553      0.8548   0.8907     0.8631   \n",
       "\n",
       "    recall      f1    date  \n",
       "65  0.9471  0.9031  2/1/23  "
      ]
     },
     "execution_count": 3,
     "metadata": {},
     "output_type": "execute_result"
    }
   ],
   "source": [
    "df = pd.read_csv('../models/mvp_scores.csv')\n",
    "starter_model = df[65:]\n",
    "starter_model"
   ]
  },
  {
   "cell_type": "code",
   "execution_count": 4,
   "id": "577eee5d",
   "metadata": {},
   "outputs": [],
   "source": [
    "feats, tml_feats = feature_selection('cat_v15_2', 15)"
   ]
  },
  {
   "cell_type": "code",
   "execution_count": 5,
   "id": "6421bebf",
   "metadata": {},
   "outputs": [
    {
     "data": {
      "image/png": "[encoded data removed]",
      "text/plain": [
       "<Figure size 600x1300 with 1 Axes>"
      ]
     },
     "metadata": {},
     "output_type": "display_data"
    }
   ],
   "source": [
    "visualize_importance('cat_v15_2', feats, (6,13))"
   ]
  },
  {
   "cell_type": "code",
   "execution_count": 7,
   "id": "69bd33e2",
   "metadata": {},
   "outputs": [
    {
     "data": {
      "image/png": "[encoded data removed]",
      "text/plain": [
       "<Figure size 400x400 with 1 Axes>"
      ]
     },
     "metadata": {},
     "output_type": "display_data"
    }
   ],
   "source": [
    "visualize_importance('cat_v15_2', tml_feats, (4,4))"
   ]
  },
  {
   "cell_type": "code",
   "execution_count": 8,
   "id": "fb66e955",
   "metadata": {},
   "outputs": [
    {
     "data": {
      "text/plain": [
       "[62, 16, 71, 54, 75, 47, 32, 76, 65, 72, 64, 52, 73, 77, 25]"
      ]
     },
     "execution_count": 8,
     "metadata": {},
     "output_type": "execute_result"
    }
   ],
   "source": [
    "list(tml_feats['Feature Id'])"
   ]
  },
  {
   "cell_type": "markdown",
   "id": "bd8a46d5",
   "metadata": {},
   "source": [
    "## Central America"
   ]
  },
  {
   "cell_type": "code",
   "execution_count": 61,
   "id": "c7cb2cbc",
   "metadata": {},
   "outputs": [
    {
     "data": {
      "text/html": [
       "<div>\n",
       "<style scoped>\n",
       "    .dataframe tbody tr th:only-of-type {\n",
       "        vertical-align: middle;\n",
       "    }\n",
       "\n",
       "    .dataframe tbody tr th {\n",
       "        vertical-align: top;\n",
       "    }\n",
       "\n",
       "    .dataframe thead th {\n",
       "        text-align: right;\n",
       "    }\n",
       "</style>\n",
       "<table border=\"1\" class=\"dataframe\">\n",
       "  <thead>\n",
       "    <tr style=\"text-align: right;\">\n",
       "      <th></th>\n",
       "      <th>model</th>\n",
       "      <th>cv</th>\n",
       "      <th>train_score</th>\n",
       "      <th>test_score</th>\n",
       "      <th>roc_auc</th>\n",
       "      <th>precision</th>\n",
       "      <th>recall</th>\n",
       "      <th>f1</th>\n",
       "      <th>date</th>\n",
       "    </tr>\n",
       "  </thead>\n",
       "  <tbody>\n",
       "    <tr>\n",
       "      <th>14</th>\n",
       "      <td>cat_model_v10_np</td>\n",
       "      <td>0.8908</td>\n",
       "      <td>0.9969</td>\n",
       "      <td>0.8518</td>\n",
       "      <td>0.9302</td>\n",
       "      <td>0.9210</td>\n",
       "      <td>0.7865</td>\n",
       "      <td>0.8485</td>\n",
       "      <td>NaN</td>\n",
       "    </tr>\n",
       "    <tr>\n",
       "      <th>19</th>\n",
       "      <td>cat_model_v10_nf</td>\n",
       "      <td>0.8957</td>\n",
       "      <td>0.9850</td>\n",
       "      <td>0.8262</td>\n",
       "      <td>0.9101</td>\n",
       "      <td>0.9053</td>\n",
       "      <td>0.7489</td>\n",
       "      <td>0.8197</td>\n",
       "      <td>NaN</td>\n",
       "    </tr>\n",
       "    <tr>\n",
       "      <th>27</th>\n",
       "      <td>cat_model_v10</td>\n",
       "      <td>0.8884</td>\n",
       "      <td>0.9972</td>\n",
       "      <td>0.8523</td>\n",
       "      <td>0.9291</td>\n",
       "      <td>0.9239</td>\n",
       "      <td>0.7847</td>\n",
       "      <td>0.8487</td>\n",
       "      <td>NaN</td>\n",
       "    </tr>\n",
       "    <tr>\n",
       "      <th>40</th>\n",
       "      <td>cat_model_v10</td>\n",
       "      <td>0.9073</td>\n",
       "      <td>0.9982</td>\n",
       "      <td>0.8269</td>\n",
       "      <td>0.9126</td>\n",
       "      <td>0.8695</td>\n",
       "      <td>0.7876</td>\n",
       "      <td>0.8265</td>\n",
       "      <td>11/7/22</td>\n",
       "    </tr>\n",
       "    <tr>\n",
       "      <th>41</th>\n",
       "      <td>cat_model_v10_nf</td>\n",
       "      <td>0.8950</td>\n",
       "      <td>0.9854</td>\n",
       "      <td>0.8293</td>\n",
       "      <td>0.9098</td>\n",
       "      <td>0.8685</td>\n",
       "      <td>0.7942</td>\n",
       "      <td>0.8297</td>\n",
       "      <td>11/7/22</td>\n",
       "    </tr>\n",
       "  </tbody>\n",
       "</table>\n",
       "</div>"
      ],
      "text/plain": [
       "               model      cv  train_score  test_score  roc_auc  precision  \\\n",
       "14  cat_model_v10_np  0.8908       0.9969      0.8518   0.9302     0.9210   \n",
       "19  cat_model_v10_nf  0.8957       0.9850      0.8262   0.9101     0.9053   \n",
       "27     cat_model_v10  0.8884       0.9972      0.8523   0.9291     0.9239   \n",
       "40     cat_model_v10  0.9073       0.9982      0.8269   0.9126     0.8695   \n",
       "41  cat_model_v10_nf  0.8950       0.9854      0.8293   0.9098     0.8685   \n",
       "\n",
       "    recall      f1     date  \n",
       "14  0.7865  0.8485      NaN  \n",
       "19  0.7489  0.8197      NaN  \n",
       "27  0.7847  0.8487      NaN  \n",
       "40  0.7876  0.8265  11/7/22  \n",
       "41  0.7942  0.8297  11/7/22  "
      ]
     },
     "execution_count": 61,
     "metadata": {},
     "output_type": "execute_result"
    }
   ],
   "source": [
    "df = pd.read_csv('../models/mvp_scores.csv')\n",
    "df[df['model'].str.contains('^cat_model_v10.*') == True]"
   ]
  },
  {
   "cell_type": "markdown",
   "id": "61ad2581",
   "metadata": {},
   "source": [
    "## Check consistency across regions\n",
    "Are the same features important for the catboost model in West Africa and South America? This section compares the top 15 most important features across regions."
   ]
  },
  {
   "cell_type": "code",
   "execution_count": 4,
   "id": "acac4cf5",
   "metadata": {},
   "outputs": [
    {
     "data": {
      "text/html": [
       "<div>\n",
       "<style scoped>\n",
       "    .dataframe tbody tr th:only-of-type {\n",
       "        vertical-align: middle;\n",
       "    }\n",
       "\n",
       "    .dataframe tbody tr th {\n",
       "        vertical-align: top;\n",
       "    }\n",
       "\n",
       "    .dataframe thead th {\n",
       "        text-align: right;\n",
       "    }\n",
       "</style>\n",
       "<table border=\"1\" class=\"dataframe\">\n",
       "  <thead>\n",
       "    <tr style=\"text-align: right;\">\n",
       "      <th></th>\n",
       "      <th>Feature Id</th>\n",
       "      <th>Importances</th>\n",
       "    </tr>\n",
       "  </thead>\n",
       "  <tbody>\n",
       "    <tr>\n",
       "      <th>1</th>\n",
       "      <td>71</td>\n",
       "      <td>7.007700</td>\n",
       "    </tr>\n",
       "    <tr>\n",
       "      <th>3</th>\n",
       "      <td>16</td>\n",
       "      <td>5.586165</td>\n",
       "    </tr>\n",
       "    <tr>\n",
       "      <th>6</th>\n",
       "      <td>54</td>\n",
       "      <td>3.646442</td>\n",
       "    </tr>\n",
       "    <tr>\n",
       "      <th>7</th>\n",
       "      <td>64</td>\n",
       "      <td>3.270772</td>\n",
       "    </tr>\n",
       "    <tr>\n",
       "      <th>8</th>\n",
       "      <td>76</td>\n",
       "      <td>3.261219</td>\n",
       "    </tr>\n",
       "    <tr>\n",
       "      <th>10</th>\n",
       "      <td>62</td>\n",
       "      <td>3.126678</td>\n",
       "    </tr>\n",
       "    <tr>\n",
       "      <th>11</th>\n",
       "      <td>75</td>\n",
       "      <td>2.760612</td>\n",
       "    </tr>\n",
       "    <tr>\n",
       "      <th>12</th>\n",
       "      <td>72</td>\n",
       "      <td>2.658921</td>\n",
       "    </tr>\n",
       "    <tr>\n",
       "      <th>13</th>\n",
       "      <td>74</td>\n",
       "      <td>2.524666</td>\n",
       "    </tr>\n",
       "    <tr>\n",
       "      <th>14</th>\n",
       "      <td>13</td>\n",
       "      <td>2.363818</td>\n",
       "    </tr>\n",
       "    <tr>\n",
       "      <th>15</th>\n",
       "      <td>32</td>\n",
       "      <td>2.300606</td>\n",
       "    </tr>\n",
       "    <tr>\n",
       "      <th>16</th>\n",
       "      <td>77</td>\n",
       "      <td>1.736156</td>\n",
       "    </tr>\n",
       "    <tr>\n",
       "      <th>17</th>\n",
       "      <td>20</td>\n",
       "      <td>1.692248</td>\n",
       "    </tr>\n",
       "    <tr>\n",
       "      <th>20</th>\n",
       "      <td>25</td>\n",
       "      <td>1.179787</td>\n",
       "    </tr>\n",
       "    <tr>\n",
       "      <th>23</th>\n",
       "      <td>47</td>\n",
       "      <td>1.101969</td>\n",
       "    </tr>\n",
       "  </tbody>\n",
       "</table>\n",
       "</div>"
      ],
      "text/plain": [
       "    Feature Id  Importances\n",
       "1           71     7.007700\n",
       "3           16     5.586165\n",
       "6           54     3.646442\n",
       "7           64     3.270772\n",
       "8           76     3.261219\n",
       "10          62     3.126678\n",
       "11          75     2.760612\n",
       "12          72     2.658921\n",
       "13          74     2.524666\n",
       "14          13     2.363818\n",
       "15          32     2.300606\n",
       "16          77     1.736156\n",
       "17          20     1.692248\n",
       "20          25     1.179787\n",
       "23          47     1.101969"
      ]
     },
     "execution_count": 4,
     "metadata": {},
     "output_type": "execute_result"
    }
   ],
   "source": [
    "# are the same features important for catboost in west africa?\n",
    "feats_v11, tml_feats_v11 = feature_selection('cat_v11', 15)"
   ]
  },
  {
   "cell_type": "code",
   "execution_count": 5,
   "id": "fe98405a",
   "metadata": {
    "scrolled": true
   },
   "outputs": [
    {
     "data": {
      "text/html": [
       "<div>\n",
       "<style scoped>\n",
       "    .dataframe tbody tr th:only-of-type {\n",
       "        vertical-align: middle;\n",
       "    }\n",
       "\n",
       "    .dataframe tbody tr th {\n",
       "        vertical-align: top;\n",
       "    }\n",
       "\n",
       "    .dataframe thead th {\n",
       "        text-align: right;\n",
       "    }\n",
       "</style>\n",
       "<table border=\"1\" class=\"dataframe\">\n",
       "  <thead>\n",
       "    <tr style=\"text-align: right;\">\n",
       "      <th></th>\n",
       "      <th>Feature Id</th>\n",
       "      <th>Importances</th>\n",
       "    </tr>\n",
       "  </thead>\n",
       "  <tbody>\n",
       "    <tr>\n",
       "      <th>2</th>\n",
       "      <td>16</td>\n",
       "      <td>5.736892</td>\n",
       "    </tr>\n",
       "    <tr>\n",
       "      <th>4</th>\n",
       "      <td>33</td>\n",
       "      <td>3.903781</td>\n",
       "    </tr>\n",
       "    <tr>\n",
       "      <th>9</th>\n",
       "      <td>51</td>\n",
       "      <td>2.772934</td>\n",
       "    </tr>\n",
       "    <tr>\n",
       "      <th>10</th>\n",
       "      <td>62</td>\n",
       "      <td>2.696718</td>\n",
       "    </tr>\n",
       "    <tr>\n",
       "      <th>11</th>\n",
       "      <td>13</td>\n",
       "      <td>2.542589</td>\n",
       "    </tr>\n",
       "    <tr>\n",
       "      <th>12</th>\n",
       "      <td>72</td>\n",
       "      <td>2.429293</td>\n",
       "    </tr>\n",
       "    <tr>\n",
       "      <th>13</th>\n",
       "      <td>24</td>\n",
       "      <td>2.274026</td>\n",
       "    </tr>\n",
       "    <tr>\n",
       "      <th>17</th>\n",
       "      <td>71</td>\n",
       "      <td>1.643682</td>\n",
       "    </tr>\n",
       "    <tr>\n",
       "      <th>18</th>\n",
       "      <td>20</td>\n",
       "      <td>1.578809</td>\n",
       "    </tr>\n",
       "    <tr>\n",
       "      <th>19</th>\n",
       "      <td>47</td>\n",
       "      <td>1.521576</td>\n",
       "    </tr>\n",
       "    <tr>\n",
       "      <th>20</th>\n",
       "      <td>77</td>\n",
       "      <td>1.480200</td>\n",
       "    </tr>\n",
       "    <tr>\n",
       "      <th>21</th>\n",
       "      <td>75</td>\n",
       "      <td>1.435575</td>\n",
       "    </tr>\n",
       "    <tr>\n",
       "      <th>22</th>\n",
       "      <td>68</td>\n",
       "      <td>1.306945</td>\n",
       "    </tr>\n",
       "    <tr>\n",
       "      <th>23</th>\n",
       "      <td>25</td>\n",
       "      <td>1.284786</td>\n",
       "    </tr>\n",
       "    <tr>\n",
       "      <th>25</th>\n",
       "      <td>38</td>\n",
       "      <td>1.209190</td>\n",
       "    </tr>\n",
       "  </tbody>\n",
       "</table>\n",
       "</div>"
      ],
      "text/plain": [
       "    Feature Id  Importances\n",
       "2           16     5.736892\n",
       "4           33     3.903781\n",
       "9           51     2.772934\n",
       "10          62     2.696718\n",
       "11          13     2.542589\n",
       "12          72     2.429293\n",
       "13          24     2.274026\n",
       "17          71     1.643682\n",
       "18          20     1.578809\n",
       "19          47     1.521576\n",
       "20          77     1.480200\n",
       "21          75     1.435575\n",
       "22          68     1.306945\n",
       "23          25     1.284786\n",
       "25          38     1.209190"
      ]
     },
     "execution_count": 5,
     "metadata": {},
     "output_type": "execute_result"
    }
   ],
   "source": [
    "# how about south america? (v9)\n",
    "feats_v9, tml_feats_v9 = feature_selection('cat_v9', 15)"
   ]
  },
  {
   "cell_type": "code",
   "execution_count": 6,
   "id": "23b1f69b",
   "metadata": {},
   "outputs": [
    {
     "data": {
      "text/plain": [
       "[16, 33, 51, 62, 13, 72, 24, 71, 20, 47, 77, 75, 68, 25, 38]"
      ]
     },
     "execution_count": 6,
     "metadata": {},
     "output_type": "execute_result"
    }
   ],
   "source": [
    "# what are the common best features across three regions\n",
    "list(v09['Feature Id'])"
   ]
  },
  {
   "cell_type": "code",
   "execution_count": 7,
   "id": "3e090032",
   "metadata": {},
   "outputs": [
    {
     "data": {
      "text/plain": [
       "[62, 71, 74, 32, 64, 54, 33, 38, 46, 16, 77, 36, 60, 19, 13]"
      ]
     },
     "execution_count": 7,
     "metadata": {},
     "output_type": "execute_result"
    }
   ],
   "source": [
    "list(v10['Feature Id'])"
   ]
  },
  {
   "cell_type": "code",
   "execution_count": 8,
   "id": "4ff8035f",
   "metadata": {},
   "outputs": [
    {
     "data": {
      "text/plain": [
       "[71, 16, 54, 64, 76, 62, 75, 72, 74, 13, 32, 77, 20, 25, 47]"
      ]
     },
     "execution_count": 8,
     "metadata": {},
     "output_type": "execute_result"
    }
   ],
   "source": [
    "list(v11['Feature Id'])"
   ]
  },
  {
   "cell_type": "code",
   "execution_count": 9,
   "id": "d7e7d197",
   "metadata": {},
   "outputs": [
    {
     "name": "stdout",
     "output_type": "stream",
     "text": [
      "common feats in central/south america: {33, 38, 71, 13, 77, 16, 62}\n",
      "common feats in all pilots: {71, 77, 13, 16, 62}\n"
     ]
    }
   ],
   "source": [
    "# check latin america similarities, then including africa\n",
    "first_set = set(list(v09['Feature Id'])).intersection(set(list(v10['Feature Id'])))    \n",
    "result_set = first_set.intersection(set(list(v11['Feature Id'])))\n",
    "print(f'common feats in central/south america: {first_set}')\n",
    "print(f'common feats in all pilots: {result_set}')"
   ]
  },
  {
   "cell_type": "markdown",
   "id": "ae4a70ea",
   "metadata": {},
   "source": [
    "# Hyperparameter Tuning\n",
    "Hyperparameter tuning was informed by [Catboost Documentation](https://catboost.ai/en/docs/concepts/parameter-tuning#iterations) and using CatBoost's built in method for randomized searches. Generally speaking, Catboost's default parameters will provide a strong result, but the tuning adjustments can bring minor improvements."
   ]
  },
  {
   "cell_type": "code",
   "execution_count": 35,
   "id": "ae79d6bd",
   "metadata": {},
   "outputs": [],
   "source": [
    "\n",
    "def random_search_cat(X_train_ss, y_train, train_v):\n",
    "    '''\n",
    "    Performs a randomized search of hyperparameters using Catboost's built in\n",
    "    random search method and plots the results, then\n",
    "    and saves results to a csv file\n",
    "    '''\n",
    "\n",
    "    iterations = [int(x) for x in np.linspace(400, 1100, 10)]            # equiv to n_estimators\n",
    "    depth = [int(x) for x in np.linspace(4, 10, 4)]                      # equiv to max_depth (must be <= 16)\n",
    "    l2_leaf_reg = [int(x) for x in np.linspace(2, 30, 4)]\n",
    "    learning_rate = [.01, .02, .03]                                      # decrease learning rate if overfitting \n",
    "\n",
    "    param_dist = {'iterations': iterations,\n",
    "                  'depth': depth,\n",
    "                  'l2_leaf_reg': l2_leaf_reg,\n",
    "                  'learning_rate': learning_rate}\n",
    "\n",
    "    # instantiate the classifier and perform Catboost built in method for random search\n",
    "    cat = CatBoostClassifier(random_seed=22, verbose=False)\n",
    "    randomized_search_result = cat.randomized_search(param_dist,\n",
    "                                                     X=X_train_ss,\n",
    "                                                     y=y_train,\n",
    "                                                     n_iter=30,\n",
    "                                                     cv=3,\n",
    "                                                     plot=True)\n",
    "        \n",
    "    rs_results = {'model': 'cat', \n",
    "                  'train_v': {train_v},\n",
    "                  'class': 'binary',\n",
    "                  'iterations': iterations,\n",
    "                  'depth': depth,\n",
    "                  'l2_leaf_reg': l2_leaf_reg,\n",
    "                  'learning_rate': learning_rate,\n",
    "                  'results': randomized_search_result,\n",
    "                  'date': datetime.today().strftime('%Y-%m-%d')}\n",
    "\n",
    "    df = pd.DataFrame([rs_results])\n",
    "    \n",
    "    # write scores to new line of csv\n",
    "    with open('../models/random_search.csv', 'a') as f:\n",
    "        f.write('\\n')\n",
    "    df.to_csv('../models/random_search.csv', mode='a', index=False, header=False)\n",
    "    \n",
    "    # save params to json file\n",
    "    \n",
    "    return randomized_search_result\n"
   ]
  },
  {
   "cell_type": "markdown",
   "id": "eab9b4f9",
   "metadata": {},
   "source": [
    "## West Africa\n",
    "Hyperparameter tuning is done with the top 15 features as well as with the entire feature set."
   ]
  },
  {
   "cell_type": "code",
   "execution_count": 31,
   "id": "0e942e8f",
   "metadata": {},
   "outputs": [
    {
     "data": {
      "text/plain": [
       "[49, 3, 58, 41, 62, 34, 19, 63, 52, 59, 51, 39, 60, 64, 12]"
      ]
     },
     "execution_count": 31,
     "metadata": {},
     "output_type": "execute_result"
    }
   ],
   "source": [
    "# train a model using only 15 top feats from above\n",
    "selected_feats = list(tml_feats['Feature Id'])\n",
    "\n",
    "# update the indices since tml_feats are input individually\n",
    "# subtract 13 from every val to get the original index in feats array\n",
    "# feats is an array of 78, \n",
    "#\n",
    "selected_feats = [feat - 13 for feat in selected_feats]\n",
    "selected_feats"
   ]
  },
  {
   "cell_type": "code",
   "execution_count": 50,
   "id": "1145c150",
   "metadata": {},
   "outputs": [],
   "source": [
    "X, y = pp.create_xy(['v08', 'v11', 'v14', 'v15'], \n",
    "                    classes='binary', \n",
    "                    drop_prob=False, \n",
    "                    drop_feats=False, \n",
    "                    feature_select=selected_feats, \n",
    "                    verbose=True)"
   ]
  },
  {
   "cell_type": "code",
   "execution_count": 33,
   "id": "af15e585",
   "metadata": {},
   "outputs": [],
   "source": [
    "X_train_ss, X_test_ss, y_train, y_test = pp.reshape_no_scaling(X, y)"
   ]
  },
  {
   "cell_type": "code",
   "execution_count": 29,
   "id": "49ea4ad7",
   "metadata": {},
   "outputs": [],
   "source": [
    "y_test, pred, probs, probs_pos = rp.fit_eval_classifier(X_train_ss, X_test_ss, y_train, y_test, 'cat','v15_fs')"
   ]
  },
  {
   "cell_type": "code",
   "execution_count": 36,
   "id": "a969e38d",
   "metadata": {},
   "outputs": [
    {
     "data": {
      "application/vnd.jupyter.widget-view+json": {
       "model_id": "24f22a47018541e8a9132a58e4054165",
       "version_major": 2,
       "version_minor": 0
      },
      "text/plain": [
       "MetricVisualizer(layout=Layout(align_self='stretch', height='500px'))"
      ]
     },
     "metadata": {},
     "output_type": "display_data"
    },
    {
     "name": "stdout",
     "output_type": "stream",
     "text": [
      "\n",
      "bestTest = 0.3578488809\n",
      "bestIteration = 476\n",
      "\n",
      "0:\tloss: 0.3578489\tbest: 0.3578489 (0)\ttotal: 3.4s\tremaining: 1m 38s\n",
      "\n",
      "bestTest = 0.3588610535\n",
      "bestIteration = 476\n",
      "\n",
      "1:\tloss: 0.3588611\tbest: 0.3578489 (0)\ttotal: 7.2s\tremaining: 1m 40s\n",
      "\n",
      "bestTest = 0.3633417579\n",
      "bestIteration = 632\n",
      "\n",
      "2:\tloss: 0.3633418\tbest: 0.3578489 (0)\ttotal: 11.1s\tremaining: 1m 39s\n",
      "\n",
      "bestTest = 0.3642340982\n",
      "bestIteration = 632\n",
      "\n",
      "3:\tloss: 0.3642341\tbest: 0.3578489 (0)\ttotal: 15s\tremaining: 1m 37s\n",
      "\n",
      "bestTest = 0.3442098435\n",
      "bestIteration = 632\n",
      "\n",
      "4:\tloss: 0.3442098\tbest: 0.3442098 (4)\ttotal: 18.9s\tremaining: 1m 34s\n",
      "\n",
      "bestTest = 0.3482846752\n",
      "bestIteration = 865\n",
      "\n",
      "5:\tloss: 0.3482847\tbest: 0.3442098 (4)\ttotal: 24.2s\tremaining: 1m 36s\n",
      "\n",
      "bestTest = 0.3805266705\n",
      "bestIteration = 865\n",
      "\n",
      "6:\tloss: 0.3805267\tbest: 0.3442098 (4)\ttotal: 29.5s\tremaining: 1m 37s\n",
      "\n",
      "bestTest = 0.3291072863\n",
      "bestIteration = 865\n",
      "\n",
      "7:\tloss: 0.3291073\tbest: 0.3291073 (7)\ttotal: 35.1s\tremaining: 1m 36s\n",
      "\n",
      "bestTest = 0.3420669084\n",
      "bestIteration = 1021\n",
      "\n",
      "8:\tloss: 0.3420669\tbest: 0.3291073 (7)\ttotal: 41.7s\tremaining: 1m 37s\n",
      "\n",
      "bestTest = 0.3861267048\n",
      "bestIteration = 399\n",
      "\n",
      "9:\tloss: 0.3861267\tbest: 0.3291073 (7)\ttotal: 45.2s\tremaining: 1m 30s\n",
      "\n",
      "bestTest = 0.3869573536\n",
      "bestIteration = 399\n",
      "\n",
      "10:\tloss: 0.3869574\tbest: 0.3291073 (7)\ttotal: 48.9s\tremaining: 1m 24s\n",
      "\n",
      "bestTest = 0.3791623787\n",
      "bestIteration = 476\n",
      "\n",
      "11:\tloss: 0.3791624\tbest: 0.3291073 (7)\ttotal: 53s\tremaining: 1m 19s\n",
      "\n",
      "bestTest = 0.3081450866\n",
      "bestIteration = 554\n",
      "\n",
      "12:\tloss: 0.3081451\tbest: 0.3081451 (12)\ttotal: 57.8s\tremaining: 1m 15s\n",
      "\n",
      "bestTest = 0.3583623123\n",
      "bestIteration = 710\n",
      "\n",
      "13:\tloss: 0.3583623\tbest: 0.3081451 (12)\ttotal: 1m 4s\tremaining: 1m 14s\n",
      "\n",
      "bestTest = 0.2901805052\n",
      "bestIteration = 1099\n",
      "\n",
      "14:\tloss: 0.2901805\tbest: 0.2901805 (14)\ttotal: 1m 17s\tremaining: 1m 17s\n",
      "\n",
      "bestTest = 0.2928794427\n",
      "bestIteration = 1099\n",
      "\n",
      "15:\tloss: 0.2928794\tbest: 0.2901805 (14)\ttotal: 1m 29s\tremaining: 1m 18s\n",
      "\n",
      "bestTest = 0.321084124\n",
      "bestIteration = 399\n",
      "\n",
      "16:\tloss: 0.3210841\tbest: 0.2901805 (14)\ttotal: 1m 36s\tremaining: 1m 14s\n",
      "\n",
      "bestTest = 0.364491739\n",
      "bestIteration = 399\n",
      "\n",
      "17:\tloss: 0.3644917\tbest: 0.2901805 (14)\ttotal: 1m 45s\tremaining: 1m 10s\n",
      "\n",
      "bestTest = 0.2889683617\n",
      "bestIteration = 476\n",
      "\n",
      "18:\tloss: 0.2889684\tbest: 0.2889684 (18)\ttotal: 1m 54s\tremaining: 1m 6s\n",
      "\n",
      "bestTest = 0.2757687412\n",
      "bestIteration = 554\n",
      "\n",
      "19:\tloss: 0.2757687\tbest: 0.2757687 (19)\ttotal: 2m 4s\tremaining: 1m 2s\n",
      "\n",
      "bestTest = 0.3359055687\n",
      "bestIteration = 632\n",
      "\n",
      "20:\tloss: 0.3359056\tbest: 0.2757687 (19)\ttotal: 2m 14s\tremaining: 57.8s\n",
      "\n",
      "bestTest = 0.3116653121\n",
      "bestIteration = 865\n",
      "\n",
      "21:\tloss: 0.3116653\tbest: 0.2757687 (19)\ttotal: 2m 30s\tremaining: 54.8s\n",
      "\n",
      "bestTest = 0.220107491\n",
      "bestIteration = 1099\n",
      "\n",
      "22:\tloss: 0.2201075\tbest: 0.2201075 (22)\ttotal: 2m 50s\tremaining: 51.8s\n",
      "\n",
      "bestTest = 0.340454775\n",
      "bestIteration = 399\n",
      "\n",
      "23:\tloss: 0.3404548\tbest: 0.2201075 (22)\ttotal: 3m 8s\tremaining: 47.2s\n",
      "\n",
      "bestTest = 0.243480343\n",
      "bestIteration = 632\n",
      "\n",
      "24:\tloss: 0.2434803\tbest: 0.2201075 (22)\ttotal: 3m 38s\tremaining: 43.6s\n",
      "\n",
      "bestTest = 0.2158574299\n",
      "bestIteration = 710\n",
      "\n",
      "25:\tloss: 0.2158574\tbest: 0.2158574 (25)\ttotal: 4m 9s\tremaining: 38.4s\n",
      "\n",
      "bestTest = 0.225346869\n",
      "bestIteration = 943\n",
      "\n",
      "26:\tloss: 0.2253469\tbest: 0.2158574 (25)\ttotal: 4m 51s\tremaining: 32.4s\n",
      "\n",
      "bestTest = 0.2787009247\n",
      "bestIteration = 1021\n",
      "\n",
      "27:\tloss: 0.2787009\tbest: 0.2158574 (25)\ttotal: 5m 38s\tremaining: 24.2s\n",
      "\n",
      "bestTest = 0.2337050815\n",
      "bestIteration = 1021\n",
      "\n",
      "28:\tloss: 0.2337051\tbest: 0.2158574 (25)\ttotal: 6m 24s\tremaining: 13.3s\n",
      "\n",
      "bestTest = 0.2137771663\n",
      "bestIteration = 1099\n",
      "\n",
      "29:\tloss: 0.2137772\tbest: 0.2137772 (29)\ttotal: 7m 14s\tremaining: 0us\n",
      "Estimating final quality...\n",
      "Training on fold [0/3]\n",
      "\n",
      "bestTest = 0.2270547551\n",
      "bestIteration = 1099\n",
      "\n",
      "Training on fold [1/3]\n",
      "\n",
      "bestTest = 0.2241387068\n",
      "bestIteration = 1099\n",
      "\n",
      "Training on fold [2/3]\n",
      "\n",
      "bestTest = 0.2225393476\n",
      "bestIteration = 1099\n",
      "\n"
     ]
    }
   ],
   "source": [
    "## now execute the random search\n",
    "rs = random_search_cat(X_train_ss, y_train, 'v15_fs')"
   ]
  },
  {
   "cell_type": "code",
   "execution_count": 52,
   "id": "a75327e4",
   "metadata": {},
   "outputs": [
    {
     "data": {
      "text/plain": [
       "{'depth': 10, 'l2_leaf_reg': 11, 'iterations': 1100, 'learning_rate': 0.02}"
      ]
     },
     "execution_count": 52,
     "metadata": {},
     "output_type": "execute_result"
    }
   ],
   "source": [
    "rs['params']"
   ]
  },
  {
   "cell_type": "code",
   "execution_count": 46,
   "id": "c13183f8",
   "metadata": {},
   "outputs": [
    {
     "name": "stdout",
     "output_type": "stream",
     "text": [
      "53.0 plots labeled unknown were dropped.\n",
      "2.0 plots labeled unknown were dropped.\n",
      "Plot id 08012 has no cloud free imagery and will be removed.\n",
      "Plot id 08023 has no cloud free imagery and will be removed.\n",
      "Plot id 08039 has no cloud free imagery and will be removed.\n",
      "Plot id 08114 has no cloud free imagery and will be removed.\n",
      "Plot id 08124 has no cloud free imagery and will be removed.\n",
      "Plot id 08170 has no cloud free imagery and will be removed.\n",
      "Plot id 08181 has no cloud free imagery and will be removed.\n",
      "Plot id 08204 has no cloud free imagery and will be removed.\n",
      "Plot id 08214 has no cloud free imagery and will be removed.\n",
      "Plot id 08216 has no cloud free imagery and will be removed.\n",
      "Plot id 08223 has no cloud free imagery and will be removed.\n",
      "Plot id 14027 has no cloud free imagery and will be removed.\n",
      "Training data includes 557 plots.\n",
      "Class count {0.0: 30139, 1.0: 79033}\n"
     ]
    }
   ],
   "source": [
    "# now train a model with the best parameters\n",
    "# manually added to script - will have to adapt moving forward\n",
    "X, y = pp.create_xy(['v08', 'v11', 'v14', 'v15'], \n",
    "                    classes='binary', \n",
    "                    drop_prob=False, \n",
    "                    drop_feats=False, \n",
    "                    feature_select=selected_feats, \n",
    "                    verbose=True)\n",
    "X_train_ss, X_test_ss, y_train, y_test = pp.reshape_no_scaling(X, y)\n",
    "y_test, pred, probs, probs_pos = rp.fit_eval_classifier(X_train_ss, X_test_ss, y_train, y_test, 'cat','v15_tuned')"
   ]
  },
  {
   "cell_type": "code",
   "execution_count": 42,
   "id": "901dff1a",
   "metadata": {},
   "outputs": [
    {
     "data": {
      "text/plain": [
       "0.3813470322523503"
      ]
     },
     "execution_count": 42,
     "metadata": {},
     "output_type": "execute_result"
    }
   ],
   "source": [
    "## for binary classification, use scale_pos_weight \n",
    "## for multi class classification, use class_weights\n",
    "# to get the scale pos weight you would use sum(negative class) // sum(positive class)\n",
    "# this will be the weight for class 1\n",
    "# https://stackoverflow.com/questions/59746304/catboost-classifier-for-class-imbalance\n",
    "class_count = {0.0: 30139, 1.0: 79033}\n",
    "scale_pos = class_count[0] / class_count[1]\n",
    "scale_pos"
   ]
  },
  {
   "cell_type": "code",
   "execution_count": 49,
   "id": "1b8ef124",
   "metadata": {},
   "outputs": [
    {
     "data": {
      "image/png": "[encoded data removed]",
      "text/plain": [
       "<Figure size 640x480 with 2 Axes>"
      ]
     },
     "metadata": {},
     "output_type": "display_data"
    },
    {
     "data": {
      "image/png": "[encoded data removed]",
      "text/plain": [
       "<Figure size 1700x600 with 2 Axes>"
      ]
     },
     "metadata": {},
     "output_type": "display_data"
    }
   ],
   "source": [
    "viz.cm_roc_pr('cat_v15_tuned', y_test, pred, probs_pos)"
   ]
  },
  {
   "cell_type": "markdown",
   "id": "b7a6e0d1",
   "metadata": {},
   "source": [
    "## Central America"
   ]
  },
  {
   "cell_type": "code",
   "execution_count": 136,
   "id": "942960e6",
   "metadata": {},
   "outputs": [
    {
     "name": "stdout",
     "output_type": "stream",
     "text": [
      "Plot id 04003 has no cloud free imagery and will be removed.\n",
      "Plot id 04005 has no cloud free imagery and will be removed.\n",
      "Plot id 04007 has no cloud free imagery and will be removed.\n",
      "Plot id 04009 has no cloud free imagery and will be removed.\n",
      "Plot id 10043 has no cloud free imagery and will be removed.\n",
      "Plot id 10067 has no cloud free imagery and will be removed.\n",
      "Baseline: 0.483\n",
      "The data has been scaled to -1.0000000000000002, 1.0000000000000002\n"
     ]
    }
   ],
   "source": [
    "# use central america training data\n",
    "X, y = pp.create_xy((14, 14), ['v03', 'v04', 'v10'], drop_prob=False, drop_feats=False, verbose=False)\n",
    "X_train_ss, X_test_ss, y_train, y_test = pp.reshape_and_scale_manual(X, y)"
   ]
  },
  {
   "cell_type": "code",
   "execution_count": 138,
   "id": "6246edb5",
   "metadata": {},
   "outputs": [
    {
     "name": "stdout",
     "output_type": "stream",
     "text": [
      "The best parameters are {'learning_rate': 0.03, 'l2_leaf_reg': 30, 'iterations': 1100, 'depth': 4} with a score of 0.9084283317567475\n"
     ]
    }
   ],
   "source": [
    "iterations = [int(x) for x in np.linspace(200, 1100, 10)]            # equiv to n_estimators\n",
    "depth = [int(x) for x in np.linspace(4, 10, 4)]                      # equiv to max_depth (must be <= 16)\n",
    "l2_reg = [int(x) for x in np.linspace(2, 30, 4)]\n",
    "learning_rate = [.01, .02, .03]                                      # decrease learning rate if overfitting \n",
    "\n",
    "param_dist = {'iterations': iterations,\n",
    "              'depth': depth,\n",
    "              'l2_leaf_reg': l2_reg,\n",
    "              'learning_rate': learning_rate}\n",
    "\n",
    "# instantiate the classifier and perform random search\n",
    "cat = CatBoostClassifier(random_seed=22, verbose=False)\n",
    "\n",
    "rds = RandomizedSearchCV(estimator=cat,\n",
    "                        param_distributions=param_dist, \n",
    "                        n_iter=30,\n",
    "                        cv=3,\n",
    "                        random_state=22)\n",
    "\n",
    "# Achieves 0.908\n",
    "rds.fit(X_train_ss, y_train)\n",
    "rds_best = rds.best_params_\n",
    "print(f\"The best parameters are {rds.best_params_} with a score of {rds.best_score_}\")"
   ]
  },
  {
   "cell_type": "code",
   "execution_count": 139,
   "id": "d5d8e3a1",
   "metadata": {},
   "outputs": [
    {
     "name": "stdout",
     "output_type": "stream",
     "text": [
      "cv: 0.9084\n",
      "train: 0.9783\n",
      "test: 0.8278\n",
      "roc_auc: 0.9134\n",
      "precision: 0.8702\n",
      "recall: 0.7888\n",
      "f1: 0.8275\n"
     ]
    }
   ],
   "source": [
    "# now fit classifier with best params and get all scores\n",
    "cat_best_params = CatBoostClassifier(random_seed=22,\n",
    "                                     learning_rate=0.03,\n",
    "                                     l2_leaf_reg=30,\n",
    "                                     iterations=1100,\n",
    "                                     depth=4,\n",
    "                                     verbose=False)\n",
    "\n",
    "cat_best_params.fit(X_train_ss, y_train) \n",
    "\n",
    "# save trained model\n",
    "filename = f'../models/cat_model_v10tuned.pkl'\n",
    "with open(filename, 'wb') as file:\n",
    "    pickle.dump(model, file)\n",
    "\n",
    "score.print_scores(cat_best_params, X_train_ss, X_test_ss, y_train, y_test)"
   ]
  },
  {
   "cell_type": "code",
   "execution_count": 3,
   "id": "0aa74095",
   "metadata": {
    "scrolled": false
   },
   "outputs": [
    {
     "data": {
      "text/html": [
       "<div>\n",
       "<style scoped>\n",
       "    .dataframe tbody tr th:only-of-type {\n",
       "        vertical-align: middle;\n",
       "    }\n",
       "\n",
       "    .dataframe tbody tr th {\n",
       "        vertical-align: top;\n",
       "    }\n",
       "\n",
       "    .dataframe thead th {\n",
       "        text-align: right;\n",
       "    }\n",
       "</style>\n",
       "<table border=\"1\" class=\"dataframe\">\n",
       "  <thead>\n",
       "    <tr style=\"text-align: right;\">\n",
       "      <th></th>\n",
       "      <th>model</th>\n",
       "      <th>cv</th>\n",
       "      <th>train_score</th>\n",
       "      <th>test_score</th>\n",
       "      <th>roc_auc</th>\n",
       "      <th>precision</th>\n",
       "      <th>recall</th>\n",
       "      <th>f1</th>\n",
       "    </tr>\n",
       "  </thead>\n",
       "  <tbody>\n",
       "    <tr>\n",
       "      <th>29</th>\n",
       "      <td>cat_model_v10</td>\n",
       "      <td>0.8884</td>\n",
       "      <td>0.9972</td>\n",
       "      <td>0.8523</td>\n",
       "      <td>0.9291</td>\n",
       "      <td>0.9239</td>\n",
       "      <td>0.7847</td>\n",
       "      <td>0.8487</td>\n",
       "    </tr>\n",
       "  </tbody>\n",
       "</table>\n",
       "</div>"
      ],
      "text/plain": [
       "            model      cv  train_score  test_score  roc_auc  precision  \\\n",
       "29  cat_model_v10  0.8884       0.9972      0.8523   0.9291     0.9239   \n",
       "\n",
       "    recall      f1  \n",
       "29  0.7847  0.8487  "
      ]
     },
     "execution_count": 3,
     "metadata": {},
     "output_type": "execute_result"
    }
   ],
   "source": [
    "original_model"
   ]
  },
  {
   "cell_type": "markdown",
   "id": "ac6aabcc",
   "metadata": {},
   "source": [
    "## Conclusions\n",
    "\n",
    "### Round 3\n",
    "The top ranked 15 TML features for the `cat_v15_2` model are `[62, 16, 71, 54, 75, 47, 32, 76, 65, 72, 64, 52, 73, 77, 25]`. The TML predictions (index 77) barely made the cut and are the 14th most important feature.\n",
    "\n",
    "After performing CatBoost's Randomized Search method on training data that only included the selected features, the following parameters were considered the best `{'depth': 10, 'l2_leaf_reg': 11, 'iterations': 1100, 'learning_rate': 0.02}`. \n",
    "\n",
    "Three models were deployed, including `cat_v15_2`, `cat_v15_fs` and `cat_v15_tuned` and the results were compared visually. `cat_v15_2` is a bare bones model with no tuning or feature manipulation. `cat_v15_fs` used the top 15 selected features and `cat_v15_tuned` used specific hyperparameters with the top 15 selected features.\n",
    "\n",
    "\n",
    "\n",
    "\n",
    "### Round 2\n",
    "- There are commonalities across regions. In Latin America (Cental + South) there are 7 common features in the top 15 most important TML features `{13, 16, 33, 38, 62, 71, 77}`. All three regions share 5 of the most important features `{13, 16, 62, 71, 77}`. \n",
    "- For Central America, slope and s2 were also important predictors.\n",
    "- Hyperparameter tuning indicated the best parameters are `{'learning_rate': 0.03, 'l2_leaf_reg': 30, 'iterations': 1100, 'depth': 4}`\n",
    "- Fitting a CatBoost Classifier with selected hyperparameters did reduce overfitting.\n",
    "\n",
    "### Round 1\n",
    "- Fitting the CatboostClassifier with the top 15 TML features rather than all 65 only brought minor improvements in accuracy.\n",
    "- The feature selection exercise revealed that different features are important for different regions.\n",
    "- Index 7 (s2) and 67 (TML feat) ranked highly across all three regions.\n",
    "- Index 77 (TML tree probability) had low importance, which is expected considering it is derived from the other features. \n",
    "- Fitting CatboostClassifier with the best features and best parameters resulted in improvements between .01 - .1% across accuracy metrics."
   ]
  }
 ],
 "metadata": {
  "kernelspec": {
   "display_name": "Python [conda env:plantations3] *",
   "language": "python",
   "name": "conda-env-plantations3-py"
  },
  "language_info": {
   "codemirror_mode": {
    "name": "ipython",
    "version": 3
   },
   "file_extension": ".py",
   "mimetype": "text/x-python",
   "name": "python",
   "nbconvert_exporter": "python",
   "pygments_lexer": "ipython3",
   "version": "3.8.13"
  },
  "toc": {
   "base_numbering": 1,
   "nav_menu": {},
   "number_sections": true,
   "sideBar": true,
   "skip_h1_title": false,
   "title_cell": "Table of Contents",
   "title_sidebar": "Contents",
   "toc_cell": false,
   "toc_position": {
    "height": "calc(100% - 180px)",
    "left": "10px",
    "top": "150px",
    "width": "203px"
   },
   "toc_section_display": true,
   "toc_window_display": true
  },
  "varInspector": {
   "cols": {
    "lenName": 16,
    "lenType": 16,
    "lenVar": 40
   },
   "kernels_config": {
    "python": {
     "delete_cmd_postfix": "",
     "delete_cmd_prefix": "del ",
     "library": "var_list.py",
     "varRefreshCmd": "print(var_dic_list())"
    },
    "r": {
     "delete_cmd_postfix": ") ",
     "delete_cmd_prefix": "rm(",
     "library": "var_list.r",
     "varRefreshCmd": "cat(var_dic_list()) "
    }
   },
   "types_to_exclude": [
    "module",
    "function",
    "builtin_function_or_method",
    "instance",
    "_Feature"
   ],
   "window_display": false
  }
 },
 "nbformat": 4,
 "nbformat_minor": 5
}
