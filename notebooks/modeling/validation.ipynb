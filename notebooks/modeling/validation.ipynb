{
 "cells": [
  {
   "cell_type": "code",
   "execution_count": 24,
   "id": "e864ca60-dc3d-4200-89f4-15bdab14ae80",
   "metadata": {},
   "outputs": [
    {
     "name": "stdout",
     "output_type": "stream",
     "text": [
      "The autoreload extension is already loaded. To reload it, use:\n",
      "  %reload_ext autoreload\n"
     ]
    }
   ],
   "source": [
    "import pandas as pd\n",
    "import geopandas as gpd\n",
    "import numpy as np\n",
    "import rasterio as rs\n",
    "from rasterio.merge import merge\n",
    "from rasterio.mask import mask\n",
    "from rasterio.features import geometry_mask\n",
    "from shapely.geometry import Point\n",
    "from datetime import datetime\n",
    "from sklearn.utils import resample\n",
    "import sys\n",
    "import matplotlib.pyplot as plt\n",
    "import seaborn as sns\n",
    "\n",
    "sys.path.append('../../src/')\n",
    "from evaluation import validation as val\n",
    "%load_ext autoreload\n",
    "%autoreload 2"
   ]
  },
  {
   "cell_type": "markdown",
   "id": "492aafc0-9e09-4e5b-8e8a-13c8a64dd71b",
   "metadata": {},
   "source": [
    "# Prepare Stratified Sample\n",
    "\n",
    "Details  \n",
    "- type: pixel-based analysis\n",
    "- design: stratified sampling approach by class\n",
    "- total study area (all pixels in the strata): 26 districts\n",
    "- total samples: when choosing sample count, consider how many points will be dropped from buffer zone and lack of ARD (when creating validation data).\n",
    "\n",
    "Code: `src/evaluation/validation.py`"
   ]
  },
  {
   "cell_type": "code",
   "execution_count": 31,
   "id": "e9be5289-9712-47e5-b30c-9bae5efdb100",
   "metadata": {},
   "outputs": [],
   "source": [
    "mapfile_v27 = '../../tmp/ghana/preds/mosaic/ghana_v27_2024-09-27.tif' \n",
    "mapfile_v28 = '../../tmp/ghana/preds/mosaic/ghana_v28_2024-10-15.tif'\n",
    "final = '../../tmp/ghana/preds/mosaic/final_2024-10-29.tif'\n",
    "outfile = f'../../data/validation/sampled_points.shp'\n",
    "buffer = 1000\n",
    "params_path = '../../params.yaml'"
   ]
  },
  {
   "cell_type": "code",
   "execution_count": 46,
   "id": "9873d78e-8906-4f7b-b59f-b4c147485cc6",
   "metadata": {},
   "outputs": [
    {
     "name": "stdout",
     "output_type": "stream",
     "text": [
      "Class distribution: {0: 269113871, 1: 1272342, 2: 138084189, 3: 99051836}\n",
      "Class proportions: {0: 53.03, 1: 0.25, 2: 27.21, 3: 19.52}\n",
      "Total count (pixels): 507522238\n",
      "Creating buffer zone with ['v08', 'v14', 'v15', 'v19', 'v20', 'v21', 'v22'] batches\n"
     ]
    },
    {
     "name": "stderr",
     "output_type": "stream",
     "text": [
      "/Users/jessica.ertel/github/plantation_classifier/notebooks/modeling/../../src/evaluation/validation.py:52: FutureWarning: Behavior when concatenating bool-dtype and numeric-dtype arrays is deprecated; in a future version these will cast to object dtype (instead of coercing bools to numeric values). To retain the old behavior, explicitly cast bool-dtype arrays to numeric dtype.\n",
      "  df_list.append(df)\n"
     ]
    },
    {
     "name": "stdout",
     "output_type": "stream",
     "text": [
      "Sampling 795 points for class 0 out of 266253457 available pixels.\n",
      "Sampling 3 points for class 1 out of 1061847 available pixels.\n",
      "Sampling 408 points for class 2 out of 135383538 available pixels.\n",
      "Sampling 292 points for class 3 out of 97896824 available pixels.\n"
     ]
    }
   ],
   "source": [
    "sampled_points = val.run_validation_workflow(mapfile_v27, \n",
    "                                             outfile,\n",
    "                                             buffer,\n",
    "                                             params_path)"
   ]
  },
  {
   "cell_type": "code",
   "execution_count": 14,
   "id": "1a46ef3e-8e57-48b1-b33d-b0d2b251de38",
   "metadata": {},
   "outputs": [
    {
     "name": "stdout",
     "output_type": "stream",
     "text": [
      "Class distribution: {0: 269019020, 1: 1360370, 2: 149764864, 3: 87377984}\n",
      "Class proportions: {0: 53.01, 1: 0.27, 2: 29.51, 3: 17.22}\n",
      "Total count (pixels): 507522238\n",
      "Creating buffer zone with ['v08', 'v14', 'v15', 'v19', 'v20', 'v21', 'v22', 'v23'] batches\n",
      "Total_samples: 1067.0\n",
      "Sampling 565 points for class 0 out of 266159790 available pixels.\n",
      "Sampling 2 points for class 1 out of 1145634 available pixels.\n",
      "Sampling 314 points for class 2 out of 146906463 available pixels.\n",
      "Sampling 183 points for class 3 out of 86383779 available pixels.\n"
     ]
    }
   ],
   "source": [
    "sampled_points = val.run_validation_workflow(mapfile_v28, \n",
    "                                             outfile,\n",
    "                                             buffer,\n",
    "                                             params_path)"
   ]
  },
  {
   "cell_type": "code",
   "execution_count": 3,
   "id": "e423ef4f-eebe-4a34-9b27-cf44326ede37",
   "metadata": {},
   "outputs": [
    {
     "name": "stdout",
     "output_type": "stream",
     "text": [
      "Class distribution: {0: 267810570, 1: 1354277, 2: 151443764, 3: 86913627}\n",
      "Class proportions: {0: 52.77, 1: 0.27, 2: 29.84, 3: 17.13}\n",
      "Total count (pixels): 507522238\n",
      "Creating buffer zone with ['v08', 'v14', 'v15', 'v19', 'v20', 'v21', 'v22', 'v23'] batches\n",
      "Total_samples: 1067.0\n",
      "Sampling 563 points for class 0 out of 264952720 available pixels.\n",
      "Sampling 2 points for class 1 out of 1139546 available pixels.\n",
      "Sampling 318 points for class 2 out of 148586138 available pixels.\n",
      "Sampling 182 points for class 3 out of 85917262 available pixels.\n"
     ]
    }
   ],
   "source": [
    "sampled_points = val.run_validation_workflow(final, \n",
    "                                             outfile,\n",
    "                                             buffer,\n",
    "                                             params_path)"
   ]
  },
  {
   "cell_type": "markdown",
   "id": "0b778dab-3a1b-4238-a236-ce7bd99b5b66",
   "metadata": {},
   "source": [
    "# Identify non-consensus labels"
   ]
  },
  {
   "cell_type": "code",
   "execution_count": 17,
   "id": "4b4a9755-83fe-4033-bb7f-c0e7d3b66b4a",
   "metadata": {},
   "outputs": [],
   "source": [
    "john = pd.read_csv('../../data/validation/ceo-plantations-validation-john-sample-data-2024-11-06.csv')\n",
    "jess = pd.read_csv('../../data/validation/ceo-plantations-validation-jessica-sample-data-2024-11-06.csv')\n",
    "john = john.iloc[0:150]\n",
    "jess = jess.iloc[0:150]"
   ]
  },
  {
   "cell_type": "code",
   "execution_count": 28,
   "id": "1580404b-6b45-4382-ab00-b7233fb875b0",
   "metadata": {},
   "outputs": [
    {
     "name": "stdout",
     "output_type": "stream",
     "text": [
      "Total count of non-matching rows: 67\n"
     ]
    }
   ],
   "source": [
    "merge = john[['plotid', 'System']].merge(jess[['plotid', 'System']], on='plotid', suffixes=('_john', '_jess'))\n",
    "\n",
    "non_matching = merge[merge['System_john'] != merge['System_jess']]\n",
    "total_non_matching = non_matching.shape[0]\n",
    "print(\"Total count of non-matching rows:\", total_non_matching)"
   ]
  },
  {
   "cell_type": "code",
   "execution_count": 27,
   "id": "048d3acb-88f2-4d7f-8f95-14adc5322c10",
   "metadata": {},
   "outputs": [
    {
     "data": {
      "image/png": "[encoded data removed]",
      "text/plain": [
       "<Figure size 800x800 with 1 Axes>"
      ]
     },
     "metadata": {},
     "output_type": "display_data"
    }
   ],
   "source": [
    "conf_matrix = pd.crosstab(non_matching['System_john'], non_matching['System_jess'], rownames=['John System'], colnames=['Jess System'])\n",
    "\n",
    "plt.figure(figsize=(8,8))\n",
    "sns.heatmap(conf_matrix, annot=True, fmt='d', cmap='Blues', cbar=False)\n",
    "plt.show()"
   ]
  },
  {
   "cell_type": "markdown",
   "id": "9f397e28-488e-4759-8fda-d867ad87233e",
   "metadata": {},
   "source": [
    "# Add monoculture points"
   ]
  },
  {
   "cell_type": "code",
   "execution_count": 34,
   "id": "7b15199c-41c8-4932-8204-8b0ed3fbbcb9",
   "metadata": {},
   "outputs": [],
   "source": [
    "buffer_zone = gpd.read_file('../../data/validation/buffer.shp')"
   ]
  },
  {
   "cell_type": "code",
   "execution_count": 38,
   "id": "8fac7cdb-8dc3-4d55-8ef4-9ab8d14b1093",
   "metadata": {},
   "outputs": [],
   "source": [
    "# val.sample_raster_by_class('../../tmp/ghana/preds/mosaic/final_2024-10-29.tif', \n",
    "#                            45, \n",
    "#                            {0: 1.0, 1: 97.0, 2: 1.0, 3: 1.0},\n",
    "#                            buffer_zone,\n",
    "#                            outfile = f'../../data/validation/add_mono_points.shp')"
   ]
  },
  {
   "cell_type": "markdown",
   "id": "21631c99-82b9-47bd-8fe2-9d4835b4a585",
   "metadata": {},
   "source": [
    "# Evaluate Model\n",
    "\n",
    "(prototyped)"
   ]
  },
  {
   "cell_type": "code",
   "execution_count": null,
   "id": "c49bf05c-593a-477d-92f8-276fdad432bc",
   "metadata": {},
   "outputs": [],
   "source": [
    "# Load the model\n",
    "model_path = os.path.join(RESULTS_FOLDER, \"model_SI_LULC.pkl\")\n",
    "model = joblib.load(model_path)\n",
    "\n",
    "# load the test features\n",
    "features_test = \n",
    "\n",
    "# Predict the test labels\n",
    "predicted_labels_test = model.predict(features_test)\n",
    "\n",
    "\n",
    "class_labels = np.unique(labels_test)\n",
    "class_names = ['no tree', 'monoculture', 'agroforestry', 'natural']\n",
    "mask = np.in1d(predicted_labels_test, labels_test)  # noqa: NPY201\n",
    "predictions = predicted_labels_test[mask]\n",
    "true_labels = labels_test[mask]\n",
    "\n",
    "# Extract and display metrics\n",
    "f1_scores = metrics.f1_score(true_labels, predictions, labels=class_labels, average=None)\n",
    "avg_f1_score = metrics.f1_score(true_labels, predictions, average=\"weighted\")\n",
    "recall = metrics.recall_score(true_labels, predictions, labels=class_labels, average=None)\n",
    "precision = metrics.precision_score(true_labels, predictions, labels=class_labels, average=None)\n",
    "accuracy = metrics.accuracy_score(true_labels, predictions)\n",
    "\n",
    "print(\"Classification accuracy {:.1f}%\".format(100 * accuracy))\n",
    "print(\"Classification F1-score {:.1f}%\".format(100 * avg_f1_score))\n",
    "print()\n",
    "print(\"             Class              =  F1  | Recall | Precision\")\n",
    "print(\"         --------------------------------------------------\")\n",
    "for idx, lulctype in enumerate([class_names[idx] for idx in class_labels]):\n",
    "    line_data = (lulctype, f1_scores[idx] * 100, recall[idx] * 100, precision[idx] * 100)\n",
    "    print(\"         * {0:20s} = {1:2.1f} |  {2:2.1f}  | {3:2.1f}\".format(*line_data))"
   ]
  },
  {
   "cell_type": "code",
   "execution_count": null,
   "id": "6d3677f5-f90e-4523-9a13-46df57fbb7dc",
   "metadata": {},
   "outputs": [],
   "source": [
    "## Confusion Matrix\n",
    "# visual inspo: https://github.com/sentinel-hub/eo-learn/blob/master/examples/land-cover-map/SI_LULC_pipeline.ipynb"
   ]
  },
  {
   "cell_type": "markdown",
   "id": "96af09a9-4c8d-4460-80d3-3fce281fa096",
   "metadata": {},
   "source": [
    "## Other Exercises"
   ]
  },
  {
   "cell_type": "code",
   "execution_count": 2,
   "id": "c956c39d-1fa0-42e7-8ce4-f941085e0cbf",
   "metadata": {},
   "outputs": [],
   "source": [
    "# create a comb mosaic\n",
    "def mosaic_tif(tifs_to_mosaic, outpath):\n",
    "\n",
    "    ''''\n",
    "    Takes in a list of raster files and\n",
    "    merges them to form a single tif.\n",
    "\n",
    "    '''\n",
    "    dir = f'../../tmp/ghana/preds/mosaic/'\n",
    "    reader_mode = []\n",
    "\n",
    "    for file in tifs_to_mosaic:\n",
    "        src = rs.open(dir+file)\n",
    "        reader_mode.append(src) \n",
    "    print(f'Merging {len(reader_mode)} tifs.')\n",
    "\n",
    "    mosaic, out_transform = merge(reader_mode)\n",
    "    date = datetime.today().strftime('%Y-%m-%d')\n",
    "    outpath = f\"{dir}{outpath}_{date}.tif\"\n",
    "    out_meta = src.meta.copy()  \n",
    "    out_meta.update({'driver': \"GTiff\",\n",
    "                     'dtype': 'uint8',\n",
    "                     'height': mosaic.shape[1],\n",
    "                     'width': mosaic.shape[2],\n",
    "                     'transform': out_transform,\n",
    "                     'compress':'lzw',\n",
    "                     'nodata': 255})\n",
    "\n",
    "    with rs.open(outpath, \"w\", **out_meta) as dest:\n",
    "        dest.write(mosaic)\n",
    "\n",
    "    # Ensure to close all files\n",
    "    for src in reader_mode:\n",
    "        src.close()\n",
    "\n",
    "    return None"
   ]
  },
  {
   "cell_type": "code",
   "execution_count": 3,
   "id": "0ba5f3b1-241e-4f8b-a1ca-4e4b93433e45",
   "metadata": {},
   "outputs": [
    {
     "name": "stdout",
     "output_type": "stream",
     "text": [
      "Merging 3 tifs.\n"
     ]
    }
   ],
   "source": [
    "tifs = ['pd_north_FINAL.tif',\n",
    "        'pd_east_FINAL.tif',\n",
    "        'pd_west_FINAL.tif',\n",
    "       ]\n",
    "\n",
    "mosaic_tif(tifs, 'final')"
   ]
  },
  {
   "cell_type": "code",
   "execution_count": null,
   "id": "990b5b60-2b45-4265-a81d-84ef82362dd5",
   "metadata": {},
   "outputs": [],
   "source": [
    "## legacy code"
   ]
  },
  {
   "cell_type": "code",
   "execution_count": 80,
   "id": "0c9609b3-2f86-4608-9a47-f2a92d3e341c",
   "metadata": {},
   "outputs": [],
   "source": [
    "# confirm the AOI with 3 different methods\n",
    "# land_use_map.size\t\n",
    "# Very fast, direct access to array size\t\n",
    "# Includes 255 and other invalid values in the count\n",
    "# Getting the total number of pixels\n",
    "\n",
    "# np.bincount()\n",
    "# Efficiently counts only specified valid classes\n",
    "# Limited by minlength, ignores other valid classes\t\n",
    "# If you know exactly which classes to count\n",
    "\n",
    "# Conditional sum()\t\n",
    "# Counts all pixels except 255, flexible\n",
    "# Slower and more memory-intensive for large datasets\n",
    "# When you want to exclude 255 without specifying valid classes\n",
    "\n",
    "counts = np.bincount(land_use_map.flatten(), minlength=4) \n",
    "classes = [0, 1, 2, 3] \n",
    "valid_counts = counts[classes]\n",
    "total_count = valid_counts.sum()\n",
    "lulc_count = sum(land_use_map[land_use_map != 255])\n",
    "\n",
    "print(land_use_map.size)\n",
    "print(total_count)\n",
    "print(lulc_count)"
   ]
  }
 ],
 "metadata": {
  "kernelspec": {
   "display_name": "plantations5",
   "language": "python",
   "name": "plantations5"
  },
  "language_info": {
   "codemirror_mode": {
    "name": "ipython",
    "version": 3
   },
   "file_extension": ".py",
   "mimetype": "text/x-python",
   "name": "python",
   "nbconvert_exporter": "python",
   "pygments_lexer": "ipython3",
   "version": "3.10.13"
  }
 },
 "nbformat": 4,
 "nbformat_minor": 5
}
