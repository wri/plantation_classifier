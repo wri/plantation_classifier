{
 "cells": [
  {
   "cell_type": "code",
   "execution_count": 72,
   "id": "e864ca60-dc3d-4200-89f4-15bdab14ae80",
   "metadata": {},
   "outputs": [
    {
     "name": "stdout",
     "output_type": "stream",
     "text": [
      "The autoreload extension is already loaded. To reload it, use:\n",
      "  %reload_ext autoreload\n"
     ]
    }
   ],
   "source": [
    "import pandas as pd\n",
    "import geopandas as gpd\n",
    "import numpy as np\n",
    "import rasterio as rs\n",
    "from rasterio.merge import merge\n",
    "from rasterio.mask import mask\n",
    "from rasterio.features import geometry_mask\n",
    "from rasterio.transform import from_origin\n",
    "from shapely.geometry import Point\n",
    "from datetime import datetime\n",
    "from sklearn.utils import resample\n",
    "import sys\n",
    "import matplotlib.pyplot as plt\n",
    "import seaborn as sns\n",
    "from sklearn.utils import resample\n",
    "from sklearn import metrics\n",
    "import json\n",
    "\n",
    "sys.path.append('../../src/')\n",
    "from evaluation import create_stratified_sample as val\n",
    "from evaluation import error_adjustments as err\n",
    "from evaluation import consensus_labeling as con\n",
    "%load_ext autoreload\n",
    "%autoreload 2"
   ]
  },
  {
   "cell_type": "markdown",
   "id": "492aafc0-9e09-4e5b-8e8a-13c8a64dd71b",
   "metadata": {},
   "source": [
    "# Prepare Stratified Sample\n",
    "\n",
    "Details  \n",
    "- type: pixel-based analysis\n",
    "- design: stratified sampling approach by class\n",
    "- total study area (all pixels in the strata): 26 districts\n",
    "- total samples: when choosing sample count, consider how many points will be dropped from buffer zone and lack of ARD (when creating validation data).\n",
    "\n",
    "Code: `src/evaluation/create_stratified_sample.py`  \n",
    "visual inspo: https://github.com/sentinel-hub/eo-learn/blob/master/examples/land-cover-map/SI_LULC_pipeline.ipynb"
   ]
  },
  {
   "cell_type": "code",
   "execution_count": 6,
   "id": "e9be5289-9712-47e5-b30c-9bae5efdb100",
   "metadata": {},
   "outputs": [],
   "source": [
    "final = '../../tmp/ghana/preds/mosaic/final_2024-10-29.tif'\n",
    "outfile = f'../../data/validation/stratified_sample/sampled_points.shp'\n",
    "buffer = 1000\n",
    "params_path = '../../params.yaml'"
   ]
  },
  {
   "cell_type": "code",
   "execution_count": 3,
   "id": "e423ef4f-eebe-4a34-9b27-cf44326ede37",
   "metadata": {},
   "outputs": [
    {
     "name": "stdout",
     "output_type": "stream",
     "text": [
      "Class distribution: {0: 267810570, 1: 1354277, 2: 151443764, 3: 86913627}\n",
      "Class proportions: {0: 52.77, 1: 0.27, 2: 29.84, 3: 17.13}\n",
      "Total count (pixels): 507522238\n",
      "Creating buffer zone with ['v08', 'v14', 'v15', 'v19', 'v20', 'v21', 'v22', 'v23'] batches\n",
      "Total_samples: 1067.0\n",
      "Sampling 563 points for class 0 out of 264952720 available pixels.\n",
      "Sampling 2 points for class 1 out of 1139546 available pixels.\n",
      "Sampling 318 points for class 2 out of 148586138 available pixels.\n",
      "Sampling 182 points for class 3 out of 85917262 available pixels.\n"
     ]
    }
   ],
   "source": [
    "sampled_points = val.run_validation_workflow(final, \n",
    "                                             outfile,\n",
    "                                             buffer,\n",
    "                                             params_path)"
   ]
  },
  {
   "cell_type": "markdown",
   "id": "9f397e28-488e-4759-8fda-d867ad87233e",
   "metadata": {},
   "source": [
    "## Gather additional validation points\n",
    "To account for the samples labeled unknown, more validation points are required. This section adds more monoculture samples as well as samples for all classes to account for dropped samples in round 1. This uses a manually assigned class proportion. These points should be cross referenced with the original batch to ensure no overlap. (or add something into the code to ensure this step happens)."
   ]
  },
  {
   "cell_type": "code",
   "execution_count": 17,
   "id": "21020c67-343b-4dd1-b2f5-5badc03523db",
   "metadata": {},
   "outputs": [
    {
     "data": {
      "text/plain": [
       "No vegetation    417\n",
       "Agroforestry     339\n",
       "Natural          155\n",
       "Unknown          147\n",
       "Monoculture        4\n",
       "Name: System, dtype: int64"
      ]
     },
     "execution_count": 17,
     "metadata": {},
     "output_type": "execute_result"
    }
   ],
   "source": [
    "js = pd.read_csv(f'../../data/validation/ceo-plantations-validation-jessica-sample-data-2024-11-27.csv')\n",
    "js.System.value_counts()"
   ]
  },
  {
   "cell_type": "code",
   "execution_count": 18,
   "id": "ef281769-6919-49af-9309-504cafb67190",
   "metadata": {},
   "outputs": [
    {
     "data": {
      "text/plain": [
       "(1065, 14)"
      ]
     },
     "execution_count": 18,
     "metadata": {},
     "output_type": "execute_result"
    }
   ],
   "source": [
    "js.shape"
   ]
  },
  {
   "cell_type": "code",
   "execution_count": 16,
   "id": "4520d88a-0905-4b29-9c5d-2500ba66409b",
   "metadata": {},
   "outputs": [
    {
     "data": {
      "text/plain": [
       "0    63\n",
       "2    45\n",
       "3    39\n",
       "Name: pl_pred, dtype: int64"
      ]
     },
     "execution_count": 16,
     "metadata": {},
     "output_type": "execute_result"
    }
   ],
   "source": [
    "# which class do the unknowns primary fall into\n",
    "unknown_samples = js[js.System == 'Unknown']['pl_pred']\n",
    "unknown_samples.value_counts()"
   ]
  },
  {
   "cell_type": "code",
   "execution_count": 23,
   "id": "3abc3ae1-361a-44ef-8b47-7cdb7d48b868",
   "metadata": {},
   "outputs": [
    {
     "name": "stdout",
     "output_type": "stream",
     "text": [
      "Class distribution: {0: 267810570, 1: 1354277, 2: 151443764, 3: 86913627}\n",
      "Class proportions: {0: 52.77, 1: 0.27, 2: 29.84, 3: 17.13}\n",
      "Total count (pixels): 507522238\n",
      "Creating buffer zone with ['v08', 'v14', 'v15', 'v19', 'v20', 'v21', 'v22', 'v23'] batches\n",
      "Total_samples: 200\n",
      "Sampling 40 points for class 0 out of 246763275 available pixels.\n",
      "Sampling 50 points for class 1 out of 1080596 available pixels.\n",
      "Sampling 50 points for class 2 out of 138349526 available pixels.\n",
      "Sampling 60 points for class 3 out of 79684828 available pixels.\n"
     ]
    }
   ],
   "source": [
    "# looking at proportion of unknowns for each class, add\n",
    "# {0: 40, 1: 50, 2: 50, 3: 60}\n",
    "sampled_points = val.run_validation_workflow(final, \n",
    "                                             f'../../data/validation/stratified_sample/sampled_points_v2.shp',\n",
    "                                             buffer,\n",
    "                                             params_path,\n",
    "                                             valv1=f'../../data/validation/ceo-plantations-validation-jessica-plot-data-2024-11-27.csv',\n",
    "                                             total_samples=200)"
   ]
  },
  {
   "cell_type": "markdown",
   "id": "bdb58e03-40f4-4816-a37f-152778c30c07",
   "metadata": {},
   "source": [
    "Following peer review, additional validation samples are suggested for the monoculture class. 100 additional points are sampled."
   ]
  },
  {
   "cell_type": "code",
   "execution_count": 13,
   "id": "0978742a-3e93-4eae-b657-9549dc6f2fa5",
   "metadata": {},
   "outputs": [
    {
     "name": "stdout",
     "output_type": "stream",
     "text": [
      "Class distribution: {0: 267810570, 1: 1354277, 2: 151443764, 3: 86913627}\n",
      "Class proportions: {0: 52.77, 1: 0.27, 2: 29.84, 3: 17.13}\n",
      "Total count (pixels): 507522238\n",
      "Creating buffer zone with ['v08', 'v14', 'v15', 'v19', 'v20', 'v21', 'v22', 'v23'] batches\n",
      "Total_samples: 100\n",
      "Sampling 0 points for class 0 out of 260961197 available pixels.\n",
      "Sampling 100 points for class 1 out of 1157894 available pixels.\n",
      "Sampling 0 points for class 2 out of 146858689 available pixels.\n",
      "Sampling 0 points for class 3 out of 84410230 available pixels.\n"
     ]
    }
   ],
   "source": [
    "# 3rd round of sampled points\n",
    "# halved the buffer distance\n",
    "# buffers around both of the existing validation sample surveys\n",
    "# class_prop = {0: 0, 1: 100, 2: 0, 3: 0}\n",
    "buffer = 500\n",
    "sampled_points = val.run_validation_workflow(final, \n",
    "                                             f'../../data/validation/stratified_sample/sampled_points_v3.shp',\n",
    "                                             buffer,\n",
    "                                             params_path,\n",
    "                                             valv1=f'../../data/validation/ceo_survey/ceo-plantations-validation-jessica-plot-data-2024-10-29.csv',\n",
    "                                             valv2=f'../../data/validation/ceo_survey/ceo-plantations-validation2-jessica-plot-data-2025-03-13.csv',\n",
    "                                             total_samples=100)"
   ]
  },
  {
   "cell_type": "markdown",
   "id": "0b778dab-3a1b-4238-a236-ce7bd99b5b66",
   "metadata": {},
   "source": [
    "# Identify non-consensus labels\n",
    "In the consensus labeling approach, any labels that do not have agreement between 2 parties go to 3rd party review. This step sets up the CEO survey for the 3rd party.  \n",
    "Requires the final sample csv from both parties."
   ]
  },
  {
   "cell_type": "code",
   "execution_count": 42,
   "id": "02b232a0-c530-4f9c-90c4-3c9117770ec6",
   "metadata": {},
   "outputs": [
    {
     "data": {
      "text/plain": [
       "((1065, 14), (1065, 14), (200, 14), (200, 14), (100, 14), (100, 14))"
      ]
     },
     "execution_count": 42,
     "metadata": {},
     "output_type": "execute_result"
    }
   ],
   "source": [
    "# import sample csvs and check all shapes are equal\n",
    "john1 = pd.read_csv('../../data/validation/ceo-plantations-validation-john-sample-data-2025-01-09.csv')\n",
    "jess1 = pd.read_csv('../../data/validation/ceo-plantations-validation-jessica-sample-data-2025-01-09.csv')\n",
    "john2 = pd.read_csv('../../data/validation/ceo-plantations-validation2-john-sample-data-2024-12-17.csv')\n",
    "jess2 = pd.read_csv('../../data/validation/ceo-plantations-validation2-jessica-sample-data-2024-12-17.csv')\n",
    "jess3 = pd.read_csv('../../data/validation/ceo-plantations-validation3-jessica-sample-data-2025-03-20.csv')\n",
    "john3 = pd.read_csv('../../data/validation/ceo-plantations-validation3-john-sample-data-2025-03-20.csv')\n",
    "\n",
    "daniel1 = pd.read_csv('../../data/validation/ceo-plantations-non-consensus2-sample-data-2025-01-17.csv')\n",
    "daniel2 = pd.read_csv('../../data/validation/ceo-plantations-non-consensus1-sample-data-2025-01-13.csv')\n",
    "\n",
    "john1.shape, jess1.shape, john2.shape, jess2.shape, john3.shape, jess3.shape"
   ]
  },
  {
   "cell_type": "code",
   "execution_count": 9,
   "id": "5e840a18-4344-49ca-a690-2e50ba4f9299",
   "metadata": {},
   "outputs": [
    {
     "name": "stdout",
     "output_type": "stream",
     "text": [
      "Total non-consensus rows: 108\n"
     ]
    }
   ],
   "source": [
    "# these two are part of the first round\n",
    "con, noncon = con.non_consensus_survey(jess1, john1)\n",
    "con, noncon = con.non_consensus_survey(jess2, john2)"
   ]
  },
  {
   "cell_type": "code",
   "execution_count": 44,
   "id": "68a6edfa-5f94-4711-a818-3fd9c3533521",
   "metadata": {},
   "outputs": [
    {
     "name": "stdout",
     "output_type": "stream",
     "text": [
      "Total non-consensus rows: 12\n"
     ]
    }
   ],
   "source": [
    "con3, noncon3 = con.non_consensus_survey(jess3, john3, 'v3')"
   ]
  },
  {
   "cell_type": "code",
   "execution_count": 45,
   "id": "dc2d9e36-9399-4db1-ba7d-668e909187da",
   "metadata": {},
   "outputs": [
    {
     "data": {
      "text/plain": [
       "Monoculture      46\n",
       "Agroforestry     31\n",
       "Natural           6\n",
       "No vegetation     4\n",
       "Unknown           1\n",
       "Name: final_label, dtype: int64"
      ]
     },
     "execution_count": 45,
     "metadata": {},
     "output_type": "execute_result"
    }
   ],
   "source": [
    "con3.final_label.value_counts()"
   ]
  },
  {
   "cell_type": "markdown",
   "id": "f4866efb-2422-4045-ba9c-4f74f2a3e5fd",
   "metadata": {},
   "source": [
    "### Confusion Matrix [Non Consensus Labels]\n",
    "Just to understand where we are not agreeing"
   ]
  },
  {
   "cell_type": "code",
   "execution_count": 11,
   "id": "048d3acb-88f2-4d7f-8f95-14adc5322c10",
   "metadata": {},
   "outputs": [],
   "source": [
    "# # early version\n",
    "# merge = john[['plotid', 'System']].merge(jess[['plotid', 'System']], on='plotid', suffixes=('_john', '_jess'))\n",
    "\n",
    "# non_matching = merge[merge['System_john'] != merge['System_jess']]\n",
    "# total_non_matching = non_matching.shape[0]\n",
    "# print(\"Total count of non-matching rows:\", total_non_matching)\n",
    "\n",
    "# conf_matrix = pd.crosstab(non_matching['System_john'], non_matching['System_jess'], rownames=['John System'], colnames=['Jess System'])\n",
    "\n",
    "# plt.figure(figsize=(6,6))\n",
    "# sns.heatmap(conf_matrix, annot=True, fmt='d', cmap='Blues', cbar=False)\n",
    "# plt.show()"
   ]
  },
  {
   "cell_type": "markdown",
   "id": "400c3a31-7572-40d6-af4a-6022a9b5d45c",
   "metadata": {},
   "source": [
    "# Integrate 3rd party labels\n",
    "Integrates the 3rd party review into the original surveys to replace 'nc' labels. Third addition of monoculture labels is done manually because no 3rd party review was performed.  "
   ]
  },
  {
   "cell_type": "code",
   "execution_count": 63,
   "id": "83989318-2aed-4310-8703-81c3b63050c7",
   "metadata": {},
   "outputs": [],
   "source": [
    "round1 = con.third_party_review(jess1, john1, daniel1)\n",
    "round2 = con.third_party_review(jess2, john2, daniel2)"
   ]
  },
  {
   "cell_type": "code",
   "execution_count": 64,
   "id": "3bdd8c56-8f7d-4065-a340-66a21b33c9a7",
   "metadata": {},
   "outputs": [
    {
     "data": {
      "text/html": [
       "<div>\n",
       "<style scoped>\n",
       "    .dataframe tbody tr th:only-of-type {\n",
       "        vertical-align: middle;\n",
       "    }\n",
       "\n",
       "    .dataframe tbody tr th {\n",
       "        vertical-align: top;\n",
       "    }\n",
       "\n",
       "    .dataframe thead th {\n",
       "        text-align: right;\n",
       "    }\n",
       "</style>\n",
       "<table border=\"1\" class=\"dataframe\">\n",
       "  <thead>\n",
       "    <tr style=\"text-align: right;\">\n",
       "      <th></th>\n",
       "      <th>lon</th>\n",
       "      <th>lat</th>\n",
       "      <th>y_true</th>\n",
       "      <th>y_pred</th>\n",
       "    </tr>\n",
       "  </thead>\n",
       "  <tbody>\n",
       "    <tr>\n",
       "      <th>0</th>\n",
       "      <td>-1.416299</td>\n",
       "      <td>6.294420</td>\n",
       "      <td>Monoculture</td>\n",
       "      <td>Monoculture</td>\n",
       "    </tr>\n",
       "    <tr>\n",
       "      <th>1</th>\n",
       "      <td>-2.411348</td>\n",
       "      <td>6.423870</td>\n",
       "      <td>Agroforestry</td>\n",
       "      <td>Monoculture</td>\n",
       "    </tr>\n",
       "    <tr>\n",
       "      <th>2</th>\n",
       "      <td>-2.398147</td>\n",
       "      <td>6.497315</td>\n",
       "      <td>Natural</td>\n",
       "      <td>Monoculture</td>\n",
       "    </tr>\n",
       "    <tr>\n",
       "      <th>3</th>\n",
       "      <td>-2.368260</td>\n",
       "      <td>6.558714</td>\n",
       "      <td>Monoculture</td>\n",
       "      <td>Monoculture</td>\n",
       "    </tr>\n",
       "    <tr>\n",
       "      <th>4</th>\n",
       "      <td>-1.522734</td>\n",
       "      <td>5.572018</td>\n",
       "      <td>Monoculture</td>\n",
       "      <td>Monoculture</td>\n",
       "    </tr>\n",
       "    <tr>\n",
       "      <th>...</th>\n",
       "      <td>...</td>\n",
       "      <td>...</td>\n",
       "      <td>...</td>\n",
       "      <td>...</td>\n",
       "    </tr>\n",
       "    <tr>\n",
       "      <th>82</th>\n",
       "      <td>-1.271634</td>\n",
       "      <td>5.927286</td>\n",
       "      <td>Agroforestry</td>\n",
       "      <td>Monoculture</td>\n",
       "    </tr>\n",
       "    <tr>\n",
       "      <th>83</th>\n",
       "      <td>-1.475246</td>\n",
       "      <td>6.057815</td>\n",
       "      <td>Natural</td>\n",
       "      <td>Monoculture</td>\n",
       "    </tr>\n",
       "    <tr>\n",
       "      <th>84</th>\n",
       "      <td>-1.502015</td>\n",
       "      <td>6.056826</td>\n",
       "      <td>Natural</td>\n",
       "      <td>Monoculture</td>\n",
       "    </tr>\n",
       "    <tr>\n",
       "      <th>85</th>\n",
       "      <td>-1.579115</td>\n",
       "      <td>5.620382</td>\n",
       "      <td>Monoculture</td>\n",
       "      <td>Monoculture</td>\n",
       "    </tr>\n",
       "    <tr>\n",
       "      <th>86</th>\n",
       "      <td>-1.504949</td>\n",
       "      <td>5.549994</td>\n",
       "      <td>Monoculture</td>\n",
       "      <td>Monoculture</td>\n",
       "    </tr>\n",
       "  </tbody>\n",
       "</table>\n",
       "<p>87 rows × 4 columns</p>\n",
       "</div>"
      ],
      "text/plain": [
       "         lon       lat        y_true       y_pred\n",
       "0  -1.416299  6.294420   Monoculture  Monoculture\n",
       "1  -2.411348  6.423870  Agroforestry  Monoculture\n",
       "2  -2.398147  6.497315       Natural  Monoculture\n",
       "3  -2.368260  6.558714   Monoculture  Monoculture\n",
       "4  -1.522734  5.572018   Monoculture  Monoculture\n",
       "..       ...       ...           ...          ...\n",
       "82 -1.271634  5.927286  Agroforestry  Monoculture\n",
       "83 -1.475246  6.057815       Natural  Monoculture\n",
       "84 -1.502015  6.056826       Natural  Monoculture\n",
       "85 -1.579115  5.620382   Monoculture  Monoculture\n",
       "86 -1.504949  5.549994   Monoculture  Monoculture\n",
       "\n",
       "[87 rows x 4 columns]"
      ]
     },
     "execution_count": 64,
     "metadata": {},
     "output_type": "execute_result"
    }
   ],
   "source": [
    "# prepare the 3rd survey which did not include 3rd party review -- just doing manually\n",
    "val3 = pd.read_csv(\"../../data/validation/consensus_labels_v3.csv\")\n",
    "\n",
    "val3 = val3[['plotid', 'pl_pred', 'final_label', 'lon', 'lat']] \n",
    "val3 = val3[val3.final_label != 'Unknown'].reset_index(drop=True)\n",
    "val3 = val3.rename(columns={\"final_label\":\"y_true\",\n",
    "                            \"pl_pred\": \"y_pred\"})\n",
    "pl_pred_map = {\n",
    "    0: 'No vegetation',\n",
    "    1: 'Monoculture',\n",
    "    2: 'Agroforestry',\n",
    "    3: 'Natural'}\n",
    "\n",
    "val3['y_pred'] = val3['y_pred'].map(pl_pred_map)\n",
    "round3 = val3[['lon','lat','y_true', 'y_pred']]\n",
    "round3"
   ]
  },
  {
   "cell_type": "code",
   "execution_count": 65,
   "id": "8629dba7-70d9-456b-8431-4deb895bde21",
   "metadata": {},
   "outputs": [
    {
     "name": "stdout",
     "output_type": "stream",
     "text": [
      "1208\n"
     ]
    }
   ],
   "source": [
    "print(round1.shape[0] + round2.shape[0] + round3.shape[0])"
   ]
  },
  {
   "cell_type": "code",
   "execution_count": 66,
   "id": "a7e432d0-99c0-4b97-afa8-e5083ebba151",
   "metadata": {},
   "outputs": [
    {
     "data": {
      "text/plain": [
       "(1208, 4)"
      ]
     },
     "execution_count": 66,
     "metadata": {},
     "output_type": "execute_result"
    }
   ],
   "source": [
    "stacked_df = pd.concat([round1, round2, round3], ignore_index=True)\n",
    "stacked_df.shape"
   ]
  },
  {
   "cell_type": "code",
   "execution_count": 61,
   "id": "537bd8fe-a1ab-43fc-ae63-041f1b516748",
   "metadata": {},
   "outputs": [],
   "source": [
    "stacked_df.to_csv('../../data/validation/clean_validation_labels_041825.csv', index=False)"
   ]
  },
  {
   "cell_type": "code",
   "execution_count": 68,
   "id": "3d26083c-d6dc-48ee-af54-d2aae39b2cc3",
   "metadata": {},
   "outputs": [
    {
     "data": {
      "text/plain": [
       "Agroforestry     457\n",
       "No vegetation    433\n",
       "Natural          256\n",
       "Monoculture       62\n",
       "Name: y_true, dtype: int64"
      ]
     },
     "execution_count": 68,
     "metadata": {},
     "output_type": "execute_result"
    }
   ],
   "source": [
    "stacked_df.y_true.value_counts()"
   ]
  },
  {
   "cell_type": "code",
   "execution_count": 69,
   "id": "8cb6e0c7-e299-488c-a2d3-b02ec2031f5b",
   "metadata": {},
   "outputs": [
    {
     "data": {
      "text/plain": [
       "No vegetation    547\n",
       "Agroforestry     325\n",
       "Natural          198\n",
       "Monoculture      138\n",
       "Name: y_pred, dtype: int64"
      ]
     },
     "execution_count": 69,
     "metadata": {},
     "output_type": "execute_result"
    }
   ],
   "source": [
    "stacked_df.y_pred.value_counts()"
   ]
  },
  {
   "cell_type": "markdown",
   "id": "21631c99-82b9-47bd-8fe2-9d4835b4a585",
   "metadata": {},
   "source": [
    "# Evaluate Model\n",
    "Calculates accuracy metrics and prints out scores in readable table, calculates confidence intervals and error adjustments.  \n",
    "\n",
    "Metrics:\n",
    "- accuracy: overall assessment\n",
    "- precision: how many predicted positives were correct?\n",
    "- recall: how many true positives were identified?\n",
    "- f1: overall measure of precision/recall\n",
    "- ROC/AUC: how well does the model differentiate between classes?\n",
    "\n",
    "**Confidence Intervals**  \n",
    "Need to develop error-adjusted area assessments with confidence intervals to quantify the sampling variability of the estimated area.\n",
    "I want to report error of the model as x +/- y at the 95% confidence level.  "
   ]
  },
  {
   "cell_type": "markdown",
   "id": "78d633a0-6596-4c7c-ac7a-caa328b8d9da",
   "metadata": {},
   "source": [
    "## First Ex\n",
    "Uses the first round of validation labels that were produced based on the random stratified sample."
   ]
  },
  {
   "cell_type": "code",
   "execution_count": 55,
   "id": "c49bf05c-593a-477d-92f8-276fdad432bc",
   "metadata": {},
   "outputs": [
    {
     "name": "stdout",
     "output_type": "stream",
     "text": [
      "Classification accuracy 66.1%\n",
      "Classification F1-score 65.2%\n",
      "\n",
      "             Class              =  F1  | Recall | Precision\n",
      "         --------------------------------------------------\n",
      "         * Monoculture          = 38.8 |  81.2  | 25.5\n",
      "         * No vegetation        = 79.1 |  90.0  | 70.6\n",
      "         * Agroforestry         = 60.5 |  53.3  | 69.8\n",
      "         * Natural              = 51.3 |  46.0  | 58.1\n",
      "Saving error metrics to ../../data/validation/ci_error_adjustment.json\n",
      "\n",
      "Bootstrap Confidence Interval Summary (Mean ± Margin of Error):\n",
      "Class Monoculture:\n",
      "  Recall    = 80.00% ± 20.00%\n",
      "  Precision = 26.01% ± 12.45%\n",
      "Class No vegetation:\n",
      "  Recall    = 89.95% ± 2.73%\n",
      "  Precision = 70.38% ± 3.83%\n",
      "Class Agroforestry:\n",
      "  Recall    = 52.87% ± 4.64%\n",
      "  Precision = 69.82% ± 4.88%\n",
      "Class Natural:\n",
      "  Recall    = 45.97% ± 6.13%\n",
      "  Precision = 57.95% ± 6.72%\n",
      "\n",
      "Overall Accuracy: 66.06% ± 2.72%\n"
     ]
    },
    {
     "data": {
      "image/png": "[encoded data removed]",
      "text/plain": [
       "<Figure size 700x700 with 1 Axes>"
      ]
     },
     "metadata": {},
     "output_type": "display_data"
    }
   ],
   "source": [
    "val_df = '../../data/validation/clean_validation_labels_013125.csv'\n",
    "output_err_file = \"../../data/validation/ci_error_adjustment.json\"\n",
    "\n",
    "err.pretty_print_metrics(val_df)\n",
    "\n",
    "ci_summary = err.ci_error_adjustments(val_df,\n",
    "                                      output_err_file)\n",
    "\n",
    "df = pd.read_csv(val_df)\n",
    "conf_matrix = pd.crosstab(df['y_true'], df['y_pred'], rownames=['y_true'], colnames=['y_pred'])\n",
    "plt.figure(figsize=(7,7))\n",
    "sns.heatmap(conf_matrix, annot=True, fmt='d', cmap='Blues', cbar=False)\n",
    "plt.show()"
   ]
  },
  {
   "cell_type": "markdown",
   "id": "5cd79f3c-738e-43fc-b931-7e69b531c42c",
   "metadata": {},
   "source": [
    "## Second Ex\n",
    "Incorporates additional validation labels to account for those that were dropped during the labeling process and 3rd party review."
   ]
  },
  {
   "cell_type": "code",
   "execution_count": 53,
   "id": "9ba5a115-0768-4eb7-967b-c3240c43783c",
   "metadata": {},
   "outputs": [
    {
     "name": "stdout",
     "output_type": "stream",
     "text": [
      "Classification accuracy 65.1%\n",
      "Classification F1-score 64.0%\n",
      "\n",
      "             Class              =  F1  | Recall | Precision\n",
      "         --------------------------------------------------\n",
      "         * Monoculture          = 59.0 |  95.2  | 42.8\n",
      "         * No vegetation        = 78.8 |  89.1  | 70.6\n",
      "         * Agroforestry         = 58.1 |  49.7  | 69.8\n",
      "         * Natural              = 50.7 |  44.9  | 58.1\n",
      "Saving error metrics to ../../data/validation/ci_error_adjustment.json\n",
      "\n",
      "Bootstrap Confidence Interval Summary (Mean ± Margin of Error):\n",
      "Class Monoculture:\n",
      "  Recall    = 94.69% ± 5.31%\n",
      "  Precision = 43.06% ± 8.07%\n",
      "Class No vegetation:\n",
      "  Recall    = 88.96% ± 3.10%\n",
      "  Precision = 70.27% ± 3.73%\n",
      "Class Agroforestry:\n",
      "  Recall    = 49.54% ± 4.46%\n",
      "  Precision = 69.72% ± 4.82%\n",
      "Class Natural:\n",
      "  Recall    = 45.34% ± 6.21%\n",
      "  Precision = 58.19% ± 7.01%\n",
      "\n",
      "Overall Accuracy: 65.11% ± 2.69%\n"
     ]
    },
    {
     "data": {
      "image/png": "[encoded data removed]",
      "text/plain": [
       "<Figure size 700x700 with 1 Axes>"
      ]
     },
     "metadata": {},
     "output_type": "display_data"
    }
   ],
   "source": [
    "val_df = '../../data/validation/clean_validation_labels_032025.csv'\n",
    "error_file = \"../../data/validation/ci_error_adjustment.json\"\n",
    "\n",
    "err.pretty_print_metrics(val_df)\n",
    "\n",
    "ci_summary = err.ci_error_adjustments(val_df,\n",
    "                                      error_file)\n",
    "\n",
    "df = pd.read_csv(val_df)\n",
    "conf_matrix = pd.crosstab(df['y_true'], df['y_pred'], rownames=['y_true'], colnames=['y_pred'])\n",
    "plt.figure(figsize=(7,7))\n",
    "sns.heatmap(conf_matrix, annot=True, fmt='d', cmap='Blues', cbar=False)\n",
    "plt.show()"
   ]
  },
  {
   "cell_type": "code",
   "execution_count": 4,
   "id": "2524f0b5-c18e-4d17-b65b-fd6a80e83589",
   "metadata": {},
   "outputs": [
    {
     "data": {
      "text/plain": [
       "{'overall_accuracy': (0.6610169491525424, 0.02678412132024971),\n",
       " 'No vegetation': {'recall': (0.898653177167404, 0.02958782308172403),\n",
       "  'precision': (0.7067813707594495, 0.03655590072419679),\n",
       "  'adj': 1.2714726425256297},\n",
       " 'Agroforestry': {'recall': (0.530111716318482, 0.04640246962881911),\n",
       "  'precision': (0.6976956366183898, 0.04949415443732863),\n",
       "  'adj': 0.7598036858705922},\n",
       " 'Monoculture': {'recall': (0.8, 0.2),\n",
       "  'precision': (0.25268585589020204, 0.1194071673656119),\n",
       "  'adj': 3.1659864664036395},\n",
       " 'Natural': {'recall': (0.4601093022603624, 0.059335492736552836),\n",
       "  'precision': (0.5798867989856216, 0.06721177017177121),\n",
       "  'adj': 0.7934467607560953}}"
      ]
     },
     "execution_count": 4,
     "metadata": {},
     "output_type": "execute_result"
    }
   ],
   "source": [
    "ci_summary"
   ]
  },
  {
   "cell_type": "markdown",
   "id": "d91cd9ab-1782-43d4-803a-01dcf750935a",
   "metadata": {},
   "source": [
    "# Internal Pub Revisions\n",
    "To answer:\n",
    "1. how does the stratified sample counts change with the new map version?\n",
    "2. how can we extract the y_pred column using the new map (previously this was part of the CEO survey)?\n",
    "3. how does the accuracy assessment change using the new map and additional validation samples?"
   ]
  },
  {
   "cell_type": "markdown",
   "id": "2fa6c16b-5d8f-4b42-bf39-56207f13f2f8",
   "metadata": {},
   "source": [
    "### Check the stratified sample distribution"
   ]
  },
  {
   "cell_type": "code",
   "execution_count": 10,
   "id": "4f63f81a-dac6-4228-b46d-e94319ce0270",
   "metadata": {},
   "outputs": [
    {
     "name": "stdout",
     "output_type": "stream",
     "text": [
      "Class distribution: {0: 268069617, 1: 2122966, 2: 174199043, 3: 63130612}\n",
      "Class proportions: {0: 52.82, 1: 0.42, 2: 34.32, 3: 12.44}\n",
      "Total count (pixels): 507522238\n",
      "Computing sample size...\n",
      "Creating buffer zone with ['v08', 'v14', 'v15', 'v19', 'v20', 'v21', 'v22', 'v23'] batches\n",
      "Total_samples: 1067.0\n",
      "Sampling 563 points for class 0 out of 244648745 available pixels.\n",
      "Sampling 4 points for class 1 out of 1468463 available pixels.\n",
      "Sampling 366 points for class 2 out of 156919500 available pixels.\n",
      "Sampling 132 points for class 3 out of 56691225 available pixels.\n"
     ]
    }
   ],
   "source": [
    "# rerunning the sample to determine if there is a major shift in proportions\n",
    "# for the AF, natural and background class \n",
    "# This set of points will not be used - just identifying the difference in class propotions and sampled points\n",
    "\n",
    "# OLD\n",
    "# Class distribution: {0: 267810570, 1: 1354277, 2: 151443764, 3: 86913627}\n",
    "# Class proportions: {0: 52.77, 1: 0.27, 2: 29.84, 3: 17.13}\n",
    "# Sampling 563 points for class 0 out of 264952720 available pixels.\n",
    "# Sampling 2 points for class 1 out of 1139546 available pixels.\n",
    "# Sampling 318 points for class 2 out of 148586138 available pixels.\n",
    "# Sampling 182 points for class 3 out of 85917262 available pixels.\n",
    "\n",
    "# NEW\n",
    "# Class distribution: {0: 268069617, 1: 2122966, 2: 174199043, 3: 63130612}\n",
    "# Class proportions: {0: 52.82, 1: 0.42, 2: 34.32, 3: 12.44}\n",
    "\n",
    "final = '../../tmp/ghana/preds/mosaic/final_2025-04-18.tif'\n",
    "outfile = f'../../data/validation/stratified_sample/sampled_points_rev1.shp'\n",
    "buffer = 1000\n",
    "params_path = '../../params.yaml'\n",
    "\n",
    "sampled_points = val.run_validation_workflow(final, \n",
    "                                             outfile,\n",
    "                                             buffer,\n",
    "                                             params_path,\n",
    "                                             valv1=f'../../data/validation/ceo_survey/ceo-plantations-validation-jessica-plot-data-2024-10-29.csv',\n",
    "                                             valv2=f'../../data/validation/ceo_survey/ceo-plantations-validation2-jessica-plot-data-2025-03-13.csv')"
   ]
  },
  {
   "cell_type": "code",
   "execution_count": 74,
   "id": "79d18d96-4bc3-42ce-b5bd-b50c87014ecf",
   "metadata": {},
   "outputs": [
    {
     "data": {
      "text/html": [
       "<div>\n",
       "<style scoped>\n",
       "    .dataframe tbody tr th:only-of-type {\n",
       "        vertical-align: middle;\n",
       "    }\n",
       "\n",
       "    .dataframe tbody tr th {\n",
       "        vertical-align: top;\n",
       "    }\n",
       "\n",
       "    .dataframe thead th {\n",
       "        text-align: right;\n",
       "    }\n",
       "</style>\n",
       "<table border=\"1\" class=\"dataframe\">\n",
       "  <thead>\n",
       "    <tr style=\"text-align: right;\">\n",
       "      <th></th>\n",
       "      <th>lon</th>\n",
       "      <th>lat</th>\n",
       "      <th>y_true</th>\n",
       "      <th>y_pred</th>\n",
       "    </tr>\n",
       "  </thead>\n",
       "  <tbody>\n",
       "    <tr>\n",
       "      <th>0</th>\n",
       "      <td>-2.071047</td>\n",
       "      <td>10.615168</td>\n",
       "      <td>Agroforestry</td>\n",
       "      <td>No vegetation</td>\n",
       "    </tr>\n",
       "    <tr>\n",
       "      <th>1</th>\n",
       "      <td>-0.100567</td>\n",
       "      <td>6.578401</td>\n",
       "      <td>No vegetation</td>\n",
       "      <td>No vegetation</td>\n",
       "    </tr>\n",
       "    <tr>\n",
       "      <th>2</th>\n",
       "      <td>-0.827740</td>\n",
       "      <td>10.418476</td>\n",
       "      <td>Agroforestry</td>\n",
       "      <td>No vegetation</td>\n",
       "    </tr>\n",
       "    <tr>\n",
       "      <th>3</th>\n",
       "      <td>-0.488447</td>\n",
       "      <td>10.894204</td>\n",
       "      <td>No vegetation</td>\n",
       "      <td>No vegetation</td>\n",
       "    </tr>\n",
       "    <tr>\n",
       "      <th>4</th>\n",
       "      <td>-0.735697</td>\n",
       "      <td>10.335053</td>\n",
       "      <td>No vegetation</td>\n",
       "      <td>No vegetation</td>\n",
       "    </tr>\n",
       "  </tbody>\n",
       "</table>\n",
       "</div>"
      ],
      "text/plain": [
       "        lon        lat         y_true         y_pred\n",
       "0 -2.071047  10.615168   Agroforestry  No vegetation\n",
       "1 -0.100567   6.578401  No vegetation  No vegetation\n",
       "2 -0.827740  10.418476   Agroforestry  No vegetation\n",
       "3 -0.488447  10.894204  No vegetation  No vegetation\n",
       "4 -0.735697  10.335053  No vegetation  No vegetation"
      ]
     },
     "execution_count": 74,
     "metadata": {},
     "output_type": "execute_result"
    }
   ],
   "source": [
    "# these are all the valid consensus samples\n",
    "# now just need to update the y_pred column with the new geotif\n",
    "stacked_df.head()"
   ]
  },
  {
   "cell_type": "markdown",
   "id": "ef997bd1-bd04-44b1-ac52-1f13fd76abd8",
   "metadata": {},
   "source": [
    "### create new y_pred column"
   ]
  },
  {
   "cell_type": "code",
   "execution_count": 86,
   "id": "84624e02-6431-477b-a717-87b2180dc48b",
   "metadata": {},
   "outputs": [],
   "source": [
    "with rs.open(final) as src:\n",
    "    # Ensure lat/lon match raster CRS\n",
    "    if src.crs.to_string() != \"EPSG:4326\":\n",
    "        raise ValueError(f\"Raster CRS is {src.crs}, but expected EPSG:4326.\")\n",
    "\n",
    "    # Extract raster values at each point\n",
    "    coords = list(zip(stacked_df['lon'], stacked_df['lat']))\n",
    "    stacked_df['y_pred_new'] = [val[0] for val in src.sample(coords)]\n",
    "\n",
    "pl_pred_map = {\n",
    "    0: 'No vegetation',\n",
    "    1: 'Monoculture',\n",
    "    2: 'Agroforestry',\n",
    "    3: 'Natural'}\n",
    "stacked_df['y_pred_new'] = stacked_df['y_pred_new'].map(pl_pred_map)\n",
    "clean_val_labels  = stacked_df.drop(columns='y_pred').rename(columns={'y_pred_new': 'y_pred'})\n",
    "clean_val_labels.to_csv('../../data/validation/clean_validation_labels_042125.csv')"
   ]
  },
  {
   "cell_type": "code",
   "execution_count": 87,
   "id": "ff0abc00-5480-4ccb-a71a-a07ca2a6bcfe",
   "metadata": {},
   "outputs": [
    {
     "data": {
      "text/html": [
       "<div>\n",
       "<style scoped>\n",
       "    .dataframe tbody tr th:only-of-type {\n",
       "        vertical-align: middle;\n",
       "    }\n",
       "\n",
       "    .dataframe tbody tr th {\n",
       "        vertical-align: top;\n",
       "    }\n",
       "\n",
       "    .dataframe thead th {\n",
       "        text-align: right;\n",
       "    }\n",
       "</style>\n",
       "<table border=\"1\" class=\"dataframe\">\n",
       "  <thead>\n",
       "    <tr style=\"text-align: right;\">\n",
       "      <th></th>\n",
       "      <th>lon</th>\n",
       "      <th>lat</th>\n",
       "      <th>y_true</th>\n",
       "      <th>y_pred</th>\n",
       "    </tr>\n",
       "  </thead>\n",
       "  <tbody>\n",
       "    <tr>\n",
       "      <th>0</th>\n",
       "      <td>-2.071047</td>\n",
       "      <td>10.615168</td>\n",
       "      <td>Agroforestry</td>\n",
       "      <td>No vegetation</td>\n",
       "    </tr>\n",
       "    <tr>\n",
       "      <th>1</th>\n",
       "      <td>-0.100567</td>\n",
       "      <td>6.578401</td>\n",
       "      <td>No vegetation</td>\n",
       "      <td>No vegetation</td>\n",
       "    </tr>\n",
       "    <tr>\n",
       "      <th>2</th>\n",
       "      <td>-0.827740</td>\n",
       "      <td>10.418476</td>\n",
       "      <td>Agroforestry</td>\n",
       "      <td>No vegetation</td>\n",
       "    </tr>\n",
       "    <tr>\n",
       "      <th>3</th>\n",
       "      <td>-0.488447</td>\n",
       "      <td>10.894204</td>\n",
       "      <td>No vegetation</td>\n",
       "      <td>No vegetation</td>\n",
       "    </tr>\n",
       "    <tr>\n",
       "      <th>4</th>\n",
       "      <td>-0.735697</td>\n",
       "      <td>10.335053</td>\n",
       "      <td>No vegetation</td>\n",
       "      <td>No vegetation</td>\n",
       "    </tr>\n",
       "    <tr>\n",
       "      <th>...</th>\n",
       "      <td>...</td>\n",
       "      <td>...</td>\n",
       "      <td>...</td>\n",
       "      <td>...</td>\n",
       "    </tr>\n",
       "    <tr>\n",
       "      <th>1203</th>\n",
       "      <td>-1.271634</td>\n",
       "      <td>5.927286</td>\n",
       "      <td>Agroforestry</td>\n",
       "      <td>Monoculture</td>\n",
       "    </tr>\n",
       "    <tr>\n",
       "      <th>1204</th>\n",
       "      <td>-1.475246</td>\n",
       "      <td>6.057815</td>\n",
       "      <td>Natural</td>\n",
       "      <td>Monoculture</td>\n",
       "    </tr>\n",
       "    <tr>\n",
       "      <th>1205</th>\n",
       "      <td>-1.502015</td>\n",
       "      <td>6.056826</td>\n",
       "      <td>Natural</td>\n",
       "      <td>Monoculture</td>\n",
       "    </tr>\n",
       "    <tr>\n",
       "      <th>1206</th>\n",
       "      <td>-1.579115</td>\n",
       "      <td>5.620382</td>\n",
       "      <td>Monoculture</td>\n",
       "      <td>Monoculture</td>\n",
       "    </tr>\n",
       "    <tr>\n",
       "      <th>1207</th>\n",
       "      <td>-1.504949</td>\n",
       "      <td>5.549994</td>\n",
       "      <td>Monoculture</td>\n",
       "      <td>Monoculture</td>\n",
       "    </tr>\n",
       "  </tbody>\n",
       "</table>\n",
       "<p>1208 rows × 4 columns</p>\n",
       "</div>"
      ],
      "text/plain": [
       "           lon        lat         y_true         y_pred\n",
       "0    -2.071047  10.615168   Agroforestry  No vegetation\n",
       "1    -0.100567   6.578401  No vegetation  No vegetation\n",
       "2    -0.827740  10.418476   Agroforestry  No vegetation\n",
       "3    -0.488447  10.894204  No vegetation  No vegetation\n",
       "4    -0.735697  10.335053  No vegetation  No vegetation\n",
       "...        ...        ...            ...            ...\n",
       "1203 -1.271634   5.927286   Agroforestry    Monoculture\n",
       "1204 -1.475246   6.057815        Natural    Monoculture\n",
       "1205 -1.502015   6.056826        Natural    Monoculture\n",
       "1206 -1.579115   5.620382    Monoculture    Monoculture\n",
       "1207 -1.504949   5.549994    Monoculture    Monoculture\n",
       "\n",
       "[1208 rows x 4 columns]"
      ]
     },
     "execution_count": 87,
     "metadata": {},
     "output_type": "execute_result"
    }
   ],
   "source": [
    "clean_val_labels"
   ]
  },
  {
   "cell_type": "markdown",
   "id": "7f1f4624-c820-47c6-b03d-bee3739149c3",
   "metadata": {},
   "source": [
    "### rerun the accuracy assessment\n",
    "Note that this switches the axes for y_true and y_pred"
   ]
  },
  {
   "cell_type": "code",
   "execution_count": 91,
   "id": "4fbaa23e-7534-41d7-ba67-de4c3217cfbd",
   "metadata": {},
   "outputs": [
    {
     "name": "stdout",
     "output_type": "stream",
     "text": [
      "Classification accuracy 65.2%\n",
      "Classification F1-score 63.5%\n",
      "\n",
      "             Class              =  F1  | Recall | Precision\n",
      "         --------------------------------------------------\n",
      "         * Agroforestry         = 61.0 |  57.5  | 64.8\n",
      "         * Monoculture          = 62.7 |  85.5  | 49.5\n",
      "         * Natural              = 42.8 |  33.6  | 58.9\n",
      "         * No vegetation        = 78.6 |  89.1  | 70.3\n",
      "Saving error metrics to ../../data/validation/ci_error_adjustment_042125.json\n",
      "\n",
      "Bootstrap Confidence Interval Summary (Mean ± Margin of Error):\n",
      "Class Agroforestry:\n",
      "  Recall    = 57.52% ± 4.53%\n",
      "  Precision = 64.75% ± 4.75%\n",
      "Class Monoculture:\n",
      "  Recall    = 85.01% ± 8.54%\n",
      "  Precision = 49.73% ± 9.73%\n",
      "Class Natural:\n",
      "  Recall    = 33.59% ± 5.96%\n",
      "  Precision = 58.70% ± 7.97%\n",
      "Class No vegetation:\n",
      "  Recall    = 89.02% ± 2.86%\n",
      "  Precision = 70.24% ± 3.76%\n",
      "\n",
      "Overall Accuracy: 65.27% ± 2.69%\n"
     ]
    },
    {
     "data": {
      "image/png": "[encoded data removed]",
      "text/plain": [
       "<Figure size 700x700 with 1 Axes>"
      ]
     },
     "metadata": {},
     "output_type": "display_data"
    }
   ],
   "source": [
    "val_df = '../../data/validation/clean_validation_labels_042125.csv'\n",
    "output_err_file = \"../../data/validation/ci_error_adjustment_042125.json\"\n",
    "\n",
    "err.pretty_print_metrics(val_df)\n",
    "\n",
    "ci_summary = err.ci_error_adjustments(val_df,\n",
    "                                      output_err_file)\n",
    "\n",
    "df = pd.read_csv(val_df)\n",
    "conf_matrix = pd.crosstab(df['y_pred'], df['y_true'], rownames=['y_pred'], colnames=['y_true'])\n",
    "plt.figure(figsize=(7,7))\n",
    "sns.heatmap(conf_matrix, annot=True, fmt='d', cmap='Blues', cbar=False)\n",
    "plt.show()"
   ]
  },
  {
   "cell_type": "markdown",
   "id": "910b64d3-f36b-4d26-94ec-0864e589963c",
   "metadata": {},
   "source": [
    "### Investigate"
   ]
  },
  {
   "cell_type": "code",
   "execution_count": 45,
   "id": "120cd1d5-bd88-4cd2-9f46-e115d50ffd18",
   "metadata": {},
   "outputs": [],
   "source": [
    "# things to check\n",
    "# were there any situations where john, jess and dan disagree\n",
    "df1 = confirm_ready(jess1)\n",
    "df2 = confirm_ready(john1)\n",
    "df3 = daniel1.rename(columns={\"System\": \"system\"})\n",
    "df3 = df3[['plotid', 'system']] \n",
    "consensus = df1.merge(df2[['plotid', 'system', 'pl_pred']], \n",
    "                      on='plotid', \n",
    "                      suffixes=('_jess', '_john'))\n",
    "consensus = consensus.merge(df3, \n",
    "                            on='plotid', \n",
    "                            how='left', \n",
    "                            suffixes=('', '_dan'))\n",
    "consensus.rename(columns={'system': 'system_dan',\n",
    "                         'pl_pred_jess':'pl_pred'}, inplace=True)\n",
    "df = consensus[['plotid', 'pl_pred', 'system_jess','system_john', 'system_dan']]"
   ]
  },
  {
   "cell_type": "code",
   "execution_count": 46,
   "id": "11da13ad-0b03-4d96-923d-b0e8dd506924",
   "metadata": {},
   "outputs": [],
   "source": [
    "df1 = confirm_ready(jess2)\n",
    "df2 = confirm_ready(john2)\n",
    "df3 = daniel2.rename(columns={\"System\": \"system\"})\n",
    "df3 = df3[['plotid', 'system']] \n",
    "consensus = df1.merge(df2[['plotid', 'system', 'pl_pred']], \n",
    "                      on='plotid', \n",
    "                      suffixes=('_jess', '_john'))\n",
    "consensus = consensus.merge(df3, \n",
    "                            on='plotid', \n",
    "                            how='left', \n",
    "                            suffixes=('', '_dan'))\n",
    "consensus.rename(columns={'system': 'system_dan',\n",
    "                         'pl_pred_jess':'pl_pred'}, inplace=True)\n",
    "df2 = consensus[['plotid', 'pl_pred', 'system_jess','system_john', 'system_dan']]"
   ]
  },
  {
   "cell_type": "code",
   "execution_count": 47,
   "id": "8e6c1a30-f57e-4db0-97b0-ebd8ce181150",
   "metadata": {},
   "outputs": [
    {
     "name": "stderr",
     "output_type": "stream",
     "text": [
      "/var/folders/1v/8qs7l7157sddx1_9z9wqldrc0000gp/T/ipykernel_7038/546030841.py:2: UserWarning: Boolean Series key will be reindexed to match DataFrame index.\n",
      "  a = a[\n"
     ]
    }
   ],
   "source": [
    "a = df[~df.system_dan.isna()]\n",
    "a = a[\n",
    "    (df['system_jess'] != df['system_john']) &\n",
    "    (df['system_jess'] != df['system_dan']) &\n",
    "    (df['system_john'] != df['system_dan'])\n",
    "]"
   ]
  },
  {
   "cell_type": "code",
   "execution_count": 48,
   "id": "42df3e76-2edb-4a30-9abe-90928d5c0a45",
   "metadata": {},
   "outputs": [
    {
     "data": {
      "text/html": [
       "<div>\n",
       "<style scoped>\n",
       "    .dataframe tbody tr th:only-of-type {\n",
       "        vertical-align: middle;\n",
       "    }\n",
       "\n",
       "    .dataframe tbody tr th {\n",
       "        vertical-align: top;\n",
       "    }\n",
       "\n",
       "    .dataframe thead th {\n",
       "        text-align: right;\n",
       "    }\n",
       "</style>\n",
       "<table border=\"1\" class=\"dataframe\">\n",
       "  <thead>\n",
       "    <tr style=\"text-align: right;\">\n",
       "      <th></th>\n",
       "      <th>plotid</th>\n",
       "      <th>pl_pred</th>\n",
       "      <th>system_jess</th>\n",
       "      <th>system_john</th>\n",
       "      <th>system_dan</th>\n",
       "    </tr>\n",
       "  </thead>\n",
       "  <tbody>\n",
       "    <tr>\n",
       "      <th>34</th>\n",
       "      <td>34</td>\n",
       "      <td>0</td>\n",
       "      <td>No vegetation</td>\n",
       "      <td>Natural</td>\n",
       "      <td>Agroforestry</td>\n",
       "    </tr>\n",
       "    <tr>\n",
       "      <th>39</th>\n",
       "      <td>39</td>\n",
       "      <td>0</td>\n",
       "      <td>No vegetation</td>\n",
       "      <td>Natural</td>\n",
       "      <td>Agroforestry</td>\n",
       "    </tr>\n",
       "    <tr>\n",
       "      <th>54</th>\n",
       "      <td>54</td>\n",
       "      <td>0</td>\n",
       "      <td>Agroforestry</td>\n",
       "      <td>No vegetation</td>\n",
       "      <td>Natural</td>\n",
       "    </tr>\n",
       "    <tr>\n",
       "      <th>55</th>\n",
       "      <td>55</td>\n",
       "      <td>0</td>\n",
       "      <td>No vegetation</td>\n",
       "      <td>Natural</td>\n",
       "      <td>Agroforestry</td>\n",
       "    </tr>\n",
       "    <tr>\n",
       "      <th>58</th>\n",
       "      <td>58</td>\n",
       "      <td>0</td>\n",
       "      <td>No vegetation</td>\n",
       "      <td>Agroforestry</td>\n",
       "      <td>Natural</td>\n",
       "    </tr>\n",
       "    <tr>\n",
       "      <th>69</th>\n",
       "      <td>69</td>\n",
       "      <td>0</td>\n",
       "      <td>No vegetation</td>\n",
       "      <td>Natural</td>\n",
       "      <td>Agroforestry</td>\n",
       "    </tr>\n",
       "    <tr>\n",
       "      <th>94</th>\n",
       "      <td>94</td>\n",
       "      <td>0</td>\n",
       "      <td>Natural</td>\n",
       "      <td>No vegetation</td>\n",
       "      <td>Agroforestry</td>\n",
       "    </tr>\n",
       "    <tr>\n",
       "      <th>117</th>\n",
       "      <td>117</td>\n",
       "      <td>0</td>\n",
       "      <td>No vegetation</td>\n",
       "      <td>Natural</td>\n",
       "      <td>Agroforestry</td>\n",
       "    </tr>\n",
       "    <tr>\n",
       "      <th>119</th>\n",
       "      <td>119</td>\n",
       "      <td>0</td>\n",
       "      <td>No vegetation</td>\n",
       "      <td>Natural</td>\n",
       "      <td>Agroforestry</td>\n",
       "    </tr>\n",
       "    <tr>\n",
       "      <th>146</th>\n",
       "      <td>146</td>\n",
       "      <td>0</td>\n",
       "      <td>No vegetation</td>\n",
       "      <td>Natural</td>\n",
       "      <td>Agroforestry</td>\n",
       "    </tr>\n",
       "    <tr>\n",
       "      <th>206</th>\n",
       "      <td>206</td>\n",
       "      <td>0</td>\n",
       "      <td>No vegetation</td>\n",
       "      <td>Natural</td>\n",
       "      <td>Agroforestry</td>\n",
       "    </tr>\n",
       "    <tr>\n",
       "      <th>230</th>\n",
       "      <td>230</td>\n",
       "      <td>0</td>\n",
       "      <td>No vegetation</td>\n",
       "      <td>Natural</td>\n",
       "      <td>Agroforestry</td>\n",
       "    </tr>\n",
       "    <tr>\n",
       "      <th>332</th>\n",
       "      <td>332</td>\n",
       "      <td>0</td>\n",
       "      <td>No vegetation</td>\n",
       "      <td>Agroforestry</td>\n",
       "      <td>Natural</td>\n",
       "    </tr>\n",
       "    <tr>\n",
       "      <th>371</th>\n",
       "      <td>371</td>\n",
       "      <td>0</td>\n",
       "      <td>No vegetation</td>\n",
       "      <td>Natural</td>\n",
       "      <td>Agroforestry</td>\n",
       "    </tr>\n",
       "    <tr>\n",
       "      <th>427</th>\n",
       "      <td>427</td>\n",
       "      <td>0</td>\n",
       "      <td>No vegetation</td>\n",
       "      <td>Natural</td>\n",
       "      <td>Agroforestry</td>\n",
       "    </tr>\n",
       "    <tr>\n",
       "      <th>477</th>\n",
       "      <td>477</td>\n",
       "      <td>0</td>\n",
       "      <td>No vegetation</td>\n",
       "      <td>Natural</td>\n",
       "      <td>Agroforestry</td>\n",
       "    </tr>\n",
       "    <tr>\n",
       "      <th>479</th>\n",
       "      <td>479</td>\n",
       "      <td>0</td>\n",
       "      <td>No vegetation</td>\n",
       "      <td>Agroforestry</td>\n",
       "      <td>Natural</td>\n",
       "    </tr>\n",
       "    <tr>\n",
       "      <th>482</th>\n",
       "      <td>482</td>\n",
       "      <td>0</td>\n",
       "      <td>No vegetation</td>\n",
       "      <td>Natural</td>\n",
       "      <td>Agroforestry</td>\n",
       "    </tr>\n",
       "    <tr>\n",
       "      <th>524</th>\n",
       "      <td>524</td>\n",
       "      <td>0</td>\n",
       "      <td>No vegetation</td>\n",
       "      <td>Natural</td>\n",
       "      <td>Agroforestry</td>\n",
       "    </tr>\n",
       "    <tr>\n",
       "      <th>782</th>\n",
       "      <td>782</td>\n",
       "      <td>2</td>\n",
       "      <td>No vegetation</td>\n",
       "      <td>Natural</td>\n",
       "      <td>Agroforestry</td>\n",
       "    </tr>\n",
       "    <tr>\n",
       "      <th>784</th>\n",
       "      <td>784</td>\n",
       "      <td>2</td>\n",
       "      <td>No vegetation</td>\n",
       "      <td>Natural</td>\n",
       "      <td>Agroforestry</td>\n",
       "    </tr>\n",
       "    <tr>\n",
       "      <th>1016</th>\n",
       "      <td>1016</td>\n",
       "      <td>3</td>\n",
       "      <td>No vegetation</td>\n",
       "      <td>Natural</td>\n",
       "      <td>Agroforestry</td>\n",
       "    </tr>\n",
       "  </tbody>\n",
       "</table>\n",
       "</div>"
      ],
      "text/plain": [
       "      plotid  pl_pred    system_jess    system_john    system_dan\n",
       "34        34        0  No vegetation        Natural  Agroforestry\n",
       "39        39        0  No vegetation        Natural  Agroforestry\n",
       "54        54        0   Agroforestry  No vegetation       Natural\n",
       "55        55        0  No vegetation        Natural  Agroforestry\n",
       "58        58        0  No vegetation   Agroforestry       Natural\n",
       "69        69        0  No vegetation        Natural  Agroforestry\n",
       "94        94        0        Natural  No vegetation  Agroforestry\n",
       "117      117        0  No vegetation        Natural  Agroforestry\n",
       "119      119        0  No vegetation        Natural  Agroforestry\n",
       "146      146        0  No vegetation        Natural  Agroforestry\n",
       "206      206        0  No vegetation        Natural  Agroforestry\n",
       "230      230        0  No vegetation        Natural  Agroforestry\n",
       "332      332        0  No vegetation   Agroforestry       Natural\n",
       "371      371        0  No vegetation        Natural  Agroforestry\n",
       "427      427        0  No vegetation        Natural  Agroforestry\n",
       "477      477        0  No vegetation        Natural  Agroforestry\n",
       "479      479        0  No vegetation   Agroforestry       Natural\n",
       "482      482        0  No vegetation        Natural  Agroforestry\n",
       "524      524        0  No vegetation        Natural  Agroforestry\n",
       "782      782        2  No vegetation        Natural  Agroforestry\n",
       "784      784        2  No vegetation        Natural  Agroforestry\n",
       "1016    1016        3  No vegetation        Natural  Agroforestry"
      ]
     },
     "execution_count": 48,
     "metadata": {},
     "output_type": "execute_result"
    }
   ],
   "source": [
    "a"
   ]
  },
  {
   "cell_type": "code",
   "execution_count": 49,
   "id": "617316de-3402-4d8b-8b50-931b01c4b844",
   "metadata": {},
   "outputs": [
    {
     "data": {
      "text/plain": [
       "22"
      ]
     },
     "execution_count": 49,
     "metadata": {},
     "output_type": "execute_result"
    }
   ],
   "source": [
    "len(a)"
   ]
  },
  {
   "cell_type": "code",
   "execution_count": 50,
   "id": "661e4b7e-b458-47e7-997b-d7117f64943b",
   "metadata": {},
   "outputs": [
    {
     "data": {
      "text/html": [
       "<div>\n",
       "<style scoped>\n",
       "    .dataframe tbody tr th:only-of-type {\n",
       "        vertical-align: middle;\n",
       "    }\n",
       "\n",
       "    .dataframe tbody tr th {\n",
       "        vertical-align: top;\n",
       "    }\n",
       "\n",
       "    .dataframe thead th {\n",
       "        text-align: right;\n",
       "    }\n",
       "</style>\n",
       "<table border=\"1\" class=\"dataframe\">\n",
       "  <thead>\n",
       "    <tr style=\"text-align: right;\">\n",
       "      <th></th>\n",
       "      <th>plotid</th>\n",
       "      <th>pl_pred</th>\n",
       "      <th>system_jess</th>\n",
       "      <th>system_john</th>\n",
       "      <th>system_dan</th>\n",
       "    </tr>\n",
       "  </thead>\n",
       "  <tbody>\n",
       "    <tr>\n",
       "      <th>563</th>\n",
       "      <td>563</td>\n",
       "      <td>1</td>\n",
       "      <td>Agroforestry</td>\n",
       "      <td>Agroforestry</td>\n",
       "      <td>NaN</td>\n",
       "    </tr>\n",
       "    <tr>\n",
       "      <th>564</th>\n",
       "      <td>564</td>\n",
       "      <td>1</td>\n",
       "      <td>Monoculture</td>\n",
       "      <td>Monoculture</td>\n",
       "      <td>NaN</td>\n",
       "    </tr>\n",
       "  </tbody>\n",
       "</table>\n",
       "</div>"
      ],
      "text/plain": [
       "     plotid  pl_pred   system_jess   system_john system_dan\n",
       "563     563        1  Agroforestry  Agroforestry        NaN\n",
       "564     564        1   Monoculture   Monoculture        NaN"
      ]
     },
     "execution_count": 50,
     "metadata": {},
     "output_type": "execute_result"
    }
   ],
   "source": [
    "# what were the labels for all the monoculture classes\n",
    "df[df.pl_pred == 1]"
   ]
  },
  {
   "cell_type": "markdown",
   "id": "96af09a9-4c8d-4460-80d3-3fce281fa096",
   "metadata": {},
   "source": [
    "# Other Exercises"
   ]
  },
  {
   "cell_type": "code",
   "execution_count": 5,
   "id": "c956c39d-1fa0-42e7-8ce4-f941085e0cbf",
   "metadata": {},
   "outputs": [],
   "source": [
    "# create a comb mosaic\n",
    "def mosaic_tif(tifs_to_mosaic, outpath):\n",
    "\n",
    "    ''''\n",
    "    Takes in a list of raster files and\n",
    "    merges them to form a single tif.\n",
    "\n",
    "    '''\n",
    "    dir = f'../../tmp/ghana/preds/mosaic/'\n",
    "    reader_mode = []\n",
    "\n",
    "    for file in tifs_to_mosaic:\n",
    "        src = rs.open(dir+file)\n",
    "        reader_mode.append(src) \n",
    "    print(f'Merging {len(reader_mode)} tifs.')\n",
    "\n",
    "    mosaic, out_transform = merge(reader_mode)\n",
    "    date = datetime.today().strftime('%Y-%m-%d')\n",
    "    outpath = f\"{dir}{outpath}_{date}.tif\"\n",
    "    out_meta = src.meta.copy()  \n",
    "    out_meta.update({'driver': \"GTiff\",\n",
    "                     'dtype': 'uint8',\n",
    "                     'height': mosaic.shape[1],\n",
    "                     'width': mosaic.shape[2],\n",
    "                     'transform': out_transform,\n",
    "                     'compress':'lzw',\n",
    "                     'nodata': 255})\n",
    "\n",
    "    with rs.open(outpath, \"w\", **out_meta) as dest:\n",
    "        dest.write(mosaic)\n",
    "\n",
    "    # Ensure to close all files\n",
    "    for src in reader_mode:\n",
    "        src.close()\n",
    "\n",
    "    return None"
   ]
  },
  {
   "cell_type": "code",
   "execution_count": 7,
   "id": "0ba5f3b1-241e-4f8b-a1ca-4e4b93433e45",
   "metadata": {},
   "outputs": [
    {
     "name": "stdout",
     "output_type": "stream",
     "text": [
      "Merging 3 tifs.\n"
     ]
    }
   ],
   "source": [
    "tifs = ['pd_north_v30_2025-04-17.tif',\n",
    "        'pd_east_v30_2025-04-17.tif',\n",
    "        'pd_west_v30_2025-04-17.tif',\n",
    "       ]\n",
    "\n",
    "mosaic_tif(tifs, 'final')"
   ]
  }
 ],
 "metadata": {
  "kernelspec": {
   "display_name": "plantations5",
   "language": "python",
   "name": "plantations5"
  },
  "language_info": {
   "codemirror_mode": {
    "name": "ipython",
    "version": 3
   },
   "file_extension": ".py",
   "mimetype": "text/x-python",
   "name": "python",
   "nbconvert_exporter": "python",
   "pygments_lexer": "ipython3",
   "version": "3.10.13"
  }
 },
 "nbformat": 4,
 "nbformat_minor": 5
}
