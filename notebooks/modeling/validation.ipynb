{
 "cells": [
  {
   "cell_type": "code",
   "execution_count": 1,
   "id": "e864ca60-dc3d-4200-89f4-15bdab14ae80",
   "metadata": {},
   "outputs": [],
   "source": [
    "import pandas as pd\n",
    "import geopandas as gpd\n",
    "import numpy as np\n",
    "import rasterio as rs\n",
    "from rasterio.merge import merge\n",
    "from rasterio.mask import mask\n",
    "from rasterio.features import geometry_mask\n",
    "from shapely.geometry import Point\n",
    "from datetime import datetime\n",
    "from sklearn.utils import resample\n",
    "import sys\n",
    "import matplotlib.pyplot as plt\n",
    "import seaborn as sns\n",
    "\n",
    "sys.path.append('../../src/')\n",
    "from evaluation import validation as val\n",
    "%load_ext autoreload\n",
    "%autoreload 2"
   ]
  },
  {
   "cell_type": "markdown",
   "id": "492aafc0-9e09-4e5b-8e8a-13c8a64dd71b",
   "metadata": {},
   "source": [
    "# Prepare Stratified Sample\n",
    "\n",
    "Details  \n",
    "- type: pixel-based analysis\n",
    "- design: stratified sampling approach by class\n",
    "- total study area (all pixels in the strata): 26 districts\n",
    "- total samples: when choosing sample count, consider how many points will be dropped from buffer zone and lack of ARD (when creating validation data).\n",
    "\n",
    "Code: `src/evaluation/validation.py`"
   ]
  },
  {
   "cell_type": "code",
   "execution_count": 19,
   "id": "e9be5289-9712-47e5-b30c-9bae5efdb100",
   "metadata": {},
   "outputs": [],
   "source": [
    "final = '../../tmp/ghana/preds/mosaic/final_2024-10-29.tif'\n",
    "outfile = f'../../data/validation/sampled_points.shp'\n",
    "buffer = 1000\n",
    "params_path = '../../params.yaml'"
   ]
  },
  {
   "cell_type": "code",
   "execution_count": 3,
   "id": "e423ef4f-eebe-4a34-9b27-cf44326ede37",
   "metadata": {},
   "outputs": [
    {
     "name": "stdout",
     "output_type": "stream",
     "text": [
      "Class distribution: {0: 267810570, 1: 1354277, 2: 151443764, 3: 86913627}\n",
      "Class proportions: {0: 52.77, 1: 0.27, 2: 29.84, 3: 17.13}\n",
      "Total count (pixels): 507522238\n",
      "Creating buffer zone with ['v08', 'v14', 'v15', 'v19', 'v20', 'v21', 'v22', 'v23'] batches\n",
      "Total_samples: 1067.0\n",
      "Sampling 563 points for class 0 out of 264952720 available pixels.\n",
      "Sampling 2 points for class 1 out of 1139546 available pixels.\n",
      "Sampling 318 points for class 2 out of 148586138 available pixels.\n",
      "Sampling 182 points for class 3 out of 85917262 available pixels.\n"
     ]
    }
   ],
   "source": [
    "sampled_points = val.run_validation_workflow(final, \n",
    "                                             outfile,\n",
    "                                             buffer,\n",
    "                                             params_path)"
   ]
  },
  {
   "cell_type": "markdown",
   "id": "0b778dab-3a1b-4238-a236-ce7bd99b5b66",
   "metadata": {},
   "source": [
    "# Identify non-consensus labels\n",
    "In the consensus labeling approach, any labels that do not have agreement between parties go to 3rd party review. This step sets up the CEO survey for the 3rd party.  \n",
    "Requires the final sample csv from both parties."
   ]
  },
  {
   "cell_type": "code",
   "execution_count": 3,
   "id": "c7ef7824-c783-4d10-abe1-5cc2b5f41874",
   "metadata": {},
   "outputs": [],
   "source": [
    "def confirm_ready(df):\n",
    "    df = df.rename(columns={\"System\": \"system\"})\n",
    "    missing_values = df[df['system'].isna()]\n",
    "    if len(missing_values) > 0:\n",
    "        print(f\"WARNING: There are {len(missing_values)} samples with no label. Review the CEO survey.\")\n",
    "        return None\n",
    "    df = df[['plotid', 'system', 'lon', 'lat',]]    \n",
    "    return df\n",
    "\n",
    "def determine_label(row):\n",
    "    '''\n",
    "    If system_jess == system_john, the function immediately returns the matching value.\n",
    "    If system_jess is 'unknown', return system_john.\n",
    "    If system_john is 'unknown', return system_jess.\n",
    "    If neither of the above conditions is met, return 'nc'.\n",
    "    '''\n",
    "    if row['system_jess'] == row['system_john']:\n",
    "        return row['system_jess']\n",
    "    \n",
    "    return row['system_john'] if row['system_jess'] == 'Unknown' else (\n",
    "           row['system_jess'] if row['system_john'] == 'Unknown' else 'nc')\n",
    "    \n",
    "def non_consensus_survey(df1, df2):\n",
    "    '''\n",
    "    df1 must be jess\n",
    "    df2 must be john\n",
    "    Creates a csv with non-consensus plots for 3rd party labeling\n",
    "    Creates a clean csv with consensus plots for validation\n",
    "    '''\n",
    "    df1 = confirm_ready(df1)\n",
    "    df2 = confirm_ready(df2)\n",
    "    \n",
    "    consensus = df1.merge(df2[['plotid', 'system']], \n",
    "                      on='plotid', \n",
    "                      suffixes=('_jess', '_john'))\n",
    "    \n",
    "    # create final label column\n",
    "    consensus['final_label'] = consensus.apply(determine_label, axis=1)\n",
    "    \n",
    "    non_consensus = consensus[consensus.final_label == 'nc']\n",
    "    print(\"Total non-consensus rows:\", len(non_consensus))\n",
    "    non_consensus = non_consensus[['plotid', 'lon', 'lat']]\n",
    "\n",
    "    # drop all rows marked unknown or nc\n",
    "    consensus = consensus[consensus.final_label != 'Unknown'].reset_index(drop=True)\n",
    "    consensus = consensus[consensus.final_label != 'nc'].reset_index(drop=True)\n",
    "    consensus = consensus[['plotid', 'lon', 'lat', 'final_label']]    \n",
    "\n",
    "    non_consensus.to_csv('../../data/validation/non_consensus_labels_v2.csv')\n",
    "    consensus.to_csv('../../data/validation/consensus_labels_v2.csv')\n",
    "    return consensus, non_consensus"
   ]
  },
  {
   "cell_type": "code",
   "execution_count": 4,
   "id": "4b4a9755-83fe-4033-bb7f-c0e7d3b66b4a",
   "metadata": {},
   "outputs": [
    {
     "data": {
      "text/plain": [
       "((1065, 14), (1065, 14))"
      ]
     },
     "execution_count": 4,
     "metadata": {},
     "output_type": "execute_result"
    }
   ],
   "source": [
    "john = pd.read_csv('../../data/validation/ceo-plantations-validation-john-sample-data-2025-01-09.csv')\n",
    "jess = pd.read_csv('../../data/validation/ceo-plantations-validation-jessica-sample-data-2025-01-09.csv')\n",
    "john.shape, jess.shape"
   ]
  },
  {
   "cell_type": "code",
   "execution_count": 5,
   "id": "5e840a18-4344-49ca-a690-2e50ba4f9299",
   "metadata": {},
   "outputs": [
    {
     "name": "stdout",
     "output_type": "stream",
     "text": [
      "Total non-consensus rows: 108\n"
     ]
    }
   ],
   "source": [
    "con, noncon = non_consensus_survey(jess, john)"
   ]
  },
  {
   "cell_type": "code",
   "execution_count": null,
   "id": "b2f075b4-e81d-4676-a1fb-67aea8da088a",
   "metadata": {},
   "outputs": [],
   "source": [
    "## Quick check of labels"
   ]
  },
  {
   "cell_type": "code",
   "execution_count": 6,
   "id": "1580404b-6b45-4382-ab00-b7233fb875b0",
   "metadata": {},
   "outputs": [
    {
     "name": "stdout",
     "output_type": "stream",
     "text": [
      "Total count of non-matching rows: 166\n"
     ]
    }
   ],
   "source": [
    "merge = john[['plotid', 'System']].merge(jess[['plotid', 'System']], on='plotid', suffixes=('_john', '_jess'))\n",
    "\n",
    "non_matching = merge[merge['System_john'] != merge['System_jess']]\n",
    "total_non_matching = non_matching.shape[0]\n",
    "print(\"Total count of non-matching rows:\", total_non_matching)"
   ]
  },
  {
   "cell_type": "code",
   "execution_count": 7,
   "id": "048d3acb-88f2-4d7f-8f95-14adc5322c10",
   "metadata": {},
   "outputs": [
    {
     "data": {
      "image/png": "[encoded data removed]",
      "text/plain": [
       "<Figure size 800x800 with 1 Axes>"
      ]
     },
     "metadata": {},
     "output_type": "display_data"
    }
   ],
   "source": [
    "conf_matrix = pd.crosstab(non_matching['System_john'], non_matching['System_jess'], rownames=['John System'], colnames=['Jess System'])\n",
    "\n",
    "plt.figure(figsize=(8,8))\n",
    "sns.heatmap(conf_matrix, annot=True, fmt='d', cmap='Blues', cbar=False)\n",
    "plt.show()"
   ]
  },
  {
   "cell_type": "markdown",
   "id": "9f397e28-488e-4759-8fda-d867ad87233e",
   "metadata": {},
   "source": [
    "# Additional validation points\n",
    "To account for the samples labeled unknown, more validation points are required. Adds more monoculture samples as well as samples for all classes to account for dropped samples in round 1. This uses a manually assigned class proportion. These points should be cross referenced with the original batch to ensure no overlap. (or add something into the code to ensure this step happens)."
   ]
  },
  {
   "cell_type": "code",
   "execution_count": 17,
   "id": "21020c67-343b-4dd1-b2f5-5badc03523db",
   "metadata": {},
   "outputs": [
    {
     "data": {
      "text/plain": [
       "No vegetation    417\n",
       "Agroforestry     339\n",
       "Natural          155\n",
       "Unknown          147\n",
       "Monoculture        4\n",
       "Name: System, dtype: int64"
      ]
     },
     "execution_count": 17,
     "metadata": {},
     "output_type": "execute_result"
    }
   ],
   "source": [
    "js = pd.read_csv(f'../../data/validation/ceo-plantations-validation-jessica-sample-data-2024-11-27.csv')\n",
    "js.System.value_counts()"
   ]
  },
  {
   "cell_type": "code",
   "execution_count": 18,
   "id": "ef281769-6919-49af-9309-504cafb67190",
   "metadata": {},
   "outputs": [
    {
     "data": {
      "text/plain": [
       "(1065, 14)"
      ]
     },
     "execution_count": 18,
     "metadata": {},
     "output_type": "execute_result"
    }
   ],
   "source": [
    "js.shape"
   ]
  },
  {
   "cell_type": "code",
   "execution_count": 16,
   "id": "4520d88a-0905-4b29-9c5d-2500ba66409b",
   "metadata": {},
   "outputs": [
    {
     "data": {
      "text/plain": [
       "0    63\n",
       "2    45\n",
       "3    39\n",
       "Name: pl_pred, dtype: int64"
      ]
     },
     "execution_count": 16,
     "metadata": {},
     "output_type": "execute_result"
    }
   ],
   "source": [
    "# which class do the unknowns primary fall into\n",
    "unknown_samples = js[js.System == 'Unknown']['pl_pred']\n",
    "unknown_samples.value_counts()"
   ]
  },
  {
   "cell_type": "code",
   "execution_count": 23,
   "id": "3abc3ae1-361a-44ef-8b47-7cdb7d48b868",
   "metadata": {},
   "outputs": [
    {
     "name": "stdout",
     "output_type": "stream",
     "text": [
      "Class distribution: {0: 267810570, 1: 1354277, 2: 151443764, 3: 86913627}\n",
      "Class proportions: {0: 52.77, 1: 0.27, 2: 29.84, 3: 17.13}\n",
      "Total count (pixels): 507522238\n",
      "Creating buffer zone with ['v08', 'v14', 'v15', 'v19', 'v20', 'v21', 'v22', 'v23'] batches\n",
      "Total_samples: 200\n",
      "Sampling 40 points for class 0 out of 246763275 available pixels.\n",
      "Sampling 50 points for class 1 out of 1080596 available pixels.\n",
      "Sampling 50 points for class 2 out of 138349526 available pixels.\n",
      "Sampling 60 points for class 3 out of 79684828 available pixels.\n"
     ]
    }
   ],
   "source": [
    "# looking at proportion of unknowns for each class, add\n",
    "# {0: 40, 1: 50, 2: 50, 3: 60}\n",
    "sampled_points = val.run_validation_workflow(final, \n",
    "                                             f'../../data/validation/sampled_points_v2.shp',\n",
    "                                             buffer,\n",
    "                                             params_path,\n",
    "                                             valv1=f'../../data/validation/ceo-plantations-validation-jessica-plot-data-2024-11-27.csv',\n",
    "                                             total_samples=200)"
   ]
  },
  {
   "cell_type": "markdown",
   "id": "21631c99-82b9-47bd-8fe2-9d4835b4a585",
   "metadata": {},
   "source": [
    "# Evaluate Model\n",
    "\n",
    "(prototyped)"
   ]
  },
  {
   "cell_type": "code",
   "execution_count": 10,
   "id": "37da30a3-ab42-40b8-9da5-b90c67feb6fb",
   "metadata": {},
   "outputs": [],
   "source": [
    "## first testing this with jessica only\n",
    "js = pd.read_csv(f'../../data/validation/ceo-plantations-validation-jessica.csv')\n",
    "js2 = pd.read_csv(f'../../data/validation/ceo-plantations-validation2-jessica.csv')\n"
   ]
  },
  {
   "cell_type": "code",
   "execution_count": 4,
   "id": "719fb48f-7a40-4c20-ade4-6a5fb6f123f1",
   "metadata": {},
   "outputs": [
    {
     "data": {
      "text/html": [
       "<div>\n",
       "<style scoped>\n",
       "    .dataframe tbody tr th:only-of-type {\n",
       "        vertical-align: middle;\n",
       "    }\n",
       "\n",
       "    .dataframe tbody tr th {\n",
       "        vertical-align: top;\n",
       "    }\n",
       "\n",
       "    .dataframe thead th {\n",
       "        text-align: right;\n",
       "    }\n",
       "</style>\n",
       "<table border=\"1\" class=\"dataframe\">\n",
       "  <thead>\n",
       "    <tr style=\"text-align: right;\">\n",
       "      <th></th>\n",
       "      <th>plotid</th>\n",
       "      <th>sampleid</th>\n",
       "      <th>sample_internal_id</th>\n",
       "      <th>lon</th>\n",
       "      <th>lat</th>\n",
       "      <th>email</th>\n",
       "      <th>flagged</th>\n",
       "      <th>collection_time</th>\n",
       "      <th>analysis_duration</th>\n",
       "      <th>imagery_title</th>\n",
       "      <th>imagery_attributions</th>\n",
       "      <th>sample_geom</th>\n",
       "      <th>pl_pred</th>\n",
       "      <th>System</th>\n",
       "    </tr>\n",
       "  </thead>\n",
       "  <tbody>\n",
       "    <tr>\n",
       "      <th>0</th>\n",
       "      <td>0</td>\n",
       "      <td>0</td>\n",
       "      <td>765151974</td>\n",
       "      <td>-2.071047</td>\n",
       "      <td>10.615168</td>\n",
       "      <td>jessica.ertel@wri.org</td>\n",
       "      <td>False</td>\n",
       "      <td>2024-11-07 19:40</td>\n",
       "      <td>99.7 secs</td>\n",
       "      <td>Mapbox Satellite</td>\n",
       "      <td>NaN</td>\n",
       "      <td>POINT(-2.071047378 10.61516803)</td>\n",
       "      <td>0</td>\n",
       "      <td>No vegetation</td>\n",
       "    </tr>\n",
       "    <tr>\n",
       "      <th>1</th>\n",
       "      <td>1</td>\n",
       "      <td>1</td>\n",
       "      <td>765151975</td>\n",
       "      <td>-0.100567</td>\n",
       "      <td>6.578401</td>\n",
       "      <td>jessica.ertel@wri.org</td>\n",
       "      <td>False</td>\n",
       "      <td>2024-10-29 19:33</td>\n",
       "      <td>7.8 secs</td>\n",
       "      <td>Mapbox Satellite</td>\n",
       "      <td>NaN</td>\n",
       "      <td>POINT(-0.100566997 6.578400683)</td>\n",
       "      <td>0</td>\n",
       "      <td>No vegetation</td>\n",
       "    </tr>\n",
       "    <tr>\n",
       "      <th>2</th>\n",
       "      <td>2</td>\n",
       "      <td>2</td>\n",
       "      <td>765151976</td>\n",
       "      <td>-0.827740</td>\n",
       "      <td>10.418476</td>\n",
       "      <td>jessica.ertel@wri.org</td>\n",
       "      <td>False</td>\n",
       "      <td>2024-10-29 19:33</td>\n",
       "      <td>23.9 secs</td>\n",
       "      <td>Mapbox Satellite</td>\n",
       "      <td>NaN</td>\n",
       "      <td>POINT(-0.827739714 10.4184762)</td>\n",
       "      <td>0</td>\n",
       "      <td>Agroforestry</td>\n",
       "    </tr>\n",
       "    <tr>\n",
       "      <th>3</th>\n",
       "      <td>3</td>\n",
       "      <td>3</td>\n",
       "      <td>765151977</td>\n",
       "      <td>-0.488447</td>\n",
       "      <td>10.894204</td>\n",
       "      <td>jessica.ertel@wri.org</td>\n",
       "      <td>False</td>\n",
       "      <td>2024-10-29 19:34</td>\n",
       "      <td>47.2 secs</td>\n",
       "      <td>Mapbox Satellite</td>\n",
       "      <td>NaN</td>\n",
       "      <td>POINT(-0.488447451 10.89420435)</td>\n",
       "      <td>0</td>\n",
       "      <td>No vegetation</td>\n",
       "    </tr>\n",
       "    <tr>\n",
       "      <th>4</th>\n",
       "      <td>4</td>\n",
       "      <td>4</td>\n",
       "      <td>765151978</td>\n",
       "      <td>-0.735697</td>\n",
       "      <td>10.335053</td>\n",
       "      <td>jessica.ertel@wri.org</td>\n",
       "      <td>False</td>\n",
       "      <td>2024-10-29 19:34</td>\n",
       "      <td>33.0 secs</td>\n",
       "      <td>Mapbox Satellite</td>\n",
       "      <td>NaN</td>\n",
       "      <td>POINT(-0.735697176 10.33505297)</td>\n",
       "      <td>0</td>\n",
       "      <td>No vegetation</td>\n",
       "    </tr>\n",
       "  </tbody>\n",
       "</table>\n",
       "</div>"
      ],
      "text/plain": [
       "   plotid  sampleid  sample_internal_id       lon        lat  \\\n",
       "0       0         0           765151974 -2.071047  10.615168   \n",
       "1       1         1           765151975 -0.100567   6.578401   \n",
       "2       2         2           765151976 -0.827740  10.418476   \n",
       "3       3         3           765151977 -0.488447  10.894204   \n",
       "4       4         4           765151978 -0.735697  10.335053   \n",
       "\n",
       "                   email  flagged   collection_time analysis_duration  \\\n",
       "0  jessica.ertel@wri.org    False  2024-11-07 19:40         99.7 secs   \n",
       "1  jessica.ertel@wri.org    False  2024-10-29 19:33          7.8 secs   \n",
       "2  jessica.ertel@wri.org    False  2024-10-29 19:33         23.9 secs   \n",
       "3  jessica.ertel@wri.org    False  2024-10-29 19:34         47.2 secs   \n",
       "4  jessica.ertel@wri.org    False  2024-10-29 19:34         33.0 secs   \n",
       "\n",
       "      imagery_title  imagery_attributions                      sample_geom  \\\n",
       "0  Mapbox Satellite                   NaN  POINT(-2.071047378 10.61516803)   \n",
       "1  Mapbox Satellite                   NaN  POINT(-0.100566997 6.578400683)   \n",
       "2  Mapbox Satellite                   NaN   POINT(-0.827739714 10.4184762)   \n",
       "3  Mapbox Satellite                   NaN  POINT(-0.488447451 10.89420435)   \n",
       "4  Mapbox Satellite                   NaN  POINT(-0.735697176 10.33505297)   \n",
       "\n",
       "   pl_pred         System  \n",
       "0        0  No vegetation  \n",
       "1        0  No vegetation  \n",
       "2        0   Agroforestry  \n",
       "3        0  No vegetation  \n",
       "4        0  No vegetation  "
      ]
     },
     "execution_count": 4,
     "metadata": {},
     "output_type": "execute_result"
    }
   ],
   "source": [
    "js.head()"
   ]
  },
  {
   "cell_type": "code",
   "execution_count": null,
   "id": "c49bf05c-593a-477d-92f8-276fdad432bc",
   "metadata": {},
   "outputs": [],
   "source": [
    "# Load the model\n",
    "model_path = os.path.join(RESULTS_FOLDER, \"model_SI_LULC.pkl\")\n",
    "model = joblib.load(model_path)\n",
    "\n",
    "# load the test features\n",
    "features_test = \n",
    "\n",
    "# Predict the test labels\n",
    "predicted_labels_test = model.predict(features_test)\n",
    "\n",
    "\n",
    "class_labels = np.unique(labels_test)\n",
    "class_names = ['no tree', 'monoculture', 'agroforestry', 'natural']\n",
    "mask = np.in1d(predicted_labels_test, labels_test)  # noqa: NPY201\n",
    "predictions = predicted_labels_test[mask]\n",
    "true_labels = labels_test[mask]\n",
    "\n",
    "# Extract and display metrics\n",
    "f1_scores = metrics.f1_score(true_labels, predictions, labels=class_labels, average=None)\n",
    "avg_f1_score = metrics.f1_score(true_labels, predictions, average=\"weighted\")\n",
    "recall = metrics.recall_score(true_labels, predictions, labels=class_labels, average=None)\n",
    "precision = metrics.precision_score(true_labels, predictions, labels=class_labels, average=None)\n",
    "accuracy = metrics.accuracy_score(true_labels, predictions)\n",
    "\n",
    "print(\"Classification accuracy {:.1f}%\".format(100 * accuracy))\n",
    "print(\"Classification F1-score {:.1f}%\".format(100 * avg_f1_score))\n",
    "print()\n",
    "print(\"             Class              =  F1  | Recall | Precision\")\n",
    "print(\"         --------------------------------------------------\")\n",
    "for idx, lulctype in enumerate([class_names[idx] for idx in class_labels]):\n",
    "    line_data = (lulctype, f1_scores[idx] * 100, recall[idx] * 100, precision[idx] * 100)\n",
    "    print(\"         * {0:20s} = {1:2.1f} |  {2:2.1f}  | {3:2.1f}\".format(*line_data))"
   ]
  },
  {
   "cell_type": "code",
   "execution_count": null,
   "id": "6d3677f5-f90e-4523-9a13-46df57fbb7dc",
   "metadata": {},
   "outputs": [],
   "source": [
    "## Confusion Matrix\n",
    "# visual inspo: https://github.com/sentinel-hub/eo-learn/blob/master/examples/land-cover-map/SI_LULC_pipeline.ipynb"
   ]
  },
  {
   "cell_type": "markdown",
   "id": "96af09a9-4c8d-4460-80d3-3fce281fa096",
   "metadata": {},
   "source": [
    "## Other Exercises"
   ]
  },
  {
   "cell_type": "code",
   "execution_count": 2,
   "id": "c956c39d-1fa0-42e7-8ce4-f941085e0cbf",
   "metadata": {},
   "outputs": [],
   "source": [
    "# create a comb mosaic\n",
    "def mosaic_tif(tifs_to_mosaic, outpath):\n",
    "\n",
    "    ''''\n",
    "    Takes in a list of raster files and\n",
    "    merges them to form a single tif.\n",
    "\n",
    "    '''\n",
    "    dir = f'../../tmp/ghana/preds/mosaic/'\n",
    "    reader_mode = []\n",
    "\n",
    "    for file in tifs_to_mosaic:\n",
    "        src = rs.open(dir+file)\n",
    "        reader_mode.append(src) \n",
    "    print(f'Merging {len(reader_mode)} tifs.')\n",
    "\n",
    "    mosaic, out_transform = merge(reader_mode)\n",
    "    date = datetime.today().strftime('%Y-%m-%d')\n",
    "    outpath = f\"{dir}{outpath}_{date}.tif\"\n",
    "    out_meta = src.meta.copy()  \n",
    "    out_meta.update({'driver': \"GTiff\",\n",
    "                     'dtype': 'uint8',\n",
    "                     'height': mosaic.shape[1],\n",
    "                     'width': mosaic.shape[2],\n",
    "                     'transform': out_transform,\n",
    "                     'compress':'lzw',\n",
    "                     'nodata': 255})\n",
    "\n",
    "    with rs.open(outpath, \"w\", **out_meta) as dest:\n",
    "        dest.write(mosaic)\n",
    "\n",
    "    # Ensure to close all files\n",
    "    for src in reader_mode:\n",
    "        src.close()\n",
    "\n",
    "    return None"
   ]
  },
  {
   "cell_type": "code",
   "execution_count": 3,
   "id": "0ba5f3b1-241e-4f8b-a1ca-4e4b93433e45",
   "metadata": {},
   "outputs": [
    {
     "name": "stdout",
     "output_type": "stream",
     "text": [
      "Merging 3 tifs.\n"
     ]
    }
   ],
   "source": [
    "tifs = ['pd_north_FINAL.tif',\n",
    "        'pd_east_FINAL.tif',\n",
    "        'pd_west_FINAL.tif',\n",
    "       ]\n",
    "\n",
    "mosaic_tif(tifs, 'final')"
   ]
  },
  {
   "cell_type": "code",
   "execution_count": null,
   "id": "990b5b60-2b45-4265-a81d-84ef82362dd5",
   "metadata": {},
   "outputs": [],
   "source": [
    "## legacy code"
   ]
  },
  {
   "cell_type": "code",
   "execution_count": 80,
   "id": "0c9609b3-2f86-4608-9a47-f2a92d3e341c",
   "metadata": {},
   "outputs": [],
   "source": [
    "# confirm the AOI with 3 different methods\n",
    "# land_use_map.size\t\n",
    "# Very fast, direct access to array size\t\n",
    "# Includes 255 and other invalid values in the count\n",
    "# Getting the total number of pixels\n",
    "\n",
    "# np.bincount()\n",
    "# Efficiently counts only specified valid classes\n",
    "# Limited by minlength, ignores other valid classes\t\n",
    "# If you know exactly which classes to count\n",
    "\n",
    "# Conditional sum()\t\n",
    "# Counts all pixels except 255, flexible\n",
    "# Slower and more memory-intensive for large datasets\n",
    "# When you want to exclude 255 without specifying valid classes\n",
    "\n",
    "counts = np.bincount(land_use_map.flatten(), minlength=4) \n",
    "classes = [0, 1, 2, 3] \n",
    "valid_counts = counts[classes]\n",
    "total_count = valid_counts.sum()\n",
    "lulc_count = sum(land_use_map[land_use_map != 255])\n",
    "\n",
    "print(land_use_map.size)\n",
    "print(total_count)\n",
    "print(lulc_count)"
   ]
  },
  {
   "cell_type": "code",
   "execution_count": null,
   "id": "3d63c5ae-310f-486b-9800-3eb83d609cf1",
   "metadata": {},
   "outputs": [],
   "source": []
  },
  {
   "cell_type": "code",
   "execution_count": null,
   "id": "c43d4409-5402-4b05-9fad-c5ac192250db",
   "metadata": {},
   "outputs": [],
   "source": []
  }
 ],
 "metadata": {
  "kernelspec": {
   "display_name": "plantations5",
   "language": "python",
   "name": "plantations5"
  },
  "language_info": {
   "codemirror_mode": {
    "name": "ipython",
    "version": 3
   },
   "file_extension": ".py",
   "mimetype": "text/x-python",
   "name": "python",
   "nbconvert_exporter": "python",
   "pygments_lexer": "ipython3",
   "version": "3.10.13"
  }
 },
 "nbformat": 4,
 "nbformat_minor": 5
}
