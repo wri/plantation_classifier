{
 "cells": [
  {
   "cell_type": "markdown",
   "id": "7bd04e9d-89f5-4b59-b494-a296c326aa38",
   "metadata": {},
   "source": [
    "# TTC Implementation"
   ]
  },
  {
   "cell_type": "markdown",
   "id": "a870c3bc-539f-49a6-bd5a-c66a6ee3ba93",
   "metadata": {},
   "source": [
    "## Modifications required\n",
    "\n",
    "* adapt to expect xx input band feature stack. currently expects 17 channels\n",
    "* change the final output layer to support multi-class segmentation with a softmax activation function. currently is sigmoid\n",
    "* adjust input patch size. currently expects 512x512\n",
    "* adjust loss function to be categorical cross-entropy (or Dice loss for imbalanced classes). currently is binary cross-entropy. confirm whether to consider weighted loss function.\n",
    "* model deployment - how large of an area?\n",
    "* model validation - necessary?\n",
    "\n",
    "### Updates reflected in `modified_unet.py`\n",
    "* Removed ConvGRU: classification will be done on a single composite images (not monthly time series). No need for RNN/time layers.\n",
    "* Removed SSE and DropBlock: Starting with a simple model. Attention and regularization can be added later if needed.\n",
    "* Switched Binary to Multiclass Output: Instead of \"tree vs no-tree\", your model now predicts 4 classes: Background, Monoculture, Agroforestry, Natural.\n",
    "* Simplified U-Net Encoder-Decoder: Clean, readable U-Net blocks: Conv → ReLU → BatchNorm with skip connections.\n",
    "* Modified Input Channels: Original model expected 17 bands (Sentinel only); your model expects 94 bands (Sentinel + Texture + Tree Features)."
   ]
  },
  {
   "cell_type": "code",
   "execution_count": null,
   "id": "d9b887ee-0a82-4fbb-ba3d-742f72c0f19c",
   "metadata": {},
   "outputs": [],
   "source": [
    "# how to modify the training data"
   ]
  }
 ],
 "metadata": {
  "kernelspec": {
   "display_name": "plantations5",
   "language": "python",
   "name": "plantations5"
  },
  "language_info": {
   "codemirror_mode": {
    "name": "ipython",
    "version": 3
   },
   "file_extension": ".py",
   "mimetype": "text/x-python",
   "name": "python",
   "nbconvert_exporter": "python",
   "pygments_lexer": "ipython3",
   "version": "3.10.13"
  }
 },
 "nbformat": 4,
 "nbformat_minor": 5
}
