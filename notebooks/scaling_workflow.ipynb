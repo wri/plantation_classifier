{
 "cells": [
  {
   "cell_type": "code",
   "execution_count": 1,
   "id": "8eb4900f",
   "metadata": {},
   "outputs": [],
   "source": [
    "# Download all data for a specific tile\n",
    "# Generate the annual cloud-free composite \n",
    "# Download TML features \n",
    "# Generate the plantations predictions\n",
    "# Upload plantation predictions to s3\n",
    "\n",
    "## GHANA TILES\n",
    "#tile_idx = (1660, 1161) # need to redo preds on this one\n",
    "#tile_idx = (1163, 835) # check bounding box\n",
    "#tile_idx = (1666, 1161)\n",
    "#tile_idx = (1674, 1085)\n",
    "#tile_idx = (1678, 1163)\n",
    "#tile_idx = (1679, 1163)\n",
    "#tile_idx = (1676, 1162)\n",
    "#tile_idx = (1677, 1162)\n",
    "#tile_idx = (1678, 1162)\n",
    "#tile_idx = (1679, 1162)\n",
    "#tile_idx = (1680, 1162)\n",
    "#tile_idx = (1681, 1162)\n",
    "#tile_idx = (1650, 1049)\n",
    "# (1654, 1051)\n",
    "# (1646, 1050)\n",
    "# (1644, 1052)\n",
    "# (1644, 1053)\n",
    "# (1645, 1052)\n",
    "# (1645, 1053)\n",
    "# (1646, 1052)\n",
    "# (1646, 1053)\n",
    "\n",
    "\n",
    "## COSTA RICA TILES\n",
    "# (440 1165)\n",
    "# (441 1165)\n",
    "# (439 1163)\n",
    "# (484 1114)\n",
    "# (476 1117)\n",
    "# (413 1063)"
   ]
  },
  {
   "cell_type": "code",
   "execution_count": 40,
   "id": "a08c9ec5",
   "metadata": {},
   "outputs": [
    {
     "name": "stdout",
     "output_type": "stream",
     "text": [
      "The autoreload extension is already loaded. To reload it, use:\n",
      "  %reload_ext autoreload\n"
     ]
    }
   ],
   "source": [
    "import pandas as pd\n",
    "import geopandas as gpd\n",
    "import numpy as np\n",
    "import hickle as hkl\n",
    "import pickle\n",
    "import seaborn as sns\n",
    "import copy\n",
    "import os\n",
    "import boto3\n",
    "import confuse\n",
    "import rasterio\n",
    "from osgeo import gdal\n",
    "import time\n",
    "from scipy.ndimage import median_filter\n",
    "from skimage.transform import resize\n",
    "import matplotlib.pyplot as plt\n",
    "import rasterio as rs\n",
    "import sys\n",
    "sys.path.append('../src/')\n",
    "#import plantation_classifier as p\n",
    "import mosaic as m\n",
    "from prototype import prepare_data as ptype\n",
    "import yaml\n",
    "from sklearn.preprocessing import StandardScaler\n",
    "from sklearn.model_selection import train_test_split\n",
    "from catboost import CatBoostClassifier\n",
    "\n",
    "%load_ext autoreload\n",
    "%autoreload 2"
   ]
  },
  {
   "cell_type": "markdown",
   "id": "88e98d39",
   "metadata": {},
   "source": [
    "# Errors / Prototyping"
   ]
  },
  {
   "cell_type": "markdown",
   "id": "447d614d",
   "metadata": {},
   "source": [
    "## Feature incorporation"
   ]
  },
  {
   "cell_type": "code",
   "execution_count": 178,
   "id": "5b3b24c3",
   "metadata": {},
   "outputs": [
    {
     "data": {
      "text/plain": [
       "99"
      ]
     },
     "execution_count": 178,
     "metadata": {},
     "output_type": "execute_result"
    }
   ],
   "source": [
    "np.max(preds)"
   ]
  },
  {
   "cell_type": "code",
   "execution_count": 125,
   "id": "b34e3681",
   "metadata": {},
   "outputs": [],
   "source": [
    "folder = f\"../tmp/ashanti/{str(x)}/{str(y)}/\"\n",
    "tile_idx = '1660X1075Y'\n",
    "\n",
    "feats_file = f'{folder}raw/feats/{tile_idx}_feats.hkl'\n",
    "feats_full = hkl.load(feats_file)"
   ]
  },
  {
   "cell_type": "code",
   "execution_count": 165,
   "id": "37c1510a",
   "metadata": {},
   "outputs": [],
   "source": [
    "if feats_full.shape[0] != 65:\n",
    "    print(f'Warning: there are only {feats_full.shape[0]} feats')\n",
    "    \n",
    "# separate preds and feats\n",
    "preds = feats_full[0]\n",
    "feats = feats_full[1:, ...] / 1000\n",
    "\n",
    "# combine... there's prob an easier way?\n",
    "comb = np.empty((feats_full.shape[0], feats_full.shape[1], feats_full.shape[2]))\n",
    "comb[0,...] = preds\n",
    "comb[1:,...] = feats\n",
    "\n",
    "#  adjust shape from (65, 614, 618) ->  (618, 614, 65) \n",
    "# and make sure float32\n",
    "comb = np.rollaxis(comb, 0, 3)\n",
    "comb = np.rollaxis(comb, 0, 2)\n",
    "tml_feats = comb.astype(np.float32)"
   ]
  },
  {
   "cell_type": "code",
   "execution_count": 166,
   "id": "455c6efe",
   "metadata": {},
   "outputs": [
    {
     "data": {
      "text/plain": [
       "(618, 614, 65)"
      ]
     },
     "execution_count": 166,
     "metadata": {},
     "output_type": "execute_result"
    }
   ],
   "source": [
    "tml_feats.shape"
   ]
  },
  {
   "cell_type": "code",
   "execution_count": 167,
   "id": "b977570f",
   "metadata": {},
   "outputs": [
    {
     "data": {
      "text/plain": [
       "dtype('float32')"
      ]
     },
     "execution_count": 167,
     "metadata": {},
     "output_type": "execute_result"
    }
   ],
   "source": [
    "tml_feats.dtype"
   ]
  },
  {
   "cell_type": "code",
   "execution_count": 168,
   "id": "a4ec12bd",
   "metadata": {},
   "outputs": [
    {
     "data": {
      "text/plain": [
       "array([[95., 96., 95., ..., 93., 98., 98.],\n",
       "       [96., 96., 94., ..., 87., 90., 93.],\n",
       "       [97., 96., 95., ..., 85., 83., 86.],\n",
       "       ...,\n",
       "       [74., 65., 63., ..., 84., 76., 67.],\n",
       "       [74., 76., 68., ..., 75., 67., 55.],\n",
       "       [66., 70., 51., ..., 44., 57., 40.]], dtype=float32)"
      ]
     },
     "execution_count": 168,
     "metadata": {},
     "output_type": "execute_result"
    }
   ],
   "source": [
    "tml_feats[...,0]"
   ]
  },
  {
   "cell_type": "code",
   "execution_count": 169,
   "id": "8922e4cf",
   "metadata": {},
   "outputs": [
    {
     "data": {
      "text/plain": [
       "array([[-0.06 , -0.292,  0.038, ...,  0.058,  0.205,  0.315],\n",
       "       [-0.139, -0.296, -0.042, ..., -0.041,  0.12 ,  0.12 ],\n",
       "       [-0.055, -0.178,  0.004, ..., -0.322, -0.287, -0.077],\n",
       "       ...,\n",
       "       [ 0.012, -0.21 , -0.35 , ..., -0.17 , -0.127, -0.236],\n",
       "       [-0.007,  0.069, -0.11 , ...,  0.038, -0.162, -0.141],\n",
       "       [-0.107, -0.028, -0.153, ..., -0.184, -0.075, -0.27 ]],\n",
       "      dtype=float32)"
      ]
     },
     "execution_count": 169,
     "metadata": {},
     "output_type": "execute_result"
    }
   ],
   "source": [
    "tml_feats[...,1]"
   ]
  },
  {
   "cell_type": "code",
   "execution_count": 136,
   "id": "cf468609",
   "metadata": {},
   "outputs": [],
   "source": [
    "preds = preds"
   ]
  },
  {
   "cell_type": "code",
   "execution_count": 137,
   "id": "7110c4b7",
   "metadata": {},
   "outputs": [
    {
     "data": {
      "text/plain": [
       "(1, 614, 618, 1)"
      ]
     },
     "execution_count": 137,
     "metadata": {},
     "output_type": "execute_result"
    }
   ],
   "source": [
    "preds.shape"
   ]
  },
  {
   "cell_type": "code",
   "execution_count": 93,
   "id": "a142fc34",
   "metadata": {},
   "outputs": [
    {
     "data": {
      "text/plain": [
       "(65, 614, 618)"
      ]
     },
     "execution_count": 93,
     "metadata": {},
     "output_type": "execute_result"
    }
   ],
   "source": [
    "tile_idx = (1660, 1075)\n",
    "x = tile_idx[0]\n",
    "y = tile_idx[1]\n",
    "\n",
    "feats = hkl.load(f'{folder}raw/feats/{str(x)}X{str(y)}Y_feats.hkl')\n"
   ]
  },
  {
   "cell_type": "code",
   "execution_count": 21,
   "id": "8aab9595",
   "metadata": {},
   "outputs": [
    {
     "data": {
      "text/plain": [
       "((64, 614, 618), (64, 614, 618), (618, 614))"
      ]
     },
     "execution_count": 21,
     "metadata": {},
     "output_type": "execute_result"
    }
   ],
   "source": [
    "# the new feats tile contains the predictions (0-100) at index 0\n",
    "# the other indexes are the feats and need to be divided by 1,000 bc they are int16 dtype\n",
    "# import feats to take a look\n",
    "folder = f\"../tmp/ashanti/{str(1658)}/{str(1074)}/\"\n",
    "tile_idx = f'1658X1074Y'\n",
    "tml_feats = hkl.load(f'{folder}raw/feats/{tile_idx}_feats.hkl')\n",
    "new_feats = hkl.load(f'{folder}raw/feats/{tile_idx}_feats_new.hkl')\n",
    "tml_preds = rs.open(f'{folder}raw/feats/{tile_idx}_FINAL.tif').read(1)\n",
    "tml_feats.shape, new_feats.shape, tml_preds.shape"
   ]
  },
  {
   "cell_type": "code",
   "execution_count": 22,
   "id": "b4d3f6e7",
   "metadata": {},
   "outputs": [
    {
     "data": {
      "text/plain": [
       "array([[-219,  -64,  201, ..., -126,  -80,   -7],\n",
       "       [ -22, -269, -210, ..., -185, -204, -186],\n",
       "       [-108, -119, -287, ...,  -57, -178,  154],\n",
       "       ...,\n",
       "       [ 217,  374, -301, ...,   -9, -277, -297],\n",
       "       [-290, -239, -484, ...,  113,  310, -284],\n",
       "       [ 432,  448,  297, ..., -202, -117, -100]], dtype=int16)"
      ]
     },
     "execution_count": 22,
     "metadata": {},
     "output_type": "execute_result"
    }
   ],
   "source": [
    "tml_feats[0]"
   ]
  },
  {
   "cell_type": "code",
   "execution_count": 23,
   "id": "2c3ffdcb",
   "metadata": {},
   "outputs": [
    {
     "data": {
      "text/plain": [
       "array([[-219,  -64,  201, ..., -126,  -80,   -7],\n",
       "       [ -22, -269, -210, ..., -185, -204, -186],\n",
       "       [-108, -119, -287, ...,  -57, -178,  154],\n",
       "       ...,\n",
       "       [ 217,  374, -301, ...,   -9, -277, -297],\n",
       "       [-290, -239, -484, ...,  113,  310, -284],\n",
       "       [ 432,  448,  297, ..., -202, -117, -100]], dtype=int16)"
      ]
     },
     "execution_count": 23,
     "metadata": {},
     "output_type": "execute_result"
    }
   ],
   "source": [
    "new_feats[0]"
   ]
  },
  {
   "cell_type": "code",
   "execution_count": null,
   "id": "4a921e5c",
   "metadata": {},
   "outputs": [],
   "source": [
    "# tml_feats = np.rollaxis(tml_feats, 0, 3)\n",
    "# tml_feats = np.rollaxis(tml_feats, 0, 2)"
   ]
  },
  {
   "cell_type": "code",
   "execution_count": 30,
   "id": "36a13ff3",
   "metadata": {},
   "outputs": [
    {
     "data": {
      "text/plain": [
       "(1, 618, 614, 1)"
      ]
     },
     "execution_count": 30,
     "metadata": {},
     "output_type": "execute_result"
    }
   ],
   "source": [
    "tml_preds = tml_preds[..., np.newaxis]\n",
    "tml_preds.shape"
   ]
  },
  {
   "cell_type": "code",
   "execution_count": 25,
   "id": "74bc3fbd",
   "metadata": {},
   "outputs": [
    {
     "name": "stdout",
     "output_type": "stream",
     "text": [
      "Exists locally.\n"
     ]
    },
    {
     "name": "stderr",
     "output_type": "stream",
     "text": [
      "../src/cloud_removal.py:190: RuntimeWarning: invalid value encountered in true_divide\n",
      "  mosaic = mosaic / divisor\n"
     ]
    },
    {
     "name": "stdout",
     "output_type": "stream",
     "text": [
      "[[100. 100. 100. ...   0.   0.   0.]\n",
      " [100. 100. 100. ...   0.   0.   0.]\n",
      " [100.   0.   0. ...   0.   0.   0.]\n",
      " ...\n",
      " [  0. 100. 100. ...   0.   0.   0.]\n",
      " [100. 100.   0. ...   0.   0.   0.]\n",
      " [100. 100.   0. ...   0.   0.   0.]]\n",
      "Writing ../tmp/ashanti/preds/1658X1074Y_preds.tif\n"
     ]
    }
   ],
   "source": [
    "# test run preds without TML features to enable comparison\n",
    "p.execute((1658,1074), 'ashanti', 'cat_model_v11_nf')"
   ]
  },
  {
   "cell_type": "code",
   "execution_count": 32,
   "id": "7b7b612e",
   "metadata": {},
   "outputs": [
    {
     "name": "stdout",
     "output_type": "stream",
     "text": [
      "Exists locally.\n"
     ]
    },
    {
     "name": "stderr",
     "output_type": "stream",
     "text": [
      "../src/cloud_removal.py:190: RuntimeWarning: invalid value encountered in true_divide\n",
      "  mosaic = mosaic / divisor\n"
     ]
    },
    {
     "name": "stdout",
     "output_type": "stream",
     "text": [
      "(618, 614, 78)\n",
      "[[100. 100.   0. ...   0.   0.   0.]\n",
      " [  0.   0.   0. ...   0.   0.   0.]\n",
      " [  0. 100.   0. ...   0.   0.   0.]\n",
      " ...\n",
      " [  0.   0.   0. ...   0.   0.   0.]\n",
      " [  0.   0.   0. ...   0.   0.   0.]\n",
      " [  0.   0.   0. ...   0.   0. 100.]]\n",
      "Writing ../tmp/ashanti/preds/1658X1074Y_preds.tif\n"
     ]
    }
   ],
   "source": [
    "# test run preds with TML features\n",
    "p.execute((1658,1074), 'ashanti', 'cat_model_v11')"
   ]
  },
  {
   "cell_type": "code",
   "execution_count": 68,
   "id": "0907774a",
   "metadata": {
    "scrolled": true
   },
   "outputs": [
    {
     "name": "stdout",
     "output_type": "stream",
     "text": [
      "Exists locally.\n"
     ]
    },
    {
     "name": "stderr",
     "output_type": "stream",
     "text": [
      "../src/cloud_removal.py:190: RuntimeWarning: invalid value encountered in true_divide\n",
      "  mosaic = mosaic / divisor\n"
     ]
    },
    {
     "name": "stdout",
     "output_type": "stream",
     "text": [
      "(618, 614, 78)\n",
      "Plot id 08012 has no cloud free imagery and will be removed.\n",
      "Plot id 08023 has no cloud free imagery and will be removed.\n",
      "Plot id 08039 has no cloud free imagery and will be removed.\n",
      "Plot id 08114 has no cloud free imagery and will be removed.\n",
      "Plot id 08124 has no cloud free imagery and will be removed.\n",
      "Plot id 08170 has no cloud free imagery and will be removed.\n",
      "Plot id 08181 has no cloud free imagery and will be removed.\n",
      "Plot id 08204 has no cloud free imagery and will be removed.\n",
      "Plot id 08214 has no cloud free imagery and will be removed.\n",
      "Plot id 08216 has no cloud free imagery and will be removed.\n",
      "Plot id 08223 has no cloud free imagery and will be removed.\n",
      "Baseline: 0.409\n",
      "(618, 614, 78)\n",
      "The data has been scaled to -1.0000000000000002, 1.0000000000000002\n",
      "[0.0, 0.14873744547367096, 0.03137637674808502, 1849.5, 3076.0, 1971.7350000000001, 14315.97, 4482.235, 12231.735, 14227.235, 15842.0, 9402.235, 4205.235, 0.035097129940986634, -0.9327185106277466, -0.6478016418218613, -1.6069760942459106, -0.6522527074813843, -0.5679909294843674, -0.619753189086914, -0.5520985239744186, -0.39657537430524825, -0.8860316503047944, -0.5840837746858597, -0.7147808766365051, -0.6348849588632584, -0.9395528930425644, -0.5081062722206116, -0.6634011453390122, -0.9442471724748611, -0.4446402180194855, -0.5559357452392578, -0.6196065419912338, -0.8015996927022934, -0.7606151342391968, -0.7031940370798111, -0.23004623740911484, -0.8559035915136337, -0.6760245192050934, -0.7412290757894516, -0.5088179975748062, -0.7080219447612762, -0.32299757331609724, -0.9040744537115097, -1.150347421169281, -0.8029187500476838, -0.45620909512043, -0.4166562706232071, -0.03091299949213862, -0.4000528311729431, -0.40184633791446683, -0.312615567445755, -0.4381015843153, -0.607139880657196, -0.5484869390726089, -0.17663821056485177, -0.3037215346097946, -0.4922512224316597, -0.3509810727834701, -0.36699565857648847, -0.29947152763605117, -0.2145665979385376, -0.5173918378353118, -0.5505265015363693, -0.1450650931894779, -0.19558128893375396, -0.349792602956295, -0.38149074494838714, -0.4157791671156883, -0.29798564106225967, 0.0051008426398038865, -0.5684651571512223, -0.429467177093029, -0.26247959196567533, -0.1650092425942421, -0.1545485709607601, -0.3891243028640747, -0.4351252397894859]\n",
      "[0.2163468897342682, 0.37404465675354004, 0.07852332293987274, 5772.529999999999, 7948.264999999999, 9641.265, 28543.765, 12536.149999999994, 23461.79999999999, 28726.414999999994, 30824.444999999992, 24151.064999999988, 19192.53, 0.981483314037323, 2.4606036472320545, 1.6546414792537683, -0.38799973249435443, 1.2764286530017843, 0.0036377086373976016, 1.406461414098739, -0.18347126483917242, 2.347606451511382, 0.6267054188251484, 2.555902326107025, 2.8596210169792173, 0.29107718914747155, -0.02929449677467363, 1.7447328758239744, 2.2615721344947812, 0.3064852505922309, 3.8663720417022693, 3.138309018611907, -0.0785138399153948, -0.07332813970744644, 2.23050978899002, 0.9233808380365368, 1.5352355420589445, -0.41245952665805824, 0.033953454270958854, 3.001175122261046, 2.1461652708053585, -0.026329627465457077, 2.0955630040168756, 1.016310257911682, 1.4483801138401022, 0.8799912375211711, 0.29219371140003203, 0.4502807286381721, 0.4203458386659621, 0.19158352643251367, 0.5076899325847624, 0.30142541140317913, 0.407128744125366, 0.46815284371376026, 0.13943480014801019, 0.29841753304004665, 0.21794289767742156, 0.33814468950033183, 0.28566888600587825, 0.40854381442070004, 0.1766666619479656, 0.2841546574234962, 0.49589281767606735, 0.25893799155950536, 0.5334789162874222, 0.32366145789623235, 0.5325267595052717, 0.19547892734408356, 0.125597449094057, 0.3810410571098327, 0.2687933522462844, 0.34680094659328453, 0.15999341189861296, 0.410382524728775, 0.38545500040054287, 0.26441339313983914, -0.07689778387546556, 0.5040574949979783]\n",
      "[[0. 0. 0. ... 0. 0. 0.]\n",
      " [0. 0. 0. ... 0. 0. 0.]\n",
      " [0. 0. 0. ... 0. 0. 0.]\n",
      " ...\n",
      " [0. 0. 0. ... 0. 0. 0.]\n",
      " [0. 0. 0. ... 0. 0. 0.]\n",
      " [0. 0. 0. ... 0. 0. 0.]]\n",
      "Writing ../tmp/ashanti/preds/1658X1074Y_preds.tif\n"
     ]
    }
   ],
   "source": [
    "p.execute((1658,1074), 'ashanti', 'cat_model_v11')"
   ]
  },
  {
   "cell_type": "code",
   "execution_count": 26,
   "id": "e8825258",
   "metadata": {
    "scrolled": true
   },
   "outputs": [
    {
     "data": {
      "text/plain": [
       "(64, 614, 618)"
      ]
     },
     "execution_count": 26,
     "metadata": {},
     "output_type": "execute_result"
    }
   ],
   "source": [
    "feats_file = f'../tmp/ashanti/1658/1074/raw/feats/1658X1074Y_feats.hkl'\n",
    "tml_feats = hkl.load(feats_file).astype(np.float32)\n",
    "# tml_feats = np.rollaxis(tml_feats, 0, 3)\n",
    "# tml_feats = np.rollaxis(tml_feats, 0, 2)\n",
    "tml_feats.shape"
   ]
  },
  {
   "cell_type": "code",
   "execution_count": 44,
   "id": "0e8c9875",
   "metadata": {},
   "outputs": [
    {
     "name": "stdout",
     "output_type": "stream",
     "text": [
      "Plot id 08012 has no cloud free imagery and will be removed.\n",
      "Plot id 08023 has no cloud free imagery and will be removed.\n",
      "Plot id 08039 has no cloud free imagery and will be removed.\n",
      "Plot id 08114 has no cloud free imagery and will be removed.\n",
      "Plot id 08124 has no cloud free imagery and will be removed.\n",
      "Plot id 08170 has no cloud free imagery and will be removed.\n",
      "Plot id 08181 has no cloud free imagery and will be removed.\n",
      "Plot id 08204 has no cloud free imagery and will be removed.\n",
      "Plot id 08214 has no cloud free imagery and will be removed.\n",
      "Plot id 08216 has no cloud free imagery and will be removed.\n",
      "Plot id 08223 has no cloud free imagery and will be removed.\n",
      "Baseline: 0.409\n"
     ]
    },
    {
     "data": {
      "text/plain": [
       "(313, 14, 14, 78)"
      ]
     },
     "execution_count": 44,
     "metadata": {},
     "output_type": "execute_result"
    }
   ],
   "source": [
    "X, y = ptype.create_xy((14, 14), ['v08', 'v11'], drop_prob=False, drop_feats=False, verbose=False)\n",
    "X.shape"
   ]
  },
  {
   "cell_type": "code",
   "execution_count": 45,
   "id": "2f8e227d",
   "metadata": {},
   "outputs": [],
   "source": [
    "X_train, X_test, y_train, y_test = train_test_split(X, y, test_size=0.33, random_state=22)"
   ]
  },
  {
   "cell_type": "code",
   "execution_count": 46,
   "id": "d70ab7ba",
   "metadata": {},
   "outputs": [
    {
     "data": {
      "text/plain": [
       "(209, 14, 14, 78)"
      ]
     },
     "execution_count": 46,
     "metadata": {},
     "output_type": "execute_result"
    }
   ],
   "source": [
    "X_train.shape"
   ]
  },
  {
   "cell_type": "markdown",
   "id": "1aa83063",
   "metadata": {},
   "source": [
    "# Regional tests"
   ]
  },
  {
   "cell_type": "markdown",
   "id": "f69d61d0",
   "metadata": {},
   "source": [
    "### Puntarenas"
   ]
  },
  {
   "cell_type": "code",
   "execution_count": 7,
   "id": "e1ee8ee1",
   "metadata": {},
   "outputs": [],
   "source": [
    "costarica = pd.read_csv('../data/costarica.csv')"
   ]
  },
  {
   "cell_type": "code",
   "execution_count": 15,
   "id": "04706248",
   "metadata": {},
   "outputs": [
    {
     "data": {
      "text/html": [
       "<div>\n",
       "<style scoped>\n",
       "    .dataframe tbody tr th:only-of-type {\n",
       "        vertical-align: middle;\n",
       "    }\n",
       "\n",
       "    .dataframe tbody tr th {\n",
       "        vertical-align: top;\n",
       "    }\n",
       "\n",
       "    .dataframe thead th {\n",
       "        text-align: right;\n",
       "    }\n",
       "</style>\n",
       "<table border=\"1\" class=\"dataframe\">\n",
       "  <thead>\n",
       "    <tr style=\"text-align: right;\">\n",
       "      <th></th>\n",
       "      <th>X</th>\n",
       "      <th>Y</th>\n",
       "      <th>Y_tile</th>\n",
       "      <th>X_tile</th>\n",
       "      <th>country</th>\n",
       "      <th>NAME_1</th>\n",
       "    </tr>\n",
       "  </thead>\n",
       "  <tbody>\n",
       "    <tr>\n",
       "      <th>0</th>\n",
       "      <td>-84.3611</td>\n",
       "      <td>9.6389</td>\n",
       "      <td>1137</td>\n",
       "      <td>462</td>\n",
       "      <td>Costa Rica</td>\n",
       "      <td>Puntarenas</td>\n",
       "    </tr>\n",
       "    <tr>\n",
       "      <th>1</th>\n",
       "      <td>-84.3056</td>\n",
       "      <td>9.6389</td>\n",
       "      <td>1137</td>\n",
       "      <td>463</td>\n",
       "      <td>Costa Rica</td>\n",
       "      <td>Puntarenas</td>\n",
       "    </tr>\n",
       "    <tr>\n",
       "      <th>2</th>\n",
       "      <td>-84.3611</td>\n",
       "      <td>9.5833</td>\n",
       "      <td>1136</td>\n",
       "      <td>462</td>\n",
       "      <td>Costa Rica</td>\n",
       "      <td>Puntarenas</td>\n",
       "    </tr>\n",
       "    <tr>\n",
       "      <th>3</th>\n",
       "      <td>-84.3056</td>\n",
       "      <td>9.5833</td>\n",
       "      <td>1136</td>\n",
       "      <td>463</td>\n",
       "      <td>Costa Rica</td>\n",
       "      <td>Puntarenas</td>\n",
       "    </tr>\n",
       "    <tr>\n",
       "      <th>4</th>\n",
       "      <td>-84.2500</td>\n",
       "      <td>9.5833</td>\n",
       "      <td>1136</td>\n",
       "      <td>464</td>\n",
       "      <td>Costa Rica</td>\n",
       "      <td>Puntarenas</td>\n",
       "    </tr>\n",
       "    <tr>\n",
       "      <th>...</th>\n",
       "      <td>...</td>\n",
       "      <td>...</td>\n",
       "      <td>...</td>\n",
       "      <td>...</td>\n",
       "      <td>...</td>\n",
       "      <td>...</td>\n",
       "    </tr>\n",
       "    <tr>\n",
       "      <th>222</th>\n",
       "      <td>-83.1389</td>\n",
       "      <td>8.3611</td>\n",
       "      <td>1114</td>\n",
       "      <td>484</td>\n",
       "      <td>Costa Rica</td>\n",
       "      <td>Puntarenas</td>\n",
       "    </tr>\n",
       "    <tr>\n",
       "      <th>223</th>\n",
       "      <td>-83.0833</td>\n",
       "      <td>8.3611</td>\n",
       "      <td>1114</td>\n",
       "      <td>485</td>\n",
       "      <td>Costa Rica</td>\n",
       "      <td>Puntarenas</td>\n",
       "    </tr>\n",
       "    <tr>\n",
       "      <th>224</th>\n",
       "      <td>-83.0278</td>\n",
       "      <td>8.3611</td>\n",
       "      <td>1114</td>\n",
       "      <td>486</td>\n",
       "      <td>Costa Rica</td>\n",
       "      <td>Puntarenas</td>\n",
       "    </tr>\n",
       "    <tr>\n",
       "      <th>225</th>\n",
       "      <td>-83.0278</td>\n",
       "      <td>8.3056</td>\n",
       "      <td>1113</td>\n",
       "      <td>486</td>\n",
       "      <td>Costa Rica</td>\n",
       "      <td>Puntarenas</td>\n",
       "    </tr>\n",
       "    <tr>\n",
       "      <th>226</th>\n",
       "      <td>-82.9722</td>\n",
       "      <td>8.2500</td>\n",
       "      <td>1112</td>\n",
       "      <td>487</td>\n",
       "      <td>Costa Rica</td>\n",
       "      <td>Puntarenas</td>\n",
       "    </tr>\n",
       "  </tbody>\n",
       "</table>\n",
       "<p>227 rows × 6 columns</p>\n",
       "</div>"
      ],
      "text/plain": [
       "           X       Y  Y_tile  X_tile     country      NAME_1\n",
       "0   -84.3611  9.6389    1137     462  Costa Rica  Puntarenas\n",
       "1   -84.3056  9.6389    1137     463  Costa Rica  Puntarenas\n",
       "2   -84.3611  9.5833    1136     462  Costa Rica  Puntarenas\n",
       "3   -84.3056  9.5833    1136     463  Costa Rica  Puntarenas\n",
       "4   -84.2500  9.5833    1136     464  Costa Rica  Puntarenas\n",
       "..       ...     ...     ...     ...         ...         ...\n",
       "222 -83.1389  8.3611    1114     484  Costa Rica  Puntarenas\n",
       "223 -83.0833  8.3611    1114     485  Costa Rica  Puntarenas\n",
       "224 -83.0278  8.3611    1114     486  Costa Rica  Puntarenas\n",
       "225 -83.0278  8.3056    1113     486  Costa Rica  Puntarenas\n",
       "226 -82.9722  8.2500    1112     487  Costa Rica  Puntarenas\n",
       "\n",
       "[227 rows x 6 columns]"
      ]
     },
     "execution_count": 15,
     "metadata": {},
     "output_type": "execute_result"
    }
   ],
   "source": [
    "punta = pd.read_csv('../data/puntarenas.csv')\n",
    "punta"
   ]
  },
  {
   "cell_type": "code",
   "execution_count": 15,
   "id": "5da7e97f",
   "metadata": {},
   "outputs": [],
   "source": [
    "punta = pd.read_csv('../data/puntarenas.csv')\n",
    "\n",
    "punta_tiles = punta[['X_tile', 'Y_tile']].to_records(index=False)"
   ]
  },
  {
   "cell_type": "code",
   "execution_count": 17,
   "id": "0a532720",
   "metadata": {},
   "outputs": [
    {
     "name": "stdout",
     "output_type": "stream",
     "text": [
      "(462, 1137)\n",
      "(463, 1137)\n"
     ]
    }
   ],
   "source": [
    "for tile in punta_tiles[:2]:\n",
    "    print(tile)"
   ]
  },
  {
   "cell_type": "code",
   "execution_count": 20,
   "id": "310c3276",
   "metadata": {},
   "outputs": [
    {
     "name": "stdout",
     "output_type": "stream",
     "text": [
      "successful\n"
     ]
    }
   ],
   "source": [
    "successful = False\n",
    "if not successful:\n",
    "    print('successful')"
   ]
  },
  {
   "cell_type": "code",
   "execution_count": 34,
   "id": "7ef5bb9c",
   "metadata": {},
   "outputs": [
    {
     "name": "stdout",
     "output_type": "stream",
     "text": [
      "(462, 1137)\n",
      "(463, 1137)\n",
      "(462, 1136)\n",
      "(463, 1136)\n",
      "(464, 1136)\n"
     ]
    }
   ],
   "source": [
    "# produce puntarenas map w/ first 100 tiles\n",
    "\n",
    "punta = pd.read_csv('../data/puntarenas.csv')\n",
    "\n",
    "punta_tiles = punta[['X_tile', 'Y_tile']].to_records(index=False)\n",
    "\n",
    "counter = 0\n",
    "\n",
    "for tile in punta_tiles[:5]:\n",
    "    print(tile)\n",
    "#     counter += 1\n",
    "#     p.execute(tile, 'puntarenas', 'cat_model_v10_nf')\n",
    "#     print(f'{counter} completed.')"
   ]
  },
  {
   "cell_type": "code",
   "execution_count": 17,
   "id": "2e993cf2",
   "metadata": {},
   "outputs": [
    {
     "name": "stdout",
     "output_type": "stream",
     "text": [
      "Merging 227 tifs.\n"
     ]
    }
   ],
   "source": [
    "m.mosaic_tif('puntarenas', 'cat_model_v11_nf', '081122')"
   ]
  },
  {
   "cell_type": "markdown",
   "id": "8194e577",
   "metadata": {},
   "source": [
    "### Parrita"
   ]
  },
  {
   "cell_type": "code",
   "execution_count": 19,
   "id": "39f76742",
   "metadata": {},
   "outputs": [
    {
     "name": "stdout",
     "output_type": "stream",
     "text": [
      "Downloading 2020/raw/462/1137/\n",
      "[[82. 82. 95. ... 48. 18. 20.]\n",
      " [89. 46. 57. ... 53. 43. 56.]\n",
      " [97. 58. 53. ... 57. 39. 51.]\n",
      " ...\n",
      " [87. 97. 99. ... 17. 13. 17.]\n",
      " [74. 96. 98. ... 27. 25. 23.]\n",
      " [68. 98. 93. ... 35. 23. 22.]]\n",
      "Writing ../tmp/parrita/preds/462X1137Y_preds.tif\n",
      "Downloading 2020/raw/463/1137/\n",
      "[[82. 82. 80. ... 56. 48. 34.]\n",
      " [89. 88. 74. ... 40. 53. 46.]\n",
      " [66. 52. 83. ... 29. 43. 63.]\n",
      " ...\n",
      " [11. 22. 49. ... 54. 36. 29.]\n",
      " [16. 16.  1. ... 33. 34. 39.]\n",
      " [16. 16.  1. ... 41. 51. 39.]]\n",
      "Writing ../tmp/parrita/preds/463X1137Y_preds.tif\n",
      "Downloading 2020/raw/462/1136/\n",
      "[[95. 95. 92. ... 16. 27. 32.]\n",
      " [82. 54. 74. ... 49. 48. 59.]\n",
      " [94. 70. 79. ... 42. 46. 72.]\n",
      " ...\n",
      " [25. 25. 52. ... 60. 57. 71.]\n",
      " [51. 48. 48. ... 70. 74. 73.]\n",
      " [49. 52. 30. ... 65. 65. 72.]]\n",
      "Writing ../tmp/parrita/preds/462X1136Y_preds.tif\n",
      "Downloading 2020/raw/463/1136/\n",
      "[[27. 27. 55. ... 50. 47. 40.]\n",
      " [61. 46. 49. ... 47. 47. 44.]\n",
      " [65. 67. 45. ... 64. 56. 43.]\n",
      " ...\n",
      " [60. 46. 48. ... 63. 52. 81.]\n",
      " [52. 52. 48. ... 59. 81. 72.]\n",
      " [55. 52. 45. ... 65. 77. 81.]]\n",
      "Writing ../tmp/parrita/preds/463X1136Y_preds.tif\n",
      "Downloading 2020/raw/464/1136/\n",
      "[[ 3.  3.  5. ... 29. 25. 30.]\n",
      " [ 6.  9.  4. ... 35. 31. 38.]\n",
      " [11. 14.  4. ... 39. 40. 47.]\n",
      " ...\n",
      " [63. 57. 66. ... 10.  8. 12.]\n",
      " [90. 91. 88. ... 22. 13. 13.]\n",
      " [89. 81. 88. ... 33. 21. 36.]]\n",
      "Writing ../tmp/parrita/preds/464X1136Y_preds.tif\n",
      "5/227 completed.\n",
      "Downloading 2020/raw/465/1136/\n"
     ]
    },
    {
     "name": "stderr",
     "output_type": "stream",
     "text": [
      "../src/cloud_removal.py:190: RuntimeWarning: invalid value encountered in true_divide\n",
      "  mosaic = mosaic / divisor\n"
     ]
    },
    {
     "name": "stdout",
     "output_type": "stream",
     "text": [
      "[[ 9.  9.  7. ... 60. 63. 47.]\n",
      " [14. 13. 17. ... 46. 50. 42.]\n",
      " [10.  9. 14. ... 33. 49. 50.]\n",
      " ...\n",
      " [21. 21.  6. ... 37. 40. 43.]\n",
      " [20. 16. 10. ... 37. 42. 38.]\n",
      " [ 8.  0.  2. ... 31. 31. 61.]]\n",
      "Writing ../tmp/parrita/preds/465X1136Y_preds.tif\n",
      "Downloading 2020/raw/461/1135/\n",
      "[[59. 59. 57. ... 58. 64. 63.]\n",
      " [60. 36. 39. ... 59. 65. 66.]\n",
      " [58. 34. 36. ... 63. 65. 66.]\n",
      " ...\n",
      " [25. 25. 24. ... 74. 74. 74.]\n",
      " [24. 24. 24. ... 74. 75. 73.]\n",
      " [25. 25. 29. ... 74. 74. 73.]]\n",
      "Writing ../tmp/parrita/preds/461X1135Y_preds.tif\n",
      "Downloading 2020/raw/462/1135/\n",
      "[[54. 54. 32. ... 75. 19. 64.]\n",
      " [40. 40. 48. ... 67. 80. 74.]\n",
      " [18. 18. 18. ... 63. 59.  1.]\n",
      " ...\n",
      " [72. 72. 72. ... 41. 41. 38.]\n",
      " [72. 72. 72. ... 40. 39. 37.]\n",
      " [72. 72. 72. ... 38. 40. 39.]]\n",
      "Writing ../tmp/parrita/preds/462X1135Y_preds.tif\n",
      "Downloading 2020/raw/463/1135/\n",
      "[[54. 54. 62. ... 83. 78. 65.]\n",
      " [66. 66. 29. ... 80. 81. 76.]\n",
      " [24. 24. 23. ... 55. 57. 49.]\n",
      " ...\n",
      " [50. 49. 49. ... 47. 58. 33.]\n",
      " [53. 52. 51. ... 27. 15. 28.]\n",
      " [51. 49. 47. ... 11. 16. 13.]]\n",
      "Writing ../tmp/parrita/preds/463X1135Y_preds.tif\n",
      "Downloading 2020/raw/464/1135/\n"
     ]
    },
    {
     "name": "stderr",
     "output_type": "stream",
     "text": [
      "../src/cloud_removal.py:190: RuntimeWarning: invalid value encountered in true_divide\n",
      "  mosaic = mosaic / divisor\n"
     ]
    },
    {
     "name": "stdout",
     "output_type": "stream",
     "text": [
      "[[21. 21. 25. ... 23. 24. 26.]\n",
      " [17. 52. 52. ... 66. 62. 57.]\n",
      " [16. 51. 63. ... 46. 59. 61.]\n",
      " ...\n",
      " [47. 46. 77. ... 10. 16. 14.]\n",
      " [75. 74. 75. ... 21. 27. 39.]\n",
      " [62. 61. 57. ... 21. 24. 24.]]\n",
      "Writing ../tmp/parrita/preds/464X1135Y_preds.tif\n",
      "10/227 completed.\n",
      "Downloading 2020/raw/465/1135/\n",
      "[[48. 48. 44. ... 82. 75. 67.]\n",
      " [46. 67. 62. ... 64. 75. 58.]\n",
      " [67. 70. 69. ... 65. 63. 65.]\n",
      " ...\n",
      " [ 1.  2.  2. ... 45. 20. 46.]\n",
      " [ 1.  2.  0. ... 51. 45. 55.]\n",
      " [ 6.  9.  4. ... 48. 50. 54.]]\n",
      "Writing ../tmp/parrita/preds/465X1135Y_preds.tif\n",
      "Downloading 2020/raw/466/1135/\n"
     ]
    },
    {
     "name": "stderr",
     "output_type": "stream",
     "text": [
      "../src/cloud_removal.py:190: RuntimeWarning: invalid value encountered in true_divide\n",
      "  mosaic = mosaic / divisor\n"
     ]
    },
    {
     "name": "stdout",
     "output_type": "stream",
     "text": [
      "[[61. 61. 42. ... 46. 41. 44.]\n",
      " [62. 55. 66. ... 78. 61. 12.]\n",
      " [65. 54. 60. ... 63. 43. 43.]\n",
      " ...\n",
      " [46. 41. 28. ... 24. 70. 79.]\n",
      " [30. 24. 34. ... 58. 74. 80.]\n",
      " [35. 32. 41. ... 55. 74. 65.]]\n",
      "Writing ../tmp/parrita/preds/466X1135Y_preds.tif\n",
      "Downloading 2020/raw/467/1135/\n",
      "[[44. 44. 24. ... 73. 58. 61.]\n",
      " [34. 33. 22. ... 79. 44. 30.]\n",
      " [23. 21. 21. ... 86. 48.  7.]\n",
      " ...\n",
      " [28. 28. 43. ... 92. 55. 64.]\n",
      " [43. 43. 46. ... 60. 50. 49.]\n",
      " [37. 37. 47. ... 42. 32. 43.]]\n",
      "Writing ../tmp/parrita/preds/467X1135Y_preds.tif\n",
      "Downloading 2020/raw/465/1134/\n"
     ]
    },
    {
     "name": "stderr",
     "output_type": "stream",
     "text": [
      "../src/cloud_removal.py:560: RuntimeWarning: invalid value encountered in true_divide\n",
      "  return (array[..., 1] - array[..., 3]) / (array[..., 1] + array[..., 3])\n",
      "../src/cloud_removal.py:568: RuntimeWarning: divide by zero encountered in true_divide\n",
      "  step3 = arr[..., 5] / arr[..., 8] < 4.292\n",
      "../src/cloud_removal.py:456: RuntimeWarning: invalid value encountered in true_divide\n",
      "  return (arr[..., 3] - arr[..., 2]) / (arr[..., 3] + arr[..., 2])\n",
      "../src/cloud_removal.py:459: RuntimeWarning: invalid value encountered in true_divide\n",
      "  return (arr[..., 1] - arr[..., 3]) / (arr[..., 1] + arr[..., 3])\n",
      "../src/cloud_removal.py:163: RuntimeWarning: invalid value encountered in true_divide\n",
      "  return (arr[..., 1] - arr[..., 3]) / (arr[..., 1] + arr[..., 3])\n"
     ]
    },
    {
     "name": "stdout",
     "output_type": "stream",
     "text": [
      "[[27. 27. 27. ... 64. 53. 53.]\n",
      " [30. 29. 33. ... 57. 59. 50.]\n",
      " [36. 31. 31. ... 72. 75. 69.]\n",
      " ...\n",
      " [47. 43. 64. ... 44. 49. 60.]\n",
      " [61. 57. 55. ... 53. 51. 53.]\n",
      " [61. 56. 55. ... 57. 58. 56.]]\n",
      "Writing ../tmp/parrita/preds/465X1134Y_preds.tif\n",
      "Downloading 2020/raw/466/1134/\n",
      "[[41. 41. 61. ... 66. 59. 42.]\n",
      " [54. 52. 43. ... 58. 61. 63.]\n",
      " [47. 37. 61. ... 59. 63. 74.]\n",
      " ...\n",
      " [37.  8.  0. ...  1.  0.  0.]\n",
      " [ 4.  1.  4. ...  1.  1.  1.]\n",
      " [ 5.  1.  2. ...  1.  1.  7.]]\n",
      "Writing ../tmp/parrita/preds/466X1134Y_preds.tif\n",
      "15/227 completed.\n",
      "Downloading 2020/raw/467/1134/\n",
      "[[94. 94. 73. ... 29. 29. 29.]\n",
      " [94. 82. 65. ... 28. 30. 35.]\n",
      " [97. 95. 88. ... 25. 31. 31.]\n",
      " ...\n",
      " [40. 38. 48. ... 44. 35. 45.]\n",
      " [40. 38. 40. ... 57. 40. 49.]\n",
      " [35. 34. 35. ... 45. 65. 44.]]\n",
      "Writing ../tmp/parrita/preds/467X1134Y_preds.tif\n",
      "Downloading 2020/raw/466/1133/\n"
     ]
    },
    {
     "name": "stderr",
     "output_type": "stream",
     "text": [
      "../src/cloud_removal.py:568: RuntimeWarning: divide by zero encountered in true_divide\n",
      "  step3 = arr[..., 5] / arr[..., 8] < 4.292\n",
      "../src/cloud_removal.py:508: RuntimeWarning: divide by zero encountered in true_divide\n",
      "  r8a = b8down / b8adown\n",
      "../src/cloud_removal.py:509: RuntimeWarning: divide by zero encountered in true_divide\n",
      "  r8a7 = b7down / b8adown\n",
      "../src/cloud_removal.py:520: RuntimeWarning: invalid value encountered in subtract\n",
      "  r8a = mean_of_sq - sq_of_mean\n",
      "../src/cloud_removal.py:530: RuntimeWarning: invalid value encountered in subtract\n",
      "  r8a7 = mean_of_sq - sq_of_mean\n"
     ]
    },
    {
     "name": "stdout",
     "output_type": "stream",
     "text": [
      "[[35. 36. 34. ... 11.  7.  8.]\n",
      " [40. 54. 40. ...  8.  6.  6.]\n",
      " [35. 32. 29. ... 28. 27. 30.]\n",
      " ...\n",
      " [64. 29. 26. ... 55. 56. 57.]\n",
      " [61. 69. 28. ... 53. 56. 56.]\n",
      " [24. 24. 24. ... 55. 55. 56.]]\n",
      "Writing ../tmp/parrita/preds/466X1133Y_preds.tif\n",
      "Downloading 2020/raw/467/1133/\n",
      "[[ 48.  48.  48. ...  49.  64.  53.]\n",
      " [ 48.  40.  41. ...  51.  63.  71.]\n",
      " [ 48.  42.  40. ...  90.  81.  84.]\n",
      " ...\n",
      " [ 97. 100.  99. ...  22.  32.  33.]\n",
      " [ 90.  99.  50. ...  22.  35.  35.]\n",
      " [ 26.  51.  48. ...  26.  32.  38.]]\n",
      "Writing ../tmp/parrita/preds/467X1133Y_preds.tif\n",
      "Downloading 2020/raw/468/1133/\n"
     ]
    },
    {
     "name": "stderr",
     "output_type": "stream",
     "text": [
      "../src/cloud_removal.py:190: RuntimeWarning: invalid value encountered in true_divide\n",
      "  mosaic = mosaic / divisor\n"
     ]
    },
    {
     "name": "stdout",
     "output_type": "stream",
     "text": [
      "[[ 1. 72. 65. ... 60. 63. 57.]\n",
      " [79. 64. 77. ... 44. 56. 58.]\n",
      " [65. 56. 88. ... 53. 50. 42.]\n",
      " ...\n",
      " [27. 19. 21. ... 83. 87. 78.]\n",
      " [37. 19. 21. ... 83. 87. 88.]\n",
      " [21. 16. 24. ... 90. 79. 73.]]\n",
      "Writing ../tmp/parrita/preds/468X1133Y_preds.tif\n",
      "Downloading 2020/raw/468/1132/\n",
      "[[58. 58. 57. ... 55. 60. 60.]\n",
      " [58. 58. 57. ... 59. 62. 61.]\n",
      " [56. 56. 56. ... 62. 63. 58.]\n",
      " ...\n",
      " [71. 69. 69. ... 41. 39. 52.]\n",
      " [70. 69. 70. ... 46. 46. 54.]\n",
      " [69. 70. 70. ... 52. 46. 57.]]\n",
      "Writing ../tmp/parrita/preds/468X1132Y_preds.tif\n",
      "20/227 completed.\n",
      "Downloading 2020/raw/469/1132/\n"
     ]
    },
    {
     "name": "stderr",
     "output_type": "stream",
     "text": [
      "../src/cloud_removal.py:190: RuntimeWarning: invalid value encountered in true_divide\n",
      "  mosaic = mosaic / divisor\n"
     ]
    },
    {
     "name": "stdout",
     "output_type": "stream",
     "text": [
      "[[ 4.  8.  8. ... 45. 35. 27.]\n",
      " [ 8.  6.  8. ... 47. 34. 16.]\n",
      " [50. 54.  3. ... 47. 35. 20.]\n",
      " ...\n",
      " [58. 58. 58. ... 50. 43. 45.]\n",
      " [58. 58. 58. ... 27. 27. 32.]\n",
      " [58. 58. 58. ... 50. 29. 28.]]\n",
      "Writing ../tmp/parrita/preds/469X1132Y_preds.tif\n",
      "Downloading 2020/raw/470/1132/\n"
     ]
    },
    {
     "name": "stderr",
     "output_type": "stream",
     "text": [
      "../src/cloud_removal.py:190: RuntimeWarning: invalid value encountered in true_divide\n",
      "  mosaic = mosaic / divisor\n"
     ]
    },
    {
     "name": "stdout",
     "output_type": "stream",
     "text": [
      "[[52. 58. 83. ... 12. 40. 50.]\n",
      " [46. 15. 36. ...  8. 18. 29.]\n",
      " [57. 42. 38. ... 15. 14. 22.]\n",
      " ...\n",
      " [ 2.  1.  0. ... 89. 35. 40.]\n",
      " [10.  0.  6. ... 71. 57. 53.]\n",
      " [ 5.  3. 11. ... 63. 57. 56.]]\n",
      "Writing ../tmp/parrita/preds/470X1132Y_preds.tif\n",
      "Downloading 2020/raw/479/1132/\n",
      "[[81. 88. 50. ... 68. 72. 66.]\n",
      " [89. 88. 52. ... 59. 73. 83.]\n",
      " [88. 88. 35. ... 83. 73. 70.]\n",
      " ...\n",
      " [75. 61. 47. ... 33. 42. 61.]\n",
      " [68. 52. 71. ... 62. 58. 58.]\n",
      " [38. 55. 51. ... 54. 57. 58.]]\n",
      "Writing ../tmp/parrita/preds/479X1132Y_preds.tif\n",
      "Downloading 2020/raw/481/1132/\n",
      "[[36. 29. 21. ... 86. 94. 15.]\n",
      " [35. 42. 63. ... 88. 87. 16.]\n",
      " [ 1.  0.  3. ... 93. 43. 27.]\n",
      " ...\n",
      " [28. 55. 54. ... 75. 74. 74.]\n",
      " [32. 62. 58. ... 70. 72. 69.]\n",
      " [24. 50. 48. ... 73. 65. 75.]]\n",
      "Writing ../tmp/parrita/preds/481X1132Y_preds.tif\n",
      "Downloading 2020/raw/470/1131/\n",
      "[[38. 38. 33. ... 54. 54. 55.]\n",
      " [35. 53. 31. ... 49. 50. 54.]\n",
      " [38. 36. 38. ... 60. 50. 50.]\n",
      " ...\n",
      " [69. 60. 64. ... 24. 22. 27.]\n",
      " [61. 68. 64. ... 24. 25. 30.]\n",
      " [44. 58. 64. ... 25. 26. 32.]]\n",
      "Writing ../tmp/parrita/preds/470X1131Y_preds.tif\n",
      "25/227 completed.\n",
      "Downloading 2020/raw/471/1131/\n"
     ]
    },
    {
     "name": "stderr",
     "output_type": "stream",
     "text": [
      "../src/cloud_removal.py:190: RuntimeWarning: invalid value encountered in true_divide\n",
      "  mosaic = mosaic / divisor\n"
     ]
    },
    {
     "name": "stdout",
     "output_type": "stream",
     "text": [
      "[[58. 49. 46. ...  1. 33. 36.]\n",
      " [52. 68. 67. ...  2. 34. 35.]\n",
      " [45. 70. 75. ...  3. 28. 28.]\n",
      " ...\n",
      " [61. 47. 42. ... 77. 92. 90.]\n",
      " [56. 51. 40. ... 79. 86. 88.]\n",
      " [34. 44. 35. ... 53. 18. 20.]]\n",
      "Writing ../tmp/parrita/preds/471X1131Y_preds.tif\n",
      "Downloading 2020/raw/479/1131/\n",
      "[[50. 30. 52. ... 42. 69. 73.]\n",
      " [45. 28. 57. ... 39. 70. 77.]\n",
      " [36. 68. 49. ... 47. 56. 71.]\n",
      " ...\n",
      " [50. 47. 68. ... 23. 28. 29.]\n",
      " [54. 74. 64. ... 22. 24. 25.]\n",
      " [64. 72. 55. ... 30. 25. 33.]]\n",
      "Writing ../tmp/parrita/preds/479X1131Y_preds.tif\n",
      "Downloading 2020/raw/480/1131/\n",
      "[[10. 36. 57. ... 52. 52. 53.]\n",
      " [16. 56. 45. ... 50. 49. 53.]\n",
      " [59. 36. 41. ... 34. 42. 43.]\n",
      " ...\n",
      " [35. 44. 43. ... 48.  5.  8.]\n",
      " [43. 55. 48. ... 36.  3.  6.]\n",
      " [47. 58. 42. ... 35. 19. 19.]]\n",
      "Writing ../tmp/parrita/preds/480X1131Y_preds.tif\n",
      "Downloading 2020/raw/481/1131/\n"
     ]
    },
    {
     "name": "stderr",
     "output_type": "stream",
     "text": [
      "../src/cloud_removal.py:190: RuntimeWarning: invalid value encountered in true_divide\n",
      "  mosaic = mosaic / divisor\n"
     ]
    },
    {
     "name": "stdout",
     "output_type": "stream",
     "text": [
      "[[ 78.  78.  78. ...  54. 100.  99.]\n",
      " [ 78.  82.  75. ...  65.  57.  57.]\n",
      " [ 80.  76.  67. ...  59.  48.  56.]\n",
      " ...\n",
      " [ 59.  62.  52. ...   0.   1.   1.]\n",
      " [ 51.  59.  36. ...   0.   1.   1.]\n",
      " [ 49.  56.  36. ...   0.   1.   1.]]\n",
      "Writing ../tmp/parrita/preds/481X1131Y_preds.tif\n",
      "Downloading 2020/raw/482/1131/\n",
      "[[46. 80. 49. ... 57. 40. 43.]\n",
      " [77. 59. 55. ... 64. 66. 79.]\n",
      " [79. 62. 54. ... 71. 70. 87.]\n",
      " ...\n",
      " [ 0.  0.  3. ... 73. 85. 67.]\n",
      " [ 0.  0.  0. ... 85. 68. 69.]\n",
      " [ 0.  0.  3. ... 58. 50. 52.]]\n",
      "Writing ../tmp/parrita/preds/482X1131Y_preds.tif\n",
      "30/227 completed.\n",
      "Downloading 2020/raw/483/1131/\n",
      "[[60. 93. 78. ... 76. 89. 93.]\n",
      " [60. 22. 26. ... 90. 92. 84.]\n",
      " [53. 60. 36. ... 76. 71. 91.]\n",
      " ...\n",
      " [49. 55. 37. ... 63. 55. 60.]\n",
      " [38. 49. 39. ... 54. 27. 25.]\n",
      " [28. 57. 60. ... 76. 61. 49.]]\n",
      "Writing ../tmp/parrita/preds/483X1131Y_preds.tif\n",
      "Downloading 2020/raw/471/1130/\n",
      "[[53. 45. 42. ... 51. 55. 53.]\n",
      " [43. 46. 44. ... 51. 56. 56.]\n",
      " [55. 45. 55. ... 51. 54. 53.]\n",
      " ...\n",
      " [23. 24. 23. ... 54. 57. 58.]\n",
      " [22. 23. 26. ... 54. 59. 58.]\n",
      " [25. 24. 25. ... 46. 55. 54.]]\n",
      "Writing ../tmp/parrita/preds/471X1130Y_preds.tif\n",
      "Downloading 2020/raw/478/1130/\n",
      "[[34. 33. 33. ... 53. 45. 49.]\n",
      " [33. 33. 43. ... 51. 48. 52.]\n",
      " [32. 21. 34. ... 51. 37. 43.]\n",
      " ...\n",
      " [45. 57. 66. ... 34. 43. 47.]\n",
      " [38. 57. 28. ... 55. 18. 20.]\n",
      " [37. 58. 36. ... 35. 56. 33.]]\n",
      "Writing ../tmp/parrita/preds/478X1130Y_preds.tif\n",
      "Downloading 2020/raw/479/1130/\n",
      "[[42. 50. 36. ... 56. 51. 57.]\n",
      " [37. 58. 45. ... 55. 72. 56.]\n",
      " [42. 59. 45. ... 52. 62. 54.]\n",
      " ...\n",
      " [52. 89. 64. ... 11.  2.  2.]\n",
      " [56. 67. 68. ... 16.  2.  2.]\n",
      " [38. 62. 60. ... 11.  0.  0.]]\n",
      "Writing ../tmp/parrita/preds/479X1130Y_preds.tif\n",
      "Downloading 2020/raw/480/1130/\n",
      "[[66. 51.  8. ... 27. 36. 35.]\n",
      " [22. 16. 57. ... 34. 35. 28.]\n",
      " [17. 43. 99. ... 63. 46. 40.]\n",
      " ...\n",
      " [39. 17. 38. ... 47. 22. 84.]\n",
      " [28. 36. 74. ... 45. 62. 63.]\n",
      " [26. 59. 59. ... 55. 41. 73.]]\n",
      "Writing ../tmp/parrita/preds/480X1130Y_preds.tif\n",
      "35/227 completed.\n",
      "Downloading 2020/raw/481/1130/\n",
      "[[48. 60. 51. ...  8. 20. 19.]\n",
      " [40. 91. 80. ...  8. 37. 23.]\n",
      " [43. 86. 82. ... 10. 29. 18.]\n",
      " ...\n",
      " [78. 77. 81. ... 28. 76. 76.]\n",
      " [65. 57. 66. ... 44. 49. 50.]\n",
      " [57. 84. 15. ... 48. 56. 48.]]\n",
      "Writing ../tmp/parrita/preds/481X1130Y_preds.tif\n",
      "Downloading 2020/raw/482/1130/\n"
     ]
    },
    {
     "name": "stderr",
     "output_type": "stream",
     "text": [
      "../src/cloud_removal.py:190: RuntimeWarning: invalid value encountered in true_divide\n",
      "  mosaic = mosaic / divisor\n"
     ]
    },
    {
     "name": "stdout",
     "output_type": "stream",
     "text": [
      "[[65. 39. 24. ... 59. 42. 55.]\n",
      " [64.  1. 32. ... 48. 51. 35.]\n",
      " [57.  9. 56. ... 66. 55. 53.]\n",
      " ...\n",
      " [ 3. 28. 12. ... 51. 54. 47.]\n",
      " [ 9. 28.  8. ... 47. 61. 61.]\n",
      " [ 9. 19.  7. ... 53. 65. 60.]]\n",
      "Writing ../tmp/parrita/preds/482X1130Y_preds.tif\n",
      "Downloading 2020/raw/483/1130/\n",
      "[[55. 54. 64. ... 37. 69. 69.]\n",
      " [67. 55. 65. ... 75. 57. 71.]\n",
      " [58. 56. 63. ... 49. 76. 67.]\n",
      " ...\n",
      " [33. 28. 31. ... 21. 23. 30.]\n",
      " [23. 14. 27. ... 22. 27. 32.]\n",
      " [16. 28. 21. ... 25. 27. 29.]]\n",
      "Writing ../tmp/parrita/preds/483X1130Y_preds.tif\n",
      "Downloading 2020/raw/484/1130/\n",
      "[[78. 56. 34. ... 34. 29. 20.]\n",
      " [77. 53. 25. ... 80. 17. 34.]\n",
      " [73. 69. 76. ... 72. 76. 44.]\n",
      " ...\n",
      " [ 1. 13.  2. ... 52.  8. 27.]\n",
      " [ 0. 17.  3. ...  8. 27. 40.]\n",
      " [ 0. 26. 13. ...  5. 49. 45.]]\n",
      "Writing ../tmp/parrita/preds/484X1130Y_preds.tif\n",
      "Downloading 2020/raw/485/1130/\n"
     ]
    },
    {
     "name": "stderr",
     "output_type": "stream",
     "text": [
      "../src/cloud_removal.py:190: RuntimeWarning: invalid value encountered in true_divide\n",
      "  mosaic = mosaic / divisor\n"
     ]
    },
    {
     "name": "stdout",
     "output_type": "stream",
     "text": [
      "[[34. 37. 32. ... 46. 46. 46.]\n",
      " [32. 21. 28. ... 46. 46. 46.]\n",
      " [32. 25. 27. ... 47. 42. 42.]\n",
      " ...\n",
      " [55. 55. 61. ... 38. 46. 48.]\n",
      " [65. 60. 74. ... 52. 41. 40.]\n",
      " [64. 70. 76. ... 45. 45. 33.]]\n",
      "Writing ../tmp/parrita/preds/485X1130Y_preds.tif\n",
      "40/227 completed.\n",
      "Downloading 2020/raw/473/1129/\n"
     ]
    },
    {
     "name": "stderr",
     "output_type": "stream",
     "text": [
      "../src/cloud_removal.py:190: RuntimeWarning: invalid value encountered in true_divide\n",
      "  mosaic = mosaic / divisor\n"
     ]
    },
    {
     "name": "stdout",
     "output_type": "stream",
     "text": [
      "[[59. 50. 52. ... 60. 56. 62.]\n",
      " [49. 49. 55. ... 48. 48. 58.]\n",
      " [57. 58. 66. ... 59. 61. 57.]\n",
      " ...\n",
      " [71. 72. 70. ... 60. 63. 64.]\n",
      " [71. 70. 72. ... 56. 57. 63.]\n",
      " [72. 70. 72. ... 61. 55. 58.]]\n",
      "Writing ../tmp/parrita/preds/473X1129Y_preds.tif\n",
      "Downloading 2020/raw/474/1129/\n"
     ]
    },
    {
     "name": "stderr",
     "output_type": "stream",
     "text": [
      "../src/cloud_removal.py:190: RuntimeWarning: invalid value encountered in true_divide\n",
      "  mosaic = mosaic / divisor\n"
     ]
    },
    {
     "name": "stdout",
     "output_type": "stream",
     "text": [
      "[[14. 14. 10. ... 11.  7.  4.]\n",
      " [14. 11.  9. ...  5.  3.  4.]\n",
      " [17. 18. 20. ...  5.  4.  4.]\n",
      " ...\n",
      " [16. 22. 21. ... 53. 69. 69.]\n",
      " [20. 26. 18. ... 53. 12. 61.]\n",
      " [17. 24. 16. ... 60. 57. 63.]]\n",
      "Writing ../tmp/parrita/preds/474X1129Y_preds.tif\n",
      "Downloading 2020/raw/478/1129/\n",
      "[[89. 88. 84. ... 67. 72. 41.]\n",
      " [87. 71. 69. ... 63. 76. 66.]\n",
      " [80. 65. 72. ... 72. 69. 74.]\n",
      " ...\n",
      " [36. 34. 49. ... 29. 63. 48.]\n",
      " [34. 43. 44. ... 44. 72. 51.]\n",
      " [14. 41. 39. ... 37. 27. 43.]]\n",
      "Writing ../tmp/parrita/preds/478X1129Y_preds.tif\n",
      "Downloading 2020/raw/479/1129/\n",
      "[[14. 26. 54. ... 43. 34. 35.]\n",
      " [36. 37. 60. ... 23. 40. 22.]\n",
      " [41. 24. 40. ... 28. 16. 51.]\n",
      " ...\n",
      " [74. 86. 72. ...  5. 17. 15.]\n",
      " [61. 43. 55. ...  7. 36. 58.]\n",
      " [59. 63. 69. ...  7. 35. 57.]]\n",
      "Writing ../tmp/parrita/preds/479X1129Y_preds.tif\n",
      "Downloading 2020/raw/480/1129/\n",
      "[[28. 65. 18. ... 50. 59. 61.]\n",
      " [61. 67. 20. ... 48. 61. 58.]\n",
      " [57. 15. 25. ... 53. 63. 60.]\n",
      " ...\n",
      " [30. 29. 38. ... 45. 41. 36.]\n",
      " [23. 23. 38. ... 44. 37. 40.]\n",
      " [21. 23. 30. ... 41. 37. 36.]]\n",
      "Writing ../tmp/parrita/preds/480X1129Y_preds.tif\n",
      "45/227 completed.\n",
      "Downloading 2020/raw/481/1129/\n",
      "[[43. 39. 40. ... 67. 33. 34.]\n",
      " [46. 32. 75. ... 77. 35. 35.]\n",
      " [31. 60. 50. ... 31. 15. 18.]\n",
      " ...\n",
      " [50. 36. 44. ... 41. 32. 31.]\n",
      " [51. 43. 47. ... 36. 35. 26.]\n",
      " [51. 44. 49. ... 51. 24. 34.]]\n",
      "Writing ../tmp/parrita/preds/481X1129Y_preds.tif\n",
      "Downloading 2020/raw/482/1129/\n",
      "[[ 1.  5. 19. ... 19. 20. 12.]\n",
      " [ 1. 28. 39. ... 11.  8. 19.]\n",
      " [ 0. 22. 40. ... 24.  4. 28.]\n",
      " ...\n",
      " [74. 54. 36. ... 77. 80. 88.]\n",
      " [62. 71. 25. ... 66. 64. 76.]\n",
      " [ 6. 60. 31. ... 73. 93. 67.]]\n",
      "Writing ../tmp/parrita/preds/482X1129Y_preds.tif\n",
      "Downloading 2020/raw/483/1129/\n"
     ]
    },
    {
     "name": "stderr",
     "output_type": "stream",
     "text": [
      "../src/cloud_removal.py:190: RuntimeWarning: invalid value encountered in true_divide\n",
      "  mosaic = mosaic / divisor\n"
     ]
    },
    {
     "name": "stdout",
     "output_type": "stream",
     "text": [
      "[[63. 50. 81. ... 17. 18. 15.]\n",
      " [60. 51. 64. ... 23. 22. 23.]\n",
      " [58. 19. 38. ... 24. 22. 22.]\n",
      " ...\n",
      " [87. 47. 26. ... 17.  9.  9.]\n",
      " [81. 28. 25. ...  3.  1.  2.]\n",
      " [93. 54. 26. ...  3.  2.  2.]]\n",
      "Writing ../tmp/parrita/preds/483X1129Y_preds.tif\n",
      "Downloading 2020/raw/484/1129/\n",
      "[[ 9. 10. 30. ... 70. 26. 66.]\n",
      " [ 3. 38. 36. ... 72. 66. 75.]\n",
      " [ 5. 48. 23. ... 55. 72. 59.]\n",
      " ...\n",
      " [13.  9. 14. ... 56. 49. 65.]\n",
      " [11.  5. 13. ... 61. 67. 59.]\n",
      " [11.  5. 16. ... 60. 68. 54.]]\n",
      "Writing ../tmp/parrita/preds/484X1129Y_preds.tif\n",
      "Downloading 2020/raw/485/1129/\n",
      "[[66. 55. 55. ... 47. 43. 36.]\n",
      " [54. 61. 69. ... 32. 70. 70.]\n",
      " [60. 62. 72. ... 30. 35. 49.]\n",
      " ...\n",
      " [ 3. 56. 43. ... 43. 81. 72.]\n",
      " [36. 72. 72. ... 67. 99. 99.]\n",
      " [37. 69. 64. ... 62. 81. 82.]]\n",
      "Writing ../tmp/parrita/preds/485X1129Y_preds.tif\n",
      "50/227 completed.\n",
      "Downloading 2020/raw/474/1128/\n"
     ]
    },
    {
     "name": "stderr",
     "output_type": "stream",
     "text": [
      "../src/cloud_removal.py:190: RuntimeWarning: invalid value encountered in true_divide\n",
      "  mosaic = mosaic / divisor\n"
     ]
    },
    {
     "name": "stdout",
     "output_type": "stream",
     "text": [
      "[[ 0.  1.  0. ... 59. 59. 61.]\n",
      " [ 0.  0.  1. ... 59. 60. 60.]\n",
      " [ 0.  0.  2. ... 54. 55. 52.]\n",
      " ...\n",
      " [37. 40. 48. ... 46. 53. 53.]\n",
      " [28. 41. 47. ... 55. 55. 52.]\n",
      " [40. 48. 49. ... 49. 52. 57.]]\n",
      "Writing ../tmp/parrita/preds/474X1128Y_preds.tif\n",
      "Downloading 2020/raw/475/1128/\n"
     ]
    },
    {
     "name": "stderr",
     "output_type": "stream",
     "text": [
      "../src/cloud_removal.py:190: RuntimeWarning: invalid value encountered in true_divide\n",
      "  mosaic = mosaic / divisor\n"
     ]
    },
    {
     "name": "stdout",
     "output_type": "stream",
     "text": [
      "[[ 2.  2.  3. ... 27. 23. 32.]\n",
      " [ 1.  1.  1. ... 23. 24. 31.]\n",
      " [ 0.  0.  1. ... 26. 26. 30.]\n",
      " ...\n",
      " [57. 72. 75. ... 58. 32. 29.]\n",
      " [69. 56. 61. ... 55. 32. 25.]\n",
      " [ 3.  2. 24. ... 66. 64. 42.]]\n",
      "Writing ../tmp/parrita/preds/475X1128Y_preds.tif\n",
      "Downloading 2020/raw/478/1128/\n"
     ]
    },
    {
     "name": "stderr",
     "output_type": "stream",
     "text": [
      "../src/cloud_removal.py:190: RuntimeWarning: invalid value encountered in true_divide\n",
      "  mosaic = mosaic / divisor\n"
     ]
    },
    {
     "name": "stdout",
     "output_type": "stream",
     "text": [
      "[[52. 51. 74. ... 29. 32. 45.]\n",
      " [54. 42. 60. ... 28. 72. 84.]\n",
      " [44. 46. 56. ... 10. 26. 57.]\n",
      " ...\n",
      " [ 3. 31.  7. ... 63. 51. 41.]\n",
      " [ 4. 33.  5. ... 28. 27. 26.]\n",
      " [ 5. 19.  6. ... 30. 29. 51.]]\n",
      "Writing ../tmp/parrita/preds/478X1128Y_preds.tif\n",
      "Downloading 2020/raw/479/1128/\n",
      "[[51. 51. 75. ... 18. 29. 52.]\n",
      " [48. 51. 81. ... 18. 33. 57.]\n",
      " [45. 54. 52. ...  4. 44. 33.]\n",
      " ...\n",
      " [48. 37. 34. ... 13. 23. 28.]\n",
      " [34. 37. 38. ... 16. 24. 23.]\n",
      " [34. 37. 39. ... 24. 25. 24.]]\n",
      "Writing ../tmp/parrita/preds/479X1128Y_preds.tif\n",
      "Downloading 2020/raw/480/1128/\n"
     ]
    },
    {
     "name": "stderr",
     "output_type": "stream",
     "text": [
      "../src/cloud_removal.py:190: RuntimeWarning: invalid value encountered in true_divide\n",
      "  mosaic = mosaic / divisor\n"
     ]
    },
    {
     "name": "stdout",
     "output_type": "stream",
     "text": [
      "[[60. 65. 66. ... 45. 40. 38.]\n",
      " [72. 66. 28. ... 34. 33. 34.]\n",
      " [69. 61. 45. ... 24. 43. 41.]\n",
      " ...\n",
      " [35. 35. 31. ... 17. 17. 17.]\n",
      " [30. 41. 16. ... 23. 17. 17.]\n",
      " [36. 40. 12. ... 24. 17. 17.]]\n",
      "Writing ../tmp/parrita/preds/480X1128Y_preds.tif\n",
      "55/227 completed.\n",
      "Downloading 2020/raw/481/1128/\n"
     ]
    },
    {
     "name": "stderr",
     "output_type": "stream",
     "text": [
      "../src/cloud_removal.py:190: RuntimeWarning: invalid value encountered in true_divide\n",
      "  mosaic = mosaic / divisor\n"
     ]
    },
    {
     "name": "stdout",
     "output_type": "stream",
     "text": [
      "[[51. 50. 53. ... 12. 22. 21.]\n",
      " [50. 35. 38. ... 10. 16. 12.]\n",
      " [53. 36. 33. ... 11. 17. 17.]\n",
      " ...\n",
      " [21.  3.  6. ... 55. 36. 24.]\n",
      " [21.  3.  9. ... 60. 56. 56.]\n",
      " [19.  3.  5. ... 54. 59. 60.]]\n",
      "Writing ../tmp/parrita/preds/481X1128Y_preds.tif\n",
      "Downloading 2020/raw/482/1128/\n",
      "[[45. 62. 63. ... 72. 44. 48.]\n",
      " [76. 50.  9. ... 56. 61. 55.]\n",
      " [27. 36. 49. ... 72. 60. 48.]\n",
      " ...\n",
      " [63. 58. 66. ... 47. 63. 67.]\n",
      " [56. 86. 62. ... 44. 56. 64.]\n",
      " [66. 74. 36. ... 54. 71. 61.]]\n",
      "Writing ../tmp/parrita/preds/482X1128Y_preds.tif\n",
      "Downloading 2020/raw/483/1128/\n",
      "[[98. 89. 73. ...  5. 30. 30.]\n",
      " [75. 55. 68. ... 30. 33. 32.]\n",
      " [82. 67. 64. ... 17. 29. 29.]\n",
      " ...\n",
      " [ 1.  4.  6. ...  0.  0.  0.]\n",
      " [ 7. 11. 14. ...  0.  0.  0.]\n",
      " [19. 22. 19. ...  0.  0.  0.]]\n",
      "Writing ../tmp/parrita/preds/483X1128Y_preds.tif\n",
      "Downloading 2020/raw/484/1128/\n",
      "[[ 4. 18.  3. ... 41. 23. 13.]\n",
      " [ 3. 10. 31. ... 69. 39. 43.]\n",
      " [ 4. 26. 34. ... 34. 20. 19.]\n",
      " ...\n",
      " [ 0.  0.  0. ... 47. 15. 67.]\n",
      " [ 0.  0.  0. ... 60. 60. 65.]\n",
      " [ 0.  0.  0. ... 65. 79. 90.]]\n",
      "Writing ../tmp/parrita/preds/484X1128Y_preds.tif\n",
      "Downloading 2020/raw/485/1128/\n",
      "[[52. 52. 48. ... 64. 40. 32.]\n",
      " [43. 40. 50. ... 51. 74. 71.]\n",
      " [25. 22. 28. ... 48. 43. 20.]\n",
      " ...\n",
      " [31. 53. 47. ... 27. 32. 30.]\n",
      " [29. 17. 38. ... 28. 40. 43.]\n",
      " [40. 43. 49. ... 32. 43. 40.]]\n",
      "Writing ../tmp/parrita/preds/485X1128Y_preds.tif\n",
      "60/227 completed.\n",
      "Downloading 2020/raw/486/1128/\n",
      "[[64. 49. 49. ... 61. 30. 64.]\n",
      " [20. 49. 49. ... 42. 24. 43.]\n",
      " [56. 49. 49. ... 68. 48. 46.]\n",
      " ...\n",
      " [62. 70. 60. ... 59. 82. 60.]\n",
      " [63. 64. 62. ... 68. 63. 73.]\n",
      " [62. 66. 54. ... 52. 69. 85.]]\n",
      "Writing ../tmp/parrita/preds/486X1128Y_preds.tif\n",
      "Downloading 2020/raw/475/1127/\n"
     ]
    },
    {
     "name": "stderr",
     "output_type": "stream",
     "text": [
      "../src/cloud_removal.py:190: RuntimeWarning: invalid value encountered in true_divide\n",
      "  mosaic = mosaic / divisor\n"
     ]
    },
    {
     "name": "stdout",
     "output_type": "stream",
     "text": [
      "[[66. 60. 56. ... 21. 17. 11.]\n",
      " [67. 71. 53. ... 23. 19. 18.]\n",
      " [61. 68. 51. ... 21. 20. 21.]\n",
      " ...\n",
      " [20. 25. 15. ... 54. 30. 29.]\n",
      " [19. 20. 18. ... 56. 37. 36.]\n",
      " [28. 16. 25. ... 57. 52. 35.]]\n",
      "Writing ../tmp/parrita/preds/475X1127Y_preds.tif\n",
      "Downloading 2020/raw/476/1127/\n"
     ]
    },
    {
     "name": "stderr",
     "output_type": "stream",
     "text": [
      "../src/cloud_removal.py:190: RuntimeWarning: invalid value encountered in true_divide\n",
      "  mosaic = mosaic / divisor\n"
     ]
    },
    {
     "name": "stdout",
     "output_type": "stream",
     "text": [
      "[[42. 42. 42. ... 24. 22. 27.]\n",
      " [39. 40. 40. ... 20. 20. 28.]\n",
      " [42. 43. 42. ...  9. 31. 38.]\n",
      " ...\n",
      " [30. 31. 28. ... 69. 61. 73.]\n",
      " [30. 27. 19. ... 68. 76. 75.]\n",
      " [26. 10. 15. ... 74. 82. 76.]]\n",
      "Writing ../tmp/parrita/preds/476X1127Y_preds.tif\n",
      "Downloading 2020/raw/478/1127/\n"
     ]
    },
    {
     "name": "stderr",
     "output_type": "stream",
     "text": [
      "../src/cloud_removal.py:190: RuntimeWarning: invalid value encountered in true_divide\n",
      "  mosaic = mosaic / divisor\n"
     ]
    },
    {
     "name": "stdout",
     "output_type": "stream",
     "text": [
      "[[13.  7.  9. ...  6. 11. 14.]\n",
      " [13.  8.  4. ... 11. 10.  2.]\n",
      " [18. 11.  2. ...  8. 12.  1.]\n",
      " ...\n",
      " [29. 18. 30. ... 54. 23. 48.]\n",
      " [23. 18. 27. ... 33. 26. 38.]\n",
      " [26. 24. 27. ... 53. 40. 26.]]\n",
      "Writing ../tmp/parrita/preds/478X1127Y_preds.tif\n",
      "Downloading 2020/raw/479/1127/\n"
     ]
    },
    {
     "name": "stderr",
     "output_type": "stream",
     "text": [
      "../src/cloud_removal.py:190: RuntimeWarning: invalid value encountered in true_divide\n",
      "  mosaic = mosaic / divisor\n"
     ]
    },
    {
     "name": "stdout",
     "output_type": "stream",
     "text": [
      "[[65. 64. 55. ... 27. 51. 44.]\n",
      " [59. 61. 43. ... 18. 39. 27.]\n",
      " [53. 40. 38. ... 18. 51. 38.]\n",
      " ...\n",
      " [26. 34. 31. ... 79. 51. 33.]\n",
      " [27. 31. 37. ... 89. 13. 57.]\n",
      " [27. 33. 36. ... 63. 79. 66.]]\n",
      "Writing ../tmp/parrita/preds/479X1127Y_preds.tif\n",
      "65/227 completed.\n",
      "Downloading 2020/raw/480/1127/\n",
      "[[27. 26. 31. ... 28. 26. 33.]\n",
      " [24. 28. 22. ... 35. 36. 38.]\n",
      " [32. 35. 24. ... 37. 29. 25.]\n",
      " ...\n",
      " [17. 56. 37. ... 52. 50. 46.]\n",
      " [56. 43. 52. ... 58. 55. 51.]\n",
      " [42. 46. 54. ... 59. 55. 59.]]\n",
      "Writing ../tmp/parrita/preds/480X1127Y_preds.tif\n",
      "Downloading 2020/raw/481/1127/\n",
      "[[36. 36. 35. ... 28. 36. 32.]\n",
      " [36. 62. 59. ... 44. 37. 34.]\n",
      " [35. 58. 59. ... 37. 34. 26.]\n",
      " ...\n",
      " [22. 27. 47. ... 18. 10. 47.]\n",
      " [34. 28. 55. ... 72. 65. 39.]\n",
      " [33. 49. 59. ... 53. 36. 50.]]\n",
      "Writing ../tmp/parrita/preds/481X1127Y_preds.tif\n",
      "Downloading 2020/raw/482/1127/\n",
      "[[54. 49. 40. ... 68. 63. 62.]\n",
      " [52. 60. 19. ... 68. 58. 61.]\n",
      " [57. 48.  3. ... 61. 59. 57.]\n",
      " ...\n",
      " [55. 57. 50. ... 34. 52. 49.]\n",
      " [53. 59. 57. ... 22. 44. 52.]\n",
      " [51. 57. 56. ... 47. 41. 53.]]\n",
      "Writing ../tmp/parrita/preds/482X1127Y_preds.tif\n",
      "Downloading 2020/raw/483/1127/\n",
      "[[30. 39. 27. ... 45. 16.  2.]\n",
      " [19. 15. 12. ... 27. 10. 10.]\n",
      " [32. 16. 12. ... 39. 20. 10.]\n",
      " ...\n",
      " [16.  3. 19. ... 57. 74. 28.]\n",
      " [13. 14.  3. ... 53. 51. 84.]\n",
      " [13. 28. 40. ... 76. 51. 55.]]\n",
      "Writing ../tmp/parrita/preds/483X1127Y_preds.tif\n",
      "Downloading 2020/raw/484/1127/\n"
     ]
    },
    {
     "name": "stderr",
     "output_type": "stream",
     "text": [
      "../src/cloud_removal.py:190: RuntimeWarning: invalid value encountered in true_divide\n",
      "  mosaic = mosaic / divisor\n"
     ]
    },
    {
     "name": "stdout",
     "output_type": "stream",
     "text": [
      "[[ 0.  0.  1. ... 69. 82. 34.]\n",
      " [ 0.  9.  3. ... 74. 46. 62.]\n",
      " [ 0.  0.  0. ... 48. 76. 76.]\n",
      " ...\n",
      " [47. 61. 63. ... 82. 90. 85.]\n",
      " [58. 67. 85. ... 82. 82. 87.]\n",
      " [51. 68. 90. ... 88. 80. 86.]]\n",
      "Writing ../tmp/parrita/preds/484X1127Y_preds.tif\n",
      "70/227 completed.\n",
      "Downloading 2020/raw/485/1127/\n",
      "[[66. 59. 46. ... 76. 55. 58.]\n",
      " [55. 71. 71. ... 64. 65. 68.]\n",
      " [48. 72. 73. ... 66. 68. 65.]\n",
      " ...\n",
      " [64. 44. 53. ... 41. 48. 52.]\n",
      " [22. 56. 36. ... 42. 47. 36.]\n",
      " [72. 70. 80. ... 36. 38. 35.]]\n",
      "Writing ../tmp/parrita/preds/485X1127Y_preds.tif\n",
      "Downloading 2020/raw/486/1127/\n",
      "[[65. 68. 40. ... 51. 56. 62.]\n",
      " [62. 76. 24. ... 42. 57. 63.]\n",
      " [76. 61. 35. ... 65. 35. 63.]\n",
      " ...\n",
      " [36. 47. 23. ... 68. 50. 46.]\n",
      " [36. 26. 25. ... 80. 24. 22.]\n",
      " [47. 34. 27. ... 88. 57. 37.]]\n",
      "Writing ../tmp/parrita/preds/486X1127Y_preds.tif\n",
      "Downloading 2020/raw/487/1127/\n",
      "[[40. 39. 32. ... 67. 60. 40.]\n",
      " [18. 27. 52. ... 77. 54. 40.]\n",
      " [68. 37. 71. ... 79. 70. 62.]\n",
      " ...\n",
      " [28.  9. 13. ... 47. 10. 40.]\n",
      " [41. 15. 12. ...  4. 26. 45.]\n",
      " [44. 17. 11. ... 13. 56. 52.]]\n",
      "Writing ../tmp/parrita/preds/487X1127Y_preds.tif\n",
      "Downloading 2020/raw/476/1126/\n"
     ]
    },
    {
     "name": "stderr",
     "output_type": "stream",
     "text": [
      "../src/cloud_removal.py:190: RuntimeWarning: invalid value encountered in true_divide\n",
      "  mosaic = mosaic / divisor\n"
     ]
    },
    {
     "name": "stdout",
     "output_type": "stream",
     "text": [
      "[[45. 52. 63. ... 41. 42. 42.]\n",
      " [53. 53. 73. ... 43. 44. 43.]\n",
      " [62. 44. 29. ... 43. 45. 45.]\n",
      " ...\n",
      " [23. 46. 27. ... 35. 40. 39.]\n",
      " [41. 29. 38. ... 35. 48.  6.]\n",
      " [54. 66. 58. ... 21. 35.  1.]]\n",
      "Writing ../tmp/parrita/preds/476X1126Y_preds.tif\n",
      "Downloading 2020/raw/477/1126/\n"
     ]
    },
    {
     "name": "stderr",
     "output_type": "stream",
     "text": [
      "../src/cloud_removal.py:190: RuntimeWarning: invalid value encountered in true_divide\n",
      "  mosaic = mosaic / divisor\n"
     ]
    },
    {
     "name": "stdout",
     "output_type": "stream",
     "text": [
      "[[30. 30. 39. ... 11. 54. 45.]\n",
      " [27. 51. 58. ...  5. 57. 45.]\n",
      " [28. 52. 55. ...  3. 69. 26.]\n",
      " ...\n",
      " [28. 26. 10. ... 23. 38. 49.]\n",
      " [12. 17. 19. ... 35. 31. 42.]\n",
      " [ 9. 11. 24. ... 47. 37. 45.]]\n",
      "Writing ../tmp/parrita/preds/477X1126Y_preds.tif\n",
      "75/227 completed.\n",
      "Downloading 2020/raw/478/1126/\n"
     ]
    },
    {
     "name": "stderr",
     "output_type": "stream",
     "text": [
      "../src/cloud_removal.py:190: RuntimeWarning: invalid value encountered in true_divide\n",
      "  mosaic = mosaic / divisor\n"
     ]
    },
    {
     "name": "stdout",
     "output_type": "stream",
     "text": [
      "[[38. 38. 39. ... 21. 32. 18.]\n",
      " [37. 42. 33. ... 30. 24. 19.]\n",
      " [47.  3.  3. ... 23. 30. 27.]\n",
      " ...\n",
      " [35.  4. 30. ... 14. 11. 12.]\n",
      " [29. 28. 48. ... 14. 12. 15.]\n",
      " [24. 42. 56. ... 19. 11.  9.]]\n",
      "Writing ../tmp/parrita/preds/478X1126Y_preds.tif\n",
      "Downloading 2020/raw/479/1126/\n"
     ]
    },
    {
     "name": "stderr",
     "output_type": "stream",
     "text": [
      "../src/cloud_removal.py:190: RuntimeWarning: invalid value encountered in true_divide\n",
      "  mosaic = mosaic / divisor\n"
     ]
    },
    {
     "name": "stdout",
     "output_type": "stream",
     "text": [
      "[[15. 21. 23. ... 30. 34. 26.]\n",
      " [19. 22. 44. ... 40. 38. 39.]\n",
      " [33. 25. 55. ... 55. 53. 58.]\n",
      " ...\n",
      " [51. 31. 39. ... 10. 11. 15.]\n",
      " [18. 21. 34. ...  9.  8. 13.]\n",
      " [17. 21. 39. ...  9.  7. 17.]]\n",
      "Writing ../tmp/parrita/preds/479X1126Y_preds.tif\n",
      "Downloading 2020/raw/480/1126/\n"
     ]
    },
    {
     "name": "stderr",
     "output_type": "stream",
     "text": [
      "../src/cloud_removal.py:190: RuntimeWarning: invalid value encountered in true_divide\n",
      "  mosaic = mosaic / divisor\n"
     ]
    },
    {
     "name": "stdout",
     "output_type": "stream",
     "text": [
      "[[29. 33. 14. ... 54. 54. 56.]\n",
      " [27. 32. 23. ... 54. 62. 60.]\n",
      " [46. 41. 20. ... 54. 62. 59.]\n",
      " ...\n",
      " [28. 29. 65. ... 24. 46. 48.]\n",
      " [76. 43. 42. ... 37. 48. 16.]\n",
      " [81. 53. 27. ... 60. 38. 10.]]\n",
      "Writing ../tmp/parrita/preds/480X1126Y_preds.tif\n",
      "Downloading 2020/raw/481/1126/\n"
     ]
    },
    {
     "name": "stderr",
     "output_type": "stream",
     "text": [
      "../src/cloud_removal.py:190: RuntimeWarning: invalid value encountered in true_divide\n",
      "  mosaic = mosaic / divisor\n"
     ]
    },
    {
     "name": "stdout",
     "output_type": "stream",
     "text": [
      "[[59. 47. 74. ... 69. 81. 78.]\n",
      " [64. 88. 74. ... 74. 77. 71.]\n",
      " [71. 68. 98. ... 77. 62. 58.]\n",
      " ...\n",
      " [73. 80. 84. ... 35. 49. 64.]\n",
      " [62. 83. 95. ... 28. 61. 64.]\n",
      " [47. 84. 95. ... 56. 34. 54.]]\n",
      "Writing ../tmp/parrita/preds/481X1126Y_preds.tif\n",
      "Downloading 2020/raw/482/1126/\n",
      "[[59. 69. 78. ... 69. 29. 29.]\n",
      " [76. 36. 59. ... 62. 25. 54.]\n",
      " [78. 50. 56. ...  6. 33. 69.]\n",
      " ...\n",
      " [42. 30. 33. ... 44. 58. 49.]\n",
      " [43. 30. 36. ... 44. 70. 61.]\n",
      " [56. 25. 34. ... 14. 65. 59.]]\n",
      "Writing ../tmp/parrita/preds/482X1126Y_preds.tif\n",
      "80/227 completed.\n",
      "Downloading 2020/raw/483/1126/\n",
      "[[51. 53. 56. ... 47. 42. 64.]\n",
      " [58. 62. 65. ... 11.  2. 61.]\n",
      " [70. 63. 65. ... 52.  5. 71.]\n",
      " ...\n",
      " [55. 33. 57. ... 69. 67. 66.]\n",
      " [60. 33. 38. ... 51. 64. 63.]\n",
      " [61. 45. 26. ... 41. 63. 58.]]\n",
      "Writing ../tmp/parrita/preds/483X1126Y_preds.tif\n",
      "Downloading 2020/raw/484/1126/\n",
      "[[64. 66. 54. ... 34. 22. 64.]\n",
      " [40. 47. 58. ... 36. 47. 49.]\n",
      " [52. 50.  3. ... 50. 37. 37.]\n",
      " ...\n",
      " [32. 36. 27. ... 84. 61. 38.]\n",
      " [33. 31. 32. ... 79. 71. 60.]\n",
      " [31. 33. 32. ... 60. 81. 31.]]\n",
      "Writing ../tmp/parrita/preds/484X1126Y_preds.tif\n",
      "Downloading 2020/raw/485/1126/\n",
      "[[28. 28. 17. ... 48. 89. 71.]\n",
      " [24. 44. 50. ... 17. 16. 43.]\n",
      " [22. 64. 74. ... 17. 16. 35.]\n",
      " ...\n",
      " [62. 51. 56. ...  7. 23. 22.]\n",
      " [34.  5. 59. ...  6. 24. 24.]\n",
      " [17.  8. 42. ...  6. 25. 23.]]\n",
      "Writing ../tmp/parrita/preds/485X1126Y_preds.tif\n",
      "Downloading 2020/raw/486/1126/\n",
      "[[44. 38. 39. ... 87. 74. 71.]\n",
      " [45. 59. 50. ... 39. 93. 90.]\n",
      " [47. 47. 33. ... 42. 57. 70.]\n",
      " ...\n",
      " [ 7.  1.  1. ... 62. 67. 69.]\n",
      " [ 7.  1.  1. ... 58. 74. 80.]\n",
      " [ 7.  1.  1. ... 47. 47. 51.]]\n",
      "Writing ../tmp/parrita/preds/486X1126Y_preds.tif\n",
      "Downloading 2020/raw/487/1126/\n",
      "[[ 57.  93.  96. ...  86.  15.  27.]\n",
      " [ 96.  75.  94. ...  19.  16.  23.]\n",
      " [ 92.  91.  99. ...  33.  99. 100.]\n",
      " ...\n",
      " [ 65.  71.  72. ...  78.  50.  57.]\n",
      " [ 63.  88.  72. ...  85.  53.  62.]\n",
      " [ 58.  84.  74. ...  67.  97.  52.]]\n",
      "Writing ../tmp/parrita/preds/487X1126Y_preds.tif\n",
      "85/227 completed.\n",
      "Downloading 2020/raw/488/1126/\n",
      "[[69. 72. 69. ... 17. 16. 54.]\n",
      " [45. 42. 56. ... 11. 40. 57.]\n",
      " [83. 42. 58. ... 70. 78. 83.]\n",
      " ...\n",
      " [75. 49. 52. ... 77. 71. 73.]\n",
      " [91. 49. 50. ... 75. 74. 79.]\n",
      " [95. 45. 54. ... 90. 88. 80.]]\n",
      "Writing ../tmp/parrita/preds/488X1126Y_preds.tif\n",
      "Downloading 2020/raw/476/1125/\n"
     ]
    },
    {
     "name": "stderr",
     "output_type": "stream",
     "text": [
      "../src/cloud_removal.py:190: RuntimeWarning: invalid value encountered in true_divide\n",
      "  mosaic = mosaic / divisor\n"
     ]
    },
    {
     "name": "stdout",
     "output_type": "stream",
     "text": [
      "[[39. 38. 35. ... 59. 61. 54.]\n",
      " [39. 20. 29. ... 61. 54. 40.]\n",
      " [ 7.  9. 21. ... 68. 65. 63.]\n",
      " ...\n",
      " [10.  8. 10. ... 55. 61. 50.]\n",
      " [ 9. 11. 18. ... 66. 56. 51.]\n",
      " [20. 19. 24. ... 71. 57. 58.]]\n",
      "Writing ../tmp/parrita/preds/476X1125Y_preds.tif\n",
      "Downloading 2020/raw/477/1125/\n"
     ]
    },
    {
     "name": "stderr",
     "output_type": "stream",
     "text": [
      "../src/cloud_removal.py:190: RuntimeWarning: invalid value encountered in true_divide\n",
      "  mosaic = mosaic / divisor\n"
     ]
    },
    {
     "name": "stdout",
     "output_type": "stream",
     "text": [
      "[[19. 74. 81. ... 41. 61. 59.]\n",
      " [72. 69. 71. ... 49. 60. 62.]\n",
      " [25. 59. 59. ... 73. 69. 60.]\n",
      " ...\n",
      " [41. 56. 61. ... 57. 70. 73.]\n",
      " [53. 62. 64. ... 51. 66. 72.]\n",
      " [68. 62. 32. ... 60. 70. 55.]]\n",
      "Writing ../tmp/parrita/preds/477X1125Y_preds.tif\n",
      "Downloading 2020/raw/478/1125/\n"
     ]
    },
    {
     "name": "stderr",
     "output_type": "stream",
     "text": [
      "../src/cloud_removal.py:190: RuntimeWarning: invalid value encountered in true_divide\n",
      "  mosaic = mosaic / divisor\n"
     ]
    },
    {
     "name": "stdout",
     "output_type": "stream",
     "text": [
      "[[65. 76. 78. ... 12.  8. 11.]\n",
      " [71. 80. 74. ... 13. 13. 14.]\n",
      " [61. 61. 67. ... 10. 13. 15.]\n",
      " ...\n",
      " [44. 20. 22. ... 56. 61. 57.]\n",
      " [37. 18. 40. ... 63. 64. 54.]\n",
      " [20. 20. 73. ... 56. 48. 53.]]\n",
      "Writing ../tmp/parrita/preds/478X1125Y_preds.tif\n",
      "Downloading 2020/raw/479/1125/\n"
     ]
    },
    {
     "name": "stderr",
     "output_type": "stream",
     "text": [
      "../src/cloud_removal.py:190: RuntimeWarning: invalid value encountered in true_divide\n",
      "  mosaic = mosaic / divisor\n"
     ]
    },
    {
     "name": "stdout",
     "output_type": "stream",
     "text": [
      "[[19. 13.  5. ... 29. 22. 21.]\n",
      " [13. 10. 11. ... 26. 19. 16.]\n",
      " [13.  9.  5. ... 30. 30. 28.]\n",
      " ...\n",
      " [30. 16. 21. ... 49. 51. 62.]\n",
      " [25. 11. 24. ... 62. 56. 62.]\n",
      " [29. 21. 20. ... 61. 53. 64.]]\n",
      "Writing ../tmp/parrita/preds/479X1125Y_preds.tif\n",
      "90/227 completed.\n",
      "Downloading 2020/raw/480/1125/\n",
      "[[ 4. 21. 21. ... 25.  3. 13.]\n",
      " [10.  0. 17. ...  1.  1. 25.]\n",
      " [37.  2.  2. ...  4.  3. 14.]\n",
      " ...\n",
      " [60. 27. 34. ... 40. 47. 55.]\n",
      " [51. 29. 27. ... 35. 46. 50.]\n",
      " [59. 31. 26. ... 31. 46. 49.]]\n",
      "Writing ../tmp/parrita/preds/480X1125Y_preds.tif\n",
      "Downloading 2020/raw/481/1125/\n",
      "[[24. 17. 41. ... 40. 49. 50.]\n",
      " [40. 26. 44. ... 41. 61. 58.]\n",
      " [34. 32. 33. ... 61. 32. 50.]\n",
      " ...\n",
      " [26. 25. 24. ... 71. 63. 50.]\n",
      " [26. 24. 27. ... 48. 54. 46.]\n",
      " [25. 29. 30. ... 10. 32. 28.]]\n",
      "Writing ../tmp/parrita/preds/481X1125Y_preds.tif\n",
      "Downloading 2020/raw/482/1125/\n",
      "[[37. 34. 36. ... 28. 73. 74.]\n",
      " [39. 41. 37. ... 60. 63. 63.]\n",
      " [31. 41. 30. ... 71. 74. 70.]\n",
      " ...\n",
      " [58. 30. 38. ... 56. 59. 21.]\n",
      " [59. 54. 59. ... 48. 65.  5.]\n",
      " [56. 63. 58. ... 50. 62. 23.]]\n",
      "Writing ../tmp/parrita/preds/482X1125Y_preds.tif\n",
      "Downloading 2020/raw/483/1125/\n",
      "[[93. 70. 96. ... 71. 27. 33.]\n",
      " [85. 49. 27. ... 45. 41. 34.]\n",
      " [89. 61. 28. ... 29. 46. 36.]\n",
      " ...\n",
      " [63. 69. 61. ... 84. 88. 69.]\n",
      " [46. 47. 46. ... 66. 87. 66.]\n",
      " [44. 52. 78. ... 70. 79. 75.]]\n",
      "Writing ../tmp/parrita/preds/483X1125Y_preds.tif\n",
      "Downloading 2020/raw/484/1125/\n",
      "[[53. 62. 79. ... 77. 62. 49.]\n",
      " [41. 39. 67. ... 82. 57. 13.]\n",
      " [46. 36. 46. ... 87. 52. 12.]\n",
      " ...\n",
      " [62. 44. 97. ... 20. 31. 36.]\n",
      " [65. 52. 77. ... 20. 22. 26.]\n",
      " [80. 74. 72. ... 40. 28. 29.]]\n",
      "Writing ../tmp/parrita/preds/484X1125Y_preds.tif\n",
      "95/227 completed.\n",
      "Downloading 2020/raw/485/1125/\n"
     ]
    },
    {
     "name": "stderr",
     "output_type": "stream",
     "text": [
      "../src/cloud_removal.py:190: RuntimeWarning: invalid value encountered in true_divide\n",
      "  mosaic = mosaic / divisor\n"
     ]
    },
    {
     "name": "stdout",
     "output_type": "stream",
     "text": [
      "[[42. 71. 64. ... 33. 12. 12.]\n",
      " [44. 28. 37. ... 25. 12. 11.]\n",
      " [76. 48. 55. ... 23. 41. 41.]\n",
      " ...\n",
      " [ 3. 34. 43. ... 50. 29. 21.]\n",
      " [ 0. 47. 39. ...  9. 34. 16.]\n",
      " [ 0. 39. 30. ... 19. 10. 11.]]\n",
      "Writing ../tmp/parrita/preds/485X1125Y_preds.tif\n",
      "Downloading 2020/raw/486/1125/\n",
      "[[ 4.  6. 15. ... 57. 53. 47.]\n",
      " [ 4.  6. 31. ... 55. 46. 47.]\n",
      " [ 1.  2. 13. ... 56. 51. 59.]\n",
      " ...\n",
      " [46.  9. 39. ... 58. 52. 30.]\n",
      " [42. 13. 39. ... 61. 32. 27.]\n",
      " [43. 57. 60. ... 43. 22. 25.]]\n",
      "Writing ../tmp/parrita/preds/486X1125Y_preds.tif\n",
      "Downloading 2020/raw/487/1125/\n"
     ]
    },
    {
     "name": "stderr",
     "output_type": "stream",
     "text": [
      "../src/cloud_removal.py:190: RuntimeWarning: invalid value encountered in true_divide\n",
      "  mosaic = mosaic / divisor\n"
     ]
    },
    {
     "name": "stdout",
     "output_type": "stream",
     "text": [
      "[[44. 45. 51. ... 19. 28. 33.]\n",
      " [50. 48. 48. ... 31. 10. 32.]\n",
      " [50. 46. 49. ... 47. 41. 20.]\n",
      " ...\n",
      " [64. 63. 24. ... 52. 79. 71.]\n",
      " [48. 33. 71. ... 45. 67. 79.]\n",
      " [30. 48. 90. ... 59. 75. 63.]]\n",
      "Writing ../tmp/parrita/preds/487X1125Y_preds.tif\n",
      "Downloading 2020/raw/488/1125/\n",
      "[[39. 30. 27. ... 59. 70. 75.]\n",
      " [37. 44. 35. ... 85. 71. 74.]\n",
      " [40. 33. 43. ... 81. 78. 88.]\n",
      " ...\n",
      " [61. 66. 62. ... 68. 65. 69.]\n",
      " [62. 87. 76. ... 70. 59. 66.]\n",
      " [56. 76. 71. ... 73. 65. 69.]]\n",
      "Writing ../tmp/parrita/preds/488X1125Y_preds.tif\n",
      "Downloading 2020/raw/489/1125/\n"
     ]
    },
    {
     "name": "stderr",
     "output_type": "stream",
     "text": [
      "../src/cloud_removal.py:190: RuntimeWarning: invalid value encountered in true_divide\n",
      "  mosaic = mosaic / divisor\n"
     ]
    },
    {
     "name": "stdout",
     "output_type": "stream",
     "text": [
      "[[81. 79. 85. ... 50. 70. 64.]\n",
      " [89. 89. 85. ... 70. 84. 85.]\n",
      " [92. 68. 62. ... 76. 86. 89.]\n",
      " ...\n",
      " [33. 72. 72. ... 56. 63. 63.]\n",
      " [59. 54. 69. ... 80. 89. 73.]\n",
      " [31. 62. 68. ... 49. 51. 83.]]\n",
      "Writing ../tmp/parrita/preds/489X1125Y_preds.tif\n",
      "100/227 completed.\n",
      "Downloading 2020/raw/490/1125/\n",
      "[[41. 47. 39. ... 65. 66. 65.]\n",
      " [38. 35. 50. ... 57. 65. 66.]\n",
      " [38. 36. 55. ... 65. 65. 50.]\n",
      " ...\n",
      " [15. 17. 18. ... 27.  2.  1.]\n",
      " [18. 19. 16. ...  8.  8. 19.]\n",
      " [12.  2. 18. ...  8.  9. 12.]]\n",
      "Writing ../tmp/parrita/preds/490X1125Y_preds.tif\n",
      "Downloading 2020/raw/476/1124/\n"
     ]
    },
    {
     "name": "stderr",
     "output_type": "stream",
     "text": [
      "../src/cloud_removal.py:190: RuntimeWarning: invalid value encountered in true_divide\n",
      "  mosaic = mosaic / divisor\n"
     ]
    },
    {
     "name": "stdout",
     "output_type": "stream",
     "text": [
      "[[64. 72. 60. ... 58. 66. 65.]\n",
      " [60. 71. 61. ... 57. 61. 64.]\n",
      " [56. 67. 54. ... 63. 63. 64.]\n",
      " ...\n",
      " [35. 49. 59. ... 47. 41. 47.]\n",
      " [47. 54. 59. ... 47. 44. 50.]\n",
      " [31. 34. 57. ... 47. 48. 47.]]\n",
      "Writing ../tmp/parrita/preds/476X1124Y_preds.tif\n",
      "Downloading 2020/raw/477/1124/\n"
     ]
    },
    {
     "name": "stderr",
     "output_type": "stream",
     "text": [
      "../src/cloud_removal.py:190: RuntimeWarning: invalid value encountered in true_divide\n",
      "  mosaic = mosaic / divisor\n"
     ]
    },
    {
     "name": "stdout",
     "output_type": "stream",
     "text": [
      "[[68. 59. 52. ... 53. 59. 48.]\n",
      " [61. 60. 57. ... 63. 63. 45.]\n",
      " [70. 68. 59. ... 60. 51. 48.]\n",
      " ...\n",
      " [33. 43. 50. ... 52. 46. 52.]\n",
      " [47. 50. 49. ... 47. 47. 49.]\n",
      " [49. 50. 53. ... 61. 57. 48.]]\n",
      "Writing ../tmp/parrita/preds/477X1124Y_preds.tif\n",
      "Downloading 2020/raw/478/1124/\n"
     ]
    },
    {
     "name": "stderr",
     "output_type": "stream",
     "text": [
      "../src/cloud_removal.py:190: RuntimeWarning: invalid value encountered in true_divide\n",
      "  mosaic = mosaic / divisor\n"
     ]
    },
    {
     "name": "stdout",
     "output_type": "stream",
     "text": [
      "[[58. 65. 82. ... 22. 27. 24.]\n",
      " [71. 69. 69. ... 47. 37. 41.]\n",
      " [77. 74. 68. ... 44. 35. 44.]\n",
      " ...\n",
      " [65. 37. 52. ...  1.  1.  3.]\n",
      " [35. 52. 55. ...  2.  4.  1.]\n",
      " [33. 40. 52. ...  1.  2.  3.]]\n",
      "Writing ../tmp/parrita/preds/478X1124Y_preds.tif\n",
      "Downloading 2020/raw/479/1124/\n"
     ]
    },
    {
     "name": "stderr",
     "output_type": "stream",
     "text": [
      "../src/cloud_removal.py:190: RuntimeWarning: invalid value encountered in true_divide\n",
      "  mosaic = mosaic / divisor\n"
     ]
    },
    {
     "name": "stdout",
     "output_type": "stream",
     "text": [
      "[[92. 34. 45. ... 71. 47. 55.]\n",
      " [92. 19. 26. ... 84. 51. 46.]\n",
      " [92. 19. 18. ... 59. 53. 41.]\n",
      " ...\n",
      " [ 0.  0.  0. ... 67. 69. 75.]\n",
      " [ 0.  0.  0. ... 64. 67. 72.]\n",
      " [ 0.  0.  0. ... 59. 68. 69.]]\n",
      "Writing ../tmp/parrita/preds/479X1124Y_preds.tif\n",
      "105/227 completed.\n",
      "Downloading 2020/raw/480/1124/\n"
     ]
    },
    {
     "name": "stderr",
     "output_type": "stream",
     "text": [
      "../src/cloud_removal.py:190: RuntimeWarning: invalid value encountered in true_divide\n",
      "  mosaic = mosaic / divisor\n"
     ]
    },
    {
     "name": "stdout",
     "output_type": "stream",
     "text": [
      "[[23. 18. 20. ...  0.  0.  1.]\n",
      " [74. 26. 27. ...  0.  2.  1.]\n",
      " [72. 15. 23. ...  1.  1.  0.]\n",
      " ...\n",
      " [70. 48. 55. ... 78. 51. 67.]\n",
      " [62. 45. 56. ... 82. 76. 56.]\n",
      " [50. 45. 51. ... 44. 54. 63.]]\n",
      "Writing ../tmp/parrita/preds/480X1124Y_preds.tif\n",
      "Downloading 2020/raw/481/1124/\n"
     ]
    },
    {
     "name": "stderr",
     "output_type": "stream",
     "text": [
      "../src/cloud_removal.py:190: RuntimeWarning: invalid value encountered in true_divide\n",
      "  mosaic = mosaic / divisor\n"
     ]
    },
    {
     "name": "stdout",
     "output_type": "stream",
     "text": [
      "[[ 0.  1.  1. ... 48. 44. 38.]\n",
      " [ 1. 49. 37. ... 50. 55. 50.]\n",
      " [ 1. 31. 33. ... 80. 69. 63.]\n",
      " ...\n",
      " [76. 70. 37. ... 34. 41. 48.]\n",
      " [54. 58. 58. ... 49. 49. 44.]\n",
      " [40. 45. 66. ... 47. 41. 43.]]\n",
      "Writing ../tmp/parrita/preds/481X1124Y_preds.tif\n",
      "Downloading 2020/raw/482/1124/\n",
      "[[31. 46. 27. ... 54. 52. 54.]\n",
      " [70. 74. 35. ... 54. 48. 51.]\n",
      " [57. 61. 74. ... 62. 50. 49.]\n",
      " ...\n",
      " [53. 51. 54. ... 30. 36. 39.]\n",
      " [47. 53. 49. ... 29. 41. 49.]\n",
      " [47. 49. 55. ... 30. 48. 48.]]\n",
      "Writing ../tmp/parrita/preds/482X1124Y_preds.tif\n",
      "Downloading 2020/raw/483/1124/\n",
      "[[ 4.  5. 32. ... 69. 70. 78.]\n",
      " [ 1. 11. 28. ... 76. 79. 75.]\n",
      " [14. 23. 54. ... 75. 81. 81.]\n",
      " ...\n",
      " [22.  7.  6. ... 37. 75. 58.]\n",
      " [46.  8.  5. ... 50. 81. 69.]\n",
      " [43.  8.  9. ... 50. 72. 65.]]\n",
      "Writing ../tmp/parrita/preds/483X1124Y_preds.tif\n",
      "Downloading 2020/raw/484/1124/\n",
      "[[39. 68. 33. ... 44. 13. 65.]\n",
      " [41. 41. 54. ... 38. 37. 12.]\n",
      " [63. 46. 46. ... 62. 52. 41.]\n",
      " ...\n",
      " [43. 39. 53. ...  3.  4.  8.]\n",
      " [63. 38. 58. ... 32. 10.  4.]\n",
      " [49. 35. 51. ... 54. 52.  2.]]\n",
      "Writing ../tmp/parrita/preds/484X1124Y_preds.tif\n",
      "110/227 completed.\n",
      "Downloading 2020/raw/485/1124/\n",
      "[[ 0.  0.  0. ... 50. 59. 50.]\n",
      " [ 0. 31. 49. ... 51. 32. 38.]\n",
      " [ 1. 47. 36. ... 49. 27.  0.]\n",
      " ...\n",
      " [41. 60. 27. ... 64. 59. 51.]\n",
      " [65. 64. 42. ... 63. 54. 49.]\n",
      " [83. 67. 90. ... 56. 42. 52.]]\n",
      "Writing ../tmp/parrita/preds/485X1124Y_preds.tif\n",
      "Downloading 2020/raw/486/1124/\n",
      "[[74. 60. 42. ... 41. 44.  9.]\n",
      " [49. 11.  7. ... 48. 35.  7.]\n",
      " [66.  3.  6. ... 63. 50.  8.]\n",
      " ...\n",
      " [72. 69. 79. ... 65. 65. 61.]\n",
      " [73. 64. 77. ... 78. 76. 55.]\n",
      " [75. 57. 46. ... 78. 76. 54.]]\n",
      "Writing ../tmp/parrita/preds/486X1124Y_preds.tif\n",
      "Downloading 2020/raw/487/1124/\n",
      "[[17. 42. 71. ... 25. 38. 22.]\n",
      " [46. 37. 50. ... 11. 19. 21.]\n",
      " [14. 28. 76. ... 20. 17. 30.]\n",
      " ...\n",
      " [54. 82. 78. ... 49. 55. 41.]\n",
      " [56. 60. 90. ... 64. 62. 52.]\n",
      " [66. 66. 90. ... 49. 52. 52.]]\n",
      "Writing ../tmp/parrita/preds/487X1124Y_preds.tif\n",
      "Downloading 2020/raw/488/1124/\n",
      "[[19. 25. 35. ... 86. 59. 57.]\n",
      " [20. 30. 23. ... 46. 83. 85.]\n",
      " [64. 61. 25. ... 43. 55. 53.]\n",
      " ...\n",
      " [51. 62. 71. ...  6.  2.  3.]\n",
      " [61. 52. 45. ... 11. 21. 13.]\n",
      " [61. 46. 37. ...  9. 27. 24.]]\n",
      "Writing ../tmp/parrita/preds/488X1124Y_preds.tif\n",
      "Downloading 2020/raw/489/1124/\n",
      "[[30. 75. 25. ... 57.  5. 55.]\n",
      " [87. 89. 94. ... 58.  5. 45.]\n",
      " [88. 90. 64. ... 41. 36. 34.]\n",
      " ...\n",
      " [90. 73. 72. ... 47. 41. 46.]\n",
      " [77. 36. 71. ... 39. 49. 42.]\n",
      " [67. 34. 71. ... 54. 57. 50.]]\n",
      "Writing ../tmp/parrita/preds/489X1124Y_preds.tif\n",
      "115/227 completed.\n",
      "Downloading 2020/raw/490/1124/\n",
      "[[10. 16.  9. ... 53. 72. 46.]\n",
      " [13. 38. 10. ... 53. 63. 62.]\n",
      " [29.  7.  1. ... 58. 59. 66.]\n",
      " ...\n",
      " [31. 46. 49. ... 49. 53. 53.]\n",
      " [28. 12. 23. ... 38. 43. 42.]\n",
      " [34. 17. 41. ... 48. 45. 46.]]\n",
      "Writing ../tmp/parrita/preds/490X1124Y_preds.tif\n",
      "Downloading 2020/raw/491/1124/\n",
      "[[70. 90. 59. ... 46. 78. 78.]\n",
      " [81. 85. 44. ... 81. 74. 62.]\n",
      " [51. 40. 42. ... 73. 98. 89.]\n",
      " ...\n",
      " [49. 49. 50. ... 27. 68. 57.]\n",
      " [50. 49. 47. ... 66. 49. 33.]\n",
      " [47. 47. 46. ... 59. 44. 40.]]\n",
      "Writing ../tmp/parrita/preds/491X1124Y_preds.tif\n",
      "Downloading 2020/raw/476/1123/\n",
      "[[53. 45. 31. ... 50. 49. 49.]\n",
      " [67. 27. 56. ... 50. 48. 48.]\n",
      " [66. 53. 51. ... 50. 49. 49.]\n",
      " ...\n",
      " [53. 52. 60. ... 36. 35. 37.]\n",
      " [54. 53. 64. ... 33. 33. 35.]\n",
      " [50. 50. 63. ... 31. 31. 33.]]\n",
      "Writing ../tmp/parrita/preds/476X1123Y_preds.tif\n",
      "Downloading 2020/raw/477/1123/\n"
     ]
    },
    {
     "name": "stderr",
     "output_type": "stream",
     "text": [
      "../src/cloud_removal.py:190: RuntimeWarning: invalid value encountered in true_divide\n",
      "  mosaic = mosaic / divisor\n"
     ]
    },
    {
     "name": "stdout",
     "output_type": "stream",
     "text": [
      "[[44. 42. 40. ... 34. 23. 16.]\n",
      " [43. 43. 42. ... 37. 33. 33.]\n",
      " [39. 39. 43. ... 25. 26. 27.]\n",
      " ...\n",
      " [38. 39. 53. ... 44. 44. 46.]\n",
      " [34. 36. 58. ... 36. 40. 39.]\n",
      " [45. 48. 67. ... 24. 33. 37.]]\n",
      "Writing ../tmp/parrita/preds/477X1123Y_preds.tif\n",
      "Downloading 2020/raw/478/1123/\n"
     ]
    },
    {
     "name": "stderr",
     "output_type": "stream",
     "text": [
      "../src/cloud_removal.py:190: RuntimeWarning: invalid value encountered in true_divide\n",
      "  mosaic = mosaic / divisor\n"
     ]
    },
    {
     "name": "stdout",
     "output_type": "stream",
     "text": [
      "[[61. 63. 64. ... 15. 15. 19.]\n",
      " [59. 61. 63. ... 30. 35. 39.]\n",
      " [52. 65. 62. ... 37. 48. 42.]\n",
      " ...\n",
      " [76. 55. 35. ... 34. 34. 34.]\n",
      " [68. 36. 35. ... 33. 33. 33.]\n",
      " [57. 40. 29. ... 35. 38. 33.]]\n",
      "Writing ../tmp/parrita/preds/478X1123Y_preds.tif\n",
      "120/227 completed.\n",
      "Downloading 2020/raw/479/1123/\n",
      "[[ 6.  7. 12. ... 62. 39. 51.]\n",
      " [ 6.  8. 11. ... 69. 72. 65.]\n",
      " [13. 14.  3. ... 45. 68. 59.]\n",
      " ...\n",
      " [13. 10. 22. ... 50. 62. 56.]\n",
      " [13. 12. 20. ... 59. 60. 60.]\n",
      " [13. 13. 26. ... 60. 60. 68.]]\n",
      "Writing ../tmp/parrita/preds/479X1123Y_preds.tif\n",
      "Downloading 2020/raw/480/1123/\n",
      "[[73. 62. 63. ... 38. 40. 47.]\n",
      " [67. 66. 70. ... 50. 40. 46.]\n",
      " [77. 74. 83. ... 45. 63. 80.]\n",
      " ...\n",
      " [75. 74. 59. ... 55. 66. 72.]\n",
      " [37. 49. 30. ... 42. 64. 14.]\n",
      " [62. 74. 66. ... 66. 63. 20.]]\n",
      "Writing ../tmp/parrita/preds/480X1123Y_preds.tif\n",
      "Downloading 2020/raw/481/1123/\n"
     ]
    },
    {
     "name": "stderr",
     "output_type": "stream",
     "text": [
      "../src/cloud_removal.py:190: RuntimeWarning: invalid value encountered in true_divide\n",
      "  mosaic = mosaic / divisor\n"
     ]
    },
    {
     "name": "stdout",
     "output_type": "stream",
     "text": [
      "[[48. 82. 58. ... 45. 44. 49.]\n",
      " [53. 72. 45. ... 48. 47. 41.]\n",
      " [80. 68. 58. ... 29. 30. 32.]\n",
      " ...\n",
      " [79. 92. 77. ... 37. 62. 69.]\n",
      " [52. 86. 71. ... 49. 49. 49.]\n",
      " [70. 82. 65. ... 53. 63. 76.]]\n",
      "Writing ../tmp/parrita/preds/481X1123Y_preds.tif\n",
      "Downloading 2020/raw/482/1123/\n"
     ]
    },
    {
     "name": "stderr",
     "output_type": "stream",
     "text": [
      "../src/cloud_removal.py:190: RuntimeWarning: invalid value encountered in true_divide\n",
      "  mosaic = mosaic / divisor\n"
     ]
    },
    {
     "name": "stdout",
     "output_type": "stream",
     "text": [
      "[[47. 41. 37. ... 16. 17. 10.]\n",
      " [48. 48. 41. ... 19. 20. 13.]\n",
      " [49. 48. 43. ... 34. 25. 22.]\n",
      " ...\n",
      " [12. 14. 35. ... 35. 50. 40.]\n",
      " [27. 12. 24. ... 54. 55. 47.]\n",
      " [17. 13. 36. ... 62. 47. 46.]]\n",
      "Writing ../tmp/parrita/preds/482X1123Y_preds.tif\n",
      "Downloading 2020/raw/483/1123/\n"
     ]
    },
    {
     "name": "stderr",
     "output_type": "stream",
     "text": [
      "../src/cloud_removal.py:190: RuntimeWarning: invalid value encountered in true_divide\n",
      "  mosaic = mosaic / divisor\n"
     ]
    },
    {
     "name": "stdout",
     "output_type": "stream",
     "text": [
      "[[52. 52. 49. ...  2. 10. 10.]\n",
      " [45. 44. 51. ...  2. 12. 12.]\n",
      " [50. 49. 44. ...  2. 19. 12.]\n",
      " ...\n",
      " [99. 77. 90. ... 61. 72.  4.]\n",
      " [90. 81. 79. ... 70.  8. 13.]\n",
      " [51. 73. 72. ... 70. 10. 13.]]\n",
      "Writing ../tmp/parrita/preds/483X1123Y_preds.tif\n",
      "125/227 completed.\n",
      "Downloading 2020/raw/484/1123/\n",
      "[[64. 66. 63. ... 59. 78. 67.]\n",
      " [44. 40. 43. ... 76. 67. 54.]\n",
      " [47. 38. 42. ... 65. 64. 55.]\n",
      " ...\n",
      " [76. 76. 96. ...  3.  4.  5.]\n",
      " [81. 76. 91. ...  2.  8. 17.]\n",
      " [58. 80. 70. ...  5.  2.  2.]]\n",
      "Writing ../tmp/parrita/preds/484X1123Y_preds.tif\n",
      "Downloading 2020/raw/485/1123/\n",
      "[[77. 78. 60. ... 75. 56. 53.]\n",
      " [63. 89. 66. ... 51. 63. 57.]\n",
      " [47. 26. 20. ... 51. 59. 59.]\n",
      " ...\n",
      " [76. 78. 65. ... 25. 23. 28.]\n",
      " [68. 64. 63. ... 32. 30. 22.]\n",
      " [68. 63. 63. ... 33. 30. 23.]]\n",
      "Writing ../tmp/parrita/preds/485X1123Y_preds.tif\n",
      "Downloading 2020/raw/486/1123/\n",
      "[[13.  5. 56. ... 44. 58. 55.]\n",
      " [51. 50. 50. ... 65. 46. 71.]\n",
      " [38. 53. 49. ... 20.  3. 36.]\n",
      " ...\n",
      " [17. 18. 16. ... 49. 35. 54.]\n",
      " [11. 18. 10. ... 48. 53. 65.]\n",
      " [12. 43.  8. ... 47. 51. 41.]]\n",
      "Writing ../tmp/parrita/preds/486X1123Y_preds.tif\n",
      "Downloading 2020/raw/487/1123/\n",
      "[[66. 27. 27. ... 57. 56. 50.]\n",
      " [42.  5.  7. ... 51. 60. 33.]\n",
      " [65. 15. 27. ... 53. 23. 15.]\n",
      " ...\n",
      " [39. 54. 59. ... 23. 28. 27.]\n",
      " [42. 78. 75. ... 23. 22. 28.]\n",
      " [71. 72. 78. ...  7.  7.  6.]]\n",
      "Writing ../tmp/parrita/preds/487X1123Y_preds.tif\n",
      "Downloading 2020/raw/488/1123/\n",
      "[[81. 58. 56. ... 43. 48. 39.]\n",
      " [62. 67. 43. ... 33. 25. 37.]\n",
      " [25. 53. 53. ... 27. 45. 45.]\n",
      " ...\n",
      " [ 2.  5.  1. ... 19. 15. 34.]\n",
      " [ 0.  0.  0. ... 11. 48. 71.]\n",
      " [ 0.  6.  8. ... 15. 52. 70.]]\n",
      "Writing ../tmp/parrita/preds/488X1123Y_preds.tif\n",
      "130/227 completed.\n",
      "Downloading 2020/raw/489/1123/\n",
      "[[67. 65. 70. ... 91. 74. 70.]\n",
      " [50. 56. 70. ... 86. 56. 71.]\n",
      " [54. 59. 65. ... 39. 20. 55.]\n",
      " ...\n",
      " [39. 45. 40. ... 63. 72. 79.]\n",
      " [21. 35. 50. ... 60. 62. 65.]\n",
      " [25. 45. 35. ... 52. 61. 69.]]\n",
      "Writing ../tmp/parrita/preds/489X1123Y_preds.tif\n",
      "Downloading 2020/raw/475/1122/\n"
     ]
    },
    {
     "name": "stderr",
     "output_type": "stream",
     "text": [
      "../src/cloud_removal.py:560: RuntimeWarning: invalid value encountered in true_divide\n",
      "  return (array[..., 1] - array[..., 3]) / (array[..., 1] + array[..., 3])\n",
      "../src/cloud_removal.py:456: RuntimeWarning: invalid value encountered in true_divide\n",
      "  return (arr[..., 3] - arr[..., 2]) / (arr[..., 3] + arr[..., 2])\n",
      "../src/cloud_removal.py:459: RuntimeWarning: invalid value encountered in true_divide\n",
      "  return (arr[..., 1] - arr[..., 3]) / (arr[..., 1] + arr[..., 3])\n",
      "../src/cloud_removal.py:508: RuntimeWarning: divide by zero encountered in true_divide\n",
      "  r8a = b8down / b8adown\n",
      "../src/cloud_removal.py:509: RuntimeWarning: divide by zero encountered in true_divide\n",
      "  r8a7 = b7down / b8adown\n",
      "../src/cloud_removal.py:520: RuntimeWarning: invalid value encountered in subtract\n",
      "  r8a = mean_of_sq - sq_of_mean\n",
      "../src/cloud_removal.py:530: RuntimeWarning: invalid value encountered in subtract\n",
      "  r8a7 = mean_of_sq - sq_of_mean\n",
      "../src/cloud_removal.py:163: RuntimeWarning: invalid value encountered in true_divide\n",
      "  return (arr[..., 1] - arr[..., 3]) / (arr[..., 1] + arr[..., 3])\n"
     ]
    },
    {
     "name": "stdout",
     "output_type": "stream",
     "text": [
      "[[29. 61. 61. ... 54. 51. 57.]\n",
      " [68. 59. 28. ... 51. 39. 47.]\n",
      " [40. 55. 45. ... 51. 41. 35.]\n",
      " ...\n",
      " [72. 74. 78. ... 54. 56. 53.]\n",
      " [71. 74. 78. ... 50. 54. 52.]\n",
      " [73. 78. 74. ... 52. 48. 57.]]\n",
      "Writing ../tmp/parrita/preds/475X1122Y_preds.tif\n",
      "Downloading 2020/raw/476/1122/\n"
     ]
    },
    {
     "name": "stderr",
     "output_type": "stream",
     "text": [
      "../src/cloud_removal.py:190: RuntimeWarning: invalid value encountered in true_divide\n",
      "  mosaic = mosaic / divisor\n"
     ]
    },
    {
     "name": "stdout",
     "output_type": "stream",
     "text": [
      "[[51. 53. 52. ... 39. 42. 40.]\n",
      " [50. 52. 51. ... 40. 40. 37.]\n",
      " [50. 49. 51. ... 40. 35. 39.]\n",
      " ...\n",
      " [51. 47. 51. ... 50. 42. 39.]\n",
      " [49. 50. 52. ... 55. 42. 36.]\n",
      " [46. 52. 50. ... 54. 39. 40.]]\n",
      "Writing ../tmp/parrita/preds/476X1122Y_preds.tif\n",
      "Downloading 2020/raw/477/1122/\n"
     ]
    },
    {
     "name": "stderr",
     "output_type": "stream",
     "text": [
      "../src/cloud_removal.py:190: RuntimeWarning: invalid value encountered in true_divide\n",
      "  mosaic = mosaic / divisor\n"
     ]
    },
    {
     "name": "stdout",
     "output_type": "stream",
     "text": [
      "[[54. 51. 50. ... 30. 26. 33.]\n",
      " [54. 75. 66. ... 27. 32. 41.]\n",
      " [57. 90. 81. ... 40. 38. 32.]\n",
      " ...\n",
      " [41. 26. 25. ... 59. 62. 54.]\n",
      " [30. 29. 34. ... 55. 55. 50.]\n",
      " [36. 31. 31. ... 62. 62. 53.]]\n",
      "Writing ../tmp/parrita/preds/477X1122Y_preds.tif\n",
      "Downloading 2020/raw/478/1122/\n"
     ]
    },
    {
     "name": "stderr",
     "output_type": "stream",
     "text": [
      "../src/cloud_removal.py:190: RuntimeWarning: invalid value encountered in true_divide\n",
      "  mosaic = mosaic / divisor\n"
     ]
    },
    {
     "name": "stdout",
     "output_type": "stream",
     "text": [
      "[[42. 28. 52. ... 53. 46. 46.]\n",
      " [34. 21. 30. ... 46. 52. 50.]\n",
      " [47.  7. 25. ... 14. 57. 50.]\n",
      " ...\n",
      " [70. 63. 74. ... 65. 58. 33.]\n",
      " [76. 72. 76. ... 62. 60. 34.]\n",
      " [74. 70. 61. ... 63. 73. 30.]]\n",
      "Writing ../tmp/parrita/preds/478X1122Y_preds.tif\n",
      "135/227 completed.\n",
      "Downloading 2020/raw/479/1122/\n",
      "[[15. 18. 20. ... 37. 36. 36.]\n",
      " [17. 24. 27. ... 38. 38. 37.]\n",
      " [17. 19. 17. ... 38. 36. 34.]\n",
      " ...\n",
      " [54. 55. 55. ... 88. 77. 57.]\n",
      " [57. 66. 50. ... 83. 78. 79.]\n",
      " [60. 66. 30. ... 77. 87. 78.]]\n",
      "Writing ../tmp/parrita/preds/479X1122Y_preds.tif\n",
      "Downloading 2020/raw/480/1122/\n",
      "[[60. 57. 77. ... 73. 44. 45.]\n",
      " [58. 77. 84. ... 72. 45. 42.]\n",
      " [56. 86. 88. ... 93. 88. 83.]\n",
      " ...\n",
      " [65. 50. 57. ... 39. 35. 66.]\n",
      " [66. 42. 49. ... 72. 67. 60.]\n",
      " [67. 64. 31. ... 71. 57. 63.]]\n",
      "Writing ../tmp/parrita/preds/480X1122Y_preds.tif\n",
      "Downloading 2020/raw/481/1122/\n",
      "[[69. 42. 56. ... 59. 43. 34.]\n",
      " [58. 50. 55. ... 46. 59. 54.]\n",
      " [64. 61. 59. ... 51. 51. 58.]\n",
      " ...\n",
      " [20. 23. 24. ... 37. 58. 60.]\n",
      " [22. 27. 29. ... 51. 30. 57.]\n",
      " [20. 35. 29. ... 59. 62. 62.]]\n",
      "Writing ../tmp/parrita/preds/481X1122Y_preds.tif\n",
      "Downloading 2020/raw/482/1122/\n",
      "[[40. 37. 62. ... 87. 70. 40.]\n",
      " [16. 35. 46. ... 60. 41. 45.]\n",
      " [37. 10. 10. ... 61. 64. 56.]\n",
      " ...\n",
      " [39. 16. 37. ... 51. 55. 57.]\n",
      " [38. 16. 35. ... 27. 47. 65.]\n",
      " [50. 41. 48. ... 44. 61. 64.]]\n",
      "Writing ../tmp/parrita/preds/482X1122Y_preds.tif\n",
      "Downloading 2020/raw/483/1122/\n"
     ]
    },
    {
     "name": "stderr",
     "output_type": "stream",
     "text": [
      "../src/cloud_removal.py:190: RuntimeWarning: invalid value encountered in true_divide\n",
      "  mosaic = mosaic / divisor\n"
     ]
    },
    {
     "name": "stdout",
     "output_type": "stream",
     "text": [
      "[[21. 18. 21. ... 63. 19. 16.]\n",
      " [21. 33. 36. ... 63. 21. 16.]\n",
      " [20. 30. 34. ... 45. 20. 16.]\n",
      " ...\n",
      " [20. 25. 25. ... 19. 20. 19.]\n",
      " [22. 24. 25. ... 19. 20. 19.]\n",
      " [25. 24. 24. ... 18. 19. 17.]]\n",
      "Writing ../tmp/parrita/preds/483X1122Y_preds.tif\n",
      "140/227 completed.\n",
      "Downloading 2020/raw/484/1122/\n"
     ]
    },
    {
     "name": "stderr",
     "output_type": "stream",
     "text": [
      "../src/cloud_removal.py:190: RuntimeWarning: invalid value encountered in true_divide\n",
      "  mosaic = mosaic / divisor\n"
     ]
    },
    {
     "name": "stdout",
     "output_type": "stream",
     "text": [
      "[[24. 15. 33. ... 24. 22. 23.]\n",
      " [17. 29. 30. ... 14. 15. 11.]\n",
      " [18. 25. 34. ... 12. 10. 14.]\n",
      " ...\n",
      " [38. 40. 31. ... 54. 49. 54.]\n",
      " [35. 35. 37. ... 52. 51. 56.]\n",
      " [32. 33. 37. ... 51. 50. 49.]]\n",
      "Writing ../tmp/parrita/preds/484X1122Y_preds.tif\n",
      "Downloading 2020/raw/485/1122/\n"
     ]
    },
    {
     "name": "stderr",
     "output_type": "stream",
     "text": [
      "../src/cloud_removal.py:190: RuntimeWarning: invalid value encountered in true_divide\n",
      "  mosaic = mosaic / divisor\n"
     ]
    },
    {
     "name": "stdout",
     "output_type": "stream",
     "text": [
      "[[20. 24. 32. ... 43. 30. 39.]\n",
      " [17. 20. 28. ... 32. 29. 27.]\n",
      " [10.  8. 12. ... 25.  7. 18.]\n",
      " ...\n",
      " [77. 82. 78. ... 73. 72. 72.]\n",
      " [73. 77. 76. ... 74. 61. 61.]\n",
      " [73. 77. 76. ... 72. 65. 66.]]\n",
      "Writing ../tmp/parrita/preds/485X1122Y_preds.tif\n",
      "Downloading 2020/raw/486/1122/\n"
     ]
    },
    {
     "name": "stderr",
     "output_type": "stream",
     "text": [
      "../src/cloud_removal.py:190: RuntimeWarning: invalid value encountered in true_divide\n",
      "  mosaic = mosaic / divisor\n"
     ]
    },
    {
     "name": "stdout",
     "output_type": "stream",
     "text": [
      "[[39. 32. 23. ... 65.  2. 65.]\n",
      " [29. 25. 31. ... 11.  3. 41.]\n",
      " [46. 31. 34. ...  7. 44. 38.]\n",
      " ...\n",
      " [87. 80. 80. ... 24. 35. 53.]\n",
      " [87. 82. 80. ... 21. 15. 29.]\n",
      " [87. 80. 78. ... 28. 19. 13.]]\n",
      "Writing ../tmp/parrita/preds/486X1122Y_preds.tif\n",
      "Downloading 2020/raw/487/1122/\n"
     ]
    },
    {
     "name": "stderr",
     "output_type": "stream",
     "text": [
      "../src/cloud_removal.py:190: RuntimeWarning: invalid value encountered in true_divide\n",
      "  mosaic = mosaic / divisor\n"
     ]
    },
    {
     "name": "stdout",
     "output_type": "stream",
     "text": [
      "[[75. 70. 63. ... 31. 30. 25.]\n",
      " [73. 68. 62. ... 28. 27. 25.]\n",
      " [73. 71. 69. ... 47. 43. 27.]\n",
      " ...\n",
      " [27. 26. 22. ... 35. 37. 23.]\n",
      " [38. 27. 20. ... 35. 39. 23.]\n",
      " [39. 38. 24. ... 34. 34. 22.]]\n",
      "Writing ../tmp/parrita/preds/487X1122Y_preds.tif\n",
      "Downloading 2020/raw/488/1122/\n"
     ]
    },
    {
     "name": "stderr",
     "output_type": "stream",
     "text": [
      "../src/cloud_removal.py:190: RuntimeWarning: invalid value encountered in true_divide\n",
      "  mosaic = mosaic / divisor\n"
     ]
    },
    {
     "name": "stdout",
     "output_type": "stream",
     "text": [
      "[[17. 19.  7. ... 11.  3. 36.]\n",
      " [16. 19.  7. ... 11.  5.  8.]\n",
      " [15. 34. 22. ...  7. 10. 14.]\n",
      " ...\n",
      " [40. 52. 43. ... 24. 33. 16.]\n",
      " [20. 59. 24. ... 30. 36.  8.]\n",
      " [45. 51. 25. ... 30. 40.  9.]]\n",
      "Writing ../tmp/parrita/preds/488X1122Y_preds.tif\n",
      "145/227 completed.\n",
      "Downloading 2020/raw/475/1121/\n"
     ]
    },
    {
     "name": "stderr",
     "output_type": "stream",
     "text": [
      "../src/cloud_removal.py:560: RuntimeWarning: invalid value encountered in true_divide\n",
      "  return (array[..., 1] - array[..., 3]) / (array[..., 1] + array[..., 3])\n",
      "../src/cloud_removal.py:456: RuntimeWarning: invalid value encountered in true_divide\n",
      "  return (arr[..., 3] - arr[..., 2]) / (arr[..., 3] + arr[..., 2])\n",
      "../src/cloud_removal.py:459: RuntimeWarning: invalid value encountered in true_divide\n",
      "  return (arr[..., 1] - arr[..., 3]) / (arr[..., 1] + arr[..., 3])\n",
      "../src/cloud_removal.py:508: RuntimeWarning: divide by zero encountered in true_divide\n",
      "  r8a = b8down / b8adown\n",
      "../src/cloud_removal.py:509: RuntimeWarning: divide by zero encountered in true_divide\n",
      "  r8a7 = b7down / b8adown\n",
      "../src/cloud_removal.py:520: RuntimeWarning: invalid value encountered in subtract\n",
      "  r8a = mean_of_sq - sq_of_mean\n",
      "../src/cloud_removal.py:530: RuntimeWarning: invalid value encountered in subtract\n",
      "  r8a7 = mean_of_sq - sq_of_mean\n",
      "../src/cloud_removal.py:163: RuntimeWarning: invalid value encountered in true_divide\n",
      "  return (arr[..., 1] - arr[..., 3]) / (arr[..., 1] + arr[..., 3])\n"
     ]
    },
    {
     "name": "stdout",
     "output_type": "stream",
     "text": [
      "[[75. 75. 75. ... 53. 56. 52.]\n",
      " [75. 75. 75. ... 53. 58. 55.]\n",
      " [75. 75. 75. ... 58. 54. 55.]\n",
      " ...\n",
      " [70. 74. 65. ... 35. 41. 39.]\n",
      " [73. 75. 71. ... 41. 41. 42.]\n",
      " [73. 75. 73. ... 36. 43. 48.]]\n",
      "Writing ../tmp/parrita/preds/475X1121Y_preds.tif\n",
      "Downloading 2020/raw/476/1121/\n"
     ]
    },
    {
     "name": "stderr",
     "output_type": "stream",
     "text": [
      "../src/cloud_removal.py:190: RuntimeWarning: invalid value encountered in true_divide\n",
      "  mosaic = mosaic / divisor\n"
     ]
    },
    {
     "name": "stdout",
     "output_type": "stream",
     "text": [
      "[[75. 70. 49. ... 37. 39. 36.]\n",
      " [68. 43. 47. ... 57. 46. 40.]\n",
      " [34. 34. 35. ... 43. 38. 30.]\n",
      " ...\n",
      " [44. 34. 64. ... 27. 31. 50.]\n",
      " [49. 59. 63. ... 22. 52. 55.]\n",
      " [45. 61. 58. ... 43. 48. 47.]]\n",
      "Writing ../tmp/parrita/preds/476X1121Y_preds.tif\n",
      "Downloading 2020/raw/477/1121/\n"
     ]
    },
    {
     "name": "stderr",
     "output_type": "stream",
     "text": [
      "../src/cloud_removal.py:190: RuntimeWarning: invalid value encountered in true_divide\n",
      "  mosaic = mosaic / divisor\n"
     ]
    },
    {
     "name": "stdout",
     "output_type": "stream",
     "text": [
      "[[21. 21. 11. ... 42. 45. 48.]\n",
      " [23. 12.  5. ... 49. 48. 53.]\n",
      " [12.  5. 20. ... 45. 52. 58.]\n",
      " ...\n",
      " [52. 50. 59. ... 66. 64. 71.]\n",
      " [64. 66. 58. ... 85. 82. 67.]\n",
      " [66. 64. 57. ... 80. 82. 63.]]\n",
      "Writing ../tmp/parrita/preds/477X1121Y_preds.tif\n",
      "Downloading 2020/raw/478/1121/\n"
     ]
    },
    {
     "name": "stderr",
     "output_type": "stream",
     "text": [
      "../src/cloud_removal.py:190: RuntimeWarning: invalid value encountered in true_divide\n",
      "  mosaic = mosaic / divisor\n"
     ]
    },
    {
     "name": "stdout",
     "output_type": "stream",
     "text": [
      "[[46. 43. 53. ... 74. 63. 43.]\n",
      " [46. 42. 49. ... 76. 62. 58.]\n",
      " [47. 39. 45. ... 73. 50. 58.]\n",
      " ...\n",
      " [53. 36. 39. ... 63. 50. 61.]\n",
      " [40. 29. 39. ... 50. 50. 63.]\n",
      " [43. 28. 42. ... 50. 50. 63.]]\n",
      "Writing ../tmp/parrita/preds/478X1121Y_preds.tif\n",
      "Downloading 2020/raw/479/1121/\n"
     ]
    },
    {
     "name": "stderr",
     "output_type": "stream",
     "text": [
      "../src/cloud_removal.py:190: RuntimeWarning: invalid value encountered in true_divide\n",
      "  mosaic = mosaic / divisor\n"
     ]
    },
    {
     "name": "stdout",
     "output_type": "stream",
     "text": [
      "[[63. 68. 74. ... 47. 41. 40.]\n",
      " [59. 62. 64. ... 47. 37. 41.]\n",
      " [63. 56. 62. ... 40. 36. 45.]\n",
      " ...\n",
      " [50. 50. 52. ... 75. 73. 54.]\n",
      " [49. 50. 62. ... 75. 54. 57.]\n",
      " [46. 48. 61. ... 73. 52. 57.]]\n",
      "Writing ../tmp/parrita/preds/479X1121Y_preds.tif\n",
      "150/227 completed.\n",
      "Downloading 2020/raw/480/1121/\n",
      "[[46. 35. 33. ... 28. 25. 24.]\n",
      " [44. 31. 35. ... 28. 24. 21.]\n",
      " [32. 33. 35. ... 27. 25. 24.]\n",
      " ...\n",
      " [68. 68. 68. ... 48. 51. 54.]\n",
      " [68. 66. 68. ... 50. 55. 54.]\n",
      " [68. 68. 66. ... 51. 56. 51.]]\n",
      "Writing ../tmp/parrita/preds/480X1121Y_preds.tif\n",
      "Downloading 2020/raw/481/1121/\n"
     ]
    },
    {
     "name": "stderr",
     "output_type": "stream",
     "text": [
      "../src/cloud_removal.py:190: RuntimeWarning: invalid value encountered in true_divide\n",
      "  mosaic = mosaic / divisor\n"
     ]
    },
    {
     "name": "stdout",
     "output_type": "stream",
     "text": [
      "[[ 8.  7. 45. ... 56. 37. 52.]\n",
      " [12.  8. 59. ... 57. 61. 62.]\n",
      " [10.  7.  8. ... 52. 69. 62.]\n",
      " ...\n",
      " [80. 78. 91. ... 59. 50. 50.]\n",
      " [62. 66. 91. ... 46. 44. 41.]\n",
      " [67. 61. 75. ... 38. 37. 42.]]\n",
      "Writing ../tmp/parrita/preds/481X1121Y_preds.tif\n",
      "Downloading 2020/raw/482/1121/\n",
      "[[ 68.  75.  68. ...  60.  57.  67.]\n",
      " [ 65.  63.  56. ...  64.  63.  66.]\n",
      " [ 66.  68.  59. ...  68.  56.  47.]\n",
      " ...\n",
      " [ 70.  51.  45. ...  59.  85.  67.]\n",
      " [ 44.  58.  60. ...  83. 100.  97.]\n",
      " [ 41.  31.  41. ...  77.  96.  94.]]\n",
      "Writing ../tmp/parrita/preds/482X1121Y_preds.tif\n",
      "Downloading 2020/raw/483/1121/\n"
     ]
    },
    {
     "ename": "KeyboardInterrupt",
     "evalue": "",
     "output_type": "error",
     "traceback": [
      "\u001b[0;31m---------------------------------------------------------------------------\u001b[0m",
      "\u001b[0;31mKeyboardInterrupt\u001b[0m                         Traceback (most recent call last)",
      "\u001b[0;32m/var/folders/1v/8qs7l7157sddx1_9z9wqldrc0000gp/T/ipykernel_22824/127221920.py\u001b[0m in \u001b[0;36m<module>\u001b[0;34m\u001b[0m\n\u001b[1;32m      7\u001b[0m \u001b[0;32mfor\u001b[0m \u001b[0mtile\u001b[0m \u001b[0;32min\u001b[0m \u001b[0mtiles\u001b[0m\u001b[0;34m:\u001b[0m\u001b[0;34m\u001b[0m\u001b[0;34m\u001b[0m\u001b[0m\n\u001b[1;32m      8\u001b[0m     \u001b[0mcounter\u001b[0m \u001b[0;34m+=\u001b[0m \u001b[0;36m1\u001b[0m\u001b[0;34m\u001b[0m\u001b[0;34m\u001b[0m\u001b[0m\n\u001b[0;32m----> 9\u001b[0;31m     \u001b[0mp\u001b[0m\u001b[0;34m.\u001b[0m\u001b[0mexecute\u001b[0m\u001b[0;34m(\u001b[0m\u001b[0mtile\u001b[0m\u001b[0;34m,\u001b[0m \u001b[0;34m'parrita'\u001b[0m\u001b[0;34m,\u001b[0m \u001b[0;34m'rfr_model_v11_nf'\u001b[0m\u001b[0;34m)\u001b[0m\u001b[0;34m\u001b[0m\u001b[0;34m\u001b[0m\u001b[0m\n\u001b[0m\u001b[1;32m     10\u001b[0m     \u001b[0;32mif\u001b[0m \u001b[0mcounter\u001b[0m \u001b[0;34m%\u001b[0m \u001b[0;36m5\u001b[0m \u001b[0;34m==\u001b[0m \u001b[0;36m0\u001b[0m\u001b[0;34m:\u001b[0m\u001b[0;34m\u001b[0m\u001b[0;34m\u001b[0m\u001b[0m\n\u001b[1;32m     11\u001b[0m         \u001b[0mprint\u001b[0m\u001b[0;34m(\u001b[0m\u001b[0;34mf'{counter}/{len(parrita)} completed.'\u001b[0m\u001b[0;34m)\u001b[0m\u001b[0;34m\u001b[0m\u001b[0;34m\u001b[0m\u001b[0m\n",
      "\u001b[0;32m~/plantation_classifier/src/plantation_classifier.py\u001b[0m in \u001b[0;36mexecute\u001b[0;34m(tile_idx, country, model)\u001b[0m\n\u001b[1;32m    666\u001b[0m     \u001b[0;32mif\u001b[0m \u001b[0msuccessful\u001b[0m\u001b[0;34m:\u001b[0m\u001b[0;34m\u001b[0m\u001b[0;34m\u001b[0m\u001b[0m\n\u001b[1;32m    667\u001b[0m         \u001b[0mbbx_df\u001b[0m\u001b[0;34m,\u001b[0m \u001b[0mbbx\u001b[0m \u001b[0;34m=\u001b[0m \u001b[0mmake_bbox\u001b[0m\u001b[0;34m(\u001b[0m\u001b[0mcountry\u001b[0m\u001b[0;34m,\u001b[0m \u001b[0;34m(\u001b[0m\u001b[0mtile_idx\u001b[0m\u001b[0;34m[\u001b[0m\u001b[0;36m0\u001b[0m\u001b[0;34m]\u001b[0m\u001b[0;34m,\u001b[0m \u001b[0mtile_idx\u001b[0m\u001b[0;34m[\u001b[0m\u001b[0;36m1\u001b[0m\u001b[0;34m]\u001b[0m\u001b[0;34m)\u001b[0m\u001b[0;34m)\u001b[0m\u001b[0;34m\u001b[0m\u001b[0;34m\u001b[0m\u001b[0m\n\u001b[0;32m--> 668\u001b[0;31m         \u001b[0ms2_proc\u001b[0m\u001b[0;34m,\u001b[0m \u001b[0mimage_dates\u001b[0m\u001b[0;34m,\u001b[0m \u001b[0minterp\u001b[0m\u001b[0;34m,\u001b[0m \u001b[0ms1_proc\u001b[0m\u001b[0;34m,\u001b[0m \u001b[0mslope_proc\u001b[0m\u001b[0;34m,\u001b[0m \u001b[0mcloudshad\u001b[0m \u001b[0;34m=\u001b[0m \u001b[0mprocess_tile\u001b[0m\u001b[0;34m(\u001b[0m\u001b[0mtile_idx\u001b[0m\u001b[0;34m[\u001b[0m\u001b[0;36m0\u001b[0m\u001b[0;34m]\u001b[0m\u001b[0;34m,\u001b[0m \u001b[0mtile_idx\u001b[0m\u001b[0;34m[\u001b[0m\u001b[0;36m1\u001b[0m\u001b[0;34m]\u001b[0m\u001b[0;34m,\u001b[0m \u001b[0mbbx_df\u001b[0m\u001b[0;34m,\u001b[0m \u001b[0mlocal_dir\u001b[0m\u001b[0;34m,\u001b[0m \u001b[0mbbx\u001b[0m\u001b[0;34m)\u001b[0m\u001b[0;34m\u001b[0m\u001b[0;34m\u001b[0m\u001b[0m\n\u001b[0m\u001b[1;32m    669\u001b[0m         \u001b[0msample\u001b[0m\u001b[0;34m,\u001b[0m \u001b[0msample_dims\u001b[0m \u001b[0;34m=\u001b[0m \u001b[0mmake_sample_nofeats\u001b[0m\u001b[0;34m(\u001b[0m\u001b[0mslope_proc\u001b[0m\u001b[0;34m,\u001b[0m \u001b[0ms1_proc\u001b[0m\u001b[0;34m,\u001b[0m \u001b[0ms2_proc\u001b[0m\u001b[0;34m)\u001b[0m\u001b[0;34m\u001b[0m\u001b[0;34m\u001b[0m\u001b[0m\n\u001b[1;32m    670\u001b[0m         \u001b[0munseen_ss\u001b[0m \u001b[0;34m=\u001b[0m \u001b[0mreshape_and_scale_manual\u001b[0m\u001b[0;34m(\u001b[0m\u001b[0msample\u001b[0m\u001b[0;34m)\u001b[0m\u001b[0;34m\u001b[0m\u001b[0;34m\u001b[0m\u001b[0m\n",
      "\u001b[0;32m~/plantation_classifier/src/plantation_classifier.py\u001b[0m in \u001b[0;36mprocess_tile\u001b[0;34m(x, y, data, local_path, bbx, make_shadow, verbose)\u001b[0m\n\u001b[1;32m    419\u001b[0m \u001b[0;34m\u001b[0m\u001b[0m\n\u001b[1;32m    420\u001b[0m         sentinel2, interp = cloud_removal.remove_cloud_and_shadows(\n\u001b[0;32m--> 421\u001b[0;31m                 \u001b[0msentinel2\u001b[0m\u001b[0;34m,\u001b[0m \u001b[0mcloudshad\u001b[0m\u001b[0;34m,\u001b[0m \u001b[0mcloudshad\u001b[0m\u001b[0;34m,\u001b[0m \u001b[0mimage_dates\u001b[0m\u001b[0;34m,\u001b[0m \u001b[0mpfcps\u001b[0m \u001b[0;34m=\u001b[0m \u001b[0mfcps\u001b[0m\u001b[0;34m,\u001b[0m \u001b[0mwsize\u001b[0m \u001b[0;34m=\u001b[0m \u001b[0;36m8\u001b[0m\u001b[0;34m,\u001b[0m \u001b[0mstep\u001b[0m \u001b[0;34m=\u001b[0m \u001b[0;36m8\u001b[0m\u001b[0;34m,\u001b[0m \u001b[0mthresh\u001b[0m \u001b[0;34m=\u001b[0m \u001b[0;36m4\u001b[0m\u001b[0;34m\u001b[0m\u001b[0;34m\u001b[0m\u001b[0m\n\u001b[0m\u001b[1;32m    422\u001b[0m             )\n\u001b[1;32m    423\u001b[0m         \"\"\"\n",
      "\u001b[0;32m~/plantation_classifier/src/cloud_removal.py\u001b[0m in \u001b[0;36mremove_cloud_and_shadows\u001b[0;34m(tiles, probs, shadows, image_dates, pfcps, wsize, step, thresh)\u001b[0m\n\u001b[1;32m    307\u001b[0m     \u001b[0mareas_interpolated\u001b[0m \u001b[0;34m=\u001b[0m \u001b[0mareas_interpolated\u001b[0m\u001b[0;34m.\u001b[0m\u001b[0mastype\u001b[0m\u001b[0;34m(\u001b[0m\u001b[0mnp\u001b[0m\u001b[0;34m.\u001b[0m\u001b[0mfloat32\u001b[0m\u001b[0;34m)\u001b[0m\u001b[0;34m\u001b[0m\u001b[0;34m\u001b[0m\u001b[0m\n\u001b[1;32m    308\u001b[0m     \u001b[0;31m# print(np.mean(areas_interpolated > 0, axis=(1, 2)))\u001b[0m\u001b[0;34m\u001b[0m\u001b[0;34m\u001b[0m\u001b[0;34m\u001b[0m\u001b[0m\n\u001b[0;32m--> 309\u001b[0;31m     \u001b[0mmosaic\u001b[0m \u001b[0;34m=\u001b[0m \u001b[0mmake_aligned_mosaic\u001b[0m\u001b[0;34m(\u001b[0m\u001b[0mtiles\u001b[0m\u001b[0;34m,\u001b[0m \u001b[0mareas_interpolated\u001b[0m\u001b[0;34m)\u001b[0m\u001b[0;34m\u001b[0m\u001b[0;34m\u001b[0m\u001b[0m\n\u001b[0m\u001b[1;32m    310\u001b[0m \u001b[0;34m\u001b[0m\u001b[0m\n\u001b[1;32m    311\u001b[0m     \u001b[0;32mdef\u001b[0m \u001b[0m_water_ndwi\u001b[0m\u001b[0;34m(\u001b[0m\u001b[0marray\u001b[0m\u001b[0;34m)\u001b[0m\u001b[0;34m:\u001b[0m\u001b[0;34m\u001b[0m\u001b[0;34m\u001b[0m\u001b[0m\n",
      "\u001b[0;32m~/plantation_classifier/src/cloud_removal.py\u001b[0m in \u001b[0;36mmake_aligned_mosaic\u001b[0;34m(arr, interp)\u001b[0m\n\u001b[1;32m    167\u001b[0m     \u001b[0mwater_mask\u001b[0m \u001b[0;34m=\u001b[0m \u001b[0mbinary_dilation\u001b[0m\u001b[0;34m(\u001b[0m\u001b[0;36m1\u001b[0m \u001b[0;34m-\u001b[0m \u001b[0mwater_mask\u001b[0m\u001b[0;34m,\u001b[0m \u001b[0miterations\u001b[0m\u001b[0;34m=\u001b[0m\u001b[0;36m2\u001b[0m\u001b[0;34m)\u001b[0m\u001b[0;34m\u001b[0m\u001b[0;34m\u001b[0m\u001b[0m\n\u001b[1;32m    168\u001b[0m     \u001b[0mwater_mask\u001b[0m \u001b[0;34m=\u001b[0m \u001b[0mbinary_dilation\u001b[0m\u001b[0;34m(\u001b[0m\u001b[0;36m1\u001b[0m \u001b[0;34m-\u001b[0m \u001b[0mwater_mask\u001b[0m\u001b[0;34m,\u001b[0m \u001b[0miterations\u001b[0m\u001b[0;34m=\u001b[0m\u001b[0;36m5\u001b[0m\u001b[0;34m)\u001b[0m\u001b[0;34m\u001b[0m\u001b[0;34m\u001b[0m\u001b[0m\n\u001b[0;32m--> 169\u001b[0;31m     mean_ref = bn.nanmean(arr[np.logical_and(interp == 0, water_mask == 0)],\n\u001b[0m\u001b[1;32m    170\u001b[0m                           axis=0)\n\u001b[1;32m    171\u001b[0m     std_ref = bn.nanstd(arr[np.logical_and(interp == 0, water_mask == 0)],\n",
      "\u001b[0;31mKeyboardInterrupt\u001b[0m: "
     ]
    }
   ],
   "source": [
    "parrita = pd.read_csv('../data/parrita.csv')\n",
    "\n",
    "tiles = parrita[['X_tile', 'Y_tile']].to_records(index=False)\n",
    "\n",
    "counter = 0\n",
    "\n",
    "for tile in tiles:\n",
    "    counter += 1\n",
    "    p.execute(tile, 'parrita', 'rfr_model_v11_nf')\n",
    "    if counter % 5 == 0:\n",
    "        print(f'{counter}/{len(parrita)} completed.')"
   ]
  },
  {
   "cell_type": "code",
   "execution_count": 21,
   "id": "942e6d12",
   "metadata": {},
   "outputs": [
    {
     "name": "stdout",
     "output_type": "stream",
     "text": [
      "Merging 153 tifs.\n"
     ]
    }
   ],
   "source": [
    "m.mosaic_tif('parrita', 'rfr_model_v11_nf', '141122')"
   ]
  },
  {
   "cell_type": "code",
   "execution_count": 22,
   "id": "bb58c35f",
   "metadata": {},
   "outputs": [],
   "source": [
    "tile_idx = (1644, 1052)\n",
    "local_dir = '../tmp'"
   ]
  },
  {
   "cell_type": "code",
   "execution_count": 30,
   "id": "0bb55fe2",
   "metadata": {},
   "outputs": [
    {
     "name": "stdout",
     "output_type": "stream",
     "text": [
      "Exists locally.\n",
      "[0.32731791 0.11781564 0.36990134 0.07210892]\n"
     ]
    },
    {
     "name": "stderr",
     "output_type": "stream",
     "text": [
      "../src/cloud_removal.py:190: RuntimeWarning: invalid value encountered in true_divide\n",
      "  mosaic = mosaic / divisor\n"
     ]
    },
    {
     "name": "stdout",
     "output_type": "stream",
     "text": [
      "Xtrain Original: (146, 14, 14, 13) Xtrain Reshaped: (28616, 13)\n",
      "Unseen Original: (618, 616, 13) Unseen Reshaped: (380688, 13)\n",
      "Scaler mean: [5.29814773e-02 5.13698630e-02 5.82191781e-02 2.97611501e+03\n",
      " 4.56881881e+03 3.63391206e+03 2.01636019e+04 7.01820102e+03\n",
      " 1.65535846e+04 2.01912000e+04 2.20079453e+04 1.43340191e+04\n",
      " 7.88027326e+03]\n",
      "Scaler scale: [6.23942418e-02 6.40671876e-01 6.45413943e-01 8.60362481e+02\n",
      " 1.08983318e+03 1.67203459e+03 3.76296452e+03 1.75489410e+03\n",
      " 2.86380676e+03 3.80329900e+03 4.06579914e+03 3.35698538e+03\n",
      " 3.21797279e+03]\n",
      "Scaler mean: [5.29814773e-02 5.13698630e-02 5.82191781e-02 2.97611501e+03\n",
      " 4.56881881e+03 3.63391206e+03 2.01636019e+04 7.01820102e+03\n",
      " 1.65535846e+04 2.01912000e+04 2.20079453e+04 1.43340191e+04\n",
      " 7.88027326e+03]\n",
      "Scaler scale: [6.23942418e-02 6.40671876e-01 6.45413943e-01 8.60362481e+02\n",
      " 1.08983318e+03 1.67203459e+03 3.76296452e+03 1.75489410e+03\n",
      " 2.86380676e+03 3.80329900e+03 4.06579914e+03 3.35698538e+03\n",
      " 3.21797279e+03]\n",
      "Scaled to -4.609535471153089, 16.699078801004973\n",
      "Scaled to -5.780264460764432, 15.175777554070143\n"
     ]
    }
   ],
   "source": [
    "p.download_raw_tile((tile_idx[0], tile_idx[1]), local_dir)\n",
    "bbx_df, bbx = p.make_bbox('ghana', (tile_idx[0], tile_idx[1]))\n",
    "s2_proc, image_dates, interp, s1_proc, slope_proc, cloudshad = p.process_tile(tile_idx[0], tile_idx[1], bbx_df, local_dir, bbx)\n",
    "sample, sample_dims = p.make_sample_nofeats(slope_proc, s1_proc, s2_proc)\n",
    "unseen_ss = p.reshape_and_scale(['v8'], sample, verbose=True)"
   ]
  },
  {
   "cell_type": "code",
   "execution_count": 24,
   "id": "3fd02063",
   "metadata": {},
   "outputs": [
    {
     "data": {
      "text/plain": [
       "-5.780264460764432"
      ]
     },
     "execution_count": 24,
     "metadata": {},
     "output_type": "execute_result"
    }
   ],
   "source": [
    "unseen_ss.min()"
   ]
  },
  {
   "cell_type": "code",
   "execution_count": 21,
   "id": "2d4ec303",
   "metadata": {},
   "outputs": [
    {
     "data": {
      "image/png": "[encoded data removed]",
      "text/plain": [
       "<Figure size 500x500 with 1 Axes>"
      ]
     },
     "metadata": {},
     "output_type": "display_data"
    }
   ],
   "source": [
    "# show distplot of unscaled data\n",
    "reshaped = np.reshape(sample, (np.prod(sample.shape[:-1]), sample.shape[-1]))\n",
    "sns.displot(reshaped[:,1]);"
   ]
  },
  {
   "cell_type": "code",
   "execution_count": 27,
   "id": "b5e320dc",
   "metadata": {},
   "outputs": [
    {
     "data": {
      "image/png": "[encoded data removed]",
      "text/plain": [
       "<Figure size 500x500 with 1 Axes>"
      ]
     },
     "metadata": {},
     "output_type": "display_data"
    }
   ],
   "source": [
    "# show distplot of scaled data\n",
    "sns.displot(unseen_ss[:,1]);"
   ]
  },
  {
   "cell_type": "code",
   "execution_count": null,
   "id": "6104a63e",
   "metadata": {},
   "outputs": [],
   "source": [
    "preds = predict_classification(unseen_ss, model, sample_dims)\n",
    "write_tif(preds, bbx, tile_idx, country, 'preds')"
   ]
  },
  {
   "cell_type": "markdown",
   "id": "228a98f2",
   "metadata": {},
   "source": [
    "### Ashanti"
   ]
  },
  {
   "cell_type": "code",
   "execution_count": 2,
   "id": "08ffa089",
   "metadata": {
    "scrolled": true
   },
   "outputs": [
    {
     "data": {
      "text/html": [
       "<div>\n",
       "<style scoped>\n",
       "    .dataframe tbody tr th:only-of-type {\n",
       "        vertical-align: middle;\n",
       "    }\n",
       "\n",
       "    .dataframe tbody tr th {\n",
       "        vertical-align: top;\n",
       "    }\n",
       "\n",
       "    .dataframe thead th {\n",
       "        text-align: right;\n",
       "    }\n",
       "</style>\n",
       "<table border=\"1\" class=\"dataframe\">\n",
       "  <thead>\n",
       "    <tr style=\"text-align: right;\">\n",
       "      <th></th>\n",
       "      <th>X</th>\n",
       "      <th>Y</th>\n",
       "      <th>Y_tile</th>\n",
       "      <th>X_tile</th>\n",
       "      <th>country</th>\n",
       "      <th>tile_idx</th>\n",
       "    </tr>\n",
       "  </thead>\n",
       "  <tbody>\n",
       "    <tr>\n",
       "      <th>0</th>\n",
       "      <td>-1.4167</td>\n",
       "      <td>7.5833</td>\n",
       "      <td>1100</td>\n",
       "      <td>1660</td>\n",
       "      <td>Ghana</td>\n",
       "      <td>(1660, 1100)</td>\n",
       "    </tr>\n",
       "    <tr>\n",
       "      <th>1</th>\n",
       "      <td>-1.3611</td>\n",
       "      <td>7.5833</td>\n",
       "      <td>1100</td>\n",
       "      <td>1661</td>\n",
       "      <td>Ghana</td>\n",
       "      <td>(1661, 1100)</td>\n",
       "    </tr>\n",
       "    <tr>\n",
       "      <th>2</th>\n",
       "      <td>-1.4167</td>\n",
       "      <td>7.5278</td>\n",
       "      <td>1099</td>\n",
       "      <td>1660</td>\n",
       "      <td>Ghana</td>\n",
       "      <td>(1660, 1099)</td>\n",
       "    </tr>\n",
       "    <tr>\n",
       "      <th>3</th>\n",
       "      <td>-1.3611</td>\n",
       "      <td>7.5278</td>\n",
       "      <td>1099</td>\n",
       "      <td>1661</td>\n",
       "      <td>Ghana</td>\n",
       "      <td>(1661, 1099)</td>\n",
       "    </tr>\n",
       "    <tr>\n",
       "      <th>4</th>\n",
       "      <td>-1.0278</td>\n",
       "      <td>7.5278</td>\n",
       "      <td>1099</td>\n",
       "      <td>1667</td>\n",
       "      <td>Ghana</td>\n",
       "      <td>(1667, 1099)</td>\n",
       "    </tr>\n",
       "  </tbody>\n",
       "</table>\n",
       "</div>"
      ],
      "text/plain": [
       "        X       Y  Y_tile  X_tile country      tile_idx\n",
       "0 -1.4167  7.5833    1100    1660   Ghana  (1660, 1100)\n",
       "1 -1.3611  7.5833    1100    1661   Ghana  (1661, 1100)\n",
       "2 -1.4167  7.5278    1099    1660   Ghana  (1660, 1099)\n",
       "3 -1.3611  7.5278    1099    1661   Ghana  (1661, 1099)\n",
       "4 -1.0278  7.5278    1099    1667   Ghana  (1667, 1099)"
      ]
     },
     "execution_count": 2,
     "metadata": {},
     "output_type": "execute_result"
    }
   ],
   "source": [
    "ashanti = pd.read_csv('../data/ashanti.csv')\n",
    "ashanti.head()"
   ]
  },
  {
   "cell_type": "code",
   "execution_count": 3,
   "id": "41ce0ee8",
   "metadata": {},
   "outputs": [],
   "source": [
    "# create a list of tiles \n",
    "ashanti_tiles = ashanti[['X_tile', 'Y_tile']].to_records(index=False)"
   ]
  },
  {
   "cell_type": "code",
   "execution_count": 4,
   "id": "2db45373",
   "metadata": {
    "scrolled": true
   },
   "outputs": [
    {
     "name": "stdout",
     "output_type": "stream",
     "text": [
      "Exists locally.\n",
      "ERROR! Session/line number was not unique in database. History logging moved to new session 483\n",
      "Writing ../tmp/ashanti/preds/1660X1100Y_preds.tif\n",
      "Exists locally.\n",
      "Writing ../tmp/ashanti/preds/1661X1100Y_preds.tif\n",
      "Exists locally.\n",
      "Writing ../tmp/ashanti/preds/1660X1099Y_preds.tif\n",
      "Exists locally.\n",
      "Writing ../tmp/ashanti/preds/1661X1099Y_preds.tif\n",
      "Exists locally.\n",
      "Writing ../tmp/ashanti/preds/1667X1099Y_preds.tif\n",
      "5/200 completed.\n",
      "Exists locally.\n",
      "Writing ../tmp/ashanti/preds/1673X1099Y_preds.tif\n",
      "Exists locally.\n",
      "Writing ../tmp/ashanti/preds/1658X1098Y_preds.tif\n",
      "Exists locally.\n",
      "Writing ../tmp/ashanti/preds/1659X1098Y_preds.tif\n",
      "Exists locally.\n",
      "Writing ../tmp/ashanti/preds/1660X1098Y_preds.tif\n",
      "Exists locally.\n",
      "Writing ../tmp/ashanti/preds/1661X1098Y_preds.tif\n",
      "10/200 completed.\n",
      "Exists locally.\n",
      "Writing ../tmp/ashanti/preds/1662X1098Y_preds.tif\n",
      "Exists locally.\n",
      "Writing ../tmp/ashanti/preds/1666X1098Y_preds.tif\n",
      "Exists locally.\n",
      "Writing ../tmp/ashanti/preds/1667X1098Y_preds.tif\n",
      "Exists locally.\n",
      "Writing ../tmp/ashanti/preds/1668X1098Y_preds.tif\n",
      "Exists locally.\n",
      "Writing ../tmp/ashanti/preds/1669X1098Y_preds.tif\n",
      "15/200 completed.\n",
      "Exists locally.\n",
      "Writing ../tmp/ashanti/preds/1670X1098Y_preds.tif\n",
      "Exists locally.\n",
      "Writing ../tmp/ashanti/preds/1671X1098Y_preds.tif\n",
      "Exists locally.\n",
      "Writing ../tmp/ashanti/preds/1672X1098Y_preds.tif\n",
      "Exists locally.\n",
      "Writing ../tmp/ashanti/preds/1673X1098Y_preds.tif\n",
      "Exists locally.\n",
      "Writing ../tmp/ashanti/preds/1674X1098Y_preds.tif\n",
      "20/200 completed.\n",
      "Exists locally.\n",
      "Writing ../tmp/ashanti/preds/1648X1097Y_preds.tif\n",
      "Exists locally.\n",
      "Writing ../tmp/ashanti/preds/1649X1097Y_preds.tif\n",
      "Exists locally.\n",
      "Writing ../tmp/ashanti/preds/1650X1097Y_preds.tif\n",
      "Exists locally.\n",
      "Writing ../tmp/ashanti/preds/1651X1097Y_preds.tif\n",
      "Exists locally.\n",
      "Writing ../tmp/ashanti/preds/1652X1097Y_preds.tif\n",
      "25/200 completed.\n",
      "Exists locally.\n",
      "Writing ../tmp/ashanti/preds/1658X1097Y_preds.tif\n",
      "Exists locally.\n",
      "Writing ../tmp/ashanti/preds/1659X1097Y_preds.tif\n",
      "Exists locally.\n",
      "Writing ../tmp/ashanti/preds/1660X1097Y_preds.tif\n",
      "Exists locally.\n",
      "Writing ../tmp/ashanti/preds/1661X1097Y_preds.tif\n",
      "Exists locally.\n",
      "Writing ../tmp/ashanti/preds/1662X1097Y_preds.tif\n",
      "30/200 completed.\n",
      "Exists locally.\n",
      "Writing ../tmp/ashanti/preds/1663X1097Y_preds.tif\n",
      "Exists locally.\n",
      "Writing ../tmp/ashanti/preds/1664X1097Y_preds.tif\n",
      "Exists locally.\n",
      "Writing ../tmp/ashanti/preds/1665X1097Y_preds.tif\n",
      "Exists locally.\n",
      "Writing ../tmp/ashanti/preds/1666X1097Y_preds.tif\n",
      "Exists locally.\n",
      "Writing ../tmp/ashanti/preds/1667X1097Y_preds.tif\n",
      "35/200 completed.\n",
      "Exists locally.\n",
      "Writing ../tmp/ashanti/preds/1668X1097Y_preds.tif\n",
      "Exists locally.\n",
      "Writing ../tmp/ashanti/preds/1669X1097Y_preds.tif\n",
      "Exists locally.\n",
      "Writing ../tmp/ashanti/preds/1670X1097Y_preds.tif\n",
      "Exists locally.\n",
      "Writing ../tmp/ashanti/preds/1671X1097Y_preds.tif\n",
      "Exists locally.\n",
      "Writing ../tmp/ashanti/preds/1672X1097Y_preds.tif\n",
      "40/200 completed.\n",
      "Exists locally.\n",
      "Writing ../tmp/ashanti/preds/1673X1097Y_preds.tif\n",
      "Exists locally.\n",
      "Writing ../tmp/ashanti/preds/1674X1097Y_preds.tif\n",
      "Downloading 2020/raw/1647/1096/\n",
      "Raw data for (1647, 1096) does not exist.\n",
      "Exists locally.\n",
      "Writing ../tmp/ashanti/preds/1648X1096Y_preds.tif\n",
      "Exists locally.\n",
      "Writing ../tmp/ashanti/preds/1649X1096Y_preds.tif\n",
      "45/200 completed.\n",
      "Exists locally.\n",
      "Writing ../tmp/ashanti/preds/1650X1096Y_preds.tif\n",
      "Exists locally.\n",
      "Writing ../tmp/ashanti/preds/1651X1096Y_preds.tif\n",
      "Exists locally.\n",
      "Writing ../tmp/ashanti/preds/1652X1096Y_preds.tif\n",
      "Exists locally.\n",
      "Writing ../tmp/ashanti/preds/1653X1096Y_preds.tif\n",
      "Exists locally.\n",
      "Writing ../tmp/ashanti/preds/1657X1096Y_preds.tif\n",
      "50/200 completed.\n",
      "Exists locally.\n",
      "Writing ../tmp/ashanti/preds/1658X1096Y_preds.tif\n",
      "Exists locally.\n",
      "Writing ../tmp/ashanti/preds/1659X1096Y_preds.tif\n",
      "Exists locally.\n",
      "Writing ../tmp/ashanti/preds/1660X1096Y_preds.tif\n",
      "Exists locally.\n",
      "Writing ../tmp/ashanti/preds/1661X1096Y_preds.tif\n",
      "Exists locally.\n",
      "Writing ../tmp/ashanti/preds/1662X1096Y_preds.tif\n",
      "55/200 completed.\n",
      "Exists locally.\n",
      "Writing ../tmp/ashanti/preds/1663X1096Y_preds.tif\n",
      "Exists locally.\n",
      "Writing ../tmp/ashanti/preds/1664X1096Y_preds.tif\n",
      "Exists locally.\n",
      "Writing ../tmp/ashanti/preds/1665X1096Y_preds.tif\n",
      "Exists locally.\n",
      "Writing ../tmp/ashanti/preds/1666X1096Y_preds.tif\n",
      "Exists locally.\n",
      "Writing ../tmp/ashanti/preds/1667X1096Y_preds.tif\n",
      "60/200 completed.\n",
      "Exists locally.\n",
      "Writing ../tmp/ashanti/preds/1668X1096Y_preds.tif\n",
      "Exists locally.\n",
      "Writing ../tmp/ashanti/preds/1669X1096Y_preds.tif\n",
      "Exists locally.\n",
      "Writing ../tmp/ashanti/preds/1670X1096Y_preds.tif\n",
      "Exists locally.\n",
      "Writing ../tmp/ashanti/preds/1671X1096Y_preds.tif\n",
      "Exists locally.\n",
      "Writing ../tmp/ashanti/preds/1672X1096Y_preds.tif\n",
      "65/200 completed.\n",
      "Exists locally.\n",
      "Writing ../tmp/ashanti/preds/1673X1096Y_preds.tif\n",
      "Exists locally.\n",
      "Writing ../tmp/ashanti/preds/1674X1096Y_preds.tif\n",
      "Exists locally.\n",
      "Writing ../tmp/ashanti/preds/1675X1096Y_preds.tif\n",
      "Exists locally.\n",
      "Writing ../tmp/ashanti/preds/1676X1096Y_preds.tif\n",
      "Exists locally.\n"
     ]
    },
    {
     "name": "stderr",
     "output_type": "stream",
     "text": [
      "../src/cloud_removal.py:190: RuntimeWarning: invalid value encountered in true_divide\n",
      "  mosaic = mosaic / divisor\n"
     ]
    },
    {
     "name": "stdout",
     "output_type": "stream",
     "text": [
      "Writing ../tmp/ashanti/preds/1650X1095Y_preds.tif\n",
      "70/200 completed.\n",
      "Exists locally.\n",
      "Writing ../tmp/ashanti/preds/1651X1095Y_preds.tif\n",
      "Exists locally.\n",
      "Writing ../tmp/ashanti/preds/1652X1095Y_preds.tif\n",
      "Exists locally.\n",
      "Writing ../tmp/ashanti/preds/1653X1095Y_preds.tif\n",
      "Exists locally.\n",
      "Writing ../tmp/ashanti/preds/1654X1095Y_preds.tif\n",
      "Exists locally.\n",
      "Writing ../tmp/ashanti/preds/1655X1095Y_preds.tif\n",
      "75/200 completed.\n",
      "Exists locally.\n",
      "Writing ../tmp/ashanti/preds/1656X1095Y_preds.tif\n",
      "Exists locally.\n",
      "Writing ../tmp/ashanti/preds/1657X1095Y_preds.tif\n",
      "Exists locally.\n",
      "Writing ../tmp/ashanti/preds/1658X1095Y_preds.tif\n",
      "Exists locally.\n",
      "Writing ../tmp/ashanti/preds/1659X1095Y_preds.tif\n",
      "Exists locally.\n",
      "Writing ../tmp/ashanti/preds/1660X1095Y_preds.tif\n",
      "80/200 completed.\n",
      "Exists locally.\n",
      "Writing ../tmp/ashanti/preds/1661X1095Y_preds.tif\n",
      "Exists locally.\n",
      "Writing ../tmp/ashanti/preds/1662X1095Y_preds.tif\n",
      "Exists locally.\n",
      "Writing ../tmp/ashanti/preds/1663X1095Y_preds.tif\n",
      "Exists locally.\n",
      "Writing ../tmp/ashanti/preds/1664X1095Y_preds.tif\n",
      "Exists locally.\n",
      "Writing ../tmp/ashanti/preds/1665X1095Y_preds.tif\n",
      "85/200 completed.\n",
      "Exists locally.\n",
      "Writing ../tmp/ashanti/preds/1666X1095Y_preds.tif\n",
      "Exists locally.\n",
      "Writing ../tmp/ashanti/preds/1667X1095Y_preds.tif\n",
      "Exists locally.\n",
      "Writing ../tmp/ashanti/preds/1668X1095Y_preds.tif\n",
      "Exists locally.\n",
      "Writing ../tmp/ashanti/preds/1669X1095Y_preds.tif\n",
      "Exists locally.\n",
      "Writing ../tmp/ashanti/preds/1670X1095Y_preds.tif\n",
      "90/200 completed.\n",
      "Exists locally.\n",
      "Writing ../tmp/ashanti/preds/1671X1095Y_preds.tif\n",
      "Exists locally.\n",
      "Writing ../tmp/ashanti/preds/1672X1095Y_preds.tif\n",
      "Exists locally.\n",
      "Writing ../tmp/ashanti/preds/1673X1095Y_preds.tif\n",
      "Exists locally.\n",
      "Writing ../tmp/ashanti/preds/1674X1095Y_preds.tif\n",
      "Exists locally.\n",
      "Writing ../tmp/ashanti/preds/1675X1095Y_preds.tif\n",
      "95/200 completed.\n",
      "Exists locally.\n",
      "Writing ../tmp/ashanti/preds/1676X1095Y_preds.tif\n",
      "Exists locally.\n",
      "Writing ../tmp/ashanti/preds/1677X1095Y_preds.tif\n",
      "Exists locally.\n",
      "Writing ../tmp/ashanti/preds/1678X1095Y_preds.tif\n",
      "Exists locally.\n",
      "Writing ../tmp/ashanti/preds/1679X1095Y_preds.tif\n",
      "Exists locally.\n",
      "Writing ../tmp/ashanti/preds/1651X1094Y_preds.tif\n",
      "100/200 completed.\n",
      "Exists locally.\n",
      "Writing ../tmp/ashanti/preds/1652X1094Y_preds.tif\n",
      "Exists locally.\n",
      "Writing ../tmp/ashanti/preds/1653X1094Y_preds.tif\n",
      "Exists locally.\n",
      "Writing ../tmp/ashanti/preds/1654X1094Y_preds.tif\n",
      "Exists locally.\n",
      "Writing ../tmp/ashanti/preds/1655X1094Y_preds.tif\n",
      "Exists locally.\n",
      "Writing ../tmp/ashanti/preds/1656X1094Y_preds.tif\n",
      "105/200 completed.\n",
      "Exists locally.\n",
      "Writing ../tmp/ashanti/preds/1657X1094Y_preds.tif\n",
      "Exists locally.\n",
      "Writing ../tmp/ashanti/preds/1658X1094Y_preds.tif\n",
      "Exists locally.\n",
      "Writing ../tmp/ashanti/preds/1659X1094Y_preds.tif\n",
      "Exists locally.\n",
      "Writing ../tmp/ashanti/preds/1660X1094Y_preds.tif\n",
      "Exists locally.\n",
      "Writing ../tmp/ashanti/preds/1661X1094Y_preds.tif\n",
      "110/200 completed.\n",
      "Exists locally.\n",
      "Writing ../tmp/ashanti/preds/1662X1094Y_preds.tif\n",
      "Exists locally.\n",
      "Writing ../tmp/ashanti/preds/1663X1094Y_preds.tif\n",
      "Exists locally.\n",
      "Writing ../tmp/ashanti/preds/1664X1094Y_preds.tif\n",
      "Exists locally.\n",
      "Writing ../tmp/ashanti/preds/1665X1094Y_preds.tif\n",
      "Exists locally.\n",
      "Writing ../tmp/ashanti/preds/1666X1094Y_preds.tif\n",
      "115/200 completed.\n",
      "Exists locally.\n",
      "Writing ../tmp/ashanti/preds/1667X1094Y_preds.tif\n",
      "Exists locally.\n",
      "Writing ../tmp/ashanti/preds/1668X1094Y_preds.tif\n",
      "Exists locally.\n",
      "Writing ../tmp/ashanti/preds/1669X1094Y_preds.tif\n",
      "Exists locally.\n",
      "Writing ../tmp/ashanti/preds/1670X1094Y_preds.tif\n",
      "Exists locally.\n",
      "Writing ../tmp/ashanti/preds/1671X1094Y_preds.tif\n",
      "120/200 completed.\n",
      "Exists locally.\n",
      "Writing ../tmp/ashanti/preds/1672X1094Y_preds.tif\n",
      "Exists locally.\n",
      "Writing ../tmp/ashanti/preds/1673X1094Y_preds.tif\n",
      "Exists locally.\n",
      "Writing ../tmp/ashanti/preds/1674X1094Y_preds.tif\n",
      "Exists locally.\n",
      "Writing ../tmp/ashanti/preds/1675X1094Y_preds.tif\n",
      "Exists locally.\n",
      "Writing ../tmp/ashanti/preds/1676X1094Y_preds.tif\n",
      "125/200 completed.\n",
      "Exists locally.\n",
      "Writing ../tmp/ashanti/preds/1677X1094Y_preds.tif\n",
      "Exists locally.\n",
      "Writing ../tmp/ashanti/preds/1678X1094Y_preds.tif\n",
      "Exists locally.\n",
      "Writing ../tmp/ashanti/preds/1679X1094Y_preds.tif\n",
      "Exists locally.\n",
      "Writing ../tmp/ashanti/preds/1680X1094Y_preds.tif\n",
      "Exists locally.\n",
      "Writing ../tmp/ashanti/preds/1652X1093Y_preds.tif\n",
      "130/200 completed.\n",
      "Exists locally.\n",
      "Writing ../tmp/ashanti/preds/1653X1093Y_preds.tif\n",
      "Exists locally.\n",
      "Writing ../tmp/ashanti/preds/1654X1093Y_preds.tif\n",
      "Exists locally.\n",
      "Writing ../tmp/ashanti/preds/1655X1093Y_preds.tif\n",
      "Exists locally.\n",
      "Writing ../tmp/ashanti/preds/1656X1093Y_preds.tif\n",
      "Exists locally.\n",
      "Writing ../tmp/ashanti/preds/1657X1093Y_preds.tif\n",
      "135/200 completed.\n",
      "Exists locally.\n",
      "Writing ../tmp/ashanti/preds/1658X1093Y_preds.tif\n",
      "Exists locally.\n",
      "Writing ../tmp/ashanti/preds/1659X1093Y_preds.tif\n",
      "Exists locally.\n",
      "Writing ../tmp/ashanti/preds/1660X1093Y_preds.tif\n",
      "Exists locally.\n",
      "Writing ../tmp/ashanti/preds/1661X1093Y_preds.tif\n",
      "Exists locally.\n",
      "Writing ../tmp/ashanti/preds/1662X1093Y_preds.tif\n",
      "140/200 completed.\n",
      "Exists locally.\n",
      "Writing ../tmp/ashanti/preds/1663X1093Y_preds.tif\n",
      "Exists locally.\n",
      "Writing ../tmp/ashanti/preds/1664X1093Y_preds.tif\n",
      "Exists locally.\n",
      "Writing ../tmp/ashanti/preds/1665X1093Y_preds.tif\n",
      "Exists locally.\n",
      "Writing ../tmp/ashanti/preds/1666X1093Y_preds.tif\n",
      "Exists locally.\n",
      "Writing ../tmp/ashanti/preds/1667X1093Y_preds.tif\n",
      "145/200 completed.\n",
      "Exists locally.\n",
      "Writing ../tmp/ashanti/preds/1668X1093Y_preds.tif\n",
      "Exists locally.\n",
      "Writing ../tmp/ashanti/preds/1669X1093Y_preds.tif\n",
      "Exists locally.\n",
      "Writing ../tmp/ashanti/preds/1670X1093Y_preds.tif\n",
      "Exists locally.\n",
      "Writing ../tmp/ashanti/preds/1671X1093Y_preds.tif\n",
      "Exists locally.\n",
      "Writing ../tmp/ashanti/preds/1672X1093Y_preds.tif\n",
      "150/200 completed.\n",
      "Exists locally.\n",
      "Writing ../tmp/ashanti/preds/1673X1093Y_preds.tif\n",
      "Exists locally.\n",
      "Writing ../tmp/ashanti/preds/1674X1093Y_preds.tif\n",
      "Exists locally.\n",
      "Writing ../tmp/ashanti/preds/1675X1093Y_preds.tif\n",
      "Exists locally.\n",
      "Writing ../tmp/ashanti/preds/1676X1093Y_preds.tif\n",
      "Exists locally.\n",
      "Writing ../tmp/ashanti/preds/1677X1093Y_preds.tif\n",
      "155/200 completed.\n",
      "Exists locally.\n",
      "Writing ../tmp/ashanti/preds/1678X1093Y_preds.tif\n",
      "Exists locally.\n",
      "Writing ../tmp/ashanti/preds/1679X1093Y_preds.tif\n",
      "Exists locally.\n",
      "Writing ../tmp/ashanti/preds/1680X1093Y_preds.tif\n",
      "Exists locally.\n",
      "Writing ../tmp/ashanti/preds/1681X1093Y_preds.tif\n",
      "Exists locally.\n",
      "Writing ../tmp/ashanti/preds/1652X1092Y_preds.tif\n",
      "160/200 completed.\n",
      "Exists locally.\n",
      "Writing ../tmp/ashanti/preds/1653X1092Y_preds.tif\n",
      "Exists locally.\n",
      "Writing ../tmp/ashanti/preds/1654X1092Y_preds.tif\n",
      "Exists locally.\n",
      "Writing ../tmp/ashanti/preds/1655X1092Y_preds.tif\n",
      "Exists locally.\n",
      "Writing ../tmp/ashanti/preds/1656X1092Y_preds.tif\n",
      "Exists locally.\n",
      "Writing ../tmp/ashanti/preds/1657X1092Y_preds.tif\n",
      "165/200 completed.\n",
      "Exists locally.\n",
      "Writing ../tmp/ashanti/preds/1658X1092Y_preds.tif\n",
      "Exists locally.\n",
      "Writing ../tmp/ashanti/preds/1659X1092Y_preds.tif\n",
      "Exists locally.\n",
      "Writing ../tmp/ashanti/preds/1660X1092Y_preds.tif\n",
      "Exists locally.\n",
      "Writing ../tmp/ashanti/preds/1661X1092Y_preds.tif\n",
      "Exists locally.\n",
      "Writing ../tmp/ashanti/preds/1662X1092Y_preds.tif\n",
      "170/200 completed.\n",
      "Exists locally.\n",
      "Writing ../tmp/ashanti/preds/1663X1092Y_preds.tif\n",
      "Exists locally.\n",
      "Writing ../tmp/ashanti/preds/1664X1092Y_preds.tif\n",
      "Exists locally.\n",
      "Writing ../tmp/ashanti/preds/1665X1092Y_preds.tif\n",
      "Exists locally.\n",
      "Writing ../tmp/ashanti/preds/1666X1092Y_preds.tif\n",
      "Exists locally.\n",
      "Writing ../tmp/ashanti/preds/1667X1092Y_preds.tif\n",
      "175/200 completed.\n",
      "Exists locally.\n",
      "Writing ../tmp/ashanti/preds/1668X1092Y_preds.tif\n",
      "Exists locally.\n",
      "Writing ../tmp/ashanti/preds/1669X1092Y_preds.tif\n",
      "Exists locally.\n",
      "Writing ../tmp/ashanti/preds/1670X1092Y_preds.tif\n",
      "Exists locally.\n",
      "Writing ../tmp/ashanti/preds/1671X1092Y_preds.tif\n",
      "Exists locally.\n",
      "Writing ../tmp/ashanti/preds/1672X1092Y_preds.tif\n",
      "180/200 completed.\n",
      "Exists locally.\n",
      "Writing ../tmp/ashanti/preds/1673X1092Y_preds.tif\n",
      "Exists locally.\n",
      "Writing ../tmp/ashanti/preds/1674X1092Y_preds.tif\n",
      "Exists locally.\n",
      "Writing ../tmp/ashanti/preds/1675X1092Y_preds.tif\n",
      "Exists locally.\n",
      "Writing ../tmp/ashanti/preds/1676X1092Y_preds.tif\n",
      "Exists locally.\n",
      "Writing ../tmp/ashanti/preds/1677X1092Y_preds.tif\n",
      "185/200 completed.\n",
      "Exists locally.\n",
      "Writing ../tmp/ashanti/preds/1678X1092Y_preds.tif\n",
      "Exists locally.\n",
      "Writing ../tmp/ashanti/preds/1679X1092Y_preds.tif\n",
      "Exists locally.\n"
     ]
    },
    {
     "name": "stdout",
     "output_type": "stream",
     "text": [
      "Writing ../tmp/ashanti/preds/1650X1091Y_preds.tif\n",
      "Exists locally.\n",
      "Writing ../tmp/ashanti/preds/1651X1091Y_preds.tif\n",
      "Exists locally.\n",
      "Writing ../tmp/ashanti/preds/1652X1091Y_preds.tif\n",
      "190/200 completed.\n",
      "Exists locally.\n",
      "Writing ../tmp/ashanti/preds/1653X1091Y_preds.tif\n",
      "Exists locally.\n",
      "Writing ../tmp/ashanti/preds/1654X1091Y_preds.tif\n",
      "Exists locally.\n",
      "Writing ../tmp/ashanti/preds/1655X1091Y_preds.tif\n",
      "Exists locally.\n",
      "Writing ../tmp/ashanti/preds/1656X1091Y_preds.tif\n",
      "Exists locally.\n",
      "Writing ../tmp/ashanti/preds/1657X1091Y_preds.tif\n",
      "195/200 completed.\n",
      "Exists locally.\n",
      "Writing ../tmp/ashanti/preds/1658X1091Y_preds.tif\n",
      "Exists locally.\n",
      "Writing ../tmp/ashanti/preds/1659X1091Y_preds.tif\n",
      "Exists locally.\n",
      "Writing ../tmp/ashanti/preds/1660X1091Y_preds.tif\n",
      "Exists locally.\n",
      "Writing ../tmp/ashanti/preds/1661X1091Y_preds.tif\n",
      "Exists locally.\n",
      "Writing ../tmp/ashanti/preds/1662X1091Y_preds.tif\n",
      "200/200 completed.\n"
     ]
    }
   ],
   "source": [
    "# run predictions on all the tiles using manually scaled model w/ no feats\n",
    "counter = 0\n",
    "\n",
    "for tile in ashanti_tiles[:200]:\n",
    "    counter += 1\n",
    "    p.execute(tile, 'ashanti', 'cat_model_v11_nf')\n",
    "    if counter % 5 == 0:\n",
    "        print(f'{counter}/200 completed.')"
   ]
  },
  {
   "cell_type": "code",
   "execution_count": 6,
   "id": "479a2770",
   "metadata": {
    "scrolled": false
   },
   "outputs": [
    {
     "name": "stdout",
     "output_type": "stream",
     "text": [
      "Merging 199 tifs.\n"
     ]
    }
   ],
   "source": [
    "m.mosaic_tif('ashanti', 'cat_model_v11_nf', '071122')"
   ]
  },
  {
   "cell_type": "code",
   "execution_count": 4,
   "id": "64d94045",
   "metadata": {},
   "outputs": [
    {
     "name": "stdout",
     "output_type": "stream",
     "text": [
      "Exists locally.\n",
      "(618, 612, 13)\n",
      "The data has been scaled to -1.0000000000000002, 1.0000000000000002\n",
      "[0.0, 0.4326530396938324, 0.09245425462722778, 0.043595027178525925, 0.06770428270101547, 0.0626993179321289, 0.17644973397254943, 0.1125899039208889, 0.16024562120437622, 0.17871151641011238, 0.20054016411304473, 0.22741328850388526, 0.1472014382481575]\n",
      "[0.07088188827037811, 0.659546971321106, 0.3704010844230652, 0.09758410342037677, 0.1335641473531723, 0.18339818716049194, 0.3029360488057136, 0.21954596638679502, 0.2647858098149298, 0.29309731721878046, 0.32958030849695186, 0.4120339840650557, 0.35629234164953205]\n",
      "Predictions: [0. 1.]\n",
      "Writing ../tmp/ashanti/preds/1660X1100Y_preds.tif\n",
      "Exists locally.\n",
      "(618, 612, 13)\n",
      "The data has been scaled to -1.0000000000000002, 1.0000000000000002\n",
      "[0.0, 0.4558485448360443, 0.12936119735240936, 0.046799421310424805, 0.07211495153605937, 0.06199740618467331, 0.19470511376857758, 0.11695126220583915, 0.17206196784973143, 0.19325789511203767, 0.2219051368534565, 0.217681872099638, 0.12938318103551866]\n",
      "[0.07088188827037811, 0.670550525188446, 0.38725101947784424, 0.09750515222549438, 0.13240253925323486, 0.17030593752861023, 0.3093301013112063, 0.20716449022293082, 0.2725187972187992, 0.3018778204917906, 0.33721468448638914, 0.3701791360974309, 0.3143609985709189]\n",
      "Predictions: [0. 1.]\n",
      "Writing ../tmp/ashanti/preds/1661X1100Y_preds.tif\n",
      "Exists locally.\n",
      "(618, 612, 13)\n",
      "The data has been scaled to -1.0, 1.0000000000000002\n",
      "[0.0, 0.4276246130466461, 0.07753047347068787, 0.044325638189911844, 0.06669718772172928, 0.05420004576444626, 0.19749751687049866, 0.10861100405454635, 0.17206006050109862, 0.19416717812418938, 0.22239810228347778, 0.2258033685386181, 0.13534553796052934]\n",
      "[0.07088188827037811, 0.678728461265564, 0.38750338554382324, 0.09777874350547788, 0.13229571282863617, 0.18139925599098206, 0.3186999261379242, 0.21921192482113835, 0.2702325999736786, 0.30484101772308336, 0.33695026040077203, 0.41935894936323154, 0.3801730826497076]\n",
      "Predictions: [0. 1.]\n",
      "Writing ../tmp/ashanti/preds/1660X1099Y_preds.tif\n",
      "Exists locally.\n",
      "(618, 612, 13)\n",
      "The data has been scaled to -1.0000000000000004, 1.0000000000000002\n",
      "[0.0, 0.46060848236083984, 0.13542044162750244, 0.04480049014091492, 0.06970321387052536, 0.06259939223527908, 0.19902263879776, 0.1099776342511177, 0.17263037264347075, 0.19411880522966385, 0.22377468422055244, 0.2240566737949848, 0.13770310580730438]\n",
      "[0.07088188827037811, 0.672216534614563, 0.38811713457107544, 0.0955062210559845, 0.12958072572946547, 0.1770962029695511, 0.31140610575675964, 0.21252690553665157, 0.2685536310076713, 0.29871032834053035, 0.33184814304113386, 0.41054237037897107, 0.3639983862638473]\n",
      "Predictions: [0. 1.]\n",
      "Writing ../tmp/ashanti/preds/1661X1099Y_preds.tif\n",
      "Exists locally.\n",
      "(618, 612, 13)\n",
      "The data has been scaled to -1.0000000000000004, 1.0000000000000004\n",
      "[0.0, 0.48965394496917725, 0.2039639800786972, 0.03474479168653488, 0.05880064144730568, 0.039518934488296506, 0.16853004023432733, 0.09902938306331635, 0.14451573193073272, 0.16350291073322296, 0.18909779638051988, 0.19484488368034364, 0.10695060417056083]\n",
      "[0.07088188827037811, 0.663411557674408, 0.37485021352767944, 0.0742068022489547, 0.1032135721296072, 0.12963784188032146, 0.29269856214523315, 0.1647016465663909, 0.24599842503666877, 0.28354369252920136, 0.31239194571971884, 0.3288673847913742, 0.25471082031726816]\n",
      "Predictions: [0. 1.]\n",
      "Writing ../tmp/ashanti/preds/1667X1099Y_preds.tif\n",
      "Exists locally.\n",
      "(618, 612, 13)\n",
      "The data has been scaled to -1.0000000000000002, 1.0000000000000004\n",
      "[0.0, 0.495885968208313, 0.21481993794441223, 0.0319523923099041, 0.051606014370918274, 0.03500627391040325, 0.12065347097814083, 0.07935654222965241, 0.11289754249155522, 0.12680075764656068, 0.13959697335958482, 0.1264837607741356, 0.07658973373472691]\n",
      "[0.1135486364364624, 0.7001456022262573, 0.41201138496398926, 0.06015106290578842, 0.08586011081933966, 0.09744681492447846, 0.26924997270107265, 0.12968695238232605, 0.21442532017827032, 0.2529055833816528, 0.28224947154521934, 0.2558941677212715, 0.18922210782766336]\n",
      "Predictions: [0. 1.]\n",
      "Writing ../tmp/ashanti/preds/1673X1099Y_preds.tif\n",
      "Exists locally.\n",
      "(618, 612, 13)\n",
      "The data has been scaled to -1.0000000000000002, 1.0000000000000002\n",
      "[0.0, 0.409280389547348, 0.0547889806330204, 0.043595027178525925, 0.06730754673480988, 0.054596781730651855, 0.19899290800094604, 0.10700579732656479, 0.17016059756278992, 0.19182893261313438, 0.22109213918447496, 0.21670929491519927, 0.12484766505658626]\n",
      "[0.13307473063468933, 0.7121978998184204, 0.396598219871521, 0.09239337593317032, 0.1253986358642578, 0.16729991137981415, 0.35480278730392456, 0.20068386197090146, 0.28719658255577085, 0.34332809448242174, 0.37418593913316717, 0.3737510815262794, 0.31889988631010047]\n",
      "Predictions: [0. 1.]\n",
      "Writing ../tmp/ashanti/preds/1658X1098Y_preds.tif\n",
      "Exists locally.\n",
      "(618, 612, 13)\n",
      "The data has been scaled to -1.0, 1.0000000000000004\n",
      "[0.0, 0.415971577167511, 0.05528870224952698, 0.04164949804544449, 0.06350041925907135, 0.051049057953059675, 0.20224317461252211, 0.10233414322137832, 0.1762655682861805, 0.20163578391075135, 0.22979665398597718, 0.2148635655641556, 0.12662402242422105]\n",
      "[0.09478628635406494, 0.7107147574424744, 0.40784531831741333, 0.08955809548497193, 0.12305565774440763, 0.17005409598350524, 0.33774999976158127, 0.2023464135825634, 0.27708350718021385, 0.3245297312736506, 0.35688146352767924, 0.3998011603951454, 0.33481635004281995]\n",
      "Predictions: [0. 1.]\n",
      "Writing ../tmp/ashanti/preds/1659X1098Y_preds.tif\n",
      "Exists locally.\n",
      "(618, 612, 13)\n",
      "The data has been scaled to -1.0000000000000002, 1.0000000000000004\n",
      "[0.0, 0.4269424080848694, 0.08059839904308319, 0.040497444570064545, 0.0630045011639595, 0.051392387598752975, 0.2054932415485382, 0.10555206499993801, 0.1781503140926361, 0.2018493503332138, 0.2303902506828308, 0.21805212572216986, 0.1278679735958576]\n",
      "[0.0998319610953331, 0.7109142541885376, 0.4114144742488861, 0.08542556911706867, 0.11782562173902987, 0.1573968082666397, 0.3329060673713684, 0.19357866644859312, 0.27507148385047897, 0.3192207768559455, 0.3519683495163917, 0.3871440470218657, 0.3262436538934707]\n",
      "Predictions: [0. 1.]\n",
      "Writing ../tmp/ashanti/preds/1660X1098Y_preds.tif\n",
      "Exists locally.\n",
      "(618, 612, 13)\n",
      "The data has been scaled to -1.0000000000000002, 1.0000000000000002\n",
      "[0.0, 0.447124719619751, 0.10584449768066406, 0.04191098306328058, 0.06700236350297928, 0.05420004576444626, 0.210396209359169, 0.11163004226982594, 0.18443445339798928, 0.20813362896442414, 0.2385758325457573, 0.2214729093015194, 0.13105311691761018]\n",
      "[0.07088188827037811, 0.6881974935531616, 0.3909878730773926, 0.09280537068843842, 0.1286030411720276, 0.1763027459383011, 0.3362528055906292, 0.2127449572086334, 0.28513756990432737, 0.32732527107000325, 0.3582123234868048, 0.41111837476491925, 0.3585044234991073]\n",
      "Predictions: [0. 1.]\n",
      "Writing ../tmp/ashanti/preds/1661X1098Y_preds.tif\n",
      "Exists locally.\n",
      "(618, 612, 13)\n",
      "The data has been scaled to -1.0000000000000002, 1.0000000000000007\n",
      "[0.0, 0.446638822555542, 0.10117773711681366, 0.043396659195423126, 0.06909285485744476, 0.05969329550862312, 0.21210040152072906, 0.11063348948955536, 0.19051365554332733, 0.2118175894021988, 0.23738979995250703, 0.2279358446598053, 0.14103630557656288]\n",
      "[0.07088188827037811, 0.7152462005615234, 0.4083069860935211, 0.10370030999183655, 0.14079499244689941, 0.1902952641248703, 0.3210040330886841, 0.22641546800732604, 0.27479184716939925, 0.30585830211639387, 0.33722000271081914, 0.4181867212057112, 0.37358645647764177]\n",
      "Predictions: [0. 1.]\n",
      "Writing ../tmp/ashanti/preds/1662X1098Y_preds.tif\n",
      "Exists locally.\n",
      "(618, 612, 13)\n",
      "The data has been scaled to -1.0000000000000004, 1.0000000000000002\n",
      "[0.0, 0.512927234172821, 0.21989703178405762, 0.03685053810477257, 0.06010528653860092, 0.04444953054189682, 0.16265424862504005, 0.09472459331154823, 0.14014451652765275, 0.1571068674325943, 0.18357764482498168, 0.19033856987953185, 0.10703712366521359]\n",
      "[0.07088188827037811, 0.6780614256858826, 0.3899241089820862, 0.07499809563159943, 0.10780499130487442, 0.1369061075150966, 0.311173871159553, 0.17290742620825758, 0.25330235362052916, 0.2940790355205536, 0.32449835538864136, 0.34150538742542264, 0.2752517521381377]\n"
     ]
    },
    {
     "name": "stdout",
     "output_type": "stream",
     "text": [
      "Predictions: [0. 1.]\n",
      "Writing ../tmp/ashanti/preds/1666X1098Y_preds.tif\n",
      "Exists locally.\n",
      "(618, 612, 13)\n",
      "The data has been scaled to -1.0000000000000004, 1.0000000000000004\n",
      "[0.0, 0.541735053062439, 0.24083015322685242, 0.03925386648625136, 0.06204054057598114, 0.04864889718592167, 0.17083961814641951, 0.09886102527379989, 0.15789385065436362, 0.176850388944149, 0.20027757659554482, 0.1790342189371586, 0.09938251003623008]\n",
      "[0.07088188827037811, 0.6817461252212524, 0.38304221630096436, 0.06940587535500525, 0.100589307770133, 0.11374837905168533, 0.2743490740656852, 0.15730079486966125, 0.2334351651370525, 0.2660564184188842, 0.29515342563390734, 0.3030822813510893, 0.23408624082803714]\n",
      "Predictions: [0. 1.]\n",
      "Writing ../tmp/ashanti/preds/1667X1098Y_preds.tif\n",
      "Exists locally.\n",
      "(618, 612, 13)\n",
      "The data has been scaled to -1.0000000000000004, 1.0\n",
      "[0.0, 0.5359043478965759, 0.24518950283527374, 0.038772862404584885, 0.06315618157386779, 0.04720378294587135, 0.17327697649598123, 0.10109252631664276, 0.15459079146385193, 0.1729363717138767, 0.19555757120251654, 0.1797465905547142, 0.10331080369651317]\n",
      "[0.07088188827037811, 0.6802341938018799, 0.3869287371635437, 0.0626122076064347, 0.08979934453964233, 0.10085450112819672, 0.2503013610839844, 0.13690402209758756, 0.20890437960624691, 0.23756112977862345, 0.26837562322616576, 0.27097021341323835, 0.2062383651733397]\n",
      "Predictions: [0. 1.]\n",
      "Writing ../tmp/ashanti/preds/1668X1098Y_preds.tif\n",
      "Exists locally.\n",
      "(618, 612, 13)\n",
      "The data has been scaled to -1.0000000000000002, 1.0000000000000004\n",
      "[0.0, 0.5263051390647888, 0.24109068512916565, 0.03744531851261854, 0.0632944256067276, 0.04944818764925003, 0.17853895276784898, 0.09996808432042599, 0.1603233054280281, 0.17949442863464354, 0.20059214681386947, 0.18687597587704657, 0.11791652366518975]\n",
      "[0.07088188827037811, 0.6683909893035889, 0.38502222299575806, 0.0712977796792984, 0.09952342063188548, 0.11719691753387451, 0.26964980363845825, 0.1528629645705222, 0.22874271497130394, 0.25760856121778486, 0.28871214389801025, 0.2935363799333572, 0.22970145493745797]\n",
      "Predictions: [0. 1.]\n",
      "Writing ../tmp/ashanti/preds/1669X1098Y_preds.tif\n",
      "Exists locally.\n",
      "(618, 612, 13)\n",
      "The data has been scaled to -1.0000000000000004, 1.0000000000000002\n",
      "[0.0, 0.525925874710083, 0.2355511486530304, 0.03659206237643957, 0.06125765610486269, 0.04235141724348068, 0.1782217524945736, 0.09676357321441173, 0.15871695876121522, 0.17681793719530106, 0.1980904072523117, 0.18047166168689727, 0.10713242255151272]\n",
      "[0.0998319610953331, 0.6779108047485352, 0.3930327594280243, 0.06810334995388984, 0.0959029495716095, 0.11127560883760437, 0.28416981548070874, 0.14769003391265867, 0.23145453184843048, 0.26725370138883586, 0.30139481723308564, 0.28006525039672847, 0.21124821007251737]\n",
      "Predictions: [0. 1.]\n",
      "Writing ../tmp/ashanti/preds/1670X1098Y_preds.tif\n",
      "Exists locally.\n",
      "(618, 612, 13)\n",
      "The data has been scaled to -1.0000000000000002, 1.0000000000000004\n",
      "[0.0, 0.49392393231391907, 0.22578902542591095, 0.033773011341691014, 0.05498995892703533, 0.03765020929276943, 0.1663004457950592, 0.08613002300262451, 0.14704450890421866, 0.1630989968776703, 0.18366532772779465, 0.1712481386959553, 0.09482615552842617]\n",
      "[0.1135486364364624, 0.6898384690284729, 0.4057791233062744, 0.058775139972567544, 0.08347841575741763, 0.09739803485572333, 0.2741512060165405, 0.12972880154848093, 0.21969825178384772, 0.26045554280281064, 0.2935193836688994, 0.2467367835342883, 0.18298899829387655]\n",
      "Predictions: [0. 1.]\n",
      "Writing ../tmp/ashanti/preds/1671X1098Y_preds.tif\n",
      "Exists locally.\n",
      "(618, 612, 13)\n",
      "The data has been scaled to -1.0000000000000004, 1.0000000000000004\n",
      "[0.0, 0.5482043027877808, 0.2575869560241699, 0.03145647421479225, 0.04924849420785904, 0.03604944050312042, 0.1672007441520691, 0.07961988151073456, 0.14990309253335, 0.17207352444529533, 0.19583010971546172, 0.16383524015545844, 0.08376069515943527]\n",
      "[0.0998319610953331, 0.703715980052948, 0.41458743810653687, 0.05520609468221662, 0.08054474741220474, 0.08917607478797426, 0.2600401192903518, 0.12487070634961123, 0.21320738494396202, 0.2474165372550486, 0.2734083130955696, 0.24461913108825678, 0.17678443789482096]\n",
      "Predictions: [0. 1.]\n",
      "Writing ../tmp/ashanti/preds/1672X1098Y_preds.tif\n",
      "Exists locally.\n",
      "(618, 612, 13)\n",
      "The data has been scaled to -1.0000000000000004, 1.0000000000000002\n",
      "[0.0, 0.562002956867218, 0.2747255563735962, 0.030717392545193435, 0.050810694321990015, 0.034064680151641366, 0.16609232425689696, 0.07654165402054787, 0.15148259177803994, 0.17379291653633117, 0.2010586678981781, 0.1597483679652214, 0.07961822785437107]\n",
      "[0.14004869759082794, 0.7126585841178894, 0.42154088616371155, 0.049269424006342884, 0.0732739962637424, 0.08125428855419159, 0.2793545424938202, 0.11441840827465052, 0.21949671581387512, 0.26184431463479996, 0.2930941224098205, 0.2417117670178413, 0.14894801229238508]\n",
      "Predictions: [0. 1.]\n",
      "Writing ../tmp/ashanti/preds/1673X1098Y_preds.tif\n",
      "Exists locally.\n",
      "(618, 612, 13)\n",
      "The data has been scaled to -1.0000000000000004, 1.0000000000000004\n",
      "[0.0, 0.5527539253234863, 0.26730889081954956, 0.030628351587802173, 0.050003815442323685, 0.03495078906416893, 0.16624761670827864, 0.07814384400844573, 0.15359785854816438, 0.1755765199661255, 0.20183170586824417, 0.1601960204541683, 0.07944169379770756]\n",
      "[0.15595826506614685, 0.7099897861480713, 0.42118173837661743, 0.04854538515210151, 0.07544822990894318, 0.08189517259597778, 0.2748792186379427, 0.11750533059239386, 0.21793428808450696, 0.2574131488800048, 0.28844525068998333, 0.22821590602397906, 0.14213493019342419]\n",
      "Predictions: [0. 1.]\n",
      "Writing ../tmp/ashanti/preds/1674X1098Y_preds.tif\n",
      "Exists locally.\n",
      "(618, 612, 13)\n",
      "The data has been scaled to -1.0000000000000002, 1.0000000000000004\n",
      "[0.0, 0.46538978815078735, 0.1536693274974823, 0.03660639375448227, 0.05434500426054001, 0.03814755380153656, 0.21635004878044128, 0.0855072345584631, 0.18797063827514648, 0.21260839104652404, 0.2405218303203583, 0.193716586381197, 0.09667598456144333]\n",
      "[0.14004869759082794, 0.7790300846099854, 0.4697396457195282, 0.06800149232149123, 0.09719382487237453, 0.1135152578353881, 0.34689861536026, 0.15351594686508174, 0.27633837461471555, 0.32642777115106575, 0.35626695752143855, 0.30353210270404807, 0.21256844103336325]\n",
      "Predictions: [0. 1.]\n",
      "Writing ../tmp/ashanti/preds/1648X1097Y_preds.tif\n",
      "Exists locally.\n",
      "(618, 612, 13)\n",
      "The data has been scaled to -1.0000000000000004, 1.0000000000000004\n",
      "[0.0, 0.4964331388473511, 0.1713258922100067, 0.035751886665821075, 0.05414664000272751, 0.03805600106716156, 0.2116968773305416, 0.08497866094112397, 0.18554453253746034, 0.20854153037071227, 0.23343185260891913, 0.1924399122595787, 0.09625893831253052]\n",
      "[0.12942928075790405, 0.7653670907020569, 0.45745936036109924, 0.0637521892786026, 0.0946517139673233, 0.10875122211873531, 0.344296932220459, 0.14885955080389976, 0.2708768248558044, 0.32084567546844467, 0.3504551410675047, 0.29540471434593185, 0.20722217112779612]\n",
      "Predictions: [0. 1.]\n",
      "Writing ../tmp/ashanti/preds/1649X1097Y_preds.tif\n",
      "Exists locally.\n",
      "(618, 612, 13)\n",
      "The data has been scaled to -1.0000000000000002, 1.0000000000000004\n",
      "[0.0, 0.4627637267112732, 0.12208916991949081, 0.034103915095329285, 0.05340657755732536, 0.03820935245603324, 0.1759060025215149, 0.08630502969026566, 0.16125462353229522, 0.1811401404440403, 0.19832002818584443, 0.19121047854423523, 0.08840804547071457]\n",
      "[0.1135486364364624, 1.0, 0.6180882453918457, 0.10699626058340073, 0.13595333993434827, 0.17860685288906097, 0.3662928342819214, 0.1987645506858825, 0.2910522997379301, 0.347012098133564, 0.37821522951126074, 0.3383135437965393, 0.3048036485910415]\n",
      "Predictions: [0. 1.]\n",
      "Writing ../tmp/ashanti/preds/1650X1097Y_preds.tif\n",
      "Exists locally.\n",
      "(618, 612, 13)\n",
      "The data has been scaled to -1.0000000000000004, 1.0000000000000004\n",
      "[0.0, 0.4442470073699951, 0.10322397947311401, 0.03686477802693844, 0.05665052719414234, 0.04228758569806814, 0.18699932098388672, 0.0924111932516098, 0.16738346368074417, 0.18757950514554977, 0.20896493941545485, 0.19759976416826247, 0.10390421450138092]\n",
      "[0.12942928075790405, 0.7410104274749756, 0.41654735803604126, 0.08099488914012909, 0.11127863712608803, 0.14029908180236816, 0.3372917175292969, 0.1730308331549167, 0.2655339270830154, 0.31788867115974423, 0.3486411929130553, 0.33945189714431745, 0.2698129296302795]\n"
     ]
    },
    {
     "name": "stdout",
     "output_type": "stream",
     "text": [
      "Predictions: [0. 1.]\n",
      "Writing ../tmp/ashanti/preds/1651X1097Y_preds.tif\n",
      "Exists locally.\n",
      "(618, 612, 13)\n",
      "The data has been scaled to -1.0000000000000004, 1.0\n",
      "[0.0, 0.47188857197761536, 0.1464889645576477, 0.033844511955976486, 0.051499199122190475, 0.03849851340055466, 0.20370030403137207, 0.08073603808879852, 0.17714094817638398, 0.19980553612113, 0.2265629768371582, 0.18625938296318054, 0.0879235714673996]\n",
      "[0.1589212715625763, 0.7655596733093262, 0.4439806342124939, 0.06604868173599243, 0.09549859166145325, 0.11574731022119522, 0.33080035001039504, 0.15190704762935636, 0.25882824957370754, 0.31453598141670225, 0.348134434223175, 0.324387066066265, 0.2469593361020088]\n",
      "Predictions: [0. 1.]\n",
      "Writing ../tmp/ashanti/preds/1652X1097Y_preds.tif\n",
      "Exists locally.\n",
      "(618, 612, 13)\n",
      "The data has been scaled to -1.0000000000000004, 1.0000000000000004\n",
      "[0.0, 0.4400586783885956, 0.10422606766223907, 0.03999389708042145, 0.0630960538983345, 0.047096842899918556, 0.20869764685630798, 0.09778376817703247, 0.18225007653236389, 0.20844328701496123, 0.23815597966313362, 0.20196111500263214, 0.10752369649708271]\n",
      "[0.0998319610953331, 0.6957656145095825, 0.3986649811267853, 0.08619821816682816, 0.12199588119983673, 0.1631950944662094, 0.3526917293667785, 0.20104445815086353, 0.2844311863183975, 0.34448405504226676, 0.3736680731177329, 0.3865567982196808, 0.3106513068079948]\n",
      "Predictions: [0. 1.]\n",
      "Writing ../tmp/ashanti/preds/1658X1097Y_preds.tif\n",
      "Exists locally.\n",
      "(618, 612, 13)\n",
      "The data has been scaled to -1.0000000000000004, 1.0000000000000004\n",
      "[0.0, 0.4213937222957611, 0.0715014711022377, 0.04225385598838329, 0.06489662081003189, 0.056107424199581146, 0.1942388519644737, 0.10710402578115463, 0.1730086974799633, 0.19563663005828857, 0.2213448017835617, 0.21575916036963463, 0.12513078302145003]\n",
      "[0.14004869759082794, 0.7037556171417236, 0.3976745009422302, 0.09269855916500092, 0.12950332462787628, 0.17092045545577977, 0.33923210352659205, 0.20974557772278782, 0.29268774092197414, 0.33098996728658675, 0.3637745499610897, 0.3974434569478034, 0.33930208832025505]\n",
      "Predictions: [0. 1.]\n",
      "Writing ../tmp/ashanti/preds/1659X1097Y_preds.tif\n",
      "Exists locally.\n",
      "(618, 612, 13)\n",
      "The data has been scaled to -1.0000000000000002, 1.0000000000000004\n",
      "[0.0, 0.42257851362228394, 0.06218719482421875, 0.0405539033934474, 0.06252295598387718, 0.04944685846567154, 0.20641750171780587, 0.10217786766588688, 0.18609955608844758, 0.21093044728040694, 0.23388464450836183, 0.2005744606256485, 0.10994459614157677]\n",
      "[0.1589212715625763, 0.7295717597007751, 0.4246193766593933, 0.090403588861227, 0.12356680743396281, 0.17328239679336538, 0.3525959864258763, 0.2079310365021227, 0.2911872923374176, 0.34715460538864135, 0.37601575851440416, 0.4057387918233869, 0.35785011649131765]\n",
      "Predictions: [0. 1.]\n",
      "Writing ../tmp/ashanti/preds/1660X1097Y_preds.tif\n",
      "Exists locally.\n",
      "(618, 612, 13)\n",
      "The data has been scaled to -1.0000000000000002, 1.0000000000000004\n",
      "[0.0, 0.4199572801589966, 0.05949189513921738, 0.04400701820850372, 0.06990157812833786, 0.05729762837290764, 0.21699854731559753, 0.11541938297450542, 0.19852275028824806, 0.2215241402387619, 0.2412733644247055, 0.22280064672231675, 0.13670117855072023]\n",
      "[0.07088188827037811, 0.8577141761779785, 0.45783674716949463, 0.12429999560117722, 0.15399405360221863, 0.19800107181072235, 0.3469858244061466, 0.23016394376754756, 0.2944967925548553, 0.3367114633321761, 0.3647388905286788, 0.42001561671495424, 0.37601794898509966]\n",
      "Predictions: [0. 1.]\n",
      "Writing ../tmp/ashanti/preds/1661X1097Y_preds.tif\n",
      "Exists locally.\n",
      "(618, 612, 13)\n",
      "The data has been scaled to -1.0000000000000002, 1.0000000000000004\n",
      "[0.0, 0.43338829278945923, 0.09065970778465271, 0.04375626370310783, 0.06889448314905167, 0.05969329550862312, 0.21581091433763505, 0.11207655929028988, 0.19222054854035378, 0.21667934358119964, 0.2406048819422722, 0.22563908696174623, 0.13638414293527604]\n",
      "[0.07088188827037811, 0.6994099617004395, 0.39856797456741333, 0.10229648649692535, 0.13960479199886322, 0.1900968998670578, 0.33879604935646057, 0.22589589282870284, 0.28989553600549695, 0.3281813621520996, 0.3558544889092445, 0.41702490895986555, 0.36693081259727467]\n",
      "Predictions: [0. 1.]\n",
      "Writing ../tmp/ashanti/preds/1662X1097Y_preds.tif\n",
      "Exists locally.\n",
      "(618, 612, 13)\n",
      "The data has been scaled to -1.0000000000000002, 1.0000000000000004\n",
      "[0.0, 0.46836408972740173, 0.13292750716209412, 0.03765992447733879, 0.06385137885808945, 0.05080491304397583, 0.21014804393053055, 0.1049591887742281, 0.1834954798221588, 0.20721875205636026, 0.23620591759681703, 0.21140028089284896, 0.12009068429470063]\n",
      "[0.07088188827037811, 0.6885435581207275, 0.39165639877319336, 0.09250019490718842, 0.13139542937278748, 0.1831006407737732, 0.3349965810775757, 0.2201287731528282, 0.2851848393678665, 0.3248532950878143, 0.3576844722032546, 0.41468391716480246, 0.357427367568016]\n",
      "Predictions: [0. 1.]\n",
      "Writing ../tmp/ashanti/preds/1663X1097Y_preds.tif\n",
      "Exists locally.\n",
      "(618, 612, 13)\n",
      "The data has been scaled to -1.0000000000000002, 1.0\n",
      "[0.0, 0.4697778820991516, 0.14144966006278992, 0.03430228307843208, 0.0632944256067276, 0.045105669647455215, 0.2072022557258606, 0.10205825120210647, 0.18533703684806824, 0.20735707506537437, 0.23584934324026108, 0.19473228380084037, 0.1085217472165823]\n",
      "[0.07088188827037811, 0.7007490396499634, 0.40583956241607666, 0.08700694143772125, 0.12429999560117722, 0.1669935800135134, 0.33980315923690796, 0.20592293441295617, 0.285055461525917, 0.3372026592493056, 0.3659138277173042, 0.3763430759310722, 0.3095695823431015]\n",
      "Predictions: [0. 1.]\n",
      "Writing ../tmp/ashanti/preds/1664X1097Y_preds.tif\n",
      "Exists locally.\n",
      "(618, 612, 13)\n",
      "The data has been scaled to -1.0000000000000002, 1.0000000000000004\n",
      "[0.0, 0.5007612109184265, 0.2026762068271637, 0.03645380213856697, 0.06185244396328926, 0.050003815442323685, 0.19359883666038513, 0.09746707901358605, 0.1691404774785042, 0.1918190598487854, 0.2200871266424656, 0.1855549268424511, 0.10298111364245414]\n",
      "[0.06345103681087494, 0.7103652358055115, 0.41607117652893066, 0.07803494706749915, 0.10971812829375259, 0.13616236895322792, 0.3068512976169586, 0.170811802893877, 0.25562559217214575, 0.29592010974884025, 0.327601397037506, 0.3253701671957969, 0.2540254771709441]\n",
      "Predictions: [0. 1.]\n",
      "Writing ../tmp/ashanti/preds/1665X1097Y_preds.tif\n",
      "Exists locally.\n",
      "(618, 612, 13)\n",
      "The data has been scaled to -1.0000000000000004, 1.0000000000000004\n",
      "[0.0, 0.5500118732452393, 0.2545074224472046, 0.03789578005671501, 0.06174283586442471, 0.047005414962768555, 0.1906253546476364, 0.0968403197824955, 0.16906859502196311, 0.1912941388785839, 0.21913088262081146, 0.18894025012850763, 0.10545715130865574]\n",
      "[0.07088188827037811, 0.6842710375785828, 0.3954009413719177, 0.07430380582809448, 0.10641156509518603, 0.13292866349220264, 0.291149765253067, 0.1728481918573379, 0.24204050824046136, 0.2767151236534118, 0.3072788521647453, 0.3323305740952492, 0.2661264196038246]\n",
      "Predictions: [0. 1.]\n",
      "Writing ../tmp/ashanti/preds/1666X1097Y_preds.tif\n",
      "Exists locally.\n",
      "(618, 612, 13)\n",
      "The data has been scaled to -1.0000000000000002, 1.0000000000000002\n",
      "[0.0, 0.5495977997779846, 0.2547535300254822, 0.03827762361615896, 0.0626535415649414, 0.0478522926568985, 0.18569466471672058, 0.09959432780742646, 0.1649177223443985, 0.18719816580414772, 0.2134561225771904, 0.18309092968702317, 0.10163452029228211]\n",
      "[0.07088188827037811, 0.6812000274658203, 0.3886204659938812, 0.0721980631351471, 0.1027008444070816, 0.11932950615882872, 0.2779507040977478, 0.16076391935348505, 0.23763011693954467, 0.2708994343876838, 0.30054064989089957, 0.3042364358901977, 0.2335705630481243]\n",
      "Predictions: [0. 1.]\n",
      "Writing ../tmp/ashanti/preds/1667X1097Y_preds.tif\n",
      "Exists locally.\n",
      "(618, 612, 13)\n",
      "The data has been scaled to -1.0000000000000004, 1.0000000000000002\n",
      "[0.0, 0.5420790314674377, 0.2516520619392395, 0.036757610738277435, 0.059754326939582825, 0.043648429214954376, 0.1802421785891056, 0.09725436717271804, 0.1587011158466339, 0.18089846894145012, 0.2053939402103424, 0.18143227696418762, 0.10104081965982914]\n",
      "[0.07088188827037811, 0.6823320984840393, 0.3936220705509186, 0.06592650860548008, 0.09689640700817104, 0.1067751411348581, 0.2754024565219879, 0.15048109889030456, 0.23100775480270386, 0.266394305229187, 0.2960063457489013, 0.2882160782814026, 0.2113794535398482]\n"
     ]
    },
    {
     "name": "stdout",
     "output_type": "stream",
     "text": [
      "Predictions: [0. 1.]\n",
      "Writing ../tmp/ashanti/preds/1668X1097Y_preds.tif\n",
      "Exists locally.\n",
      "(618, 612, 13)\n",
      "The data has been scaled to -1.0000000000000002, 1.0000000000000002\n",
      "[0.0, 0.5337730646133423, 0.24832743406295776, 0.035545893013477325, 0.05894560366868973, 0.04068817496299744, 0.1652349479496479, 0.0950176790356636, 0.14781393855810165, 0.1690518654882908, 0.18570285364985467, 0.1776824414730072, 0.10153081193566323]\n",
      "[0.08943852037191391, 0.685890793800354, 0.3961414396762848, 0.062401771545410156, 0.09085221588611603, 0.09699346385896199, 0.28714806139469096, 0.1366963744163513, 0.23840280771255473, 0.27596467137336717, 0.3061008870601652, 0.26880242228507994, 0.1958000853657722]\n",
      "Predictions: [0. 1.]\n",
      "Writing ../tmp/ashanti/preds/1669X1097Y_preds.tif\n",
      "Exists locally.\n",
      "(618, 612, 13)\n",
      "The data has been scaled to -1.0000000000000002, 1.0000000000000002\n",
      "[0.0, 0.5241138935089111, 0.23440000414848328, 0.03340199645608664, 0.05624270532280207, 0.03530174493789673, 0.17859922349452972, 0.09096532575786113, 0.15833660811185837, 0.17915294989943503, 0.20315291583538056, 0.18056049793958664, 0.09090645611286163]\n",
      "[0.09478628635406494, 0.6954426765441895, 0.41049468517303467, 0.0684904042631387, 0.09677827805280681, 0.10974741540849196, 0.3198960900306699, 0.14676256924867623, 0.2611928641796112, 0.31276004314422595, 0.34194915592670433, 0.28890268653631207, 0.2167886495590208]\n",
      "Predictions: [0. 1.]\n",
      "Writing ../tmp/ashanti/preds/1670X1097Y_preds.tif\n",
      "Exists locally.\n",
      "(618, 612, 13)\n",
      "The data has been scaled to -1.0000000000000007, 1.0000000000000004\n",
      "[0.0, 0.5482140779495239, 0.26714298129081726, 0.03540093079209328, 0.05857108887284994, 0.040582803264260295, 0.1766994744539261, 0.09378312006592751, 0.15621348470449448, 0.17578572928905487, 0.20106546059250832, 0.1772652044892311, 0.0971263151615858]\n",
      "[0.0998319610953331, 0.6893372535705566, 0.4019813537597656, 0.05724421888589859, 0.08287251144647595, 0.09230182319879532, 0.2737469241023064, 0.1269448012113571, 0.22357031330466262, 0.26221022158861157, 0.29287022352218606, 0.24545358717441557, 0.17880711853504178]\n",
      "Predictions: [0. 1.]\n",
      "Writing ../tmp/ashanti/preds/1671X1097Y_preds.tif\n",
      "Exists locally.\n",
      "(618, 612, 13)\n",
      "The data has been scaled to -1.0000000000000004, 1.0000000000000004\n",
      "[0.0, 0.5443382263183594, 0.25933369994163513, 0.032799266278743744, 0.053299762308597565, 0.03659060746431351, 0.17455556988716125, 0.08170953914523124, 0.15433117747306824, 0.1774633824825287, 0.20482804104685784, 0.16165246516466142, 0.0860807716846466]\n",
      "[0.1135486364364624, 0.704924464225769, 0.414745032787323, 0.05344472452998161, 0.08030059933662415, 0.087151899933815, 0.26505632996559136, 0.12303694039583202, 0.21685321107506744, 0.25218196511268615, 0.283928795158863, 0.23882121965289102, 0.16837097406387322]\n",
      "Predictions: [0. 1.]\n",
      "Writing ../tmp/ashanti/preds/1672X1097Y_preds.tif\n",
      "Exists locally.\n",
      "(618, 612, 13)\n",
      "The data has been scaled to -1.0000000000000002, 1.0000000000000004\n",
      "[0.0, 0.566496729850769, 0.2831481397151947, 0.030395973473787308, 0.049797818064689636, 0.032349128276109695, 0.16690317019820214, 0.07565749101340771, 0.1513848401606083, 0.17515183761715888, 0.20278451815247536, 0.15522829592227935, 0.07763679884374142]\n",
      "[0.13307473063468933, 0.7162127494812012, 0.42702922224998474, 0.04654764384031296, 0.07276851199567318, 0.0800488293170929, 0.27590341269969926, 0.11263284198939798, 0.21734744682908058, 0.2606445670127867, 0.29132707715034484, 0.22731767743825912, 0.13545392900705328]\n",
      "Predictions: [0. 1.]\n",
      "Writing ../tmp/ashanti/preds/1673X1097Y_preds.tif\n",
      "Exists locally.\n",
      "(618, 612, 13)\n",
      "The data has been scaled to -1.0, 1.0000000000000004\n",
      "[0.0, 0.5579102635383606, 0.2762223184108734, 0.03019760362803936, 0.049209560826420785, 0.03310444951057434, 0.16974899172782898, 0.07583993561565876, 0.1564406156539917, 0.1797041416168213, 0.20731240510940552, 0.16054519936442374, 0.07864960506558419]\n",
      "[0.14004869759082794, 0.720081090927124, 0.43032288551330566, 0.047104597091674805, 0.07396565154194831, 0.08199435472488403, 0.305897618830204, 0.11481280215084552, 0.2473552756011486, 0.29925047010183314, 0.3301732107996933, 0.22792080193758008, 0.14175261706113806]\n",
      "Predictions: [0. 1.]\n",
      "Writing ../tmp/ashanti/preds/1674X1097Y_preds.tif\n",
      "Downloading 2020/raw/1647/1096/\n",
      "Raw data for (1647, 1096) does not exist.\n",
      "Exists locally.\n",
      "(618, 612, 13)\n",
      "The data has been scaled to -1.0000000000000004, 1.0\n",
      "[0.0, 0.43732041120529175, 0.11542011797428131, 0.03875028342008591, 0.05985351279377937, 0.04630350321531296, 0.20564800798892974, 0.09503993727266788, 0.1752157524228096, 0.19775455445051193, 0.22754858583211898, 0.19885098561644554, 0.10127486735582351]\n",
      "[0.1589212715625763, 0.7647243738174438, 0.4580344557762146, 0.06994361169636247, 0.10099946707487106, 0.12342553846538051, 0.32355231046676636, 0.16194877475500105, 0.254560101032257, 0.3014431834220886, 0.33250495195388785, 0.32412434220314024, 0.23614710941910744]\n",
      "Predictions: [0. 1.]\n",
      "Writing ../tmp/ashanti/preds/1648X1096Y_preds.tif\n",
      "Exists locally.\n",
      "(618, 612, 13)\n",
      "The data has been scaled to -1.0000000000000004, 1.0000000000000004\n",
      "[0.0, 0.4685118794441223, 0.14586669206619263, 0.037201493978500366, 0.057892728596925735, 0.043503470718860626, 0.20990310609340668, 0.09159609042108059, 0.1831940859556198, 0.2052295073866844, 0.2330016165971756, 0.1939444549381733, 0.0978832297027111]\n",
      "[0.13307473063468933, 0.7583407163619995, 0.453610360622406, 0.06970321387052536, 0.1018230233341451, 0.12320134043693542, 0.3302052319049835, 0.158361878991127, 0.2602529674768448, 0.3114445164799689, 0.3416767299175262, 0.3209705993533134, 0.23640490174293516]\n",
      "Predictions: [0. 1.]\n",
      "Writing ../tmp/ashanti/preds/1649X1096Y_preds.tif\n",
      "Exists locally.\n",
      "(618, 612, 13)\n",
      "The data has been scaled to -1.0000000000000004, 1.0000000000000002\n",
      "[0.0, 0.46060889959335327, 0.125107079744339, 0.03530174493789673, 0.054650187492370605, 0.03979552909731865, 0.1855149820446968, 0.08631492927670478, 0.1635564461350441, 0.1835962116718292, 0.20798239186406137, 0.20124857649207115, 0.10115872099995613]\n",
      "[0.12566591799259186, 0.748653769493103, 0.43729060888290405, 0.07370107620954514, 0.1029449924826622, 0.12729762047529208, 0.3327534794807434, 0.16074138581752762, 0.2620205283164977, 0.3099039003252981, 0.34087254405021666, 0.3281667798757553, 0.2516539871692657]\n",
      "Predictions: [0. 1.]\n",
      "Writing ../tmp/ashanti/preds/1650X1096Y_preds.tif\n",
      "Exists locally.\n",
      "(618, 612, 13)\n",
      "The data has been scaled to -1.0000000000000004, 1.0000000000000004\n",
      "[0.0, 0.462952196598053, 0.1274130940437317, 0.037094682455062866, 0.05709926038980484, 0.04409857466816902, 0.18477776348590852, 0.094878201931715, 0.16710836812853813, 0.1857043445110321, 0.2073974974453449, 0.20041766315698623, 0.11017803698778153]\n",
      "[0.15595826506614685, 0.7551264762878418, 0.4336071014404297, 0.07029831409454346, 0.10049591958522797, 0.11846971511840812, 0.3197070360183716, 0.15584120750427244, 0.25359417200088497, 0.30109018087387057, 0.3328495144844055, 0.3137258827686309, 0.2402163907885551]\n",
      "Predictions: [0. 1.]\n",
      "Writing ../tmp/ashanti/preds/1651X1096Y_preds.tif\n",
      "Exists locally.\n",
      "(618, 612, 13)\n",
      "The data has been scaled to -1.0000000000000004, 1.0000000000000004\n",
      "[0.0, 0.46353110671043396, 0.1387963742017746, 0.03439383581280708, 0.05189593508839607, 0.03790340945124626, 0.2050049602985382, 0.07995837330818176, 0.17960073947906494, 0.20206516683101655, 0.228649240732193, 0.18639999851584435, 0.08729122988879681]\n",
      "[0.1135486364364624, 0.7643256187438965, 0.4424593150615692, 0.06680399924516678, 0.09709315747022629, 0.11529716849327087, 0.32410162687301636, 0.1545843780040741, 0.25717048496007916, 0.3076436147093771, 0.3392172351479529, 0.3276826456189155, 0.24691531956195817]\n",
      "Predictions: [0. 1.]\n",
      "Writing ../tmp/ashanti/preds/1652X1096Y_preds.tif\n",
      "Exists locally.\n",
      "(618, 612, 13)\n",
      "The data has been scaled to -1.0000000000000002, 1.0000000000000004\n",
      "[0.0, 0.4493436813354492, 0.12077201157808304, 0.03614862263202667, 0.05430037230253219, 0.04079499468207359, 0.2152983069419861, 0.08446583263576031, 0.18804782927036284, 0.21412082836031915, 0.2399214208126068, 0.1870697818696499, 0.08936087861657142]\n",
      "[0.1135486364364624, 0.7537398338317871, 0.43055421113967896, 0.07039749622344971, 0.10189975053071976, 0.12244602292776108, 0.348149836063385, 0.16053800359368323, 0.27405409812927245, 0.33275049179792404, 0.36333315074443806, 0.3318840414285659, 0.2514558821916577]\n"
     ]
    },
    {
     "name": "stdout",
     "output_type": "stream",
     "text": [
      "Predictions: [0. 1.]\n",
      "Writing ../tmp/ashanti/preds/1653X1096Y_preds.tif\n",
      "Exists locally.\n",
      "(618, 612, 13)\n",
      "The data has been scaled to -1.0000000000000002, 1.0000000000000002\n",
      "[0.0, 0.42827141284942627, 0.08560952544212341, 0.03889056947082281, 0.06050202250480652, 0.04280155524611473, 0.2030608132481575, 0.09566262364387512, 0.17998221144080162, 0.20498896166682243, 0.22981395423412324, 0.1986358121037483, 0.10291806161403656]\n",
      "[0.0998319610953331, 0.7077476978302002, 0.39861759543418884, 0.07539482414722443, 0.108587396889925, 0.1432512842118734, 0.3687953054904938, 0.17768940329551697, 0.287936495244503, 0.35342670083045946, 0.38328368663787826, 0.3525728061795233, 0.28588339388370504]\n",
      "Predictions: [0. 1.]\n",
      "Writing ../tmp/ashanti/preds/1657X1096Y_preds.tif\n",
      "Exists locally.\n",
      "(618, 612, 13)\n",
      "The data has been scaled to -1.0000000000000004, 1.0000000000000004\n",
      "[0.0, 0.43703141808509827, 0.09374441206455231, 0.03882531076669693, 0.060229160264134406, 0.046601053327322006, 0.19655147194862366, 0.0961580652743578, 0.17119068503379822, 0.1945522278547287, 0.22327814996242523, 0.19976100325584412, 0.10630273744463921]\n",
      "[0.0998319610953331, 0.7233251333236694, 0.4123033285140991, 0.07309834659099579, 0.1038128837943077, 0.14209964871406555, 0.36083081960678076, 0.17356973886489868, 0.28476064503192894, 0.34644731432199477, 0.37670342922210637, 0.3474644929170606, 0.2898034125566482]\n",
      "Predictions: [0. 1.]\n",
      "Writing ../tmp/ashanti/preds/1658X1096Y_preds.tif\n",
      "Exists locally.\n",
      "(618, 612, 13)\n",
      "The data has been scaled to -1.0000000000000004, 1.0000000000000002\n",
      "[0.0, 0.44633686542510986, 0.12035270035266876, 0.041901275515556335, 0.06509498506784439, 0.052253013104200365, 0.20140382647514343, 0.10421432107686997, 0.17608735635876654, 0.20010847225785255, 0.22920877635478973, 0.2120829179883003, 0.11614663302898406]\n",
      "[0.07088188827037811, 0.6780654191970825, 0.39619219303131104, 0.07750028371810909, 0.10767406076192834, 0.1371120430529117, 0.3463950455188751, 0.17551008462905882, 0.2843356728553772, 0.334826797246933, 0.36058786511421204, 0.36099022030830374, 0.2876316219568251]\n",
      "Predictions: [0. 1.]\n",
      "Writing ../tmp/ashanti/preds/1659X1096Y_preds.tif\n",
      "Exists locally.\n",
      "(618, 612, 13)\n",
      "The data has been scaled to -1.0000000000000004, 1.0000000000000002\n",
      "[0.0, 0.44687750935554504, 0.10955338180065155, 0.04010070860385895, 0.0626535415649414, 0.05065232515335083, 0.20299839973449707, 0.10074628293514251, 0.17781609892845154, 0.20102278590202333, 0.22837138175964355, 0.22030484601855277, 0.12598927542567254]\n",
      "[0.13307473063468933, 0.7140973806381226, 0.4064564108848572, 0.08190266899764535, 0.11338233575224868, 0.1475443422794341, 0.32541502714157067, 0.1835881769657135, 0.2746547788381576, 0.3192322522401808, 0.3501601189374923, 0.367668479681015, 0.31005132347345343]\n",
      "Predictions: [0. 1.]\n",
      "Writing ../tmp/ashanti/preds/1660X1096Y_preds.tif\n",
      "Exists locally.\n",
      "(618, 612, 13)\n",
      "The data has been scaled to -1.0000000000000004, 1.0000000000000004\n",
      "[0.0, 0.4085370898246765, 0.05286693572998047, 0.041947051882743835, 0.0646982491016388, 0.051697567105293274, 0.19525613710284234, 0.10601881071925164, 0.1871851921081543, 0.20578475743532182, 0.21341105103492736, 0.21687411069869994, 0.1197845995426178]\n",
      "[0.18796128034591675, 0.9590082764625549, 0.5453112721443176, 0.13789577782154083, 0.16675058007240295, 0.20464637875556946, 0.33945220708847046, 0.22559550702571868, 0.2845907330512999, 0.3313771843910217, 0.3588862657546997, 0.4070122689008712, 0.361711873114109]\n",
      "Predictions: [0. 1.]\n",
      "Writing ../tmp/ashanti/preds/1661X1096Y_preds.tif\n",
      "Exists locally.\n",
      "(618, 612, 13)\n",
      "The data has been scaled to -1.0000000000000002, 1.0000000000000002\n",
      "[0.0, 0.42632484436035156, 0.0781562551856041, 0.04319829121232033, 0.06919966638088226, 0.05870145559310913, 0.21300068497657776, 0.1136551097035408, 0.18653214871883392, 0.21163863316178322, 0.24033436179161072, 0.22895172610878944, 0.13800299689173698]\n",
      "[0.08943852037191391, 0.6847302913665771, 0.3897210359573364, 0.09660486876964569, 0.13510337471961975, 0.1907988041639328, 0.3342946469783783, 0.22793613076210018, 0.2858810067176818, 0.3235741019248962, 0.35457624346017835, 0.42070096731185913, 0.37156865298748015]\n",
      "Predictions: [0. 1.]\n",
      "Writing ../tmp/ashanti/preds/1662X1096Y_preds.tif\n",
      "Exists locally.\n",
      "(618, 612, 13)\n",
      "The data has been scaled to -1.0000000000000004, 1.0000000000000002\n",
      "[0.0, 0.46724629402160645, 0.14272499084472656, 0.03289845213294029, 0.063202865421772, 0.0477441543713212, 0.20971760153770447, 0.11057600080966949, 0.18150539994239806, 0.2052071362733841, 0.23785887956619262, 0.2077546536922455, 0.10937175042927265]\n",
      "[0.07088188827037811, 0.6855276226997375, 0.39785584807395935, 0.08482475578784943, 0.12247474007308458, 0.1589074581861496, 0.32410162687301636, 0.20129952728748315, 0.2690289616584778, 0.3091310903429984, 0.3442063331604004, 0.36814574301242825, 0.2995353206992149]\n",
      "Predictions: [0. 1.]\n",
      "Writing ../tmp/ashanti/preds/1663X1096Y_preds.tif\n",
      "Exists locally.\n",
      "(618, 612, 13)\n",
      "The data has been scaled to -1.0000000000000002, 1.0000000000000004\n",
      "[0.0, 0.4834706485271454, 0.16115349531173706, 0.03916220385581255, 0.06665937080979348, 0.05679407771676779, 0.20069189891219139, 0.10835152566432953, 0.17654608339071273, 0.20032283738255502, 0.22860666811466218, 0.19793727695941926, 0.11359534673392772]\n",
      "[0.07088188827037811, 0.691628098487854, 0.3983289301395416, 0.08568438254296777, 0.12165255844593048, 0.16160063743591307, 0.32574957609176636, 0.20110240206122396, 0.27212956845760344, 0.315640217065811, 0.3474539160728454, 0.3885616555809974, 0.3263414517045021]\n",
      "Predictions: [0. 1.]\n",
      "Writing ../tmp/ashanti/preds/1664X1096Y_preds.tif\n",
      "Exists locally.\n",
      "(618, 612, 13)\n",
      "The data has been scaled to -1.0000000000000002, 1.0000000000000004\n",
      "[0.0, 0.49534696340560913, 0.198860764503479, 0.03019760549068451, 0.05694667249917984, 0.03879627250134945, 0.1735719621181488, 0.0918366216123104, 0.1603621207177639, 0.17972906604409217, 0.20245105475187303, 0.16744835749268533, 0.0861296571791172]\n",
      "[0.07088188827037811, 0.7098655700683594, 0.41686686873435974, 0.06955061852931976, 0.1015928830951452, 0.12170584611594676, 0.30969418734312043, 0.16115656942129133, 0.2553726613521575, 0.29657917916774745, 0.32576562464237213, 0.31575319468975066, 0.24161925315856908]\n",
      "Predictions: [0. 1.]\n",
      "Writing ../tmp/ashanti/preds/1665X1096Y_preds.tif\n",
      "Exists locally.\n",
      "(618, 612, 13)\n",
      "The data has been scaled to -1.0000000000000002, 1.0000000000000002\n",
      "[0.0, 0.5392212867736816, 0.24180877208709717, 0.03675135225057602, 0.06065492145717144, 0.04590683486312628, 0.17909340113401412, 0.09635244384407997, 0.16026872396469116, 0.1808290682733059, 0.20701804086565972, 0.17754423692822457, 0.09809660986065864]\n",
      "[0.07088188827037811, 0.6875959634780884, 0.4017278552055359, 0.07223470807075487, 0.10309276096522803, 0.12800030410289764, 0.27875179052352905, 0.16455345749855038, 0.23394844979047763, 0.2656848430633545, 0.29714176654815644, 0.32175641506910324, 0.2513383015990257]\n",
      "Predictions: [0. 1.]\n",
      "Writing ../tmp/ashanti/preds/1666X1096Y_preds.tif\n",
      "Exists locally.\n",
      "(618, 612, 13)\n",
      "The data has been scaled to -1.0000000000000004, 1.0000000000000004\n",
      "[0.0, 0.5384043455123901, 0.24452300369739532, 0.03759822994470596, 0.06045629195868969, 0.045250631868839264, 0.18160602450370789, 0.09484537243843079, 0.16194448471069336, 0.18399746268987655, 0.2116634279489517, 0.1768386706709862, 0.09997614398598671]\n",
      "[0.07088188827037811, 0.6933585405349731, 0.4030657410621643, 0.06874951720237732, 0.09874040409922599, 0.11855097152292718, 0.28575685918331145, 0.15702230259776104, 0.24127156361937518, 0.2775146603584289, 0.30861779451370236, 0.310903936624527, 0.23851877152919748]\n",
      "Predictions: [0. 1.]\n",
      "Writing ../tmp/ashanti/preds/1667X1096Y_preds.tif\n",
      "Exists locally.\n",
      "(618, 612, 13)\n",
      "The data has been scaled to -1.0000000000000004, 1.0000000000000004\n",
      "[0.0, 0.5356706380844116, 0.24387139081954956, 0.037193864583969116, 0.061203934252262115, 0.04463039487600327, 0.18580147624015808, 0.09779077991843224, 0.16554754078388215, 0.18891887962818146, 0.21608795896172522, 0.18541663587093354, 0.1032926693558693]\n",
      "[0.08943852037191391, 0.681506335735321, 0.3967844545841217, 0.06839856505393982, 0.09735256433486938, 0.1128823541104793, 0.30185281038284284, 0.1534885749220848, 0.2520410254597663, 0.29273022860288617, 0.32393088638782497, 0.3040829092264173, 0.22512544021010397]\n"
     ]
    },
    {
     "name": "stdout",
     "output_type": "stream",
     "text": [
      "Predictions: [0. 1.]\n",
      "Writing ../tmp/ashanti/preds/1668X1096Y_preds.tif\n",
      "Exists locally.\n",
      "(618, 612, 13)\n",
      "The data has been scaled to -1.0000000000000002, 1.0000000000000004\n",
      "[0.0, 0.5453898906707764, 0.25698673725128174, 0.03630121424794197, 0.059601739048957825, 0.0445013951510191, 0.18214763402938844, 0.09554968476295471, 0.16316802501678468, 0.18593645244836807, 0.209648434817791, 0.18285067677497863, 0.10134468860924244]\n",
      "[0.08943852037191391, 0.6858005523681641, 0.396462082862854, 0.06409751549363131, 0.09340047836303711, 0.10149538516998291, 0.291302353143692, 0.14260881617665275, 0.2457403436303138, 0.28471919298171955, 0.31289285123348237, 0.28411762863397594, 0.20359851121902456]\n",
      "Predictions: [0. 1.]\n",
      "Writing ../tmp/ashanti/preds/1669X1096Y_preds.tif\n",
      "Exists locally.\n",
      "(618, 612, 13)\n",
      "The data has been scaled to -1.0000000000000002, 1.0000000000000004\n",
      "[0.0, 0.5408703088760376, 0.26633548736572266, 0.03350118175148964, 0.05674830079078674, 0.03675135225057602, 0.18219387009739876, 0.09221150390803814, 0.1605523094534874, 0.18280251771211625, 0.20910247713327407, 0.17675476521253586, 0.09744639657437801]\n",
      "[0.08943852037191391, 0.69294273853302, 0.40835651755332947, 0.06115350872278205, 0.08764782547950745, 0.09659717231988905, 0.2981561630964279, 0.13445793986320495, 0.2422429449856281, 0.28636586070060704, 0.3180929630994794, 0.2654709815979003, 0.1918846361339091]\n",
      "Predictions: [0. 1.]\n",
      "Writing ../tmp/ashanti/preds/1670X1096Y_preds.tif\n",
      "Exists locally.\n",
      "(618, 612, 13)\n",
      "The data has been scaled to -1.0000000000000004, 1.0000000000000004\n",
      "[0.0, 0.5610693693161011, 0.2833307087421417, 0.03555587697774172, 0.05962738171219826, 0.041866547986865045, 0.18799877166748047, 0.0946633480489254, 0.16706252470612526, 0.18991008326411246, 0.21617037653923035, 0.17499772161245347, 0.09495769962668418]\n",
      "[0.0998319610953331, 0.6967833638191223, 0.4070653021335602, 0.05235370248556137, 0.0785992220044136, 0.08464176952838888, 0.26864091306924803, 0.12118201926350593, 0.21818567067384714, 0.25356781035661696, 0.2861532047390937, 0.23719234094023686, 0.16163687705993643]\n",
      "Predictions: [0. 1.]\n",
      "Writing ../tmp/ashanti/preds/1671X1096Y_preds.tif\n",
      "Exists locally.\n",
      "(618, 612, 13)\n",
      "The data has been scaled to -1.0000000000000007, 1.0000000000000004\n",
      "[0.0, 0.5579540729522705, 0.2778840661048889, 0.03324940800666809, 0.0553521029651165, 0.03745327144861221, 0.18355077505111694, 0.08672871664166451, 0.16189646124839782, 0.18667841851711273, 0.2156687267124653, 0.1580016605556011, 0.08192732743918896]\n",
      "[0.12566591799259186, 0.7130348682403564, 0.42074716091156006, 0.053055208176374435, 0.08045319467782974, 0.08550392836332321, 0.27475649118423456, 0.1232744220644235, 0.2251143045723438, 0.26322275400161727, 0.29257394075393667, 0.2369293674826621, 0.16231983080506313]\n",
      "Predictions: [0. 1.]\n",
      "Writing ../tmp/ashanti/preds/1672X1096Y_preds.tif\n",
      "Exists locally.\n",
      "(618, 612, 13)\n",
      "The data has been scaled to -1.0000000000000002, 1.0000000000000004\n",
      "[0.0, 0.57867032289505, 0.29782629013061523, 0.0316063966602087, 0.05133489426225424, 0.033997099846601486, 0.17235064506530762, 0.07561085782945157, 0.15358793139457702, 0.1774424731731415, 0.20466859489679337, 0.15379314571619035, 0.0758475661277771]\n",
      "[0.1135486364364624, 0.715625524520874, 0.4231063723564148, 0.04539338722825044, 0.0723964273929596, 0.0723506510257721, 0.2678034856915474, 0.10981955491006373, 0.21145948618650437, 0.2505004882812498, 0.28021211624145503, 0.20137129127979275, 0.11830936968326565]\n",
      "Predictions: [0. 1.]\n",
      "Writing ../tmp/ashanti/preds/1673X1096Y_preds.tif\n",
      "Exists locally.\n",
      "(618, 612, 13)\n",
      "The data has been scaled to -1.0000000000000004, 1.0000000000000002\n",
      "[0.0, 0.5584025382995605, 0.27367424964904785, 0.029297322034835815, 0.047327598184347154, 0.031448844820261, 0.16735331937670708, 0.07375535331666469, 0.14898683577775956, 0.172699286788702, 0.20012176036834717, 0.1546180598437786, 0.07948917783796787]\n",
      "[0.13307473063468933, 0.7128415703773499, 0.42522627115249634, 0.04914931207895279, 0.07280686050653458, 0.08684621118009082, 0.3008010983467102, 0.11668149754405016, 0.24199681282043445, 0.29358973056077947, 0.3279110714793205, 0.22936016917228685, 0.15341341197490685]\n",
      "Predictions: [0. 1.]\n",
      "Writing ../tmp/ashanti/preds/1674X1096Y_preds.tif\n",
      "Exists locally.\n",
      "(618, 612, 13)\n",
      "The data has been scaled to -1.0000000000000004, 1.0000000000000004\n",
      "[0.0, 0.5424327850341797, 0.2646212577819824, 0.02880140393972397, 0.04865339398384094, 0.03232141714543104, 0.16885701492428778, 0.07413949519395828, 0.15070090889930726, 0.173908931016922, 0.20116466879844666, 0.15766867697238923, 0.0764653317630291]\n",
      "[0.13307473063468933, 0.7070688605308533, 0.4160277247428894, 0.047988564893603314, 0.07264820486307144, 0.08339818567037582, 0.2785000205039978, 0.1155958443880081, 0.2183914542198181, 0.2640418857336044, 0.29822549819946276, 0.2251843839883804, 0.14916372895240781]\n",
      "Predictions: [0. 1.]\n",
      "Writing ../tmp/ashanti/preds/1675X1096Y_preds.tif\n",
      "Exists locally.\n",
      "(618, 612, 13)\n",
      "The data has been scaled to -1.0000000000000002, 1.0000000000000004\n",
      "[0.0, 0.5257153511047363, 0.254432737827301, 0.024505989626049995, 0.04589913785457611, 0.028107117861509323, 0.17429495900869368, 0.07517452538013458, 0.1503561556339264, 0.17696135342121125, 0.198894602060318, 0.1519382603466511, 0.07863538786768913]\n",
      "[0.13307473063468933, 0.7012969255447388, 0.4127269983291626, 0.045105669647455215, 0.07620355486869812, 0.0787060335278511, 0.2838025391101837, 0.116611211001873, 0.22479750737547874, 0.2721515595912932, 0.30538423061370845, 0.22207011282443995, 0.14261897802352902]\n",
      "Predictions: [0. 1.]\n",
      "Writing ../tmp/ashanti/preds/1676X1096Y_preds.tif\n",
      "Exists locally.\n"
     ]
    },
    {
     "name": "stderr",
     "output_type": "stream",
     "text": [
      "../src/cloud_removal.py:190: RuntimeWarning: invalid value encountered in true_divide\n",
      "  mosaic = mosaic / divisor\n"
     ]
    },
    {
     "name": "stdout",
     "output_type": "stream",
     "text": [
      "(618, 612, 13)\n",
      "The data has been scaled to -1.0000000000000002, 1.0000000000000002\n",
      "[0.0, 0.5054888129234314, 0.20356039702892303, 0.02791101988404989, 0.051544979214668274, 0.028508918546140193, 0.21300776451826095, 0.08866120092570781, 0.18772120773792267, 0.21479470431804656, 0.2392136797308922, 0.19985719546675682, 0.09732737094163894]\n",
      "[0.12566591799259186, 0.7231771349906921, 0.41643351316452026, 0.06618114486336706, 0.09923139512538902, 0.11159994304180137, 0.4273969128727912, 0.15616722926497453, 0.3424229919910431, 0.41786906719207717, 0.44828310012817385, 0.32328184098005286, 0.22617272660136215]\n",
      "Predictions: [0. 1.]\n",
      "Writing ../tmp/ashanti/preds/1650X1095Y_preds.tif\n",
      "Exists locally.\n",
      "(618, 612, 13)\n",
      "The data has been scaled to -1.0000000000000002, 1.0000000000000004\n",
      "[0.0, 0.464541494846344, 0.1254856288433075, 0.03595025837421417, 0.05645075440406799, 0.042153045535087585, 0.20253030136227607, 0.0940570842474699, 0.1848151259124279, 0.20573486760258675, 0.2230764962732792, 0.20859699547290803, 0.1064790666103363]\n",
      "[0.14004869759082794, 0.8054497241973877, 0.44132792949676514, 0.0883945513516663, 0.12069886922836304, 0.16179904341697693, 0.3481692060828208, 0.1868405319750309, 0.2799349933862686, 0.33245009332895276, 0.3673163667321205, 0.32832858115434643, 0.2806174308061598]\n",
      "Predictions: [0. 1.]\n",
      "Writing ../tmp/ashanti/preds/1651X1095Y_preds.tif\n",
      "Exists locally.\n",
      "(618, 612, 13)\n",
      "The data has been scaled to -1.0000000000000004, 1.0000000000000002\n",
      "[0.0, 0.4659062623977661, 0.13861778378486633, 0.037247270345687866, 0.057953767478466034, 0.04304314460605383, 0.20765047818422316, 0.09638218581676483, 0.1857287108898163, 0.2096182405948639, 0.23528469130396842, 0.1995440475642681, 0.09973999559879303]\n",
      "[0.13307473063468933, 0.7655691504478455, 0.4384979009628296, 0.09100480377674103, 0.12375067174434662, 0.15515373647212982, 0.35296065062284465, 0.18387997969984995, 0.2908639594912528, 0.3418200939893722, 0.37701728940010065, 0.3442577898502348, 0.2774572238326072]\n",
      "Predictions: [0. 1.]\n",
      "Writing ../tmp/ashanti/preds/1652X1095Y_preds.tif\n",
      "Exists locally.\n",
      "(618, 612, 13)\n",
      "The data has been scaled to -1.0000000000000004, 1.0000000000000002\n",
      "[0.0, 0.4664001762866974, 0.1373072862625122, 0.0366941086947918, 0.05694666877388954, 0.041901275515556335, 0.19381090104579926, 0.08940842598676682, 0.16640684753656387, 0.18743165731430053, 0.2128627598285675, 0.19813248217105867, 0.09828779585659504]\n",
      "[0.12942928075790405, 0.733562707901001, 0.42778265476226807, 0.068802735209465, 0.09856005683541297, 0.11483300849795333, 0.347600519657135, 0.15381001010537146, 0.27503949552774426, 0.32860093116760214, 0.3600311279296874, 0.31965400129556654, 0.23971854448318475]\n",
      "Predictions: [0. 1.]\n",
      "Writing ../tmp/ashanti/preds/1653X1095Y_preds.tif\n",
      "Exists locally.\n",
      "(618, 612, 13)\n",
      "The data has been scaled to -1.0000000000000002, 1.0000000000000002\n",
      "[0.0, 0.4450002908706665, 0.1033143550157547, 0.036880684085190296, 0.05540550872683525, 0.043396659195423126, 0.2050965130329132, 0.0890414446592331, 0.18035055622458457, 0.20429553017020224, 0.23001603037118912, 0.19988274723291397, 0.10021951533854008]\n",
      "[0.1855471432209015, 0.742156982421875, 0.423022985458374, 0.07519645988941193, 0.10801706425845613, 0.13499656319618225, 0.3313954472541809, 0.17106407582759842, 0.26248107552528377, 0.31558285504579536, 0.3460037529468536, 0.3434100106358527, 0.2598469316959381]\n",
      "Predictions: [0. 1.]\n",
      "Writing ../tmp/ashanti/preds/1654X1095Y_preds.tif\n",
      "Exists locally.\n",
      "(618, 612, 13)\n",
      "The data has been scaled to -1.0000000000000002, 1.0000000000000004\n",
      "[0.0, 0.442577600479126, 0.09762252867221832, 0.035133371129631996, 0.05389486625790596, 0.03821173179894686, 0.20728822201490402, 0.08803053498268128, 0.17890192195773125, 0.20384437963366508, 0.23021478205919266, 0.18906079828739167, 0.09171057268977165]\n",
      "[0.12566591799259186, 0.7213982939720154, 0.4134819507598877, 0.07860245928168291, 0.1120012179017067, 0.13565243631601315, 0.36853150576353, 0.1759269826114176, 0.28634672164916974, 0.35537318885326374, 0.38456424474716183, 0.35736838728189446, 0.2740829780697822]\n",
      "Predictions: [0. 1.]\n",
      "Writing ../tmp/ashanti/preds/1655X1095Y_preds.tif\n",
      "Exists locally.\n",
      "(618, 612, 13)\n",
      "The data has been scaled to -1.0000000000000002, 1.0000000000000002\n",
      "[0.0, 0.4426076412200928, 0.11483322083950043, 0.037102311849594116, 0.05567995738238096, 0.04025329649448395, 0.2045821063220501, 0.0900304913520813, 0.17331575080752373, 0.1991287924349308, 0.22652316242456436, 0.2019543431699276, 0.1050634928047657]\n",
      "[0.1589212715625763, 0.725390613079071, 0.4217544198036194, 0.07375448197126389, 0.10569924116134644, 0.1308691613376138, 0.36234837770462036, 0.1664888411760329, 0.2813390165567396, 0.35103034526109683, 0.38013371378183364, 0.34801030158996576, 0.2657897472381589]\n",
      "Predictions: [0. 1.]\n",
      "Writing ../tmp/ashanti/preds/1656X1095Y_preds.tif\n",
      "Exists locally.\n",
      "(618, 612, 13)\n",
      "The data has been scaled to -1.0000000000000002, 1.0000000000000004\n",
      "[0.0, 0.4374202787876129, 0.09093102812767029, 0.03750667721033096, 0.05870145559310913, 0.04299992322921753, 0.1893034279346466, 0.0941387727856636, 0.16318012177944183, 0.18557330965995789, 0.21587553322315217, 0.20485019236803054, 0.10940234623849392]\n",
      "[0.18059907853603363, 0.7916412353515625, 0.42920881509780884, 0.09820706397294998, 0.1282062977552414, 0.17019912600517273, 0.35759517550468445, 0.19481116458773587, 0.28755483031272866, 0.34896126985549925, 0.3770724594593047, 0.33540842235088336, 0.2988289460539818]\n",
      "Predictions: [0. 1.]\n",
      "Writing ../tmp/ashanti/preds/1657X1095Y_preds.tif\n",
      "Exists locally.\n",
      "(618, 612, 13)\n",
      "The data has been scaled to -1.0000000000000004, 1.0000000000000002\n",
      "[0.0, 0.43080705404281616, 0.08027692139148712, 0.03680476173758507, 0.0588972682133317, 0.04570076987147331, 0.20714146196842192, 0.09514806121587753, 0.1842606097459793, 0.20843851193785667, 0.23336003720760345, 0.1989355832338333, 0.10591207891702652]\n",
      "[0.12566591799259186, 0.7076361179351807, 0.3996407091617584, 0.07119859755039215, 0.10319676250219345, 0.1414969116449356, 0.3530022203922272, 0.1764807946979999, 0.2836799278855323, 0.3477022767066955, 0.3773467361927032, 0.35452894568443294, 0.2931602984666824]\n",
      "Predictions: [0. 1.]\n",
      "Writing ../tmp/ashanti/preds/1658X1095Y_preds.tif\n",
      "Exists locally.\n",
      "(618, 612, 13)\n",
      "The data has been scaled to -1.0000000000000002, 1.0000000000000004\n",
      "[0.0, 0.4135091304779053, 0.06769981980323792, 0.0393987936899066, 0.0626993179321289, 0.04804417509585619, 0.21224555373191833, 0.1002206850796938, 0.18942951858043672, 0.2136292614042759, 0.2383272685110569, 0.19998409673571588, 0.10898250453174115]\n",
      "[0.09478628635406494, 0.7142391204833984, 0.4089079201221466, 0.08329190723598004, 0.11674677580595016, 0.15287517011165597, 0.365499347448349, 0.18957295119762418, 0.296729040145874, 0.3554831385612487, 0.38586130440235117, 0.3805752396583554, 0.32013494372367857]\n",
      "Predictions: [0. 1.]\n",
      "Writing ../tmp/ashanti/preds/1659X1095Y_preds.tif\n",
      "Exists locally.\n",
      "(618, 612, 13)\n",
      "The data has been scaled to -1.0000000000000002, 1.0000000000000004\n",
      "[0.0, 0.44162270426750183, 0.11112417280673981, 0.03970397636294365, 0.05879301205277443, 0.04589913785457611, 0.19949644804000854, 0.09238331466913223, 0.1739204227924347, 0.19749413132667543, 0.22408365458250046, 0.19300689697265624, 0.10108989700675011]\n",
      "[0.09478628635406494, 0.755480945110321, 0.4431694746017456, 0.08690012991428375, 0.11960021406412125, 0.15309377014636993, 0.34410619735717773, 0.1886606365442276, 0.27734087705612176, 0.3336993351578712, 0.3636213898658752, 0.37390964627265927, 0.3086037412285804]\n",
      "Predictions: [0. 1.]\n",
      "Writing ../tmp/ashanti/preds/1660X1095Y_preds.tif\n",
      "Exists locally.\n",
      "(618, 612, 13)\n",
      "The data has been scaled to -1.0000000000000004, 1.0000000000000002\n",
      "[0.0, 0.44177693128585815, 0.11107701063156128, 0.039047837257385254, 0.06168690472841263, 0.04760051891207695, 0.20521752163767815, 0.09451213255524635, 0.18053763061761857, 0.20398912951350212, 0.23173367381095886, 0.2019778847694397, 0.10824062637984752]\n",
      "[0.22224204242229462, 0.7306339144706726, 0.425401896238327, 0.08361812718212598, 0.1182497888803482, 0.1496629640460013, 0.3367494016885754, 0.18972170278429984, 0.27645290195941913, 0.3197703167796135, 0.3545500844717025, 0.3653137043118477, 0.30469971299171444]\n"
     ]
    },
    {
     "name": "stdout",
     "output_type": "stream",
     "text": [
      "Predictions: [0. 1.]\n",
      "Writing ../tmp/ashanti/preds/1661X1095Y_preds.tif\n",
      "Exists locally.\n",
      "(618, 612, 13)\n",
      "The data has been scaled to -1.0000000000000004, 1.0000000000000002\n",
      "[0.0, 0.459983229637146, 0.1330977827310562, 0.04160372167825699, 0.0644998848438263, 0.05064767561852932, 0.2068970799446106, 0.10080447532236576, 0.17962125167250634, 0.20505128502845765, 0.2331439085304737, 0.20123487561941147, 0.1073057021945715]\n",
      "[0.07088188827037811, 0.7204694747924805, 0.41628390550613403, 0.09952348694205283, 0.13820096850395203, 0.17900256887078275, 0.33134878575801835, 0.22377872765064238, 0.2807743579149244, 0.31426867693662636, 0.3503700509667396, 0.40356338769197464, 0.33600011765956866]\n",
      "Predictions: [0. 1.]\n",
      "Writing ../tmp/ashanti/preds/1662X1095Y_preds.tif\n",
      "Exists locally.\n",
      "(618, 612, 13)\n",
      "The data has been scaled to -1.0000000000000002, 1.0000000000000002\n",
      "[0.0, 0.4688764810562134, 0.15200254321098328, 0.03990234434604645, 0.06461150124669075, 0.05284962058067322, 0.19535362720489502, 0.1048641175031662, 0.1705228604376316, 0.19342365190386773, 0.22196601554751397, 0.20551547780632973, 0.11741076521575451]\n",
      "[0.08943852037191391, 0.6942229866981506, 0.4015374779701233, 0.09319447726011276, 0.13116696774959558, 0.1730525642633438, 0.3287019923329353, 0.20941147208213806, 0.2745491206645965, 0.3117344751954078, 0.3467529296875, 0.3847382843494415, 0.3166466906666751]\n",
      "Predictions: [0. 1.]\n",
      "Writing ../tmp/ashanti/preds/1663X1095Y_preds.tif\n",
      "Exists locally.\n",
      "(618, 612, 13)\n",
      "The data has been scaled to -1.0000000000000004, 1.0000000000000002\n",
      "[0.0, 0.5064927339553833, 0.20000669360160828, 0.03840695694088936, 0.059601739048957825, 0.056198976933956146, 0.1695292830467224, 0.09663457572460174, 0.1514610767364502, 0.1696995437145233, 0.19222472012043, 0.1891961209475994, 0.11544439196586609]\n",
      "[0.07088188827037811, 0.7219291925430298, 0.42341315746307373, 0.07698479369282712, 0.10769817978143692, 0.1389609225094314, 0.2856031060218811, 0.17606240510940552, 0.2349697262048721, 0.2665090128779411, 0.3008239477872847, 0.3361775711178778, 0.27023846656084055]\n",
      "Predictions: [0. 1.]\n",
      "Writing ../tmp/ashanti/preds/1664X1095Y_preds.tif\n",
      "Exists locally.\n",
      "(618, 612, 13)\n",
      "The data has been scaled to -1.0000000000000002, 1.0000000000000004\n",
      "[0.0, 0.45588237047195435, 0.18682155013084412, 0.029648277908563614, 0.053868533298373225, 0.035797666758298874, 0.22655069828033447, 0.08811134397983551, 0.2045068174600601, 0.23752133771777154, 0.263783597946167, 0.1660967417061329, 0.0837762825191021]\n",
      "[0.09478628635406494, 0.7327497005462646, 0.44086942076683044, 0.05515411496162413, 0.08954757452011108, 0.0839997708797453, 0.3392673239111899, 0.14256766140460964, 0.27378833293914795, 0.32521570920944187, 0.3551387786865233, 0.27178314626216843, 0.1722549609839913]\n",
      "Predictions: [0. 1.]\n",
      "Writing ../tmp/ashanti/preds/1665X1095Y_preds.tif\n",
      "Exists locally.\n",
      "(618, 612, 13)\n",
      "The data has been scaled to -1.0000000000000004, 1.0000000000000004\n",
      "[0.0, 0.5544617176055908, 0.2731749415397644, 0.03134965896606445, 0.05284962058067322, 0.035078723728656766, 0.1763485074043274, 0.0845653135329485, 0.15488957464694977, 0.1773820400238037, 0.20676223188638687, 0.16449508368968963, 0.08936781361699105]\n",
      "[0.08943852037191391, 0.7057437896728516, 0.41850537061691284, 0.048393987119197845, 0.07744716107845306, 0.07779812812805176, 0.2827045142650604, 0.12206072546541687, 0.2323253065347669, 0.26796155124902704, 0.30219863951206205, 0.23703372180461882, 0.15312813818454735]\n",
      "Predictions: [0. 1.]\n",
      "Writing ../tmp/ashanti/preds/1666X1095Y_preds.tif\n",
      "Exists locally.\n",
      "(618, 612, 13)\n",
      "The data has been scaled to -1.0000000000000007, 1.0000000000000004\n",
      "[0.0, 0.5750890970230103, 0.30409401655197144, 0.03415854163467884, 0.05469001810997724, 0.03625543415546417, 0.17861051335930825, 0.0858529806137085, 0.15735093876719475, 0.18024896159768106, 0.2091927632689476, 0.1600203439593315, 0.0832960020750761]\n",
      "[0.07088188827037811, 0.702088475227356, 0.41660377383232117, 0.04977632574737069, 0.07689784467220306, 0.08280586674809455, 0.2591506883502005, 0.12160528376698493, 0.21388141810894012, 0.24628659486770627, 0.27866420447826384, 0.23718698173761352, 0.1516972832381725]\n",
      "Predictions: [0. 1.]\n",
      "Writing ../tmp/ashanti/preds/1667X1095Y_preds.tif\n",
      "Exists locally.\n",
      "(618, 612, 13)\n",
      "The data has been scaled to -1.0000000000000007, 1.0000000000000002\n",
      "[0.0, 0.5459109544754028, 0.2591538429260254, 0.03440713901072741, 0.0565959520637989, 0.03749904781579971, 0.1842397555708885, 0.0887608252465725, 0.16610403656959533, 0.1899706095457077, 0.21672331243753434, 0.1623186267912388, 0.0849639441817999]\n",
      "[0.07088188827037811, 0.6974308490753174, 0.40860483050346375, 0.06389496922492978, 0.09349966049194336, 0.10296252034604522, 0.29021332114934895, 0.14452484846115105, 0.24063453078269947, 0.2807416677474975, 0.31070847362279885, 0.2821657061576843, 0.20311202555894842]\n",
      "Predictions: [0. 1.]\n",
      "Writing ../tmp/ashanti/preds/1668X1095Y_preds.tif\n",
      "Exists locally.\n",
      "(618, 612, 13)\n",
      "The data has been scaled to -1.0, 1.0000000000000002\n",
      "[0.0, 0.5442947149276733, 0.2593880593776703, 0.035645075142383575, 0.05949687026441097, 0.04390020668506622, 0.18010222911834717, 0.0955506082624197, 0.15829951018095018, 0.1789696291089058, 0.20490863919258118, 0.180670890212059, 0.10338287875056267]\n",
      "[0.07088188827037811, 0.687584638595581, 0.4022161066532135, 0.06544594466686249, 0.09351281225681304, 0.10597062073647967, 0.279380029439926, 0.14235243424773214, 0.23298189043998718, 0.2687754124402999, 0.2975441440939903, 0.280461972951889, 0.2103002510964869]\n",
      "Predictions: [0. 1.]\n",
      "Writing ../tmp/ashanti/preds/1669X1095Y_preds.tif\n",
      "Exists locally.\n",
      "(618, 612, 13)\n",
      "The data has been scaled to -1.0000000000000007, 1.0000000000000002\n",
      "[0.0, 0.5596065521240234, 0.28305506706237793, 0.032501716166734695, 0.054802775382995605, 0.03596261013299227, 0.18255797028541565, 0.09086991026997567, 0.16134911105036737, 0.18408981561660767, 0.20841094404458999, 0.17211964279413222, 0.09384474605321884]\n",
      "[0.08943852037191391, 0.6974345445632935, 0.4132421016693115, 0.05560179408639669, 0.08259709179401398, 0.08864729106426239, 0.28619221299886705, 0.12650436013936997, 0.23353212252259242, 0.2740992248058317, 0.3057805866003036, 0.2531462401151657, 0.176046697050333]\n",
      "Predictions: [0. 1.]\n",
      "Writing ../tmp/ashanti/preds/1670X1095Y_preds.tif\n",
      "Exists locally.\n",
      "(618, 612, 13)\n",
      "The data has been scaled to -1.0000000000000007, 1.0000000000000007\n",
      "[0.0, 0.5565061569213867, 0.2804994583129883, 0.03376787044107914, 0.056794928200542924, 0.039733554050326345, 0.18940217941999435, 0.0940876018255949, 0.167080794274807, 0.1908707708120346, 0.21753988713026046, 0.17181047424674034, 0.09280776493251323]\n",
      "[0.08943852037191391, 0.6949856877326965, 0.40760841965675354, 0.0533951178193092, 0.07914485745131963, 0.08279545605182648, 0.2772487998008728, 0.12279412038624286, 0.2299011893570423, 0.2671801075339316, 0.2973659038543701, 0.2420360468327999, 0.16071946918964378]\n",
      "Predictions: [0. 1.]\n",
      "Writing ../tmp/ashanti/preds/1671X1095Y_preds.tif\n",
      "Exists locally.\n",
      "(618, 612, 13)\n",
      "The data has been scaled to -1.0000000000000004, 1.0000000000000002\n",
      "[0.0, 0.5481693148612976, 0.2703394591808319, 0.03328332304954529, 0.055555004999041556, 0.037346456199884415, 0.18948085084557534, 0.08528616204857827, 0.16839901655912398, 0.19226729795336722, 0.2199020765721798, 0.16544198840856553, 0.08515322878956795]\n",
      "[0.12566591799259186, 0.7051774263381958, 0.41827282309532166, 0.05079728364944458, 0.07789731025695801, 0.0791027694940567, 0.2719731673598284, 0.1196166798472404, 0.2228818476200103, 0.25970430821180324, 0.2899878978729246, 0.23316891491413114, 0.15226639509201034]\n",
      "Predictions: [0. 1.]\n",
      "Writing ../tmp/ashanti/preds/1672X1095Y_preds.tif\n",
      "Exists locally.\n",
      "(618, 612, 13)\n",
      "The data has been scaled to -1.0000000000000002, 1.0000000000000004\n",
      "[0.0, 0.5441398620605469, 0.2742934226989746, 0.030951572768390178, 0.05270466208457947, 0.03306020591408014, 0.18905165791511536, 0.0819525420665741, 0.16506907120347022, 0.18942092806100846, 0.2182088613510132, 0.16418585628271104, 0.08344151303172112]\n",
      "[0.12942928075790405, 0.7101237773895264, 0.4218980073928833, 0.04837345890700796, 0.07593242116272442, 0.07679302915930745, 0.28825865387916555, 0.11758070737123488, 0.2310964703559874, 0.2723955184221267, 0.3065981969237324, 0.22667261511087405, 0.1441660515964031]\n"
     ]
    },
    {
     "name": "stdout",
     "output_type": "stream",
     "text": [
      "Predictions: [0. 1.]\n",
      "Writing ../tmp/ashanti/preds/1673X1095Y_preds.tif\n",
      "Exists locally.\n",
      "(618, 612, 13)\n",
      "The data has been scaled to -1.0000000000000002, 1.0000000000000004\n",
      "[0.0, 0.5493563413619995, 0.2683873474597931, 0.029251545667648315, 0.04625009745359421, 0.03160898145288229, 0.16444647312164307, 0.07672346532344818, 0.14477935060858727, 0.16786651611328124, 0.19184016510844232, 0.16041097193956375, 0.07836406901478768]\n",
      "[0.12942928075790405, 0.708964467048645, 0.42002004384994507, 0.04929427057504654, 0.07280079275369644, 0.08025470450520514, 0.27719365507364246, 0.117844247072935, 0.2205266535282135, 0.26484756469726556, 0.2948520779609678, 0.2305056072771549, 0.15454280227422712]\n",
      "Predictions: [0. 1.]\n",
      "Writing ../tmp/ashanti/preds/1674X1095Y_preds.tif\n",
      "Exists locally.\n",
      "(618, 612, 13)\n",
      "The data has been scaled to -1.0000000000000002, 1.0000000000000004\n",
      "[0.0, 0.5457442998886108, 0.27034813165664673, 0.0272449835203588, 0.04385443031787872, 0.02999923750758171, 0.1654459536075592, 0.07617865800857544, 0.1436859227716923, 0.16860491260886193, 0.19481125175952912, 0.16055195927619934, 0.08080147132277489]\n",
      "[0.13307473063468933, 0.7104299664497375, 0.4235347807407379, 0.0473487451672554, 0.07205310463905334, 0.0759414531290528, 0.3086976408958435, 0.1153513144701719, 0.2506727308034891, 0.302393977344036, 0.33236161470413195, 0.22877864539623258, 0.13909208029508588]\n",
      "Predictions: [0. 1.]\n",
      "Writing ../tmp/ashanti/preds/1675X1095Y_preds.tif\n",
      "Exists locally.\n",
      "(618, 612, 13)\n",
      "The data has been scaled to -1.0, 1.0000000000000002\n",
      "[0.0, 0.5293796062469482, 0.2542991042137146, 0.02864881232380867, 0.048868503980338575, 0.032753489911556244, 0.16660230308771135, 0.08075942657887936, 0.14600126147270204, 0.1696217477321625, 0.1989029288291931, 0.15802997648715972, 0.08324347659945489]\n",
      "[0.12942928075790405, 0.7017271518707275, 0.4125821590423584, 0.04997644983232019, 0.07660029083490372, 0.08169680833816528, 0.2572976350784302, 0.11537434458732604, 0.20567650422453865, 0.24777799770235964, 0.2829199120402332, 0.22483058571815467, 0.1478380128741264]\n",
      "Predictions: [0. 1.]\n",
      "Writing ../tmp/ashanti/preds/1676X1095Y_preds.tif\n",
      "Exists locally.\n",
      "(618, 612, 13)\n",
      "The data has been scaled to -1.0000000000000004, 1.0000000000000004\n",
      "[0.0, 0.5405906438827515, 0.2624870240688324, 0.029350727796554565, 0.04884889647364617, 0.032547492533922195, 0.16085296869277954, 0.0763971246778965, 0.14080188274383545, 0.1617113545536995, 0.18445645570755004, 0.155266023427248, 0.07736456617712975]\n",
      "[0.13307473063468933, 0.7072821855545044, 0.42203018069267273, 0.048021109029650684, 0.07593242451548575, 0.08070608042180535, 0.2757615715265273, 0.11403345130383967, 0.21534765958786, 0.25913001447916006, 0.29575869888067235, 0.22482898831367487, 0.14722337424755097]\n",
      "Predictions: [0. 1.]\n",
      "Writing ../tmp/ashanti/preds/1677X1095Y_preds.tif\n",
      "Exists locally.\n",
      "(618, 612, 13)\n",
      "The data has been scaled to -1.0000000000000004, 1.0000000000000002\n",
      "[0.0, 0.5159355401992798, 0.240095317363739, 0.026596475392580032, 0.04425116255879402, 0.0328655581921339, 0.1574670374393463, 0.07298636138439178, 0.1365434542298317, 0.15630035400390624, 0.18409172296524048, 0.1488987311720848, 0.07272396795451641]\n",
      "[0.13307473063468933, 0.7046976685523987, 0.4191111922264099, 0.0550011470913887, 0.07979705929756165, 0.08900713920593259, 0.28950178623199463, 0.12233547046780582, 0.21131055653095243, 0.2580682516098022, 0.2929538130760191, 0.2499777168035506, 0.1608696453273296]\n",
      "Predictions: [0. 1.]\n",
      "Writing ../tmp/ashanti/preds/1678X1095Y_preds.tif\n",
      "Exists locally.\n",
      "(618, 612, 13)\n",
      "The data has been scaled to -1.0000000000000002, 1.0000000000000004\n",
      "[0.0, 0.5008906722068787, 0.24121995270252228, 0.02864881418645382, 0.046852889098227025, 0.0323033481836319, 0.17219805717468262, 0.07802328579127789, 0.14829297065734864, 0.16989232897758483, 0.19648610502481462, 0.15483097583055497, 0.07812962606549263]\n",
      "[0.12566591799259186, 0.7009269595146179, 0.4190211296081543, 0.05150040853768586, 0.07660029083490372, 0.07620923556387409, 0.27064713090658155, 0.11824545823037624, 0.20841965079307556, 0.2552834153175354, 0.28801544457674016, 0.22276811003684993, 0.1379813626408577]\n",
      "Predictions: [0. 1.]\n",
      "Writing ../tmp/ashanti/preds/1679X1095Y_preds.tif\n",
      "Exists locally.\n",
      "(618, 612, 13)\n",
      "The data has been scaled to -1.0000000000000004, 1.0000000000000004\n",
      "[0.0, 0.4667295813560486, 0.1431150883436203, 0.034149691462516785, 0.0557488352060318, 0.039599206484854224, 0.22744772657752038, 0.09064088016748428, 0.20022890716791153, 0.2267508327960968, 0.2556600719690323, 0.1986625850200653, 0.0987760704010725]\n",
      "[0.15595826506614685, 0.7586060166358948, 0.4477840065956116, 0.07070152871310693, 0.10385289788246155, 0.1276936240494249, 0.3748892009258269, 0.16561310887336728, 0.3038835525512695, 0.36091500222682943, 0.3967483475804328, 0.32765455842018115, 0.23163877800106966]\n",
      "Predictions: [0. 1.]\n",
      "Writing ../tmp/ashanti/preds/1651X1094Y_preds.tif\n",
      "Exists locally.\n",
      "(618, 612, 13)\n",
      "The data has been scaled to -1.0000000000000004, 1.0000000000000002\n",
      "[0.0, 0.46784573793411255, 0.13638019561767578, 0.03425455838441849, 0.05564965307712555, 0.0392996110022068, 0.2175479255616665, 0.08819674290716648, 0.1950690269470215, 0.22013383284211158, 0.24521710723638535, 0.19837139546871185, 0.09785821735858917]\n",
      "[0.12566591799259186, 0.7512004375457764, 0.4376024007797241, 0.07615014910697937, 0.1116960421204567, 0.15400168299674988, 0.343900203704834, 0.18081020414829252, 0.2743297755718231, 0.3267752587795257, 0.35884082317352267, 0.341561521589756, 0.26439215689897533]\n",
      "Predictions: [0. 1.]\n",
      "Writing ../tmp/ashanti/preds/1652X1094Y_preds.tif\n",
      "Exists locally.\n",
      "(618, 612, 13)\n",
      "The data has been scaled to -1.0000000000000004, 1.0000000000000002\n",
      "[0.0, 0.46797311305999756, 0.14087286591529846, 0.03549248352646828, 0.055791891738772394, 0.038895245641469955, 0.20349431037902832, 0.08600632548332214, 0.18049053251743316, 0.2043926864862442, 0.22856817841529847, 0.1953047603368759, 0.09708930812776088]\n",
      "[0.0998319610953331, 0.7459452748298645, 0.42612147331237793, 0.08619821816682816, 0.11670099943876266, 0.14779888093471527, 0.34781673103570915, 0.17463125884532904, 0.2752565413713455, 0.3322983831167218, 0.362353141605854, 0.3341920807957649, 0.26343350410461397]\n",
      "Predictions: [0. 1.]\n",
      "Writing ../tmp/ashanti/preds/1653X1094Y_preds.tif\n",
      "Exists locally.\n",
      "(618, 612, 13)\n",
      "The data has been scaled to -1.0000000000000004, 1.0000000000000004\n",
      "[0.0, 0.4635913670063019, 0.14244942367076874, 0.03410267177969217, 0.0558556504547596, 0.04249637573957443, 0.21407985165715218, 0.09100957214832306, 0.18686880841851233, 0.21285798773169518, 0.24087097942829133, 0.20234613195061685, 0.10320994891226291]\n",
      "[0.15595826506614685, 0.7478100061416626, 0.4332202076911926, 0.0762131106108427, 0.10755803324282168, 0.126516792923212, 0.33850499689578994, 0.16501057520508758, 0.26893920898437496, 0.3251333653926849, 0.3576926156878471, 0.33344859480857847, 0.2394233867526054]\n",
      "Predictions: [0. 1.]\n",
      "Writing ../tmp/ashanti/preds/1654X1094Y_preds.tif\n",
      "Exists locally.\n",
      "(618, 612, 13)\n",
      "The data has been scaled to -1.0000000000000004, 1.0000000000000004\n",
      "[0.0, 0.4477790594100952, 0.12306858599185944, 0.03332717623561621, 0.05239948257803917, 0.04080262407660484, 0.19940489530563354, 0.0852809116244316, 0.17354633808135986, 0.19686837792396544, 0.22432588934898376, 0.1931001365184784, 0.09355983510613441]\n",
      "[0.14004869759082794, 0.7373601794242859, 0.42628729343414307, 0.07290760427713394, 0.10380712896585464, 0.13051884546875953, 0.34830242395401, 0.16621722877025596, 0.2807695895433425, 0.33951236158609377, 0.37137130498886095, 0.3383909910917282, 0.2543797776103019]\n",
      "Predictions: [0. 1.]\n",
      "Writing ../tmp/ashanti/preds/1655X1094Y_preds.tif\n",
      "Exists locally.\n",
      "(618, 612, 13)\n",
      "The data has been scaled to -1.0000000000000004, 1.0000000000000002\n",
      "[0.0, 0.43322187662124634, 0.09849470853805542, 0.03530174866318703, 0.05584802106022835, 0.04316476080566645, 0.19222655445337294, 0.0916631806641817, 0.16512736454606056, 0.18810627460479737, 0.21758267730474473, 0.20824931040406228, 0.10803520679473877]\n",
      "[0.2163468897342682, 0.7378937602043152, 0.41947898268699646, 0.07799649238586426, 0.10849927365779877, 0.13418669924139973, 0.343198299407959, 0.17131246998906133, 0.275684483349323, 0.3307521909475326, 0.3637465834617614, 0.3445729106664657, 0.2608399122953414]\n"
     ]
    },
    {
     "name": "stdout",
     "output_type": "stream",
     "text": [
      "Predictions: [0. 1.]\n",
      "Writing ../tmp/ashanti/preds/1656X1094Y_preds.tif\n",
      "Exists locally.\n",
      "(618, 612, 13)\n",
      "The data has been scaled to -1.0000000000000004, 1.0000000000000004\n",
      "[0.0, 0.4153267741203308, 0.06801068037748337, 0.03757490497082472, 0.060667667724192145, 0.0471961535513401, 0.19652548655867577, 0.09944020360708236, 0.17433423697948455, 0.19653283283114434, 0.22090208828449248, 0.21722148656845092, 0.11918805241584778]\n",
      "[0.1589212715625763, 0.7309352159500122, 0.4099581837654114, 0.08610665798187256, 0.11999695003032684, 0.15649652481079102, 0.3459983170032501, 0.18768582344055174, 0.28083314895629874, 0.33888879865407934, 0.36793205738067625, 0.35249977260828014, 0.285457295179367]\n",
      "Predictions: [0. 1.]\n",
      "Writing ../tmp/ashanti/preds/1657X1094Y_preds.tif\n",
      "Exists locally.\n",
      "(618, 612, 13)\n",
      "The data has been scaled to -1.0000000000000004, 1.0000000000000002\n",
      "[0.0, 0.44244247674942017, 0.10525521636009216, 0.03748942837119103, 0.057900357991456985, 0.04285496473312378, 0.19909971952438354, 0.09393951892852784, 0.17428792491555214, 0.19824139773845673, 0.2260338693857193, 0.2025503359735012, 0.10362421646714211]\n",
      "[0.14004869759082794, 0.7293436527252197, 0.42364826798439026, 0.08009691089391702, 0.1148729436099526, 0.14584574103355408, 0.37209665477275816, 0.1842093348503112, 0.29529630690813047, 0.3663524731993671, 0.399031901359558, 0.367864766716957, 0.28899527490139004]\n",
      "Predictions: [0. 1.]\n",
      "Writing ../tmp/ashanti/preds/1658X1094Y_preds.tif\n",
      "Exists locally.\n",
      "(618, 612, 13)\n",
      "The data has been scaled to -1.0000000000000004, 1.0000000000000002\n",
      "[0.0, 0.39598530530929565, 0.03947938606142998, 0.038696881383657455, 0.05879301205277443, 0.04490730166435242, 0.20609065815806388, 0.09300102330744267, 0.17793449759483337, 0.20324810221791267, 0.23118481934070587, 0.20106197893619537, 0.10250586085021496]\n",
      "[0.12566591799259186, 0.722862958908081, 0.4142438769340515, 0.07635499089956274, 0.11054141595959656, 0.15629816055297852, 0.3687037527561188, 0.19287059828639022, 0.2914474382996559, 0.36279917955398555, 0.3944714665412903, 0.39024892747402185, 0.33737672567367544]\n",
      "Predictions: [0. 1.]\n",
      "Writing ../tmp/ashanti/preds/1659X1094Y_preds.tif\n",
      "Exists locally.\n",
      "(618, 612, 13)\n",
      "The data has been scaled to -1.0000000000000002, 1.0000000000000004\n",
      "[0.0, 0.4301798939704895, 0.08462446928024292, 0.038803692907094955, 0.06030365452170372, 0.045502401888370514, 0.21319904923439026, 0.09375344738364219, 0.18851596415042876, 0.21378509625792502, 0.2412262052297592, 0.19859240353107452, 0.10326888598501682]\n",
      "[0.09478628635406494, 0.7526088953018188, 0.42950519919395447, 0.09039444476366043, 0.12460517138242722, 0.16910047829151154, 0.36807155758142396, 0.20303941592574104, 0.2967340499162673, 0.3597389221191406, 0.39481903910636895, 0.38597581237554546, 0.3246693029999732]\n",
      "Predictions: [0. 1.]\n",
      "Writing ../tmp/ashanti/preds/1660X1094Y_preds.tif\n",
      "Exists locally.\n",
      "(618, 612, 13)\n",
      "The data has been scaled to -1.0000000000000004, 1.0000000000000002\n",
      "[0.0, 0.45602256059646606, 0.13230258226394653, 0.038948655128479004, 0.06044861674308777, 0.04358936119824648, 0.21374838054180145, 0.09376533031463623, 0.1863124966621399, 0.21126016452908516, 0.2408871240913868, 0.1967056140303612, 0.09589775949716568]\n",
      "[0.07088188827037811, 0.7243014574050903, 0.42655858397483826, 0.08389202877879136, 0.11898906826972949, 0.1445029377937317, 0.3645532727241516, 0.1950665302574634, 0.29131920337677, 0.34938444495201104, 0.38575522601604456, 0.3722128748893737, 0.29921586215496043]\n",
      "Predictions: [0. 1.]\n",
      "Writing ../tmp/ashanti/preds/1661X1094Y_preds.tif\n",
      "Exists locally.\n",
      "(618, 612, 13)\n",
      "The data has been scaled to -1.0000000000000002, 1.0000000000000002\n",
      "[0.0, 0.46349477767944336, 0.16336697340011597, 0.035599298775196075, 0.05760280787944794, 0.041901275515556335, 0.20090028643608093, 0.09513800032436848, 0.1755323052406311, 0.20081645324826242, 0.22881447672843933, 0.1816666379570961, 0.0913747102022171]\n",
      "[0.07088188827037811, 0.7254592180252075, 0.4356273114681244, 0.08169680088758469, 0.11538216136395851, 0.14929427206516266, 0.3351949453353882, 0.1884273752570152, 0.2730620101094245, 0.32349492013454434, 0.3559111952781676, 0.3657782316207885, 0.2850086614489555]\n",
      "Predictions: [0. 1.]\n",
      "Writing ../tmp/ashanti/preds/1662X1094Y_preds.tif\n",
      "Exists locally.\n",
      "(618, 612, 13)\n",
      "The data has been scaled to -1.0000000000000004, 1.0000000000000004\n",
      "[0.0, 0.4574238657951355, 0.15099872648715973, 0.035500116646289825, 0.0626993179321289, 0.0471046008169651, 0.19934096857905387, 0.10533462762832642, 0.17569401413202285, 0.19889777079224585, 0.22699563652276994, 0.20292581617832184, 0.11549150943756104]\n",
      "[0.07088188827037811, 0.6997216939926147, 0.4160555899143219, 0.09201981127262115, 0.12790303900837893, 0.15504692494869232, 0.34669328629970525, 0.1969627864658831, 0.2831168860197067, 0.3239249587059021, 0.36472017318010314, 0.3572251170873642, 0.28186773359775524]\n",
      "Predictions: [0. 1.]\n",
      "Writing ../tmp/ashanti/preds/1663X1094Y_preds.tif\n",
      "Exists locally.\n",
      "(618, 612, 13)\n",
      "The data has been scaled to -1.0000000000000004, 1.0000000000000002\n",
      "[0.0, 0.4798056483268738, 0.17998474836349487, 0.03224994242191315, 0.05754940211772919, 0.04349967390298844, 0.1928973525762558, 0.09399986267089844, 0.16963648051023483, 0.19208134189248086, 0.21992477849125863, 0.1868109792470932, 0.10288635715842247]\n",
      "[0.08943852037191391, 0.7177820801734924, 0.42715972661972046, 0.07508056461811062, 0.1112993061542511, 0.13009841740131378, 0.32148955464363094, 0.17446384429931636, 0.26281610727310173, 0.30325288623571395, 0.33770404011011107, 0.3278178185224533, 0.25251447707414626]\n",
      "Predictions: [0. 1.]\n",
      "Writing ../tmp/ashanti/preds/1664X1094Y_preds.tif\n",
      "Exists locally.\n",
      "(618, 612, 13)\n",
      "The data has been scaled to -1.0000000000000002, 1.0000000000000002\n",
      "[0.0, 0.4309746026992798, 0.0956902951002121, 0.02690165489912033, 0.05059891566634178, 0.03680476173758507, 0.16890211403369904, 0.08417734503746033, 0.14989359229803084, 0.17146563529968262, 0.1932110957801342, 0.1697392173111439, 0.09084499031305313]\n",
      "[0.1855471432209015, 0.7443314790725708, 0.4499782919883728, 0.06950484216213226, 0.10457823127508163, 0.11679255217313766, 0.3154039680957794, 0.16378433704376216, 0.2642246767878531, 0.30596886277198787, 0.3373291552066803, 0.30464907437562927, 0.2291817426681516]\n",
      "Predictions: [0. 1.]\n",
      "Writing ../tmp/ashanti/preds/1665X1094Y_preds.tif\n",
      "Exists locally.\n",
      "(618, 612, 13)\n",
      "The data has been scaled to -1.0000000000000004, 1.0000000000000004\n",
      "[0.0, 0.44528263807296753, 0.17346104979515076, 0.02802753448486328, 0.04876596406102181, 0.03943774979561567, 0.15777743831276894, 0.08191032335162163, 0.14397565871477128, 0.16013272255659103, 0.18090064227581024, 0.16883276849985124, 0.08850831165909767]\n",
      "[0.1135486364364624, 0.7426919937133789, 0.45520883798599243, 0.055692689307034006, 0.088496832922101, 0.08232958652079105, 0.2881971597671509, 0.12708938270807266, 0.22803483605384822, 0.26594158411026003, 0.2957812622189522, 0.23878340423107142, 0.16149619221687309]\n",
      "Predictions: [0. 1.]\n",
      "Writing ../tmp/ashanti/preds/1666X1094Y_preds.tif\n",
      "Exists locally.\n",
      "(618, 612, 13)\n",
      "The data has been scaled to -1.0, 1.0000000000000002\n",
      "[0.0, 0.5133609175682068, 0.23704896867275238, 0.03309682011604309, 0.05670252442359924, 0.03937196526676416, 0.16260014474391937, 0.08987292051315307, 0.14947833120822906, 0.1703840397298336, 0.20006199032068253, 0.16025515869259835, 0.08548574410378933]\n",
      "[0.09478628635406494, 0.7515819668769836, 0.4628884196281433, 0.06779583543539047, 0.10189975053071976, 0.10041815675795072, 0.3150147333741187, 0.15811737179756158, 0.26181114912033077, 0.297277221083641, 0.3289835587143898, 0.2914248049259185, 0.2021239973604678]\n",
      "Predictions: [0. 1.]\n",
      "Writing ../tmp/ashanti/preds/1667X1094Y_preds.tif\n",
      "Exists locally.\n",
      "(618, 612, 13)\n",
      "The data has been scaled to -1.0000000000000004, 1.0000000000000002\n",
      "[0.0, 0.5023714303970337, 0.2216724455356598, 0.036752288974821565, 0.0641489326953888, 0.0437834931537509, 0.19314121678471566, 0.0991004105657339, 0.1732094705104828, 0.1975350946187973, 0.22146138921380043, 0.16806992143392563, 0.08977874964475632]\n",
      "[0.08943852037191391, 0.7267052531242371, 0.4356846213340759, 0.07400625944137573, 0.10050354897975922, 0.11505302786827087, 0.3083009123802185, 0.15383535400032955, 0.25408712774515146, 0.2981308698654174, 0.3253431439399718, 0.2907648563385008, 0.21620547920465424]\n"
     ]
    },
    {
     "name": "stdout",
     "output_type": "stream",
     "text": [
      "Predictions: [0. 1.]\n",
      "Writing ../tmp/ashanti/preds/1668X1094Y_preds.tif\n",
      "Exists locally.\n",
      "(618, 612, 13)\n",
      "The data has been scaled to -1.0000000000000002, 1.0000000000000002\n",
      "[0.0, 0.5377594828605652, 0.25204503536224365, 0.03465323895215988, 0.058555318601429464, 0.041306172125041486, 0.18584725260734558, 0.09537424854934215, 0.1623064696788788, 0.1834116756916046, 0.21062272191047668, 0.17903058230876923, 0.0977042056620121]\n",
      "[0.07088188827037811, 0.6901984810829163, 0.40137016773223877, 0.0633554607629776, 0.09069962799549103, 0.09649805724620819, 0.29420748054981216, 0.13507039695978162, 0.24507115855813016, 0.282437527179718, 0.310971075296402, 0.2675252109766003, 0.19559706076979638]\n",
      "Predictions: [0. 1.]\n",
      "Writing ../tmp/ashanti/preds/1669X1094Y_preds.tif\n",
      "Exists locally.\n",
      "(618, 612, 13)\n",
      "The data has been scaled to -1.0000000000000002, 1.0000000000000004\n",
      "[0.0, 0.5503630638122559, 0.2736203670501709, 0.03299763426184654, 0.056000612676143646, 0.0401541143655777, 0.18473474830389022, 0.09301976189017296, 0.16280850991606713, 0.18464985191822053, 0.21158381402492524, 0.17212373465299607, 0.09105937592685223]\n",
      "[0.07088188827037811, 0.6897413730621338, 0.4037221074104309, 0.05760280787944794, 0.08397936709225175, 0.08895246684551239, 0.2763485312461853, 0.1277318187057971, 0.22926140427589414, 0.26572647988796233, 0.29495119452476465, 0.2550203651189804, 0.1778833933174609]\n",
      "Predictions: [0. 1.]\n",
      "Writing ../tmp/ashanti/preds/1670X1094Y_preds.tif\n",
      "Exists locally.\n",
      "(618, 612, 13)\n",
      "The data has been scaled to -1.0000000000000004, 1.0000000000000002\n",
      "[0.0, 0.5420998334884644, 0.2730066776275635, 0.03127002045512199, 0.053345538675785065, 0.03603882770985365, 0.17975127696990967, 0.08807418942451477, 0.15870625600218774, 0.18110874816775321, 0.20764864161610602, 0.17247745618224145, 0.09003546498715878]\n",
      "[0.09478628635406494, 0.6971583962440491, 0.4162551760673523, 0.05204852670431137, 0.0794995054602623, 0.08115510642528534, 0.29332980811595905, 0.12145401351153841, 0.24095514118671416, 0.2832226887345314, 0.3125159502029417, 0.2406319648027419, 0.15963559821248047]\n",
      "Predictions: [0. 1.]\n",
      "Writing ../tmp/ashanti/preds/1671X1094Y_preds.tif\n",
      "Exists locally.\n",
      "(618, 612, 13)\n",
      "The data has been scaled to -1.0, 1.0000000000000002\n",
      "[0.0, 0.5398519039154053, 0.26505231857299805, 0.029343098402023315, 0.04940108209848404, 0.03185320645570755, 0.18284885585308075, 0.07879766300320626, 0.16231552958488465, 0.18605435118079186, 0.21194361373782158, 0.16365847140550613, 0.08153198026120663]\n",
      "[0.13307473063468933, 0.7077593803405762, 0.4264715313911438, 0.053200580179691315, 0.07975127547979355, 0.08160524815320969, 0.2989871844649306, 0.12288920283317561, 0.24125472754240035, 0.28534670472145074, 0.31604825854301444, 0.2457419455051422, 0.15665780156850773]\n",
      "Predictions: [0. 1.]\n",
      "Writing ../tmp/ashanti/preds/1672X1094Y_preds.tif\n",
      "Exists locally.\n",
      "(618, 612, 13)\n",
      "The data has been scaled to -1.0000000000000002, 1.0000000000000004\n",
      "[0.0, 0.5264166593551636, 0.24519136548042297, 0.029449913650751114, 0.05050737801939249, 0.032590802758932114, 0.18854864984750747, 0.08168734535574913, 0.16564045548439027, 0.1894452154636383, 0.2158028893172741, 0.16619669422507286, 0.08412653766572475]\n",
      "[0.15595826506614685, 0.7110217809677124, 0.42814889550209045, 0.05825131759047508, 0.08670176565647125, 0.09240100532770157, 0.30855268239974976, 0.13404178991913793, 0.2530598938465117, 0.29870670437812796, 0.32779791355133053, 0.27798241078853586, 0.19425237029790873]\n",
      "Predictions: [0. 1.]\n",
      "Writing ../tmp/ashanti/preds/1673X1094Y_preds.tif\n",
      "Exists locally.\n",
      "(618, 612, 13)\n",
      "The data has been scaled to -1.0000000000000002, 1.0000000000000002\n",
      "[0.0, 0.5371158123016357, 0.2638068199157715, 0.029243916273117065, 0.04959945008158684, 0.03278218116611242, 0.17960022240877152, 0.08244129419326782, 0.15741173326969146, 0.18057624921202658, 0.20910057425498962, 0.16478070467710496, 0.08473017923533917]\n",
      "[0.14004869759082794, 0.7158821821212769, 0.43120330572128296, 0.054749369621276855, 0.08425268530845642, 0.08674709498882287, 0.30422732532024327, 0.1311870515346527, 0.2514210999011992, 0.2971653684973715, 0.32558986395597445, 0.26217567324638363, 0.17320952787995336]\n",
      "Predictions: [0. 1.]\n",
      "Writing ../tmp/ashanti/preds/1674X1094Y_preds.tif\n",
      "Exists locally.\n",
      "(618, 612, 13)\n",
      "The data has been scaled to -1.0000000000000004, 1.0000000000000002\n",
      "[0.0, 0.5451678037643433, 0.27007943391799927, 0.026298925280570984, 0.045296408236026764, 0.03107151612639427, 0.16789539456367492, 0.07638812884688377, 0.14771708622574806, 0.1712286427617073, 0.20045832097530364, 0.15969892591238022, 0.07988018840551377]\n",
      "[0.14004869759082794, 0.7193895578384399, 0.4319089949131012, 0.04411928858608002, 0.07343076877295968, 0.07344929873943329, 0.29800108075141907, 0.11674785874783987, 0.24795426726341246, 0.28949408531188964, 0.31851663589477536, 0.22717147544026367, 0.1360661655664444]\n",
      "Predictions: [0. 1.]\n",
      "Writing ../tmp/ashanti/preds/1675X1094Y_preds.tif\n",
      "Exists locally.\n",
      "(618, 612, 13)\n",
      "The data has been scaled to -1.0000000000000004, 1.0000000000000002\n",
      "[0.0, 0.5248689651489258, 0.259424090385437, 0.02410018304362893, 0.04584573209285736, 0.03025101125240326, 0.17440489083528518, 0.07806831076741219, 0.15216294378042222, 0.17667104229331015, 0.20521491169929504, 0.15935008376836776, 0.0773276798427105]\n",
      "[0.12566591799259186, 0.7052789926528931, 0.4170645773410797, 0.04429909903556103, 0.07519645988941193, 0.07644770182669162, 0.28222995400428735, 0.11571202166378498, 0.22211890146136284, 0.2721023008227347, 0.3048890784382818, 0.2177538610994815, 0.13544624522328375]\n",
      "Predictions: [0. 1.]\n",
      "Writing ../tmp/ashanti/preds/1676X1094Y_preds.tif\n",
      "Exists locally.\n",
      "(618, 612, 13)\n",
      "The data has been scaled to -1.0000000000000004, 1.0000000000000004\n",
      "[0.0, 0.524977445602417, 0.2601317763328552, 0.024399176239967346, 0.04377148170024157, 0.0321049839258194, 0.17389944195747375, 0.07415869273245335, 0.1506348192691803, 0.17288491725921631, 0.19834095239639282, 0.1545338325202465, 0.07446018010377883]\n",
      "[0.12566591799259186, 0.7010202407836914, 0.4161142408847809, 0.050557762011885644, 0.0798046886920929, 0.08245212584733963, 0.27204182147979733, 0.11944150067865844, 0.21035869568586346, 0.25869961678981773, 0.2942874908447264, 0.2269613951444626, 0.15049746409058565]\n",
      "Predictions: [0. 1.]\n",
      "Writing ../tmp/ashanti/preds/1677X1094Y_preds.tif\n",
      "Exists locally.\n",
      "(618, 612, 13)\n",
      "The data has been scaled to -1.0000000000000004, 1.0000000000000002\n",
      "[0.0, 0.5073893070220947, 0.236104354262352, 0.027994450461119414, 0.04872167445719242, 0.037399861961603165, 0.16734568774700165, 0.080433264747262, 0.1431221455335617, 0.1637700080871582, 0.18948612809181214, 0.15568408071994783, 0.08409230671823024]\n",
      "[0.12566591799259186, 0.6944709420204163, 0.4084243178367615, 0.053499141708016396, 0.0762211725115776, 0.08845655620098114, 0.26646224260330176, 0.12326858751475804, 0.20202228426933289, 0.25036850869655586, 0.28690721392631524, 0.23785044401884076, 0.15538142472505567]\n",
      "Predictions: [0. 1.]\n",
      "Writing ../tmp/ashanti/preds/1678X1094Y_preds.tif\n",
      "Exists locally.\n",
      "(618, 612, 13)\n",
      "The data has been scaled to -1.0000000000000004, 1.0000000000000004\n",
      "[0.0, 0.5078927278518677, 0.23505574464797974, 0.030039155390113592, 0.05103440769016743, 0.037445638328790665, 0.1677500605583191, 0.0806177519261837, 0.1428960382938385, 0.16326862275600434, 0.19158750772476196, 0.1620076410472393, 0.08821345083415508]\n",
      "[0.12942928075790405, 0.7000620365142822, 0.41083604097366333, 0.051999298855662325, 0.07575609683990478, 0.08600543215870841, 0.24647288471460302, 0.12139227055013178, 0.19375938028097137, 0.23180924057960497, 0.26274372935295087, 0.23818766772747033, 0.1511666677892207]\n",
      "Predictions: [0. 1.]\n",
      "Writing ../tmp/ashanti/preds/1679X1094Y_preds.tif\n",
      "Exists locally.\n",
      "(618, 612, 13)\n",
      "The data has been scaled to -1.0000000000000004, 1.0000000000000004\n",
      "[0.0, 0.49808937311172485, 0.22486600279808044, 0.029198139905929565, 0.04951879568397999, 0.03360036760568619, 0.16949722170829773, 0.08012842684984207, 0.14456268548965454, 0.1666157975792885, 0.19299980998039246, 0.1526050679385662, 0.07772261314094067]\n",
      "[0.13307473063468933, 0.7008447647094727, 0.4130128026008606, 0.053101398050785065, 0.07898342460393905, 0.08794825263321393, 0.2525520622730255, 0.12419061139225936, 0.20320227146148678, 0.23936524242162704, 0.2693102329969406, 0.23508447110652894, 0.1481931537389755]\n"
     ]
    },
    {
     "name": "stdout",
     "output_type": "stream",
     "text": [
      "Predictions: [0. 1.]\n",
      "Writing ../tmp/ashanti/preds/1680X1094Y_preds.tif\n",
      "Exists locally.\n",
      "(618, 614, 13)\n",
      "The data has been scaled to -1.0000000000000002, 1.0000000000000004\n",
      "[0.0, 0.4676573872566223, 0.13413017988204956, 0.03790340945124626, 0.05882906414568424, 0.04170290753245354, 0.21930266916751862, 0.09508775196969509, 0.19001587569713593, 0.21485179662704468, 0.24933497473597527, 0.21224956661462785, 0.10763830602169037]\n",
      "[0.13307473063468933, 0.7508922815322876, 0.43572545051574707, 0.06909285485744476, 0.10299839824438095, 0.12109559774398804, 0.33850613236427307, 0.16176000118255615, 0.2738093042373657, 0.3228741610050201, 0.3570868289470672, 0.34275124937295914, 0.2562622758746147]\n",
      "Predictions: [0. 1.]\n",
      "Writing ../tmp/ashanti/preds/1652X1093Y_preds.tif\n",
      "Exists locally.\n",
      "(618, 614, 13)\n",
      "The data has been scaled to -1.0000000000000004, 1.0000000000000002\n",
      "[0.0, 0.48570626974105835, 0.1659345179796219, 0.035797666758298874, 0.0540812573954463, 0.039067733958363535, 0.20279240608215332, 0.08734980434179306, 0.17368867993354797, 0.1958614756166935, 0.22393282517790794, 0.19712762638926506, 0.10027239121496677]\n",
      "[0.14004869759082794, 0.7567247152328491, 0.44937342405319214, 0.0784924104809761, 0.10800335556268692, 0.12339971214532852, 0.3335011899471283, 0.16106518805026998, 0.27231482416391367, 0.3218842470645904, 0.3515225553512573, 0.3148602122068405, 0.23423971429467186]\n",
      "Predictions: [0. 1.]\n",
      "Writing ../tmp/ashanti/preds/1653X1093Y_preds.tif\n",
      "Exists locally.\n",
      "(618, 614, 13)\n",
      "The data has been scaled to -1.0000000000000002, 1.0000000000000002\n",
      "[0.0, 0.4561825394630432, 0.13530150055885315, 0.034302279353141785, 0.051697567105293274, 0.03814755380153656, 0.2114458318054676, 0.08143120259046555, 0.18200628876686095, 0.20970331341028214, 0.24020142138004302, 0.1795141014456749, 0.08993234165012837]\n",
      "[0.17547965049743652, 0.7727482318878174, 0.452994704246521, 0.0656146179139614, 0.09709828972816467, 0.10994683288037774, 0.33914703130722046, 0.15340989604592323, 0.27880660772323607, 0.3309916853904723, 0.3619069483876228, 0.3238143354654312, 0.2164935927093029]\n",
      "Predictions: [0. 1.]\n",
      "Writing ../tmp/ashanti/preds/1654X1093Y_preds.tif\n",
      "Exists locally.\n",
      "(618, 614, 13)\n",
      "The data has been scaled to -1.0000000000000004, 1.0000000000000002\n",
      "[0.0, 0.4482129216194153, 0.12382277846336365, 0.03319600224494934, 0.05074387788772583, 0.035904478281736374, 0.21200121939182281, 0.07907036729156972, 0.18325205087661744, 0.20907007575035094, 0.23761089086532594, 0.17650650769472123, 0.08509590148925782]\n",
      "[0.15595826506614685, 0.7623785734176636, 0.4486504793167114, 0.07003930978477, 0.10199822604656218, 0.12315556406974792, 0.3321549776196479, 0.163064386844635, 0.26903897523880005, 0.32104097366333006, 0.35123760223388667, 0.33015416145324705, 0.23694685548543926]\n",
      "Predictions: [0. 1.]\n",
      "Writing ../tmp/ashanti/preds/1655X1093Y_preds.tif\n",
      "Exists locally.\n",
      "(618, 614, 13)\n",
      "The data has been scaled to -1.0000000000000002, 1.0\n",
      "[0.0, 0.45843589305877686, 0.13571977615356445, 0.037003129720687866, 0.05679408088326454, 0.04100099205970764, 0.19580377638339996, 0.08977838277816773, 0.16933654859662056, 0.19195410028100013, 0.21887875556945802, 0.20222423776984214, 0.10076294369995593]\n",
      "[0.15595826506614685, 0.7532327175140381, 0.4353314936161041, 0.06500343233346939, 0.09269556753337382, 0.11048108249902713, 0.32550546526908875, 0.14864717960357665, 0.2638658255338669, 0.3108661815524101, 0.3407301115989685, 0.31432441562414165, 0.23043442785739895]\n",
      "Predictions: [0. 1.]\n",
      "Writing ../tmp/ashanti/preds/1656X1093Y_preds.tif\n",
      "Exists locally.\n",
      "(618, 614, 13)\n",
      "The data has been scaled to -1.0, 1.0000000000000002\n",
      "[0.0, 0.46643832325935364, 0.14798203110694885, 0.0356500456482172, 0.05445181950926781, 0.03935301676392555, 0.2059967964887619, 0.08705443128943444, 0.18101874217391015, 0.20447830796241762, 0.23076149225234985, 0.1943593455851078, 0.09659326054155827]\n",
      "[0.18796128034591675, 0.7615174651145935, 0.4445068836212158, 0.07055008411407471, 0.10157096117734904, 0.12449835985898972, 0.3459983170032501, 0.16171582102775572, 0.2803809595108032, 0.3365040075778961, 0.36863645225763303, 0.3317152333259581, 0.24223444923758503]\n",
      "Predictions: [0. 1.]\n",
      "Writing ../tmp/ashanti/preds/1657X1093Y_preds.tif\n",
      "Exists locally.\n",
      "(618, 614, 13)\n",
      "The data has been scaled to -1.0, 1.0000000000000002\n",
      "[0.0, 0.46792641282081604, 0.14965490996837616, 0.035604632608592514, 0.05607147932052612, 0.037399861961603165, 0.2083924561738968, 0.08908742494881153, 0.18629216611385346, 0.21208613455295564, 0.23844940423965455, 0.19142876029014588, 0.09376245938241481]\n",
      "[0.15595826506614685, 0.7482787370681763, 0.4400808811187744, 0.06739909946918488, 0.09779506921768188, 0.11900511384010315, 0.38955683976411815, 0.15587948262691498, 0.3086656248569488, 0.3844113194942474, 0.41216422438621514, 0.3139417946338653, 0.23595535948872562]\n",
      "Predictions: [0. 1.]\n",
      "Writing ../tmp/ashanti/preds/1658X1093Y_preds.tif\n",
      "Exists locally.\n",
      "(618, 614, 13)\n",
      "The data has been scaled to -1.0000000000000002, 1.0000000000000004\n",
      "[0.0, 0.37988731265068054, 0.01974634639918804, 0.041006579361855984, 0.06240176782011986, 0.04644846171140671, 0.1942836271226406, 0.10102284729480743, 0.1667255848646164, 0.19038570955395698, 0.22224123716354371, 0.21098697796463967, 0.11282909326255322]\n",
      "[0.12942928075790405, 0.7376391291618347, 0.42301470041275024, 0.07696610763669011, 0.10846833027899264, 0.14216885313391683, 0.341286276578903, 0.18324485063552853, 0.2731797915697098, 0.3295937138795852, 0.36482199609279625, 0.3825663620233536, 0.3160557517409324]\n",
      "Predictions: [0. 1.]\n",
      "Writing ../tmp/ashanti/preds/1659X1093Y_preds.tif\n",
      "Exists locally.\n",
      "(618, 614, 13)\n",
      "The data has been scaled to -1.0000000000000002, 1.0000000000000004\n",
      "[0.0, 0.42781347036361694, 0.08058621734380722, 0.03830014541745186, 0.06012572217732668, 0.04499885439872742, 0.21906498894095422, 0.09571365475654602, 0.19574174791574478, 0.2226606011390686, 0.2502427577972412, 0.19765253737568855, 0.10248568832874298]\n",
      "[0.1135486364364624, 0.7336934804916382, 0.4198192358016968, 0.07719539105892181, 0.11250476539134979, 0.15280383825302124, 0.35539788007736206, 0.18995202288031574, 0.2879130065441131, 0.34261219203472126, 0.3740038630366325, 0.3721349748969078, 0.30436709821224206]\n",
      "Predictions: [0. 1.]\n",
      "Writing ../tmp/ashanti/preds/1660X1093Y_preds.tif\n",
      "Exists locally.\n",
      "(618, 614, 13)\n",
      "The data has been scaled to -1.0000000000000002, 1.0000000000000002\n",
      "[0.0, 0.42234086990356445, 0.060079097747802734, 0.03830014541745186, 0.05969329550862312, 0.045703076347708704, 0.21615764513611793, 0.09512867301702499, 0.18954328656196595, 0.21260109543800354, 0.24385373041033745, 0.19364950224757194, 0.10127750344574452]\n",
      "[0.09478628635406494, 0.7179703712463379, 0.4078521132469177, 0.0793457920104265, 0.11535464793443674, 0.15280383825302124, 0.35509270429611206, 0.19455329716205597, 0.2898738297820091, 0.347401795387268, 0.3790723803639412, 0.3718845969438553, 0.30023533970117566]\n",
      "Predictions: [0. 1.]\n",
      "Writing ../tmp/ashanti/preds/1661X1093Y_preds.tif\n",
      "Exists locally.\n",
      "(618, 614, 13)\n",
      "The data has been scaled to -1.0000000000000002, 1.0000000000000004\n",
      "[0.0, 0.4367256760597229, 0.09526638686656952, 0.03759822994470596, 0.057892728596925735, 0.03990234062075615, 0.20320439338684082, 0.09202321141958236, 0.177084371894598, 0.20208575665950776, 0.2287977519631386, 0.18736486554145812, 0.091389454677701]\n",
      "[0.07088188827037811, 0.7357990741729736, 0.43904340267181396, 0.07080186158418655, 0.10276544101536272, 0.13470664620399475, 0.3508049249649048, 0.17238829419016835, 0.2846098446846008, 0.34299515157938004, 0.3746146011352538, 0.34816970139741893, 0.2799803414940834]\n",
      "Predictions: [0. 1.]\n",
      "Writing ../tmp/ashanti/preds/1662X1093Y_preds.tif\n",
      "Exists locally.\n",
      "(618, 614, 13)\n",
      "The data has been scaled to -1.0000000000000002, 1.0000000000000002\n",
      "[0.0, 0.4676094651222229, 0.17193001508712769, 0.03814755380153656, 0.05952858600765467, 0.04230564087629318, 0.20370031893253326, 0.09643455028533936, 0.1750182855129242, 0.2018291625380516, 0.22934444814920427, 0.1876020374894142, 0.09415555998682976]\n",
      "[0.07088188827037811, 0.7153042554855347, 0.43865272402763367, 0.07618357248604297, 0.10863656960427759, 0.12545821666717524, 0.3766002953052521, 0.17004485666751862, 0.30789317846298214, 0.37053787469863886, 0.39831497192382803, 0.3345999699831009, 0.25893982470035554]\n"
     ]
    },
    {
     "name": "stdout",
     "output_type": "stream",
     "text": [
      "Predictions: [0. 1.]\n",
      "Writing ../tmp/ashanti/preds/1663X1093Y_preds.tif\n",
      "Exists locally.\n",
      "(618, 614, 13)\n",
      "The data has been scaled to -1.0000000000000002, 1.0000000000000004\n",
      "[0.0, 0.4761112928390503, 0.17515793442726135, 0.03799496591091156, 0.06083492770791054, 0.04240482300519943, 0.18559548258781433, 0.09602974571287631, 0.16043097734451295, 0.18033638060092927, 0.20838294580578803, 0.18826314494013785, 0.09525097027420998]\n",
      "[0.08943852037191391, 0.7128449082374573, 0.42589426040649414, 0.06889448314905167, 0.10220492631196976, 0.11740291118621826, 0.32410162687301636, 0.1593903250992298, 0.2599884474277496, 0.30617575794458385, 0.33942978620529174, 0.3218635457754135, 0.24451982498168937]\n",
      "Predictions: [0. 1.]\n",
      "Writing ../tmp/ashanti/preds/1664X1093Y_preds.tif\n",
      "Exists locally.\n",
      "(618, 614, 13)\n",
      "The data has been scaled to -1.0000000000000002, 1.0000000000000002\n",
      "[0.0, 0.4595273733139038, 0.1527761071920395, 0.03329518437385559, 0.05342643722891808, 0.03849851340055466, 0.17070268094539642, 0.08489035502076149, 0.14829233646392823, 0.16759587869048118, 0.19791288554668426, 0.17550802528858184, 0.08736152566969395]\n",
      "[0.21433384716510773, 0.740622878074646, 0.45369020104408264, 0.06517624154686927, 0.095704585313797, 0.1116960421204567, 0.3136034309864044, 0.15065728142857548, 0.24876781880855559, 0.29542837977409353, 0.3269764983654022, 0.3129101955890655, 0.22980422377586363]\n",
      "Predictions: [0. 1.]\n",
      "Writing ../tmp/ashanti/preds/1665X1093Y_preds.tif\n",
      "Exists locally.\n",
      "(618, 614, 13)\n",
      "The data has been scaled to -1.0000000000000002, 1.0000000000000002\n",
      "[0.0, 0.4771188199520111, 0.17965425550937653, 0.03005264326930046, 0.04894331097602844, 0.038948655128479004, 0.17499809727072715, 0.08312795370817185, 0.15461030960083008, 0.1758759903907776, 0.20336175113916397, 0.17196466714143754, 0.0867820280045271]\n",
      "[0.16744396090507507, 0.7405655384063721, 0.4462988078594208, 0.0652678997814655, 0.09455253183841705, 0.10391544498503208, 0.30168689787387837, 0.14792555212974548, 0.2422320586442947, 0.28268901824951165, 0.312407242655754, 0.29037301540374755, 0.2085204795002937]\n",
      "Predictions: [0. 1.]\n",
      "Writing ../tmp/ashanti/preds/1666X1093Y_preds.tif\n",
      "Exists locally.\n",
      "(618, 614, 13)\n",
      "The data has been scaled to -1.0000000000000002, 1.0000000000000002\n",
      "[0.0, 0.46669626235961914, 0.16486740112304688, 0.034103915095329285, 0.05400167778134346, 0.041535340547561646, 0.17740139365196228, 0.08867782771587372, 0.15636587142944336, 0.1789783376455307, 0.20516519665718078, 0.17775918036699295, 0.09278278194367885]\n",
      "[0.0998319610953331, 0.7232309579849243, 0.4318394064903259, 0.07620355486869812, 0.110704205930233, 0.14053283482789986, 0.30690470337867737, 0.1833995699882507, 0.25486478209495544, 0.289908013343811, 0.3219539225101471, 0.34569803953170775, 0.2812079787254333]\n",
      "Predictions: [0. 1.]\n",
      "Writing ../tmp/ashanti/preds/1667X1093Y_preds.tif\n",
      "Exists locally.\n",
      "(618, 614, 13)\n",
      "The data has been scaled to -1.0000000000000007, 1.0000000000000004\n",
      "[0.0, 0.4768155813217163, 0.1816747784614563, 0.03949631251394749, 0.0625925064086914, 0.04840791650116444, 0.19749751687049866, 0.10088444866240025, 0.1738978274166584, 0.19539226055145265, 0.22335965931415558, 0.1910996200144291, 0.1083342581987381]\n",
      "[0.0998319610953331, 0.7094259262084961, 0.4251512289047241, 0.07510490715503693, 0.10908401899039744, 0.1406991231441497, 0.30899518728256226, 0.17542725801467896, 0.24866530075669288, 0.2905518487095831, 0.32092956572771064, 0.3459012305736542, 0.27060695141553875]\n",
      "Predictions: [0. 1.]\n",
      "Writing ../tmp/ashanti/preds/1668X1093Y_preds.tif\n",
      "Exists locally.\n",
      "(618, 614, 13)\n",
      "The data has been scaled to -1.0000000000000002, 1.0000000000000004\n",
      "[0.0, 0.5366930961608887, 0.24704241752624512, 0.03231996275484562, 0.05560387670993805, 0.042305639050900935, 0.18929579854011536, 0.09449176177382469, 0.16713538020849228, 0.18989141196012496, 0.21422428861260415, 0.17580799475312234, 0.0932776092737913]\n",
      "[0.07088188827037811, 0.6928918361663818, 0.4043412208557129, 0.05919737368822098, 0.08705271780490875, 0.09672252982854843, 0.2912817212939262, 0.13659755945205687, 0.24190134197473526, 0.2802875536680221, 0.3106104695796966, 0.2808847880363464, 0.1979863919317722]\n",
      "Predictions: [0. 1.]\n",
      "Writing ../tmp/ashanti/preds/1669X1093Y_preds.tif\n",
      "Exists locally.\n",
      "(618, 614, 13)\n",
      "The data has been scaled to -1.0000000000000002, 1.0000000000000002\n",
      "[0.0, 0.5516663789749146, 0.27120107412338257, 0.03025101125240326, 0.05244525894522667, 0.037340030409395694, 0.18324827432632446, 0.08846131712198257, 0.15987679928541185, 0.1823732079565525, 0.20795558035373687, 0.17139761939644813, 0.09068679079413414]\n",
      "[0.08943852037191391, 0.6953790187835693, 0.40788084268569946, 0.05400168150663376, 0.0787518173456192, 0.08745165698230264, 0.2823395946621894, 0.12446498297154895, 0.22946250393986697, 0.26872534334659576, 0.2992382451891899, 0.24970594495534895, 0.1745214276015758]\n",
      "Predictions: [0. 1.]\n",
      "Writing ../tmp/ashanti/preds/1670X1093Y_preds.tif\n",
      "Exists locally.\n",
      "(618, 614, 13)\n",
      "The data has been scaled to -1.0000000000000002, 1.0000000000000004\n",
      "[0.0, 0.554675281047821, 0.2825291156768799, 0.02845044620335102, 0.051598384976387024, 0.03540093269199133, 0.18495461344718933, 0.08473454892635346, 0.1616943919658661, 0.184477266818285, 0.21070568561553954, 0.17254124566912651, 0.09104752212762833]\n",
      "[0.08943852037191391, 0.6957982778549194, 0.41445475816726685, 0.05574653632938858, 0.07994964718818665, 0.08995193243026733, 0.30265118002891533, 0.1249123173207044, 0.2389715808629989, 0.28741827428340894, 0.3206949183344839, 0.24994759082794188, 0.17590272724628447]\n",
      "Predictions: [0. 1.]\n",
      "Writing ../tmp/ashanti/preds/1671X1093Y_preds.tif\n",
      "Exists locally.\n",
      "(618, 614, 13)\n",
      "The data has been scaled to -1.0000000000000002, 1.0000000000000004\n",
      "[0.0, 0.5459313988685608, 0.276100754737854, 0.02813748061656952, 0.04966772176325321, 0.032700084149837494, 0.1732509434223175, 0.08071591585874557, 0.15019042208790778, 0.17014043733477593, 0.19726807475090027, 0.1691878120601177, 0.08363301746547222]\n",
      "[0.0998319610953331, 0.705057680606842, 0.4271923303604126, 0.05449759587645531, 0.08010212488472461, 0.08610439471900459, 0.32227066069841354, 0.1266201989352703, 0.2555773818492889, 0.3087116664648055, 0.3388782238960265, 0.2586758065223693, 0.17653531908988948]\n",
      "Predictions: [0. 1.]\n",
      "Writing ../tmp/ashanti/preds/1672X1093Y_preds.tif\n",
      "Exists locally.\n",
      "(618, 614, 13)\n",
      "The data has been scaled to -1.0000000000000004, 1.0000000000000002\n",
      "[0.0, 0.5387671589851379, 0.2545391321182251, 0.029297322034835815, 0.050645807199180125, 0.035751886665821075, 0.1842579448223114, 0.0841183391213417, 0.16253838419914246, 0.18476100265979767, 0.2108846950531006, 0.16708767399191857, 0.08326864704489707]\n",
      "[0.13307473063468933, 0.7119978070259094, 0.428607702255249, 0.056222144812345484, 0.08500094309449195, 0.09329365938901901, 0.30211811482906326, 0.1381802213191986, 0.2511913493275642, 0.29400159299373624, 0.32168324977159496, 0.2853271368145942, 0.19310250252485275]\n",
      "Predictions: [0. 1.]\n",
      "Writing ../tmp/ashanti/preds/1673X1093Y_preds.tif\n",
      "Exists locally.\n",
      "(618, 614, 13)\n",
      "The data has been scaled to -1.0000000000000002, 1.0000000000000002\n",
      "[0.0, 0.5201078057289124, 0.23885120451450348, 0.030647745355963707, 0.05101639896631241, 0.036949723958969116, 0.18839399874210358, 0.08514965951442718, 0.16650784611701966, 0.1902526205778122, 0.21787833631038667, 0.16879826337099074, 0.08764782547950745]\n",
      "[0.14004869759082794, 0.7147982120513916, 0.426535040140152, 0.05830042943358418, 0.08879987895488739, 0.0999816653877496, 0.3059655883908269, 0.14534064918756484, 0.2554812943935394, 0.2991031515598296, 0.3262471520900726, 0.29318668961524963, 0.21047585561871526]\n",
      "Predictions: [0. 1.]\n",
      "Writing ../tmp/ashanti/preds/1674X1093Y_preds.tif\n",
      "Exists locally.\n",
      "(618, 614, 13)\n",
      "The data has been scaled to -1.0000000000000002, 1.0000000000000004\n",
      "[0.0, 0.5268665552139282, 0.25392863154411316, 0.029152361676096916, 0.04705119505524635, 0.0351374825835228, 0.17601747289299965, 0.0793189287185669, 0.15408703684806824, 0.17786632895469665, 0.20615559279918672, 0.168778113424778, 0.08524041093885898]\n",
      "[0.13307473063468933, 0.7184224128723145, 0.4341399073600769, 0.05510032922029495, 0.08580148220062256, 0.09039445221424103, 0.31349658966064453, 0.13526236087083815, 0.2599201041460037, 0.3072899052500725, 0.3370537549257278, 0.2825769433379173, 0.20044347375631322]\n"
     ]
    },
    {
     "name": "stdout",
     "output_type": "stream",
     "text": [
      "Predictions: [0. 1.]\n",
      "Writing ../tmp/ashanti/preds/1675X1093Y_preds.tif\n",
      "Exists locally.\n",
      "(618, 614, 13)\n",
      "The data has been scaled to -1.0000000000000004, 1.0000000000000002\n",
      "[0.0, 0.5231528878211975, 0.257411390542984, 0.0283727240934968, 0.04735637456178665, 0.03440580539405346, 0.17209887504577637, 0.07752409741282464, 0.15068332314491273, 0.17490178793668748, 0.20362551033496856, 0.1630753356218338, 0.08191917315125466]\n",
      "[0.13307473063468933, 0.712770402431488, 0.42801225185394287, 0.04957565382122993, 0.08055009312927719, 0.07970550656318665, 0.3100489205121994, 0.12653162121772765, 0.259899441897869, 0.3021803420782089, 0.3295198851823807, 0.2638793131709098, 0.1731949317455288]\n",
      "Predictions: [0. 1.]\n",
      "Writing ../tmp/ashanti/preds/1676X1093Y_preds.tif\n",
      "Exists locally.\n",
      "(618, 614, 13)\n",
      "The data has been scaled to -1.0, 1.0000000000000004\n",
      "[0.0, 0.5299944877624512, 0.2639082670211792, 0.02861912429332733, 0.046852827072143555, 0.034103915095329285, 0.16550159692764282, 0.07663781829178333, 0.1426928436756134, 0.16576260209083557, 0.19192976787686347, 0.15857882782816887, 0.07820335820317269]\n",
      "[0.12942928075790405, 0.708660364151001, 0.42432281374931335, 0.04480049014091492, 0.07255785323679445, 0.07524986565113068, 0.2834973633289337, 0.11382536448538302, 0.2312496259808539, 0.27136190474033345, 0.2995793893933295, 0.21435816287994372, 0.13520450592041014]\n",
      "Predictions: [0. 1.]\n",
      "Writing ../tmp/ashanti/preds/1677X1093Y_preds.tif\n",
      "Exists locally.\n",
      "(618, 614, 13)\n",
      "The data has been scaled to -1.0000000000000004, 1.0000000000000004\n",
      "[0.0, 0.5164992809295654, 0.24437466263771057, 0.02933342885226011, 0.04745629765093327, 0.03442675221711397, 0.1662042561173439, 0.07839800246059894, 0.1429140865802765, 0.166724122017622, 0.19320051923394202, 0.15992680311203003, 0.07973919227719307]\n",
      "[0.12942928075790405, 0.7105075120925903, 0.4330408573150635, 0.04644846171140671, 0.07212238259613514, 0.07700465619564056, 0.2733501195907593, 0.11540172547101973, 0.2208280861377716, 0.26261100918054575, 0.29000372201204294, 0.2108038744330406, 0.13090570151805875]\n",
      "Predictions: [0. 1.]\n",
      "Writing ../tmp/ashanti/preds/1678X1093Y_preds.tif\n",
      "Exists locally.\n",
      "(618, 614, 13)\n",
      "The data has been scaled to -1.0000000000000004, 1.0000000000000004\n",
      "[0.0, 0.5080724358558655, 0.24059976637363434, 0.031197071075439453, 0.049975867941975595, 0.039002060890197754, 0.17498818695545196, 0.08259803801774979, 0.1479140567779541, 0.17200017735362053, 0.20083380103111267, 0.1621418082714081, 0.08764262415468693]\n",
      "[0.12942928075790405, 0.702727198600769, 0.41827547550201416, 0.04634150043129921, 0.07266042388975619, 0.08265049755573273, 0.24464789032936096, 0.11986366927623748, 0.19863191366195676, 0.2322062738239765, 0.26117920041084286, 0.23051500171422953, 0.14912464901804923]\n",
      "Predictions: [0. 1.]\n",
      "Writing ../tmp/ashanti/preds/1679X1093Y_preds.tif\n",
      "Exists locally.\n",
      "(618, 614, 13)\n",
      "The data has been scaled to -1.0000000000000004, 1.0000000000000004\n",
      "[0.0, 0.4927862882614136, 0.22305452823638916, 0.029781825467944147, 0.05110246688127518, 0.03745327144861221, 0.16974899172782898, 0.0822801125049591, 0.14692097961902617, 0.16658813416957854, 0.19358025908470153, 0.15900250762701035, 0.08402275361120701]\n",
      "[0.1135486364364624, 0.6981022953987122, 0.4076637625694275, 0.05324654273688793, 0.07750560402870176, 0.09355306625366211, 0.2504005432128906, 0.12417206719517707, 0.20159716963768004, 0.2376439428329467, 0.2647187468409538, 0.2444234080612659, 0.1620712183415889]\n",
      "Predictions: [0. 1.]\n",
      "Writing ../tmp/ashanti/preds/1680X1093Y_preds.tif\n",
      "Exists locally.\n",
      "(618, 614, 13)\n",
      "The data has been scaled to -1.0000000000000002, 1.0000000000000002\n",
      "[0.0, 0.5076512694358826, 0.22108376026153564, 0.029350727796554565, 0.05014877766370773, 0.03865110129117966, 0.15034714341163635, 0.0825490428507328, 0.13433028295636176, 0.15070526719093322, 0.17241586163640021, 0.15712223395705224, 0.08251898050308228]\n",
      "[0.0998319610953331, 0.6968724131584167, 0.40745487809181213, 0.058853050768375395, 0.08139924705028534, 0.09719996899366379, 0.25295642018318176, 0.12937376767396927, 0.2058711226284504, 0.2406232964992523, 0.2666055965423584, 0.2551734000444412, 0.18112536489963527]\n",
      "Predictions: [0. 1.]\n",
      "Writing ../tmp/ashanti/preds/1681X1093Y_preds.tif\n",
      "Exists locally.\n",
      "(618, 614, 13)\n",
      "The data has been scaled to -1.0000000000000002, 1.0000000000000004\n",
      "[0.0, 0.5181519985198975, 0.22318467497825623, 0.03752538848668337, 0.05630296818912029, 0.03235821276903152, 0.22769950985908508, 0.0847341302037239, 0.2031588849425316, 0.23058352187275888, 0.2538240110874176, 0.19210218787193298, 0.09291244454681874]\n",
      "[0.34790173172950745, 0.7681412696838379, 0.45563846826553345, 0.07177810743451118, 0.10531007200479507, 0.113559855222702, 0.42434331357479094, 0.16236171126365662, 0.3561924767494201, 0.4194914469122886, 0.4473771804571151, 0.33990987956523894, 0.23823822051286697]\n",
      "Predictions: [0. 1.]\n",
      "Writing ../tmp/ashanti/preds/1652X1092Y_preds.tif\n",
      "Exists locally.\n",
      "(618, 614, 13)\n",
      "The data has been scaled to -1.0000000000000002, 1.0000000000000002\n",
      "[0.0, 0.5199426412582397, 0.20949754118919373, 0.03495078906416893, 0.053200580179691315, 0.03700360849499702, 0.2225528359413147, 0.0851044212281704, 0.1856090772151947, 0.21744727969169617, 0.24656197115778922, 0.1931104503571987, 0.09350075490772725]\n",
      "[0.18059907853603363, 0.7546446323394775, 0.4410345256328583, 0.06655222177505493, 0.09500134266912937, 0.10738711789250371, 0.3766002953052521, 0.1480977402627468, 0.3071100091934204, 0.3701848196983337, 0.4012205827236175, 0.31253629952669143, 0.21569426909089087]\n",
      "Predictions: [0. 1.]\n",
      "Writing ../tmp/ashanti/preds/1653X1092Y_preds.tif\n",
      "Exists locally.\n",
      "(618, 614, 13)\n",
      "The data has been scaled to -1.0000000000000004, 1.0000000000000002\n",
      "[0.0, 0.5159246921539307, 0.18058377504348755, 0.035473238453269, 0.053447828218340876, 0.0376759011298418, 0.20644728764891623, 0.08683073967695236, 0.1889958330988884, 0.21705901071429254, 0.23114276200532913, 0.19462435707449913, 0.09549713104963303]\n",
      "[0.19725322723388672, 0.8932638764381409, 0.4451606869697571, 0.12315556406974792, 0.15649652481079102, 0.19375142455101013, 0.37074846029281616, 0.21665543913841245, 0.30105066955089566, 0.3628856474161148, 0.3938214015960693, 0.34937836110591886, 0.2937715995311737]\n",
      "Predictions: [0. 1.]\n",
      "Writing ../tmp/ashanti/preds/1654X1092Y_preds.tif\n",
      "Exists locally.\n",
      "(618, 614, 13)\n",
      "The data has been scaled to -1.0000000000000002, 1.0000000000000004\n",
      "[0.0, 0.5428279638290405, 0.2223573923110962, 0.03539850611239672, 0.05349588505923748, 0.03658557947725058, 0.2215457409620285, 0.0857187557220459, 0.1919308137893677, 0.22169055104255675, 0.2502280786633492, 0.18852921992540358, 0.09108625277876854]\n",
      "[0.14004869759082794, 0.7556719183921814, 0.43300843238830566, 0.06925159364938735, 0.09854698196053499, 0.11049840562045574, 0.35875487327575684, 0.15187920540571212, 0.29097464501857756, 0.3506782767176628, 0.3813444200158119, 0.3010027769207954, 0.19613694548606872]\n",
      "Predictions: [0. 1.]\n",
      "Writing ../tmp/ashanti/preds/1655X1092Y_preds.tif\n",
      "Exists locally.\n",
      "(618, 614, 13)\n",
      "The data has been scaled to -1.0000000000000004, 1.0000000000000002\n",
      "[0.0, 0.5156195759773254, 0.196092426776886, 0.033845750018954276, 0.05291937544941902, 0.03459983319044113, 0.21872425585985183, 0.08442270897328853, 0.19109514638781547, 0.21737815737724303, 0.24298404186964034, 0.193086157143116, 0.09346027955412865]\n",
      "[0.13307473063468933, 0.7475433349609375, 0.42305701971054077, 0.08830396085977554, 0.12314793467521667, 0.15624475479125977, 0.3797512650489807, 0.18454522907733917, 0.3077336710691452, 0.3719638895988464, 0.40163650214672086, 0.32418244212865827, 0.25177112638950344]\n",
      "Predictions: [0. 1.]\n",
      "Writing ../tmp/ashanti/preds/1656X1092Y_preds.tif\n",
      "Exists locally.\n",
      "(618, 614, 13)\n",
      "The data has been scaled to -1.0000000000000004, 1.0000000000000004\n",
      "[0.0, 0.5343962907791138, 0.22744271159172058, 0.03313553247600794, 0.05204852297902107, 0.03614862263202667, 0.21622795075178147, 0.08594066753983498, 0.1908675917983055, 0.2198007322847843, 0.24561784490942956, 0.1908324557542801, 0.09182713858783245]\n",
      "[0.15595826506614685, 0.7502427697181702, 0.43385303020477295, 0.06490424640476704, 0.09359884262084961, 0.10914778709411621, 0.37615460723638533, 0.14827661752700802, 0.30567487239837643, 0.3708566349744796, 0.39999779701232907, 0.3005381226539612, 0.20590919643640518]\n"
     ]
    },
    {
     "name": "stdout",
     "output_type": "stream",
     "text": [
      "Predictions: [0. 1.]\n",
      "Writing ../tmp/ashanti/preds/1657X1092Y_preds.tif\n",
      "Exists locally.\n",
      "(618, 614, 13)\n",
      "The data has been scaled to -1.0000000000000004, 1.0000000000000002\n",
      "[0.0, 0.5261129140853882, 0.21148452162742615, 0.032448310405015945, 0.051506828516721725, 0.0349289158731699, 0.21725031733512878, 0.08562704585492611, 0.18862994253635407, 0.21802592024207115, 0.24405115753412246, 0.18631863877177238, 0.08910560242831707]\n",
      "[0.14004869759082794, 0.7511378526687622, 0.4339234232902527, 0.06417400822043418, 0.09444572031497955, 0.1133020606637001, 0.3686817362904548, 0.15340459346771237, 0.2959138303995132, 0.3632314610481262, 0.3918756344914436, 0.309222157895565, 0.2200461134314536]\n",
      "Predictions: [0. 1.]\n",
      "Writing ../tmp/ashanti/preds/1658X1092Y_preds.tif\n",
      "Exists locally.\n",
      "(618, 614, 13)\n",
      "The data has been scaled to -1.0000000000000004, 1.0\n",
      "[0.0, 0.4692062437534332, 0.14061060547828674, 0.03310444951057434, 0.05268600836396217, 0.03804837167263031, 0.20244908332824707, 0.08801141858100892, 0.1856738056242466, 0.21032012939453126, 0.23075623750686647, 0.1913158105313778, 0.09473730489611626]\n",
      "[0.13307473063468933, 0.833570122718811, 0.457108736038208, 0.08504615724086761, 0.1182955652475357, 0.16495002046227455, 0.3420996367931366, 0.1916456866264341, 0.2742150926589966, 0.333952978849411, 0.3652034175395965, 0.32700097829103464, 0.2771575203537941]\n",
      "Predictions: [0. 1.]\n",
      "Writing ../tmp/ashanti/preds/1659X1092Y_preds.tif\n",
      "Exists locally.\n",
      "(618, 614, 13)\n",
      "The data has been scaled to -1.0000000000000002, 1.0000000000000004\n",
      "[0.0, 0.44245606660842896, 0.10272546857595444, 0.03649958223104477, 0.05560387670993805, 0.03790340945124626, 0.20390631258487701, 0.08583343982696533, 0.18562262624502182, 0.21052634909749032, 0.23387074694037438, 0.18310459062457085, 0.08966797269880772]\n",
      "[0.12566591799259186, 0.7409790754318237, 0.4211011528968811, 0.07769893854856491, 0.10649271309375763, 0.1383448588848104, 0.35680171847343445, 0.17092247426509855, 0.28729923605918883, 0.3491315877437591, 0.3768076527118682, 0.330247339606285, 0.2671910971403122]\n",
      "Predictions: [0. 1.]\n",
      "Writing ../tmp/ashanti/preds/1660X1092Y_preds.tif\n",
      "Exists locally.\n",
      "(618, 614, 13)\n",
      "The data has been scaled to -1.0000000000000002, 1.0000000000000002\n",
      "[0.0, 0.4313010275363922, 0.10140405595302582, 0.03779659792780876, 0.05879301205277443, 0.04299992322921753, 0.19387272119522095, 0.09358846999704838, 0.17197802290320396, 0.19646973371505738, 0.22486809492111207, 0.19790642350912094, 0.10165969058871269]\n",
      "[0.17547965049743652, 0.7175713777542114, 0.40877866744995117, 0.06860456615686417, 0.09810025244951248, 0.1255054622888565, 0.34210726618766785, 0.1608644276857376, 0.27889915347099303, 0.33457263350486754, 0.3679465201497078, 0.33089311689138406, 0.2531511455774306]\n",
      "Predictions: [0. 1.]\n",
      "Writing ../tmp/ashanti/preds/1661X1092Y_preds.tif\n",
      "Exists locally.\n",
      "(618, 614, 13)\n",
      "The data has been scaled to -1.0000000000000004, 1.0000000000000004\n",
      "[0.0, 0.4233105778694153, 0.08186310529708862, 0.03675135225057602, 0.05765621364116669, 0.04249637573957443, 0.21287591516971588, 0.09553875237703323, 0.18407961025834083, 0.211382924169302, 0.23730421483516692, 0.19267257913947106, 0.09733894482254982]\n",
      "[0.0998319610953331, 0.7227696180343628, 0.41984161734580994, 0.07360189408063889, 0.10800335556268692, 0.143694207072258, 0.3565887665748596, 0.18114147305488582, 0.28502909809350957, 0.34876996874809263, 0.3785864335298538, 0.3639359357953071, 0.29622154831886294]\n",
      "Predictions: [0. 1.]\n",
      "Writing ../tmp/ashanti/preds/1662X1092Y_preds.tif\n",
      "Exists locally.\n",
      "(618, 614, 13)\n",
      "The data has been scaled to -1.0000000000000004, 1.0000000000000002\n",
      "[0.0, 0.4615946412086487, 0.15928888320922852, 0.03814755380153656, 0.05850309133529663, 0.04169527441263199, 0.20765240490436554, 0.0977407631278038, 0.17955451101064682, 0.20394013330340385, 0.2346856689453125, 0.2007551571726799, 0.1008115154504776]\n",
      "[0.08943852037191391, 0.7171989679336548, 0.4277951717376709, 0.0714333163946867, 0.10434882342815399, 0.1251544952392578, 0.36000122457742684, 0.16785176232457158, 0.2911422803997993, 0.35457302957773207, 0.3857203689217567, 0.34009926915168764, 0.26518106400966646]\n",
      "Predictions: [0. 1.]\n",
      "Writing ../tmp/ashanti/preds/1663X1092Y_preds.tif\n",
      "Exists locally.\n",
      "(618, 614, 13)\n",
      "The data has been scaled to -1.0000000000000004, 1.0000000000000002\n",
      "[0.0, 0.4749966263771057, 0.17051029205322266, 0.042099639773368835, 0.06701864823698997, 0.053002212196588516, 0.18923456117510795, 0.10652120046317577, 0.16723957508802414, 0.1869862413406372, 0.20870485290884971, 0.20248422190546989, 0.11688140109181404]\n",
      "[0.07088188827037811, 0.6808079481124878, 0.3947230577468872, 0.0686380624771118, 0.09774647787213325, 0.11445029079914093, 0.2945378783345222, 0.15277403116226196, 0.24707686752080918, 0.2854736277461052, 0.3151985132694244, 0.30819110989570614, 0.24080284669995303]\n",
      "Predictions: [0. 1.]\n",
      "Writing ../tmp/ashanti/preds/1664X1092Y_preds.tif\n",
      "Exists locally.\n",
      "(618, 614, 13)\n",
      "The data has been scaled to -1.0000000000000004, 1.0000000000000004\n",
      "[0.0, 0.4826034903526306, 0.17827458679676056, 0.03669794648885727, 0.062348365783691406, 0.04394598305225372, 0.19479668140411377, 0.10142622873187065, 0.17240859508514406, 0.19511476993560792, 0.22011151015758515, 0.19615219920873642, 0.10627114236354827]\n",
      "[0.07088188827037811, 0.7163257002830505, 0.4218863248825073, 0.07389944046735764, 0.10465399920940399, 0.13009841740131378, 0.31833895772695525, 0.1653145757317543, 0.26336978375911707, 0.3107192024588585, 0.34043156385421747, 0.3245974603295326, 0.2507179778814315]\n",
      "Predictions: [0. 1.]\n",
      "Writing ../tmp/ashanti/preds/1665X1092Y_preds.tif\n",
      "Exists locally.\n",
      "(618, 614, 13)\n",
      "The data has been scaled to -1.0000000000000004, 1.0000000000000002\n",
      "[0.0, 0.4572756290435791, 0.1488158404827118, 0.03320363163948059, 0.05749599635601044, 0.040196796655654905, 0.17230486869812012, 0.09371855735778808, 0.15580511093139648, 0.17595831751823426, 0.20005851462483407, 0.18204739183187485, 0.09337016709148883]\n",
      "[0.18059907853603363, 0.7237237691879272, 0.4377685487270355, 0.07580681890249252, 0.11162442423403258, 0.14143319740891439, 0.3271810871362686, 0.18222133055329323, 0.27311933040618896, 0.3227817079424858, 0.3505260610580444, 0.3457998886704444, 0.2808192577958106]\n",
      "Predictions: [0. 1.]\n",
      "Writing ../tmp/ashanti/preds/1666X1092Y_preds.tif\n",
      "Exists locally.\n",
      "(618, 614, 13)\n",
      "The data has been scaled to -1.0000000000000002, 1.0\n",
      "[0.0, 0.45214617252349854, 0.14084738492965698, 0.043701838701963425, 0.07078194767236709, 0.06080720201134682, 0.19290456175804138, 0.11710443019866944, 0.1679472155869007, 0.1900879754126072, 0.2189316940307617, 0.23192458242177963, 0.14030272215604783]\n",
      "[0.0998319610953331, 0.6748489141464233, 0.40002042055130005, 0.08119325339794159, 0.1165992760658264, 0.14979781210422516, 0.3004043698310852, 0.18912222981452942, 0.2523760998249054, 0.2868500554561615, 0.31974899768829346, 0.368418816924095, 0.29580352663993836]\n",
      "Predictions: [0. 1.]\n",
      "Writing ../tmp/ashanti/preds/1667X1092Y_preds.tif\n",
      "Exists locally.\n",
      "(618, 614, 13)\n",
      "The data has been scaled to -1.0000000000000004, 1.0000000000000004\n",
      "[0.0, 0.4663553237915039, 0.1698286235332489, 0.0400473028421402, 0.06495002657175064, 0.050096633434295657, 0.19670904099941253, 0.10477774322032929, 0.17314083978533745, 0.19483817383646965, 0.22198279142379762, 0.2039007307589054, 0.11789511375129223]\n",
      "[0.0998319610953331, 0.6829862594604492, 0.4057852625846863, 0.07989779300987718, 0.11419115208089349, 0.13988784909248347, 0.3135682955384251, 0.18175794705748557, 0.2602088221907616, 0.3003556561470031, 0.33178695052862167, 0.3540985250473022, 0.27531988680362696]\n",
      "Predictions: [0. 1.]\n",
      "Writing ../tmp/ashanti/preds/1668X1092Y_preds.tif\n",
      "Exists locally.\n",
      "(618, 614, 13)\n",
      "The data has been scaled to -1.0000000000000004, 1.0000000000000004\n",
      "[0.0, 0.5158668756484985, 0.22005042433738708, 0.0319523923099041, 0.056363765895366666, 0.0401541143655777, 0.19560539722442627, 0.09594706177711487, 0.17355037227272987, 0.19744408190250395, 0.22334535419940948, 0.1774633912742138, 0.09239988848567009]\n",
      "[0.08943852037191391, 0.6851590275764465, 0.3958761692047119, 0.06569362357258796, 0.09620050340890884, 0.11564812809228897, 0.3284733280539512, 0.15426544591784475, 0.26813759446144103, 0.31724876105785366, 0.3471002024412154, 0.3074778652191162, 0.22505768597126002]\n"
     ]
    },
    {
     "name": "stdout",
     "output_type": "stream",
     "text": [
      "Predictions: [0. 1.]\n",
      "Writing ../tmp/ashanti/preds/1669X1092Y_preds.tif\n",
      "Exists locally.\n",
      "(618, 614, 13)\n",
      "The data has been scaled to -1.0000000000000002, 1.0000000000000007\n",
      "[0.0, 0.5376165509223938, 0.25051385164260864, 0.031534882374107835, 0.05501654781401157, 0.041847869753837585, 0.18985831573605538, 0.09385819271206856, 0.16630060389637946, 0.18940940737724304, 0.2169317901134491, 0.18014912873506547, 0.09569078274071216]\n",
      "[0.08943852037191391, 0.6835419535636902, 0.4008978009223938, 0.05870145559310913, 0.08450446277856827, 0.0968025642633438, 0.289752978682518, 0.13501987114548683, 0.2393413481116295, 0.2785572987794875, 0.30935026377439484, 0.2804197770357132, 0.20025646105408668]\n",
      "Predictions: [0. 1.]\n",
      "Writing ../tmp/ashanti/preds/1670X1092Y_preds.tif\n",
      "Exists locally.\n",
      "(618, 614, 13)\n",
      "The data has been scaled to -1.0000000000000002, 1.0000000000000004\n",
      "[0.0, 0.5233142375946045, 0.252750962972641, 0.030701152980327606, 0.05350417502224446, 0.03680476173758507, 0.18209742188453676, 0.0862122917175293, 0.15933357447385788, 0.1820477169752121, 0.20821194916963578, 0.17501329526305198, 0.09082570359110832]\n",
      "[0.08943852037191391, 0.6882195472717285, 0.4094001054763794, 0.061783837527036645, 0.08858086615800856, 0.09580376744270325, 0.30920688509941097, 0.13634785830974577, 0.24693873196840282, 0.291325617134571, 0.3249998664855957, 0.26820794403553005, 0.1895170883834362]\n",
      "Predictions: [0. 1.]\n",
      "Writing ../tmp/ashanti/preds/1671X1092Y_preds.tif\n",
      "Exists locally.\n",
      "(618, 614, 13)\n",
      "The data has been scaled to -1.0000000000000002, 1.0000000000000004\n",
      "[0.0, 0.5347404479980469, 0.2580176293849945, 0.032519779056310656, 0.0555962473154068, 0.04194973073899746, 0.18519875407218933, 0.09007579244673253, 0.16399696409702302, 0.18572596997022628, 0.21149340882897377, 0.17001672148704527, 0.08896153971552849]\n",
      "[0.08943852037191391, 0.687625527381897, 0.40492990612983704, 0.06120393607765436, 0.08749074384570117, 0.09876785270869723, 0.2855533364415168, 0.13680314421653747, 0.2365911450982094, 0.2763226485252379, 0.3070941415429114, 0.2759231945872307, 0.20476825103163715]\n",
      "Predictions: [0. 1.]\n",
      "Writing ../tmp/ashanti/preds/1672X1092Y_preds.tif\n",
      "Exists locally.\n",
      "(618, 614, 13)\n",
      "The data has been scaled to -1.0000000000000002, 1.0000000000000002\n",
      "[0.0, 0.5296783447265625, 0.2482805848121643, 0.03126917604357004, 0.05409058950841427, 0.038995107859373095, 0.18789958953857422, 0.09101597622036933, 0.16731210947036743, 0.19019059523940088, 0.21650806158781052, 0.17440675407648087, 0.09119994446635246]\n",
      "[0.1135486364364624, 0.7082161903381348, 0.4200173616409302, 0.05844968557357788, 0.08569525711238384, 0.09620050340890884, 0.2982834300398826, 0.13657030671834944, 0.24352109879255288, 0.2863594019412994, 0.319170429110527, 0.28164909362792967, 0.19897790938615798]\n",
      "Predictions: [0. 1.]\n",
      "Writing ../tmp/ashanti/preds/1673X1092Y_preds.tif\n",
      "Exists locally.\n",
      "(618, 614, 13)\n",
      "The data has been scaled to -1.0000000000000002, 1.0000000000000004\n",
      "[0.0, 0.5109463334083557, 0.22072836756706238, 0.03134966269135475, 0.055794740691781045, 0.039154648780822754, 0.19144731760025024, 0.09303607821464538, 0.17130376532673836, 0.19520012378692628, 0.22213778764009476, 0.17651403710246086, 0.0921323511749506]\n",
      "[0.12942928075790405, 0.7030645608901978, 0.4136171340942383, 0.06495002657175064, 0.09444572031497955, 0.11394675076007843, 0.29896429181098927, 0.15401093840599056, 0.24905631482601165, 0.2920004725456238, 0.3190110144019127, 0.31206316143274293, 0.2351744027435779]\n",
      "Predictions: [0. 1.]\n",
      "Writing ../tmp/ashanti/preds/1674X1092Y_preds.tif\n",
      "Exists locally.\n",
      "(618, 614, 13)\n",
      "The data has been scaled to -1.0000000000000002, 1.0000000000000004\n",
      "[0.0, 0.4845886826515198, 0.201896071434021, 0.030177761875092985, 0.056244753301143646, 0.03845273703336716, 0.18755021810531616, 0.09658158630132675, 0.16943427190184593, 0.19276737704873084, 0.21798563227057458, 0.1767333233356476, 0.1009042228013277]\n",
      "[0.1135486364364624, 0.7241933345794678, 0.4358079433441162, 0.0607524837180972, 0.09300646968185901, 0.10434882342815399, 0.2934996485710144, 0.14874987959861752, 0.24757519066333766, 0.28872952461242674, 0.31617788553237913, 0.3010990452766418, 0.22429276034235954]\n",
      "Predictions: [0. 1.]\n",
      "Writing ../tmp/ashanti/preds/1675X1092Y_preds.tif\n",
      "Exists locally.\n",
      "(618, 614, 13)\n",
      "The data has been scaled to -1.0000000000000002, 1.0000000000000002\n",
      "[0.0, 0.5086848735809326, 0.23113484680652618, 0.02839704044163227, 0.05284962058067322, 0.037155717611312866, 0.19352520272135734, 0.08776453234255314, 0.16894385159015657, 0.192775114774704, 0.2205612063407898, 0.17857948943972587, 0.09327941611409188]\n",
      "[0.12942928075790405, 0.6873645782470703, 0.39796286821365356, 0.058108555078506464, 0.0872434601187706, 0.09835202991962433, 0.31035324931144714, 0.13924044877290725, 0.25666650593280793, 0.30372798442840576, 0.33153908282518385, 0.2852255225181579, 0.20750082656741142]\n",
      "Predictions: [0. 1.]\n",
      "Writing ../tmp/ashanti/preds/1676X1092Y_preds.tif\n",
      "Exists locally.\n",
      "(618, 614, 13)\n",
      "The data has been scaled to -1.0000000000000002, 1.0000000000000002\n",
      "[0.0, 0.4988461136817932, 0.21540182828903198, 0.027702754363417625, 0.0473029688000679, 0.03389791399240494, 0.18100251257419586, 0.07717370927333832, 0.15842223405838013, 0.1842989493906498, 0.21051670253276825, 0.1606067179143429, 0.07996871531009674]\n",
      "[0.14004869759082794, 0.7050493955612183, 0.42416855692863464, 0.05942410893738268, 0.08915209077298639, 0.09641624309122561, 0.30424964427948, 0.1426039570569992, 0.2530415898561478, 0.30007459014654153, 0.3259798324108123, 0.2859143677353858, 0.20491248041391372]\n",
      "Predictions: [0. 1.]\n",
      "Writing ../tmp/ashanti/preds/1677X1092Y_preds.tif\n",
      "Exists locally.\n",
      "(618, 614, 13)\n",
      "The data has been scaled to -1.0000000000000004, 1.0000000000000004\n",
      "[0.0, 0.5080848932266235, 0.24148975312709808, 0.029251545667648315, 0.04888518422842026, 0.034554100520908834, 0.17374685406684875, 0.08029043972492218, 0.15025362715125085, 0.17488342240452767, 0.2011374980211258, 0.16105092123150824, 0.080776447057724]\n",
      "[0.12942928075790405, 0.7060190439224243, 0.42508143186569214, 0.05014877766370773, 0.07588764041662216, 0.07834744453430176, 0.2896009683609009, 0.12104010596871376, 0.23217296078801153, 0.28079324305057524, 0.309198110103607, 0.2384658919274807, 0.15908281475305547]\n",
      "Predictions: [0. 1.]\n",
      "Writing ../tmp/ashanti/preds/1678X1092Y_preds.tif\n",
      "Exists locally.\n",
      "(618, 614, 13)\n",
      "The data has been scaled to -1.0000000000000004, 1.0\n",
      "[0.0, 0.4738381505012512, 0.2022906243801117, 0.02839704044163227, 0.047806516289711, 0.03125449135899544, 0.20688290789723396, 0.08031301982700825, 0.1857396160066128, 0.21739719077944755, 0.238788440823555, 0.15387723088264466, 0.0756302086263895]\n",
      "[0.12942928075790405, 0.7282596826553345, 0.4422646760940552, 0.04930189996957779, 0.07495290748774998, 0.0688025352358818, 0.30473458439111656, 0.11847785957157611, 0.2453554552793502, 0.29961517959833145, 0.328367919921875, 0.2178736080229282, 0.13680421113967894]\n",
      "Predictions: [0. 1.]\n",
      "Writing ../tmp/ashanti/preds/1679X1092Y_preds.tif\n",
      "Exists locally.\n",
      "(618, 614, 13)\n",
      "The data has been scaled to -1.0, 1.0000000000000004\n",
      "[0.0, 0.5640535354614258, 0.2630573511123657, 0.03610284626483917, 0.054596781730651855, 0.03509575128555298, 0.24449530243873596, 0.08691300265491009, 0.21186579763889313, 0.24628271222114562, 0.27247547715902326, 0.19252699181437494, 0.09311082728207111]\n",
      "[0.1855471432209015, 0.7596229314804077, 0.44517505168914795, 0.07310597598552704, 0.10690470784902573, 0.12199588119983673, 0.41273472845554343, 0.16312174737453455, 0.34026723384857177, 0.408955088853836, 0.44048072099685665, 0.2964915728569031, 0.20071795970201473]\n",
      "Predictions: [0. 1.]\n",
      "Writing ../tmp/ashanti/preds/1650X1091Y_preds.tif\n",
      "Exists locally.\n",
      "(618, 614, 13)\n",
      "The data has been scaled to -1.0000000000000002, 1.0000000000000002\n",
      "[0.0, 0.5602671504020691, 0.2570430040359497, 0.03540093079209328, 0.05409323424100876, 0.03649958223104477, 0.22870221734046936, 0.08746859945356845, 0.2054375259578228, 0.2345631217956543, 0.2552794483304024, 0.19729502812027933, 0.09705648884177208]\n",
      "[0.2805911898612976, 0.7849436402320862, 0.4564964175224304, 0.07570000737905502, 0.10820172727108002, 0.13789577782154083, 0.4271000325679779, 0.17135602816939355, 0.35818066596984854, 0.4237052643299102, 0.4529163265228271, 0.3105872231721878, 0.22472897484898566]\n"
     ]
    },
    {
     "name": "stdout",
     "output_type": "stream",
     "text": [
      "Predictions: [0. 1.]\n",
      "Writing ../tmp/ashanti/preds/1651X1091Y_preds.tif\n",
      "Exists locally.\n",
      "(618, 614, 13)\n",
      "The data has been scaled to -1.0000000000000002, 1.0000000000000002\n",
      "[0.0, 0.5493723154067993, 0.24631327390670776, 0.032700084149837494, 0.051392387598752975, 0.03564813498407602, 0.2227969765663147, 0.0815824469923973, 0.19703801706433297, 0.22715963646769524, 0.24634570747613907, 0.1838194787502289, 0.08375998504459858]\n",
      "[0.17547965049743652, 0.7462284564971924, 0.4313574433326721, 0.0791943222284317, 0.11279271394014355, 0.14950120836496336, 0.3987029790878296, 0.17693740665912627, 0.31694498360157014, 0.38623541593551636, 0.4182896223664283, 0.31115168988704667, 0.24726921170949934]\n",
      "Predictions: [0. 1.]\n",
      "Writing ../tmp/ashanti/preds/1652X1091Y_preds.tif\n",
      "Exists locally.\n",
      "(618, 614, 13)\n",
      "The data has been scaled to -1.0000000000000002, 1.0000000000000002\n",
      "[0.0, 0.567051887512207, 0.26152509450912476, 0.03345633666962385, 0.050049591809511185, 0.033246522434055806, 0.23847746938467027, 0.08068113029003143, 0.20897459626197815, 0.24504157841205598, 0.2721057653427124, 0.17688629686832427, 0.08336304187774658]\n",
      "[0.2060219943523407, 0.7574636936187744, 0.44846010208129883, 0.06214999407529831, 0.09197885975241657, 0.11100175976753235, 0.3834829699993133, 0.1478332109749317, 0.311218404173851, 0.3772749492526054, 0.40777673542499543, 0.2941386103630066, 0.1976727567613125]\n",
      "Predictions: [0. 1.]\n",
      "Writing ../tmp/ashanti/preds/1653X1091Y_preds.tif\n",
      "Exists locally.\n",
      "(618, 614, 13)\n",
      "The data has been scaled to -1.0000000000000002, 1.0000000000000004\n",
      "[0.0, 0.5509686470031738, 0.233718603849411, 0.029800869524478912, 0.04635690897703171, 0.03365377336740494, 0.21979857981204987, 0.07783889867365361, 0.18958110868930816, 0.22107141181826592, 0.24884241312742233, 0.17689127907156943, 0.07986102849245072]\n",
      "[0.15595826506614685, 0.7706254124641418, 0.44450876116752625, 0.0709010473638773, 0.10195563517510886, 0.1265430748462677, 0.38015092939138406, 0.16245674788951875, 0.3083962607383728, 0.3738078331947326, 0.4032897651195526, 0.3000958853960037, 0.21104069352149962]\n",
      "Predictions: [0. 1.]\n",
      "Writing ../tmp/ashanti/preds/1654X1091Y_preds.tif\n",
      "Exists locally.\n",
      "(618, 614, 13)\n",
      "The data has been scaled to -1.0000000000000002, 1.0000000000000004\n",
      "[0.0, 0.5554386377334595, 0.23640358448028564, 0.035594048127532, 0.05377685993909836, 0.036304351165890696, 0.22404822707176208, 0.08592284202575684, 0.1969410789012909, 0.22848433136940002, 0.25201267182827, 0.18845433875918388, 0.09093859791755676]\n",
      "[0.15595826506614685, 0.7671258449554443, 0.44189950823783875, 0.0795452780276537, 0.1105516105890274, 0.13915464282035828, 0.3678492307662964, 0.17027966856956456, 0.2989744862914085, 0.3615893018245697, 0.3907729658484459, 0.2907094296813011, 0.21247779294848423]\n",
      "Predictions: [0. 1.]\n",
      "Writing ../tmp/ashanti/preds/1655X1091Y_preds.tif\n",
      "Exists locally.\n",
      "(618, 614, 13)\n",
      "The data has been scaled to -1.0000000000000004, 1.0000000000000002\n",
      "[0.0, 0.5371528267860413, 0.23818597197532654, 0.03584954395890236, 0.055098842009902, 0.036714082323014735, 0.2400744839012623, 0.08580666810274123, 0.2067822003364563, 0.24125824868679047, 0.2719277849793434, 0.1929553396999836, 0.09342436753213405]\n",
      "[0.14004869759082794, 0.755953311920166, 0.4418673515319824, 0.06561981342732905, 0.09645339801907538, 0.11082077331840988, 0.37949949502944946, 0.14979402586817742, 0.3089918303489685, 0.37240187883377074, 0.40299478769302366, 0.28753615379333497, 0.18969428062438962]\n",
      "Predictions: [0. 1.]\n",
      "Writing ../tmp/ashanti/preds/1656X1091Y_preds.tif\n",
      "Exists locally.\n",
      "(618, 614, 13)\n",
      "The data has been scaled to -1.0000000000000004, 1.0000000000000004\n",
      "[0.0, 0.5509001612663269, 0.23894003033638, 0.034195467829704285, 0.05344422187656164, 0.035116427130997184, 0.23694971203804016, 0.08702768862247467, 0.21194517999887466, 0.24492717444896697, 0.26755717873573304, 0.1847105135023594, 0.08841018445789814]\n",
      "[0.18059907853603363, 0.7923092842102051, 0.45365437865257263, 0.09954985976219177, 0.1368505358695984, 0.1754024624824524, 0.3826766991615295, 0.2038661266863345, 0.31087247163057324, 0.37734186530113223, 0.4060209167003631, 0.33354823023080826, 0.2724539506435394]\n",
      "Predictions: [0. 1.]\n",
      "Writing ../tmp/ashanti/preds/1657X1091Y_preds.tif\n",
      "Exists locally.\n",
      "(618, 614, 13)\n",
      "The data has been scaled to -1.0000000000000004, 1.0000000000000002\n",
      "[0.0, 0.5726746916770935, 0.2702995538711548, 0.032753489911556244, 0.051383240669965746, 0.034730389416217804, 0.22070886373519896, 0.08519994199275971, 0.20129699245095253, 0.23026971086859704, 0.25026427388191225, 0.1843237492442131, 0.09003342375159264]\n",
      "[0.2203003168106079, 0.7820120453834534, 0.45301225781440735, 0.08190280199050903, 0.11481269940733888, 0.14464789628982544, 0.3880116868019104, 0.17952260017395016, 0.31623779088258724, 0.38382046639919276, 0.41193585753440853, 0.307331046462059, 0.24190543755888924]\n",
      "Predictions: [0. 1.]\n",
      "Writing ../tmp/ashanti/preds/1658X1091Y_preds.tif\n",
      "Exists locally.\n",
      "(618, 614, 13)\n",
      "The data has been scaled to -1.0000000000000002, 1.0000000000000002\n",
      "[0.0, 0.5207968950271606, 0.20919817686080933, 0.032700084149837494, 0.05090840049088002, 0.034103915095329285, 0.21390096843242645, 0.082923578992486, 0.1964313131570816, 0.2221551537513733, 0.23932130634784698, 0.18018726661801338, 0.08277810119092464]\n",
      "[0.13307473063468933, 0.8089592456817627, 0.4800695776939392, 0.0796063169836998, 0.1118028536438942, 0.15129320323467255, 0.38738091230392446, 0.18139254212379452, 0.31331394314765926, 0.3828722751140594, 0.41269693017005915, 0.3157781955599784, 0.2513386657834053]\n",
      "Predictions: [0. 1.]\n",
      "Writing ../tmp/ashanti/preds/1659X1091Y_preds.tif\n",
      "Exists locally.\n",
      "(618, 614, 13)\n",
      "The data has been scaled to -1.0000000000000002, 1.0000000000000002\n",
      "[0.0, 0.4580114483833313, 0.12591391801834106, 0.03202604874968529, 0.05229266732931137, 0.03529411926865578, 0.18309299647808075, 0.08265425167977809, 0.1778835427761078, 0.19529500484466553, 0.20399262964725495, 0.18223749220371246, 0.08711592830717564]\n",
      "[0.14004869759082794, 0.9631927609443665, 0.4754655361175537, 0.11900511384010315, 0.15104814708232794, 0.18730449676513672, 0.3530022203922272, 0.20161314845085143, 0.2830228552222252, 0.34179659992456424, 0.37109647512435906, 0.32657917827367783, 0.29086777597665786]\n",
      "Predictions: [0. 1.]\n",
      "Writing ../tmp/ashanti/preds/1660X1091Y_preds.tif\n",
      "Exists locally.\n",
      "(618, 614, 13)\n",
      "The data has been scaled to -1.0000000000000004, 1.0000000000000002\n",
      "[0.0, 0.41633763909339905, 0.08183184266090393, 0.034195467829704285, 0.05600060895085335, 0.03790340945124626, 0.18449683487415314, 0.09085556328296661, 0.16748303174972534, 0.1897946083545685, 0.21363397777080537, 0.19560987785458564, 0.09981132842600346]\n",
      "[0.12566591799259186, 0.7236050367355347, 0.4067223370075226, 0.07829403877258301, 0.10850690305233002, 0.13820096850395203, 0.3494671291112898, 0.1695319068431853, 0.27887385249137875, 0.3402274107933043, 0.3687245619297026, 0.3300955721735954, 0.26244441777467725]\n",
      "Predictions: [0. 1.]\n",
      "Writing ../tmp/ashanti/preds/1661X1091Y_preds.tif\n",
      "Exists locally.\n",
      "(618, 614, 13)\n",
      "The data has been scaled to -1.0000000000000002, 1.0000000000000004\n",
      "[0.0, 0.41659024357795715, 0.08732067048549652, 0.03472669146955013, 0.05709926038980484, 0.0420983948558569, 0.20354771614074707, 0.09682731807231904, 0.18102088317275047, 0.20491391122341157, 0.23111315295100213, 0.20708959698677062, 0.10782311007380485]\n",
      "[0.0998319610953331, 0.7122211456298828, 0.4070720970630646, 0.06914626061916351, 0.10109864920377731, 0.13815130114555352, 0.3501481744647026, 0.17276643335819242, 0.2784246870875358, 0.34062518835067745, 0.372672688961029, 0.3344429174065589, 0.27739020049571983]\n",
      "Predictions: [0. 1.]\n",
      "Writing ../tmp/ashanti/preds/1662X1091Y_preds.tif\n",
      "Downloading 2020/raw/1663/1091/\n",
      "(618, 614, 13)\n",
      "The data has been scaled to -1.0000000000000002, 1.0000000000000002\n",
      "[0.0, 0.45091429352760315, 0.1513257473707199, 0.03320363163948059, 0.05389486625790596, 0.03979552909731865, 0.2052948772907257, 0.09100100815296173, 0.17918431952595712, 0.20564106106758118, 0.23372532099485396, 0.19079080134630202, 0.09365149728953838]\n",
      "[0.17547965049743652, 0.7433360815048218, 0.4474831223487854, 0.06739909946918488, 0.09779506921768188, 0.11957916699349842, 0.36000609397888184, 0.1557486161589622, 0.29019321471452714, 0.35295014023780813, 0.382260422706604, 0.31311000406742084, 0.23659414798021314]\n"
     ]
    },
    {
     "name": "stdout",
     "output_type": "stream",
     "text": [
      "Predictions: [0. 1.]\n",
      "Writing ../tmp/ashanti/preds/1663X1091Y_preds.tif\n",
      "Downloading 2020/raw/1664/1091/\n",
      "(618, 614, 13)\n",
      "The data has been scaled to -1.0, 1.0000000000000004\n",
      "[0.0, 0.47493427991867065, 0.173214390873909, 0.035599298775196075, 0.05830472335219383, 0.042153049260377884, 0.19534599781036377, 0.09392631843686104, 0.17255425453186035, 0.19372548937797546, 0.21804092824459076, 0.1930649012327194, 0.09924821712076665]\n",
      "[0.1135486364364624, 0.7491159439086914, 0.44357478618621826, 0.07074844837188721, 0.10295261442661285, 0.12995567128062244, 0.350928236246109, 0.16534654125571244, 0.2806258314847946, 0.34146575272083274, 0.3702948361635208, 0.32261429548263537, 0.2548203340172767]\n",
      "Predictions: [0. 1.]\n",
      "Writing ../tmp/ashanti/preds/1664X1091Y_preds.tif\n",
      "Downloading 2020/raw/1665/1091/\n"
     ]
    },
    {
     "ename": "KeyboardInterrupt",
     "evalue": "",
     "output_type": "error",
     "traceback": [
      "\u001b[0;31m---------------------------------------------------------------------------\u001b[0m",
      "\u001b[0;31mKeyboardInterrupt\u001b[0m                         Traceback (most recent call last)",
      "\u001b[0;32m/var/folders/1v/8qs7l7157sddx1_9z9wqldrc0000gp/T/ipykernel_1928/900251682.py\u001b[0m in \u001b[0;36m<module>\u001b[0;34m\u001b[0m\n\u001b[1;32m      6\u001b[0m \u001b[0;34m\u001b[0m\u001b[0m\n\u001b[1;32m      7\u001b[0m \u001b[0;32mfor\u001b[0m \u001b[0mtile\u001b[0m \u001b[0;32min\u001b[0m \u001b[0mashanti_tiles\u001b[0m\u001b[0;34m:\u001b[0m\u001b[0;34m\u001b[0m\u001b[0;34m\u001b[0m\u001b[0m\n\u001b[0;32m----> 8\u001b[0;31m     \u001b[0mp\u001b[0m\u001b[0;34m.\u001b[0m\u001b[0mexecute\u001b[0m\u001b[0;34m(\u001b[0m\u001b[0mtile\u001b[0m\u001b[0;34m,\u001b[0m \u001b[0;34m'ashanti'\u001b[0m\u001b[0;34m,\u001b[0m \u001b[0;34m'cat_model_v8_nf_scaledman'\u001b[0m\u001b[0;34m)\u001b[0m\u001b[0;34m\u001b[0m\u001b[0;34m\u001b[0m\u001b[0m\n\u001b[0m",
      "\u001b[0;32m~/plantation_classifier/src/plantation_classifier.py\u001b[0m in \u001b[0;36mexecute\u001b[0;34m(tile_idx, country, model)\u001b[0m\n\u001b[1;32m    664\u001b[0m     \u001b[0;32mif\u001b[0m \u001b[0msuccessful\u001b[0m\u001b[0;34m:\u001b[0m\u001b[0;34m\u001b[0m\u001b[0;34m\u001b[0m\u001b[0m\n\u001b[1;32m    665\u001b[0m         \u001b[0mbbx_df\u001b[0m\u001b[0;34m,\u001b[0m \u001b[0mbbx\u001b[0m \u001b[0;34m=\u001b[0m \u001b[0mmake_bbox\u001b[0m\u001b[0;34m(\u001b[0m\u001b[0mcountry\u001b[0m\u001b[0;34m,\u001b[0m \u001b[0;34m(\u001b[0m\u001b[0mtile_idx\u001b[0m\u001b[0;34m[\u001b[0m\u001b[0;36m0\u001b[0m\u001b[0;34m]\u001b[0m\u001b[0;34m,\u001b[0m \u001b[0mtile_idx\u001b[0m\u001b[0;34m[\u001b[0m\u001b[0;36m1\u001b[0m\u001b[0;34m]\u001b[0m\u001b[0;34m)\u001b[0m\u001b[0;34m)\u001b[0m\u001b[0;34m\u001b[0m\u001b[0;34m\u001b[0m\u001b[0m\n\u001b[0;32m--> 666\u001b[0;31m         \u001b[0ms2_proc\u001b[0m\u001b[0;34m,\u001b[0m \u001b[0mimage_dates\u001b[0m\u001b[0;34m,\u001b[0m \u001b[0minterp\u001b[0m\u001b[0;34m,\u001b[0m \u001b[0ms1_proc\u001b[0m\u001b[0;34m,\u001b[0m \u001b[0mslope_proc\u001b[0m\u001b[0;34m,\u001b[0m \u001b[0mcloudshad\u001b[0m \u001b[0;34m=\u001b[0m \u001b[0mprocess_tile\u001b[0m\u001b[0;34m(\u001b[0m\u001b[0mtile_idx\u001b[0m\u001b[0;34m[\u001b[0m\u001b[0;36m0\u001b[0m\u001b[0;34m]\u001b[0m\u001b[0;34m,\u001b[0m \u001b[0mtile_idx\u001b[0m\u001b[0;34m[\u001b[0m\u001b[0;36m1\u001b[0m\u001b[0;34m]\u001b[0m\u001b[0;34m,\u001b[0m \u001b[0mbbx_df\u001b[0m\u001b[0;34m,\u001b[0m \u001b[0mlocal_dir\u001b[0m\u001b[0;34m,\u001b[0m \u001b[0mbbx\u001b[0m\u001b[0;34m)\u001b[0m\u001b[0;34m\u001b[0m\u001b[0;34m\u001b[0m\u001b[0m\n\u001b[0m\u001b[1;32m    667\u001b[0m         \u001b[0msample\u001b[0m\u001b[0;34m,\u001b[0m \u001b[0msample_dims\u001b[0m \u001b[0;34m=\u001b[0m \u001b[0mmake_sample_nofeats\u001b[0m\u001b[0;34m(\u001b[0m\u001b[0mslope_proc\u001b[0m\u001b[0;34m,\u001b[0m \u001b[0ms1_proc\u001b[0m\u001b[0;34m,\u001b[0m \u001b[0ms2_proc\u001b[0m\u001b[0;34m)\u001b[0m\u001b[0;34m\u001b[0m\u001b[0;34m\u001b[0m\u001b[0m\n\u001b[1;32m    668\u001b[0m         \u001b[0;31m#unseen_ss = reshape_and_scale(['v8'], sample)\u001b[0m\u001b[0;34m\u001b[0m\u001b[0;34m\u001b[0m\u001b[0;34m\u001b[0m\u001b[0m\n",
      "\u001b[0;32m~/plantation_classifier/src/plantation_classifier.py\u001b[0m in \u001b[0;36mprocess_tile\u001b[0;34m(x, y, data, local_path, bbx, make_shadow, verbose)\u001b[0m\n\u001b[1;32m    287\u001b[0m     \u001b[0ms1\u001b[0m \u001b[0;34m=\u001b[0m \u001b[0ms1\u001b[0m\u001b[0;34m.\u001b[0m\u001b[0mastype\u001b[0m\u001b[0;34m(\u001b[0m\u001b[0mnp\u001b[0m\u001b[0;34m.\u001b[0m\u001b[0mfloat32\u001b[0m\u001b[0;34m)\u001b[0m\u001b[0;34m\u001b[0m\u001b[0;34m\u001b[0m\u001b[0m\n\u001b[1;32m    288\u001b[0m \u001b[0;34m\u001b[0m\u001b[0m\n\u001b[0;32m--> 289\u001b[0;31m     \u001b[0ms2_10\u001b[0m \u001b[0;34m=\u001b[0m \u001b[0mto_float32\u001b[0m\u001b[0;34m(\u001b[0m\u001b[0mhkl\u001b[0m\u001b[0;34m.\u001b[0m\u001b[0mload\u001b[0m\u001b[0;34m(\u001b[0m\u001b[0ms2_10_file\u001b[0m\u001b[0;34m)\u001b[0m\u001b[0;34m)\u001b[0m\u001b[0;34m\u001b[0m\u001b[0;34m\u001b[0m\u001b[0m\n\u001b[0m\u001b[1;32m    290\u001b[0m     \u001b[0ms2_20\u001b[0m \u001b[0;34m=\u001b[0m \u001b[0mto_float32\u001b[0m\u001b[0;34m(\u001b[0m\u001b[0mhkl\u001b[0m\u001b[0;34m.\u001b[0m\u001b[0mload\u001b[0m\u001b[0;34m(\u001b[0m\u001b[0ms2_20_file\u001b[0m\u001b[0;34m)\u001b[0m\u001b[0;34m)\u001b[0m\u001b[0;34m\u001b[0m\u001b[0;34m\u001b[0m\u001b[0m\n\u001b[1;32m    291\u001b[0m \u001b[0;34m\u001b[0m\u001b[0m\n",
      "\u001b[0;32m~/opt/anaconda3/envs/plantations2/lib/python3.7/site-packages/hickle/hickle.py\u001b[0m in \u001b[0;36mload\u001b[0;34m(file_obj, path, safe)\u001b[0m\n\u001b[1;32m    562\u001b[0m             \u001b[0;31m# Load file\u001b[0m\u001b[0;34m\u001b[0m\u001b[0;34m\u001b[0m\u001b[0;34m\u001b[0m\u001b[0m\n\u001b[1;32m    563\u001b[0m             \u001b[0mpy_container\u001b[0m \u001b[0;34m=\u001b[0m \u001b[0mPyContainer\u001b[0m\u001b[0;34m(\u001b[0m\u001b[0;34m)\u001b[0m\u001b[0;34m\u001b[0m\u001b[0;34m\u001b[0m\u001b[0m\n\u001b[0;32m--> 564\u001b[0;31m             \u001b[0mpy_container\u001b[0m \u001b[0;34m=\u001b[0m \u001b[0m_load\u001b[0m\u001b[0;34m(\u001b[0m\u001b[0mpy_container\u001b[0m\u001b[0;34m,\u001b[0m \u001b[0mh_root_group\u001b[0m\u001b[0;34m[\u001b[0m\u001b[0;34m'data'\u001b[0m\u001b[0;34m]\u001b[0m\u001b[0;34m)\u001b[0m\u001b[0;34m\u001b[0m\u001b[0;34m\u001b[0m\u001b[0m\n\u001b[0m\u001b[1;32m    565\u001b[0m             \u001b[0;32mreturn\u001b[0m\u001b[0;34m(\u001b[0m\u001b[0mpy_container\u001b[0m\u001b[0;34m[\u001b[0m\u001b[0;36m0\u001b[0m\u001b[0;34m]\u001b[0m\u001b[0;34m)\u001b[0m\u001b[0;34m\u001b[0m\u001b[0;34m\u001b[0m\u001b[0m\n\u001b[1;32m    566\u001b[0m \u001b[0;34m\u001b[0m\u001b[0m\n",
      "\u001b[0;32m~/opt/anaconda3/envs/plantations2/lib/python3.7/site-packages/hickle/hickle.py\u001b[0m in \u001b[0;36m_load\u001b[0;34m(py_container, h_group)\u001b[0m\n\u001b[1;32m    646\u001b[0m     \u001b[0;32melse\u001b[0m\u001b[0;34m:\u001b[0m\u001b[0;34m\u001b[0m\u001b[0;34m\u001b[0m\u001b[0m\n\u001b[1;32m    647\u001b[0m         \u001b[0;31m# must be a dataset\u001b[0m\u001b[0;34m\u001b[0m\u001b[0;34m\u001b[0m\u001b[0;34m\u001b[0m\u001b[0m\n\u001b[0;32m--> 648\u001b[0;31m         \u001b[0msubdata\u001b[0m \u001b[0;34m=\u001b[0m \u001b[0mload_dataset\u001b[0m\u001b[0;34m(\u001b[0m\u001b[0mh_group\u001b[0m\u001b[0;34m)\u001b[0m\u001b[0;34m\u001b[0m\u001b[0;34m\u001b[0m\u001b[0m\n\u001b[0m\u001b[1;32m    649\u001b[0m         \u001b[0mpy_container\u001b[0m\u001b[0;34m.\u001b[0m\u001b[0mappend\u001b[0m\u001b[0;34m(\u001b[0m\u001b[0msubdata\u001b[0m\u001b[0;34m)\u001b[0m\u001b[0;34m\u001b[0m\u001b[0;34m\u001b[0m\u001b[0m\n\u001b[1;32m    650\u001b[0m \u001b[0;34m\u001b[0m\u001b[0m\n",
      "\u001b[0;32m~/opt/anaconda3/envs/plantations2/lib/python3.7/site-packages/hickle/hickle.py\u001b[0m in \u001b[0;36mload_dataset\u001b[0;34m(h_node)\u001b[0m\n\u001b[1;32m    593\u001b[0m \u001b[0;34m\u001b[0m\u001b[0m\n\u001b[1;32m    594\u001b[0m     \u001b[0mload_fn\u001b[0m \u001b[0;34m=\u001b[0m \u001b[0mload_dataset_lookup\u001b[0m\u001b[0;34m(\u001b[0m\u001b[0mbase_type\u001b[0m\u001b[0;34m)\u001b[0m\u001b[0;34m\u001b[0m\u001b[0;34m\u001b[0m\u001b[0m\n\u001b[0;32m--> 595\u001b[0;31m     \u001b[0mdata\u001b[0m \u001b[0;34m=\u001b[0m \u001b[0mload_fn\u001b[0m\u001b[0;34m(\u001b[0m\u001b[0mh_node\u001b[0m\u001b[0;34m)\u001b[0m\u001b[0;34m\u001b[0m\u001b[0;34m\u001b[0m\u001b[0m\n\u001b[0m\u001b[1;32m    596\u001b[0m \u001b[0;34m\u001b[0m\u001b[0m\n\u001b[1;32m    597\u001b[0m     \u001b[0;31m# If data is not py_type yet, convert to it (unless it is pickle)\u001b[0m\u001b[0;34m\u001b[0m\u001b[0;34m\u001b[0m\u001b[0;34m\u001b[0m\u001b[0m\n",
      "\u001b[0;32m~/opt/anaconda3/envs/plantations2/lib/python3.7/site-packages/hickle/loaders/load_numpy.py\u001b[0m in \u001b[0;36mload_ndarray_dataset\u001b[0;34m(h_node)\u001b[0m\n\u001b[1;32m    128\u001b[0m \u001b[0;34m\u001b[0m\u001b[0m\n\u001b[1;32m    129\u001b[0m \u001b[0;32mdef\u001b[0m \u001b[0mload_ndarray_dataset\u001b[0m\u001b[0;34m(\u001b[0m\u001b[0mh_node\u001b[0m\u001b[0;34m)\u001b[0m\u001b[0;34m:\u001b[0m\u001b[0;34m\u001b[0m\u001b[0;34m\u001b[0m\u001b[0m\n\u001b[0;32m--> 130\u001b[0;31m     \u001b[0m_\u001b[0m\u001b[0;34m,\u001b[0m \u001b[0m_\u001b[0m\u001b[0;34m,\u001b[0m \u001b[0mdata\u001b[0m \u001b[0;34m=\u001b[0m \u001b[0mget_type_and_data\u001b[0m\u001b[0;34m(\u001b[0m\u001b[0mh_node\u001b[0m\u001b[0;34m)\u001b[0m\u001b[0;34m\u001b[0m\u001b[0;34m\u001b[0m\u001b[0m\n\u001b[0m\u001b[1;32m    131\u001b[0m     \u001b[0mdtype\u001b[0m \u001b[0;34m=\u001b[0m \u001b[0mh_node\u001b[0m\u001b[0;34m.\u001b[0m\u001b[0mattrs\u001b[0m\u001b[0;34m[\u001b[0m\u001b[0;34m'np_dtype'\u001b[0m\u001b[0;34m]\u001b[0m\u001b[0;34m\u001b[0m\u001b[0;34m\u001b[0m\u001b[0m\n\u001b[1;32m    132\u001b[0m     \u001b[0;32mreturn\u001b[0m \u001b[0mnp\u001b[0m\u001b[0;34m.\u001b[0m\u001b[0marray\u001b[0m\u001b[0;34m(\u001b[0m\u001b[0mdata\u001b[0m\u001b[0;34m,\u001b[0m \u001b[0mcopy\u001b[0m\u001b[0;34m=\u001b[0m\u001b[0;32mFalse\u001b[0m\u001b[0;34m,\u001b[0m \u001b[0mdtype\u001b[0m\u001b[0;34m=\u001b[0m\u001b[0mdtype\u001b[0m\u001b[0;34m)\u001b[0m\u001b[0;34m\u001b[0m\u001b[0;34m\u001b[0m\u001b[0m\n",
      "\u001b[0;32m~/opt/anaconda3/envs/plantations2/lib/python3.7/site-packages/hickle/helpers.py\u001b[0m in \u001b[0;36mget_type_and_data\u001b[0;34m(h_node)\u001b[0m\n\u001b[1;32m     22\u001b[0m     \u001b[0;34m\"\"\" Helper function to return the py_type and data block for an HDF node\"\"\"\u001b[0m\u001b[0;34m\u001b[0m\u001b[0;34m\u001b[0m\u001b[0m\n\u001b[1;32m     23\u001b[0m     \u001b[0mpy_type\u001b[0m\u001b[0;34m,\u001b[0m \u001b[0mbase_type\u001b[0m \u001b[0;34m=\u001b[0m \u001b[0mget_type\u001b[0m\u001b[0;34m(\u001b[0m\u001b[0mh_node\u001b[0m\u001b[0;34m)\u001b[0m\u001b[0;34m\u001b[0m\u001b[0;34m\u001b[0m\u001b[0m\n\u001b[0;32m---> 24\u001b[0;31m     \u001b[0mdata\u001b[0m \u001b[0;34m=\u001b[0m \u001b[0mh_node\u001b[0m\u001b[0;34m[\u001b[0m\u001b[0;34m(\u001b[0m\u001b[0;34m)\u001b[0m\u001b[0;34m]\u001b[0m\u001b[0;34m\u001b[0m\u001b[0;34m\u001b[0m\u001b[0m\n\u001b[0m\u001b[1;32m     25\u001b[0m     \u001b[0;32mreturn\u001b[0m \u001b[0mpy_type\u001b[0m\u001b[0;34m,\u001b[0m \u001b[0mbase_type\u001b[0m\u001b[0;34m,\u001b[0m \u001b[0mdata\u001b[0m\u001b[0;34m\u001b[0m\u001b[0;34m\u001b[0m\u001b[0m\n\u001b[1;32m     26\u001b[0m \u001b[0;34m\u001b[0m\u001b[0m\n",
      "\u001b[0;32mh5py/_objects.pyx\u001b[0m in \u001b[0;36mh5py._objects.with_phil.wrapper\u001b[0;34m()\u001b[0m\n",
      "\u001b[0;32mh5py/_objects.pyx\u001b[0m in \u001b[0;36mh5py._objects.with_phil.wrapper\u001b[0;34m()\u001b[0m\n",
      "\u001b[0;32m~/opt/anaconda3/envs/plantations2/lib/python3.7/site-packages/h5py/_hl/dataset.py\u001b[0m in \u001b[0;36m__getitem__\u001b[0;34m(self, args)\u001b[0m\n\u001b[1;32m    571\u001b[0m         \u001b[0mmspace\u001b[0m \u001b[0;34m=\u001b[0m \u001b[0mh5s\u001b[0m\u001b[0;34m.\u001b[0m\u001b[0mcreate_simple\u001b[0m\u001b[0;34m(\u001b[0m\u001b[0mmshape\u001b[0m\u001b[0;34m)\u001b[0m\u001b[0;34m\u001b[0m\u001b[0;34m\u001b[0m\u001b[0m\n\u001b[1;32m    572\u001b[0m         \u001b[0mfspace\u001b[0m \u001b[0;34m=\u001b[0m \u001b[0mselection\u001b[0m\u001b[0;34m.\u001b[0m\u001b[0mid\u001b[0m\u001b[0;34m\u001b[0m\u001b[0;34m\u001b[0m\u001b[0m\n\u001b[0;32m--> 573\u001b[0;31m         \u001b[0mself\u001b[0m\u001b[0;34m.\u001b[0m\u001b[0mid\u001b[0m\u001b[0;34m.\u001b[0m\u001b[0mread\u001b[0m\u001b[0;34m(\u001b[0m\u001b[0mmspace\u001b[0m\u001b[0;34m,\u001b[0m \u001b[0mfspace\u001b[0m\u001b[0;34m,\u001b[0m \u001b[0marr\u001b[0m\u001b[0;34m,\u001b[0m \u001b[0mmtype\u001b[0m\u001b[0;34m,\u001b[0m \u001b[0mdxpl\u001b[0m\u001b[0;34m=\u001b[0m\u001b[0mself\u001b[0m\u001b[0;34m.\u001b[0m\u001b[0m_dxpl\u001b[0m\u001b[0;34m)\u001b[0m\u001b[0;34m\u001b[0m\u001b[0;34m\u001b[0m\u001b[0m\n\u001b[0m\u001b[1;32m    574\u001b[0m \u001b[0;34m\u001b[0m\u001b[0m\n\u001b[1;32m    575\u001b[0m         \u001b[0;31m# Patch up the output for NumPy\u001b[0m\u001b[0;34m\u001b[0m\u001b[0;34m\u001b[0m\u001b[0;34m\u001b[0m\u001b[0m\n",
      "\u001b[0;31mKeyboardInterrupt\u001b[0m: "
     ]
    }
   ],
   "source": [
    "# run for ashanti using manually scaling workflow\n",
    "ashanti = pd.read_csv('../data/ashanti.csv')\n",
    "\n",
    "# create a list of tiles \n",
    "ashanti_tiles = ashanti[['X_tile', 'Y_tile']].to_records(index=False)\n",
    "\n",
    "for tile in ashanti_tiles:\n",
    "    p.execute(tile, 'ashanti', 'cat_model_v8_nf_scaledman')"
   ]
  },
  {
   "cell_type": "code",
   "execution_count": 6,
   "id": "3b6b063d",
   "metadata": {},
   "outputs": [
    {
     "name": "stdout",
     "output_type": "stream",
     "text": [
      "Merging 201 tifs.\n"
     ]
    }
   ],
   "source": [
    "## Mosaic and save with date\n",
    "m.mosaic_tif('ashanti', 'cat_model_v8_nf_scaledman', '110222')"
   ]
  },
  {
   "cell_type": "markdown",
   "id": "f3f820a9",
   "metadata": {},
   "source": [
    "### New Abirem"
   ]
  },
  {
   "cell_type": "code",
   "execution_count": 17,
   "id": "060cc367",
   "metadata": {},
   "outputs": [],
   "source": [
    "# create csv for abirem\n",
    "ghana = pd.read_csv('../data/ghana.csv')\n",
    "ab = ghana[(ghana.X_tile >= 1667) & (ghana.X_tile <= 1671)]\n",
    "ab = ab[(ab.Y_tile <= 1077) & (ab.Y_tile >= 1073)]"
   ]
  },
  {
   "cell_type": "code",
   "execution_count": 2,
   "id": "8af4331b",
   "metadata": {},
   "outputs": [
    {
     "data": {
      "text/plain": [
       "rec.array([(1667, 1077), (1668, 1077), (1669, 1077), (1670, 1077),\n",
       "           (1671, 1077), (1667, 1076), (1668, 1076), (1669, 1076),\n",
       "           (1670, 1076), (1671, 1076), (1667, 1075), (1668, 1075),\n",
       "           (1669, 1075), (1670, 1075), (1671, 1075), (1667, 1074),\n",
       "           (1668, 1074), (1669, 1074), (1670, 1074), (1671, 1074),\n",
       "           (1667, 1073), (1668, 1073), (1669, 1073), (1670, 1073),\n",
       "           (1671, 1073)],\n",
       "          dtype=[('X_tile', '<i8'), ('Y_tile', '<i8')])"
      ]
     },
     "execution_count": 2,
     "metadata": {},
     "output_type": "execute_result"
    }
   ],
   "source": [
    "ab = pd.read_csv('../data/abirem.csv')\n",
    "abirem_tiles = ab[['X_tile', 'Y_tile']].to_records(index=False)\n",
    "abirem_tiles"
   ]
  },
  {
   "cell_type": "code",
   "execution_count": 17,
   "id": "07877499",
   "metadata": {},
   "outputs": [
    {
     "name": "stdout",
     "output_type": "stream",
     "text": [
      "Exists locally.\n"
     ]
    },
    {
     "name": "stderr",
     "output_type": "stream",
     "text": [
      "../src/cloud_removal.py:190: RuntimeWarning: invalid value encountered in true_divide\n",
      "  mosaic = mosaic / divisor\n"
     ]
    },
    {
     "name": "stdout",
     "output_type": "stream",
     "text": [
      "[[ 0.  3.  7. ... 32. 46. 40.]\n",
      " [ 0.  5.  1. ... 14. 50. 21.]\n",
      " [ 0.  1. 11. ... 21. 21. 14.]\n",
      " ...\n",
      " [83. 62. 82. ... 84. 83. 85.]\n",
      " [80. 66. 73. ... 78. 79. 87.]\n",
      " [74. 74. 72. ... 75. 83. 88.]]\n",
      "Writing ../tmp/abirem/preds/1668X1077Y_preds.tif\n"
     ]
    }
   ],
   "source": [
    "## run predictions for abirem \n",
    "model = 'rfr_model_v11_nf'\n",
    "for tile in abirem_tiles[1:2]:\n",
    "    p.execute(tile, 'abirem', model)"
   ]
  },
  {
   "cell_type": "code",
   "execution_count": 4,
   "id": "fc25d836",
   "metadata": {},
   "outputs": [
    {
     "name": "stdout",
     "output_type": "stream",
     "text": [
      "Merging 25 tifs.\n"
     ]
    }
   ],
   "source": [
    "m.mosaic_tif('abirem', 'rfr_model_v11_nf', '091122')"
   ]
  },
  {
   "cell_type": "code",
   "execution_count": 14,
   "id": "60279180",
   "metadata": {},
   "outputs": [
    {
     "data": {
      "text/plain": [
       "<AxesSubplot:>"
      ]
     },
     "execution_count": 14,
     "metadata": {},
     "output_type": "execute_result"
    },
    {
     "data": {
      "image/png": "[encoded data removed]",
      "text/plain": [
       "<Figure size 500x500 with 2 Axes>"
      ]
     },
     "metadata": {},
     "output_type": "display_data"
    }
   ],
   "source": [
    "plt.figure(figsize=(5,5))\n",
    "preds = rs.open('../tmp/abirem/preds/1668X1077Y_preds.tif').read(1)\n",
    "\n",
    "sns.heatmap(preds)"
   ]
  },
  {
   "cell_type": "markdown",
   "id": "047f6a46",
   "metadata": {},
   "source": [
    "## Manual Scaling"
   ]
  },
  {
   "cell_type": "code",
   "execution_count": 222,
   "id": "955ed2e6",
   "metadata": {},
   "outputs": [],
   "source": [
    "# import the mins and maxs for v11 training data\n",
    "mins = np.load('../data/mins_v11.npy')\n",
    "maxs = np.load('../data/maxs_v11.npy')"
   ]
  },
  {
   "cell_type": "code",
   "execution_count": 237,
   "id": "720960be",
   "metadata": {
    "scrolled": true
   },
   "outputs": [
    {
     "name": "stdout",
     "output_type": "stream",
     "text": [
      "Exists locally.\n"
     ]
    }
   ],
   "source": [
    "# grab the sample data\n",
    "unseen = p.execute((1660, 1075), 'ashanti', 'cat_model_v11', feats=True)"
   ]
  },
  {
   "cell_type": "code",
   "execution_count": 238,
   "id": "07b96af0",
   "metadata": {},
   "outputs": [
    {
     "data": {
      "text/plain": [
       "(618, 614, 78)"
      ]
     },
     "execution_count": 238,
     "metadata": {},
     "output_type": "execute_result"
    }
   ],
   "source": [
    "# unscaled data\n",
    "unseen.shape"
   ]
  },
  {
   "cell_type": "code",
   "execution_count": 246,
   "id": "1959b3ab",
   "metadata": {},
   "outputs": [
    {
     "data": {
      "text/plain": [
       "(-1.194000005722046, 99.0)"
      ]
     },
     "execution_count": 246,
     "metadata": {},
     "output_type": "execute_result"
    }
   ],
   "source": [
    "# min and max for band 0, which is DEM\n",
    "unseen[0].min(), unseen[0].max()"
   ]
  },
  {
   "cell_type": "code",
   "execution_count": 247,
   "id": "99a0bdcb",
   "metadata": {},
   "outputs": [
    {
     "data": {
      "text/plain": [
       "(0.0, 0.2163468897342682)"
      ]
     },
     "execution_count": 247,
     "metadata": {},
     "output_type": "execute_result"
    }
   ],
   "source": [
    "# training data min and max for band 0\n",
    "mins[0], maxs[0]"
   ]
  },
  {
   "cell_type": "code",
   "execution_count": 248,
   "id": "4fc47061",
   "metadata": {},
   "outputs": [
    {
     "data": {
      "text/plain": [
       "(-1.1670000553131104, 98.0)"
      ]
     },
     "execution_count": 248,
     "metadata": {},
     "output_type": "execute_result"
    }
   ],
   "source": [
    "# min and max for band 0, which is DEM\n",
    "unseen[1].min(), unseen[1].max()"
   ]
  },
  {
   "cell_type": "code",
   "execution_count": 249,
   "id": "c290d98f",
   "metadata": {},
   "outputs": [
    {
     "data": {
      "text/plain": [
       "(0.14710162580013275, 0.37328264117240906)"
      ]
     },
     "execution_count": 249,
     "metadata": {},
     "output_type": "execute_result"
    }
   ],
   "source": [
    "# training data min and max for band 0\n",
    "mins[1], maxs[1]"
   ]
  },
  {
   "cell_type": "code",
   "execution_count": null,
   "id": "288b452b",
   "metadata": {},
   "outputs": [],
   "source": []
  },
  {
   "cell_type": "code",
   "execution_count": 2,
   "id": "540a35a9",
   "metadata": {},
   "outputs": [
    {
     "name": "stdout",
     "output_type": "stream",
     "text": [
      "Plot id 08012 has no cloud free imagery and will be removed.\n",
      "Plot id 08023 has no cloud free imagery and will be removed.\n",
      "Plot id 08039 has no cloud free imagery and will be removed.\n",
      "Plot id 08114 has no cloud free imagery and will be removed.\n",
      "Plot id 08124 has no cloud free imagery and will be removed.\n",
      "Plot id 08170 has no cloud free imagery and will be removed.\n",
      "Plot id 08181 has no cloud free imagery and will be removed.\n",
      "Plot id 08204 has no cloud free imagery and will be removed.\n",
      "Plot id 08214 has no cloud free imagery and will be removed.\n",
      "Plot id 08216 has no cloud free imagery and will be removed.\n",
      "Plot id 08223 has no cloud free imagery and will be removed.\n",
      "Baseline: 0.409\n"
     ]
    }
   ],
   "source": [
    "## bring in training data for west africa\n",
    "X, y = ptype.create_xy((14, 14), ['v08', 'v11'], drop_prob=False, drop_feats=False, verbose=False)"
   ]
  },
  {
   "cell_type": "code",
   "execution_count": 55,
   "id": "284a7b6d",
   "metadata": {},
   "outputs": [
    {
     "data": {
      "text/plain": [
       "(313, 14, 14, 78)"
      ]
     },
     "execution_count": 55,
     "metadata": {},
     "output_type": "execute_result"
    }
   ],
   "source": [
    "X.shape"
   ]
  },
  {
   "cell_type": "code",
   "execution_count": 57,
   "id": "4f6f2277",
   "metadata": {},
   "outputs": [
    {
     "data": {
      "text/plain": [
       "(-1.7478961944580078, 40527.5)"
      ]
     },
     "execution_count": 57,
     "metadata": {},
     "output_type": "execute_result"
    }
   ],
   "source": [
    "X.min(), X.max()"
   ]
  },
  {
   "cell_type": "code",
   "execution_count": 52,
   "id": "53e4b324",
   "metadata": {},
   "outputs": [
    {
     "name": "stdout",
     "output_type": "stream",
     "text": [
      "Exists locally.\n"
     ]
    },
    {
     "name": "stderr",
     "output_type": "stream",
     "text": [
      "../src/cloud_removal.py:190: RuntimeWarning: invalid value encountered in true_divide\n",
      "  mosaic = mosaic / divisor\n"
     ]
    },
    {
     "name": "stdout",
     "output_type": "stream",
     "text": [
      "(618, 614, 78)\n"
     ]
    }
   ],
   "source": [
    "## bring in unseen data for west africa\n",
    "sample, sample_dims = p.execute((1658,1074), 'ashanti', 'cat_model_v11')"
   ]
  },
  {
   "cell_type": "code",
   "execution_count": 63,
   "id": "8a00fa2c",
   "metadata": {},
   "outputs": [],
   "source": [
    "min_all = []\n",
    "max_all = []\n",
    "\n",
    "for band in range(0, X.shape[-1]):\n",
    "    mins = np.percentile(X[..., band], 1)\n",
    "    maxs = np.percentile(X[..., band], 99)\n",
    "    \n",
    "    if maxs > mins:\n",
    "\n",
    "        # clip values outside interval of min - max for that band\n",
    "        # this might need to be unseen\n",
    "        X[..., band] = np.clip(X[..., band], mins, maxs)\n",
    "\n",
    "        # now calculate standardized data for unseen\n",
    "        midrange = (maxs + mins) / 2\n",
    "        rng = maxs - mins\n",
    "        standardized = (X[..., band] - midrange) / (rng / 2)\n",
    "\n",
    "        # update each band in unseen to the standardized data\n",
    "        X[..., band] = standardized\n",
    "\n",
    "        min_all.append(mins)\n",
    "        max_all.append(maxs)\n",
    "    else:\n",
    "        pass"
   ]
  },
  {
   "cell_type": "code",
   "execution_count": 64,
   "id": "b08292c7",
   "metadata": {},
   "outputs": [
    {
     "data": {
      "text/plain": [
       "[0.2163468897342682,\n",
       " 0.37404465675354004,\n",
       " 0.07852332293987274,\n",
       " 5772.529999999999,\n",
       " 7948.264999999999,\n",
       " 9641.265,\n",
       " 28543.765,\n",
       " 12536.149999999994,\n",
       " 23461.79999999999,\n",
       " 28726.414999999994,\n",
       " 30824.444999999992,\n",
       " 24151.064999999988,\n",
       " 19192.53,\n",
       " 0.981483314037323,\n",
       " 2.4606036472320545,\n",
       " 1.6546414792537683,\n",
       " -0.38799973249435443,\n",
       " 1.2764286530017843,\n",
       " 0.0036377086373976016,\n",
       " 1.406461414098739,\n",
       " -0.18347126483917242,\n",
       " 2.347606451511382,\n",
       " 0.6267054188251484,\n",
       " 2.555902326107025,\n",
       " 2.8596210169792173,\n",
       " 0.29107718914747155,\n",
       " -0.02929449677467363,\n",
       " 1.7447328758239744,\n",
       " 2.2615721344947812,\n",
       " 0.3064852505922309,\n",
       " 3.8663720417022693,\n",
       " 3.138309018611907,\n",
       " -0.0785138399153948,\n",
       " -0.07332813970744644,\n",
       " 2.23050978899002,\n",
       " 0.9233808380365368,\n",
       " 1.5352355420589445,\n",
       " -0.41245952665805824,\n",
       " 0.033953454270958854,\n",
       " 3.001175122261046,\n",
       " 2.1461652708053585,\n",
       " -0.026329627465457077,\n",
       " 2.0955630040168756,\n",
       " 1.016310257911682,\n",
       " 1.4483801138401022,\n",
       " 0.8799912375211711,\n",
       " 0.29219371140003203,\n",
       " 0.4502807286381721,\n",
       " 0.4203458386659621,\n",
       " 0.19158352643251367,\n",
       " 0.5076899325847624,\n",
       " 0.30142541140317913,\n",
       " 0.407128744125366,\n",
       " 0.46815284371376026,\n",
       " 0.13943480014801019,\n",
       " 0.29841753304004665,\n",
       " 0.21794289767742156,\n",
       " 0.33814468950033183,\n",
       " 0.28566888600587825,\n",
       " 0.40854381442070004,\n",
       " 0.1766666619479656,\n",
       " 0.2841546574234962,\n",
       " 0.49589281767606735,\n",
       " 0.25893799155950536,\n",
       " 0.5334789162874222,\n",
       " 0.32366145789623235,\n",
       " 0.5325267595052717,\n",
       " 0.19547892734408356,\n",
       " 0.125597449094057,\n",
       " 0.3810410571098327,\n",
       " 0.2687933522462844,\n",
       " 0.34680094659328453,\n",
       " 0.15999341189861296,\n",
       " 0.410382524728775,\n",
       " 0.38545500040054287,\n",
       " 0.26441339313983914,\n",
       " -0.07689778387546556,\n",
       " 0.5040574949979783]"
      ]
     },
     "execution_count": 64,
     "metadata": {},
     "output_type": "execute_result"
    }
   ],
   "source": [
    "max_all"
   ]
  },
  {
   "cell_type": "code",
   "execution_count": 65,
   "id": "d7c91888",
   "metadata": {},
   "outputs": [
    {
     "data": {
      "text/plain": [
       "[0.0,\n",
       " 0.14873744547367096,\n",
       " 0.03137637674808502,\n",
       " 1849.5,\n",
       " 3076.0,\n",
       " 1971.7350000000001,\n",
       " 14315.97,\n",
       " 4482.235,\n",
       " 12231.735,\n",
       " 14227.235,\n",
       " 15842.0,\n",
       " 9402.235,\n",
       " 4205.235,\n",
       " 0.035097129940986634,\n",
       " -0.9327185106277466,\n",
       " -0.6478016418218613,\n",
       " -1.6069760942459106,\n",
       " -0.6522527074813843,\n",
       " -0.5679909294843674,\n",
       " -0.619753189086914,\n",
       " -0.5520985239744186,\n",
       " -0.39657537430524825,\n",
       " -0.8860316503047944,\n",
       " -0.5840837746858597,\n",
       " -0.7147808766365051,\n",
       " -0.6348849588632584,\n",
       " -0.9395528930425644,\n",
       " -0.5081062722206116,\n",
       " -0.6634011453390122,\n",
       " -0.9442471724748611,\n",
       " -0.4446402180194855,\n",
       " -0.5559357452392578,\n",
       " -0.6196065419912338,\n",
       " -0.8015996927022934,\n",
       " -0.7606151342391968,\n",
       " -0.7031940370798111,\n",
       " -0.23004623740911484,\n",
       " -0.8559035915136337,\n",
       " -0.6760245192050934,\n",
       " -0.7412290757894516,\n",
       " -0.5088179975748062,\n",
       " -0.7080219447612762,\n",
       " -0.32299757331609724,\n",
       " -0.9040744537115097,\n",
       " -1.150347421169281,\n",
       " -0.8029187500476838,\n",
       " -0.45620909512043,\n",
       " -0.4166562706232071,\n",
       " -0.03091299949213862,\n",
       " -0.4000528311729431,\n",
       " -0.40184633791446683,\n",
       " -0.312615567445755,\n",
       " -0.4381015843153,\n",
       " -0.607139880657196,\n",
       " -0.5484869390726089,\n",
       " -0.17663821056485177,\n",
       " -0.3037215346097946,\n",
       " -0.4922512224316597,\n",
       " -0.3509810727834701,\n",
       " -0.36699565857648847,\n",
       " -0.29947152763605117,\n",
       " -0.2145665979385376,\n",
       " -0.5173918378353118,\n",
       " -0.5505265015363693,\n",
       " -0.1450650931894779,\n",
       " -0.19558128893375396,\n",
       " -0.349792602956295,\n",
       " -0.38149074494838714,\n",
       " -0.4157791671156883,\n",
       " -0.29798564106225967,\n",
       " 0.0051008426398038865,\n",
       " -0.5684651571512223,\n",
       " -0.429467177093029,\n",
       " -0.26247959196567533,\n",
       " -0.1650092425942421,\n",
       " -0.1545485709607601,\n",
       " -0.3891243028640747,\n",
       " -0.4351252397894859]"
      ]
     },
     "execution_count": 65,
     "metadata": {},
     "output_type": "execute_result"
    }
   ],
   "source": [
    "min_all"
   ]
  },
  {
   "cell_type": "code",
   "execution_count": 53,
   "id": "b109589d",
   "metadata": {},
   "outputs": [
    {
     "data": {
      "text/plain": [
       "(618, 614, 78)"
      ]
     },
     "execution_count": 53,
     "metadata": {},
     "output_type": "execute_result"
    }
   ],
   "source": [
    "sample.shape"
   ]
  },
  {
   "cell_type": "code",
   "execution_count": null,
   "id": "0236af10",
   "metadata": {},
   "outputs": [],
   "source": [
    "\n",
    "\n",
    "def reshape_and_scale_manual(v_train_data: list, unseen, verbose=False):\n",
    "\n",
    "    ''' \n",
    "    Manually standardizes the sample on a 1, 99% scaler \n",
    "    instead of applying a mean, std scaler. Then reshapes the sample\n",
    "    from (x, x, 13) to (x, 13).\n",
    "    '''\n",
    "    # prepare original training data \n",
    "    X, y = prepare_data.create_xy((14,14), v_train_data, drop_prob=False, drop_feats=False, verbose=False)\n",
    "\n",
    "    # MANUALLY standardize train/test data \n",
    "    min_all = []\n",
    "    max_all = []\n",
    "\n",
    "    # iterate through the 10 bands and standardize the data based \n",
    "    # on a 1 and 99% scaler instead of a mean and std scaler (standard scalar)\n",
    "    for band in range(0, X.shape[-1]):\n",
    "        \n",
    "        mins = np.percentile(X[..., band], 1)\n",
    "        maxs = np.percentile(X[..., band], 99)\n",
    "        \n",
    "        if maxs > mins:\n",
    "            \n",
    "            # clip values outside interval of min - max for that band\n",
    "            # this might need to be unseen\n",
    "            unseen[..., band] = np.clip(unseen[..., band], mins, maxs)\n",
    "\n",
    "            # now calculate standardized data for unseen\n",
    "            midrange = (maxs + mins) / 2\n",
    "            rng = maxs - mins\n",
    "            standardized = (unseen[..., band] - midrange) / (rng / 2)\n",
    "\n",
    "            # update each band in unseen to the standardized data\n",
    "            unseen[..., band] = standardized\n",
    "\n",
    "            min_all.append(mins)\n",
    "            max_all.append(maxs)\n",
    "        else:\n",
    "            pass\n",
    "    \n",
    "    if verbose:\n",
    "        print(unseen.shape)\n",
    "        print(f\"The data has been scaled to {np.min(unseen)}, {np.max(unseen)}\")\n",
    "        print(min_all)\n",
    "        print(max_all)\n",
    "\n",
    "    # now reshape\n",
    "    unseen_reshaped = np.reshape(unseen, (np.prod(unseen.shape[:-1]), unseen.shape[-1]))\n",
    "\n",
    "    return unseen_reshaped"
   ]
  },
  {
   "cell_type": "markdown",
   "id": "d3f56ad9",
   "metadata": {},
   "source": [
    "## Mosaic Error"
   ]
  },
  {
   "cell_type": "code",
   "execution_count": 73,
   "id": "5dbc15ee",
   "metadata": {
    "scrolled": true
   },
   "outputs": [
    {
     "name": "stderr",
     "output_type": "stream",
     "text": [
      "Warning 1: Can't open 1677X1162Y_preds.tif. Skipping it\n",
      "Warning 1: Can't open 1678X1162Y_preds.tif. Skipping it\n",
      "Warning 1: Can't open 1674X1085Y_preds.tif. Skipping it\n",
      "Warning 1: Can't open 1680X1162Y_preds.tif. Skipping it\n",
      "Warning 1: Can't open 1676X1162Y_preds.tif. Skipping it\n",
      "Warning 1: Can't open 1679X1162Y_preds.tif. Skipping it\n",
      "Warning 1: Can't open 1660X1161Y_preds.tif. Skipping it\n",
      "Warning 1: Can't open 1678X1163Y_preds.tif. Skipping it\n",
      "Warning 1: Can't open 1666X1161Y_preds.tif. Skipping it\n",
      "Warning 1: Can't open 1679X1163Y_preds.tif. Skipping it\n",
      "ERROR 4: ../tmp/preds/test_merge.vrt: No such file or directory\n"
     ]
    },
    {
     "ename": "ValueError",
     "evalue": "Received a NULL pointer.",
     "output_type": "error",
     "traceback": [
      "\u001b[0;31m---------------------------------------------------------------------------\u001b[0m",
      "\u001b[0;31mValueError\u001b[0m                                Traceback (most recent call last)",
      "\u001b[0;32m/var/folders/1v/8qs7l7157sddx1_9z9wqldrc0000gp/T/ipykernel_32412/2498994996.py\u001b[0m in \u001b[0;36m<module>\u001b[0;34m\u001b[0m\n\u001b[1;32m     10\u001b[0m \u001b[0;34m\u001b[0m\u001b[0m\n\u001b[1;32m     11\u001b[0m \u001b[0mds\u001b[0m \u001b[0;34m=\u001b[0m \u001b[0mgdal\u001b[0m\u001b[0;34m.\u001b[0m\u001b[0mOpen\u001b[0m\u001b[0;34m(\u001b[0m\u001b[0;34mf'../tmp/preds/{str(filename)}.vrt'\u001b[0m\u001b[0;34m)\u001b[0m\u001b[0;34m\u001b[0m\u001b[0;34m\u001b[0m\u001b[0m\n\u001b[0;32m---> 12\u001b[0;31m \u001b[0mds\u001b[0m \u001b[0;34m=\u001b[0m \u001b[0mgdal\u001b[0m\u001b[0;34m.\u001b[0m\u001b[0mTranslate\u001b[0m\u001b[0;34m(\u001b[0m\u001b[0;34mf'../tmp/preds/{str(filename)}.tif'\u001b[0m\u001b[0;34m,\u001b[0m \u001b[0mds\u001b[0m\u001b[0;34m,\u001b[0m \u001b[0moptions\u001b[0m\u001b[0;34m=\u001b[0m\u001b[0mtranslateoptions\u001b[0m\u001b[0;34m)\u001b[0m\u001b[0;34m\u001b[0m\u001b[0;34m\u001b[0m\u001b[0m\n\u001b[0m\u001b[1;32m     13\u001b[0m \u001b[0;34m\u001b[0m\u001b[0m\n",
      "\u001b[0;32m~/opt/anaconda3/envs/plantations2/lib/python3.7/site-packages/osgeo/gdal.py\u001b[0m in \u001b[0;36mTranslate\u001b[0;34m(destName, srcDS, **kwargs)\u001b[0m\n\u001b[1;32m    458\u001b[0m         \u001b[0msrcDS\u001b[0m \u001b[0;34m=\u001b[0m \u001b[0mOpen\u001b[0m\u001b[0;34m(\u001b[0m\u001b[0msrcDS\u001b[0m\u001b[0;34m)\u001b[0m\u001b[0;34m\u001b[0m\u001b[0;34m\u001b[0m\u001b[0m\n\u001b[1;32m    459\u001b[0m \u001b[0;34m\u001b[0m\u001b[0m\n\u001b[0;32m--> 460\u001b[0;31m     \u001b[0;32mreturn\u001b[0m \u001b[0mTranslateInternal\u001b[0m\u001b[0;34m(\u001b[0m\u001b[0mdestName\u001b[0m\u001b[0;34m,\u001b[0m \u001b[0msrcDS\u001b[0m\u001b[0;34m,\u001b[0m \u001b[0mopts\u001b[0m\u001b[0;34m,\u001b[0m \u001b[0mcallback\u001b[0m\u001b[0;34m,\u001b[0m \u001b[0mcallback_data\u001b[0m\u001b[0;34m)\u001b[0m\u001b[0;34m\u001b[0m\u001b[0;34m\u001b[0m\u001b[0m\n\u001b[0m\u001b[1;32m    461\u001b[0m \u001b[0;34m\u001b[0m\u001b[0m\n\u001b[1;32m    462\u001b[0m def WarpOptions(options=None, format=None,\n",
      "\u001b[0;32m~/opt/anaconda3/envs/plantations2/lib/python3.7/site-packages/osgeo/gdal.py\u001b[0m in \u001b[0;36mTranslateInternal\u001b[0;34m(*args)\u001b[0m\n\u001b[1;32m   4307\u001b[0m \u001b[0;32mdef\u001b[0m \u001b[0mTranslateInternal\u001b[0m\u001b[0;34m(\u001b[0m\u001b[0;34m*\u001b[0m\u001b[0margs\u001b[0m\u001b[0;34m)\u001b[0m\u001b[0;34m:\u001b[0m\u001b[0;34m\u001b[0m\u001b[0;34m\u001b[0m\u001b[0m\n\u001b[1;32m   4308\u001b[0m     \u001b[0;34mr\"\"\"TranslateInternal(char const * dest, Dataset dataset, GDALTranslateOptions translateOptions, GDALProgressFunc callback=0, void * callback_data=None) -> Dataset\"\"\"\u001b[0m\u001b[0;34m\u001b[0m\u001b[0;34m\u001b[0m\u001b[0m\n\u001b[0;32m-> 4309\u001b[0;31m     \u001b[0;32mreturn\u001b[0m \u001b[0m_gdal\u001b[0m\u001b[0;34m.\u001b[0m\u001b[0mTranslateInternal\u001b[0m\u001b[0;34m(\u001b[0m\u001b[0;34m*\u001b[0m\u001b[0margs\u001b[0m\u001b[0;34m)\u001b[0m\u001b[0;34m\u001b[0m\u001b[0;34m\u001b[0m\u001b[0m\n\u001b[0m\u001b[1;32m   4310\u001b[0m \u001b[0;32mclass\u001b[0m \u001b[0mGDALWarpAppOptions\u001b[0m\u001b[0;34m(\u001b[0m\u001b[0mobject\u001b[0m\u001b[0;34m)\u001b[0m\u001b[0;34m:\u001b[0m\u001b[0;34m\u001b[0m\u001b[0;34m\u001b[0m\u001b[0m\n\u001b[1;32m   4311\u001b[0m     \u001b[0;34mr\"\"\"Proxy of C++ GDALWarpAppOptions class.\"\"\"\u001b[0m\u001b[0;34m\u001b[0m\u001b[0;34m\u001b[0m\u001b[0m\n",
      "\u001b[0;31mValueError\u001b[0m: Received a NULL pointer."
     ]
    }
   ],
   "source": [
    "filename = 'test_merge'\n",
    "gdal.BuildVRT(f'../tmp/preds/{str(filename)}.vrt', tifs_to_mosaic, options=gdal.BuildVRTOptions(srcNodata=255, VRTNodata=255))\n",
    "#translateoptions = gdal.TranslateOptions(gdal.ParseCommandLine(\"-ot Byte -co COMPRESS=LZW -a_nodata 255 -co BIGTIFF=YES\"))\n",
    "translateoptions = gdal.TranslateOptions(format='Gtiff', \n",
    "                                          outputSRS='EPSG:4326',\n",
    "                                          outputType=gdal.GDT_Byte,\n",
    "                                          noData=255,\n",
    "                                          creationOptions=['COMPRESS=LZW', 'BIGTIFF=YES'])\n",
    "                                         \n",
    "\n",
    "ds = gdal.Open(f'../tmp/preds/{str(filename)}.vrt')\n",
    "ds = gdal.Translate(f'../tmp/preds/{str(filename)}.tif', ds, options=translateoptions)\n",
    "\n"
   ]
  },
  {
   "cell_type": "markdown",
   "id": "c8588223",
   "metadata": {},
   "source": [
    "## Confirm Cloud Removal"
   ]
  },
  {
   "cell_type": "code",
   "execution_count": 20,
   "id": "b76239c2",
   "metadata": {},
   "outputs": [
    {
     "name": "stdout",
     "output_type": "stream",
     "text": [
      "(618, 616, 2) (618, 616, 10) (618, 616)\n"
     ]
    }
   ],
   "source": [
    "# test workflow with John's input data\n",
    "# perform steps in jupyter\n",
    "tile_idx = (1644, 1052)\n",
    "s1 = np.load('problem_tile/s1_median.npy')\n",
    "s2 = np.load('problem_tile/s2_median.npy')\n",
    "s2 = s2[:,:,:10]\n",
    "slope = np.load('problem_tile/slope.npy')\n",
    "\n",
    "print(s1.shape, s2.shape, slope.shape)"
   ]
  },
  {
   "cell_type": "code",
   "execution_count": 21,
   "id": "08482b52",
   "metadata": {},
   "outputs": [],
   "source": [
    "bbx_df, bbx = p.make_bbox('ghana', (tile_idx[0], tile_idx[1]))"
   ]
  },
  {
   "cell_type": "code",
   "execution_count": 22,
   "id": "e21f9c6e",
   "metadata": {},
   "outputs": [
    {
     "name": "stdout",
     "output_type": "stream",
     "text": [
      "features: 13\n",
      "sample shape: (618, 616, 13)\n"
     ]
    }
   ],
   "source": [
    "sample, sample_dims = p.make_sample_nofeats(slope, s1, s2)"
   ]
  },
  {
   "cell_type": "code",
   "execution_count": 27,
   "id": "fe88c06d",
   "metadata": {},
   "outputs": [
    {
     "name": "stdout",
     "output_type": "stream",
     "text": [
      "[0.]\n"
     ]
    }
   ],
   "source": [
    "preds = predict_classification(unseen_ss, 'cat_model_v8_nf', sample_dims)"
   ]
  },
  {
   "cell_type": "code",
   "execution_count": 42,
   "id": "651cf71b",
   "metadata": {},
   "outputs": [
    {
     "name": "stdout",
     "output_type": "stream",
     "text": [
      "Plot id 8023 has no cloud free imagery and will be removed.\n",
      "Plot id 8124 has no cloud free imagery and will be removed.\n",
      "Training data includes 218 plot ids.\n",
      "Baseline: 0.609\n",
      "Xtrain Original: (146, 14, 14, 13) Xtrain Reshaped: (28616, 13)\n",
      "Unseen Original: (618, 616, 13) Unseen Reshaped: (380688, 13)\n",
      "Scaled to -4.609535471153089, 16.699078801004973\n",
      "Scaled to -5.780272087379689, 15.175777554070143\n",
      "[0. 1.]\n",
      "Writing ../tmp/ghana/preds/1644X1052Y_check.tif\n"
     ]
    },
    {
     "data": {
      "text/plain": [
       "'../tmp/ghana/preds/1644X1052Y_check.tif'"
      ]
     },
     "execution_count": 42,
     "metadata": {},
     "output_type": "execute_result"
    }
   ],
   "source": [
    "unseen_ss = p.reshape_and_scale(['v8'], sample, verbose=True)\n",
    "preds = p.predict_classification(unseen_ss, model='cat_model_v8_nf', sample_dims=sample_dims)\n",
    "p.write_tif(preds, bbx, tile_idx, 'ghana', suffix = 'check')"
   ]
  },
  {
   "cell_type": "code",
   "execution_count": 49,
   "id": "0d028b64",
   "metadata": {},
   "outputs": [
    {
     "data": {
      "text/plain": [
       "(4, 618, 616, 10)"
      ]
     },
     "execution_count": 49,
     "metadata": {},
     "output_type": "execute_result"
    }
   ],
   "source": [
    "s2_processed.shape"
   ]
  },
  {
   "cell_type": "code",
   "execution_count": 54,
   "id": "24da3db7",
   "metadata": {},
   "outputs": [
    {
     "data": {
      "image/png": "[encoded data removed]",
      "text/plain": [
       "<Figure size 640x480 with 2 Axes>"
      ]
     },
     "metadata": {},
     "output_type": "display_data"
    }
   ],
   "source": [
    "sns.heatmap(s2_processed[0, ..., 0]);"
   ]
  }
 ],
 "metadata": {
  "kernelspec": {
   "display_name": "Python [conda env:plantations2]",
   "language": "python",
   "name": "conda-env-plantations2-py"
  },
  "language_info": {
   "codemirror_mode": {
    "name": "ipython",
    "version": 3
   },
   "file_extension": ".py",
   "mimetype": "text/x-python",
   "name": "python",
   "nbconvert_exporter": "python",
   "pygments_lexer": "ipython3",
   "version": "3.7.12"
  },
  "toc": {
   "base_numbering": 1,
   "nav_menu": {},
   "number_sections": true,
   "sideBar": true,
   "skip_h1_title": false,
   "title_cell": "Table of Contents",
   "title_sidebar": "Contents",
   "toc_cell": false,
   "toc_position": {
    "height": "calc(100% - 180px)",
    "left": "10px",
    "top": "150px",
    "width": "206px"
   },
   "toc_section_display": true,
   "toc_window_display": true
  },
  "varInspector": {
   "cols": {
    "lenName": 16,
    "lenType": 16,
    "lenVar": 40
   },
   "kernels_config": {
    "python": {
     "delete_cmd_postfix": "",
     "delete_cmd_prefix": "del ",
     "library": "var_list.py",
     "varRefreshCmd": "print(var_dic_list())"
    },
    "r": {
     "delete_cmd_postfix": ") ",
     "delete_cmd_prefix": "rm(",
     "library": "var_list.r",
     "varRefreshCmd": "cat(var_dic_list()) "
    }
   },
   "types_to_exclude": [
    "module",
    "function",
    "builtin_function_or_method",
    "instance",
    "_Feature"
   ],
   "window_display": false
  }
 },
 "nbformat": 4,
 "nbformat_minor": 5
}
