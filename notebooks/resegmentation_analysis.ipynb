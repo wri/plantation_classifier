{
 "cells": [
  {
   "cell_type": "code",
   "execution_count": 1,
   "id": "3880e742-6732-4ac4-8f59-6ffdb4294ad7",
   "metadata": {},
   "outputs": [],
   "source": [
    "import numpy as np\n",
    "import hickle as hkl\n",
    "import pandas as pd\n",
    "import matplotlib.pyplot as plt\n",
    "import seaborn as sns\n",
    "import rasterio as rs\n",
    "import os\n",
    "import sys\n",
    "import boto3\n",
    "import yaml\n",
    "\n",
    "sys.path.append('../src/')\n",
    "from utils import quick_viz as make\n",
    "%load_ext autoreload\n",
    "%autoreload 2"
   ]
  },
  {
   "cell_type": "markdown",
   "id": "977da2b8-3823-4574-bc25-93a6523c080d",
   "metadata": {},
   "source": [
    "## Conclusions\n",
    "- A total of 255 tiles are affected by haze.\n",
    "- In areas where resegmentation did not help the predictions, we expect the features to play a role. This notebook visualizes 65 features for neighboring haze affected tiles where resegmentation appeared successful (pd_east) and unsuccessful (pd_west).\n",
    "- Artifacts are most extreme for the following feature indices pd_east: `10, 17, 19, 20, 31` and pd_west: `17, 19, 20, 23, 25, 28, 29, 31, 32, 40`. \n",
    "- The top 40 features used in the current model includes feature `42` which had strong artifacts in pd_west"
   ]
  },
  {
   "cell_type": "markdown",
   "id": "99383db8-6b67-48b5-86d9-8f1229c6c077",
   "metadata": {},
   "source": [
    "## Example: resegmentation is successful"
   ]
  },
  {
   "cell_type": "markdown",
   "id": "172fe79e-6996-4549-b947-28e4af8ee06f",
   "metadata": {},
   "source": [
    "### ARD"
   ]
  },
  {
   "cell_type": "code",
   "execution_count": 5,
   "id": "1ee797cf-18a7-40ff-ade7-1ab685e0dddf",
   "metadata": {},
   "outputs": [],
   "source": [
    "tile_idx_a = (1656, 1068)\n",
    "tile_idx_b = (1657, 1068)\n",
    "ard_a = hkl.load(f'../tmp/ghana/{str(tile_idx_a[0])}/{str(tile_idx_a[1])}/ard/{str(tile_idx_a[0])}X{str(tile_idx_a[1])}Y_ard.hkl')\n",
    "ard_b = hkl.load(f'../tmp/ghana/{str(tile_idx_b[0])}/{str(tile_idx_b[1])}/ard/{str(tile_idx_b[0])}X{str(tile_idx_b[1])}Y_ard.hkl')\n",
    "for i in range(0, 13):\n",
    "    make.heat_combine_neighbors(ard_a, ard_b, i, f\"Left:{tile_idx_a}  Right:{tile_idx_b}, Index: {i}\")"
   ]
  },
  {
   "cell_type": "code",
   "execution_count": 7,
   "id": "53ded533-63f4-457e-9d7b-8d63b12fbd22",
   "metadata": {},
   "outputs": [
    {
     "data": {
      "text/plain": [
       "((618, 614, 65), (618, 614, 65))"
      ]
     },
     "execution_count": 7,
     "metadata": {},
     "output_type": "execute_result"
    }
   ],
   "source": [
    "tile_idx_a = (1656, 1068)\n",
    "tile_idx_b = (1657, 1068)\n",
    "feats_a = hkl.load(f'../tmp/ghana/{str(tile_idx_a[0])}/{str(tile_idx_a[1])}/raw/feats/{str(tile_idx_a[0])}X{str(tile_idx_a[1])}Y_feats.hkl')\n",
    "feats_b = hkl.load(f'../tmp/ghana/{str(tile_idx_b[0])}/{str(tile_idx_b[1])}/raw/feats/{str(tile_idx_b[0])}X{str(tile_idx_b[1])}Y_feats.hkl')\n",
    "feats_a = np.rollaxis(feats_a, 0, 3)\n",
    "feats_a = np.rollaxis(feats_a, 0, 2)\n",
    "feats_b = np.rollaxis(feats_b, 0, 3)\n",
    "feats_b = np.rollaxis(feats_b, 0, 2)\n",
    "feats_a.shape, feats_b.shape"
   ]
  },
  {
   "cell_type": "code",
   "execution_count": 9,
   "id": "7a309acc-b27d-44aa-958d-1ac063261515",
   "metadata": {},
   "outputs": [
    {
     "name": "stderr",
     "output_type": "stream",
     "text": [
      "/Users/jessica.ertel/github/plantation_classifier/notebooks/../src/utils/quick_viz.py:271: RuntimeWarning: More than 20 figures have been opened. Figures created through the pyplot interface (`matplotlib.pyplot.figure`) are retained until explicitly closed and may consume too much memory. (To control this warning, see the rcParam `figure.max_open_warning`). Consider using `matplotlib.pyplot.close()`.\n",
      "  plt.figure(figsize=(9,3))\n"
     ]
    },
    {
     "name": "stdout",
     "output_type": "stream",
     "text": [
      "Error in callback <function _draw_all_if_interactive at 0x166fcaef0> (for post_execute), with arguments args (),kwargs {}:\n"
     ]
    },
    {
     "name": "stderr",
     "output_type": "stream",
     "text": [
      "\n",
      "KeyboardInterrupt\n",
      "\n"
     ]
    },
    {
     "name": "stdout",
     "output_type": "stream",
     "text": [
      "Error in callback <function flush_figures at 0x16f992680> (for post_execute), with arguments args (),kwargs {}:\n"
     ]
    },
    {
     "name": "stderr",
     "output_type": "stream",
     "text": [
      "\n",
      "KeyboardInterrupt\n",
      "\n"
     ]
    }
   ],
   "source": [
    "for i in range(0, 65):\n",
    "    make.heat_combine_neighbors(feats_a, feats_b, i, f\"Left:{tile_idx_a}  Right:{tile_idx_b}, Index: {i}\")"
   ]
  },
  {
   "cell_type": "markdown",
   "id": "5f0f7ea2-226c-4273-9dbd-3c3a21ae09ee",
   "metadata": {},
   "source": [
    "## Example: resegmentation is unsuccessful"
   ]
  },
  {
   "cell_type": "markdown",
   "id": "b27a315d-6d4c-4a8b-b2dd-660608ffb7ee",
   "metadata": {},
   "source": [
    "### ARD"
   ]
  },
  {
   "cell_type": "code",
   "execution_count": 11,
   "id": "5e364cf4-392d-4d73-98c6-0a462dec921a",
   "metadata": {},
   "outputs": [],
   "source": [
    "# tile_idx_a = (1647, 1079)\n",
    "# tile_idx_b = (1648, 1079)\n",
    "# ard_a = hkl.load(f'../tmp/ghana/{str(tile_idx_a[0])}/{str(tile_idx_a[1])}/ard/{str(tile_idx_a[0])}X{str(tile_idx_a[1])}Y_ard.hkl')\n",
    "# ard_b = hkl.load(f'../tmp/ghana/{str(tile_idx_b[0])}/{str(tile_idx_b[1])}/ard/{str(tile_idx_b[0])}X{str(tile_idx_b[1])}Y_ard.hkl')\n",
    "# for i in range(0, 5):\n",
    "#     make.heat_combine_neighbors(ard_a, ard_b, i, f\"Left:{tile_idx_a}  Right:{tile_idx_b}, Index: {i}\")"
   ]
  },
  {
   "cell_type": "markdown",
   "id": "a2767c26-88f6-47e1-ae66-1f01c1f7b015",
   "metadata": {},
   "source": [
    "### Features"
   ]
  },
  {
   "cell_type": "code",
   "execution_count": 34,
   "id": "763a3917-3d67-4cbb-af7d-ebbeaf7fcf1a",
   "metadata": {},
   "outputs": [
    {
     "data": {
      "text/plain": [
       "((618, 614, 65), (618, 614, 65))"
      ]
     },
     "execution_count": 34,
     "metadata": {},
     "output_type": "execute_result"
    }
   ],
   "source": [
    "tile_idx_a = (1647, 1079)\n",
    "tile_idx_b = (1648, 1079)\n",
    "feats_a = hkl.load(f'../tmp/ghana/{str(tile_idx_a[0])}/{str(tile_idx_a[1])}/raw/feats/{str(tile_idx_a[0])}X{str(tile_idx_a[1])}Y_feats.hkl')\n",
    "feats_b = hkl.load(f'../tmp/ghana/{str(tile_idx_b[0])}/{str(tile_idx_b[1])}/raw/feats/{str(tile_idx_b[0])}X{str(tile_idx_b[1])}Y_feats.hkl')\n",
    "feats_a = np.rollaxis(feats_a, 0, 3)\n",
    "feats_a = np.rollaxis(feats_a, 0, 2)\n",
    "feats_b = np.rollaxis(feats_b, 0, 3)\n",
    "feats_b = np.rollaxis(feats_b, 0, 2)\n",
    "feats_a.shape, feats_b.shape"
   ]
  },
  {
   "cell_type": "code",
   "execution_count": 40,
   "id": "71d58122-52bf-46f2-a3da-64e12c40c195",
   "metadata": {},
   "outputs": [],
   "source": [
    "# for i in range(0, 65):\n",
    "#     make.heat_combine_neighbors(feats_a, feats_b, i, f\"Left:{tile_idx_a}  Right:{tile_idx_b}, Index: {i}\")"
   ]
  },
  {
   "cell_type": "markdown",
   "id": "290ee3ab-e694-46dd-bf3e-e8065270a0a0",
   "metadata": {},
   "source": [
    "## Which features should be targeted?"
   ]
  },
  {
   "cell_type": "code",
   "execution_count": 38,
   "id": "48bbcd24-e940-4739-ab9d-4c8c18d807fe",
   "metadata": {},
   "outputs": [
    {
     "data": {
      "text/plain": [
       "([23, 30, 32, 33, 44], [30, 32, 33, 36, 38, 41, 42, 44, 45, 53])"
      ]
     },
     "execution_count": 38,
     "metadata": {},
     "output_type": "execute_result"
    }
   ],
   "source": [
    "east = [10, 17, 19, 20, 31]\n",
    "west = [17, 19, 20, 23, 25, 28, 29, 31, 32, 40]\n",
    "east = [i+13 for i in east]\n",
    "west = [i+13 for i in west]\n",
    "east, west"
   ]
  },
  {
   "cell_type": "markdown",
   "id": "ca7dfab2-8b1f-47ff-8cbb-4dc20e2f2bb8",
   "metadata": {},
   "source": [
    "top features for v25.5 model (current): `0, 1, 2, 3, 4, 5, 6, 7, 8, 9, 10, 11, 12, 13, 15, 18, 20, 21, 24, 34, 42, 50, 52, 59, 60, 62, 63, 64, 65, 70, 71, 72, 73, 74, 76, 77, 84, 89, 90, 93`"
   ]
  },
  {
   "cell_type": "code",
   "execution_count": 2,
   "id": "96b5011e-1db3-4b88-80aa-70fd2f13adf0",
   "metadata": {},
   "outputs": [],
   "source": [
    "north = pd.read_csv('../data/database/haze_pd_north.csv')\n",
    "east = pd.read_csv('../data/database/haze_pd_east.csv')\n",
    "west = pd.read_csv('../data/database/haze_pd_west.csv') \n",
    "artifacts = pd.concat([north, east, west], axis=0, ignore_index=True)\n",
    "#artifacts.to_csv('../data/database/haze_artifacts_full.csv')"
   ]
  },
  {
   "cell_type": "code",
   "execution_count": 3,
   "id": "637f1687-4850-4d16-b805-32474bfedcf2",
   "metadata": {},
   "outputs": [
    {
     "data": {
      "text/html": [
       "<div>\n",
       "<style scoped>\n",
       "    .dataframe tbody tr th:only-of-type {\n",
       "        vertical-align: middle;\n",
       "    }\n",
       "\n",
       "    .dataframe tbody tr th {\n",
       "        vertical-align: top;\n",
       "    }\n",
       "\n",
       "    .dataframe thead th {\n",
       "        text-align: right;\n",
       "    }\n",
       "</style>\n",
       "<table border=\"1\" class=\"dataframe\">\n",
       "  <thead>\n",
       "    <tr style=\"text-align: right;\">\n",
       "      <th></th>\n",
       "      <th>X</th>\n",
       "      <th>Y</th>\n",
       "      <th>Y_tile</th>\n",
       "      <th>X_tile</th>\n",
       "      <th>country</th>\n",
       "      <th>ADM2_EN</th>\n",
       "      <th>ADM1_EN</th>\n",
       "      <th>ADM0_EN</th>\n",
       "      <th>validOn</th>\n",
       "      <th>Area_ha</th>\n",
       "      <th>n</th>\n",
       "      <th>distance</th>\n",
       "      <th>feature_x</th>\n",
       "      <th>feature_y</th>\n",
       "      <th>nearest_x</th>\n",
       "      <th>nearest_y</th>\n",
       "    </tr>\n",
       "  </thead>\n",
       "  <tbody>\n",
       "    <tr>\n",
       "      <th>0</th>\n",
       "      <td>-1.8611</td>\n",
       "      <td>10.9722</td>\n",
       "      <td>1161</td>\n",
       "      <td>1652</td>\n",
       "      <td>Ghana</td>\n",
       "      <td>Sissala East</td>\n",
       "      <td>Upper West</td>\n",
       "      <td>Ghana</td>\n",
       "      <td>2021/03/08</td>\n",
       "      <td>509357.138147</td>\n",
       "      <td>1</td>\n",
       "      <td>0.0</td>\n",
       "      <td>-1.8611</td>\n",
       "      <td>10.9722</td>\n",
       "      <td>-1.8611</td>\n",
       "      <td>10.9722</td>\n",
       "    </tr>\n",
       "    <tr>\n",
       "      <th>1</th>\n",
       "      <td>-1.8056</td>\n",
       "      <td>10.9722</td>\n",
       "      <td>1161</td>\n",
       "      <td>1653</td>\n",
       "      <td>Ghana</td>\n",
       "      <td>Sissala East</td>\n",
       "      <td>Upper West</td>\n",
       "      <td>Ghana</td>\n",
       "      <td>2021/03/08</td>\n",
       "      <td>509357.138147</td>\n",
       "      <td>1</td>\n",
       "      <td>0.0</td>\n",
       "      <td>-1.8056</td>\n",
       "      <td>10.9722</td>\n",
       "      <td>-1.8056</td>\n",
       "      <td>10.9722</td>\n",
       "    </tr>\n",
       "    <tr>\n",
       "      <th>2</th>\n",
       "      <td>-1.7500</td>\n",
       "      <td>10.9722</td>\n",
       "      <td>1161</td>\n",
       "      <td>1654</td>\n",
       "      <td>Ghana</td>\n",
       "      <td>Sissala East</td>\n",
       "      <td>Upper West</td>\n",
       "      <td>Ghana</td>\n",
       "      <td>2021/03/08</td>\n",
       "      <td>509357.138147</td>\n",
       "      <td>1</td>\n",
       "      <td>0.0</td>\n",
       "      <td>-1.7500</td>\n",
       "      <td>10.9722</td>\n",
       "      <td>-1.7500</td>\n",
       "      <td>10.9722</td>\n",
       "    </tr>\n",
       "    <tr>\n",
       "      <th>3</th>\n",
       "      <td>-1.3056</td>\n",
       "      <td>10.9722</td>\n",
       "      <td>1161</td>\n",
       "      <td>1662</td>\n",
       "      <td>Ghana</td>\n",
       "      <td>Kasena Nankana West</td>\n",
       "      <td>Upper East</td>\n",
       "      <td>Ghana</td>\n",
       "      <td>2021/03/08</td>\n",
       "      <td>87319.983711</td>\n",
       "      <td>1</td>\n",
       "      <td>0.0</td>\n",
       "      <td>-1.3056</td>\n",
       "      <td>10.9722</td>\n",
       "      <td>-1.3056</td>\n",
       "      <td>10.9722</td>\n",
       "    </tr>\n",
       "    <tr>\n",
       "      <th>4</th>\n",
       "      <td>-1.3611</td>\n",
       "      <td>10.9167</td>\n",
       "      <td>1160</td>\n",
       "      <td>1661</td>\n",
       "      <td>Ghana</td>\n",
       "      <td>Kasena Nankana West</td>\n",
       "      <td>Upper East</td>\n",
       "      <td>Ghana</td>\n",
       "      <td>2021/03/08</td>\n",
       "      <td>87319.983711</td>\n",
       "      <td>1</td>\n",
       "      <td>0.0</td>\n",
       "      <td>-1.3611</td>\n",
       "      <td>10.9167</td>\n",
       "      <td>-1.3611</td>\n",
       "      <td>10.9167</td>\n",
       "    </tr>\n",
       "  </tbody>\n",
       "</table>\n",
       "</div>"
      ],
      "text/plain": [
       "        X        Y  Y_tile  X_tile country              ADM2_EN     ADM1_EN  \\\n",
       "0 -1.8611  10.9722    1161    1652   Ghana         Sissala East  Upper West   \n",
       "1 -1.8056  10.9722    1161    1653   Ghana         Sissala East  Upper West   \n",
       "2 -1.7500  10.9722    1161    1654   Ghana         Sissala East  Upper West   \n",
       "3 -1.3056  10.9722    1161    1662   Ghana  Kasena Nankana West  Upper East   \n",
       "4 -1.3611  10.9167    1160    1661   Ghana  Kasena Nankana West  Upper East   \n",
       "\n",
       "  ADM0_EN     validOn        Area_ha  n  distance  feature_x  feature_y  \\\n",
       "0   Ghana  2021/03/08  509357.138147  1       0.0    -1.8611    10.9722   \n",
       "1   Ghana  2021/03/08  509357.138147  1       0.0    -1.8056    10.9722   \n",
       "2   Ghana  2021/03/08  509357.138147  1       0.0    -1.7500    10.9722   \n",
       "3   Ghana  2021/03/08   87319.983711  1       0.0    -1.3056    10.9722   \n",
       "4   Ghana  2021/03/08   87319.983711  1       0.0    -1.3611    10.9167   \n",
       "\n",
       "   nearest_x  nearest_y  \n",
       "0    -1.8611    10.9722  \n",
       "1    -1.8056    10.9722  \n",
       "2    -1.7500    10.9722  \n",
       "3    -1.3056    10.9722  \n",
       "4    -1.3611    10.9167  "
      ]
     },
     "execution_count": 3,
     "metadata": {},
     "output_type": "execute_result"
    }
   ],
   "source": [
    "artifacts.head()"
   ]
  },
  {
   "cell_type": "code",
   "execution_count": 65,
   "id": "1416a844-78d2-4c1b-bbf1-a4e5f9853325",
   "metadata": {},
   "outputs": [],
   "source": [
    "artifacts = pd.read_csv('../data/database/haze_artifacts_full.csv')\n",
    "total_differences = np.zeros((len(artifacts), 65)) # shape is 255, 65\n",
    "\n",
    "counter = 0\n",
    "\n",
    "# iterate through every tile id in artifacts and identify \n",
    "# if there is a neighboring tile\n",
    "for i, val in artifacts.iterrows():\n",
    "    left_x = val['X_tile']\n",
    "    left_y = val['Y_tile']\n",
    "    right_x = int(left_x) + 1\n",
    "    right_y = int(left_y)\n",
    "    check_neighbor = artifacts[(artifacts['X_tile'] == right_x) & (artifacts['Y_tile'] == right_y)] \n",
    "    if not check_neighbor.empty:\n",
    "        folder = f'../tmp/ghana/'\n",
    "        left = hkl.load(f'{folder}{str(left_x)}/{str(left_y)}/raw/feats/{str(left_x)}X{str(left_y)}Y_feats.hkl')\n",
    "        right = hkl.load(f'{folder}{str(right_x)}/{str(right_y)}/raw/feats/{str(right_x)}X{str(right_y)}Y_feats.hkl')\n",
    "        lboundary = left[:, :, -2:]\n",
    "        rboundary = right[:, :, :2]\n",
    "        \n",
    "        # Calculate the range for each feature\n",
    "        #f_range = np.max(np.concatenate((lboundary, rboundary), axis=2), axis=(1, 2)) - np.min(np.concatenate((lboundary, rboundary), axis=2), axis=(1, 2))\n",
    "        \n",
    "        # Calculate the normalized difference across the boundary for each feature\n",
    "        boundary_diff = np.mean(abs(lboundary - rboundary) / (np.mean(lboundary + rboundary) / 2), axis=(1, 2))\n",
    "        \n",
    "        # Normalize the normalized difference by the feature range\n",
    "        # dont need to normalize here?\n",
    "        # norm_diff = boundary_diff / f_range\n",
    "\n",
    "        # Store the result in total_differences\n",
    "        total_differences[counter] = boundary_diff\n",
    "        #print(f\"Diff for {left_x, left_y} and {right_x, right_y} is {boundary_diff}\")\n",
    "\n",
    "        counter += 1\n",
    "\n",
    "# higher values are sharper artifacts\n",
    "# Cast total differences to boolean where its true if its an outlier and false if not\n",
    "# where each value is the fraction of 255 samples that are outside of range for the ith feature\n",
    "output = np.mean(np.logical_or(total_differences >= 1700, total_differences <= -1700), axis = 0)"
   ]
  },
  {
   "cell_type": "code",
   "execution_count": 66,
   "id": "ae32ce81-7cbc-4be3-96f7-7525fca1cb7b",
   "metadata": {},
   "outputs": [
    {
     "data": {
      "image/png": "[encoded data removed]",
      "text/plain": [
       "<Figure size 1500x500 with 1 Axes>"
      ]
     },
     "metadata": {},
     "output_type": "display_data"
    }
   ],
   "source": [
    "## normalized\n",
    "plt.figure(figsize=(15,5))\n",
    "plt.hist(total_differences);"
   ]
  },
  {
   "cell_type": "code",
   "execution_count": 68,
   "id": "4637b588-5efb-4f94-ace3-8463e34d8834",
   "metadata": {},
   "outputs": [
    {
     "data": {
      "text/plain": [
       "array([0.        , 0.00392157, 0.00784314, 0.00392157, 0.        ,\n",
       "       0.        , 0.01176471, 0.        , 0.01176471, 0.01176471,\n",
       "       0.01176471, 0.00392157, 0.00392157, 0.00392157, 0.00392157,\n",
       "       0.        , 0.        , 0.00784314, 0.        , 0.        ,\n",
       "       0.        , 0.01176471, 0.01176471, 0.01176471, 0.00392157,\n",
       "       0.00784314, 0.        , 0.        , 0.        , 0.        ,\n",
       "       0.        , 0.        , 0.        , 0.00784314, 0.02745098,\n",
       "       0.02352941, 0.00392157, 0.00392157, 0.03137255, 0.01568627,\n",
       "       0.01568627, 0.00784314, 0.01568627, 0.00392157, 0.02352941,\n",
       "       0.01568627, 0.00392157, 0.03137255, 0.00392157, 0.03529412,\n",
       "       0.01176471, 0.01568627, 0.00784314, 0.00392157, 0.03137255,\n",
       "       0.00784314, 0.01960784, 0.        , 0.00392157, 0.02352941,\n",
       "       0.00392157, 0.02352941, 0.02745098, 0.00392157, 0.01176471])"
      ]
     },
     "execution_count": 68,
     "metadata": {},
     "output_type": "execute_result"
    }
   ],
   "source": [
    "output"
   ]
  },
  {
   "cell_type": "code",
   "execution_count": 69,
   "id": "1ca2f6de-89ab-4a9c-bed1-6fc103bef364",
   "metadata": {},
   "outputs": [
    {
     "data": {
      "text/plain": [
       "0.00392156862745098"
      ]
     },
     "execution_count": 69,
     "metadata": {},
     "output_type": "execute_result"
    }
   ],
   "source": [
    "output[3]"
   ]
  },
  {
   "cell_type": "code",
   "execution_count": 72,
   "id": "c3cde8a8-1697-4b5a-963a-73eca26d3fa5",
   "metadata": {},
   "outputs": [
    {
     "data": {
      "text/plain": [
       "array([0.                  , 0.00392156862745098 , 0.00784313725490196 ,\n",
       "       0.011764705882352941, 0.01568627450980392 , 0.0196078431372549  ,\n",
       "       0.023529411764705882, 0.027450980392156862, 0.03137254901960784 ,\n",
       "       0.03529411764705882 ])"
      ]
     },
     "execution_count": 72,
     "metadata": {},
     "output_type": "execute_result"
    }
   ],
   "source": [
    "np.set_printoptions(precision=20)\n",
    "np.unique(output)"
   ]
  },
  {
   "cell_type": "code",
   "execution_count": 70,
   "id": "3f8740dd-c5d8-4b87-be21-ba910b8a373b",
   "metadata": {},
   "outputs": [
    {
     "data": {
      "text/plain": [
       "array([0.        , 0.00392157, 0.00784314, 0.01176471, 0.01568627,\n",
       "       0.01960784, 0.02352941, 0.02745098, 0.03137255, 0.03529412])"
      ]
     },
     "execution_count": 70,
     "metadata": {},
     "output_type": "execute_result"
    }
   ],
   "source": [
    "np.unique(output)"
   ]
  },
  {
   "cell_type": "code",
   "execution_count": 71,
   "id": "7ae1ad03-feb6-41b3-8585-a4641cfd2d0c",
   "metadata": {},
   "outputs": [
    {
     "data": {
      "image/png": "[encoded data removed]",
      "text/plain": [
       "<Figure size 1200x600 with 1 Axes>"
      ]
     },
     "metadata": {},
     "output_type": "display_data"
    }
   ],
   "source": [
    "# Plotting the bar chart\n",
    "plt.figure(figsize=(12, 6))\n",
    "plt.bar(range(len(output)), output, color='blue')\n",
    "plt.xlabel('Index')\n",
    "plt.ylabel('Value')\n",
    "plt.xticks(range(len(output)))\n",
    "plt.xticks(rotation=90)\n",
    "plt.title('')\n",
    "plt.show()"
   ]
  },
  {
   "cell_type": "code",
   "execution_count": 48,
   "id": "b602c877-9d19-4f34-97ba-732d82b46486",
   "metadata": {},
   "outputs": [
    {
     "data": {
      "image/png": "[encoded data removed]",
      "text/plain": [
       "<Figure size 1200x600 with 1 Axes>"
      ]
     },
     "metadata": {},
     "output_type": "display_data"
    }
   ],
   "source": [
    "# Plotting the bar chart\n",
    "plt.figure(figsize=(12, 6))\n",
    "plt.bar(range(len(output)), output, color='skyblue')\n",
    "plt.xlabel('Index')\n",
    "plt.ylabel('Value')\n",
    "plt.xticks(range(len(output)))\n",
    "plt.xticks(rotation=90)\n",
    "plt.title('')\n",
    "plt.show()"
   ]
  },
  {
   "cell_type": "code",
   "execution_count": 26,
   "id": "ec10dc21-7698-42c6-887f-3bc79e818347",
   "metadata": {},
   "outputs": [
    {
     "data": {
      "text/plain": [
       "(376,)"
      ]
     },
     "execution_count": 26,
     "metadata": {},
     "output_type": "execute_result"
    }
   ],
   "source": [
    "# what are the indices of the features outside of the threshold\n",
    "# np where returns a list of indices \n",
    "outliers = np.where((total_differences >= 0.5) | (total_differences <= -0.5))\n",
    "outliers[1].shape"
   ]
  },
  {
   "cell_type": "code",
   "execution_count": 49,
   "id": "1a58d3d6-de1f-4a98-8f2e-1526c0ec28a9",
   "metadata": {},
   "outputs": [
    {
     "data": {
      "text/plain": [
       "(array([ 6,  8,  9, 10, 12, 13, 21, 22, 23, 25, 40, 44, 47, 49, 52, 54, 61]),)"
      ]
     },
     "execution_count": 49,
     "metadata": {},
     "output_type": "execute_result"
    }
   ],
   "source": [
    "outliers = np.where((output >= 0.030))\n",
    "outliers"
   ]
  },
  {
   "cell_type": "code",
   "execution_count": 51,
   "id": "05ea0657-5c4b-4a74-b362-9aa3bb7519a8",
   "metadata": {},
   "outputs": [
    {
     "data": {
      "text/plain": [
       "[19, 21, 22, 23, 25, 26, 34, 35, 36, 38, 53, 57, 60, 62, 65, 67, 74]"
      ]
     },
     "execution_count": 51,
     "metadata": {},
     "output_type": "execute_result"
    }
   ],
   "source": [
    "tmp = [ 6,  8,  9, 10, 12, 13, 21, 22, 23, 25, 40, 44, 47, 49, 52, 54, 61]\n",
    "indices = [i+13 for i in tmp]\n",
    "indices"
   ]
  },
  {
   "cell_type": "code",
   "execution_count": 23,
   "id": "dd99a09d-9862-4930-bdc6-7e8859d70920",
   "metadata": {},
   "outputs": [
    {
     "data": {
      "text/plain": [
       "array([ 0,  1,  2,  3,  4,  5,  6,  7,  8,  9, 10, 11, 12, 13, 14, 15, 16,\n",
       "       17, 18, 19, 20, 21, 22, 23, 24, 25, 26, 27, 28, 29, 30, 31, 32, 33,\n",
       "       34, 35, 36, 37, 38, 39, 40, 41, 42, 43, 44, 45, 46, 47, 48, 49, 50,\n",
       "       51, 52, 53, 54, 55, 56, 57, 58, 59, 60, 61, 62, 63, 64])"
      ]
     },
     "execution_count": 23,
     "metadata": {},
     "output_type": "execute_result"
    }
   ],
   "source": [
    "np.unique(outliers[1])"
   ]
  },
  {
   "cell_type": "code",
   "execution_count": 24,
   "id": "e9eb9449-1973-4956-a7cc-5b264cb74901",
   "metadata": {},
   "outputs": [
    {
     "data": {
      "text/plain": [
       "65"
      ]
     },
     "execution_count": 24,
     "metadata": {},
     "output_type": "execute_result"
    }
   ],
   "source": [
    "len(np.unique(outliers[1]))"
   ]
  },
  {
   "cell_type": "code",
   "execution_count": 27,
   "id": "d227654f-2b60-4ad7-a551-c85e350ad4b6",
   "metadata": {},
   "outputs": [
    {
     "data": {
      "text/plain": [
       "(255, 65)"
      ]
     },
     "execution_count": 27,
     "metadata": {},
     "output_type": "execute_result"
    }
   ],
   "source": [
    "total_differences.shape"
   ]
  },
  {
   "cell_type": "code",
   "execution_count": null,
   "id": "13774de0-9c8f-41d0-85e2-4fc22cc84949",
   "metadata": {},
   "outputs": [],
   "source": []
  },
  {
   "cell_type": "code",
   "execution_count": 28,
   "id": "b3181b49-6024-4643-8a0e-67316942a9e8",
   "metadata": {},
   "outputs": [
    {
     "data": {
      "image/png": "[encoded data removed]",
      "text/plain": [
       "<Figure size 1500x500 with 1 Axes>"
      ]
     },
     "metadata": {},
     "output_type": "display_data"
    }
   ],
   "source": [
    "## normalized\n",
    "plt.figure(figsize=(15,5))\n",
    "plt.hist(total_differences);"
   ]
  },
  {
   "cell_type": "code",
   "execution_count": 30,
   "id": "149a9bb6-a264-4ed3-9d43-1187bea5992a",
   "metadata": {},
   "outputs": [
    {
     "data": {
      "text/plain": [
       "(255, 65)"
      ]
     },
     "execution_count": 30,
     "metadata": {},
     "output_type": "execute_result"
    }
   ],
   "source": [
    "total_differences.shape"
   ]
  }
 ],
 "metadata": {
  "kernelspec": {
   "display_name": "plantations5",
   "language": "python",
   "name": "plantations5"
  },
  "language_info": {
   "codemirror_mode": {
    "name": "ipython",
    "version": 3
   },
   "file_extension": ".py",
   "mimetype": "text/x-python",
   "name": "python",
   "nbconvert_exporter": "python",
   "pygments_lexer": "ipython3",
   "version": "3.10.13"
  }
 },
 "nbformat": 4,
 "nbformat_minor": 5
}
