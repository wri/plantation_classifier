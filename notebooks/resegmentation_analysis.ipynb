{
 "cells": [
  {
   "cell_type": "code",
   "execution_count": 2,
   "id": "3880e742-6732-4ac4-8f59-6ffdb4294ad7",
   "metadata": {},
   "outputs": [],
   "source": [
    "import numpy as np\n",
    "import hickle as hkl\n",
    "import pandas as pd\n",
    "import matplotlib.pyplot as plt\n",
    "import seaborn as sns\n",
    "import rasterio as rs\n",
    "import os\n",
    "import sys\n",
    "import boto3\n",
    "import yaml\n",
    "\n",
    "sys.path.append('../src/')\n",
    "from utils import quick_viz as make\n",
    "%load_ext autoreload\n",
    "%autoreload 2"
   ]
  },
  {
   "cell_type": "markdown",
   "id": "977da2b8-3823-4574-bc25-93a6523c080d",
   "metadata": {},
   "source": [
    "## Conclusions\n",
    "- A total of 255 tiles are affected by haze.\n",
    "- In areas where resegmentation did not help the predictions, we expect the features to play a role. This notebook visualizes 65 features for neighboring haze affected tiles where resegmentation appeared successful (pd_east) and unsuccessful (pd_west).\n",
    "- Artifacts are most extreme for the following feature indices pd_east: `10, 17, 19, 20, 31` and pd_west: `17, 19, 20, 23, 25, 28, 29, 31, 32, 40`. \n",
    "- The top 40 features used in the current model includes feature `42` which had strong artifacts in pd_west"
   ]
  },
  {
   "cell_type": "code",
   "execution_count": 38,
   "id": "48bbcd24-e940-4739-ab9d-4c8c18d807fe",
   "metadata": {},
   "outputs": [
    {
     "data": {
      "text/plain": [
       "([23, 30, 32, 33, 44], [30, 32, 33, 36, 38, 41, 42, 44, 45, 53])"
      ]
     },
     "execution_count": 38,
     "metadata": {},
     "output_type": "execute_result"
    }
   ],
   "source": [
    "east = [10, 17, 19, 20, 31]\n",
    "west = [17, 19, 20, 23, 25, 28, 29, 31, 32, 40]\n",
    "east = [i+13 for i in east]\n",
    "west = [i+13 for i in west]\n",
    "east, west"
   ]
  },
  {
   "cell_type": "markdown",
   "id": "ca7dfab2-8b1f-47ff-8cbb-4dc20e2f2bb8",
   "metadata": {},
   "source": [
    "top features for v25.5 model (current): `0, 1, 2, 3, 4, 5, 6, 7, 8, 9, 10, 11, 12, 13, 15, 18, 20, 21, 24, 34, 42, 50, 52, 59, 60, 62, 63, 64, 65, 70, 71, 72, 73, 74, 76, 77, 84, 89, 90, 93`"
   ]
  },
  {
   "cell_type": "markdown",
   "id": "99383db8-6b67-48b5-86d9-8f1229c6c077",
   "metadata": {},
   "source": [
    "## Example: resegmentation is successful"
   ]
  },
  {
   "cell_type": "markdown",
   "id": "172fe79e-6996-4549-b947-28e4af8ee06f",
   "metadata": {},
   "source": [
    "### ARD"
   ]
  },
  {
   "cell_type": "code",
   "execution_count": 29,
   "id": "1ee797cf-18a7-40ff-ade7-1ab685e0dddf",
   "metadata": {},
   "outputs": [],
   "source": [
    "# tile_idx_a = (1656, 1068)\n",
    "# tile_idx_b = (1657, 1068)\n",
    "# ard_a = hkl.load(f'../tmp/ghana/{str(tile_idx_a[0])}/{str(tile_idx_a[1])}/ard/{str(tile_idx_a[0])}X{str(tile_idx_a[1])}Y_ard.hkl')\n",
    "# ard_b = hkl.load(f'../tmp/ghana/{str(tile_idx_b[0])}/{str(tile_idx_b[1])}/ard/{str(tile_idx_b[0])}X{str(tile_idx_b[1])}Y_ard.hkl')\n",
    "# for i in range(0, 13):\n",
    "#     make.heat_combine_neighbors(ard_a, ard_b, i, f\"Left:{tile_idx_a}  Right:{tile_idx_b}, Index: {i}\")"
   ]
  },
  {
   "cell_type": "code",
   "execution_count": 31,
   "id": "53ded533-63f4-457e-9d7b-8d63b12fbd22",
   "metadata": {},
   "outputs": [
    {
     "data": {
      "text/plain": [
       "((618, 614, 65), (618, 614, 65))"
      ]
     },
     "execution_count": 31,
     "metadata": {},
     "output_type": "execute_result"
    }
   ],
   "source": [
    "tile_idx_a = (1656, 1068)\n",
    "tile_idx_b = (1657, 1068)\n",
    "feats_a = hkl.load(f'../tmp/ghana/{str(tile_idx_a[0])}/{str(tile_idx_a[1])}/raw/feats/{str(tile_idx_a[0])}X{str(tile_idx_a[1])}Y_feats.hkl')\n",
    "feats_b = hkl.load(f'../tmp/ghana/{str(tile_idx_b[0])}/{str(tile_idx_b[1])}/raw/feats/{str(tile_idx_b[0])}X{str(tile_idx_b[1])}Y_feats.hkl')\n",
    "feats_a = np.rollaxis(feats_a, 0, 3)\n",
    "feats_a = np.rollaxis(feats_a, 0, 2)\n",
    "feats_b = np.rollaxis(feats_b, 0, 3)\n",
    "feats_b = np.rollaxis(feats_b, 0, 2)\n",
    "feats_a.shape, feats_b.shape"
   ]
  },
  {
   "cell_type": "code",
   "execution_count": 39,
   "id": "7a309acc-b27d-44aa-958d-1ac063261515",
   "metadata": {},
   "outputs": [],
   "source": [
    "# for i in range(0, 65):\n",
    "#     make.heat_combine_neighbors(feats_a, feats_b, i, f\"Left:{tile_idx_a}  Right:{tile_idx_b}, Index: {i}\")"
   ]
  },
  {
   "cell_type": "markdown",
   "id": "5f0f7ea2-226c-4273-9dbd-3c3a21ae09ee",
   "metadata": {},
   "source": [
    "## Example: resegmentation is unsuccessful"
   ]
  },
  {
   "cell_type": "markdown",
   "id": "b27a315d-6d4c-4a8b-b2dd-660608ffb7ee",
   "metadata": {},
   "source": [
    "### ARD"
   ]
  },
  {
   "cell_type": "code",
   "execution_count": 30,
   "id": "5e364cf4-392d-4d73-98c6-0a462dec921a",
   "metadata": {},
   "outputs": [],
   "source": [
    "tile_idx_a = (1647, 1079)\n",
    "tile_idx_b = (1648, 1079)\n",
    "ard_a = hkl.load(f'../tmp/ghana/{str(tile_idx_a[0])}/{str(tile_idx_a[1])}/ard/{str(tile_idx_a[0])}X{str(tile_idx_a[1])}Y_ard.hkl')\n",
    "ard_b = hkl.load(f'../tmp/ghana/{str(tile_idx_b[0])}/{str(tile_idx_b[1])}/ard/{str(tile_idx_b[0])}X{str(tile_idx_b[1])}Y_ard.hkl')\n",
    "for i in range(0, 13):\n",
    "    make.heat_combine_neighbors(ard_a, ard_b, i, f\"Left:{tile_idx_a}  Right:{tile_idx_b}, Index: {i}\")"
   ]
  },
  {
   "cell_type": "markdown",
   "id": "a2767c26-88f6-47e1-ae66-1f01c1f7b015",
   "metadata": {},
   "source": [
    "### Features"
   ]
  },
  {
   "cell_type": "code",
   "execution_count": 34,
   "id": "763a3917-3d67-4cbb-af7d-ebbeaf7fcf1a",
   "metadata": {},
   "outputs": [
    {
     "data": {
      "text/plain": [
       "((618, 614, 65), (618, 614, 65))"
      ]
     },
     "execution_count": 34,
     "metadata": {},
     "output_type": "execute_result"
    }
   ],
   "source": [
    "tile_idx_a = (1647, 1079)\n",
    "tile_idx_b = (1648, 1079)\n",
    "feats_a = hkl.load(f'../tmp/ghana/{str(tile_idx_a[0])}/{str(tile_idx_a[1])}/raw/feats/{str(tile_idx_a[0])}X{str(tile_idx_a[1])}Y_feats.hkl')\n",
    "feats_b = hkl.load(f'../tmp/ghana/{str(tile_idx_b[0])}/{str(tile_idx_b[1])}/raw/feats/{str(tile_idx_b[0])}X{str(tile_idx_b[1])}Y_feats.hkl')\n",
    "feats_a = np.rollaxis(feats_a, 0, 3)\n",
    "feats_a = np.rollaxis(feats_a, 0, 2)\n",
    "feats_b = np.rollaxis(feats_b, 0, 3)\n",
    "feats_b = np.rollaxis(feats_b, 0, 2)\n",
    "feats_a.shape, feats_b.shape"
   ]
  },
  {
   "cell_type": "code",
   "execution_count": 40,
   "id": "71d58122-52bf-46f2-a3da-64e12c40c195",
   "metadata": {},
   "outputs": [],
   "source": [
    "# for i in range(0, 65):\n",
    "#     make.heat_combine_neighbors(feats_a, feats_b, i, f\"Left:{tile_idx_a}  Right:{tile_idx_b}, Index: {i}\")"
   ]
  },
  {
   "cell_type": "code",
   "execution_count": null,
   "id": "3a2d2db4-726b-4443-9cb8-bfa686a98a9c",
   "metadata": {},
   "outputs": [],
   "source": []
  }
 ],
 "metadata": {
  "kernelspec": {
   "display_name": "plantations5",
   "language": "python",
   "name": "plantations5"
  },
  "language_info": {
   "codemirror_mode": {
    "name": "ipython",
    "version": 3
   },
   "file_extension": ".py",
   "mimetype": "text/x-python",
   "name": "python",
   "nbconvert_exporter": "python",
   "pygments_lexer": "ipython3",
   "version": "3.10.13"
  }
 },
 "nbformat": 4,
 "nbformat_minor": 5
}
