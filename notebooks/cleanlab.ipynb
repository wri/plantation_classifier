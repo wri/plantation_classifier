{
 "cells": [
  {
   "cell_type": "markdown",
   "id": "96077b10-7198-447a-a4be-da11cc44bd1b",
   "metadata": {},
   "source": [
    "# CleanLab\n",
    "cleanlab automatically detects data and label issues in ML datasets."
   ]
  },
  {
   "cell_type": "code",
   "execution_count": 2,
   "id": "e84a00e3-c50f-4538-ae22-9cb7a14ac5f4",
   "metadata": {},
   "outputs": [
    {
     "name": "stderr",
     "output_type": "stream",
     "text": [
      "/Users/jessica.ertel/opt/anaconda3/envs/cleanlab/lib/python3.12/site-packages/tqdm/auto.py:21: TqdmWarning: IProgress not found. Please update jupyter and ipywidgets. See https://ipywidgets.readthedocs.io/en/stable/user_install.html\n",
      "  from .autonotebook import tqdm as notebook_tqdm\n"
     ]
    }
   ],
   "source": [
    "import pandas as pd\n",
    "import numpy as np\n",
    "import pickle\n",
    "import matplotlib.pyplot as plt\n",
    "import joblib\n",
    "import ast\n",
    "import json\n",
    "import seaborn as sns\n",
    "\n",
    "from cleanlab.datalab.datalab import Datalab\n",
    "from cleanlab.classification import CleanLearning\n",
    "\n",
    "from sklearn.ensemble import RandomForestClassifier\n",
    "from sklearn.linear_model import LogisticRegression\n",
    "from catboost import CatBoostClassifier\n",
    "from sklearn.model_selection import cross_val_predict\n",
    "from sklearn.preprocessing import MultiLabelBinarizer\n",
    "from sklearn.metrics import confusion_matrix\n"
   ]
  },
  {
   "cell_type": "code",
   "execution_count": 2,
   "id": "71d3f827-bfb4-4e93-89c6-ecf27b0b4632",
   "metadata": {},
   "outputs": [],
   "source": [
    "## consider adding visualization of the data here"
   ]
  },
  {
   "cell_type": "code",
   "execution_count": 7,
   "id": "ddae722b-af3f-4c9d-99e4-2d0ca9c0d4cf",
   "metadata": {},
   "outputs": [],
   "source": [
    "# df contains x and y train, where each row represents a pixel for 991 plots with 196 pixels each\n",
    "df = pd.read_csv(\"../data/cleanlab_demo3.csv\")\n",
    "\n",
    "# import the saved list of plot ids from comb training batches\n",
    "with open(\"../data/cleanlab/plot_ids.json\", \"r\") as file:\n",
    "    id_list = json.load(file)\n",
    "\n",
    "ceo_plot_ids = np.repeat(id_list, 196)\n",
    "df['plot_id'] = ceo_plot_ids"
   ]
  },
  {
   "cell_type": "code",
   "execution_count": 8,
   "id": "551283d2-da51-407d-9515-3df076493428",
   "metadata": {},
   "outputs": [
    {
     "data": {
      "text/plain": [
       "0"
      ]
     },
     "execution_count": 8,
     "metadata": {},
     "output_type": "execute_result"
    }
   ],
   "source": [
    "# confirm that worked correctly\n",
    "counts = df.plot_id.value_counts()\n",
    "error = counts[counts != 196]\n",
    "len(error)"
   ]
  },
  {
   "cell_type": "markdown",
   "id": "57916a86-9fa0-4fbd-a743-76143f8d8524",
   "metadata": {},
   "source": [
    "## Find common issues in data\n",
    "Use cleanlab to detect issues in the dataset (label errors, outliers, near duplicates). An experiment is performed with a Logistic Regression model as a gut check. Then the full assessment is performed with the current plantations model."
   ]
  },
  {
   "cell_type": "markdown",
   "id": "a94cad20-fb16-4d04-b332-fd14113831a0",
   "metadata": {},
   "source": [
    "### Test with general classifier (gut check)"
   ]
  },
  {
   "cell_type": "code",
   "execution_count": 10,
   "id": "e1cf1421-e794-44df-bdea-77350b9ee6d4",
   "metadata": {},
   "outputs": [
    {
     "name": "stdout",
     "output_type": "stream",
     "text": [
      "Finding null issues ...\n",
      "Finding label issues ...\n",
      "Finding outlier issues ...\n",
      "Finding near_duplicate issues ...\n",
      "Finding non_iid issues ...\n",
      "Finding class_imbalance issues ...\n",
      "Finding underperforming_group issues ...\n"
     ]
    },
    {
     "name": "stderr",
     "output_type": "stream",
     "text": [
      "/Users/jessica.ertel/opt/anaconda3/envs/cleanlab/lib/python3.12/site-packages/sklearn/neighbors/_base.py:246: EfficiencyWarning: Precomputed sparse input was not sorted by row values. Use the function sklearn.neighbors.sort_graph_by_row_values to sort the input by row values, with warn_when_not_sorted=False to remove this warning.\n",
      "  warnings.warn(\n"
     ]
    },
    {
     "name": "stdout",
     "output_type": "stream",
     "text": [
      "\n",
      "Audit complete. 76728 issues found in the dataset.\n",
      "Dataset Information: num_examples: 194236, num_classes: 4\n",
      "\n",
      "Here is a summary of various issues found in your data:\n",
      "\n",
      "           issue_type  num_issues\n",
      "                label       47909\n",
      "       near_duplicate       24670\n",
      "              outlier        4070\n",
      "underperforming_group          78\n",
      "              non_iid           1\n",
      "\n",
      "Learn about each issue: https://docs.cleanlab.ai/stable/cleanlab/datalab/guide/issue_type_description.html\n",
      "See which examples in your dataset exhibit each issue via: `datalab.get_issues(<ISSUE_NAME>)`\n",
      "\n",
      "Data indices corresponding to top examples of each issue are shown below.\n",
      "\n",
      "\n",
      "----------------------- label issues -----------------------\n",
      "\n",
      "About this issue:\n",
      "\tExamples whose given label is estimated to be potentially incorrect\n",
      "    (e.g. due to annotation error) are flagged as having label issues.\n",
      "    \n",
      "\n",
      "Number of examples with this issue: 47909\n",
      "Overall dataset quality in terms of this issue: 0.7866\n",
      "\n",
      "Examples representing most severe instances of this issue:\n",
      "       is_label_issue   label_score  given_label  predicted_label\n",
      "60525            True  2.435032e-26          2.0              1.0\n",
      "60539            True  2.619602e-26          2.0              1.0\n",
      "60538            True  1.895291e-25          2.0              1.0\n",
      "60524            True  1.553660e-24          2.0              1.0\n",
      "60510            True  7.876860e-20          2.0              1.0\n",
      "\n",
      "\n",
      "------------------ near_duplicate issues -------------------\n",
      "\n",
      "About this issue:\n",
      "\tA (near) duplicate issue refers to two or more examples in\n",
      "    a dataset that are extremely similar to each other, relative\n",
      "    to the rest of the dataset.  The examples flagged with this issue\n",
      "    may be exactly duplicated, or lie atypically close together when\n",
      "    represented as vectors (i.e. feature embeddings).\n",
      "    \n",
      "\n",
      "Number of examples with this issue: 24670\n",
      "Overall dataset quality in terms of this issue: 0.5788\n",
      "\n",
      "Examples representing most severe instances of this issue:\n",
      "       is_near_duplicate_issue  near_duplicate_score                                                                                                                                                              near_duplicate_sets  distance_to_nearest_neighbor\n",
      "60532                     True              0.000298                                                   [60531, 60533, 60530, 60510, 60505, 60519, 60522, 60518, 60523, 60491, 60483, 60504, 60509, 60534, 60539, 60544, 60545, 60553]                      0.000002\n",
      "60531                     True              0.000298                                                                                      [60532, 60530, 60510, 60533, 60505, 60504, 60523, 60518, 60522, 60519, 60535, 60544, 60553]                      0.000002\n",
      "60523                     True              0.000443  [60510, 60536, 60522, 60537, 60505, 60511, 60491, 60508, 60524, 60532, 60379, 60393, 60407, 60483, 60504, 60509, 60519, 60525, 60530, 60531, 60538, 60539, 60545, 60550, 60552]                      0.000003\n",
      "60510                     True              0.000443                                                   [60523, 60522, 60531, 60532, 60505, 60536, 60530, 60537, 60539, 60511, 60379, 60504, 60509, 60525, 60526, 60533, 60538, 60553]                      0.000003\n",
      "60536                     True              0.000482                       [60523, 60522, 60550, 60491, 60537, 60508, 60407, 60524, 60510, 60505, 60393, 60406, 60490, 60496, 60497, 60509, 60511, 60525, 60533, 60538, 60539, 60551]                      0.000003\n",
      "\n",
      "\n",
      "---------------------- outlier issues ----------------------\n",
      "\n",
      "About this issue:\n",
      "\tExamples that are very different from the rest of the dataset \n",
      "    (i.e. potentially out-of-distribution or rare/anomalous instances).\n",
      "    \n",
      "\n",
      "Number of examples with this issue: 4070\n",
      "Overall dataset quality in terms of this issue: 0.4251\n",
      "\n",
      "Examples representing most severe instances of this issue:\n",
      "       is_outlier_issue  outlier_score\n",
      "26566              True   9.180916e-08\n",
      "26537              True   2.012451e-07\n",
      "26536              True   3.768009e-07\n",
      "29021              True   1.455817e-06\n",
      "26565              True   1.725032e-06\n",
      "\n",
      "\n",
      "--------------- underperforming_group issues ---------------\n",
      "\n",
      "About this issue:\n",
      "\tAn underperforming group refers to a cluster of similar examples\n",
      "    (i.e. a slice) in the dataset for which the ML model predictions\n",
      "    are particularly poor (loss evaluation over this subpopulation is high).\n",
      "    \n",
      "\n",
      "Number of examples with this issue: 78\n",
      "Overall dataset quality in terms of this issue: 0.0001\n",
      "\n",
      "Examples representing most severe instances of this issue:\n",
      "       is_underperforming_group_issue  underperforming_group_score\n",
      "60421                            True                     0.000086\n",
      "60422                            True                     0.000086\n",
      "60391                            True                     0.000086\n",
      "60392                            True                     0.000086\n",
      "60393                            True                     0.000086\n",
      "\n",
      "\n",
      "---------------------- non_iid issues ----------------------\n",
      "\n",
      "About this issue:\n",
      "\tWhether the dataset exhibits statistically significant\n",
      "    violations of the IID assumption like:\n",
      "    changepoints or shift, drift, autocorrelation, etc.\n",
      "    The specific violation considered is whether the\n",
      "    examples are ordered such that almost adjacent examples\n",
      "    tend to have more similar feature values.\n",
      "    \n",
      "\n",
      "Number of examples with this issue: 1\n",
      "Overall dataset quality in terms of this issue: 0.0000\n",
      "\n",
      "Examples representing most severe instances of this issue:\n",
      "        is_non_iid_issue  non_iid_score\n",
      "115671              True       0.500443\n",
      "96914              False       0.538793\n",
      "96900              False       0.538855\n",
      "96899              False       0.538859\n",
      "96933              False       0.538906\n",
      "\n",
      "Additional Information: \n",
      "p-value: 0.0\n"
     ]
    }
   ],
   "source": [
    "# generate probabilities\n",
    "feats = df.loc[:, df.columns!='label']\n",
    "model = LogisticRegression()\n",
    "pred_probs = cross_val_predict(estimator=model, \n",
    "                               X=feats, \n",
    "                               y=df.label, \n",
    "                               cv=5, \n",
    "                               method=\"predict_proba\")\n",
    "\n",
    "lab = Datalab(data=df, label_name=\"label\")\n",
    "lab.find_issues(features=feats, pred_probs=pred_probs)\n",
    "lab.report()"
   ]
  },
  {
   "cell_type": "markdown",
   "id": "c2b3c0f4-60a0-47fc-8442-a7935106041e",
   "metadata": {},
   "source": [
    "### Test with trained Catboost Classifier\n",
    "Trained catboost classifier is loaded and features are filtered to the top 40 feats used in training."
   ]
  },
  {
   "cell_type": "code",
   "execution_count": 16,
   "id": "e8905071-f077-4f72-95df-ce485741fa90",
   "metadata": {},
   "outputs": [],
   "source": [
    "cat = joblib.load(\"../models/model.joblib\")\n",
    "top_feats = [0, 1, 2, 3, 4, 5, 6, 7, 8, 9, 10, 11, 12, 13, 15, 18, 20, 22, 24, 25, 32, 34, 42, 50, 52, 60, 64, 65, 70, 71, 73, 74, 75, 76, 77, 81, 85, 89, 90, 93]\n",
    "feat_cols = ['feature_' + str(i) for i in top_feats]\n",
    "feats = df.loc[:, df.columns.isin(feat_cols)]"
   ]
  },
  {
   "cell_type": "code",
   "execution_count": 17,
   "id": "aa5208cf-a7c6-4760-b5d3-b065622ff327",
   "metadata": {},
   "outputs": [
    {
     "name": "stdout",
     "output_type": "stream",
     "text": [
      "Finding null issues ...\n",
      "Finding label issues ...\n",
      "Finding outlier issues ...\n",
      "Finding near_duplicate issues ...\n",
      "Finding non_iid issues ...\n",
      "Finding class_imbalance issues ...\n",
      "Finding underperforming_group issues ...\n"
     ]
    },
    {
     "name": "stderr",
     "output_type": "stream",
     "text": [
      "/Users/jessica.ertel/opt/anaconda3/envs/cleanlab/lib/python3.12/site-packages/sklearn/neighbors/_base.py:246: EfficiencyWarning: Precomputed sparse input was not sorted by row values. Use the function sklearn.neighbors.sort_graph_by_row_values to sort the input by row values, with warn_when_not_sorted=False to remove this warning.\n",
      "  warnings.warn(\n"
     ]
    },
    {
     "name": "stdout",
     "output_type": "stream",
     "text": [
      "\n",
      "Audit complete. 81510 issues found in the dataset.\n",
      "Dataset Information: num_examples: 194236, num_classes: 4\n",
      "\n",
      "Here is a summary of various issues found in your data:\n",
      "\n",
      "    issue_type  num_issues\n",
      "         label       35324\n",
      "near_duplicate       33413\n",
      "       outlier       12772\n",
      "       non_iid           1\n",
      "\n",
      "Learn about each issue: https://docs.cleanlab.ai/stable/cleanlab/datalab/guide/issue_type_description.html\n",
      "See which examples in your dataset exhibit each issue via: `datalab.get_issues(<ISSUE_NAME>)`\n",
      "\n",
      "Data indices corresponding to top examples of each issue are shown below.\n",
      "\n",
      "\n",
      "----------------------- label issues -----------------------\n",
      "\n",
      "About this issue:\n",
      "\tExamples whose given label is estimated to be potentially incorrect\n",
      "    (e.g. due to annotation error) are flagged as having label issues.\n",
      "    \n",
      "\n",
      "Number of examples with this issue: 35324\n",
      "Overall dataset quality in terms of this issue: 0.8548\n",
      "\n",
      "Examples representing most severe instances of this issue:\n",
      "        is_label_issue  label_score  given_label  predicted_label\n",
      "7079              True     0.000181          2.0              1.0\n",
      "128128            True     0.000190          1.0              0.0\n",
      "7080              True     0.000191          2.0              1.0\n",
      "7121              True     0.000201          2.0              1.0\n",
      "128161            True     0.000201          1.0              0.0\n",
      "\n",
      "\n",
      "------------------ near_duplicate issues -------------------\n",
      "\n",
      "About this issue:\n",
      "\tA (near) duplicate issue refers to two or more examples in\n",
      "    a dataset that are extremely similar to each other, relative\n",
      "    to the rest of the dataset.  The examples flagged with this issue\n",
      "    may be exactly duplicated, or lie atypically close together when\n",
      "    represented as vectors (i.e. feature embeddings).\n",
      "    \n",
      "\n",
      "Number of examples with this issue: 33413\n",
      "Overall dataset quality in terms of this issue: 0.5752\n",
      "\n",
      "Examples representing most severe instances of this issue:\n",
      "       is_near_duplicate_issue  near_duplicate_score                                                                                                                           near_duplicate_sets  distance_to_nearest_neighbor\n",
      "60532                     True              0.000152                              [60531, 60533, 60523, 60510, 60537, 60545, 60536, 60505, 60538, 60519, 60524, 60525, 60530, 60539, 60544, 60550]                  2.121300e-07\n",
      "60531                     True              0.000152                       [60532, 60510, 60523, 60505, 60533, 60536, 60537, 60538, 60545, 60522, 60491, 60524, 60525, 60530, 60539, 60544, 60550]                  2.121300e-07\n",
      "60522                     True              0.000236                       [60536, 60505, 60537, 60491, 60523, 60519, 60550, 60531, 60551, 60407, 60496, 60504, 60508, 60509, 60518, 60530, 60539]                  3.297314e-07\n",
      "60536                     True              0.000236  [60522, 60537, 60491, 60523, 60550, 60519, 60505, 60531, 60533, 60532, 60407, 60496, 60504, 60508, 60510, 60518, 60524, 60538, 60545, 60551]                  3.297314e-07\n",
      "60537                     True              0.000279                       [60523, 60536, 60491, 60533, 60519, 60522, 60532, 60531, 60545, 60550, 60505, 60510, 60524, 60525, 60530, 60538, 60544]                  3.896179e-07\n",
      "\n",
      "\n",
      "---------------------- outlier issues ----------------------\n",
      "\n",
      "About this issue:\n",
      "\tExamples that are very different from the rest of the dataset \n",
      "    (i.e. potentially out-of-distribution or rare/anomalous instances).\n",
      "    \n",
      "\n",
      "Number of examples with this issue: 12772\n",
      "Overall dataset quality in terms of this issue: 0.4279\n",
      "\n",
      "Examples representing most severe instances of this issue:\n",
      "        is_outlier_issue  outlier_score\n",
      "127289              True   3.290255e-21\n",
      "26536               True   1.116658e-19\n",
      "26537               True   3.083704e-19\n",
      "11968               True   3.442109e-19\n",
      "127288              True   1.297380e-18\n",
      "\n",
      "\n",
      "---------------------- non_iid issues ----------------------\n",
      "\n",
      "About this issue:\n",
      "\tWhether the dataset exhibits statistically significant\n",
      "    violations of the IID assumption like:\n",
      "    changepoints or shift, drift, autocorrelation, etc.\n",
      "    The specific violation considered is whether the\n",
      "    examples are ordered such that almost adjacent examples\n",
      "    tend to have more similar feature values.\n",
      "    \n",
      "\n",
      "Number of examples with this issue: 1\n",
      "Overall dataset quality in terms of this issue: 0.0000\n",
      "\n",
      "Examples representing most severe instances of this issue:\n",
      "        is_non_iid_issue  non_iid_score\n",
      "71392               True       0.487289\n",
      "115647             False       0.523842\n",
      "115646             False       0.533465\n",
      "96914              False       0.538798\n",
      "96899              False       0.538848\n",
      "\n",
      "Additional Information: \n",
      "p-value: 0.0\n"
     ]
    }
   ],
   "source": [
    "# generate probabilities\n",
    "pred_probs = cross_val_predict(estimator=cat, \n",
    "                               X=feats, \n",
    "                               y=df.label, \n",
    "                               cv=5, \n",
    "                               method=\"predict_proba\")\n",
    "\n",
    "lab = Datalab(data=df, label_name=\"label\")\n",
    "lab.find_issues(features=feats, pred_probs=pred_probs)\n",
    "lab.report()"
   ]
  },
  {
   "cell_type": "markdown",
   "id": "722c7cf8-6a94-4b5b-aca5-b57c253c1075",
   "metadata": {},
   "source": [
    "## Analysis of Results\n",
    "Notes\n",
    "- A numeric quality score (between 0 and 1) estimating how severe this issue is exhibited in each example from a dataset. Examples with higher scores are less likely to suffer from this issue."
   ]
  },
  {
   "cell_type": "raw",
   "id": "e8425d6b-6caf-4d35-817c-c304f7080ba3",
   "metadata": {},
   "source": [
    "# do not run - import\n",
    "label_assessment = lab.get_issues(\"label\").sort_values(\"label_score\")\n",
    "dup_assessment = lab.get_issues(\"near_duplicate\").sort_values(\"near_duplicate_score\")\n",
    "outlier_assessment = lab.get_issues(\"outlier\").sort_values(\"outlier_score\")\n",
    "non_iid_assessment = lab.get_issues(\"non_iid\").sort_values(\"non_iid_score\")\n",
    "for var_name in [\"label_assessment\", \"dup_assessment\", \"outlier_assessment\", \"non_iid_assessment\"]:\n",
    "    globals()[var_name].to_csv(f\"../data/cleanlab/{var_name}.csv\", index=True)"
   ]
  },
  {
   "cell_type": "code",
   "execution_count": 9,
   "id": "b621efcf-ed7a-41b2-b421-fb5a521d855b",
   "metadata": {},
   "outputs": [],
   "source": [
    "## imports\n",
    "label_assessment = pd.read_csv(f\"../data/cleanlab/label_assessment.csv\", index_col=\"Unnamed: 0\")\n",
    "dup_assessment = pd.read_csv(f\"../data/cleanlab/dup_assessment.csv\", index_col=\"Unnamed: 0\")\n",
    "outlier_assessment = pd.read_csv(f\"../data/cleanlab/outlier_assessment.csv\", index_col=\"Unnamed: 0\")\n",
    "non_iid_assessment = pd.read_csv(f\"../data/cleanlab/non_iid_assessment.csv\", index_col=\"Unnamed: 0\")"
   ]
  },
  {
   "cell_type": "code",
   "execution_count": 10,
   "id": "45a6b6ca-1dc6-4622-beb6-9a3b84d99f87",
   "metadata": {},
   "outputs": [],
   "source": [
    "# filter to problem pixels\n",
    "label_issues = label_assessment[label_assessment.is_label_issue == True]\n",
    "dup_issues = dup_assessment[dup_assessment.is_near_duplicate_issue == True]\n",
    "outlier_issues = outlier_assessment[outlier_assessment.is_outlier_issue == True]\n",
    "non_iid_issues = non_iid_assessment[non_iid_assessment.is_non_iid_issue == True]"
   ]
  },
  {
   "cell_type": "markdown",
   "id": "879159c5-bd55-408d-98be-5ee881ab7ea5",
   "metadata": {},
   "source": [
    "### Label issues"
   ]
  },
  {
   "cell_type": "code",
   "execution_count": 11,
   "id": "110daac8-a106-4056-833e-e77e43c3789e",
   "metadata": {},
   "outputs": [
    {
     "name": "stdout",
     "output_type": "stream",
     "text": [
      "plot_id    08051\n",
      "Name: 7079, dtype: object\n",
      "plot_id    21081\n",
      "Name: 128128, dtype: object\n",
      "plot_id    08051\n",
      "Name: 7080, dtype: object\n",
      "plot_id    08051\n",
      "Name: 7121, dtype: object\n",
      "plot_id    21081\n",
      "Name: 128161, dtype: object\n"
     ]
    },
    {
     "name": "stderr",
     "output_type": "stream",
     "text": [
      "/var/folders/1v/8qs7l7157sddx1_9z9wqldrc0000gp/T/ipykernel_26052/4116046334.py:2: SettingWithCopyWarning: \n",
      "A value is trying to be set on a copy of a slice from a DataFrame.\n",
      "Try using .loc[row_indexer,col_indexer] = value instead\n",
      "\n",
      "See the caveats in the documentation: https://pandas.pydata.org/pandas-docs/stable/user_guide/indexing.html#returning-a-view-versus-a-copy\n",
      "  label_issues['plot_id'] = label_issues.index.map(df.set_index(df.index)['plot_id'])\n",
      "/var/folders/1v/8qs7l7157sddx1_9z9wqldrc0000gp/T/ipykernel_26052/4116046334.py:3: SettingWithCopyWarning: \n",
      "A value is trying to be set on a copy of a slice from a DataFrame.\n",
      "Try using .loc[row_indexer,col_indexer] = value instead\n",
      "\n",
      "See the caveats in the documentation: https://pandas.pydata.org/pandas-docs/stable/user_guide/indexing.html#returning-a-view-versus-a-copy\n",
      "  label_issues['survey'] = label_issues['plot_id'].str[:2]\n"
     ]
    }
   ],
   "source": [
    "# grab the plot_ids and merge into the results\n",
    "label_issues['plot_id'] = label_issues.index.map(df.set_index(df.index)['plot_id'])\n",
    "label_issues['survey'] = label_issues['plot_id'].str[:2]\n",
    "\n",
    "# identify plots for the top label issues in the report\n",
    "print(df.iloc[7079][['plot_id']])\n",
    "print(df.iloc[128128][['plot_id']])\n",
    "print(df.iloc[7080][['plot_id']])\n",
    "print(df.iloc[7121][['plot_id']])\n",
    "print(df.iloc[128161][['plot_id']])"
   ]
  },
  {
   "cell_type": "code",
   "execution_count": 12,
   "id": "e64650b3-4d4d-4c27-8830-d266c61e3e4f",
   "metadata": {},
   "outputs": [
    {
     "data": {
      "text/html": [
       "<div>\n",
       "<style scoped>\n",
       "    .dataframe tbody tr th:only-of-type {\n",
       "        vertical-align: middle;\n",
       "    }\n",
       "\n",
       "    .dataframe tbody tr th {\n",
       "        vertical-align: top;\n",
       "    }\n",
       "\n",
       "    .dataframe thead th {\n",
       "        text-align: right;\n",
       "    }\n",
       "</style>\n",
       "<table border=\"1\" class=\"dataframe\">\n",
       "  <thead>\n",
       "    <tr style=\"text-align: right;\">\n",
       "      <th></th>\n",
       "      <th>is_label_issue</th>\n",
       "      <th>label_score</th>\n",
       "      <th>given_label</th>\n",
       "      <th>predicted_label</th>\n",
       "      <th>plot_id</th>\n",
       "      <th>survey</th>\n",
       "    </tr>\n",
       "  </thead>\n",
       "  <tbody>\n",
       "    <tr>\n",
       "      <th>7079</th>\n",
       "      <td>True</td>\n",
       "      <td>0.000181</td>\n",
       "      <td>2.0</td>\n",
       "      <td>1.0</td>\n",
       "      <td>08051</td>\n",
       "      <td>08</td>\n",
       "    </tr>\n",
       "    <tr>\n",
       "      <th>128128</th>\n",
       "      <td>True</td>\n",
       "      <td>0.000190</td>\n",
       "      <td>1.0</td>\n",
       "      <td>0.0</td>\n",
       "      <td>21081</td>\n",
       "      <td>21</td>\n",
       "    </tr>\n",
       "    <tr>\n",
       "      <th>7080</th>\n",
       "      <td>True</td>\n",
       "      <td>0.000191</td>\n",
       "      <td>2.0</td>\n",
       "      <td>1.0</td>\n",
       "      <td>08051</td>\n",
       "      <td>08</td>\n",
       "    </tr>\n",
       "    <tr>\n",
       "      <th>7121</th>\n",
       "      <td>True</td>\n",
       "      <td>0.000201</td>\n",
       "      <td>2.0</td>\n",
       "      <td>1.0</td>\n",
       "      <td>08051</td>\n",
       "      <td>08</td>\n",
       "    </tr>\n",
       "    <tr>\n",
       "      <th>128161</th>\n",
       "      <td>True</td>\n",
       "      <td>0.000201</td>\n",
       "      <td>1.0</td>\n",
       "      <td>0.0</td>\n",
       "      <td>21081</td>\n",
       "      <td>21</td>\n",
       "    </tr>\n",
       "  </tbody>\n",
       "</table>\n",
       "</div>"
      ],
      "text/plain": [
       "        is_label_issue  label_score  given_label  predicted_label plot_id  \\\n",
       "7079              True     0.000181          2.0              1.0   08051   \n",
       "128128            True     0.000190          1.0              0.0   21081   \n",
       "7080              True     0.000191          2.0              1.0   08051   \n",
       "7121              True     0.000201          2.0              1.0   08051   \n",
       "128161            True     0.000201          1.0              0.0   21081   \n",
       "\n",
       "       survey  \n",
       "7079       08  \n",
       "128128     21  \n",
       "7080       08  \n",
       "7121       08  \n",
       "128161     21  "
      ]
     },
     "execution_count": 12,
     "metadata": {},
     "output_type": "execute_result"
    }
   ],
   "source": [
    "label_issues.head()"
   ]
  },
  {
   "cell_type": "code",
   "execution_count": 13,
   "id": "b46633c4-2068-4f7c-8bac-f9cba3c6cce2",
   "metadata": {},
   "outputs": [
    {
     "data": {
      "text/plain": [
       "(26, 117)"
      ]
     },
     "execution_count": 13,
     "metadata": {},
     "output_type": "execute_result"
    }
   ],
   "source": [
    "counts = label_issues.plot_id.value_counts()\n",
    "full_plots = counts[counts == 196]\n",
    "partial_plots = counts[(counts >= 98) & (counts < 196)]\n",
    "len(full_plots), len(partial_plots)"
   ]
  },
  {
   "cell_type": "code",
   "execution_count": 14,
   "id": "b591409e-581e-4e9d-93df-5ba258b49ed8",
   "metadata": {},
   "outputs": [
    {
     "data": {
      "text/plain": [
       "survey\n",
       "08     1.0\n",
       "14     1.0\n",
       "21    23.0\n",
       "22     1.0\n",
       "Name: is_label_issue, dtype: float64"
      ]
     },
     "execution_count": 14,
     "metadata": {},
     "output_type": "execute_result"
    }
   ],
   "source": [
    "# identify which survey contains the most full plot (26 total) label errors\n",
    "tmp = label_issues[label_issues.plot_id.isin(full_plots.index)]\n",
    "tmp.groupby(['survey']).is_label_issue.count()/196"
   ]
  },
  {
   "cell_type": "code",
   "execution_count": 15,
   "id": "29569da0-b2c4-4442-b309-cae1c426936b",
   "metadata": {},
   "outputs": [
    {
     "data": {
      "text/plain": [
       "survey\n",
       "08    3075\n",
       "14    1047\n",
       "15    1184\n",
       "19     591\n",
       "20     892\n",
       "21    9218\n",
       "22    1916\n",
       "Name: is_label_issue, dtype: int64"
      ]
     },
     "execution_count": 15,
     "metadata": {},
     "output_type": "execute_result"
    }
   ],
   "source": [
    "# identify which survey contains the most partial plot (117 total) label errors\n",
    "tmp2 = label_issues[label_issues.plot_id.isin(partial_plots.index)]\n",
    "tmp2.groupby(['survey']).is_label_issue.count()"
   ]
  },
  {
   "cell_type": "code",
   "execution_count": 16,
   "id": "62fae7d9-86d2-49a2-a923-8784e330dd98",
   "metadata": {},
   "outputs": [
    {
     "data": {
      "image/png": "[encoded data removed]",
      "text/plain": [
       "<Figure size 640x480 with 2 Axes>"
      ]
     },
     "metadata": {},
     "output_type": "display_data"
    }
   ],
   "source": [
    "cm = confusion_matrix(label_issues['given_label'], label_issues['predicted_label'], labels=[0.0, 1.0, 2.0, 3.0])\n",
    "sns.heatmap(cm, annot=True, fmt=\"d\", cmap=\"Blues\", xticklabels=[0, 1, 2, 3], yticklabels=[0, 1, 2, 3])\n",
    "\n",
    "# Set labels and title\n",
    "plt.xlabel(\"Predicted Label\")\n",
    "plt.ylabel(\"True Label\")\n",
    "plt.title(\"Confusion Matrix Heatmap\")\n",
    "\n",
    "# Show the plot\n",
    "plt.show()"
   ]
  },
  {
   "cell_type": "markdown",
   "id": "edc93d12-0ccd-43e8-bcb5-211233be9b66",
   "metadata": {},
   "source": [
    "### Duplication Issues"
   ]
  },
  {
   "cell_type": "code",
   "execution_count": 20,
   "id": "cebd477a-824b-4ed2-8dc4-69e3b691f690",
   "metadata": {},
   "outputs": [
    {
     "name": "stderr",
     "output_type": "stream",
     "text": [
      "/var/folders/1v/8qs7l7157sddx1_9z9wqldrc0000gp/T/ipykernel_26052/199709975.py:2: SettingWithCopyWarning: \n",
      "A value is trying to be set on a copy of a slice from a DataFrame.\n",
      "Try using .loc[row_indexer,col_indexer] = value instead\n",
      "\n",
      "See the caveats in the documentation: https://pandas.pydata.org/pandas-docs/stable/user_guide/indexing.html#returning-a-view-versus-a-copy\n",
      "  dup_issues['plot_id'] = dup_issues.index.map(df.set_index(df.index)['plot_id'])\n",
      "/var/folders/1v/8qs7l7157sddx1_9z9wqldrc0000gp/T/ipykernel_26052/199709975.py:3: SettingWithCopyWarning: \n",
      "A value is trying to be set on a copy of a slice from a DataFrame.\n",
      "Try using .loc[row_indexer,col_indexer] = value instead\n",
      "\n",
      "See the caveats in the documentation: https://pandas.pydata.org/pandas-docs/stable/user_guide/indexing.html#returning-a-view-versus-a-copy\n",
      "  dup_issues['survey'] = dup_issues['plot_id'].str[:2]\n"
     ]
    },
    {
     "data": {
      "text/html": [
       "<div>\n",
       "<style scoped>\n",
       "    .dataframe tbody tr th:only-of-type {\n",
       "        vertical-align: middle;\n",
       "    }\n",
       "\n",
       "    .dataframe tbody tr th {\n",
       "        vertical-align: top;\n",
       "    }\n",
       "\n",
       "    .dataframe thead th {\n",
       "        text-align: right;\n",
       "    }\n",
       "</style>\n",
       "<table border=\"1\" class=\"dataframe\">\n",
       "  <thead>\n",
       "    <tr style=\"text-align: right;\">\n",
       "      <th></th>\n",
       "      <th>is_near_duplicate_issue</th>\n",
       "      <th>near_duplicate_score</th>\n",
       "      <th>near_duplicate_sets</th>\n",
       "      <th>distance_to_nearest_neighbor</th>\n",
       "      <th>plot_id</th>\n",
       "      <th>survey</th>\n",
       "    </tr>\n",
       "  </thead>\n",
       "  <tbody>\n",
       "    <tr>\n",
       "      <th>60532</th>\n",
       "      <td>True</td>\n",
       "      <td>0.000152</td>\n",
       "      <td>[60531 60533 60523 60510 60537 60545 60536 605...</td>\n",
       "      <td>2.121300e-07</td>\n",
       "      <td>14219</td>\n",
       "      <td>14</td>\n",
       "    </tr>\n",
       "    <tr>\n",
       "      <th>60531</th>\n",
       "      <td>True</td>\n",
       "      <td>0.000152</td>\n",
       "      <td>[60532 60510 60523 60505 60533 60536 60537 605...</td>\n",
       "      <td>2.121300e-07</td>\n",
       "      <td>14219</td>\n",
       "      <td>14</td>\n",
       "    </tr>\n",
       "    <tr>\n",
       "      <th>60522</th>\n",
       "      <td>True</td>\n",
       "      <td>0.000236</td>\n",
       "      <td>[60536 60505 60537 60491 60523 60519 60550 605...</td>\n",
       "      <td>3.297314e-07</td>\n",
       "      <td>14219</td>\n",
       "      <td>14</td>\n",
       "    </tr>\n",
       "    <tr>\n",
       "      <th>60536</th>\n",
       "      <td>True</td>\n",
       "      <td>0.000236</td>\n",
       "      <td>[60522 60537 60491 60523 60550 60519 60505 605...</td>\n",
       "      <td>3.297314e-07</td>\n",
       "      <td>14219</td>\n",
       "      <td>14</td>\n",
       "    </tr>\n",
       "    <tr>\n",
       "      <th>60537</th>\n",
       "      <td>True</td>\n",
       "      <td>0.000279</td>\n",
       "      <td>[60523 60536 60491 60533 60519 60522 60532 605...</td>\n",
       "      <td>3.896179e-07</td>\n",
       "      <td>14219</td>\n",
       "      <td>14</td>\n",
       "    </tr>\n",
       "  </tbody>\n",
       "</table>\n",
       "</div>"
      ],
      "text/plain": [
       "       is_near_duplicate_issue  near_duplicate_score  \\\n",
       "60532                     True              0.000152   \n",
       "60531                     True              0.000152   \n",
       "60522                     True              0.000236   \n",
       "60536                     True              0.000236   \n",
       "60537                     True              0.000279   \n",
       "\n",
       "                                     near_duplicate_sets  \\\n",
       "60532  [60531 60533 60523 60510 60537 60545 60536 605...   \n",
       "60531  [60532 60510 60523 60505 60533 60536 60537 605...   \n",
       "60522  [60536 60505 60537 60491 60523 60519 60550 605...   \n",
       "60536  [60522 60537 60491 60523 60550 60519 60505 605...   \n",
       "60537  [60523 60536 60491 60533 60519 60522 60532 605...   \n",
       "\n",
       "       distance_to_nearest_neighbor plot_id survey  \n",
       "60532                  2.121300e-07   14219     14  \n",
       "60531                  2.121300e-07   14219     14  \n",
       "60522                  3.297314e-07   14219     14  \n",
       "60536                  3.297314e-07   14219     14  \n",
       "60537                  3.896179e-07   14219     14  "
      ]
     },
     "execution_count": 20,
     "metadata": {},
     "output_type": "execute_result"
    }
   ],
   "source": [
    "# grab the plot_ids and merge into the results\n",
    "dup_issues['plot_id'] = dup_issues.index.map(df.set_index(df.index)['plot_id'])\n",
    "dup_issues['survey'] = dup_issues['plot_id'].str[:2]\n",
    "dup_issues.head()"
   ]
  },
  {
   "cell_type": "code",
   "execution_count": 21,
   "id": "fedab476-b9c8-4246-93e8-46c457efa9c6",
   "metadata": {},
   "outputs": [
    {
     "data": {
      "text/plain": [
       "(0, 39)"
      ]
     },
     "execution_count": 21,
     "metadata": {},
     "output_type": "execute_result"
    }
   ],
   "source": [
    "# create intersection of label and duplicate issues, count plots\n",
    "dup_label_comb = pd.merge(dup_issues, label_issues, left_index=True, right_index=True, how='inner')\n",
    "counts_dl = dup_label_comb.plot_id_x.value_counts()\n",
    "full_plots_dl = counts_dl[counts_dl == 196]\n",
    "partial_plots_dl = counts_dl[(counts >= 150) & (counts < 196)]\n",
    "len(full_plots_dl), len(partial_plots_dl)"
   ]
  },
  {
   "cell_type": "code",
   "execution_count": 22,
   "id": "b5695304-a947-4cfd-910b-ab90cbf1f841",
   "metadata": {},
   "outputs": [
    {
     "data": {
      "text/plain": [
       "plot_id_x\n",
       "14213    118\n",
       "19078     99\n",
       "19081     97\n",
       "20023     81\n",
       "21188     79\n",
       "15013     74\n",
       "21149     66\n",
       "21166     66\n",
       "21160     57\n",
       "15031     56\n",
       "21107     47\n",
       "21201     46\n",
       "21195     41\n",
       "21174     37\n",
       "08060     36\n",
       "08098     35\n",
       "21163     34\n",
       "14197     29\n",
       "22008     28\n",
       "15018     21\n",
       "21170     14\n",
       "22037     13\n",
       "08051     10\n",
       "21196      8\n",
       "21208      8\n",
       "21167      7\n",
       "21143      7\n",
       "22001      6\n",
       "21155      6\n",
       "22009      5\n",
       "22046      3\n",
       "21142      2\n",
       "15035      2\n",
       "21184      2\n",
       "21116      2\n",
       "21129      2\n",
       "21203      2\n",
       "21162      2\n",
       "21180      1\n",
       "Name: count, dtype: int64"
      ]
     },
     "execution_count": 22,
     "metadata": {},
     "output_type": "execute_result"
    }
   ],
   "source": [
    "partial_plots_dl"
   ]
  },
  {
   "cell_type": "code",
   "execution_count": 75,
   "id": "5f38cae3-ddbc-43fd-a773-a5e4770c1f02",
   "metadata": {},
   "outputs": [
    {
     "data": {
      "text/plain": [
       "survey\n",
       "08     81\n",
       "14    147\n",
       "15    153\n",
       "19    196\n",
       "20     81\n",
       "21    536\n",
       "22     55\n",
       "Name: is_label_issue, dtype: int64"
      ]
     },
     "execution_count": 75,
     "metadata": {},
     "output_type": "execute_result"
    }
   ],
   "source": [
    "tmp3 = dup_label_comb[dup_label_comb.plot_id_x.isin(partial_plots_dl.index)]\n",
    "tmp3.groupby(['survey']).is_label_issue.count()"
   ]
  },
  {
   "cell_type": "markdown",
   "id": "da199c58-f2a8-4f86-acc0-704a99ff7d1c",
   "metadata": {},
   "source": [
    "## Conclusions\n",
    "- There are 26 entire plots that were flagged with label issues. 23 of these are in CEO survey v21, and the remaining 3 plots are in v08, v14 and v22.\n",
    "- There are 117 partial plots that were flagged with label issues. The majority of these are also in CEO survey v21, with v08 coming in second.\n",
    "- As expected, the greatest misclassification takes place between the agroforestry and natural tree class. A considerably higher amount of natural pixels are misclassified as AF than vice versa.\n",
    "- What threshold should be applied for dropping plots that contain both label AND duplicate issues, since there are no cases where an entire plot meets both criteria? Most of the flagged plots only meet both these criteria for <50% of pixels, so does it make sense to drop the entire thing?\n",
    "  - There are no full plots (196 pixels) flagged with label AND duplicate issues.\n",
    "  - There are 76 plots with between 98 - 196 pixels flagged.\n",
    "  - There are 39 plots with 150-196 pixels flagged."
   ]
  }
 ],
 "metadata": {
  "kernelspec": {
   "display_name": "cleanlab",
   "language": "python",
   "name": "cleanlab"
  },
  "language_info": {
   "codemirror_mode": {
    "name": "ipython",
    "version": 3
   },
   "file_extension": ".py",
   "mimetype": "text/x-python",
   "name": "python",
   "nbconvert_exporter": "python",
   "pygments_lexer": "ipython3",
   "version": "3.12.5"
  }
 },
 "nbformat": 4,
 "nbformat_minor": 5
}
