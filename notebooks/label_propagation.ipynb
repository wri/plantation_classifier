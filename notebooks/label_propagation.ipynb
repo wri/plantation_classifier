{
 "cells": [
  {
   "cell_type": "markdown",
   "id": "0996ba2b",
   "metadata": {},
   "source": [
    "# Label Propagation"
   ]
  },
  {
   "cell_type": "code",
   "execution_count": 1,
   "id": "ac339df2",
   "metadata": {},
   "outputs": [],
   "source": [
    "#from shapely.geometry import Point, Polygon\n",
    "import geopandas as gpd\n",
    "import requests\n",
    "from tqdm.auto import tqdm\n",
    "import numpy as np\n",
    "from sklearn.semi_supervised import LabelPropagation\n",
    "from sklearn.preprocessing import LabelEncoder\n",
    "from sklearn.linear_model import LogisticRegression\n",
    "from sklearn.metrics import accuracy_score\n",
    "import rasterio as rs\n",
    "from rasterio.mask import mask\n",
    "from rasterio.merge import merge\n",
    "import random\n",
    "import pandas as pd\n",
    "from sklearn.model_selection import train_test_split\n",
    "import matplotlib.pyplot as plt\n",
    "from rasterio.plot import show\n",
    "from sklearn.model_selection import cross_val_score\n",
    "from sklearn.metrics import roc_auc_score, f1_score, precision_score, recall_score\n",
    "from glob import glob\n",
    "import os"
   ]
  },
  {
   "cell_type": "markdown",
   "id": "24448f79",
   "metadata": {},
   "source": [
    "# Prepare Inputs"
   ]
  },
  {
   "cell_type": "markdown",
   "id": "4b5e298f",
   "metadata": {},
   "source": [
    "## Input Raster Datasets"
   ]
  },
  {
   "cell_type": "code",
   "execution_count": 2,
   "id": "a41c07eb",
   "metadata": {},
   "outputs": [],
   "source": [
    "# download tiles for costa rica\n",
    "# aws s3 cp s3://esa-worldcover-s2/rgbnir/2020/N08/ESA_WorldCover_10m_2020_v100_N08W083_S2RGBNIR.tif /Users/jessica.ertel/plantation_classifier/data/label_prop/costa_rica/s2/"
   ]
  },
  {
   "cell_type": "code",
   "execution_count": 27,
   "id": "2f52af52",
   "metadata": {},
   "outputs": [],
   "source": [
    "# Mosaic sentinel files then clip to Costa Rica boundary\n",
    "\n",
    "def merge_and_clip(country, data):\n",
    "    \n",
    "    folder = (f'../data/label_prop/{country}/')\n",
    "\n",
    "    # now open each item in dataset reader mode (required to merge)\n",
    "    reader_mode = []\n",
    "\n",
    "    for file in glob(f'{folder}{data}/*.tif'):\n",
    "        src = rs.open(file)\n",
    "        reader_mode.append(src) \n",
    "\n",
    "    # for s2 and s1 nodata value is 0\n",
    "    mosaic, out_transform = merge(reader_mode)\n",
    "    \n",
    "    # outpath will be the new filename\n",
    "    merged = f'{folder}{country + data}_merged.tif'\n",
    "    out_meta = src.meta.copy()  \n",
    "    out_meta.update({'driver': \"GTiff\",\n",
    "                     'dtype': 'uint16',  \n",
    "                     'height': mosaic.shape[1],\n",
    "                     'width': mosaic.shape[2],\n",
    "                     'transform': out_transform,\n",
    "                     'compress':'lzw'})\n",
    "\n",
    "    with rs.open(merged, \"w\", **out_meta, BIGTIFF='YES') as dest:\n",
    "        dest.write(mosaic)\n",
    "\n",
    "    # now clip merged tif to country boundaries\n",
    "    merged = f'{folder}{country + data}_merged.tif'\n",
    "    shapefile = gpd.read_file(f'{folder}gadm41_CRI_0.shp')\n",
    "    clipped = f'{folder}{country + data}_clipped.tif'\n",
    "\n",
    "    with rs.open(merged) as src:\n",
    "        shapefile = shapefile.to_crs(src.crs)\n",
    "        out_image, out_transform = mask(src, shapefile.geometry, crop=True)\n",
    "        out_meta = src.meta.copy() \n",
    "\n",
    "    out_meta.update({\n",
    "        \"driver\":\"Gtiff\",\n",
    "        \"height\":out_image.shape[1], # height starts with shape[1]\n",
    "        \"width\":out_image.shape[2], # width starts with shape[2]\n",
    "        \"transform\":out_transform\n",
    "    })\n",
    "\n",
    "    with rs.open(clipped,'w',**out_meta, BIGTIFF='YES') as dst:\n",
    "        dst.write(out_image)\n",
    "    \n",
    "    print(f'{len(reader_mode)} tifs merged and clipped to {country}.')\n",
    "    os.remove(merged)\n",
    "    return None"
   ]
  },
  {
   "cell_type": "code",
   "execution_count": 28,
   "id": "8bb2a08e",
   "metadata": {},
   "outputs": [
    {
     "name": "stdout",
     "output_type": "stream",
     "text": [
      "13 tifs merged and clipped to costa_rica.\n"
     ]
    }
   ],
   "source": [
    "merge_and_clip('costa_rica', 's1')"
   ]
  },
  {
   "cell_type": "code",
   "execution_count": 29,
   "id": "909cc122",
   "metadata": {},
   "outputs": [
    {
     "name": "stdout",
     "output_type": "stream",
     "text": [
      "13 tifs merged and clipped to costa_rica.\n"
     ]
    }
   ],
   "source": [
    "merge_and_clip('costa_rica', 's2')"
   ]
  },
  {
   "cell_type": "code",
   "execution_count": 6,
   "id": "0aedab35",
   "metadata": {},
   "outputs": [],
   "source": [
    "## reproject the lulc dataset to espg 4326 to match other input data\n",
    "## taken verbatim from rasterio documentation w/ added compression params\n",
    "\n",
    "from rasterio.warp import calculate_default_transform, reproject, Resampling\n",
    "\n",
    "dst_crs = 'EPSG:4326'\n",
    "\n",
    "with rs.open('../data/testing/lulc_cr.tif') as src:\n",
    "    transform, width, height = calculate_default_transform(src.crs, dst_crs, src.width, src.height, *src.bounds)\n",
    "    kwargs = src.meta.copy()\n",
    "    kwargs.update({\n",
    "        'crs': dst_crs,\n",
    "        'transform': transform,\n",
    "        'width': width,\n",
    "        'height': height,\n",
    "        'compress': 'lzw',\n",
    "        'dtype': 'uint8'})\n",
    "\n",
    "    with rs.open('../data/testing/lulc_cr_reprj.tif', 'w', **kwargs) as dst:\n",
    "        for i in range(1, src.count + 1):\n",
    "            reproject(\n",
    "                source=rs.band(src, i),\n",
    "                destination=rs.band(dst, i),\n",
    "                src_transform=src.transform,\n",
    "                src_crs=src.crs,\n",
    "                dst_transform=transform,\n",
    "                dst_crs=dst_crs,\n",
    "                resampling=Resampling.nearest)"
   ]
  },
  {
   "cell_type": "markdown",
   "id": "6eaf2fed",
   "metadata": {},
   "source": [
    "## Extract Features"
   ]
  },
  {
   "cell_type": "code",
   "execution_count": 2,
   "id": "9d9944d1",
   "metadata": {},
   "outputs": [],
   "source": [
    "folder = ('../data/label_prop/')\n",
    "ttc = rs.open(f'{folder}/costa_rica/CostaRica.tif')\n",
    "sdpt = gpd.read_file(f'{folder}cri_sdpt_v2.shp')\n",
    "lulc = rs.open(f'{folder}lulc_cr_reprj.tif')\n",
    "cr = gpd.read_file(f'{folder}/costa_rica/gadm41_CRI_0_clipped.shp')\n",
    "hc_poly = gpd.read_file(f'{folder}HighConf_poly1.shp')\n",
    "s1 = rs.open(f'{folder}/costa_rica/costa_ricas1_clipped.tif')\n",
    "s2 = rs.open(f'{folder}/costa_rica/costa_ricas2_clipped.tif')"
   ]
  },
  {
   "cell_type": "code",
   "execution_count": 3,
   "id": "b968a228",
   "metadata": {},
   "outputs": [],
   "source": [
    "labeled_pts = gpd.read_file(f'{folder}/HighConf_Point.shp')\n",
    "labeled_pts = labeled_pts[['geometry', 'label']]\n",
    "unlabeled_pts = gpd.read_file(f'{folder}/output_unlabelledPts.shp')"
   ]
  },
  {
   "cell_type": "code",
   "execution_count": 4,
   "id": "b8175840",
   "metadata": {},
   "outputs": [],
   "source": [
    "def get_pts(num_pts):\n",
    "    \n",
    "    # gets num_pts of unlabeled data\n",
    "    print(f'Extracting {num_pts} unlabeled points...')\n",
    "    print('(points are currently imported)')\n",
    "    \n",
    "    # add line to avoid points on cocos island\n",
    "    # add line to drop any points that are NaN or 255 from TTC or LULC\n",
    "    \n",
    "    return points"
   ]
  },
  {
   "cell_type": "code",
   "execution_count": 5,
   "id": "5a123ffb",
   "metadata": {},
   "outputs": [],
   "source": [
    "def extract_raster_values(pts, raster):\n",
    "\n",
    "    # Read points from shapefile\n",
    "    pts = pts[['geometry']]\n",
    "    pts.index = range(len(pts))\n",
    "    coords = [(x,y) for x, y in zip(pts.geometry.x, pts.geometry.y)]\n",
    "\n",
    "    # Sample the raster at every point location and store values\n",
    "    pts['raster_val'] = [x[0] for x in raster.sample(coords)]\n",
    "            \n",
    "    return values\n"
   ]
  },
  {
   "cell_type": "code",
   "execution_count": 25,
   "id": "7f1e1f44",
   "metadata": {},
   "outputs": [],
   "source": [
    "def get_features(pts, labels):\n",
    "    \n",
    "    '''\n",
    "    Calculates num_pts within a designated area and extracts associated \n",
    "    attributes from 3 rasters. Returns dataframe where each row\n",
    "    represents an unlabeled observation.\n",
    "    \n",
    "    Data dictionary\n",
    "    SDPT: forest plantations = 2.0, oil palm = 1.0, orchard = 7215\n",
    "    LULC: \n",
    "    \n",
    "    '''\n",
    "\n",
    "    # import ttc, sdpt and lulc data and confirm crs\n",
    "    ttc = rs.open('../data/label_prop/costa_rica/CostaRica.tif')\n",
    "    sdpt = gpd.read_file('../data/label_prop/cri_sdpt_v2.shp')\n",
    "    lulc = rs.open('../data/label_prop/lulc_cr_reprj.tif')\n",
    "    s1 = rs.open(f'{folder}/costa_rica/costa_ricas1_clipped.tif')\n",
    "    s2 = rs.open(f'{folder}/costa_rica/costa_ricas2_clipped.tif')\n",
    "    \n",
    "    assert ttc.crs == sdpt.crs == lulc.crs == s1.crs == s2.crs == pts.crs\n",
    "    \n",
    "    coords = [(x,y) for x, y in zip(pts.geometry.x, pts.geometry.y)]\n",
    "    \n",
    "    # create new df to hold extracted attributes\n",
    "    pts['point_x'] = pts.geometry.x\n",
    "    pts['point_y'] = pts.geometry.y\n",
    "    pts['ttc'] = [x[0] for x in ttc.sample(coords)]\n",
    "    pts['lulc'] = [x[0] for x in lulc.sample(coords)]\n",
    "    pts['s1'] = [x[0] for x in s1.sample(coords)]\n",
    "    pts['s2'] = [x[0] for x in s2.sample(coords)]\n",
    "\n",
    "    # for sdpt must perform a join before extraction\n",
    "    intersection = gpd.sjoin(pts, sdpt[['originalCo', 'originalNa', 'geometry']], how='left', predicate='within')\n",
    "    pts['sdpt'] = intersection['originalCo']\n",
    "    \n",
    "    # if there is no sentinel 1 or 2 data, drop the sample\n",
    "    # no s1 bc of terrain shadow and no s2 bc of clouds\n",
    "    pts = pts[pts.s1 != 0.0]\n",
    "    pts = pts[pts.s2 != 0.0]\n",
    "    \n",
    "    if labels:\n",
    "        pts['label'] = pts['label'].map({'notplantation': '0', 'monoculture': '1', 'agroforestry': '2'})\n",
    "    else:\n",
    "        pts['label'] = '-1'\n",
    "    \n",
    "    \n",
    "    pts[['lulc', 'sdpt', 'ttc']] = pts[['lulc', 'sdpt', 'ttc']].astype(str)\n",
    "    print(f'{len(pts)} total samples')\n",
    "    \n",
    "    return pts"
   ]
  },
  {
   "cell_type": "code",
   "execution_count": 26,
   "id": "0b6d3702",
   "metadata": {},
   "outputs": [
    {
     "name": "stdout",
     "output_type": "stream",
     "text": [
      "2089 total samples\n"
     ]
    }
   ],
   "source": [
    "labeled = get_features(labeled_pts, labels=True)"
   ]
  },
  {
   "cell_type": "code",
   "execution_count": 10,
   "id": "ac2aa99f",
   "metadata": {},
   "outputs": [
    {
     "name": "stdout",
     "output_type": "stream",
     "text": [
      "1994 total samples\n"
     ]
    }
   ],
   "source": [
    "unlabeled = get_features(unlabeled_pts, labels=False)"
   ]
  },
  {
   "cell_type": "code",
   "execution_count": 11,
   "id": "4ac1b928",
   "metadata": {},
   "outputs": [
    {
     "name": "stdout",
     "output_type": "stream",
     "text": [
      "<class 'geopandas.geodataframe.GeoDataFrame'>\n",
      "Int64Index: 1994 entries, 0 to 1998\n",
      "Data columns (total 10 columns):\n",
      " #   Column    Non-Null Count  Dtype   \n",
      "---  ------    --------------  -----   \n",
      " 0   FID       1994 non-null   int64   \n",
      " 1   geometry  1994 non-null   geometry\n",
      " 2   point_x   1994 non-null   float64 \n",
      " 3   point_y   1994 non-null   float64 \n",
      " 4   ttc       1994 non-null   object  \n",
      " 5   lulc      1994 non-null   object  \n",
      " 6   s1        1994 non-null   uint16  \n",
      " 7   s2        1994 non-null   uint16  \n",
      " 8   sdpt      1994 non-null   object  \n",
      " 9   label     1994 non-null   object  \n",
      "dtypes: float64(2), geometry(1), int64(1), object(4), uint16(2)\n",
      "memory usage: 148.0+ KB\n"
     ]
    }
   ],
   "source": [
    "unlabeled.info()"
   ]
  },
  {
   "cell_type": "markdown",
   "id": "cbe07365",
   "metadata": {},
   "source": [
    "## EDA"
   ]
  },
  {
   "cell_type": "code",
   "execution_count": 12,
   "id": "847818ef",
   "metadata": {},
   "outputs": [
    {
     "data": {
      "image/png": "[encoded data removed]",
      "text/plain": [
       "<Figure size 900x900 with 1 Axes>"
      ]
     },
     "metadata": {},
     "output_type": "display_data"
    }
   ],
   "source": [
    "# quick visual to get a sense of the location of labeled and unlabeled points\n",
    "ax = cr.plot(figsize=(9,9))\n",
    "labeled.plot(ax=ax, color='red', markersize=0.1)\n",
    "unlabeled.plot(ax=ax, color='black', markersize=0.1);"
   ]
  },
  {
   "cell_type": "code",
   "execution_count": 41,
   "id": "9b64727e",
   "metadata": {},
   "outputs": [
    {
     "data": {
      "image/png": "[encoded data removed]",
      "text/plain": [
       "<Figure size 1700x1200 with 3 Axes>"
      ]
     },
     "metadata": {},
     "output_type": "display_data"
    }
   ],
   "source": [
    "plt.figure(figsize=(17,12)) \n",
    "\n",
    "plt.subplot(2,2,1)\n",
    "plt.hist(labeled[labeled.label == '2'].ttc)\n",
    "plt.xlabel('tree cover')\n",
    "plt.ylabel('count')\n",
    "plt.title('TTC Tree Cover Distribution for Agroforestry Class')\n",
    "\n",
    "plt.subplot(2,2,2)\n",
    "plt.hist(labeled[labeled.label == '2'].lulc)\n",
    "plt.xlabel('lulc')\n",
    "plt.ylabel('count')\n",
    "plt.title('LULC Distribution for Agroforestry Class')\n",
    "\n",
    "plt.subplot(2,2,3)\n",
    "plt.hist(labeled[labeled.label == '2'].sdpt)\n",
    "plt.xlabel('sdpt')\n",
    "plt.ylabel('count')\n",
    "plt.title('SDPT Distribution for Agroforestry Class');"
   ]
  },
  {
   "cell_type": "markdown",
   "id": "4dacdecc",
   "metadata": {},
   "source": [
    "## Prepare Model Input\n",
    "Confirm that the labeled and unlabeled dataframes match so they can be combined as input to the models."
   ]
  },
  {
   "cell_type": "code",
   "execution_count": 14,
   "id": "7eef19be",
   "metadata": {},
   "outputs": [
    {
     "name": "stdout",
     "output_type": "stream",
     "text": [
      "<class 'geopandas.geodataframe.GeoDataFrame'>\n",
      "Int64Index: 2089 entries, 0 to 2193\n",
      "Data columns (total 9 columns):\n",
      " #   Column    Non-Null Count  Dtype   \n",
      "---  ------    --------------  -----   \n",
      " 0   geometry  2089 non-null   geometry\n",
      " 1   label     2089 non-null   object  \n",
      " 2   point_x   2089 non-null   float64 \n",
      " 3   point_y   2089 non-null   float64 \n",
      " 4   ttc       2089 non-null   object  \n",
      " 5   lulc      2089 non-null   object  \n",
      " 6   s1        2089 non-null   uint16  \n",
      " 7   s2        2089 non-null   uint16  \n",
      " 8   sdpt      2089 non-null   object  \n",
      "dtypes: float64(2), geometry(1), object(4), uint16(2)\n",
      "memory usage: 138.7+ KB\n"
     ]
    },
    {
     "data": {
      "text/plain": [
       "None"
      ]
     },
     "metadata": {},
     "output_type": "display_data"
    },
    {
     "name": "stdout",
     "output_type": "stream",
     "text": [
      "<class 'geopandas.geodataframe.GeoDataFrame'>\n",
      "Int64Index: 1994 entries, 0 to 1998\n",
      "Data columns (total 10 columns):\n",
      " #   Column    Non-Null Count  Dtype   \n",
      "---  ------    --------------  -----   \n",
      " 0   FID       1994 non-null   int64   \n",
      " 1   geometry  1994 non-null   geometry\n",
      " 2   point_x   1994 non-null   float64 \n",
      " 3   point_y   1994 non-null   float64 \n",
      " 4   ttc       1994 non-null   object  \n",
      " 5   lulc      1994 non-null   object  \n",
      " 6   s1        1994 non-null   uint16  \n",
      " 7   s2        1994 non-null   uint16  \n",
      " 8   sdpt      1994 non-null   object  \n",
      " 9   label     1994 non-null   object  \n",
      "dtypes: float64(2), geometry(1), int64(1), object(4), uint16(2)\n",
      "memory usage: 148.0+ KB\n"
     ]
    },
    {
     "data": {
      "text/plain": [
       "None"
      ]
     },
     "metadata": {},
     "output_type": "display_data"
    }
   ],
   "source": [
    "display(labeled.info())\n",
    "display(unlabeled.info())"
   ]
  },
  {
   "cell_type": "markdown",
   "id": "1a7950bf",
   "metadata": {},
   "source": [
    "## Supervised Learning: Logistic Regression\n",
    "Perform an initial supervised learning exercise using only the labeled data (to create a baseline for comparison). Since we have 3 classes, we are using multinomial logistic regression.  \n",
    "\n",
    "Solvers   \n",
    "liblinear: This is a simple solver that works well for small datasets. It uses a coordinate descent algorithm to optimize the coefficients of the model. It is efficient and can handle L1 and L2 regularization. However, it does not support multinomial logistic regression.  \n",
    "\n",
    "lbfgs: This is a quasi-Newton method that approximates the Hessian matrix of the cost function. It is a good all-purpose solver that works well for small to medium-sized datasets. It can handle both L1 and L2 regularization and supports multinomial logistic regression.  \n",
    "\n",
    "newton-cg: This solver uses a Newton-CG algorithm to optimize the coefficients of the model. It is efficient and works well for small to medium-sized datasets. It can handle both L1 and L2 regularization and supports multinomial logistic regression.  \n",
    "\n",
    "sag: This is a stochastic gradient descent solver that works well for large datasets. It uses a variant of stochastic gradient descent that takes into account the previous gradient. It can handle both L1 and L2 regularization and supports multinomial logistic regression. Saga is an improved version of the sag solver that supports L1 regularization as well as elastic-net regularization. **Both require the training data to be scaled.**"
   ]
  },
  {
   "cell_type": "code",
   "execution_count": 15,
   "id": "a4001ea4",
   "metadata": {},
   "outputs": [],
   "source": [
    "from sklearn.compose import make_column_selector as selector\n",
    "from sklearn.preprocessing import OneHotEncoder\n",
    "from sklearn.compose import ColumnTransformer\n",
    "from sklearn.pipeline import make_pipeline\n",
    "from sklearn.utils.class_weight import compute_class_weight"
   ]
  },
  {
   "cell_type": "code",
   "execution_count": 17,
   "id": "e6dadbe9",
   "metadata": {},
   "outputs": [
    {
     "name": "stdout",
     "output_type": "stream",
     "text": [
      "class distribution:\n",
      "0    0.81\n",
      "1    0.15\n",
      "2    0.04\n",
      "Name: label, dtype: float64\n",
      "class weights: {'0': 0.41362916006339145, '1': 2.19327731092437, '2': 7.909090909090909}\n"
     ]
    }
   ],
   "source": [
    "X = labeled[['lulc','sdpt','ttc','s1','s2', 'point_x', 'point_y']]\n",
    "X = pd.get_dummies(X, columns = ['lulc', 'sdpt', 'ttc'])\n",
    "y = labeled['label']\n",
    "\n",
    "X_train, X_test, y_train, y_test = train_test_split(X, y, random_state=22, stratify=y)\n",
    "\n",
    "# calc weighting to balance classes\n",
    "classes = np.unique(y_train)\n",
    "weights = compute_class_weight(class_weight='balanced', classes=classes, y=y_train)\n",
    "class_weights = dict(zip(classes, weights)) \n",
    "print(f'class distribution:') \n",
    "print(f'{round(y.value_counts(normalize=True),2)}')\n",
    "print(f'class weights: {class_weights}')"
   ]
  },
  {
   "cell_type": "code",
   "execution_count": 18,
   "id": "bfc215c7",
   "metadata": {},
   "outputs": [
    {
     "data": {
      "text/plain": [
       "(0.9936143039591316,\n",
       " 0.9974457215836526,\n",
       " 0.9980879541108987,\n",
       " 0.9980928327615257,\n",
       " 0.9981118546845125,\n",
       " 0.9980879541108987)"
      ]
     },
     "execution_count": 18,
     "metadata": {},
     "output_type": "execute_result"
    }
   ],
   "source": [
    "model = LogisticRegression(multi_class='multinomial', \n",
    "                          solver='lbfgs', \n",
    "                          max_iter=400, \n",
    "                          class_weight=class_weights,\n",
    "                          random_state=22)\n",
    "\n",
    "model.fit(X_train, y_train)\n",
    "cv = cross_val_score(model, X_train, y_train, cv=3).mean()\n",
    "train_score = model.score(X_train, y_train)\n",
    "test_score = model.score(X_test, y_test)\n",
    "probs = model.predict_proba(X_test)\n",
    "pred = model.predict(X_test)\n",
    "f1 = f1_score(y_test, pred, average='weighted')\n",
    "precision = precision_score(y_test, pred, average='weighted')\n",
    "recall = recall_score(y_test, pred, average='weighted')  \n",
    "cv, train_score, test_score, f1, precision, recall"
   ]
  },
  {
   "cell_type": "code",
   "execution_count": 42,
   "id": "2da44230",
   "metadata": {},
   "outputs": [],
   "source": [
    "# Attempt with sampled data (because classes are highly imbalanced)?\n",
    "\n",
    "# X = labeled_sample[['lulc','sdpt','ttc','s1','s2', 'point_x', 'point_y']]\n",
    "# X = pd.get_dummies(X, columns = ['lulc', 'sdpt', 'ttc'])\n",
    "# y = labeled_sample['label']\n",
    "\n",
    "# X_train, X_test, y_train, y_test = train_test_split(X, y, random_state=22, stratify=y)\n",
    "\n",
    "# model = LogisticRegression(multi_class='multinomial', \n",
    "#                           solver='lbfgs', \n",
    "#                           max_iter=500, \n",
    "#                           random_state=22)\n",
    "\n",
    "# model.fit(X_train, y_train)\n",
    "# cv = cross_val_score(model, X_train, y_train, cv=3).mean()\n",
    "# train_score = model.score(X_train, y_train)\n",
    "# test_score = model.score(X_test, y_test)\n",
    "# probs = model.predict_proba(X_test)\n",
    "# pred = model.predict(X_test)\n",
    "# f1 = f1_score(y_test, pred, average='weighted')\n",
    "# precision = precision_score(y_test, pred, average='weighted')\n",
    "# recall = recall_score(y_test, pred, average='weighted')  \n",
    "# cv, train_score, test_score, f1, precision, recall"
   ]
  },
  {
   "cell_type": "markdown",
   "id": "044085e7",
   "metadata": {},
   "source": [
    "## Semi-supervised Learning: Label Propagation\n",
    "Perform a semi-supervised learning exercise where the algorithm will have the labeled and unlabeled data. Expect the semi-supervised learning algorithm to outperform the logistic regression model fit on the labeled data alone.  \n",
    "Issue: Labels are categorical. Missing labels must be indicated by -1, however not clear that this approach works for categorical predictions because the algorithm should not be predicting that label."
   ]
  },
  {
   "cell_type": "code",
   "execution_count": 19,
   "id": "dd581404",
   "metadata": {},
   "outputs": [
    {
     "name": "stdout",
     "output_type": "stream",
     "text": [
      "Mixed Train Set: (3062, 38) (3062,)\n",
      "Test Set: (1021, 38) (1021,)\n"
     ]
    }
   ],
   "source": [
    "X = labeled[['lulc','sdpt','ttc','s1','s2', 'point_x', 'point_y']]\n",
    "y = labeled['label']\n",
    "\n",
    "Xun = unlabeled[['lulc','sdpt','ttc','s1','s2', 'point_x', 'point_y']]\n",
    "yun = unlabeled['label']\n",
    "\n",
    "# create the mixed training dataset\n",
    "X_mixed = pd.concat([X, Xun])\n",
    "y_mixed = pd.concat([y, yun])\n",
    "\n",
    "X_mixed = pd.get_dummies(X_mixed, columns = ['lulc', 'sdpt', 'ttc'])\n",
    "\n",
    "# have to train test split after to ensure train and text have same representation\n",
    "X_train, X_test, y_train, y_test = train_test_split(X_mixed, y_mixed, random_state=22, stratify=y_mixed)\n",
    "\n",
    "\n",
    "print('Mixed Train Set:', X_train.shape, y_train.shape)\n",
    "print('Test Set:', X_test.shape, y_test.shape)"
   ]
  },
  {
   "cell_type": "code",
   "execution_count": 22,
   "id": "cd33b67c",
   "metadata": {},
   "outputs": [
    {
     "name": "stdout",
     "output_type": "stream",
     "text": [
      "Accuracy: 0.4975514201762977\n"
     ]
    },
    {
     "name": "stderr",
     "output_type": "stream",
     "text": [
      "/Users/jessica.ertel/opt/anaconda3/envs/plantations4/lib/python3.8/site-packages/sklearn/semi_supervised/_label_propagation.py:222: RuntimeWarning: invalid value encountered in divide\n",
      "  probabilities /= normalizer\n"
     ]
    }
   ],
   "source": [
    "semisuper_model = LabelPropagation()\n",
    "semisuper_model.fit(X_train, y_train)\n",
    "yhat = semisuper_model.predict(X_test)\n",
    "score = accuracy_score(y_test, yhat)\n",
    "print(f'Accuracy: {score}')"
   ]
  },
  {
   "cell_type": "code",
   "execution_count": 23,
   "id": "6803b4b8",
   "metadata": {},
   "outputs": [
    {
     "data": {
      "text/html": [
       "<div>\n",
       "<style scoped>\n",
       "    .dataframe tbody tr th:only-of-type {\n",
       "        vertical-align: middle;\n",
       "    }\n",
       "\n",
       "    .dataframe tbody tr th {\n",
       "        vertical-align: top;\n",
       "    }\n",
       "\n",
       "    .dataframe thead th {\n",
       "        text-align: right;\n",
       "    }\n",
       "</style>\n",
       "<table border=\"1\" class=\"dataframe\">\n",
       "  <thead>\n",
       "    <tr style=\"text-align: right;\">\n",
       "      <th></th>\n",
       "      <th>s1</th>\n",
       "      <th>s2</th>\n",
       "      <th>point_x</th>\n",
       "      <th>point_y</th>\n",
       "      <th>lulc_1</th>\n",
       "      <th>lulc_10</th>\n",
       "      <th>lulc_11</th>\n",
       "      <th>lulc_12</th>\n",
       "      <th>lulc_14</th>\n",
       "      <th>lulc_15</th>\n",
       "      <th>...</th>\n",
       "      <th>ttc_20</th>\n",
       "      <th>ttc_255</th>\n",
       "      <th>ttc_30</th>\n",
       "      <th>ttc_40</th>\n",
       "      <th>ttc_50</th>\n",
       "      <th>ttc_60</th>\n",
       "      <th>ttc_70</th>\n",
       "      <th>ttc_80</th>\n",
       "      <th>ttc_90</th>\n",
       "      <th>preds</th>\n",
       "    </tr>\n",
       "  </thead>\n",
       "  <tbody>\n",
       "    <tr>\n",
       "      <th>246</th>\n",
       "      <td>39468</td>\n",
       "      <td>322</td>\n",
       "      <td>-84.219924</td>\n",
       "      <td>9.517038</td>\n",
       "      <td>0</td>\n",
       "      <td>0</td>\n",
       "      <td>0</td>\n",
       "      <td>0</td>\n",
       "      <td>0</td>\n",
       "      <td>0</td>\n",
       "      <td>...</td>\n",
       "      <td>0</td>\n",
       "      <td>0</td>\n",
       "      <td>0</td>\n",
       "      <td>0</td>\n",
       "      <td>0</td>\n",
       "      <td>0</td>\n",
       "      <td>0</td>\n",
       "      <td>0</td>\n",
       "      <td>1</td>\n",
       "      <td>1</td>\n",
       "    </tr>\n",
       "    <tr>\n",
       "      <th>1984</th>\n",
       "      <td>38207</td>\n",
       "      <td>650</td>\n",
       "      <td>-84.313494</td>\n",
       "      <td>9.733769</td>\n",
       "      <td>0</td>\n",
       "      <td>0</td>\n",
       "      <td>0</td>\n",
       "      <td>0</td>\n",
       "      <td>0</td>\n",
       "      <td>0</td>\n",
       "      <td>...</td>\n",
       "      <td>0</td>\n",
       "      <td>0</td>\n",
       "      <td>0</td>\n",
       "      <td>0</td>\n",
       "      <td>0</td>\n",
       "      <td>0</td>\n",
       "      <td>0</td>\n",
       "      <td>0</td>\n",
       "      <td>0</td>\n",
       "      <td>-1</td>\n",
       "    </tr>\n",
       "    <tr>\n",
       "      <th>1920</th>\n",
       "      <td>37913</td>\n",
       "      <td>316</td>\n",
       "      <td>-85.351837</td>\n",
       "      <td>10.645842</td>\n",
       "      <td>0</td>\n",
       "      <td>0</td>\n",
       "      <td>0</td>\n",
       "      <td>0</td>\n",
       "      <td>0</td>\n",
       "      <td>0</td>\n",
       "      <td>...</td>\n",
       "      <td>0</td>\n",
       "      <td>0</td>\n",
       "      <td>0</td>\n",
       "      <td>0</td>\n",
       "      <td>0</td>\n",
       "      <td>0</td>\n",
       "      <td>0</td>\n",
       "      <td>0</td>\n",
       "      <td>1</td>\n",
       "      <td>-1</td>\n",
       "    </tr>\n",
       "    <tr>\n",
       "      <th>132</th>\n",
       "      <td>39468</td>\n",
       "      <td>312</td>\n",
       "      <td>-83.748847</td>\n",
       "      <td>9.439729</td>\n",
       "      <td>0</td>\n",
       "      <td>0</td>\n",
       "      <td>0</td>\n",
       "      <td>0</td>\n",
       "      <td>0</td>\n",
       "      <td>0</td>\n",
       "      <td>...</td>\n",
       "      <td>0</td>\n",
       "      <td>0</td>\n",
       "      <td>0</td>\n",
       "      <td>0</td>\n",
       "      <td>0</td>\n",
       "      <td>0</td>\n",
       "      <td>0</td>\n",
       "      <td>0</td>\n",
       "      <td>1</td>\n",
       "      <td>-1</td>\n",
       "    </tr>\n",
       "    <tr>\n",
       "      <th>1150</th>\n",
       "      <td>39524</td>\n",
       "      <td>374</td>\n",
       "      <td>-84.349718</td>\n",
       "      <td>9.604628</td>\n",
       "      <td>0</td>\n",
       "      <td>0</td>\n",
       "      <td>0</td>\n",
       "      <td>0</td>\n",
       "      <td>0</td>\n",
       "      <td>0</td>\n",
       "      <td>...</td>\n",
       "      <td>0</td>\n",
       "      <td>0</td>\n",
       "      <td>0</td>\n",
       "      <td>0</td>\n",
       "      <td>0</td>\n",
       "      <td>0</td>\n",
       "      <td>0</td>\n",
       "      <td>0</td>\n",
       "      <td>1</td>\n",
       "      <td>-1</td>\n",
       "    </tr>\n",
       "  </tbody>\n",
       "</table>\n",
       "<p>5 rows × 39 columns</p>\n",
       "</div>"
      ],
      "text/plain": [
       "         s1   s2    point_x    point_y  lulc_1  lulc_10  lulc_11  lulc_12  \\\n",
       "246   39468  322 -84.219924   9.517038       0        0        0        0   \n",
       "1984  38207  650 -84.313494   9.733769       0        0        0        0   \n",
       "1920  37913  316 -85.351837  10.645842       0        0        0        0   \n",
       "132   39468  312 -83.748847   9.439729       0        0        0        0   \n",
       "1150  39524  374 -84.349718   9.604628       0        0        0        0   \n",
       "\n",
       "      lulc_14  lulc_15  ...  ttc_20  ttc_255  ttc_30  ttc_40  ttc_50  ttc_60  \\\n",
       "246         0        0  ...       0        0       0       0       0       0   \n",
       "1984        0        0  ...       0        0       0       0       0       0   \n",
       "1920        0        0  ...       0        0       0       0       0       0   \n",
       "132         0        0  ...       0        0       0       0       0       0   \n",
       "1150        0        0  ...       0        0       0       0       0       0   \n",
       "\n",
       "      ttc_70  ttc_80  ttc_90  preds  \n",
       "246        0       0       1      1  \n",
       "1984       0       0       0     -1  \n",
       "1920       0       0       1     -1  \n",
       "132        0       0       1     -1  \n",
       "1150       0       0       1     -1  \n",
       "\n",
       "[5 rows x 39 columns]"
      ]
     },
     "execution_count": 23,
     "metadata": {},
     "output_type": "execute_result"
    }
   ],
   "source": [
    "X_test['preds'] = yhat\n",
    "X_test.head()"
   ]
  },
  {
   "cell_type": "code",
   "execution_count": 24,
   "id": "6840cf2f",
   "metadata": {},
   "outputs": [
    {
     "data": {
      "text/plain": [
       "array(['-1', '0', '1', '2'], dtype=object)"
      ]
     },
     "execution_count": 24,
     "metadata": {},
     "output_type": "execute_result"
    }
   ],
   "source": [
    "semisuper_model.classes_"
   ]
  },
  {
   "cell_type": "markdown",
   "id": "a03643a7",
   "metadata": {},
   "source": [
    "## Validation of outputs"
   ]
  },
  {
   "cell_type": "markdown",
   "id": "311025d8",
   "metadata": {},
   "source": [
    "## What Next\n",
    "Option 1: Could we use the high confidence labeled centroids to generate a 14 x 14 grid of unlabeled points and use label propagation to label the rest of the points in the grid?\n",
    "\n",
    "Concerns:\n",
    "- some points are very close and may have overlapping grids which would need to have the same labels\n",
    "- some degree of photointerpretation still feels necessary\n",
    "- should pineapple be considered a monoculture plantation? SDPT labels pineapple as orchard\n",
    "\n",
    "Roadblock\n",
    "- in qgis cannot reproject to a crs with meters as units (points move to incorrect locations)\n"
   ]
  },
  {
   "cell_type": "code",
   "execution_count": 104,
   "id": "f6fb3dfb",
   "metadata": {},
   "outputs": [
    {
     "data": {
      "text/html": [
       "<div>\n",
       "<style scoped>\n",
       "    .dataframe tbody tr th:only-of-type {\n",
       "        vertical-align: middle;\n",
       "    }\n",
       "\n",
       "    .dataframe tbody tr th {\n",
       "        vertical-align: top;\n",
       "    }\n",
       "\n",
       "    .dataframe thead th {\n",
       "        text-align: right;\n",
       "    }\n",
       "</style>\n",
       "<table border=\"1\" class=\"dataframe\">\n",
       "  <thead>\n",
       "    <tr style=\"text-align: right;\">\n",
       "      <th></th>\n",
       "      <th>lulc</th>\n",
       "      <th>sdpt</th>\n",
       "      <th>ttc</th>\n",
       "      <th>point_x</th>\n",
       "      <th>point_y</th>\n",
       "      <th>preds</th>\n",
       "    </tr>\n",
       "  </thead>\n",
       "  <tbody>\n",
       "    <tr>\n",
       "      <th>521</th>\n",
       "      <td>22.0</td>\n",
       "      <td>3.0</td>\n",
       "      <td>5</td>\n",
       "      <td>-83.456717</td>\n",
       "      <td>9.247454</td>\n",
       "      <td>0</td>\n",
       "    </tr>\n",
       "    <tr>\n",
       "      <th>1855</th>\n",
       "      <td>8.0</td>\n",
       "      <td>0.0</td>\n",
       "      <td>90</td>\n",
       "      <td>-83.233811</td>\n",
       "      <td>9.874400</td>\n",
       "      <td>-1</td>\n",
       "    </tr>\n",
       "    <tr>\n",
       "      <th>357</th>\n",
       "      <td>6.0</td>\n",
       "      <td>0.0</td>\n",
       "      <td>90</td>\n",
       "      <td>-85.728006</td>\n",
       "      <td>10.187768</td>\n",
       "      <td>-1</td>\n",
       "    </tr>\n",
       "    <tr>\n",
       "      <th>523</th>\n",
       "      <td>22.0</td>\n",
       "      <td>3.0</td>\n",
       "      <td>5</td>\n",
       "      <td>-83.477466</td>\n",
       "      <td>9.244667</td>\n",
       "      <td>0</td>\n",
       "    </tr>\n",
       "    <tr>\n",
       "      <th>972</th>\n",
       "      <td>6.0</td>\n",
       "      <td>0.0</td>\n",
       "      <td>80</td>\n",
       "      <td>-84.899885</td>\n",
       "      <td>9.821463</td>\n",
       "      <td>-1</td>\n",
       "    </tr>\n",
       "  </tbody>\n",
       "</table>\n",
       "</div>"
      ],
      "text/plain": [
       "      lulc sdpt  ttc    point_x    point_y preds\n",
       "521   22.0  3.0    5 -83.456717   9.247454     0\n",
       "1855   8.0  0.0   90 -83.233811   9.874400    -1\n",
       "357    6.0  0.0   90 -85.728006  10.187768    -1\n",
       "523   22.0  3.0    5 -83.477466   9.244667     0\n",
       "972    6.0  0.0   80 -84.899885   9.821463    -1"
      ]
     },
     "metadata": {},
     "output_type": "display_data"
    },
    {
     "data": {
      "text/html": [
       "<div>\n",
       "<style scoped>\n",
       "    .dataframe tbody tr th:only-of-type {\n",
       "        vertical-align: middle;\n",
       "    }\n",
       "\n",
       "    .dataframe tbody tr th {\n",
       "        vertical-align: top;\n",
       "    }\n",
       "\n",
       "    .dataframe thead th {\n",
       "        text-align: right;\n",
       "    }\n",
       "</style>\n",
       "<table border=\"1\" class=\"dataframe\">\n",
       "  <thead>\n",
       "    <tr style=\"text-align: right;\">\n",
       "      <th></th>\n",
       "      <th>index</th>\n",
       "      <th>PLOT_ID</th>\n",
       "      <th>SAMPLE_ID</th>\n",
       "      <th>LON</th>\n",
       "      <th>LAT</th>\n",
       "      <th>EMAIL</th>\n",
       "      <th>FLAGGED</th>\n",
       "      <th>COLLECTION_TIME</th>\n",
       "      <th>ANALYSIS_DURATION</th>\n",
       "      <th>IMAGERY_TITLE</th>\n",
       "      <th>IMAGERY_ATTRIBUTIONS</th>\n",
       "      <th>SAMPLE_GEOM</th>\n",
       "      <th>SYSTEM</th>\n",
       "      <th>PLOT_FNAME</th>\n",
       "      <th>PLANTATION</th>\n",
       "    </tr>\n",
       "  </thead>\n",
       "  <tbody>\n",
       "    <tr>\n",
       "      <th>0</th>\n",
       "      <td>0</td>\n",
       "      <td>0</td>\n",
       "      <td>-195</td>\n",
       "      <td>-0.894849</td>\n",
       "      <td>6.116158</td>\n",
       "      <td>jessica.ertel@wri.org</td>\n",
       "      <td>False</td>\n",
       "      <td>2023-06-28 19:26</td>\n",
       "      <td>98.8 secs</td>\n",
       "      <td>Mapbox Satellite</td>\n",
       "      <td>NaN</td>\n",
       "      <td>POINT(-0.894848875934758 6.116157612001956)</td>\n",
       "      <td>Unknown</td>\n",
       "      <td>20001</td>\n",
       "      <td>255</td>\n",
       "    </tr>\n",
       "    <tr>\n",
       "      <th>1</th>\n",
       "      <td>1</td>\n",
       "      <td>0</td>\n",
       "      <td>-194</td>\n",
       "      <td>-0.894849</td>\n",
       "      <td>6.116247</td>\n",
       "      <td>jessica.ertel@wri.org</td>\n",
       "      <td>False</td>\n",
       "      <td>2023-06-28 19:26</td>\n",
       "      <td>98.8 secs</td>\n",
       "      <td>Mapbox Satellite</td>\n",
       "      <td>NaN</td>\n",
       "      <td>POINT(-0.894848875934758 6.116246932196532)</td>\n",
       "      <td>Unknown</td>\n",
       "      <td>20001</td>\n",
       "      <td>255</td>\n",
       "    </tr>\n",
       "    <tr>\n",
       "      <th>2</th>\n",
       "      <td>2</td>\n",
       "      <td>0</td>\n",
       "      <td>-193</td>\n",
       "      <td>-0.894849</td>\n",
       "      <td>6.116336</td>\n",
       "      <td>jessica.ertel@wri.org</td>\n",
       "      <td>False</td>\n",
       "      <td>2023-06-28 19:26</td>\n",
       "      <td>98.8 secs</td>\n",
       "      <td>Mapbox Satellite</td>\n",
       "      <td>NaN</td>\n",
       "      <td>POINT(-0.894848875934758 6.116336252376186)</td>\n",
       "      <td>Unknown</td>\n",
       "      <td>20001</td>\n",
       "      <td>255</td>\n",
       "    </tr>\n",
       "    <tr>\n",
       "      <th>3</th>\n",
       "      <td>3</td>\n",
       "      <td>0</td>\n",
       "      <td>-192</td>\n",
       "      <td>-0.894849</td>\n",
       "      <td>6.116426</td>\n",
       "      <td>jessica.ertel@wri.org</td>\n",
       "      <td>False</td>\n",
       "      <td>2023-06-28 19:26</td>\n",
       "      <td>98.8 secs</td>\n",
       "      <td>Mapbox Satellite</td>\n",
       "      <td>NaN</td>\n",
       "      <td>POINT(-0.894848875934758 6.116425572540933)</td>\n",
       "      <td>Unknown</td>\n",
       "      <td>20001</td>\n",
       "      <td>255</td>\n",
       "    </tr>\n",
       "    <tr>\n",
       "      <th>4</th>\n",
       "      <td>4</td>\n",
       "      <td>0</td>\n",
       "      <td>-191</td>\n",
       "      <td>-0.894849</td>\n",
       "      <td>6.116515</td>\n",
       "      <td>jessica.ertel@wri.org</td>\n",
       "      <td>False</td>\n",
       "      <td>2023-06-28 19:26</td>\n",
       "      <td>98.8 secs</td>\n",
       "      <td>Mapbox Satellite</td>\n",
       "      <td>NaN</td>\n",
       "      <td>POINT(-0.894848875934758 6.116514892690745)</td>\n",
       "      <td>Unknown</td>\n",
       "      <td>20001</td>\n",
       "      <td>255</td>\n",
       "    </tr>\n",
       "  </tbody>\n",
       "</table>\n",
       "</div>"
      ],
      "text/plain": [
       "   index  PLOT_ID  SAMPLE_ID       LON       LAT                  EMAIL  \\\n",
       "0      0        0       -195 -0.894849  6.116158  jessica.ertel@wri.org   \n",
       "1      1        0       -194 -0.894849  6.116247  jessica.ertel@wri.org   \n",
       "2      2        0       -193 -0.894849  6.116336  jessica.ertel@wri.org   \n",
       "3      3        0       -192 -0.894849  6.116426  jessica.ertel@wri.org   \n",
       "4      4        0       -191 -0.894849  6.116515  jessica.ertel@wri.org   \n",
       "\n",
       "   FLAGGED   COLLECTION_TIME ANALYSIS_DURATION     IMAGERY_TITLE  \\\n",
       "0    False  2023-06-28 19:26         98.8 secs  Mapbox Satellite   \n",
       "1    False  2023-06-28 19:26         98.8 secs  Mapbox Satellite   \n",
       "2    False  2023-06-28 19:26         98.8 secs  Mapbox Satellite   \n",
       "3    False  2023-06-28 19:26         98.8 secs  Mapbox Satellite   \n",
       "4    False  2023-06-28 19:26         98.8 secs  Mapbox Satellite   \n",
       "\n",
       "   IMAGERY_ATTRIBUTIONS                                  SAMPLE_GEOM   SYSTEM  \\\n",
       "0                   NaN  POINT(-0.894848875934758 6.116157612001956)  Unknown   \n",
       "1                   NaN  POINT(-0.894848875934758 6.116246932196532)  Unknown   \n",
       "2                   NaN  POINT(-0.894848875934758 6.116336252376186)  Unknown   \n",
       "3                   NaN  POINT(-0.894848875934758 6.116425572540933)  Unknown   \n",
       "4                   NaN  POINT(-0.894848875934758 6.116514892690745)  Unknown   \n",
       "\n",
       "   PLOT_FNAME  PLANTATION  \n",
       "0       20001         255  \n",
       "1       20001         255  \n",
       "2       20001         255  \n",
       "3       20001         255  \n",
       "4       20001         255  "
      ]
     },
     "metadata": {},
     "output_type": "display_data"
    }
   ],
   "source": [
    "# this is output of Label Propagation vs what we need\n",
    "ceo = pd.read_csv('../data/ceo-plantations-train-v20.csv')\n",
    "display(X_test.head())\n",
    "display(ceo.head())"
   ]
  },
  {
   "cell_type": "code",
   "execution_count": 42,
   "id": "98c13662",
   "metadata": {},
   "outputs": [
    {
     "data": {
      "text/html": [
       "<div>\n",
       "<style scoped>\n",
       "    .dataframe tbody tr th:only-of-type {\n",
       "        vertical-align: middle;\n",
       "    }\n",
       "\n",
       "    .dataframe tbody tr th {\n",
       "        vertical-align: top;\n",
       "    }\n",
       "\n",
       "    .dataframe thead th {\n",
       "        text-align: right;\n",
       "    }\n",
       "</style>\n",
       "<table border=\"1\" class=\"dataframe\">\n",
       "  <thead>\n",
       "    <tr style=\"text-align: right;\">\n",
       "      <th></th>\n",
       "      <th>lulc</th>\n",
       "      <th>label</th>\n",
       "      <th>sdpt</th>\n",
       "      <th>ttc</th>\n",
       "      <th>point_x</th>\n",
       "      <th>point_y</th>\n",
       "      <th>geometry</th>\n",
       "    </tr>\n",
       "  </thead>\n",
       "  <tbody>\n",
       "    <tr>\n",
       "      <th>0</th>\n",
       "      <td>palm</td>\n",
       "      <td>monoculture</td>\n",
       "      <td>1.0</td>\n",
       "      <td>40</td>\n",
       "      <td>-83.598904</td>\n",
       "      <td>10.540394</td>\n",
       "      <td>POINT (-83.59890 10.54039)</td>\n",
       "    </tr>\n",
       "    <tr>\n",
       "      <th>1</th>\n",
       "      <td>palm</td>\n",
       "      <td>monoculture</td>\n",
       "      <td>1.0</td>\n",
       "      <td>40</td>\n",
       "      <td>-83.780329</td>\n",
       "      <td>10.496399</td>\n",
       "      <td>POINT (-83.78033 10.49640)</td>\n",
       "    </tr>\n",
       "    <tr>\n",
       "      <th>2</th>\n",
       "      <td>palm</td>\n",
       "      <td>monoculture</td>\n",
       "      <td>1.0</td>\n",
       "      <td>40</td>\n",
       "      <td>-83.798637</td>\n",
       "      <td>10.495866</td>\n",
       "      <td>POINT (-83.79864 10.49587)</td>\n",
       "    </tr>\n",
       "    <tr>\n",
       "      <th>3</th>\n",
       "      <td>palm</td>\n",
       "      <td>monoculture</td>\n",
       "      <td>1.0</td>\n",
       "      <td>40</td>\n",
       "      <td>-83.770438</td>\n",
       "      <td>10.491470</td>\n",
       "      <td>POINT (-83.77044 10.49147)</td>\n",
       "    </tr>\n",
       "    <tr>\n",
       "      <th>4</th>\n",
       "      <td>palm</td>\n",
       "      <td>monoculture</td>\n",
       "      <td>1.0</td>\n",
       "      <td>40</td>\n",
       "      <td>-83.776915</td>\n",
       "      <td>10.492586</td>\n",
       "      <td>POINT (-83.77692 10.49259)</td>\n",
       "    </tr>\n",
       "  </tbody>\n",
       "</table>\n",
       "</div>"
      ],
      "text/plain": [
       "   lulc        label  sdpt  ttc    point_x    point_y  \\\n",
       "0  palm  monoculture   1.0   40 -83.598904  10.540394   \n",
       "1  palm  monoculture   1.0   40 -83.780329  10.496399   \n",
       "2  palm  monoculture   1.0   40 -83.798637  10.495866   \n",
       "3  palm  monoculture   1.0   40 -83.770438  10.491470   \n",
       "4  palm  monoculture   1.0   40 -83.776915  10.492586   \n",
       "\n",
       "                     geometry  \n",
       "0  POINT (-83.59890 10.54039)  \n",
       "1  POINT (-83.78033 10.49640)  \n",
       "2  POINT (-83.79864 10.49587)  \n",
       "3  POINT (-83.77044 10.49147)  \n",
       "4  POINT (-83.77692 10.49259)  "
      ]
     },
     "execution_count": 42,
     "metadata": {},
     "output_type": "execute_result"
    }
   ],
   "source": [
    "# what if we use the labeled points to generate a 14x14 grid of \n",
    "# unlabeled points and use label propagation to label each grid\n",
    "labeled.head()"
   ]
  },
  {
   "cell_type": "markdown",
   "id": "51b2bebc",
   "metadata": {},
   "source": [
    "Steps:\n",
    "1. Reproject your points to a projected CRS with metres as units\n",
    "2. Draw buffers with a radius of 50m (half of the grid size) around them with `Vector -> Geoprocessing Tools -> buffer(s)`\n",
    "3. Create the vector grid with the extent of the buffer layer and 10m spacing\n"
   ]
  },
  {
   "cell_type": "markdown",
   "id": "14f3a977",
   "metadata": {},
   "source": [
    "## Transform centroid to grid"
   ]
  },
  {
   "cell_type": "code",
   "execution_count": null,
   "id": "0cfa907d",
   "metadata": {},
   "outputs": [],
   "source": [
    "## Create a buffer around a centroid\n",
    "# https://www.earthdatascience.org/courses/use-data-open-source-python/spatial-data-applications/lidar-remote-sensing-uncertainty/extract-data-from-raster/"
   ]
  },
  {
   "cell_type": "code",
   "execution_count": null,
   "id": "5502c0d0",
   "metadata": {},
   "outputs": [],
   "source": [
    "def calculate_epsg(points: Tuple[float, float]) -> int:\n",
    "    \"\"\" Calculates the UTM EPSG of an input WGS 84 lon, lat\n",
    "\n",
    "        Parameters:\n",
    "         points (tuple): input longitiude, latitude tuple\n",
    "\n",
    "        Returns:\n",
    "         epsg_code (int): integer form of associated UTM EPSG\n",
    "    \"\"\"\n",
    "    lon, lat = points[0], points[1]\n",
    "    utm_band = str((math.floor((lon + 180) / 6) % 60) + 1)\n",
    "    if len(utm_band) == 1:\n",
    "        utm_band = '0' + utm_band\n",
    "    if lat >= 0:\n",
    "        epsg_code = '326' + utm_band\n",
    "    else:\n",
    "        epsg_code = '327' + utm_band\n",
    "    return int(epsg_code)"
   ]
  },
  {
   "cell_type": "code",
   "execution_count": null,
   "id": "dc67470f",
   "metadata": {},
   "outputs": [],
   "source": [
    "def bounding_box(point: Tuple[float, float],\n",
    "                 x_offset_max: int = 140,\n",
    "                 y_offset_max: int = 140,\n",
    "                 expansion: int = 10) -> Tuple[float, float]:\n",
    "\n",
    "    tl = point\n",
    "\n",
    "    epsg = calculate_epsg(tl)\n",
    "    tl = convertCoords(tl, 4326, epsg)\n",
    "\n",
    "    br = (tl[0], tl[1])\n",
    "    tl = ((tl[0] + (x_offset_max)), (tl[1] + (y_offset_max)))\n",
    "    distance1 = tl[0] - br[0]\n",
    "    distance2 = tl[1] - br[1]\n",
    "\n",
    "    br = [a - expansion for a in br]\n",
    "    tl = [a + expansion for a in tl]\n",
    "\n",
    "    after = [b - a for a, b in zip(br, tl)]\n",
    "    br = convertCoords(br, epsg, 4326)\n",
    "    tl = convertCoords(tl, epsg, 4326)\n",
    "\n",
    "    min_x = tl[0]  # original X offset - 10 meters\n",
    "    max_x = br[0]  # original X offset + 10*GRID_SIZE meters\n",
    "\n",
    "    min_y = tl[1]  # original Y offset - 10 meters\n",
    "    max_y = br[1]  # original Y offset + 10 meters + 140 meters\n",
    "    # (min_x, min_y), (max_x, max_y)\n",
    "    # (bl, tr)\n",
    "    return [(min_x, min_y), (max_x, max_y)]"
   ]
  },
  {
   "cell_type": "markdown",
   "id": "7d15a8cf",
   "metadata": {},
   "source": [
    "# References\n",
    "\n",
    "© ESA WorldCover project 2020 / Contains modified Copernicus Sentinel data (2020) processed by ESA WorldCover consortium"
   ]
  },
  {
   "cell_type": "code",
   "execution_count": null,
   "id": "aec2fce3",
   "metadata": {},
   "outputs": [],
   "source": [
    "## Old"
   ]
  },
  {
   "cell_type": "code",
   "execution_count": 71,
   "id": "72c59233",
   "metadata": {},
   "outputs": [
    {
     "name": "stdout",
     "output_type": "stream",
     "text": [
      "Accuracy: 1.0\n"
     ]
    }
   ],
   "source": [
    "# X = labeled[['lulc','sdpt','ttc','s1','s2']]\n",
    "# y = labeled['label']\n",
    "# X_train, X_test, y_train, y_test = train_test_split(X, y, random_state=22, stratify=y)\n",
    "\n",
    "# # apply one hot encoding to all categorical variables\n",
    "# # is this being applied to x_train/x_test\n",
    "# cat_cols = ['sdpt', 'lulc']\n",
    "# one_hot = OneHotEncoder(handle_unknown=\"ignore\")\n",
    "# preprocessor = ColumnTransformer([(\"one-hot-encoder\", one_hot, cat_cols)])\n",
    "\n",
    "# superv_model = make_pipeline(preprocessor, LogisticRegression(multi_class='multinomial', \n",
    "#                                                               solver='sag', \n",
    "#                                                               max_iter=500, \n",
    "#                                                               class_weight=class_weights,\n",
    "#                                                               random_state=22))\n",
    "# superv_model.fit(X_train, y_train)\n",
    "# yhat = superv_model.predict(X_test)\n",
    "# score = accuracy_score(y_test, yhat)\n",
    "# print(f'Accuracy: {score}')\n",
    "\n",
    "\n",
    "# extract_raster_values()\n",
    "#     values = []\n",
    "#     for point in points.geometry:\n",
    "#         x, y = point.x, point.y\n",
    "#         row, col = raster.index(x, y)\n",
    "\n",
    "#         # Check if the point is within the raster extent\n",
    "#         if 0 <= row < raster.height and 0 <= col < raster.width:\n",
    "#             value = raster.read(1, window=((row, row + 1), (col, col + 1)))\n",
    "#             values.append(value[0][0])\n",
    "#         else:\n",
    "#             values.append(np.NaN)"
   ]
  },
  {
   "cell_type": "markdown",
   "id": "18f507c0",
   "metadata": {},
   "source": [
    "### Labeled Points\n",
    "In the future, this step would be removed or ideally combined with preprocessing steps for unlabeled points. For now, will import the previously gathered labeled data."
   ]
  },
  {
   "cell_type": "code",
   "execution_count": 107,
   "id": "d3581a37",
   "metadata": {},
   "outputs": [
    {
     "name": "stdout",
     "output_type": "stream",
     "text": [
      "<class 'geopandas.geodataframe.GeoDataFrame'>\n",
      "RangeIndex: 2194 entries, 0 to 2193\n",
      "Data columns (total 8 columns):\n",
      " #   Column    Non-Null Count  Dtype   \n",
      "---  ------    --------------  -----   \n",
      " 0   lulc_v1   2194 non-null   object  \n",
      " 1   label     2194 non-null   object  \n",
      " 2   sdpt_v1   2194 non-null   object  \n",
      " 3   ttc_v1    2194 non-null   int64   \n",
      " 4   point_x   2194 non-null   float64 \n",
      " 5   point_y   2194 non-null   float64 \n",
      " 6   geometry  2194 non-null   geometry\n",
      " 7   ttc       2194 non-null   uint8   \n",
      "dtypes: float64(2), geometry(1), int64(1), object(3), uint8(1)\n",
      "memory usage: 122.3+ KB\n"
     ]
    }
   ],
   "source": [
    "label_df = gpd.read_file(f'{folder}HighConf_Point.shp')\n",
    "\n",
    "# clean up column names\n",
    "label_df.drop(columns=['Id', 'Area', 'gridcode', 'MERGE_SRC', 'ORIG_FID'], inplace=True)\n",
    "label_df.columns = map(str.lower, label_df.columns)\n",
    "label_df.rename(columns={'pclass': 'label', \n",
    "                         'ttc_thres':'ttc_v1',\n",
    "                         'lulc':'lulc_v1',\n",
    "                         'sdpt':'sdpt_v1'}, inplace=True)\n",
    "\n",
    "# clean up vals and dtypes to match what will be extracted\n",
    "label_df.sdpt_v1 = label_df.sdpt_v1.map({'NA': 0.0, 'ForestPlantation': 2.0, 'oilpalm': 1.0, 'orchard': 3.0}).astype('str')\n",
    "label_df.lulc_v1 = label_df.lulc_v1.map({'urban': 10.0, \n",
    "                                 'MatureForest': 8.0,\n",
    "                                 'mangrove':14.0,\n",
    "                                 'FPlantation':7.0,\n",
    "                                 'palm':20.0,\n",
    "                                 'bare':9.0,\n",
    "                                 'pineapple':22.0,\n",
    "                                 'coffeeAg':23.0}).astype('str')\n",
    "label_df.label = label_df.label.map({'notplantation': 0, 'monoculture': 1, 'agroforestry': 2}).astype('str')\n",
    "\n",
    "label_df['ttc'] = extract_raster_values(ttc, label_df)\n",
    "\n",
    "label_df.info()"
   ]
  },
  {
   "cell_type": "code",
   "execution_count": 180,
   "id": "c4dfc8a4",
   "metadata": {},
   "outputs": [],
   "source": [
    "# if the land cover is bare, there is no sdpt value and no ttc value, drop the sample?\n",
    "#label_df[label_df.ttc == 255]"
   ]
  },
  {
   "cell_type": "code",
   "execution_count": 96,
   "id": "2cfc4c8d",
   "metadata": {},
   "outputs": [
    {
     "data": {
      "text/plain": [
       "0    1789\n",
       "1     317\n",
       "2      88\n",
       "Name: label, dtype: int64"
      ]
     },
     "execution_count": 96,
     "metadata": {},
     "output_type": "execute_result"
    }
   ],
   "source": [
    "# 80% of the labeled data is in the non-plantation class\n",
    "label_df.label.value_counts()"
   ]
  },
  {
   "cell_type": "code",
   "execution_count": 56,
   "id": "ea11a9a7",
   "metadata": {},
   "outputs": [],
   "source": [
    "sample0 = label_df[label_df.label == '0'].sample(88)\n",
    "sample1 = label_df[label_df.label == '1'].sample(88)\n",
    "sample2 = label_df[label_df.label == '2']\n",
    "labeled_sample = pd.concat([sample1, sample2, sample0])\n",
    "labeled_sample.shape"
   ]
  }
 ],
 "metadata": {
  "kernelspec": {
   "display_name": "Python [conda env:plantations4] *",
   "language": "python",
   "name": "conda-env-plantations4-filprofile"
  },
  "language_info": {
   "codemirror_mode": {
    "name": "ipython",
    "version": 3
   },
   "file_extension": ".py",
   "mimetype": "text/x-python",
   "name": "python",
   "nbconvert_exporter": "python",
   "pygments_lexer": "ipython3",
   "version": "3.8.13"
  },
  "toc": {
   "base_numbering": 1,
   "nav_menu": {},
   "number_sections": true,
   "sideBar": true,
   "skip_h1_title": false,
   "title_cell": "Table of Contents",
   "title_sidebar": "Contents",
   "toc_cell": false,
   "toc_position": {
    "height": "calc(100% - 180px)",
    "left": "10px",
    "top": "150px",
    "width": "214.797px"
   },
   "toc_section_display": true,
   "toc_window_display": true
  },
  "varInspector": {
   "cols": {
    "lenName": 16,
    "lenType": 16,
    "lenVar": 40
   },
   "kernels_config": {
    "python": {
     "delete_cmd_postfix": "",
     "delete_cmd_prefix": "del ",
     "library": "var_list.py",
     "varRefreshCmd": "print(var_dic_list())"
    },
    "r": {
     "delete_cmd_postfix": ") ",
     "delete_cmd_prefix": "rm(",
     "library": "var_list.r",
     "varRefreshCmd": "cat(var_dic_list()) "
    }
   },
   "types_to_exclude": [
    "module",
    "function",
    "builtin_function_or_method",
    "instance",
    "_Feature"
   ],
   "window_display": false
  }
 },
 "nbformat": 4,
 "nbformat_minor": 5
}
