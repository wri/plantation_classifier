{
 "cells": [
  {
   "cell_type": "markdown",
   "id": "0996ba2b",
   "metadata": {},
   "source": [
    "# Label Propagation"
   ]
  },
  {
   "cell_type": "code",
   "execution_count": 15,
   "id": "ac339df2",
   "metadata": {},
   "outputs": [],
   "source": [
    "\n",
    "#from shapely.geometry import Point, Polygon\n",
    "import geopandas as gpd\n",
    "import requests\n",
    "from tqdm.auto import tqdm\n",
    "import numpy as np\n",
    "from sklearn.semi_supervised import LabelPropagation\n",
    "from sklearn.preprocessing import LabelEncoder\n",
    "from sklearn.linear_model import LogisticRegression\n",
    "from sklearn.metrics import accuracy_score\n",
    "import rasterio as rs\n",
    "from rasterio.mask import mask\n",
    "from rasterio.merge import merge\n",
    "import random\n",
    "import pandas as pd\n",
    "from sklearn.model_selection import train_test_split\n",
    "import matplotlib.pyplot as plt\n",
    "from rasterio.plot import show\n",
    "from sklearn.model_selection import cross_val_score\n",
    "from sklearn.metrics import roc_auc_score, f1_score, precision_score, recall_score\n",
    "from glob import glob\n",
    "import os"
   ]
  },
  {
   "cell_type": "markdown",
   "id": "24448f79",
   "metadata": {},
   "source": [
    "# Prepare Inputs"
   ]
  },
  {
   "cell_type": "markdown",
   "id": "4b5e298f",
   "metadata": {},
   "source": [
    "## Input Datasets"
   ]
  },
  {
   "cell_type": "code",
   "execution_count": 46,
   "id": "a41c07eb",
   "metadata": {},
   "outputs": [],
   "source": [
    "# gather the tile coordinates for costa rica\n",
    "# aws s3 cp s3://esa-worldcover-s2/rgbnir/2020/N08/ESA_WorldCover_10m_2020_v100_N08W083_S2RGBNIR.tif /Users/jessica.ertel/plantation_classifier/data/label_prop/costa_rica/s2/\n",
    "\n",
    "coords1 = []\n",
    "coords2 = []\n",
    "for file in glob(f'../data/label_prop/costa_rica/s2/*.tif'):\n",
    "    coords2.append(file[-20:-13])"
   ]
  },
  {
   "cell_type": "code",
   "execution_count": 43,
   "id": "f22b864a",
   "metadata": {},
   "outputs": [
    {
     "data": {
      "text/plain": [
       "['N09W085',\n",
       " 'N10W085',\n",
       " 'N11W085',\n",
       " 'N10W084',\n",
       " 'N09W084',\n",
       " 'N11W084',\n",
       " 'N08W084',\n",
       " 'N08W083',\n",
       " 'N09W083',\n",
       " 'N10W083',\n",
       " 'N11W086',\n",
       " 'N10W086',\n",
       " 'N09W086']"
      ]
     },
     "execution_count": 43,
     "metadata": {},
     "output_type": "execute_result"
    }
   ],
   "source": [
    "# s2 file downloads from s3\n",
    "coords1"
   ]
  },
  {
   "cell_type": "code",
   "execution_count": 47,
   "id": "e3e75041",
   "metadata": {},
   "outputs": [
    {
     "data": {
      "text/plain": [
       "['N11W086',\n",
       " 'N09W084',\n",
       " 'N09W083',\n",
       " 'N09W085',\n",
       " 'N08W083',\n",
       " 'N08W084',\n",
       " 'N10W086',\n",
       " 'N10W085',\n",
       " 'N10W084',\n",
       " 'N10W083',\n",
       " 'N11W085',\n",
       " 'N11W084',\n",
       " 'N09W086']"
      ]
     },
     "execution_count": 47,
     "metadata": {},
     "output_type": "execute_result"
    }
   ],
   "source": [
    "coords2"
   ]
  },
  {
   "cell_type": "code",
   "execution_count": 12,
   "id": "2f52af52",
   "metadata": {},
   "outputs": [],
   "source": [
    "# Mosaic sentinel files then clip to Costa Rica boundary\n",
    "\n",
    "def merge_and_clip(country, data):\n",
    "    \n",
    "    folder = (f'../data/label_prop/{country}/')\n",
    "\n",
    "    # now open each item in dataset reader mode (required to merge)\n",
    "    reader_mode = []\n",
    "\n",
    "    for file in glob(f'{folder}{data}/*.tif'):\n",
    "        src = rs.open(file)\n",
    "        reader_mode.append(src) \n",
    "\n",
    "    # for s2 and s1 nodata value is 0\n",
    "    mosaic, out_transform = merge(reader_mode)\n",
    "    \n",
    "    # outpath will be the new filename\n",
    "    merged = f'{folder}{country + data}_merged.tif'\n",
    "    out_meta = src.meta.copy()  \n",
    "    out_meta.update({'driver': \"GTiff\",\n",
    "                     'dtype': 'float32',  #for s2 should be uint16, float32 for s1\n",
    "                     'height': mosaic.shape[1],\n",
    "                     'width': mosaic.shape[2],\n",
    "                     'transform': out_transform,\n",
    "                     'compress':'lzw'})\n",
    "\n",
    "    with rs.open(merged, \"w\", **out_meta, BIGTIFF='YES') as dest:\n",
    "        dest.write(mosaic)\n",
    "\n",
    "    # now clip merged tif to country boundaries\n",
    "    merged = f'{folder}{country + data}_merged.tif'\n",
    "    shapefile = gpd.read_file(f'{folder}gadm41_CRI_0.shp')\n",
    "    clipped = f'{folder}{country + data}_clipped.tif'\n",
    "\n",
    "    with rs.open(merged) as src:\n",
    "        shapefile = shapefile.to_crs(src.crs)\n",
    "        out_image, out_transform = mask(src, shapefile.geometry, crop=True)\n",
    "        out_meta = src.meta.copy() \n",
    "\n",
    "    out_meta.update({\n",
    "        \"driver\":\"Gtiff\",\n",
    "        \"height\":out_image.shape[1], # height starts with shape[1]\n",
    "        \"width\":out_image.shape[2], # width starts with shape[2]\n",
    "        \"transform\":out_transform\n",
    "    })\n",
    "\n",
    "    with rs.open(clipped,'w',**out_meta, BIGTIFF='YES') as dst:\n",
    "        dst.write(out_image)\n",
    "    \n",
    "    print(f'{len(reader_mode)} tifs merged and clipped to {country}.')\n",
    "    os.remove(merged)\n",
    "    return None"
   ]
  },
  {
   "cell_type": "code",
   "execution_count": 74,
   "id": "8bb2a08e",
   "metadata": {},
   "outputs": [],
   "source": [
    "#merge_and_clip('costa_rica', 's2')"
   ]
  },
  {
   "cell_type": "code",
   "execution_count": 7,
   "id": "0aedab35",
   "metadata": {},
   "outputs": [],
   "source": [
    "## reproject the lulc dataset to espg 4326 to match other input data\n",
    "## taken verbatim from rasterio documentation w/ added compression params\n",
    "\n",
    "from rasterio.warp import calculate_default_transform, reproject, Resampling\n",
    "\n",
    "dst_crs = 'EPSG:4326'\n",
    "\n",
    "with rs.open('../data/testing/lulc_cr.tif') as src:\n",
    "    transform, width, height = calculate_default_transform(src.crs, dst_crs, src.width, src.height, *src.bounds)\n",
    "    kwargs = src.meta.copy()\n",
    "    kwargs.update({\n",
    "        'crs': dst_crs,\n",
    "        'transform': transform,\n",
    "        'width': width,\n",
    "        'height': height,\n",
    "        'compress': 'lzw',\n",
    "        'dtype': 'uint8'})\n",
    "\n",
    "    with rs.open('../data/testing/lulc_cr_reprj.tif', 'w', **kwargs) as dst:\n",
    "        for i in range(1, src.count + 1):\n",
    "            reproject(\n",
    "                source=rs.band(src, i),\n",
    "                destination=rs.band(dst, i),\n",
    "                src_transform=src.transform,\n",
    "                src_crs=src.crs,\n",
    "                dst_transform=transform,\n",
    "                dst_crs=dst_crs,\n",
    "                resampling=Resampling.nearest)"
   ]
  },
  {
   "cell_type": "markdown",
   "id": "6eaf2fed",
   "metadata": {},
   "source": [
    "## Input Points"
   ]
  },
  {
   "cell_type": "code",
   "execution_count": 21,
   "id": "9d9944d1",
   "metadata": {},
   "outputs": [],
   "source": [
    "folder = ('../data/label_prop/')\n",
    "ttc = rs.open(f'{folder}/costa_rica/CostaRica.tif')\n",
    "sdpt = gpd.read_file(f'{folder}cri_sdpt_v2.shp')\n",
    "lulc = rs.open(f'{folder}lulc_cr_2016.tif')\n",
    "cr = gpd.read_file(f'{folder}/costa_rica/gadm41_CRI_0.shp')\n",
    "hc_poly = gpd.read_file(f'{folder}HighConf_poly1.shp')\n",
    "labeled = gpd.read_file(f'{folder}HighConf_Point.shp')\n",
    "unlabeled = gpd.read_file(f'{folder}output_unlabelledPts.shp')"
   ]
  },
  {
   "cell_type": "code",
   "execution_count": 39,
   "id": "4c74e1a7",
   "metadata": {},
   "outputs": [],
   "source": [
    "s1 = rs.open(f'{folder}/costa_rica/costa_ricas1_clipped.tif')\n",
    "s2 = rs.open(f'{folder}/costa_rica/costa_ricas2_clipped.tif')"
   ]
  },
  {
   "cell_type": "code",
   "execution_count": 27,
   "id": "3dc4700e",
   "metadata": {},
   "outputs": [
    {
     "data": {
      "text/plain": [
       "((38638, 41373), (38638, 41373))"
      ]
     },
     "execution_count": 27,
     "metadata": {},
     "output_type": "execute_result"
    }
   ],
   "source": [
    "s1.shape, s2.shape"
   ]
  },
  {
   "cell_type": "markdown",
   "id": "18f507c0",
   "metadata": {},
   "source": [
    "### Labeled Points\n",
    "In the future, this step would be removed or ideally combined with preprocessing steps for unlabeled points. For now, will import the previously gathered labeled data."
   ]
  },
  {
   "cell_type": "code",
   "execution_count": 28,
   "id": "d3581a37",
   "metadata": {},
   "outputs": [
    {
     "name": "stdout",
     "output_type": "stream",
     "text": [
      "<class 'geopandas.geodataframe.GeoDataFrame'>\n",
      "RangeIndex: 2194 entries, 0 to 2193\n",
      "Data columns (total 7 columns):\n",
      " #   Column    Non-Null Count  Dtype   \n",
      "---  ------    --------------  -----   \n",
      " 0   lulc      2194 non-null   object  \n",
      " 1   label     2194 non-null   object  \n",
      " 2   sdpt      2194 non-null   object  \n",
      " 3   ttc       2194 non-null   int64   \n",
      " 4   point_x   2194 non-null   float64 \n",
      " 5   point_y   2194 non-null   float64 \n",
      " 6   geometry  2194 non-null   geometry\n",
      "dtypes: float64(2), geometry(1), int64(1), object(3)\n",
      "memory usage: 120.1+ KB\n"
     ]
    }
   ],
   "source": [
    "# clean up column names\n",
    "labeled.drop(columns=['Id', 'Area', 'gridcode', 'MERGE_SRC', 'ORIG_FID'], inplace=True)\n",
    "labeled.columns = map(str.lower, labeled.columns)\n",
    "labeled.rename(columns={'pclass': 'label', 'ttc_thres':'ttc'}, inplace=True)\n",
    "\n",
    "# clean up vals and dtypes to match what will be extracted\n",
    "labeled.sdpt = labeled.sdpt.map({'NA': 0.0, 'ForestPlantation': 2.0, 'oilpalm': 1.0, 'orchard': 3.0}).astype('str')\n",
    "labeled.lulc = labeled.lulc.map({'urban': 10.0, \n",
    "                                 'MatureForest': 8.0,\n",
    "                                 'mangrove':14.0,\n",
    "                                 'FPlantation':7.0,\n",
    "                                 'palm':20.0,\n",
    "                                 'bare':9.0,\n",
    "                                 'pineapple':22.0,\n",
    "                                 'coffeeAg':23.0}).astype('str')\n",
    "labeled.label = labeled.label.map({'notplantation': 0, 'monoculture': 1, 'agroforestry': 2}).astype('str')\n",
    "labeled.info()"
   ]
  },
  {
   "cell_type": "code",
   "execution_count": 6,
   "id": "847818ef",
   "metadata": {},
   "outputs": [
    {
     "data": {
      "image/png": "[encoded data removed]",
      "text/plain": [
       "<Figure size 1100x900 with 1 Axes>"
      ]
     },
     "metadata": {},
     "output_type": "display_data"
    }
   ],
   "source": [
    "# quick visual to get a sense of the location of labeled and unlabeled points\n",
    "ax = cr.plot(figsize=(11,9))\n",
    "labeled.plot(ax=ax, color='red', markersize=0.1)\n",
    "unlabeled.plot(ax=ax, color='black', markersize=0.1);"
   ]
  },
  {
   "cell_type": "markdown",
   "id": "87e07503",
   "metadata": {},
   "source": [
    "### Prepare Unlabeled Points"
   ]
  },
  {
   "cell_type": "code",
   "execution_count": 29,
   "id": "5a123ffb",
   "metadata": {},
   "outputs": [],
   "source": [
    "def extract_raster_values(raster, points):\n",
    "    \n",
    "    values = []\n",
    "    for point in points.geometry:\n",
    "        x, y = point.x, point.y\n",
    "        row, col = raster.index(x, y)\n",
    "\n",
    "        # Check if the point is within the raster extent\n",
    "        if 0 <= row < raster.height and 0 <= col < raster.width:\n",
    "            value = raster.read(1, window=((row, row + 1), (col, col + 1)))\n",
    "            values.append(value[0][0])\n",
    "        else:\n",
    "            values.append(np.NaN)\n",
    "            \n",
    "    return values\n"
   ]
  },
  {
   "cell_type": "code",
   "execution_count": 35,
   "id": "7f1e1f44",
   "metadata": {},
   "outputs": [],
   "source": [
    "def get_unlabeled_data(num_pts):\n",
    "    \n",
    "    '''\n",
    "    Calculates num_pts within a designated area and extracts associated \n",
    "    attributes from 3 rasters. Returns dataframe where each row\n",
    "    represents an unlabeled observation.\n",
    "    \n",
    "    '''\n",
    "    \n",
    "    # gets num_pts of unlabeled data\n",
    "    print(f'Extracting {num_pts} unlabeled points...')\n",
    "    print('(points are currently imported)')\n",
    "    \n",
    "    # for now import Kanchana's generated points\n",
    "    unlabeled = gpd.read_file('../data/label_prop/output_unlabelledPts.shp')\n",
    "    \n",
    "    # add line to avoid points on cocos island\n",
    "    # add line to drop any points that are NaN or 255 from TTC or LULC\n",
    "\n",
    "    # import ttc, sdpt and lulc data and confirm crs\n",
    "    ttc = rs.open('../data/label_prop/costa_rica/CostaRica.tif')\n",
    "    sdpt = gpd.read_file('../data/label_prop/cri_sdpt_v2.shp')\n",
    "    lulc = rs.open('../data/label_prop/lulc_cr_reprj.tif')\n",
    "    \n",
    "    assert ttc.crs == sdpt.crs == lulc.crs == unlabeled.crs\n",
    "    \n",
    "    # create new df to hold extracted attributes\n",
    "    df = pd.DataFrame(columns=['lulc', 'label', 'sdpt', 'ttc', 'point_x', 'point_y','geometry'])\n",
    "    df['geometry'] = unlabeled.geometry\n",
    "    df['point_x'] = unlabeled.geometry.x\n",
    "    df['point_y'] = unlabeled.geometry.y\n",
    "    df['lulc'] = extract_raster_values(lulc, unlabeled)\n",
    "    df['ttc'] = extract_raster_values(ttc, unlabeled)\n",
    "\n",
    "    # for sdpt must perform join\n",
    "    # forest plantations = 2.0, orchard = 7215, oil palm = 1.0\n",
    "    intersection = gpd.sjoin(unlabeled, sdpt[['originalCo', 'originalNa', 'geometry']], how='left', predicate='within')\n",
    "    df['sdpt'] = intersection['originalCo']\n",
    "    \n",
    "    # take care of null values for modeling\n",
    "    df['sdpt'] = df['sdpt'].fillna(0)\n",
    "    df['label'] = df['label'].fillna(-1)\n",
    "    \n",
    "    # drop the point on cocos island\n",
    "    df.drop(index=89, inplace=True)\n",
    "    \n",
    "    df[['lulc', 'label', 'sdpt']] = df[['lulc', 'label', 'sdpt']].astype(str)\n",
    "    df['ttc'] = df['ttc'].astype(np.int64)\n",
    "    \n",
    "    return df"
   ]
  },
  {
   "cell_type": "code",
   "execution_count": 36,
   "id": "6d816c2e",
   "metadata": {},
   "outputs": [
    {
     "name": "stdout",
     "output_type": "stream",
     "text": [
      "Extracting 2000 unlabeled points...\n",
      "(points are currently imported)\n"
     ]
    },
    {
     "data": {
      "text/html": [
       "<div>\n",
       "<style scoped>\n",
       "    .dataframe tbody tr th:only-of-type {\n",
       "        vertical-align: middle;\n",
       "    }\n",
       "\n",
       "    .dataframe tbody tr th {\n",
       "        vertical-align: top;\n",
       "    }\n",
       "\n",
       "    .dataframe thead th {\n",
       "        text-align: right;\n",
       "    }\n",
       "</style>\n",
       "<table border=\"1\" class=\"dataframe\">\n",
       "  <thead>\n",
       "    <tr style=\"text-align: right;\">\n",
       "      <th></th>\n",
       "      <th>lulc</th>\n",
       "      <th>label</th>\n",
       "      <th>sdpt</th>\n",
       "      <th>ttc</th>\n",
       "      <th>point_x</th>\n",
       "      <th>point_y</th>\n",
       "      <th>geometry</th>\n",
       "    </tr>\n",
       "  </thead>\n",
       "  <tbody>\n",
       "    <tr>\n",
       "      <th>0</th>\n",
       "      <td>7.0</td>\n",
       "      <td>-1</td>\n",
       "      <td>0.0</td>\n",
       "      <td>40</td>\n",
       "      <td>-84.483444</td>\n",
       "      <td>10.804541</td>\n",
       "      <td>POINT (-84.48344 10.80454)</td>\n",
       "    </tr>\n",
       "    <tr>\n",
       "      <th>1</th>\n",
       "      <td>8.0</td>\n",
       "      <td>-1</td>\n",
       "      <td>0.0</td>\n",
       "      <td>90</td>\n",
       "      <td>-84.434508</td>\n",
       "      <td>9.797179</td>\n",
       "      <td>POINT (-84.43451 9.79718)</td>\n",
       "    </tr>\n",
       "    <tr>\n",
       "      <th>2</th>\n",
       "      <td>8.0</td>\n",
       "      <td>-1</td>\n",
       "      <td>0.0</td>\n",
       "      <td>90</td>\n",
       "      <td>-82.612486</td>\n",
       "      <td>9.588960</td>\n",
       "      <td>POINT (-82.61249 9.58896)</td>\n",
       "    </tr>\n",
       "    <tr>\n",
       "      <th>3</th>\n",
       "      <td>6.0</td>\n",
       "      <td>-1</td>\n",
       "      <td>0.0</td>\n",
       "      <td>60</td>\n",
       "      <td>-83.161090</td>\n",
       "      <td>9.072028</td>\n",
       "      <td>POINT (-83.16109 9.07203)</td>\n",
       "    </tr>\n",
       "    <tr>\n",
       "      <th>4</th>\n",
       "      <td>8.0</td>\n",
       "      <td>-1</td>\n",
       "      <td>0.0</td>\n",
       "      <td>90</td>\n",
       "      <td>-85.567580</td>\n",
       "      <td>10.754863</td>\n",
       "      <td>POINT (-85.56758 10.75486)</td>\n",
       "    </tr>\n",
       "  </tbody>\n",
       "</table>\n",
       "</div>"
      ],
      "text/plain": [
       "  lulc label sdpt  ttc    point_x    point_y                    geometry\n",
       "0  7.0    -1  0.0   40 -84.483444  10.804541  POINT (-84.48344 10.80454)\n",
       "1  8.0    -1  0.0   90 -84.434508   9.797179   POINT (-84.43451 9.79718)\n",
       "2  8.0    -1  0.0   90 -82.612486   9.588960   POINT (-82.61249 9.58896)\n",
       "3  6.0    -1  0.0   60 -83.161090   9.072028   POINT (-83.16109 9.07203)\n",
       "4  8.0    -1  0.0   90 -85.567580  10.754863  POINT (-85.56758 10.75486)"
      ]
     },
     "execution_count": 36,
     "metadata": {},
     "output_type": "execute_result"
    }
   ],
   "source": [
    "unlab_df = get_unlabeled_data(2000)\n",
    "unlab_df.head()"
   ]
  },
  {
   "cell_type": "code",
   "execution_count": 41,
   "id": "2dfc6d41",
   "metadata": {},
   "outputs": [
    {
     "data": {
      "text/html": [
       "<div>\n",
       "<style scoped>\n",
       "    .dataframe tbody tr th:only-of-type {\n",
       "        vertical-align: middle;\n",
       "    }\n",
       "\n",
       "    .dataframe tbody tr th {\n",
       "        vertical-align: top;\n",
       "    }\n",
       "\n",
       "    .dataframe thead th {\n",
       "        text-align: right;\n",
       "    }\n",
       "</style>\n",
       "<table border=\"1\" class=\"dataframe\">\n",
       "  <thead>\n",
       "    <tr style=\"text-align: right;\">\n",
       "      <th></th>\n",
       "      <th>lulc</th>\n",
       "      <th>label</th>\n",
       "      <th>sdpt</th>\n",
       "      <th>ttc</th>\n",
       "      <th>point_x</th>\n",
       "      <th>point_y</th>\n",
       "      <th>geometry</th>\n",
       "    </tr>\n",
       "  </thead>\n",
       "  <tbody>\n",
       "    <tr>\n",
       "      <th>0</th>\n",
       "      <td>7.0</td>\n",
       "      <td>-1</td>\n",
       "      <td>0.0</td>\n",
       "      <td>40</td>\n",
       "      <td>-84.483444</td>\n",
       "      <td>10.804541</td>\n",
       "      <td>POINT (-84.48344 10.80454)</td>\n",
       "    </tr>\n",
       "    <tr>\n",
       "      <th>1</th>\n",
       "      <td>8.0</td>\n",
       "      <td>-1</td>\n",
       "      <td>0.0</td>\n",
       "      <td>90</td>\n",
       "      <td>-84.434508</td>\n",
       "      <td>9.797179</td>\n",
       "      <td>POINT (-84.43451 9.79718)</td>\n",
       "    </tr>\n",
       "    <tr>\n",
       "      <th>2</th>\n",
       "      <td>8.0</td>\n",
       "      <td>-1</td>\n",
       "      <td>0.0</td>\n",
       "      <td>90</td>\n",
       "      <td>-82.612486</td>\n",
       "      <td>9.588960</td>\n",
       "      <td>POINT (-82.61249 9.58896)</td>\n",
       "    </tr>\n",
       "    <tr>\n",
       "      <th>3</th>\n",
       "      <td>6.0</td>\n",
       "      <td>-1</td>\n",
       "      <td>0.0</td>\n",
       "      <td>60</td>\n",
       "      <td>-83.161090</td>\n",
       "      <td>9.072028</td>\n",
       "      <td>POINT (-83.16109 9.07203)</td>\n",
       "    </tr>\n",
       "    <tr>\n",
       "      <th>4</th>\n",
       "      <td>8.0</td>\n",
       "      <td>-1</td>\n",
       "      <td>0.0</td>\n",
       "      <td>90</td>\n",
       "      <td>-85.567580</td>\n",
       "      <td>10.754863</td>\n",
       "      <td>POINT (-85.56758 10.75486)</td>\n",
       "    </tr>\n",
       "    <tr>\n",
       "      <th>...</th>\n",
       "      <td>...</td>\n",
       "      <td>...</td>\n",
       "      <td>...</td>\n",
       "      <td>...</td>\n",
       "      <td>...</td>\n",
       "      <td>...</td>\n",
       "      <td>...</td>\n",
       "    </tr>\n",
       "    <tr>\n",
       "      <th>1994</th>\n",
       "      <td>4.0</td>\n",
       "      <td>-1</td>\n",
       "      <td>0.0</td>\n",
       "      <td>0</td>\n",
       "      <td>-85.059221</td>\n",
       "      <td>10.962947</td>\n",
       "      <td>POINT (-85.05922 10.96295)</td>\n",
       "    </tr>\n",
       "    <tr>\n",
       "      <th>1995</th>\n",
       "      <td>8.0</td>\n",
       "      <td>-1</td>\n",
       "      <td>0.0</td>\n",
       "      <td>90</td>\n",
       "      <td>-83.790549</td>\n",
       "      <td>10.156115</td>\n",
       "      <td>POINT (-83.79055 10.15612)</td>\n",
       "    </tr>\n",
       "    <tr>\n",
       "      <th>1996</th>\n",
       "      <td>17.0</td>\n",
       "      <td>-1</td>\n",
       "      <td>0.0</td>\n",
       "      <td>80</td>\n",
       "      <td>-84.048624</td>\n",
       "      <td>10.065363</td>\n",
       "      <td>POINT (-84.04862 10.06536)</td>\n",
       "    </tr>\n",
       "    <tr>\n",
       "      <th>1997</th>\n",
       "      <td>6.0</td>\n",
       "      <td>-1</td>\n",
       "      <td>0.0</td>\n",
       "      <td>90</td>\n",
       "      <td>-85.236940</td>\n",
       "      <td>9.779641</td>\n",
       "      <td>POINT (-85.23694 9.77964)</td>\n",
       "    </tr>\n",
       "    <tr>\n",
       "      <th>1998</th>\n",
       "      <td>8.0</td>\n",
       "      <td>-1</td>\n",
       "      <td>0.0</td>\n",
       "      <td>90</td>\n",
       "      <td>-83.374918</td>\n",
       "      <td>8.549696</td>\n",
       "      <td>POINT (-83.37492 8.54970)</td>\n",
       "    </tr>\n",
       "  </tbody>\n",
       "</table>\n",
       "<p>1999 rows × 7 columns</p>\n",
       "</div>"
      ],
      "text/plain": [
       "      lulc label sdpt  ttc    point_x    point_y                    geometry\n",
       "0      7.0    -1  0.0   40 -84.483444  10.804541  POINT (-84.48344 10.80454)\n",
       "1      8.0    -1  0.0   90 -84.434508   9.797179   POINT (-84.43451 9.79718)\n",
       "2      8.0    -1  0.0   90 -82.612486   9.588960   POINT (-82.61249 9.58896)\n",
       "3      6.0    -1  0.0   60 -83.161090   9.072028   POINT (-83.16109 9.07203)\n",
       "4      8.0    -1  0.0   90 -85.567580  10.754863  POINT (-85.56758 10.75486)\n",
       "...    ...   ...  ...  ...        ...        ...                         ...\n",
       "1994   4.0    -1  0.0    0 -85.059221  10.962947  POINT (-85.05922 10.96295)\n",
       "1995   8.0    -1  0.0   90 -83.790549  10.156115  POINT (-83.79055 10.15612)\n",
       "1996  17.0    -1  0.0   80 -84.048624  10.065363  POINT (-84.04862 10.06536)\n",
       "1997   6.0    -1  0.0   90 -85.236940   9.779641   POINT (-85.23694 9.77964)\n",
       "1998   8.0    -1  0.0   90 -83.374918   8.549696   POINT (-83.37492 8.54970)\n",
       "\n",
       "[1999 rows x 7 columns]"
      ]
     },
     "execution_count": 41,
     "metadata": {},
     "output_type": "execute_result"
    }
   ],
   "source": [
    "unlab_df.reset_index(drop=True)"
   ]
  },
  {
   "cell_type": "code",
   "execution_count": 37,
   "id": "b083e3fa",
   "metadata": {},
   "outputs": [
    {
     "data": {
      "text/html": [
       "<div>\n",
       "<style scoped>\n",
       "    .dataframe tbody tr th:only-of-type {\n",
       "        vertical-align: middle;\n",
       "    }\n",
       "\n",
       "    .dataframe tbody tr th {\n",
       "        vertical-align: top;\n",
       "    }\n",
       "\n",
       "    .dataframe thead th {\n",
       "        text-align: right;\n",
       "    }\n",
       "</style>\n",
       "<table border=\"1\" class=\"dataframe\">\n",
       "  <thead>\n",
       "    <tr style=\"text-align: right;\">\n",
       "      <th></th>\n",
       "      <th>lulc</th>\n",
       "      <th>label</th>\n",
       "      <th>sdpt</th>\n",
       "      <th>ttc</th>\n",
       "      <th>point_x</th>\n",
       "      <th>point_y</th>\n",
       "      <th>geometry</th>\n",
       "    </tr>\n",
       "  </thead>\n",
       "  <tbody>\n",
       "    <tr>\n",
       "      <th>0</th>\n",
       "      <td>20.0</td>\n",
       "      <td>1</td>\n",
       "      <td>1.0</td>\n",
       "      <td>40</td>\n",
       "      <td>-83.598904</td>\n",
       "      <td>10.540394</td>\n",
       "      <td>POINT (-83.59890 10.54039)</td>\n",
       "    </tr>\n",
       "    <tr>\n",
       "      <th>1</th>\n",
       "      <td>20.0</td>\n",
       "      <td>1</td>\n",
       "      <td>1.0</td>\n",
       "      <td>40</td>\n",
       "      <td>-83.780329</td>\n",
       "      <td>10.496399</td>\n",
       "      <td>POINT (-83.78033 10.49640)</td>\n",
       "    </tr>\n",
       "    <tr>\n",
       "      <th>2</th>\n",
       "      <td>20.0</td>\n",
       "      <td>1</td>\n",
       "      <td>1.0</td>\n",
       "      <td>40</td>\n",
       "      <td>-83.798637</td>\n",
       "      <td>10.495866</td>\n",
       "      <td>POINT (-83.79864 10.49587)</td>\n",
       "    </tr>\n",
       "    <tr>\n",
       "      <th>3</th>\n",
       "      <td>20.0</td>\n",
       "      <td>1</td>\n",
       "      <td>1.0</td>\n",
       "      <td>40</td>\n",
       "      <td>-83.770438</td>\n",
       "      <td>10.491470</td>\n",
       "      <td>POINT (-83.77044 10.49147)</td>\n",
       "    </tr>\n",
       "    <tr>\n",
       "      <th>4</th>\n",
       "      <td>20.0</td>\n",
       "      <td>1</td>\n",
       "      <td>1.0</td>\n",
       "      <td>40</td>\n",
       "      <td>-83.776915</td>\n",
       "      <td>10.492586</td>\n",
       "      <td>POINT (-83.77692 10.49259)</td>\n",
       "    </tr>\n",
       "  </tbody>\n",
       "</table>\n",
       "</div>"
      ],
      "text/plain": [
       "   lulc label sdpt  ttc    point_x    point_y                    geometry\n",
       "0  20.0     1  1.0   40 -83.598904  10.540394  POINT (-83.59890 10.54039)\n",
       "1  20.0     1  1.0   40 -83.780329  10.496399  POINT (-83.78033 10.49640)\n",
       "2  20.0     1  1.0   40 -83.798637  10.495866  POINT (-83.79864 10.49587)\n",
       "3  20.0     1  1.0   40 -83.770438  10.491470  POINT (-83.77044 10.49147)\n",
       "4  20.0     1  1.0   40 -83.776915  10.492586  POINT (-83.77692 10.49259)"
      ]
     },
     "execution_count": 37,
     "metadata": {},
     "output_type": "execute_result"
    }
   ],
   "source": [
    "label_df = labeled\n",
    "label_df.head()"
   ]
  },
  {
   "cell_type": "code",
   "execution_count": 60,
   "id": "b9ac1988",
   "metadata": {},
   "outputs": [],
   "source": [
    "## extract Sentinel-1 and Sentinel-2 values for labeled and unlabeled data\n",
    "unlab_df['s1'] = pd.Series(extract_raster_values(s1, unlabeled), dtype=np.float32)\n",
    "label_df['s1'] = extract_raster_values(s1, labeled)\n",
    "unlab_df['s2'] = pd.Series(extract_raster_values(s2, unlabeled), dtype=np.float32)\n",
    "label_df['s2'] = extract_raster_values(s2, labeled)"
   ]
  },
  {
   "cell_type": "code",
   "execution_count": 61,
   "id": "704d22c9",
   "metadata": {},
   "outputs": [
    {
     "data": {
      "text/html": [
       "<div>\n",
       "<style scoped>\n",
       "    .dataframe tbody tr th:only-of-type {\n",
       "        vertical-align: middle;\n",
       "    }\n",
       "\n",
       "    .dataframe tbody tr th {\n",
       "        vertical-align: top;\n",
       "    }\n",
       "\n",
       "    .dataframe thead th {\n",
       "        text-align: right;\n",
       "    }\n",
       "</style>\n",
       "<table border=\"1\" class=\"dataframe\">\n",
       "  <thead>\n",
       "    <tr style=\"text-align: right;\">\n",
       "      <th></th>\n",
       "      <th>lulc</th>\n",
       "      <th>label</th>\n",
       "      <th>sdpt</th>\n",
       "      <th>ttc</th>\n",
       "      <th>point_x</th>\n",
       "      <th>point_y</th>\n",
       "      <th>geometry</th>\n",
       "      <th>s1</th>\n",
       "      <th>s2</th>\n",
       "    </tr>\n",
       "  </thead>\n",
       "  <tbody>\n",
       "    <tr>\n",
       "      <th>0</th>\n",
       "      <td>7.0</td>\n",
       "      <td>-1</td>\n",
       "      <td>0.0</td>\n",
       "      <td>40</td>\n",
       "      <td>-84.483444</td>\n",
       "      <td>10.804541</td>\n",
       "      <td>POINT (-84.48344 10.80454)</td>\n",
       "      <td>38442.0</td>\n",
       "      <td>461.0</td>\n",
       "    </tr>\n",
       "    <tr>\n",
       "      <th>1</th>\n",
       "      <td>8.0</td>\n",
       "      <td>-1</td>\n",
       "      <td>0.0</td>\n",
       "      <td>90</td>\n",
       "      <td>-84.434508</td>\n",
       "      <td>9.797179</td>\n",
       "      <td>POINT (-84.43451 9.79718)</td>\n",
       "      <td>39227.0</td>\n",
       "      <td>411.0</td>\n",
       "    </tr>\n",
       "    <tr>\n",
       "      <th>2</th>\n",
       "      <td>8.0</td>\n",
       "      <td>-1</td>\n",
       "      <td>0.0</td>\n",
       "      <td>90</td>\n",
       "      <td>-82.612486</td>\n",
       "      <td>9.588960</td>\n",
       "      <td>POINT (-82.61249 9.58896)</td>\n",
       "      <td>37954.0</td>\n",
       "      <td>260.0</td>\n",
       "    </tr>\n",
       "    <tr>\n",
       "      <th>3</th>\n",
       "      <td>6.0</td>\n",
       "      <td>-1</td>\n",
       "      <td>0.0</td>\n",
       "      <td>60</td>\n",
       "      <td>-83.161090</td>\n",
       "      <td>9.072028</td>\n",
       "      <td>POINT (-83.16109 9.07203)</td>\n",
       "      <td>0.0</td>\n",
       "      <td>323.0</td>\n",
       "    </tr>\n",
       "    <tr>\n",
       "      <th>4</th>\n",
       "      <td>8.0</td>\n",
       "      <td>-1</td>\n",
       "      <td>0.0</td>\n",
       "      <td>90</td>\n",
       "      <td>-85.567580</td>\n",
       "      <td>10.754863</td>\n",
       "      <td>POINT (-85.56758 10.75486)</td>\n",
       "      <td>38855.0</td>\n",
       "      <td>387.0</td>\n",
       "    </tr>\n",
       "  </tbody>\n",
       "</table>\n",
       "</div>"
      ],
      "text/plain": [
       "  lulc label sdpt  ttc    point_x    point_y                    geometry  \\\n",
       "0  7.0    -1  0.0   40 -84.483444  10.804541  POINT (-84.48344 10.80454)   \n",
       "1  8.0    -1  0.0   90 -84.434508   9.797179   POINT (-84.43451 9.79718)   \n",
       "2  8.0    -1  0.0   90 -82.612486   9.588960   POINT (-82.61249 9.58896)   \n",
       "3  6.0    -1  0.0   60 -83.161090   9.072028   POINT (-83.16109 9.07203)   \n",
       "4  8.0    -1  0.0   90 -85.567580  10.754863  POINT (-85.56758 10.75486)   \n",
       "\n",
       "        s1     s2  \n",
       "0  38442.0  461.0  \n",
       "1  39227.0  411.0  \n",
       "2  37954.0  260.0  \n",
       "3      0.0  323.0  \n",
       "4  38855.0  387.0  "
      ]
     },
     "execution_count": 61,
     "metadata": {},
     "output_type": "execute_result"
    }
   ],
   "source": [
    "unlab_df.head()"
   ]
  },
  {
   "cell_type": "code",
   "execution_count": 62,
   "id": "fc117252",
   "metadata": {},
   "outputs": [
    {
     "data": {
      "text/html": [
       "<div>\n",
       "<style scoped>\n",
       "    .dataframe tbody tr th:only-of-type {\n",
       "        vertical-align: middle;\n",
       "    }\n",
       "\n",
       "    .dataframe tbody tr th {\n",
       "        vertical-align: top;\n",
       "    }\n",
       "\n",
       "    .dataframe thead th {\n",
       "        text-align: right;\n",
       "    }\n",
       "</style>\n",
       "<table border=\"1\" class=\"dataframe\">\n",
       "  <thead>\n",
       "    <tr style=\"text-align: right;\">\n",
       "      <th></th>\n",
       "      <th>lulc</th>\n",
       "      <th>label</th>\n",
       "      <th>sdpt</th>\n",
       "      <th>ttc</th>\n",
       "      <th>point_x</th>\n",
       "      <th>point_y</th>\n",
       "      <th>geometry</th>\n",
       "      <th>s1</th>\n",
       "      <th>s2</th>\n",
       "    </tr>\n",
       "  </thead>\n",
       "  <tbody>\n",
       "    <tr>\n",
       "      <th>0</th>\n",
       "      <td>20.0</td>\n",
       "      <td>1</td>\n",
       "      <td>1.0</td>\n",
       "      <td>40</td>\n",
       "      <td>-83.598904</td>\n",
       "      <td>10.540394</td>\n",
       "      <td>POINT (-83.59890 10.54039)</td>\n",
       "      <td>39298.0</td>\n",
       "      <td>272.0</td>\n",
       "    </tr>\n",
       "    <tr>\n",
       "      <th>1</th>\n",
       "      <td>20.0</td>\n",
       "      <td>1</td>\n",
       "      <td>1.0</td>\n",
       "      <td>40</td>\n",
       "      <td>-83.780329</td>\n",
       "      <td>10.496399</td>\n",
       "      <td>POINT (-83.78033 10.49640)</td>\n",
       "      <td>39399.0</td>\n",
       "      <td>293.0</td>\n",
       "    </tr>\n",
       "    <tr>\n",
       "      <th>2</th>\n",
       "      <td>20.0</td>\n",
       "      <td>1</td>\n",
       "      <td>1.0</td>\n",
       "      <td>40</td>\n",
       "      <td>-83.798637</td>\n",
       "      <td>10.495866</td>\n",
       "      <td>POINT (-83.79864 10.49587)</td>\n",
       "      <td>39381.0</td>\n",
       "      <td>436.0</td>\n",
       "    </tr>\n",
       "    <tr>\n",
       "      <th>3</th>\n",
       "      <td>20.0</td>\n",
       "      <td>1</td>\n",
       "      <td>1.0</td>\n",
       "      <td>40</td>\n",
       "      <td>-83.770438</td>\n",
       "      <td>10.491470</td>\n",
       "      <td>POINT (-83.77044 10.49147)</td>\n",
       "      <td>39185.0</td>\n",
       "      <td>320.0</td>\n",
       "    </tr>\n",
       "    <tr>\n",
       "      <th>4</th>\n",
       "      <td>20.0</td>\n",
       "      <td>1</td>\n",
       "      <td>1.0</td>\n",
       "      <td>40</td>\n",
       "      <td>-83.776915</td>\n",
       "      <td>10.492586</td>\n",
       "      <td>POINT (-83.77692 10.49259)</td>\n",
       "      <td>38971.0</td>\n",
       "      <td>333.0</td>\n",
       "    </tr>\n",
       "  </tbody>\n",
       "</table>\n",
       "</div>"
      ],
      "text/plain": [
       "   lulc label sdpt  ttc    point_x    point_y                    geometry  \\\n",
       "0  20.0     1  1.0   40 -83.598904  10.540394  POINT (-83.59890 10.54039)   \n",
       "1  20.0     1  1.0   40 -83.780329  10.496399  POINT (-83.78033 10.49640)   \n",
       "2  20.0     1  1.0   40 -83.798637  10.495866  POINT (-83.79864 10.49587)   \n",
       "3  20.0     1  1.0   40 -83.770438  10.491470  POINT (-83.77044 10.49147)   \n",
       "4  20.0     1  1.0   40 -83.776915  10.492586  POINT (-83.77692 10.49259)   \n",
       "\n",
       "        s1     s2  \n",
       "0  39298.0  272.0  \n",
       "1  39399.0  293.0  \n",
       "2  39381.0  436.0  \n",
       "3  39185.0  320.0  \n",
       "4  38971.0  333.0  "
      ]
     },
     "execution_count": 62,
     "metadata": {},
     "output_type": "execute_result"
    }
   ],
   "source": [
    "label_df.head()"
   ]
  },
  {
   "cell_type": "code",
   "execution_count": 83,
   "id": "2041e0c7",
   "metadata": {},
   "outputs": [
    {
     "data": {
      "text/plain": [
       "80    658\n",
       "5     538\n",
       "50    361\n",
       "40    317\n",
       "1     232\n",
       "30     88\n",
       "Name: ttc, dtype: int64"
      ]
     },
     "execution_count": 83,
     "metadata": {},
     "output_type": "execute_result"
    }
   ],
   "source": [
    "## what to do w/ ttc values\n",
    "labeled.ttc.value_counts()"
   ]
  },
  {
   "cell_type": "code",
   "execution_count": 84,
   "id": "e9ca7297",
   "metadata": {},
   "outputs": [
    {
     "data": {
      "text/plain": [
       "90     953\n",
       "0      519\n",
       "80     178\n",
       "60      81\n",
       "40      72\n",
       "70      52\n",
       "255     50\n",
       "50      37\n",
       "20      32\n",
       "30      25\n",
       "Name: ttc, dtype: int64"
      ]
     },
     "execution_count": 84,
     "metadata": {},
     "output_type": "execute_result"
    }
   ],
   "source": [
    "unlabeled.ttc.value_counts()"
   ]
  },
  {
   "cell_type": "markdown",
   "id": "4dacdecc",
   "metadata": {},
   "source": [
    "## Prepare Model Input\n",
    "Confirm that the labeled and unlabeled dataframes match so they can be combined as input to the models."
   ]
  },
  {
   "cell_type": "code",
   "execution_count": 65,
   "id": "eb7151e1",
   "metadata": {},
   "outputs": [],
   "source": [
    "labeled = label_df\n",
    "unlabeled = unlab_df"
   ]
  },
  {
   "cell_type": "code",
   "execution_count": 63,
   "id": "7eef19be",
   "metadata": {},
   "outputs": [
    {
     "name": "stdout",
     "output_type": "stream",
     "text": [
      "<class 'geopandas.geodataframe.GeoDataFrame'>\n",
      "RangeIndex: 2194 entries, 0 to 2193\n",
      "Data columns (total 9 columns):\n",
      " #   Column    Non-Null Count  Dtype   \n",
      "---  ------    --------------  -----   \n",
      " 0   lulc      2194 non-null   object  \n",
      " 1   label     2194 non-null   object  \n",
      " 2   sdpt      2194 non-null   object  \n",
      " 3   ttc       2194 non-null   int64   \n",
      " 4   point_x   2194 non-null   float64 \n",
      " 5   point_y   2194 non-null   float64 \n",
      " 6   geometry  2194 non-null   geometry\n",
      " 7   s1        2194 non-null   float32 \n",
      " 8   s2        2194 non-null   float32 \n",
      "dtypes: float32(2), float64(2), geometry(1), int64(1), object(3)\n",
      "memory usage: 137.2+ KB\n"
     ]
    },
    {
     "data": {
      "text/plain": [
       "None"
      ]
     },
     "metadata": {},
     "output_type": "display_data"
    },
    {
     "name": "stdout",
     "output_type": "stream",
     "text": [
      "<class 'pandas.core.frame.DataFrame'>\n",
      "Int64Index: 1999 entries, 0 to 1999\n",
      "Data columns (total 9 columns):\n",
      " #   Column    Non-Null Count  Dtype   \n",
      "---  ------    --------------  -----   \n",
      " 0   lulc      1999 non-null   object  \n",
      " 1   label     1999 non-null   object  \n",
      " 2   sdpt      1999 non-null   object  \n",
      " 3   ttc       1999 non-null   int64   \n",
      " 4   point_x   1999 non-null   float64 \n",
      " 5   point_y   1999 non-null   float64 \n",
      " 6   geometry  1999 non-null   geometry\n",
      " 7   s1        1999 non-null   float32 \n",
      " 8   s2        1999 non-null   float32 \n",
      "dtypes: float32(2), float64(2), geometry(1), int64(1), object(3)\n",
      "memory usage: 140.6+ KB\n"
     ]
    },
    {
     "data": {
      "text/plain": [
       "None"
      ]
     },
     "metadata": {},
     "output_type": "display_data"
    }
   ],
   "source": [
    "display(label_df.info())\n",
    "display(unlab_df.info())"
   ]
  },
  {
   "cell_type": "code",
   "execution_count": 66,
   "id": "70919b60",
   "metadata": {
    "scrolled": true
   },
   "outputs": [
    {
     "name": "stdout",
     "output_type": "stream",
     "text": [
      "Labeled Train Set: (1645, 5) (1645,)\n",
      "Unlabeled Train Set: (1999, 5) (1999,)\n",
      "Test Set: (549, 5) (549,)\n"
     ]
    }
   ],
   "source": [
    "X = labeled[['lulc','sdpt','ttc','s1','s2']]\n",
    "y = labeled['label']\n",
    "\n",
    "Xun = unlabeled[['lulc','sdpt','ttc','s1','s2']]\n",
    "yun = unlabeled['label']\n",
    "\n",
    "# train test split on labeled data--maintain proportions with stratify=y\n",
    "X_train, X_test, y_train, y_test = train_test_split(X, y, random_state=22, stratify=y)\n",
    "\n",
    "print('Labeled Train Set:', X_train.shape, y_train.shape)\n",
    "print('Unlabeled Train Set:', Xun.shape, yun.shape)\n",
    "print('Test Set:', X_test.shape, y_test.shape)"
   ]
  },
  {
   "cell_type": "code",
   "execution_count": 67,
   "id": "13f8edff",
   "metadata": {},
   "outputs": [
    {
     "data": {
      "text/plain": [
       "0    1789\n",
       "1     317\n",
       "2      88\n",
       "Name: label, dtype: int64"
      ]
     },
     "metadata": {},
     "output_type": "display_data"
    },
    {
     "data": {
      "text/plain": [
       "-1    1999\n",
       "Name: label, dtype: int64"
      ]
     },
     "metadata": {},
     "output_type": "display_data"
    }
   ],
   "source": [
    "# check class distribution\n",
    "display(y.value_counts())\n",
    "display(yun.value_counts())"
   ]
  },
  {
   "cell_type": "markdown",
   "id": "1a7950bf",
   "metadata": {},
   "source": [
    "## Supervised Learning: Logistic Regression\n",
    "Perform an initial supervised learning exercise using only the labeled data (to create a baseline for comparison)."
   ]
  },
  {
   "cell_type": "code",
   "execution_count": 69,
   "id": "2ded9aa5",
   "metadata": {},
   "outputs": [],
   "source": [
    "from sklearn.compose import make_column_selector as selector\n",
    "from sklearn.preprocessing import OneHotEncoder\n",
    "from sklearn.compose import ColumnTransformer\n",
    "from sklearn.pipeline import make_pipeline\n",
    "from sklearn.utils.class_weight import compute_class_weight"
   ]
  },
  {
   "cell_type": "code",
   "execution_count": 70,
   "id": "6f566d1e",
   "metadata": {},
   "outputs": [
    {
     "data": {
      "text/plain": [
       "{'0': 0.40889883171762365, '1': 2.303921568627451, '2': 8.308080808080808}"
      ]
     },
     "execution_count": 70,
     "metadata": {},
     "output_type": "execute_result"
    }
   ],
   "source": [
    "# calc weighting to balance classes\n",
    "classes = np.unique(y_train)\n",
    "weights = compute_class_weight(class_weight='balanced', classes=classes, y=y_train)\n",
    "class_weights = dict(zip(classes, weights)) \n",
    "class_weights"
   ]
  },
  {
   "cell_type": "code",
   "execution_count": 85,
   "id": "e6dadbe9",
   "metadata": {},
   "outputs": [
    {
     "name": "stderr",
     "output_type": "stream",
     "text": [
      "/Users/jessica.ertel/opt/anaconda3/envs/plantations4/lib/python3.8/site-packages/sklearn/linear_model/_sag.py:350: ConvergenceWarning: The max_iter was reached which means the coef_ did not converge\n",
      "  warnings.warn(\n",
      "/Users/jessica.ertel/opt/anaconda3/envs/plantations4/lib/python3.8/site-packages/sklearn/linear_model/_sag.py:350: ConvergenceWarning: The max_iter was reached which means the coef_ did not converge\n",
      "  warnings.warn(\n",
      "/Users/jessica.ertel/opt/anaconda3/envs/plantations4/lib/python3.8/site-packages/sklearn/linear_model/_sag.py:350: ConvergenceWarning: The max_iter was reached which means the coef_ did not converge\n",
      "  warnings.warn(\n",
      "/Users/jessica.ertel/opt/anaconda3/envs/plantations4/lib/python3.8/site-packages/sklearn/linear_model/_sag.py:350: ConvergenceWarning: The max_iter was reached which means the coef_ did not converge\n",
      "  warnings.warn(\n",
      "/Users/jessica.ertel/opt/anaconda3/envs/plantations4/lib/python3.8/site-packages/sklearn/metrics/_classification.py:1334: UndefinedMetricWarning: Precision is ill-defined and being set to 0.0 in labels with no predicted samples. Use `zero_division` parameter to control this behavior.\n",
      "  _warn_prf(average, modifier, msg_start, len(result))\n"
     ]
    },
    {
     "data": {
      "text/plain": [
       "(0.43777449820288156,\n",
       " 0.5082066869300912,\n",
       " 0.517304189435337,\n",
       " 0.565446332178541,\n",
       " 0.6545164628870993,\n",
       " 0.517304189435337)"
      ]
     },
     "execution_count": 85,
     "metadata": {},
     "output_type": "execute_result"
    }
   ],
   "source": [
    "## without pipeline\n",
    "X = labeled[['lulc','sdpt','ttc','s1','s2']]\n",
    "y = labeled['label']\n",
    "X_train, X_test, y_train, y_test = train_test_split(X, y, random_state=22, stratify=y)\n",
    "\n",
    "X_train = pd.get_dummies(X_train, columns = ['lulc', 'sdpt', 'ttc'])\n",
    "X_test = pd.get_dummies(X_test, columns = ['lulc', 'sdpt', 'ttc'])\n",
    "\n",
    "model = LogisticRegression(multi_class='multinomial', \n",
    "                          solver='saga', # only ‘newton-cg’, ‘sag’, ‘saga’ and ‘lbfgs’ for multiclass\n",
    "                          max_iter=8000, \n",
    "                          class_weight=class_weights,\n",
    "                          random_state=22)\n",
    "\n",
    "model.fit(X_train, y_train)\n",
    "cv = cross_val_score(model, X_train, y_train, cv=3).mean()\n",
    "train_score = model.score(X_train, y_train)\n",
    "test_score = model.score(X_test, y_test)\n",
    "probs = model.predict_proba(X_test)\n",
    "pred = model.predict(X_test)\n",
    "f1 = f1_score(y_test, pred, average='weighted')\n",
    "precision = precision_score(y_test, pred, average='weighted')\n",
    "recall = recall_score(y_test, pred, average='weighted')  \n",
    "cv, train_score, test_score, f1, precision, recall"
   ]
  },
  {
   "cell_type": "code",
   "execution_count": 73,
   "id": "abee9660",
   "metadata": {},
   "outputs": [
    {
     "data": {
      "text/plain": [
       "array(['2', '1', '2', '2', '1', '2', '1', '2', '2', '1', '1', '2', '2',\n",
       "       '2', '2', '2', '1', '1', '2', '2', '2', '1', '2', '2', '1', '2',\n",
       "       '2', '2', '2', '1', '2', '0', '1', '2', '2', '2', '0', '1', '1',\n",
       "       '2', '2', '2', '1', '2', '2', '2', '2', '0', '2', '2', '2', '1',\n",
       "       '2', '2', '2', '2', '1', '2', '2', '1', '2', '1', '2', '2', '2',\n",
       "       '2', '2', '2', '2', '2', '2', '1', '2', '2', '1', '2', '2', '2',\n",
       "       '2', '2', '2', '1', '2', '0', '2', '2', '2', '1', '2', '2', '2',\n",
       "       '2', '2', '2', '2', '2', '1', '2', '2', '2', '2', '2', '1', '2',\n",
       "       '1', '2', '2', '1', '1', '2', '2', '2', '0', '1', '2', '1', '2',\n",
       "       '1', '2', '2', '2', '1', '2', '2', '2', '1', '2', '2', '1', '2',\n",
       "       '1', '2', '0', '2', '0', '2', '2', '2', '1', '1', '2', '0', '2',\n",
       "       '1', '1', '2', '2', '1', '2', '2', '2', '2', '2', '1', '1', '1',\n",
       "       '2', '1', '2', '2', '2', '1', '1', '2', '2', '2', '1', '2', '1',\n",
       "       '2', '1', '1', '2', '0', '2', '1', '2', '1', '2', '2', '1', '2',\n",
       "       '1', '1', '2', '2', '1', '0', '2', '1', '2', '2', '2', '2', '2',\n",
       "       '1', '2', '1', '1', '1', '2', '1', '2', '2', '2', '2', '2', '2',\n",
       "       '1', '1', '2', '1', '1', '2', '2', '2', '1', '1', '2', '2', '2',\n",
       "       '2', '1', '2', '2', '1', '0', '0', '2', '0', '2', '2', '2', '2',\n",
       "       '2', '1', '2', '2', '2', '2', '1', '1', '2', '2', '1', '2', '2',\n",
       "       '2', '2', '2', '1', '2', '0', '2', '1', '2', '2', '1', '1', '2',\n",
       "       '1', '2', '2', '2', '2', '1', '2', '0', '0', '2', '2', '2', '2',\n",
       "       '2', '2', '2', '2', '1', '1', '1', '2', '2', '2', '2', '0', '2',\n",
       "       '1', '2', '1', '0', '2', '2', '2', '0', '1', '2', '1', '2', '2',\n",
       "       '2', '1', '2', '1', '2', '2', '2', '2', '2', '2', '1', '2', '2',\n",
       "       '1', '0', '2', '1', '2', '2', '1', '2', '1', '2', '1', '2', '2',\n",
       "       '2', '2', '1', '2', '1', '2', '1', '2', '1', '2', '0', '2', '0',\n",
       "       '2', '0', '1', '1', '1', '2', '2', '1', '0', '1', '2', '1', '1',\n",
       "       '1', '2', '2', '2', '2', '1', '1', '1', '2', '2', '1', '2', '2',\n",
       "       '1', '2', '2', '1', '2', '2', '2', '2', '2', '1', '1', '2', '2',\n",
       "       '2', '2', '2', '2', '1', '1', '1', '0', '1', '2', '2', '1', '2',\n",
       "       '2', '2', '2', '2', '2', '2', '1', '2', '1', '1', '2', '1', '2',\n",
       "       '2', '2', '2', '2', '2', '2', '2', '2', '2', '1', '2', '2', '2',\n",
       "       '2', '0', '0', '2', '2', '2', '2', '2', '0', '2', '2', '1', '2',\n",
       "       '2', '2', '2', '1', '2', '1', '2', '1', '1', '2', '2', '1', '2',\n",
       "       '1', '2', '2', '1', '1', '1', '2', '2', '1', '2', '2', '2', '2',\n",
       "       '1', '1', '2', '2', '2', '1', '1', '0', '2', '2', '2', '2', '2',\n",
       "       '2', '2', '1', '1', '2', '2', '2', '1', '1', '2', '2', '2', '2',\n",
       "       '2', '1', '2', '2', '2', '1', '0', '1', '2', '2', '2', '1', '1',\n",
       "       '1', '0', '2', '2', '1', '1', '1', '2', '2', '1', '2', '1', '2',\n",
       "       '2', '1', '2', '1', '1', '2', '0', '2', '2', '1', '2', '1', '2',\n",
       "       '2', '1', '2', '2', '2', '2', '2', '2', '2', '2', '2', '0', '1',\n",
       "       '2', '1', '2', '1', '1', '2', '2', '2', '2', '2', '1', '2', '1',\n",
       "       '1', '1', '0'], dtype=object)"
      ]
     },
     "execution_count": 73,
     "metadata": {},
     "output_type": "execute_result"
    }
   ],
   "source": [
    "pred"
   ]
  },
  {
   "cell_type": "markdown",
   "id": "044085e7",
   "metadata": {},
   "source": [
    "## Semi-supervised Learning: Label Propagation\n",
    "Perform a semi-supervised learning exercise where the algorithm will have the labeled and unlabeled data. Expect the semi-supervised learning algorithm to outperform the logistic regression model fit on the labeled data alone.  \n",
    "Issue: Labels are categorical. Missing labels must be indicated by -1, however not clear that this approach works for categorical predictions because the algorithm should not be predicting that label."
   ]
  },
  {
   "cell_type": "code",
   "execution_count": 99,
   "id": "dd581404",
   "metadata": {},
   "outputs": [
    {
     "name": "stdout",
     "output_type": "stream",
     "text": [
      "Mixed Train Set: (3144, 5) (3144,)\n",
      "Test Set: (1049, 5) (1049,)\n"
     ]
    }
   ],
   "source": [
    "# create the mixed training dataset\n",
    "X = labeled[['lulc','sdpt','ttc','point_x','point_y']]\n",
    "y = labeled['label']\n",
    "\n",
    "Xun = unlabeled[['lulc','sdpt','ttc','point_x','point_y']]\n",
    "yun = unlabeled['label']\n",
    "\n",
    "X_mixed = pd.concat([X, Xun])\n",
    "y_mixed = pd.concat([y, yun])\n",
    "\n",
    "# have to train test split after to ensure train and text have same representation\n",
    "X_train, X_test, y_train, y_test = train_test_split(X_mixed, y_mixed, random_state=22, stratify=y_mixed)\n",
    "\n",
    "X_train_dum = pd.get_dummies(X_train, columns = ['lulc', 'sdpt'])\n",
    "X_test_dum = pd.get_dummies(X_test, columns = ['lulc', 'sdpt'])\n",
    "\n",
    "print('Mixed Train Set:', X_train.shape, y_train.shape)\n",
    "print('Test Set:', X_test.shape, y_test.shape)"
   ]
  },
  {
   "cell_type": "code",
   "execution_count": 100,
   "id": "cd33b67c",
   "metadata": {},
   "outputs": [
    {
     "name": "stdout",
     "output_type": "stream",
     "text": [
      "Accuracy: 0.996186844613918\n"
     ]
    }
   ],
   "source": [
    "semisuper_model = LabelPropagation()\n",
    "semisuper_model.fit(X_train_dum, y_train)\n",
    "yhat = semisuper_model.predict(X_test_dum)\n",
    "score = accuracy_score(y_test, yhat)\n",
    "print(f'Accuracy: {score}')"
   ]
  },
  {
   "cell_type": "code",
   "execution_count": 101,
   "id": "6803b4b8",
   "metadata": {},
   "outputs": [
    {
     "data": {
      "text/html": [
       "<div>\n",
       "<style scoped>\n",
       "    .dataframe tbody tr th:only-of-type {\n",
       "        vertical-align: middle;\n",
       "    }\n",
       "\n",
       "    .dataframe tbody tr th {\n",
       "        vertical-align: top;\n",
       "    }\n",
       "\n",
       "    .dataframe thead th {\n",
       "        text-align: right;\n",
       "    }\n",
       "</style>\n",
       "<table border=\"1\" class=\"dataframe\">\n",
       "  <thead>\n",
       "    <tr style=\"text-align: right;\">\n",
       "      <th></th>\n",
       "      <th>lulc</th>\n",
       "      <th>sdpt</th>\n",
       "      <th>ttc</th>\n",
       "      <th>point_x</th>\n",
       "      <th>point_y</th>\n",
       "      <th>preds</th>\n",
       "    </tr>\n",
       "  </thead>\n",
       "  <tbody>\n",
       "    <tr>\n",
       "      <th>521</th>\n",
       "      <td>22.0</td>\n",
       "      <td>3.0</td>\n",
       "      <td>5</td>\n",
       "      <td>-83.456717</td>\n",
       "      <td>9.247454</td>\n",
       "      <td>0</td>\n",
       "    </tr>\n",
       "    <tr>\n",
       "      <th>1855</th>\n",
       "      <td>8.0</td>\n",
       "      <td>0.0</td>\n",
       "      <td>90</td>\n",
       "      <td>-83.233811</td>\n",
       "      <td>9.874400</td>\n",
       "      <td>-1</td>\n",
       "    </tr>\n",
       "    <tr>\n",
       "      <th>357</th>\n",
       "      <td>6.0</td>\n",
       "      <td>0.0</td>\n",
       "      <td>90</td>\n",
       "      <td>-85.728006</td>\n",
       "      <td>10.187768</td>\n",
       "      <td>-1</td>\n",
       "    </tr>\n",
       "    <tr>\n",
       "      <th>523</th>\n",
       "      <td>22.0</td>\n",
       "      <td>3.0</td>\n",
       "      <td>5</td>\n",
       "      <td>-83.477466</td>\n",
       "      <td>9.244667</td>\n",
       "      <td>0</td>\n",
       "    </tr>\n",
       "    <tr>\n",
       "      <th>972</th>\n",
       "      <td>6.0</td>\n",
       "      <td>0.0</td>\n",
       "      <td>80</td>\n",
       "      <td>-84.899885</td>\n",
       "      <td>9.821463</td>\n",
       "      <td>-1</td>\n",
       "    </tr>\n",
       "  </tbody>\n",
       "</table>\n",
       "</div>"
      ],
      "text/plain": [
       "      lulc sdpt  ttc    point_x    point_y preds\n",
       "521   22.0  3.0    5 -83.456717   9.247454     0\n",
       "1855   8.0  0.0   90 -83.233811   9.874400    -1\n",
       "357    6.0  0.0   90 -85.728006  10.187768    -1\n",
       "523   22.0  3.0    5 -83.477466   9.244667     0\n",
       "972    6.0  0.0   80 -84.899885   9.821463    -1"
      ]
     },
     "execution_count": 101,
     "metadata": {},
     "output_type": "execute_result"
    }
   ],
   "source": [
    "X_test['preds'] = yhat\n",
    "X_test.head()"
   ]
  },
  {
   "cell_type": "code",
   "execution_count": 102,
   "id": "6840cf2f",
   "metadata": {},
   "outputs": [
    {
     "data": {
      "text/plain": [
       "array(['-1', '0', '1', '2'], dtype=object)"
      ]
     },
     "execution_count": 102,
     "metadata": {},
     "output_type": "execute_result"
    }
   ],
   "source": [
    "semisuper_model.classes_"
   ]
  },
  {
   "cell_type": "markdown",
   "id": "a03643a7",
   "metadata": {},
   "source": [
    "## Validation of outputs"
   ]
  },
  {
   "cell_type": "code",
   "execution_count": 2,
   "id": "bc7066ec",
   "metadata": {},
   "outputs": [
    {
     "data": {
      "text/html": [
       "<div>\n",
       "<style scoped>\n",
       "    .dataframe tbody tr th:only-of-type {\n",
       "        vertical-align: middle;\n",
       "    }\n",
       "\n",
       "    .dataframe tbody tr th {\n",
       "        vertical-align: top;\n",
       "    }\n",
       "\n",
       "    .dataframe thead th {\n",
       "        text-align: right;\n",
       "    }\n",
       "</style>\n",
       "<table border=\"1\" class=\"dataframe\">\n",
       "  <thead>\n",
       "    <tr style=\"text-align: right;\">\n",
       "      <th></th>\n",
       "      <th>FID</th>\n",
       "      <th>geometry</th>\n",
       "    </tr>\n",
       "  </thead>\n",
       "  <tbody>\n",
       "    <tr>\n",
       "      <th>0</th>\n",
       "      <td>0</td>\n",
       "      <td>POINT (-84.48344 10.80454)</td>\n",
       "    </tr>\n",
       "    <tr>\n",
       "      <th>1</th>\n",
       "      <td>1</td>\n",
       "      <td>POINT (-84.43451 9.79718)</td>\n",
       "    </tr>\n",
       "    <tr>\n",
       "      <th>2</th>\n",
       "      <td>2</td>\n",
       "      <td>POINT (-82.61249 9.58896)</td>\n",
       "    </tr>\n",
       "    <tr>\n",
       "      <th>3</th>\n",
       "      <td>3</td>\n",
       "      <td>POINT (-83.16109 9.07203)</td>\n",
       "    </tr>\n",
       "    <tr>\n",
       "      <th>4</th>\n",
       "      <td>4</td>\n",
       "      <td>POINT (-85.56758 10.75486)</td>\n",
       "    </tr>\n",
       "    <tr>\n",
       "      <th>...</th>\n",
       "      <td>...</td>\n",
       "      <td>...</td>\n",
       "    </tr>\n",
       "    <tr>\n",
       "      <th>1995</th>\n",
       "      <td>1995</td>\n",
       "      <td>POINT (-85.05922 10.96295)</td>\n",
       "    </tr>\n",
       "    <tr>\n",
       "      <th>1996</th>\n",
       "      <td>1996</td>\n",
       "      <td>POINT (-83.79055 10.15612)</td>\n",
       "    </tr>\n",
       "    <tr>\n",
       "      <th>1997</th>\n",
       "      <td>1997</td>\n",
       "      <td>POINT (-84.04862 10.06536)</td>\n",
       "    </tr>\n",
       "    <tr>\n",
       "      <th>1998</th>\n",
       "      <td>1998</td>\n",
       "      <td>POINT (-85.23694 9.77964)</td>\n",
       "    </tr>\n",
       "    <tr>\n",
       "      <th>1999</th>\n",
       "      <td>1999</td>\n",
       "      <td>POINT (-83.37492 8.54970)</td>\n",
       "    </tr>\n",
       "  </tbody>\n",
       "</table>\n",
       "<p>2000 rows × 2 columns</p>\n",
       "</div>"
      ],
      "text/plain": [
       "       FID                    geometry\n",
       "0        0  POINT (-84.48344 10.80454)\n",
       "1        1   POINT (-84.43451 9.79718)\n",
       "2        2   POINT (-82.61249 9.58896)\n",
       "3        3   POINT (-83.16109 9.07203)\n",
       "4        4  POINT (-85.56758 10.75486)\n",
       "...    ...                         ...\n",
       "1995  1995  POINT (-85.05922 10.96295)\n",
       "1996  1996  POINT (-83.79055 10.15612)\n",
       "1997  1997  POINT (-84.04862 10.06536)\n",
       "1998  1998   POINT (-85.23694 9.77964)\n",
       "1999  1999   POINT (-83.37492 8.54970)\n",
       "\n",
       "[2000 rows x 2 columns]"
      ]
     },
     "execution_count": 2,
     "metadata": {},
     "output_type": "execute_result"
    }
   ],
   "source": [
    "# Kanchana's output - no labels\n",
    "preds = gpd.read_file('../data/testing/preds.shp')\n",
    "preds"
   ]
  },
  {
   "cell_type": "markdown",
   "id": "311025d8",
   "metadata": {},
   "source": [
    "## What Next\n",
    "Option 1: Could we use the high confidence labeled centroids to generate a 14 x 14 grid of unlabeled points and use label propagation to label the rest of the points in the grid?\n",
    "\n",
    "Concerns:\n",
    "- some points are very close and may have overlapping grids which would need to have the same labels\n",
    "- some degree of photointerpretation still feels necessary\n",
    "- should pineapple be considered a monoculture plantation? SDPT labels pineapple as orchard\n",
    "\n",
    "Roadblock\n",
    "- in qgis cannot reproject to a crs with meters as units (points move to incorrect locations)\n"
   ]
  },
  {
   "cell_type": "code",
   "execution_count": 104,
   "id": "f6fb3dfb",
   "metadata": {},
   "outputs": [
    {
     "data": {
      "text/html": [
       "<div>\n",
       "<style scoped>\n",
       "    .dataframe tbody tr th:only-of-type {\n",
       "        vertical-align: middle;\n",
       "    }\n",
       "\n",
       "    .dataframe tbody tr th {\n",
       "        vertical-align: top;\n",
       "    }\n",
       "\n",
       "    .dataframe thead th {\n",
       "        text-align: right;\n",
       "    }\n",
       "</style>\n",
       "<table border=\"1\" class=\"dataframe\">\n",
       "  <thead>\n",
       "    <tr style=\"text-align: right;\">\n",
       "      <th></th>\n",
       "      <th>lulc</th>\n",
       "      <th>sdpt</th>\n",
       "      <th>ttc</th>\n",
       "      <th>point_x</th>\n",
       "      <th>point_y</th>\n",
       "      <th>preds</th>\n",
       "    </tr>\n",
       "  </thead>\n",
       "  <tbody>\n",
       "    <tr>\n",
       "      <th>521</th>\n",
       "      <td>22.0</td>\n",
       "      <td>3.0</td>\n",
       "      <td>5</td>\n",
       "      <td>-83.456717</td>\n",
       "      <td>9.247454</td>\n",
       "      <td>0</td>\n",
       "    </tr>\n",
       "    <tr>\n",
       "      <th>1855</th>\n",
       "      <td>8.0</td>\n",
       "      <td>0.0</td>\n",
       "      <td>90</td>\n",
       "      <td>-83.233811</td>\n",
       "      <td>9.874400</td>\n",
       "      <td>-1</td>\n",
       "    </tr>\n",
       "    <tr>\n",
       "      <th>357</th>\n",
       "      <td>6.0</td>\n",
       "      <td>0.0</td>\n",
       "      <td>90</td>\n",
       "      <td>-85.728006</td>\n",
       "      <td>10.187768</td>\n",
       "      <td>-1</td>\n",
       "    </tr>\n",
       "    <tr>\n",
       "      <th>523</th>\n",
       "      <td>22.0</td>\n",
       "      <td>3.0</td>\n",
       "      <td>5</td>\n",
       "      <td>-83.477466</td>\n",
       "      <td>9.244667</td>\n",
       "      <td>0</td>\n",
       "    </tr>\n",
       "    <tr>\n",
       "      <th>972</th>\n",
       "      <td>6.0</td>\n",
       "      <td>0.0</td>\n",
       "      <td>80</td>\n",
       "      <td>-84.899885</td>\n",
       "      <td>9.821463</td>\n",
       "      <td>-1</td>\n",
       "    </tr>\n",
       "  </tbody>\n",
       "</table>\n",
       "</div>"
      ],
      "text/plain": [
       "      lulc sdpt  ttc    point_x    point_y preds\n",
       "521   22.0  3.0    5 -83.456717   9.247454     0\n",
       "1855   8.0  0.0   90 -83.233811   9.874400    -1\n",
       "357    6.0  0.0   90 -85.728006  10.187768    -1\n",
       "523   22.0  3.0    5 -83.477466   9.244667     0\n",
       "972    6.0  0.0   80 -84.899885   9.821463    -1"
      ]
     },
     "metadata": {},
     "output_type": "display_data"
    },
    {
     "data": {
      "text/html": [
       "<div>\n",
       "<style scoped>\n",
       "    .dataframe tbody tr th:only-of-type {\n",
       "        vertical-align: middle;\n",
       "    }\n",
       "\n",
       "    .dataframe tbody tr th {\n",
       "        vertical-align: top;\n",
       "    }\n",
       "\n",
       "    .dataframe thead th {\n",
       "        text-align: right;\n",
       "    }\n",
       "</style>\n",
       "<table border=\"1\" class=\"dataframe\">\n",
       "  <thead>\n",
       "    <tr style=\"text-align: right;\">\n",
       "      <th></th>\n",
       "      <th>index</th>\n",
       "      <th>PLOT_ID</th>\n",
       "      <th>SAMPLE_ID</th>\n",
       "      <th>LON</th>\n",
       "      <th>LAT</th>\n",
       "      <th>EMAIL</th>\n",
       "      <th>FLAGGED</th>\n",
       "      <th>COLLECTION_TIME</th>\n",
       "      <th>ANALYSIS_DURATION</th>\n",
       "      <th>IMAGERY_TITLE</th>\n",
       "      <th>IMAGERY_ATTRIBUTIONS</th>\n",
       "      <th>SAMPLE_GEOM</th>\n",
       "      <th>SYSTEM</th>\n",
       "      <th>PLOT_FNAME</th>\n",
       "      <th>PLANTATION</th>\n",
       "    </tr>\n",
       "  </thead>\n",
       "  <tbody>\n",
       "    <tr>\n",
       "      <th>0</th>\n",
       "      <td>0</td>\n",
       "      <td>0</td>\n",
       "      <td>-195</td>\n",
       "      <td>-0.894849</td>\n",
       "      <td>6.116158</td>\n",
       "      <td>jessica.ertel@wri.org</td>\n",
       "      <td>False</td>\n",
       "      <td>2023-06-28 19:26</td>\n",
       "      <td>98.8 secs</td>\n",
       "      <td>Mapbox Satellite</td>\n",
       "      <td>NaN</td>\n",
       "      <td>POINT(-0.894848875934758 6.116157612001956)</td>\n",
       "      <td>Unknown</td>\n",
       "      <td>20001</td>\n",
       "      <td>255</td>\n",
       "    </tr>\n",
       "    <tr>\n",
       "      <th>1</th>\n",
       "      <td>1</td>\n",
       "      <td>0</td>\n",
       "      <td>-194</td>\n",
       "      <td>-0.894849</td>\n",
       "      <td>6.116247</td>\n",
       "      <td>jessica.ertel@wri.org</td>\n",
       "      <td>False</td>\n",
       "      <td>2023-06-28 19:26</td>\n",
       "      <td>98.8 secs</td>\n",
       "      <td>Mapbox Satellite</td>\n",
       "      <td>NaN</td>\n",
       "      <td>POINT(-0.894848875934758 6.116246932196532)</td>\n",
       "      <td>Unknown</td>\n",
       "      <td>20001</td>\n",
       "      <td>255</td>\n",
       "    </tr>\n",
       "    <tr>\n",
       "      <th>2</th>\n",
       "      <td>2</td>\n",
       "      <td>0</td>\n",
       "      <td>-193</td>\n",
       "      <td>-0.894849</td>\n",
       "      <td>6.116336</td>\n",
       "      <td>jessica.ertel@wri.org</td>\n",
       "      <td>False</td>\n",
       "      <td>2023-06-28 19:26</td>\n",
       "      <td>98.8 secs</td>\n",
       "      <td>Mapbox Satellite</td>\n",
       "      <td>NaN</td>\n",
       "      <td>POINT(-0.894848875934758 6.116336252376186)</td>\n",
       "      <td>Unknown</td>\n",
       "      <td>20001</td>\n",
       "      <td>255</td>\n",
       "    </tr>\n",
       "    <tr>\n",
       "      <th>3</th>\n",
       "      <td>3</td>\n",
       "      <td>0</td>\n",
       "      <td>-192</td>\n",
       "      <td>-0.894849</td>\n",
       "      <td>6.116426</td>\n",
       "      <td>jessica.ertel@wri.org</td>\n",
       "      <td>False</td>\n",
       "      <td>2023-06-28 19:26</td>\n",
       "      <td>98.8 secs</td>\n",
       "      <td>Mapbox Satellite</td>\n",
       "      <td>NaN</td>\n",
       "      <td>POINT(-0.894848875934758 6.116425572540933)</td>\n",
       "      <td>Unknown</td>\n",
       "      <td>20001</td>\n",
       "      <td>255</td>\n",
       "    </tr>\n",
       "    <tr>\n",
       "      <th>4</th>\n",
       "      <td>4</td>\n",
       "      <td>0</td>\n",
       "      <td>-191</td>\n",
       "      <td>-0.894849</td>\n",
       "      <td>6.116515</td>\n",
       "      <td>jessica.ertel@wri.org</td>\n",
       "      <td>False</td>\n",
       "      <td>2023-06-28 19:26</td>\n",
       "      <td>98.8 secs</td>\n",
       "      <td>Mapbox Satellite</td>\n",
       "      <td>NaN</td>\n",
       "      <td>POINT(-0.894848875934758 6.116514892690745)</td>\n",
       "      <td>Unknown</td>\n",
       "      <td>20001</td>\n",
       "      <td>255</td>\n",
       "    </tr>\n",
       "  </tbody>\n",
       "</table>\n",
       "</div>"
      ],
      "text/plain": [
       "   index  PLOT_ID  SAMPLE_ID       LON       LAT                  EMAIL  \\\n",
       "0      0        0       -195 -0.894849  6.116158  jessica.ertel@wri.org   \n",
       "1      1        0       -194 -0.894849  6.116247  jessica.ertel@wri.org   \n",
       "2      2        0       -193 -0.894849  6.116336  jessica.ertel@wri.org   \n",
       "3      3        0       -192 -0.894849  6.116426  jessica.ertel@wri.org   \n",
       "4      4        0       -191 -0.894849  6.116515  jessica.ertel@wri.org   \n",
       "\n",
       "   FLAGGED   COLLECTION_TIME ANALYSIS_DURATION     IMAGERY_TITLE  \\\n",
       "0    False  2023-06-28 19:26         98.8 secs  Mapbox Satellite   \n",
       "1    False  2023-06-28 19:26         98.8 secs  Mapbox Satellite   \n",
       "2    False  2023-06-28 19:26         98.8 secs  Mapbox Satellite   \n",
       "3    False  2023-06-28 19:26         98.8 secs  Mapbox Satellite   \n",
       "4    False  2023-06-28 19:26         98.8 secs  Mapbox Satellite   \n",
       "\n",
       "   IMAGERY_ATTRIBUTIONS                                  SAMPLE_GEOM   SYSTEM  \\\n",
       "0                   NaN  POINT(-0.894848875934758 6.116157612001956)  Unknown   \n",
       "1                   NaN  POINT(-0.894848875934758 6.116246932196532)  Unknown   \n",
       "2                   NaN  POINT(-0.894848875934758 6.116336252376186)  Unknown   \n",
       "3                   NaN  POINT(-0.894848875934758 6.116425572540933)  Unknown   \n",
       "4                   NaN  POINT(-0.894848875934758 6.116514892690745)  Unknown   \n",
       "\n",
       "   PLOT_FNAME  PLANTATION  \n",
       "0       20001         255  \n",
       "1       20001         255  \n",
       "2       20001         255  \n",
       "3       20001         255  \n",
       "4       20001         255  "
      ]
     },
     "metadata": {},
     "output_type": "display_data"
    }
   ],
   "source": [
    "# this is output of Label Propagation vs what we need\n",
    "ceo = pd.read_csv('../data/ceo-plantations-train-v20.csv')\n",
    "display(X_test.head())\n",
    "display(ceo.head())"
   ]
  },
  {
   "cell_type": "code",
   "execution_count": 42,
   "id": "98c13662",
   "metadata": {},
   "outputs": [
    {
     "data": {
      "text/html": [
       "<div>\n",
       "<style scoped>\n",
       "    .dataframe tbody tr th:only-of-type {\n",
       "        vertical-align: middle;\n",
       "    }\n",
       "\n",
       "    .dataframe tbody tr th {\n",
       "        vertical-align: top;\n",
       "    }\n",
       "\n",
       "    .dataframe thead th {\n",
       "        text-align: right;\n",
       "    }\n",
       "</style>\n",
       "<table border=\"1\" class=\"dataframe\">\n",
       "  <thead>\n",
       "    <tr style=\"text-align: right;\">\n",
       "      <th></th>\n",
       "      <th>lulc</th>\n",
       "      <th>label</th>\n",
       "      <th>sdpt</th>\n",
       "      <th>ttc</th>\n",
       "      <th>point_x</th>\n",
       "      <th>point_y</th>\n",
       "      <th>geometry</th>\n",
       "    </tr>\n",
       "  </thead>\n",
       "  <tbody>\n",
       "    <tr>\n",
       "      <th>0</th>\n",
       "      <td>palm</td>\n",
       "      <td>monoculture</td>\n",
       "      <td>1.0</td>\n",
       "      <td>40</td>\n",
       "      <td>-83.598904</td>\n",
       "      <td>10.540394</td>\n",
       "      <td>POINT (-83.59890 10.54039)</td>\n",
       "    </tr>\n",
       "    <tr>\n",
       "      <th>1</th>\n",
       "      <td>palm</td>\n",
       "      <td>monoculture</td>\n",
       "      <td>1.0</td>\n",
       "      <td>40</td>\n",
       "      <td>-83.780329</td>\n",
       "      <td>10.496399</td>\n",
       "      <td>POINT (-83.78033 10.49640)</td>\n",
       "    </tr>\n",
       "    <tr>\n",
       "      <th>2</th>\n",
       "      <td>palm</td>\n",
       "      <td>monoculture</td>\n",
       "      <td>1.0</td>\n",
       "      <td>40</td>\n",
       "      <td>-83.798637</td>\n",
       "      <td>10.495866</td>\n",
       "      <td>POINT (-83.79864 10.49587)</td>\n",
       "    </tr>\n",
       "    <tr>\n",
       "      <th>3</th>\n",
       "      <td>palm</td>\n",
       "      <td>monoculture</td>\n",
       "      <td>1.0</td>\n",
       "      <td>40</td>\n",
       "      <td>-83.770438</td>\n",
       "      <td>10.491470</td>\n",
       "      <td>POINT (-83.77044 10.49147)</td>\n",
       "    </tr>\n",
       "    <tr>\n",
       "      <th>4</th>\n",
       "      <td>palm</td>\n",
       "      <td>monoculture</td>\n",
       "      <td>1.0</td>\n",
       "      <td>40</td>\n",
       "      <td>-83.776915</td>\n",
       "      <td>10.492586</td>\n",
       "      <td>POINT (-83.77692 10.49259)</td>\n",
       "    </tr>\n",
       "  </tbody>\n",
       "</table>\n",
       "</div>"
      ],
      "text/plain": [
       "   lulc        label  sdpt  ttc    point_x    point_y  \\\n",
       "0  palm  monoculture   1.0   40 -83.598904  10.540394   \n",
       "1  palm  monoculture   1.0   40 -83.780329  10.496399   \n",
       "2  palm  monoculture   1.0   40 -83.798637  10.495866   \n",
       "3  palm  monoculture   1.0   40 -83.770438  10.491470   \n",
       "4  palm  monoculture   1.0   40 -83.776915  10.492586   \n",
       "\n",
       "                     geometry  \n",
       "0  POINT (-83.59890 10.54039)  \n",
       "1  POINT (-83.78033 10.49640)  \n",
       "2  POINT (-83.79864 10.49587)  \n",
       "3  POINT (-83.77044 10.49147)  \n",
       "4  POINT (-83.77692 10.49259)  "
      ]
     },
     "execution_count": 42,
     "metadata": {},
     "output_type": "execute_result"
    }
   ],
   "source": [
    "# what if we use the labeled points to generate a 14x14 grid of \n",
    "# unlabeled points and use label propagation to label each grid\n",
    "labeled.head()"
   ]
  },
  {
   "cell_type": "markdown",
   "id": "51b2bebc",
   "metadata": {},
   "source": [
    "Steps:\n",
    "1. Reproject your points to a projected CRS with metres as units\n",
    "2. Draw buffers with a radius of 50m (half of the grid size) around them with `Vector -> Geoprocessing Tools -> buffer(s)`\n",
    "3. Create the vector grid with the extent of the buffer layer and 10m spacing\n"
   ]
  },
  {
   "cell_type": "markdown",
   "id": "14f3a977",
   "metadata": {},
   "source": [
    "## Transform centroid to grid"
   ]
  },
  {
   "cell_type": "code",
   "execution_count": null,
   "id": "5502c0d0",
   "metadata": {},
   "outputs": [],
   "source": [
    "def calculate_epsg(points: Tuple[float, float]) -> int:\n",
    "    \"\"\" Calculates the UTM EPSG of an input WGS 84 lon, lat\n",
    "\n",
    "        Parameters:\n",
    "         points (tuple): input longitiude, latitude tuple\n",
    "\n",
    "        Returns:\n",
    "         epsg_code (int): integer form of associated UTM EPSG\n",
    "    \"\"\"\n",
    "    lon, lat = points[0], points[1]\n",
    "    utm_band = str((math.floor((lon + 180) / 6) % 60) + 1)\n",
    "    if len(utm_band) == 1:\n",
    "        utm_band = '0' + utm_band\n",
    "    if lat >= 0:\n",
    "        epsg_code = '326' + utm_band\n",
    "    else:\n",
    "        epsg_code = '327' + utm_band\n",
    "    return int(epsg_code)"
   ]
  },
  {
   "cell_type": "code",
   "execution_count": null,
   "id": "dc67470f",
   "metadata": {},
   "outputs": [],
   "source": [
    "def bounding_box(point: Tuple[float, float],\n",
    "                 x_offset_max: int = 140,\n",
    "                 y_offset_max: int = 140,\n",
    "                 expansion: int = 10) -> Tuple[float, float]:\n",
    "\n",
    "    tl = point\n",
    "\n",
    "    epsg = calculate_epsg(tl)\n",
    "    tl = convertCoords(tl, 4326, epsg)\n",
    "\n",
    "    br = (tl[0], tl[1])\n",
    "    tl = ((tl[0] + (x_offset_max)), (tl[1] + (y_offset_max)))\n",
    "    distance1 = tl[0] - br[0]\n",
    "    distance2 = tl[1] - br[1]\n",
    "\n",
    "    br = [a - expansion for a in br]\n",
    "    tl = [a + expansion for a in tl]\n",
    "\n",
    "    after = [b - a for a, b in zip(br, tl)]\n",
    "    br = convertCoords(br, epsg, 4326)\n",
    "    tl = convertCoords(tl, epsg, 4326)\n",
    "\n",
    "    min_x = tl[0]  # original X offset - 10 meters\n",
    "    max_x = br[0]  # original X offset + 10*GRID_SIZE meters\n",
    "\n",
    "    min_y = tl[1]  # original Y offset - 10 meters\n",
    "    max_y = br[1]  # original Y offset + 10 meters + 140 meters\n",
    "    # (min_x, min_y), (max_x, max_y)\n",
    "    # (bl, tr)\n",
    "    return [(min_x, min_y), (max_x, max_y)]"
   ]
  },
  {
   "cell_type": "markdown",
   "id": "7d15a8cf",
   "metadata": {},
   "source": [
    "# References\n",
    "\n",
    "© ESA WorldCover project 2020 / Contains modified Copernicus Sentinel data (2020) processed by ESA WorldCover consortium"
   ]
  },
  {
   "cell_type": "code",
   "execution_count": null,
   "id": "5117e0f5",
   "metadata": {},
   "outputs": [],
   "source": [
    "## Old"
   ]
  },
  {
   "cell_type": "code",
   "execution_count": 71,
   "id": "72c59233",
   "metadata": {},
   "outputs": [
    {
     "name": "stdout",
     "output_type": "stream",
     "text": [
      "Accuracy: 1.0\n"
     ]
    }
   ],
   "source": [
    "# X = labeled[['lulc','sdpt','ttc','s1','s2']]\n",
    "# y = labeled['label']\n",
    "# X_train, X_test, y_train, y_test = train_test_split(X, y, random_state=22, stratify=y)\n",
    "\n",
    "# # apply one hot encoding to all categorical variables\n",
    "# # is this being applied to x_train/x_test\n",
    "# cat_cols = ['sdpt', 'lulc']\n",
    "# one_hot = OneHotEncoder(handle_unknown=\"ignore\")\n",
    "# preprocessor = ColumnTransformer([(\"one-hot-encoder\", one_hot, cat_cols)])\n",
    "\n",
    "# superv_model = make_pipeline(preprocessor, LogisticRegression(multi_class='multinomial', \n",
    "#                                                               solver='sag', \n",
    "#                                                               max_iter=500, \n",
    "#                                                               class_weight=class_weights,\n",
    "#                                                               random_state=22))\n",
    "# superv_model.fit(X_train, y_train)\n",
    "# yhat = superv_model.predict(X_test)\n",
    "# score = accuracy_score(y_test, yhat)\n",
    "# print(f'Accuracy: {score}')"
   ]
  }
 ],
 "metadata": {
  "kernelspec": {
   "display_name": "Python [conda env:plantations4] *",
   "language": "python",
   "name": "conda-env-plantations4-filprofile"
  },
  "language_info": {
   "codemirror_mode": {
    "name": "ipython",
    "version": 3
   },
   "file_extension": ".py",
   "mimetype": "text/x-python",
   "name": "python",
   "nbconvert_exporter": "python",
   "pygments_lexer": "ipython3",
   "version": "3.8.13"
  },
  "toc": {
   "base_numbering": 1,
   "nav_menu": {},
   "number_sections": true,
   "sideBar": true,
   "skip_h1_title": false,
   "title_cell": "Table of Contents",
   "title_sidebar": "Contents",
   "toc_cell": false,
   "toc_position": {
    "height": "calc(100% - 180px)",
    "left": "10px",
    "top": "150px",
    "width": "214.797px"
   },
   "toc_section_display": true,
   "toc_window_display": true
  },
  "varInspector": {
   "cols": {
    "lenName": 16,
    "lenType": 16,
    "lenVar": 40
   },
   "kernels_config": {
    "python": {
     "delete_cmd_postfix": "",
     "delete_cmd_prefix": "del ",
     "library": "var_list.py",
     "varRefreshCmd": "print(var_dic_list())"
    },
    "r": {
     "delete_cmd_postfix": ") ",
     "delete_cmd_prefix": "rm(",
     "library": "var_list.r",
     "varRefreshCmd": "cat(var_dic_list()) "
    }
   },
   "types_to_exclude": [
    "module",
    "function",
    "builtin_function_or_method",
    "instance",
    "_Feature"
   ],
   "window_display": false
  }
 },
 "nbformat": 4,
 "nbformat_minor": 5
}
